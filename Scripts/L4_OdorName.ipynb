{
 "cells": [
  {
   "cell_type": "code",
   "execution_count": 1,
   "metadata": {},
   "outputs": [],
   "source": [
    "# Importing libraries\n",
    "from sklearn.model_selection import GridSearchCV, train_test_split\n",
    "from sklearn.metrics import accuracy_score\n",
    "import pandas as pd\n",
    "import numpy as np\n",
    "import seaborn as sns\n",
    "from sklearn.tree import DecisionTreeClassifier \n",
    "import matplotlib.pyplot as plt\n",
    "from sklearn.model_selection import train_test_split\n",
    "from sklearn import metrics\n",
    "from sklearn import preprocessing\n",
    "from sklearn.ensemble import RandomForestClassifier\n",
    "from sklearn.naive_bayes import GaussianNB\n",
    "from sklearn import svm\n",
    "from sklearn.linear_model import LogisticRegression\n",
    "from sklearn.neighbors import KNeighborsClassifier\n",
    "from sklearn.decomposition import PCA\n",
    "from sklearn.pipeline import make_pipeline\n",
    "from sklearn.preprocessing import StandardScaler\n",
    "from sklearn.preprocessing import scale"
   ]
  },
  {
   "cell_type": "code",
   "execution_count": 2,
   "metadata": {},
   "outputs": [],
   "source": [
    "# Visualizing 6 decimals per value\n",
    "pd.set_option('display.float_format', lambda x: '%.6f' % x)\n",
    "\n",
    "# Reading data from csv\n",
    "def load_dataset(path):\n",
    "    dataset = pd.read_csv(path, header=0, delimiter=',')\n",
    "    return dataset\n",
    "\n",
    "sensorama = load_dataset('sensorama_df.csv')"
   ]
  },
  {
   "cell_type": "code",
   "execution_count": 3,
   "metadata": {},
   "outputs": [],
   "source": [
    "# Since odor name and canonical_smiles variables are strings, we change them to a numerical value\n",
    "label_encoder = preprocessing.LabelEncoder()\n",
    "label_encoder.fit(sensorama['canonical_smiles'])\n",
    "sensorama['canonical_smiles']= label_encoder.transform(sensorama['canonical_smiles'])\n",
    "label_encoder = preprocessing.LabelEncoder()\n",
    "label_encoder.fit(sensorama['odor name'])\n",
    "sensorama['odor name']= label_encoder.transform(sensorama['odor name'])"
   ]
  },
  {
   "cell_type": "code",
   "execution_count": 4,
   "metadata": {},
   "outputs": [],
   "source": [
    "# Normalizing function\n",
    "def standarize(x_train):\n",
    "    mean = x_train.mean()\n",
    "    std = x_train.std()\n",
    "    x_train -= mean\n",
    "    x_train /= std\n",
    "\n",
    "# Normalizing data\n",
    "s= sensorama.columns\n",
    "s=s.drop(['odor level', 'cid','canonical_smiles', 'odor name'])\n",
    "for c in s:\n",
    "    standarize(sensorama[c])\n",
    "# After normalizing the data, we have NaNs values, so we change them to 0\n",
    "sensorama=sensorama.fillna(0)"
   ]
  },
  {
   "cell_type": "code",
   "execution_count": 5,
   "metadata": {},
   "outputs": [],
   "source": [
    "# Creating a new dataframe with only those molecules of odor level = 4\n",
    "sensorama_4 = []\n",
    "for i in range (0,17994):\n",
    "    if sensorama.loc[i,'odor level'] == 4:\n",
    "        sensorama_4.append(sensorama.loc[i,:])\n",
    "sensorama_4 = pd.DataFrame(sensorama_4)"
   ]
  },
  {
   "cell_type": "code",
   "execution_count": 6,
   "metadata": {},
   "outputs": [],
   "source": [
    "X = sensorama_4[[ 'xlogp','fsp3', 'small rings','arom rings','ring blocks','arom blocks','rings 3','rings 4', 'rings 5', 'rings 6',\n",
    "               'rings 7', 'rings 8', 'rings 9', 'tpsa efficiency', 'zagreb indices', 'weiner path', 'weiner polarity', 'wtpt.1',\n",
    "               'wtpt.2', 'wtpt.3', 'wtpt.4', 'wtpt.5', 'molecular weight', 'VAdjMat', 'topoPSA', 'lipinski failures', 'rotatable bonds',\n",
    "               'topo shape', 'petitjean number', 'mdec.11', 'mdec.12', 'mdec.13', 'mdec.14', 'mdec.22', 'mdec.23', 'mdec.24',\n",
    "               'mdec.33', 'mdec.34', 'mdec.44', 'mdeo.11', 'mdeo.12', 'mdeo.22', 'mden.11', 'mden.12', 'mden.13', 'mden.22',\n",
    "               'mden.23', 'mden.33', 'mlogp', 'atom p', 'atom lc', 'khs.sli', 'khs.ssbe', 'khs.ssssbe', 'khs.ssbh', 'khs.sssb',\n",
    "               'khs.ssssb', 'khs.sch3', 'khs.dch2', 'khs.ssch2', 'khs.tch', 'khs.dsch', 'khs.aach', 'khs.sssch', 'khs.ddc',\n",
    "               'khs.tsc', 'khs.dssc', 'khs.aasc', 'khs.aaac', 'khs.ssssc', 'khs.snh3', 'khs.snh2', 'khs.ssnh', 'khs.dnh', 'khs.ssnh.1',\n",
    "               'khs.aanh', 'khs.tn', 'khs.sssnh', 'khs.dsn', 'khs.aan', 'khs.sssn', 'khs.dsn.1', 'khs.aasn', 'khs.ssssn', 'khs.soh',\n",
    "               'khs.do', 'khs.sso', 'khs.aao', 'khs.sf', 'khs.ssih3', 'khs.sssih2', 'khs.ssssih', 'khs.sssssi', 'khs.sph2',\n",
    "               'khs.ssph', 'khs.sssp', 'khs.dsssp', 'khs.sssssp', 'khs.ssh', 'khs.ds', 'khs.sss', 'khs.aas', 'khs.dsss', 'khs.ddsss',\n",
    "               'khs.scl', 'khs.sGeH3', 'khs.ssGeH2', 'khs.sssGeH', 'khs.ssssGe', 'khs.sash2', 'khs.ssash', 'khs.sssas', 'khs.sssdas',\n",
    "               'khs.sssssas', 'khs.sseh', 'khs.dse', 'khs.ssse', 'khs.aase', 'khs.dssse', 'khs.ddssse', 'khs.sbr', 'khs.ssnh3', \n",
    "               'khs.sssnh2', 'khs.ssssnh', 'khs.sssssn', 'khs.si', 'khs.spbh3', 'khs.sspbh2', 'khs.ssspbh', 'khs.sssspb', 'kier 1',\n",
    "               'kier 2', 'hybRatio', 'hbdon', 'hbacc', 'fragc', 'fmf', 'eccen', 'SP.0', 'SP.1', 'SP.2', 'SP.3', 'SP.4', 'SP.5', 'SP.6',\n",
    "               'SP.7', 'VP.0', 'VP.1', 'VP.2', 'VP.3', 'VP.4', 'VP.5', 'VP.6', 'VP.7', 'SPC.4', 'SPC.5', 'SPC.6', 'VPC.4', 'VPC.5',\n",
    "               'VPC.6', 'SC.3', 'SC.4', 'SC.5', 'SC.6', 'VC.3', 'VC.4', 'VC.5', 'VC.6', 'SCH.3', 'SCH.4', 'SCH.5', 'SCH.6', 'SCH.7',\n",
    "               'VCH.3', 'VCH.4', 'VCH.3', 'VCH.4', 'VCH.5', 'VCH.6', 'VCH.7', 'C1SP1', 'C2SP1', 'C1SP2', 'C2SP2', 'C3SP2', 'C1SP3',\n",
    "               'C2SP3', 'C3SP3', 'C4SP3', 'bpol', 'bond count', 'basic group count', 'atsp1', 'atsp2' , 'atsp3', 'atsp4', 'atsp5',\n",
    "               'atsm1', 'atsm2','atsm3','atsm4','atsm5', 'natom','arom bond', 'arom atom', 'apol','alogp', 'alogp2', 'amr', 'acid']]\n",
    "y = sensorama_4['odor name']"
   ]
  },
  {
   "cell_type": "markdown",
   "metadata": {},
   "source": [
    "### ALL ODOR NAMES "
   ]
  },
  {
   "cell_type": "markdown",
   "metadata": {},
   "source": [
    "#### RANDOM FOREST"
   ]
  },
  {
   "cell_type": "code",
   "execution_count": 7,
   "metadata": {},
   "outputs": [
    {
     "name": "stdout",
     "output_type": "stream",
     "text": [
      "Accuracy:  6.331168831168831 %\n"
     ]
    },
    {
     "data": {
      "image/png": "[encoded data removed]",
      "text/plain": [
       "<Figure size 432x288 with 2 Axes>"
      ]
     },
     "metadata": {
      "needs_background": "light"
     },
     "output_type": "display_data"
    }
   ],
   "source": [
    "X_train,X_test,y_train,y_test = train_test_split(X,y,test_size=0.25,random_state=0)\n",
    "sc_X = StandardScaler()\n",
    "X_train = sc_X.fit_transform(X_train)\n",
    "X_test = sc_X.transform(X_test)\n",
    "clf = RandomForestClassifier(n_estimators=100)\n",
    "clf.fit(X_train,y_train)\n",
    "y_pred=clf.predict(X_test)\n",
    "confusion_matrix = pd.crosstab(y_test, y_pred, rownames=['Actual'], colnames=['Predicted'])\n",
    "sns.heatmap(confusion_matrix, annot=True)\n",
    "print('Accuracy: ',metrics.accuracy_score(y_test, y_pred)*100,'%')\n",
    "plt.show()"
   ]
  },
  {
   "cell_type": "markdown",
   "metadata": {},
   "source": [
    "##### Feature Importances "
   ]
  },
  {
   "cell_type": "code",
   "execution_count": 8,
   "metadata": {},
   "outputs": [
    {
     "data": {
      "image/png": "[encoded data removed]",
      "text/plain": [
       "<Figure size 432x288 with 1 Axes>"
      ]
     },
     "metadata": {
      "needs_background": "light"
     },
     "output_type": "display_data"
    }
   ],
   "source": [
    "featureImportances = pd.Series(clf.feature_importances_).sort_values(ascending=False)\n",
    "sns.barplot(x=round(featureImportances,8), y=featureImportances)\n",
    "plt.xlabel('Features Importance')\n",
    "plt.show()"
   ]
  },
  {
   "cell_type": "code",
   "execution_count": 9,
   "metadata": {},
   "outputs": [],
   "source": [
    "X = sensorama_4[[ 'xlogp','fsp3', 'small rings','arom rings','ring blocks','arom blocks','rings 3','rings 4', 'rings 5', 'rings 6',\n",
    "               'rings 7','tpsa efficiency', 'zagreb indices', 'weiner path', 'weiner polarity', 'wtpt.1',\n",
    "               'wtpt.2', 'wtpt.3', 'wtpt.4', 'wtpt.5', 'molecular weight', 'VAdjMat', 'topoPSA', 'lipinski failures', 'rotatable bonds',\n",
    "               'topo shape', 'petitjean number', 'mdec.11', 'mdec.12', 'mdec.13', 'mdec.14', 'mdec.22', 'mdec.23', 'mdec.24',\n",
    "               'mdec.33', 'mdec.34', 'mdec.44', 'mdeo.11', 'mdeo.12', 'mdeo.22', 'mden.11', 'mden.12','mden.22',\n",
    "               'mden.23', 'mden.33', 'mlogp', 'atom p', 'atom lc', \n",
    "                 'khs.sch3', 'khs.dch2', 'khs.ssch2', 'khs.tch', 'khs.dsch', 'khs.aach', 'khs.sssch', 'khs.ddc',\n",
    "               'khs.tsc', 'khs.dssc', 'khs.aasc', 'khs.aaac', 'khs.ssssc', 'khs.snh2', 'khs.ssnh.1',\n",
    "               'khs.aanh', 'khs.tn','khs.dsn', 'khs.aan', 'khs.sssn', 'khs.dsn.1', 'khs.aasn','khs.soh',\n",
    "               'khs.do', 'khs.sso', 'khs.aao', 'khs.sf', 'khs.ssih3', \n",
    "                 'khs.ssh', 'khs.ds', 'khs.sss', 'khs.aas', 'khs.dsss', 'khs.ddsss',\n",
    "               'khs.scl',\n",
    "               'kier 1',\n",
    "               'kier 2', 'hybRatio', 'hbdon', 'hbacc', 'fragc', 'fmf', 'eccen', 'SP.0', 'SP.1', 'SP.2', 'SP.3', 'SP.4', 'SP.5', 'SP.6',\n",
    "               'SP.7', 'VP.0', 'VP.1', 'VP.2', 'VP.3', 'VP.4', 'VP.5', 'VP.6', 'VP.7', 'SPC.4', 'SPC.5', 'SPC.6', 'VPC.4', 'VPC.5',\n",
    "               'VPC.6', 'SC.3', 'SC.4', 'SC.5', 'SC.6', 'VC.3', 'VC.4', 'VC.5', 'VC.6', 'SCH.3', 'SCH.4', 'SCH.5', 'SCH.6', 'SCH.7',\n",
    "               'VCH.3', 'VCH.4', 'VCH.3', 'VCH.4', 'VCH.5', 'VCH.6', 'VCH.7', 'C1SP1', 'C2SP1', 'C1SP2', 'C2SP2', 'C3SP2', 'C1SP3',\n",
    "               'C2SP3', 'C3SP3', 'C4SP3', 'bpol', 'bond count', 'basic group count', 'atsp1', 'atsp2' , 'atsp3', 'atsp4', 'atsp5',\n",
    "               'atsm1', 'atsm2','atsm3','atsm4','atsm5', 'natom', 'apol','alogp', 'alogp2', 'amr', 'acid']]\n",
    "y = sensorama_4['odor name']"
   ]
  },
  {
   "cell_type": "code",
   "execution_count": 10,
   "metadata": {},
   "outputs": [
    {
     "name": "stdout",
     "output_type": "stream",
     "text": [
      "Accuracy:  6.331168831168831 %\n"
     ]
    },
    {
     "data": {
      "image/png": "[encoded data removed]",
      "text/plain": [
       "<Figure size 432x288 with 2 Axes>"
      ]
     },
     "metadata": {
      "needs_background": "light"
     },
     "output_type": "display_data"
    }
   ],
   "source": [
    "X_train,X_test,y_train,y_test = train_test_split(X,y,test_size=0.25,random_state=0)\n",
    "sc_X = StandardScaler()\n",
    "X_train = sc_X.fit_transform(X_train)\n",
    "X_test = sc_X.transform(X_test)\n",
    "clf = RandomForestClassifier(n_estimators=100)\n",
    "clf.fit(X_train,y_train)\n",
    "y_pred=clf.predict(X_test)\n",
    "confusion_matrix = pd.crosstab(y_test, y_pred, rownames=['Actual'], colnames=['Predicted'])\n",
    "sns.heatmap(confusion_matrix, annot=True)\n",
    "print('Accuracy: ',metrics.accuracy_score(y_test, y_pred)*100,'%')\n",
    "plt.show()"
   ]
  },
  {
   "cell_type": "markdown",
   "metadata": {},
   "source": [
    "#### SUPPORT VECTOR MACHINE "
   ]
  },
  {
   "cell_type": "markdown",
   "metadata": {},
   "source": [
    "##### rbf Kernel "
   ]
  },
  {
   "cell_type": "code",
   "execution_count": 11,
   "metadata": {},
   "outputs": [
    {
     "name": "stdout",
     "output_type": "stream",
     "text": [
      "Accuracy: 6.493506493506493 %\n"
     ]
    }
   ],
   "source": [
    "X_tr, X_tst, y_tr, y_tst = train_test_split(X, y, test_size=25/100,random_state=109)\n",
    "clf = svm.SVC(kernel='rbf') # creating Support Vector Machine model\n",
    "clf.fit(X_tr, y_tr) # training the Model\n",
    "y_pr = clf.predict(X_tst) # making Predictions\n",
    "\n",
    "# Evaluating Prediction Accuracy\n",
    "print(\"Accuracy:\",metrics.accuracy_score(y_tst, y_pr)*100,\"%\")"
   ]
  },
  {
   "cell_type": "markdown",
   "metadata": {},
   "source": [
    "##### Polynomial Kernel\n"
   ]
  },
  {
   "cell_type": "code",
   "execution_count": 12,
   "metadata": {},
   "outputs": [
    {
     "name": "stdout",
     "output_type": "stream",
     "text": [
      "Accuracy: 4.058441558441558 %\n"
     ]
    }
   ],
   "source": [
    "X_tr, X_tst, y_tr, y_tst = train_test_split(X, y, test_size=25/100,random_state=109)\n",
    "clf = svm.SVC(kernel='poly') # Creating Support Vector Machine Model\n",
    "clf.fit(X_tr,y_tr) # fit classifier to training set\n",
    "y_pr = clf.predict(X_tst) # Making Predictions\n",
    "\n",
    "# Evaluating Prediction Accuracy\n",
    "print(\"Accuracy:\",metrics.accuracy_score(y_tst, y_pr)*100,\"%\")"
   ]
  },
  {
   "cell_type": "markdown",
   "metadata": {},
   "source": [
    "##### Sigmoid Kernel "
   ]
  },
  {
   "cell_type": "code",
   "execution_count": 13,
   "metadata": {},
   "outputs": [
    {
     "name": "stdout",
     "output_type": "stream",
     "text": [
      "Accuracy: 6.0064935064935066 %\n"
     ]
    }
   ],
   "source": [
    "X_tr, X_tst, y_tr, y_tst = train_test_split(X, y, test_size=25/100,random_state=109)\n",
    "clf=svm.SVC(kernel='sigmoid') # instantiate classifier with sigmoid kernel\n",
    "clf.fit(X_tr,y_tr) # fit classifier to training set\n",
    "y_pr = clf.predict(X_tst) # Making Predictions\n",
    "\n",
    "# Evaluating Prediction Accuracy\n",
    "print(\"Accuracy:\",metrics.accuracy_score(y_tst, y_pr)*100,\"%\")"
   ]
  },
  {
   "cell_type": "markdown",
   "metadata": {},
   "source": [
    "#### DECISION TREE"
   ]
  },
  {
   "cell_type": "code",
   "execution_count": 14,
   "metadata": {},
   "outputs": [
    {
     "name": "stdout",
     "output_type": "stream",
     "text": [
      "Accuracy: 4.7361299052774015 %\n"
     ]
    }
   ],
   "source": [
    "# Split dataset into training set and test set\n",
    "X_train, X_test, y_train, y_test = train_test_split(X, y, test_size=0.3, random_state=1) # 70% training and 30% test\n",
    "clf = DecisionTreeClassifier() # Create Decision Tree classifer object\n",
    "clf = clf.fit(X_train,y_train) # Train Decision Tree Classifer\n",
    "y_pred = clf.predict(X_test) # Predict the response for test dataset\n",
    "\n",
    "# how often is the classifier correct?\n",
    "print(\"Accuracy:\",metrics.accuracy_score(y_test, y_pred)*100,\"%\")"
   ]
  },
  {
   "cell_type": "markdown",
   "metadata": {},
   "source": [
    "#### LOGISTIC REGRESSION "
   ]
  },
  {
   "cell_type": "code",
   "execution_count": 15,
   "metadata": {},
   "outputs": [
    {
     "name": "stdout",
     "output_type": "stream",
     "text": [
      "Accuracy:  6.8181818181818175 %\n"
     ]
    }
   ],
   "source": [
    "X_train,X_test,y_train,y_test = train_test_split(X,y,test_size=0.25,random_state=0)\n",
    "clf= LogisticRegression( max_iter=100000000)\n",
    "clf.fit(X_train,y_train)\n",
    "y_pred=clf.predict(X_test)\n",
    "print('Accuracy: ',metrics.accuracy_score(y_test, y_pred)*100,'%')"
   ]
  },
  {
   "cell_type": "markdown",
   "metadata": {},
   "source": [
    "#### K-Nearest Neighbor "
   ]
  },
  {
   "cell_type": "code",
   "execution_count": 16,
   "metadata": {},
   "outputs": [
    {
     "data": {
      "text/plain": [
       "Text(0, 0.5, 'Accuracy')"
      ]
     },
     "execution_count": 16,
     "metadata": {},
     "output_type": "execute_result"
    },
    {
     "data": {
      "image/png": "[encoded data removed]",
      "text/plain": [
       "<Figure size 864x432 with 1 Axes>"
      ]
     },
     "metadata": {
      "needs_background": "light"
     },
     "output_type": "display_data"
    }
   ],
   "source": [
    "# Split data into training and testing sets.\n",
    "X_train, X_test, y_train, y_test = train_test_split(X, y, random_state=42)\n",
    "accuracy=[]\n",
    "for i in range(1,21):\n",
    "    clf = KNeighborsClassifier(n_neighbors=i)\n",
    "    clf.fit(X_train, y_train)\n",
    "    ypred = clf.predict(X_test)\n",
    "    accuracy.append(metrics.accuracy_score(y_test, ypred))\n",
    "plt.figure(figsize=(12, 6))\n",
    "plt.plot(range(1, 21), accuracy, color='orange', linestyle='dashed', marker='o',\n",
    "         markerfacecolor='green', markersize=10)\n",
    "plt.title('Looking for the most accurate k value')\n",
    "plt.xlabel('K Value')\n",
    "plt.ylabel('Accuracy')"
   ]
  },
  {
   "cell_type": "code",
   "execution_count": 17,
   "metadata": {
    "scrolled": true
   },
   "outputs": [
    {
     "name": "stdout",
     "output_type": "stream",
     "text": [
      "Accuracy: 6.331168831168831 %\n"
     ]
    }
   ],
   "source": [
    "clf = KNeighborsClassifier(n_neighbors=17)\n",
    "clf.fit(X_train, y_train)\n",
    "ypred = clf.predict(X_test)\n",
    "\n",
    "# Best accuracy\n",
    "print(\"Accuracy:\",metrics.accuracy_score(y_test, ypred)*100,\"%\")"
   ]
  },
  {
   "cell_type": "markdown",
   "metadata": {},
   "source": [
    "### 25 MOST COMMON ODOR NAMES "
   ]
  },
  {
   "cell_type": "code",
   "execution_count": 20,
   "metadata": {},
   "outputs": [],
   "source": [
    "sensorama_4 = sensorama_4.sort_values('odor name')"
   ]
  },
  {
   "cell_type": "code",
   "execution_count": 33,
   "metadata": {},
   "outputs": [
    {
     "data": {
      "text/html": [
       "<div>\n",
       "<style scoped>\n",
       "    .dataframe tbody tr th:only-of-type {\n",
       "        vertical-align: middle;\n",
       "    }\n",
       "\n",
       "    .dataframe tbody tr th {\n",
       "        vertical-align: top;\n",
       "    }\n",
       "\n",
       "    .dataframe thead th {\n",
       "        text-align: right;\n",
       "    }\n",
       "</style>\n",
       "<table border=\"1\" class=\"dataframe\">\n",
       "  <thead>\n",
       "    <tr style=\"text-align: right;\">\n",
       "      <th></th>\n",
       "      <th>cid</th>\n",
       "      <th>canonical_smiles</th>\n",
       "      <th>xlogp</th>\n",
       "      <th>odor level</th>\n",
       "      <th>odor name</th>\n",
       "      <th>fsp3</th>\n",
       "      <th>small rings</th>\n",
       "      <th>arom rings</th>\n",
       "      <th>ring blocks</th>\n",
       "      <th>arom blocks</th>\n",
       "      <th>...</th>\n",
       "      <th>atsm4</th>\n",
       "      <th>atsm5</th>\n",
       "      <th>natom</th>\n",
       "      <th>arom bond</th>\n",
       "      <th>arom atom</th>\n",
       "      <th>apol</th>\n",
       "      <th>alogp</th>\n",
       "      <th>alogp2</th>\n",
       "      <th>amr</th>\n",
       "      <th>acid</th>\n",
       "    </tr>\n",
       "  </thead>\n",
       "  <tbody>\n",
       "    <tr>\n",
       "      <td>15403</td>\n",
       "      <td>5978897.000000</td>\n",
       "      <td>1792.000000</td>\n",
       "      <td>-0.070389</td>\n",
       "      <td>4.000000</td>\n",
       "      <td>25.000000</td>\n",
       "      <td>-0.519433</td>\n",
       "      <td>-0.878056</td>\n",
       "      <td>-0.631781</td>\n",
       "      <td>-1.106175</td>\n",
       "      <td>-0.644741</td>\n",
       "      <td>...</td>\n",
       "      <td>-0.251837</td>\n",
       "      <td>-0.431902</td>\n",
       "      <td>-0.092074</td>\n",
       "      <td>0.000000</td>\n",
       "      <td>0.000000</td>\n",
       "      <td>-0.129645</td>\n",
       "      <td>0.130753</td>\n",
       "      <td>-0.121204</td>\n",
       "      <td>-0.037739</td>\n",
       "      <td>-0.161598</td>\n",
       "    </tr>\n",
       "    <tr>\n",
       "      <td>10728</td>\n",
       "      <td>118782.000000</td>\n",
       "      <td>516.000000</td>\n",
       "      <td>0.068650</td>\n",
       "      <td>4.000000</td>\n",
       "      <td>25.000000</td>\n",
       "      <td>0.229345</td>\n",
       "      <td>-0.878056</td>\n",
       "      <td>-0.631781</td>\n",
       "      <td>-1.106175</td>\n",
       "      <td>-0.644741</td>\n",
       "      <td>...</td>\n",
       "      <td>-0.895942</td>\n",
       "      <td>-0.623930</td>\n",
       "      <td>0.014035</td>\n",
       "      <td>0.000000</td>\n",
       "      <td>0.000000</td>\n",
       "      <td>-0.074694</td>\n",
       "      <td>0.222353</td>\n",
       "      <td>-0.043838</td>\n",
       "      <td>-0.253475</td>\n",
       "      <td>-0.161598</td>\n",
       "    </tr>\n",
       "    <tr>\n",
       "      <td>6901</td>\n",
       "      <td>61955.000000</td>\n",
       "      <td>2355.000000</td>\n",
       "      <td>-0.487506</td>\n",
       "      <td>4.000000</td>\n",
       "      <td>25.000000</td>\n",
       "      <td>-0.519433</td>\n",
       "      <td>0.200130</td>\n",
       "      <td>1.183366</td>\n",
       "      <td>0.632666</td>\n",
       "      <td>1.285620</td>\n",
       "      <td>...</td>\n",
       "      <td>-0.236607</td>\n",
       "      <td>0.047900</td>\n",
       "      <td>-0.198182</td>\n",
       "      <td>0.000000</td>\n",
       "      <td>0.000000</td>\n",
       "      <td>-0.184596</td>\n",
       "      <td>-0.781079</td>\n",
       "      <td>-0.685375</td>\n",
       "      <td>-0.082631</td>\n",
       "      <td>-0.161598</td>\n",
       "    </tr>\n",
       "    <tr>\n",
       "      <td>12877</td>\n",
       "      <td>641832.000000</td>\n",
       "      <td>2235.000000</td>\n",
       "      <td>-0.487506</td>\n",
       "      <td>4.000000</td>\n",
       "      <td>25.000000</td>\n",
       "      <td>0.817511</td>\n",
       "      <td>-0.878056</td>\n",
       "      <td>-0.631781</td>\n",
       "      <td>-1.106175</td>\n",
       "      <td>-0.644741</td>\n",
       "      <td>...</td>\n",
       "      <td>-0.574145</td>\n",
       "      <td>-0.720210</td>\n",
       "      <td>-0.622616</td>\n",
       "      <td>0.000000</td>\n",
       "      <td>0.000000</td>\n",
       "      <td>-0.813284</td>\n",
       "      <td>-0.267913</td>\n",
       "      <td>-0.413918</td>\n",
       "      <td>-1.081532</td>\n",
       "      <td>-0.161598</td>\n",
       "    </tr>\n",
       "    <tr>\n",
       "      <td>14594</td>\n",
       "      <td>5364230.000000</td>\n",
       "      <td>2138.000000</td>\n",
       "      <td>-0.696065</td>\n",
       "      <td>4.000000</td>\n",
       "      <td>25.000000</td>\n",
       "      <td>0.282883</td>\n",
       "      <td>-0.878056</td>\n",
       "      <td>-0.631781</td>\n",
       "      <td>-1.106175</td>\n",
       "      <td>-0.644741</td>\n",
       "      <td>...</td>\n",
       "      <td>-1.310557</td>\n",
       "      <td>-1.056392</td>\n",
       "      <td>-0.728725</td>\n",
       "      <td>0.000000</td>\n",
       "      <td>0.000000</td>\n",
       "      <td>-0.896186</td>\n",
       "      <td>-0.417734</td>\n",
       "      <td>-0.505430</td>\n",
       "      <td>-0.990709</td>\n",
       "      <td>-0.161598</td>\n",
       "    </tr>\n",
       "    <tr>\n",
       "      <td>...</td>\n",
       "      <td>...</td>\n",
       "      <td>...</td>\n",
       "      <td>...</td>\n",
       "      <td>...</td>\n",
       "      <td>...</td>\n",
       "      <td>...</td>\n",
       "      <td>...</td>\n",
       "      <td>...</td>\n",
       "      <td>...</td>\n",
       "      <td>...</td>\n",
       "      <td>...</td>\n",
       "      <td>...</td>\n",
       "      <td>...</td>\n",
       "      <td>...</td>\n",
       "      <td>...</td>\n",
       "      <td>...</td>\n",
       "      <td>...</td>\n",
       "      <td>...</td>\n",
       "      <td>...</td>\n",
       "      <td>...</td>\n",
       "      <td>...</td>\n",
       "    </tr>\n",
       "    <tr>\n",
       "      <td>4287</td>\n",
       "      <td>18756.000000</td>\n",
       "      <td>359.000000</td>\n",
       "      <td>1.041924</td>\n",
       "      <td>4.000000</td>\n",
       "      <td>494.000000</td>\n",
       "      <td>-0.893823</td>\n",
       "      <td>-0.878056</td>\n",
       "      <td>-0.631781</td>\n",
       "      <td>-1.106175</td>\n",
       "      <td>-0.644741</td>\n",
       "      <td>...</td>\n",
       "      <td>-0.941840</td>\n",
       "      <td>-0.815957</td>\n",
       "      <td>-0.304291</td>\n",
       "      <td>0.000000</td>\n",
       "      <td>0.000000</td>\n",
       "      <td>-0.295448</td>\n",
       "      <td>0.822400</td>\n",
       "      <td>0.556387</td>\n",
       "      <td>-0.189373</td>\n",
       "      <td>-0.161598</td>\n",
       "    </tr>\n",
       "    <tr>\n",
       "      <td>15473</td>\n",
       "      <td>6285057.000000</td>\n",
       "      <td>1527.000000</td>\n",
       "      <td>-0.070389</td>\n",
       "      <td>4.000000</td>\n",
       "      <td>494.000000</td>\n",
       "      <td>-0.087388</td>\n",
       "      <td>0.200130</td>\n",
       "      <td>-0.631781</td>\n",
       "      <td>0.632666</td>\n",
       "      <td>-0.644741</td>\n",
       "      <td>...</td>\n",
       "      <td>0.486109</td>\n",
       "      <td>0.529302</td>\n",
       "      <td>0.544577</td>\n",
       "      <td>0.000000</td>\n",
       "      <td>0.000000</td>\n",
       "      <td>0.608945</td>\n",
       "      <td>0.428383</td>\n",
       "      <td>0.143977</td>\n",
       "      <td>0.647203</td>\n",
       "      <td>-0.161598</td>\n",
       "    </tr>\n",
       "    <tr>\n",
       "      <td>14821</td>\n",
       "      <td>5365819.000000</td>\n",
       "      <td>926.000000</td>\n",
       "      <td>0.763846</td>\n",
       "      <td>4.000000</td>\n",
       "      <td>494.000000</td>\n",
       "      <td>-0.087388</td>\n",
       "      <td>-0.878056</td>\n",
       "      <td>-0.631781</td>\n",
       "      <td>-1.106175</td>\n",
       "      <td>-0.644741</td>\n",
       "      <td>...</td>\n",
       "      <td>-0.020813</td>\n",
       "      <td>0.672923</td>\n",
       "      <td>0.862903</td>\n",
       "      <td>0.000000</td>\n",
       "      <td>0.000000</td>\n",
       "      <td>0.829689</td>\n",
       "      <td>0.861677</td>\n",
       "      <td>0.601330</td>\n",
       "      <td>0.811727</td>\n",
       "      <td>-0.161598</td>\n",
       "    </tr>\n",
       "    <tr>\n",
       "      <td>1684</td>\n",
       "      <td>7921.000000</td>\n",
       "      <td>1575.000000</td>\n",
       "      <td>-1.530300</td>\n",
       "      <td>4.000000</td>\n",
       "      <td>494.000000</td>\n",
       "      <td>0.603735</td>\n",
       "      <td>0.200130</td>\n",
       "      <td>-0.631781</td>\n",
       "      <td>0.632666</td>\n",
       "      <td>-0.644741</td>\n",
       "      <td>...</td>\n",
       "      <td>-1.402864</td>\n",
       "      <td>-1.488854</td>\n",
       "      <td>-1.471484</td>\n",
       "      <td>0.000000</td>\n",
       "      <td>0.000000</td>\n",
       "      <td>-1.590699</td>\n",
       "      <td>-1.245601</td>\n",
       "      <td>-0.828865</td>\n",
       "      <td>-1.807172</td>\n",
       "      <td>-0.161598</td>\n",
       "    </tr>\n",
       "    <tr>\n",
       "      <td>17555</td>\n",
       "      <td>21149427.000000</td>\n",
       "      <td>1358.000000</td>\n",
       "      <td>-0.070389</td>\n",
       "      <td>4.000000</td>\n",
       "      <td>494.000000</td>\n",
       "      <td>0.416540</td>\n",
       "      <td>0.200130</td>\n",
       "      <td>-0.631781</td>\n",
       "      <td>0.632666</td>\n",
       "      <td>-0.644741</td>\n",
       "      <td>...</td>\n",
       "      <td>0.532007</td>\n",
       "      <td>-0.095721</td>\n",
       "      <td>0.544577</td>\n",
       "      <td>0.000000</td>\n",
       "      <td>0.000000</td>\n",
       "      <td>0.509918</td>\n",
       "      <td>0.106327</td>\n",
       "      <td>-0.141204</td>\n",
       "      <td>0.347494</td>\n",
       "      <td>-0.161598</td>\n",
       "    </tr>\n",
       "  </tbody>\n",
       "</table>\n",
       "<p>909 rows × 212 columns</p>\n",
       "</div>"
      ],
      "text/plain": [
       "                  cid  canonical_smiles     xlogp  odor level  odor name  \\\n",
       "15403  5978897.000000       1792.000000 -0.070389    4.000000  25.000000   \n",
       "10728   118782.000000        516.000000  0.068650    4.000000  25.000000   \n",
       "6901     61955.000000       2355.000000 -0.487506    4.000000  25.000000   \n",
       "12877   641832.000000       2235.000000 -0.487506    4.000000  25.000000   \n",
       "14594  5364230.000000       2138.000000 -0.696065    4.000000  25.000000   \n",
       "...               ...               ...       ...         ...        ...   \n",
       "4287     18756.000000        359.000000  1.041924    4.000000 494.000000   \n",
       "15473  6285057.000000       1527.000000 -0.070389    4.000000 494.000000   \n",
       "14821  5365819.000000        926.000000  0.763846    4.000000 494.000000   \n",
       "1684      7921.000000       1575.000000 -1.530300    4.000000 494.000000   \n",
       "17555 21149427.000000       1358.000000 -0.070389    4.000000 494.000000   \n",
       "\n",
       "           fsp3  small rings  arom rings  ring blocks  arom blocks  ...  \\\n",
       "15403 -0.519433    -0.878056   -0.631781    -1.106175    -0.644741  ...   \n",
       "10728  0.229345    -0.878056   -0.631781    -1.106175    -0.644741  ...   \n",
       "6901  -0.519433     0.200130    1.183366     0.632666     1.285620  ...   \n",
       "12877  0.817511    -0.878056   -0.631781    -1.106175    -0.644741  ...   \n",
       "14594  0.282883    -0.878056   -0.631781    -1.106175    -0.644741  ...   \n",
       "...         ...          ...         ...          ...          ...  ...   \n",
       "4287  -0.893823    -0.878056   -0.631781    -1.106175    -0.644741  ...   \n",
       "15473 -0.087388     0.200130   -0.631781     0.632666    -0.644741  ...   \n",
       "14821 -0.087388    -0.878056   -0.631781    -1.106175    -0.644741  ...   \n",
       "1684   0.603735     0.200130   -0.631781     0.632666    -0.644741  ...   \n",
       "17555  0.416540     0.200130   -0.631781     0.632666    -0.644741  ...   \n",
       "\n",
       "          atsm4     atsm5     natom  arom bond  arom atom      apol     alogp  \\\n",
       "15403 -0.251837 -0.431902 -0.092074   0.000000   0.000000 -0.129645  0.130753   \n",
       "10728 -0.895942 -0.623930  0.014035   0.000000   0.000000 -0.074694  0.222353   \n",
       "6901  -0.236607  0.047900 -0.198182   0.000000   0.000000 -0.184596 -0.781079   \n",
       "12877 -0.574145 -0.720210 -0.622616   0.000000   0.000000 -0.813284 -0.267913   \n",
       "14594 -1.310557 -1.056392 -0.728725   0.000000   0.000000 -0.896186 -0.417734   \n",
       "...         ...       ...       ...        ...        ...       ...       ...   \n",
       "4287  -0.941840 -0.815957 -0.304291   0.000000   0.000000 -0.295448  0.822400   \n",
       "15473  0.486109  0.529302  0.544577   0.000000   0.000000  0.608945  0.428383   \n",
       "14821 -0.020813  0.672923  0.862903   0.000000   0.000000  0.829689  0.861677   \n",
       "1684  -1.402864 -1.488854 -1.471484   0.000000   0.000000 -1.590699 -1.245601   \n",
       "17555  0.532007 -0.095721  0.544577   0.000000   0.000000  0.509918  0.106327   \n",
       "\n",
       "         alogp2       amr      acid  \n",
       "15403 -0.121204 -0.037739 -0.161598  \n",
       "10728 -0.043838 -0.253475 -0.161598  \n",
       "6901  -0.685375 -0.082631 -0.161598  \n",
       "12877 -0.413918 -1.081532 -0.161598  \n",
       "14594 -0.505430 -0.990709 -0.161598  \n",
       "...         ...       ...       ...  \n",
       "4287   0.556387 -0.189373 -0.161598  \n",
       "15473  0.143977  0.647203 -0.161598  \n",
       "14821  0.601330  0.811727 -0.161598  \n",
       "1684  -0.828865 -1.807172 -0.161598  \n",
       "17555 -0.141204  0.347494 -0.161598  \n",
       "\n",
       "[909 rows x 212 columns]"
      ]
     },
     "execution_count": 33,
     "metadata": {},
     "output_type": "execute_result"
    }
   ],
   "source": [
    "sensorama2_4=[]\n",
    "\n",
    "for i in range(18 , len(sensorama_4)-18):\n",
    "    if sensorama_4.iloc[i,4] == sensorama_4.iloc[i+18,4] or sensorama_4.iloc[i,4] == sensorama_4.iloc[i-18,4]:\n",
    "        sensorama2_4.append(sensorama_4.iloc[i,:]) \n",
    "\n",
    "sensorama2_4= pd.DataFrame(sensorama2_4)\n",
    "sensorama2_4"
   ]
  },
  {
   "cell_type": "code",
   "execution_count": 34,
   "metadata": {},
   "outputs": [
    {
     "name": "stdout",
     "output_type": "stream",
     "text": [
      "26\n"
     ]
    }
   ],
   "source": [
    "count=0\n",
    "for i in range(1, len(sensorama2_4)):\n",
    "    if sensorama2_4.iloc[i,4]!= sensorama2_4.iloc[i-1,4]:\n",
    "        count = count +1\n",
    "print(count)"
   ]
  },
  {
   "cell_type": "code",
   "execution_count": 35,
   "metadata": {},
   "outputs": [],
   "source": [
    "X = sensorama2_4[[ 'xlogp','fsp3', 'small rings','arom rings','ring blocks','arom blocks','rings 3','rings 4', 'rings 5', 'rings 6',\n",
    "               'rings 7', 'rings 8', 'rings 9', 'tpsa efficiency', 'zagreb indices', 'weiner path', 'weiner polarity', 'wtpt.1',\n",
    "               'wtpt.2', 'wtpt.3', 'wtpt.4', 'wtpt.5', 'molecular weight', 'VAdjMat', 'topoPSA', 'lipinski failures', 'rotatable bonds',\n",
    "               'topo shape', 'petitjean number', 'mdec.11', 'mdec.12', 'mdec.13', 'mdec.14', 'mdec.22', 'mdec.23', 'mdec.24',\n",
    "               'mdec.33', 'mdec.34', 'mdec.44', 'mdeo.11', 'mdeo.12', 'mdeo.22', 'mden.11', 'mden.12', 'mden.13', 'mden.22',\n",
    "               'mden.23', 'mden.33', 'mlogp', 'atom p', 'atom lc', 'khs.sli', 'khs.ssbe', 'khs.ssssbe', 'khs.ssbh', 'khs.sssb',\n",
    "               'khs.ssssb', 'khs.sch3', 'khs.dch2', 'khs.ssch2', 'khs.tch', 'khs.dsch', 'khs.aach', 'khs.sssch', 'khs.ddc',\n",
    "               'khs.tsc', 'khs.dssc', 'khs.aasc', 'khs.aaac', 'khs.ssssc', 'khs.snh3', 'khs.snh2', 'khs.ssnh', 'khs.dnh', 'khs.ssnh.1',\n",
    "               'khs.aanh', 'khs.tn', 'khs.sssnh', 'khs.dsn', 'khs.aan', 'khs.sssn', 'khs.dsn.1', 'khs.aasn', 'khs.ssssn', 'khs.soh',\n",
    "               'khs.do', 'khs.sso', 'khs.aao', 'khs.sf', 'khs.ssih3', 'khs.sssih2', 'khs.ssssih', 'khs.sssssi', 'khs.sph2',\n",
    "               'khs.ssph', 'khs.sssp', 'khs.dsssp', 'khs.sssssp', 'khs.ssh', 'khs.ds', 'khs.sss', 'khs.aas', 'khs.dsss', 'khs.ddsss',\n",
    "               'khs.scl', 'khs.sGeH3', 'khs.ssGeH2', 'khs.sssGeH', 'khs.ssssGe', 'khs.sash2', 'khs.ssash', 'khs.sssas', 'khs.sssdas',\n",
    "               'khs.sssssas', 'khs.sseh', 'khs.dse', 'khs.ssse', 'khs.aase', 'khs.dssse', 'khs.ddssse', 'khs.sbr', 'khs.ssnh3', \n",
    "               'khs.sssnh2', 'khs.ssssnh', 'khs.sssssn', 'khs.si', 'khs.spbh3', 'khs.sspbh2', 'khs.ssspbh', 'khs.sssspb', 'kier 1',\n",
    "               'kier 2', 'hybRatio', 'hbdon', 'hbacc', 'fragc', 'fmf', 'eccen', 'SP.0', 'SP.1', 'SP.2', 'SP.3', 'SP.4', 'SP.5', 'SP.6',\n",
    "               'SP.7', 'VP.0', 'VP.1', 'VP.2', 'VP.3', 'VP.4', 'VP.5', 'VP.6', 'VP.7', 'SPC.4', 'SPC.5', 'SPC.6', 'VPC.4', 'VPC.5',\n",
    "               'VPC.6', 'SC.3', 'SC.4', 'SC.5', 'SC.6', 'VC.3', 'VC.4', 'VC.5', 'VC.6', 'SCH.3', 'SCH.4', 'SCH.5', 'SCH.6', 'SCH.7',\n",
    "               'VCH.3', 'VCH.4', 'VCH.3', 'VCH.4', 'VCH.5', 'VCH.6', 'VCH.7', 'C1SP1', 'C2SP1', 'C1SP2', 'C2SP2', 'C3SP2', 'C1SP3',\n",
    "               'C2SP3', 'C3SP3', 'C4SP3', 'bpol', 'bond count', 'basic group count', 'atsp1', 'atsp2' , 'atsp3', 'atsp4', 'atsp5',\n",
    "               'atsm1', 'atsm2','atsm3','atsm4','atsm5', 'natom','arom bond', 'arom atom', 'apol','alogp', 'alogp2', 'amr', 'acid']]\n",
    "y = sensorama2_4['odor name']"
   ]
  },
  {
   "cell_type": "markdown",
   "metadata": {},
   "source": [
    "#### RANDOM FOREST"
   ]
  },
  {
   "cell_type": "code",
   "execution_count": 36,
   "metadata": {},
   "outputs": [
    {
     "name": "stdout",
     "output_type": "stream",
     "text": [
      "Accuracy:  11.403508771929824 %\n"
     ]
    },
    {
     "data": {
      "image/png": "[encoded data removed]",
      "text/plain": [
       "<Figure size 432x288 with 2 Axes>"
      ]
     },
     "metadata": {
      "needs_background": "light"
     },
     "output_type": "display_data"
    }
   ],
   "source": [
    "X_train,X_test,y_train,y_test = train_test_split(X,y,test_size=0.25,random_state=0)\n",
    "sc_X = StandardScaler()\n",
    "X_train = sc_X.fit_transform(X_train)\n",
    "X_test = sc_X.transform(X_test)\n",
    "clf = RandomForestClassifier(n_estimators=100)\n",
    "clf.fit(X_train,y_train)\n",
    "y_pred=clf.predict(X_test)\n",
    "confusion_matrix = pd.crosstab(y_test, y_pred, rownames=['Actual'], colnames=['Predicted'])\n",
    "sns.heatmap(confusion_matrix, annot=True)\n",
    "print('Accuracy: ',metrics.accuracy_score(y_test, y_pred)*100,'%')\n",
    "plt.show()"
   ]
  },
  {
   "cell_type": "markdown",
   "metadata": {},
   "source": [
    "##### Feature Importances "
   ]
  },
  {
   "cell_type": "code",
   "execution_count": 37,
   "metadata": {},
   "outputs": [
    {
     "data": {
      "image/png": "[encoded data removed]",
      "text/plain": [
       "<Figure size 432x288 with 1 Axes>"
      ]
     },
     "metadata": {
      "needs_background": "light"
     },
     "output_type": "display_data"
    }
   ],
   "source": [
    "featureImportances = pd.Series(clf.feature_importances_).sort_values(ascending=False)\n",
    "sns.barplot(x=round(featureImportances,8), y=featureImportances)\n",
    "plt.xlabel('Features Importance')\n",
    "plt.show()"
   ]
  },
  {
   "cell_type": "code",
   "execution_count": 38,
   "metadata": {},
   "outputs": [],
   "source": [
    "X = sensorama2_4[[ 'xlogp','fsp3', 'small rings','arom rings','ring blocks','arom blocks','rings 3','rings 4', 'rings 5', 'rings 6',\n",
    "               'rings 7','tpsa efficiency', 'zagreb indices', 'weiner path', 'weiner polarity', 'wtpt.1',\n",
    "               'wtpt.2', 'wtpt.3', 'wtpt.4', 'wtpt.5', 'molecular weight', 'VAdjMat', 'topoPSA', 'lipinski failures', 'rotatable bonds',\n",
    "               'topo shape', 'petitjean number', 'mdec.11', 'mdec.12', 'mdec.13', 'mdec.14', 'mdec.22', 'mdec.23', 'mdec.24',\n",
    "               'mdec.33', 'mdec.34', 'mdec.44', 'mdeo.11', 'mdeo.12', 'mdeo.22', 'mden.22',\n",
    "               'mden.23', 'mden.33', 'mlogp', 'atom p', 'atom lc', \n",
    "                  'khs.sch3', 'khs.dch2', 'khs.ssch2', 'khs.tch', 'khs.dsch', 'khs.aach', 'khs.sssch', 'khs.ddc',\n",
    "               'khs.tsc', 'khs.dssc', 'khs.aasc', 'khs.aaac', 'khs.ssssc', 'khs.snh2', 'khs.ssnh.1',\n",
    "               'khs.aanh', 'khs.tn', 'khs.dsn', 'khs.aan', 'khs.sssn', 'khs.dsn.1', 'khs.aasn', 'khs.soh',\n",
    "               'khs.do', 'khs.sso', 'khs.aao', 'khs.ssh', 'khs.ds', 'khs.sss', 'khs.aas', 'khs.dsss', 'kier 1',\n",
    "               'kier 2', 'hybRatio', 'hbdon', 'hbacc', 'fragc', 'fmf', 'eccen', 'SP.0', 'SP.1', 'SP.2', 'SP.3', 'SP.4', 'SP.5', 'SP.6',\n",
    "               'SP.7', 'VP.0', 'VP.1', 'VP.2', 'VP.3', 'VP.4', 'VP.5', 'VP.6', 'VP.7', 'SPC.4', 'SPC.5', 'SPC.6', 'VPC.4', 'VPC.5',\n",
    "               'VPC.6', 'SC.3', 'SC.4', 'SC.5', 'SC.6', 'VC.3', 'VC.4', 'VC.5', 'VC.6', 'SCH.3', 'SCH.4', 'SCH.5', 'SCH.6', 'SCH.7',\n",
    "               'VCH.3', 'VCH.4', 'VCH.3', 'VCH.4', 'VCH.5', 'VCH.6', 'VCH.7', 'C1SP1', 'C2SP1', 'C1SP2', 'C2SP2', 'C3SP2', 'C1SP3',\n",
    "               'C2SP3', 'C3SP3', 'C4SP3', 'bpol', 'bond count', 'basic group count', 'atsp1', 'atsp2' , 'atsp3', 'atsp4', 'atsp5',\n",
    "               'atsm1', 'atsm2','atsm3','atsm4','atsm5', 'natom','apol','alogp', 'alogp2', 'amr', 'acid']]\n",
    "y = sensorama2_4['odor name']"
   ]
  },
  {
   "cell_type": "code",
   "execution_count": 39,
   "metadata": {},
   "outputs": [
    {
     "name": "stdout",
     "output_type": "stream",
     "text": [
      "Accuracy:  10.526315789473683 %\n"
     ]
    },
    {
     "data": {
      "image/png": "[encoded data removed]",
      "text/plain": [
       "<Figure size 432x288 with 2 Axes>"
      ]
     },
     "metadata": {
      "needs_background": "light"
     },
     "output_type": "display_data"
    }
   ],
   "source": [
    "X_train,X_test,y_train,y_test = train_test_split(X,y,test_size=0.25,random_state=0)\n",
    "sc_X = StandardScaler()\n",
    "X_train = sc_X.fit_transform(X_train)\n",
    "X_test = sc_X.transform(X_test)\n",
    "clf = RandomForestClassifier(n_estimators=100)\n",
    "clf.fit(X_train,y_train)\n",
    "y_pred=clf.predict(X_test)\n",
    "confusion_matrix = pd.crosstab(y_test, y_pred, rownames=['Actual'], colnames=['Predicted'])\n",
    "sns.heatmap(confusion_matrix, annot=True)\n",
    "print('Accuracy: ',metrics.accuracy_score(y_test, y_pred)*100,'%')\n",
    "plt.show()"
   ]
  },
  {
   "cell_type": "markdown",
   "metadata": {},
   "source": [
    "#### SUPPORT VECTOR MACHINE "
   ]
  },
  {
   "cell_type": "markdown",
   "metadata": {},
   "source": [
    "##### rbf Kernel "
   ]
  },
  {
   "cell_type": "code",
   "execution_count": 40,
   "metadata": {},
   "outputs": [
    {
     "name": "stdout",
     "output_type": "stream",
     "text": [
      "Accuracy: 14.035087719298245 %\n"
     ]
    }
   ],
   "source": [
    "X_tr, X_tst, y_tr, y_tst = train_test_split(X, y, test_size=25/100,random_state=109)\n",
    "clf = svm.SVC(kernel='rbf') # creating Support Vector Machine model\n",
    "clf.fit(X_tr, y_tr) # training the Model\n",
    "y_pr = clf.predict(X_tst) # making Predictions\n",
    "\n",
    "# Evaluating Prediction Accuracy\n",
    "print(\"Accuracy:\",metrics.accuracy_score(y_tst, y_pr)*100,\"%\")"
   ]
  },
  {
   "cell_type": "markdown",
   "metadata": {},
   "source": [
    "##### Polynomial Kernel\n"
   ]
  },
  {
   "cell_type": "code",
   "execution_count": 41,
   "metadata": {},
   "outputs": [
    {
     "name": "stdout",
     "output_type": "stream",
     "text": [
      "Accuracy: 12.719298245614036 %\n"
     ]
    }
   ],
   "source": [
    "X_tr, X_tst, y_tr, y_tst = train_test_split(X, y, test_size=25/100,random_state=109)\n",
    "clf = svm.SVC(kernel='poly') # Creating Support Vector Machine Model\n",
    "clf.fit(X_tr,y_tr) # fit classifier to training set\n",
    "y_pr = clf.predict(X_tst) # Making Predictions\n",
    "\n",
    "# Evaluating Prediction Accuracy\n",
    "print(\"Accuracy:\",metrics.accuracy_score(y_tst, y_pr)*100,\"%\")"
   ]
  },
  {
   "cell_type": "markdown",
   "metadata": {},
   "source": [
    "##### Sigmoid Kernel "
   ]
  },
  {
   "cell_type": "code",
   "execution_count": 42,
   "metadata": {},
   "outputs": [
    {
     "name": "stdout",
     "output_type": "stream",
     "text": [
      "Accuracy: 12.719298245614036 %\n"
     ]
    }
   ],
   "source": [
    "X_tr, X_tst, y_tr, y_tst = train_test_split(X, y, test_size=25/100,random_state=109)\n",
    "clf=svm.SVC(kernel='sigmoid') # instantiate classifier with sigmoid kernel\n",
    "clf.fit(X_tr,y_tr) # fit classifier to training set\n",
    "y_pr = clf.predict(X_tst) # Making Predictions\n",
    "\n",
    "# Evaluating Prediction Accuracy\n",
    "print(\"Accuracy:\",metrics.accuracy_score(y_tst, y_pr)*100,\"%\")"
   ]
  },
  {
   "cell_type": "markdown",
   "metadata": {},
   "source": [
    "#### DECISION TREE"
   ]
  },
  {
   "cell_type": "code",
   "execution_count": 43,
   "metadata": {},
   "outputs": [
    {
     "name": "stdout",
     "output_type": "stream",
     "text": [
      "Accuracy: 8.791208791208792 %\n"
     ]
    }
   ],
   "source": [
    "# Split dataset into training set and test set\n",
    "X_train, X_test, y_train, y_test = train_test_split(X, y, test_size=0.3, random_state=1) # 70% training and 30% test\n",
    "clf = DecisionTreeClassifier() # Create Decision Tree classifer object\n",
    "clf = clf.fit(X_train,y_train) # Train Decision Tree Classifer\n",
    "y_pred = clf.predict(X_test) # Predict the response for test dataset\n",
    "\n",
    "# how often is the classifier correct?\n",
    "print(\"Accuracy:\",metrics.accuracy_score(y_test, y_pred)*100,\"%\")"
   ]
  },
  {
   "cell_type": "markdown",
   "metadata": {},
   "source": [
    "#### LOGISTIC REGRESSION "
   ]
  },
  {
   "cell_type": "code",
   "execution_count": 44,
   "metadata": {},
   "outputs": [
    {
     "name": "stdout",
     "output_type": "stream",
     "text": [
      "Accuracy:  13.157894736842104 %\n"
     ]
    }
   ],
   "source": [
    "X_train,X_test,y_train,y_test = train_test_split(X,y,test_size=0.25,random_state=0)\n",
    "clf= LogisticRegression( max_iter=100000000)\n",
    "clf.fit(X_train,y_train)\n",
    "y_pred=clf.predict(X_test)\n",
    "print('Accuracy: ',metrics.accuracy_score(y_test, y_pred)*100,'%')"
   ]
  },
  {
   "cell_type": "markdown",
   "metadata": {},
   "source": [
    "#### K-Nearest Neighbor "
   ]
  },
  {
   "cell_type": "code",
   "execution_count": 45,
   "metadata": {},
   "outputs": [
    {
     "data": {
      "text/plain": [
       "Text(0, 0.5, 'Accuracy')"
      ]
     },
     "execution_count": 45,
     "metadata": {},
     "output_type": "execute_result"
    },
    {
     "data": {
      "image/png": "[encoded data removed]",
      "text/plain": [
       "<Figure size 864x432 with 1 Axes>"
      ]
     },
     "metadata": {
      "needs_background": "light"
     },
     "output_type": "display_data"
    }
   ],
   "source": [
    "# Split data into training and testing sets.\n",
    "X_train, X_test, y_train, y_test = train_test_split(X, y, random_state=42)\n",
    "accuracy=[]\n",
    "for i in range(1,21):\n",
    "    clf = KNeighborsClassifier(n_neighbors=i)\n",
    "    clf.fit(X_train, y_train)\n",
    "    ypred = clf.predict(X_test)\n",
    "    accuracy.append(metrics.accuracy_score(y_test, ypred))\n",
    "plt.figure(figsize=(12, 6))\n",
    "plt.plot(range(1, 21), accuracy, color='orange', linestyle='dashed', marker='o',\n",
    "         markerfacecolor='green', markersize=10)\n",
    "plt.title('Looking for the most accurate k value')\n",
    "plt.xlabel('K Value')\n",
    "plt.ylabel('Accuracy')"
   ]
  },
  {
   "cell_type": "code",
   "execution_count": 46,
   "metadata": {
    "scrolled": true
   },
   "outputs": [
    {
     "name": "stdout",
     "output_type": "stream",
     "text": [
      "Accuracy: 14.473684210526317 %\n"
     ]
    }
   ],
   "source": [
    "clf = KNeighborsClassifier(n_neighbors=11)\n",
    "clf.fit(X_train, y_train)\n",
    "ypred = clf.predict(X_test)\n",
    "\n",
    "# Best accuracy\n",
    "print(\"Accuracy:\",metrics.accuracy_score(y_test, ypred)*100,\"%\")"
   ]
  },
  {
   "cell_type": "markdown",
   "metadata": {},
   "source": [
    "### 15 MOST COMMON ODOR NAMES "
   ]
  },
  {
   "cell_type": "code",
   "execution_count": 41,
   "metadata": {},
   "outputs": [],
   "source": [
    "sensorama_4 = sensorama_4 .sort_values('odor name')"
   ]
  },
  {
   "cell_type": "code",
   "execution_count": 51,
   "metadata": {},
   "outputs": [
    {
     "data": {
      "text/html": [
       "<div>\n",
       "<style scoped>\n",
       "    .dataframe tbody tr th:only-of-type {\n",
       "        vertical-align: middle;\n",
       "    }\n",
       "\n",
       "    .dataframe tbody tr th {\n",
       "        vertical-align: top;\n",
       "    }\n",
       "\n",
       "    .dataframe thead th {\n",
       "        text-align: right;\n",
       "    }\n",
       "</style>\n",
       "<table border=\"1\" class=\"dataframe\">\n",
       "  <thead>\n",
       "    <tr style=\"text-align: right;\">\n",
       "      <th></th>\n",
       "      <th>cid</th>\n",
       "      <th>canonical_smiles</th>\n",
       "      <th>xlogp</th>\n",
       "      <th>odor level</th>\n",
       "      <th>odor name</th>\n",
       "      <th>fsp3</th>\n",
       "      <th>small rings</th>\n",
       "      <th>arom rings</th>\n",
       "      <th>ring blocks</th>\n",
       "      <th>arom blocks</th>\n",
       "      <th>...</th>\n",
       "      <th>atsm4</th>\n",
       "      <th>atsm5</th>\n",
       "      <th>natom</th>\n",
       "      <th>arom bond</th>\n",
       "      <th>arom atom</th>\n",
       "      <th>apol</th>\n",
       "      <th>alogp</th>\n",
       "      <th>alogp2</th>\n",
       "      <th>amr</th>\n",
       "      <th>acid</th>\n",
       "    </tr>\n",
       "  </thead>\n",
       "  <tbody>\n",
       "    <tr>\n",
       "      <td>12941</td>\n",
       "      <td>643723.000000</td>\n",
       "      <td>357.000000</td>\n",
       "      <td>2.501836</td>\n",
       "      <td>4.000000</td>\n",
       "      <td>38.000000</td>\n",
       "      <td>0.603735</td>\n",
       "      <td>1.278317</td>\n",
       "      <td>-0.631781</td>\n",
       "      <td>0.632666</td>\n",
       "      <td>-0.644741</td>\n",
       "      <td>...</td>\n",
       "      <td>3.480211</td>\n",
       "      <td>3.700157</td>\n",
       "      <td>2.772856</td>\n",
       "      <td>0.000000</td>\n",
       "      <td>0.000000</td>\n",
       "      <td>2.847404</td>\n",
       "      <td>1.887593</td>\n",
       "      <td>2.021194</td>\n",
       "      <td>2.609406</td>\n",
       "      <td>-0.161598</td>\n",
       "    </tr>\n",
       "    <tr>\n",
       "      <td>12778</td>\n",
       "      <td>637195.000000</td>\n",
       "      <td>824.000000</td>\n",
       "      <td>4.170305</td>\n",
       "      <td>4.000000</td>\n",
       "      <td>38.000000</td>\n",
       "      <td>0.841846</td>\n",
       "      <td>-0.878056</td>\n",
       "      <td>-0.631781</td>\n",
       "      <td>-1.106175</td>\n",
       "      <td>-0.644741</td>\n",
       "      <td>...</td>\n",
       "      <td>1.361237</td>\n",
       "      <td>1.778281</td>\n",
       "      <td>3.940049</td>\n",
       "      <td>0.000000</td>\n",
       "      <td>0.000000</td>\n",
       "      <td>3.845563</td>\n",
       "      <td>3.655258</td>\n",
       "      <td>5.579249</td>\n",
       "      <td>3.470610</td>\n",
       "      <td>-0.161598</td>\n",
       "    </tr>\n",
       "    <tr>\n",
       "      <td>10700</td>\n",
       "      <td>118262.000000</td>\n",
       "      <td>2248.000000</td>\n",
       "      <td>-0.557026</td>\n",
       "      <td>4.000000</td>\n",
       "      <td>38.000000</td>\n",
       "      <td>-0.051447</td>\n",
       "      <td>-0.878056</td>\n",
       "      <td>-0.631781</td>\n",
       "      <td>-1.106175</td>\n",
       "      <td>-0.644741</td>\n",
       "      <td>...</td>\n",
       "      <td>-0.665941</td>\n",
       "      <td>-0.239875</td>\n",
       "      <td>-0.516508</td>\n",
       "      <td>0.000000</td>\n",
       "      <td>0.000000</td>\n",
       "      <td>-0.631355</td>\n",
       "      <td>-0.314823</td>\n",
       "      <td>-0.443663</td>\n",
       "      <td>-0.800006</td>\n",
       "      <td>-0.161598</td>\n",
       "    </tr>\n",
       "    <tr>\n",
       "      <td>91</td>\n",
       "      <td>307.000000</td>\n",
       "      <td>54.000000</td>\n",
       "      <td>-0.626545</td>\n",
       "      <td>4.000000</td>\n",
       "      <td>38.000000</td>\n",
       "      <td>-2.391380</td>\n",
       "      <td>0.200130</td>\n",
       "      <td>1.183366</td>\n",
       "      <td>0.632666</td>\n",
       "      <td>1.285620</td>\n",
       "      <td>...</td>\n",
       "      <td>-0.757737</td>\n",
       "      <td>-0.768084</td>\n",
       "      <td>-1.153159</td>\n",
       "      <td>0.000000</td>\n",
       "      <td>0.000000</td>\n",
       "      <td>-0.945885</td>\n",
       "      <td>-0.670188</td>\n",
       "      <td>-0.636757</td>\n",
       "      <td>-0.392422</td>\n",
       "      <td>-0.161598</td>\n",
       "    </tr>\n",
       "    <tr>\n",
       "      <td>8557</td>\n",
       "      <td>86749.000000</td>\n",
       "      <td>1905.000000</td>\n",
       "      <td>0.138170</td>\n",
       "      <td>4.000000</td>\n",
       "      <td>124.000000</td>\n",
       "      <td>0.603735</td>\n",
       "      <td>-0.878056</td>\n",
       "      <td>-0.631781</td>\n",
       "      <td>-1.106175</td>\n",
       "      <td>-0.644741</td>\n",
       "      <td>...</td>\n",
       "      <td>-0.573634</td>\n",
       "      <td>-0.623930</td>\n",
       "      <td>0.226252</td>\n",
       "      <td>0.000000</td>\n",
       "      <td>0.000000</td>\n",
       "      <td>0.063158</td>\n",
       "      <td>0.376199</td>\n",
       "      <td>0.094600</td>\n",
       "      <td>-0.132868</td>\n",
       "      <td>-0.161598</td>\n",
       "    </tr>\n",
       "    <tr>\n",
       "      <td>...</td>\n",
       "      <td>...</td>\n",
       "      <td>...</td>\n",
       "      <td>...</td>\n",
       "      <td>...</td>\n",
       "      <td>...</td>\n",
       "      <td>...</td>\n",
       "      <td>...</td>\n",
       "      <td>...</td>\n",
       "      <td>...</td>\n",
       "      <td>...</td>\n",
       "      <td>...</td>\n",
       "      <td>...</td>\n",
       "      <td>...</td>\n",
       "      <td>...</td>\n",
       "      <td>...</td>\n",
       "      <td>...</td>\n",
       "      <td>...</td>\n",
       "      <td>...</td>\n",
       "      <td>...</td>\n",
       "      <td>...</td>\n",
       "      <td>...</td>\n",
       "    </tr>\n",
       "    <tr>\n",
       "      <td>4655</td>\n",
       "      <td>21648.000000</td>\n",
       "      <td>507.000000</td>\n",
       "      <td>-0.904624</td>\n",
       "      <td>4.000000</td>\n",
       "      <td>494.000000</td>\n",
       "      <td>-1.268212</td>\n",
       "      <td>0.200130</td>\n",
       "      <td>1.183366</td>\n",
       "      <td>0.632666</td>\n",
       "      <td>1.285620</td>\n",
       "      <td>...</td>\n",
       "      <td>-0.251326</td>\n",
       "      <td>-0.431902</td>\n",
       "      <td>-0.516508</td>\n",
       "      <td>0.000000</td>\n",
       "      <td>0.000000</td>\n",
       "      <td>-0.405350</td>\n",
       "      <td>-1.087522</td>\n",
       "      <td>-0.790936</td>\n",
       "      <td>-0.070925</td>\n",
       "      <td>-0.161598</td>\n",
       "    </tr>\n",
       "    <tr>\n",
       "      <td>15876</td>\n",
       "      <td>6433191.000000</td>\n",
       "      <td>432.000000</td>\n",
       "      <td>4.726462</td>\n",
       "      <td>4.000000</td>\n",
       "      <td>494.000000</td>\n",
       "      <td>0.853452</td>\n",
       "      <td>2.356503</td>\n",
       "      <td>-0.631781</td>\n",
       "      <td>2.371507</td>\n",
       "      <td>-0.644741</td>\n",
       "      <td>...</td>\n",
       "      <td>5.967902</td>\n",
       "      <td>6.006621</td>\n",
       "      <td>5.743894</td>\n",
       "      <td>0.000000</td>\n",
       "      <td>0.000000</td>\n",
       "      <td>5.907344</td>\n",
       "      <td>4.331499</td>\n",
       "      <td>7.312456</td>\n",
       "      <td>5.465959</td>\n",
       "      <td>-0.161598</td>\n",
       "    </tr>\n",
       "    <tr>\n",
       "      <td>10034</td>\n",
       "      <td>107166.000000</td>\n",
       "      <td>1106.000000</td>\n",
       "      <td>1.320003</td>\n",
       "      <td>4.000000</td>\n",
       "      <td>494.000000</td>\n",
       "      <td>1.352513</td>\n",
       "      <td>2.356503</td>\n",
       "      <td>-0.631781</td>\n",
       "      <td>0.632666</td>\n",
       "      <td>-0.644741</td>\n",
       "      <td>...</td>\n",
       "      <td>2.743288</td>\n",
       "      <td>2.643205</td>\n",
       "      <td>1.711771</td>\n",
       "      <td>0.000000</td>\n",
       "      <td>0.000000</td>\n",
       "      <td>1.706131</td>\n",
       "      <td>0.889087</td>\n",
       "      <td>0.633102</td>\n",
       "      <td>1.246660</td>\n",
       "      <td>-0.161598</td>\n",
       "    </tr>\n",
       "    <tr>\n",
       "      <td>7847</td>\n",
       "      <td>74279.000000</td>\n",
       "      <td>3204.000000</td>\n",
       "      <td>-0.278948</td>\n",
       "      <td>4.000000</td>\n",
       "      <td>494.000000</td>\n",
       "      <td>1.352513</td>\n",
       "      <td>0.200130</td>\n",
       "      <td>-0.631781</td>\n",
       "      <td>0.632666</td>\n",
       "      <td>-0.644741</td>\n",
       "      <td>...</td>\n",
       "      <td>0.300983</td>\n",
       "      <td>0.384615</td>\n",
       "      <td>0.332360</td>\n",
       "      <td>0.000000</td>\n",
       "      <td>0.000000</td>\n",
       "      <td>0.146060</td>\n",
       "      <td>-0.237033</td>\n",
       "      <td>-0.393810</td>\n",
       "      <td>-0.155971</td>\n",
       "      <td>-0.161598</td>\n",
       "    </tr>\n",
       "    <tr>\n",
       "      <td>7826</td>\n",
       "      <td>74010.000000</td>\n",
       "      <td>716.000000</td>\n",
       "      <td>-0.278948</td>\n",
       "      <td>4.000000</td>\n",
       "      <td>494.000000</td>\n",
       "      <td>-1.030100</td>\n",
       "      <td>0.200130</td>\n",
       "      <td>1.183366</td>\n",
       "      <td>0.632666</td>\n",
       "      <td>1.285620</td>\n",
       "      <td>...</td>\n",
       "      <td>-0.066711</td>\n",
       "      <td>0.000560</td>\n",
       "      <td>-0.304291</td>\n",
       "      <td>0.000000</td>\n",
       "      <td>0.000000</td>\n",
       "      <td>-0.168470</td>\n",
       "      <td>-0.169582</td>\n",
       "      <td>-0.348368</td>\n",
       "      <td>0.108916</td>\n",
       "      <td>-0.161598</td>\n",
       "    </tr>\n",
       "  </tbody>\n",
       "</table>\n",
       "<p>589 rows × 212 columns</p>\n",
       "</div>"
      ],
      "text/plain": [
       "                 cid  canonical_smiles     xlogp  odor level  odor name  \\\n",
       "12941  643723.000000        357.000000  2.501836    4.000000  38.000000   \n",
       "12778  637195.000000        824.000000  4.170305    4.000000  38.000000   \n",
       "10700  118262.000000       2248.000000 -0.557026    4.000000  38.000000   \n",
       "91        307.000000         54.000000 -0.626545    4.000000  38.000000   \n",
       "8557    86749.000000       1905.000000  0.138170    4.000000 124.000000   \n",
       "...              ...               ...       ...         ...        ...   \n",
       "4655    21648.000000        507.000000 -0.904624    4.000000 494.000000   \n",
       "15876 6433191.000000        432.000000  4.726462    4.000000 494.000000   \n",
       "10034  107166.000000       1106.000000  1.320003    4.000000 494.000000   \n",
       "7847    74279.000000       3204.000000 -0.278948    4.000000 494.000000   \n",
       "7826    74010.000000        716.000000 -0.278948    4.000000 494.000000   \n",
       "\n",
       "           fsp3  small rings  arom rings  ring blocks  arom blocks  ...  \\\n",
       "12941  0.603735     1.278317   -0.631781     0.632666    -0.644741  ...   \n",
       "12778  0.841846    -0.878056   -0.631781    -1.106175    -0.644741  ...   \n",
       "10700 -0.051447    -0.878056   -0.631781    -1.106175    -0.644741  ...   \n",
       "91    -2.391380     0.200130    1.183366     0.632666     1.285620  ...   \n",
       "8557   0.603735    -0.878056   -0.631781    -1.106175    -0.644741  ...   \n",
       "...         ...          ...         ...          ...          ...  ...   \n",
       "4655  -1.268212     0.200130    1.183366     0.632666     1.285620  ...   \n",
       "15876  0.853452     2.356503   -0.631781     2.371507    -0.644741  ...   \n",
       "10034  1.352513     2.356503   -0.631781     0.632666    -0.644741  ...   \n",
       "7847   1.352513     0.200130   -0.631781     0.632666    -0.644741  ...   \n",
       "7826  -1.030100     0.200130    1.183366     0.632666     1.285620  ...   \n",
       "\n",
       "          atsm4     atsm5     natom  arom bond  arom atom      apol     alogp  \\\n",
       "12941  3.480211  3.700157  2.772856   0.000000   0.000000  2.847404  1.887593   \n",
       "12778  1.361237  1.778281  3.940049   0.000000   0.000000  3.845563  3.655258   \n",
       "10700 -0.665941 -0.239875 -0.516508   0.000000   0.000000 -0.631355 -0.314823   \n",
       "91    -0.757737 -0.768084 -1.153159   0.000000   0.000000 -0.945885 -0.670188   \n",
       "8557  -0.573634 -0.623930  0.226252   0.000000   0.000000  0.063158  0.376199   \n",
       "...         ...       ...       ...        ...        ...       ...       ...   \n",
       "4655  -0.251326 -0.431902 -0.516508   0.000000   0.000000 -0.405350 -1.087522   \n",
       "15876  5.967902  6.006621  5.743894   0.000000   0.000000  5.907344  4.331499   \n",
       "10034  2.743288  2.643205  1.711771   0.000000   0.000000  1.706131  0.889087   \n",
       "7847   0.300983  0.384615  0.332360   0.000000   0.000000  0.146060 -0.237033   \n",
       "7826  -0.066711  0.000560 -0.304291   0.000000   0.000000 -0.168470 -0.169582   \n",
       "\n",
       "         alogp2       amr      acid  \n",
       "12941  2.021194  2.609406 -0.161598  \n",
       "12778  5.579249  3.470610 -0.161598  \n",
       "10700 -0.443663 -0.800006 -0.161598  \n",
       "91    -0.636757 -0.392422 -0.161598  \n",
       "8557   0.094600 -0.132868 -0.161598  \n",
       "...         ...       ...       ...  \n",
       "4655  -0.790936 -0.070925 -0.161598  \n",
       "15876  7.312456  5.465959 -0.161598  \n",
       "10034  0.633102  1.246660 -0.161598  \n",
       "7847  -0.393810 -0.155971 -0.161598  \n",
       "7826  -0.348368  0.108916 -0.161598  \n",
       "\n",
       "[589 rows x 212 columns]"
      ]
     },
     "execution_count": 51,
     "metadata": {},
     "output_type": "execute_result"
    }
   ],
   "source": [
    "sensorama2_4=[]\n",
    "\n",
    "for i in range(29, len(sensorama_4)-29):\n",
    "    if sensorama_4.iloc[i,4] == sensorama_4.iloc[i+29,4] or sensorama_4.iloc[i,4] == sensorama_4.iloc[i-29,4]:\n",
    "        sensorama2_4.append(sensorama_4.iloc[i,:]) \n",
    "\n",
    "sensorama2_4= pd.DataFrame(sensorama2_4)\n",
    "sensorama2_4"
   ]
  },
  {
   "cell_type": "code",
   "execution_count": 52,
   "metadata": {},
   "outputs": [
    {
     "name": "stdout",
     "output_type": "stream",
     "text": [
      "14\n"
     ]
    }
   ],
   "source": [
    "count=0\n",
    "for i in range(1, len(sensorama2_4)):\n",
    "    if sensorama2_4.iloc[i,4]!= sensorama2_4.iloc[i-1,4]:\n",
    "        count = count +1\n",
    "print(count)"
   ]
  },
  {
   "cell_type": "code",
   "execution_count": 53,
   "metadata": {},
   "outputs": [],
   "source": [
    "X = sensorama2_4[[ 'xlogp','fsp3', 'small rings','arom rings','ring blocks','arom blocks','rings 3','rings 4', 'rings 5', 'rings 6',\n",
    "               'rings 7', 'rings 8', 'rings 9', 'tpsa efficiency', 'zagreb indices', 'weiner path', 'weiner polarity', 'wtpt.1',\n",
    "               'wtpt.2', 'wtpt.3', 'wtpt.4', 'wtpt.5', 'molecular weight', 'VAdjMat', 'topoPSA', 'lipinski failures', 'rotatable bonds',\n",
    "               'topo shape', 'petitjean number', 'mdec.11', 'mdec.12', 'mdec.13', 'mdec.14', 'mdec.22', 'mdec.23', 'mdec.24',\n",
    "               'mdec.33', 'mdec.34', 'mdec.44', 'mdeo.11', 'mdeo.12', 'mdeo.22', 'mden.11', 'mden.12', 'mden.13', 'mden.22',\n",
    "               'mden.23', 'mden.33', 'mlogp', 'atom p', 'atom lc', 'khs.sli', 'khs.ssbe', 'khs.ssssbe', 'khs.ssbh', 'khs.sssb',\n",
    "               'khs.ssssb', 'khs.sch3', 'khs.dch2', 'khs.ssch2', 'khs.tch', 'khs.dsch', 'khs.aach', 'khs.sssch', 'khs.ddc',\n",
    "               'khs.tsc', 'khs.dssc', 'khs.aasc', 'khs.aaac', 'khs.ssssc', 'khs.snh3', 'khs.snh2', 'khs.ssnh', 'khs.dnh', 'khs.ssnh.1',\n",
    "               'khs.aanh', 'khs.tn', 'khs.sssnh', 'khs.dsn', 'khs.aan', 'khs.sssn', 'khs.dsn.1', 'khs.aasn', 'khs.ssssn', 'khs.soh',\n",
    "               'khs.do', 'khs.sso', 'khs.aao', 'khs.sf', 'khs.ssih3', 'khs.sssih2', 'khs.ssssih', 'khs.sssssi', 'khs.sph2',\n",
    "               'khs.ssph', 'khs.sssp', 'khs.dsssp', 'khs.sssssp', 'khs.ssh', 'khs.ds', 'khs.sss', 'khs.aas', 'khs.dsss', 'khs.ddsss',\n",
    "               'khs.scl', 'khs.sGeH3', 'khs.ssGeH2', 'khs.sssGeH', 'khs.ssssGe', 'khs.sash2', 'khs.ssash', 'khs.sssas', 'khs.sssdas',\n",
    "               'khs.sssssas', 'khs.sseh', 'khs.dse', 'khs.ssse', 'khs.aase', 'khs.dssse', 'khs.ddssse', 'khs.sbr', 'khs.ssnh3', \n",
    "               'khs.sssnh2', 'khs.ssssnh', 'khs.sssssn', 'khs.si', 'khs.spbh3', 'khs.sspbh2', 'khs.ssspbh', 'khs.sssspb', 'kier 1',\n",
    "               'kier 2', 'hybRatio', 'hbdon', 'hbacc', 'fragc', 'fmf', 'eccen', 'SP.0', 'SP.1', 'SP.2', 'SP.3', 'SP.4', 'SP.5', 'SP.6',\n",
    "               'SP.7', 'VP.0', 'VP.1', 'VP.2', 'VP.3', 'VP.4', 'VP.5', 'VP.6', 'VP.7', 'SPC.4', 'SPC.5', 'SPC.6', 'VPC.4', 'VPC.5',\n",
    "               'VPC.6', 'SC.3', 'SC.4', 'SC.5', 'SC.6', 'VC.3', 'VC.4', 'VC.5', 'VC.6', 'SCH.3', 'SCH.4', 'SCH.5', 'SCH.6', 'SCH.7',\n",
    "               'VCH.3', 'VCH.4', 'VCH.3', 'VCH.4', 'VCH.5', 'VCH.6', 'VCH.7', 'C1SP1', 'C2SP1', 'C1SP2', 'C2SP2', 'C3SP2', 'C1SP3',\n",
    "               'C2SP3', 'C3SP3', 'C4SP3', 'bpol', 'bond count', 'basic group count', 'atsp1', 'atsp2' , 'atsp3', 'atsp4', 'atsp5',\n",
    "               'atsm1', 'atsm2','atsm3','atsm4','atsm5', 'natom','arom bond', 'arom atom', 'apol','alogp', 'alogp2', 'amr', 'acid']]\n",
    "y = sensorama2_4['odor name']"
   ]
  },
  {
   "cell_type": "markdown",
   "metadata": {},
   "source": [
    "#### RANDOM FOREST"
   ]
  },
  {
   "cell_type": "code",
   "execution_count": 54,
   "metadata": {},
   "outputs": [
    {
     "name": "stdout",
     "output_type": "stream",
     "text": [
      "Accuracy:  20.945945945945947 %\n"
     ]
    },
    {
     "data": {
      "image/png": "[encoded data removed]",
      "text/plain": [
       "<Figure size 432x288 with 2 Axes>"
      ]
     },
     "metadata": {
      "needs_background": "light"
     },
     "output_type": "display_data"
    }
   ],
   "source": [
    "X_train,X_test,y_train,y_test = train_test_split(X,y,test_size=0.25,random_state=0)\n",
    "sc_X = StandardScaler()\n",
    "X_train = sc_X.fit_transform(X_train)\n",
    "X_test = sc_X.transform(X_test)\n",
    "clf = RandomForestClassifier(n_estimators=100)\n",
    "clf.fit(X_train,y_train)\n",
    "y_pred=clf.predict(X_test)\n",
    "confusion_matrix = pd.crosstab(y_test, y_pred, rownames=['Actual'], colnames=['Predicted'])\n",
    "sns.heatmap(confusion_matrix, annot=True)\n",
    "print('Accuracy: ',metrics.accuracy_score(y_test, y_pred)*100,'%')\n",
    "plt.show()"
   ]
  },
  {
   "cell_type": "markdown",
   "metadata": {},
   "source": [
    "##### Feature Importances "
   ]
  },
  {
   "cell_type": "code",
   "execution_count": 55,
   "metadata": {},
   "outputs": [
    {
     "data": {
      "image/png": "[encoded data removed]",
      "text/plain": [
       "<Figure size 432x288 with 1 Axes>"
      ]
     },
     "metadata": {
      "needs_background": "light"
     },
     "output_type": "display_data"
    }
   ],
   "source": [
    "featureImportances = pd.Series(clf.feature_importances_).sort_values(ascending=False)\n",
    "sns.barplot(x=round(featureImportances,8), y=featureImportances)\n",
    "plt.xlabel('Features Importance')\n",
    "plt.show()"
   ]
  },
  {
   "cell_type": "code",
   "execution_count": 56,
   "metadata": {},
   "outputs": [],
   "source": [
    "X = sensorama2_4[[ 'xlogp','fsp3', 'small rings','arom rings','ring blocks','arom blocks','rings 3','rings 4', 'rings 5', 'rings 6',\n",
    "               'rings 7', 'tpsa efficiency', 'zagreb indices', 'weiner path', 'weiner polarity', 'wtpt.1',\n",
    "               'wtpt.2', 'wtpt.3', 'wtpt.4', 'wtpt.5', 'molecular weight', 'VAdjMat', 'topoPSA', 'lipinski failures', 'rotatable bonds',\n",
    "               'topo shape', 'petitjean number', 'mdec.11', 'mdec.12', 'mdec.13', 'mdec.14', 'mdec.22', 'mdec.23', 'mdec.24',\n",
    "               'mdec.33', 'mdec.34', 'mdec.44', 'mdeo.11', 'mdeo.12', 'mdeo.22', 'mden.22',\n",
    "               'mden.23', 'mlogp', 'atom p', 'atom lc',\n",
    "                  'khs.sch3', 'khs.dch2', 'khs.ssch2','khs.dsch', 'khs.aach', 'khs.sssch', 'khs.ddc',\n",
    "               'khs.tsc', 'khs.dssc', 'khs.aasc', 'khs.aaac', 'khs.ssssc', 'khs.snh2', 'khs.ssnh.1',\n",
    "               'khs.tn', 'khs.dsn', 'khs.aan', 'khs.sssn', 'khs.dsn.1', 'khs.aasn', 'khs.soh',\n",
    "               'khs.do', 'khs.sso', 'khs.aao','khs.ssh', 'khs.ds', 'khs.sss', 'khs.aas', 'khs.dsss','kier 1',\n",
    "               'kier 2', 'hybRatio', 'hbdon', 'hbacc', 'fragc', 'fmf', 'eccen', 'SP.0', 'SP.1', 'SP.2', 'SP.3', 'SP.4', 'SP.5', 'SP.6',\n",
    "               'SP.7', 'VP.0', 'VP.1', 'VP.2', 'VP.3', 'VP.4', 'VP.5', 'VP.6', 'VP.7', 'SPC.4', 'SPC.5', 'SPC.6', 'VPC.4', 'VPC.5',\n",
    "               'VPC.6', 'SC.3', 'SC.4', 'SC.5', 'SC.6', 'VC.3', 'VC.4', 'VC.5', 'VC.6', 'SCH.3', 'SCH.4', 'SCH.5', 'SCH.6', 'SCH.7',\n",
    "               'VCH.3', 'VCH.4', 'VCH.3', 'VCH.4', 'VCH.5', 'VCH.6', 'VCH.7', 'C1SP1', 'C2SP1', 'C1SP2', 'C2SP2', 'C3SP2', 'C1SP3',\n",
    "               'C2SP3', 'C3SP3', 'C4SP3', 'bpol', 'bond count', 'basic group count', 'atsp1', 'atsp2' , 'atsp3', 'atsp4', 'atsp5',\n",
    "               'atsm1', 'atsm2','atsm3','atsm4','atsm5', 'natom', 'apol','alogp', 'alogp2', 'amr', 'acid']]\n",
    "y = sensorama2_4['odor name']"
   ]
  },
  {
   "cell_type": "code",
   "execution_count": 57,
   "metadata": {},
   "outputs": [
    {
     "name": "stdout",
     "output_type": "stream",
     "text": [
      "Accuracy:  22.2972972972973 %\n"
     ]
    },
    {
     "data": {
      "image/png": "[encoded data removed]",
      "text/plain": [
       "<Figure size 432x288 with 2 Axes>"
      ]
     },
     "metadata": {
      "needs_background": "light"
     },
     "output_type": "display_data"
    }
   ],
   "source": [
    "X_train,X_test,y_train,y_test = train_test_split(X,y,test_size=0.25,random_state=0)\n",
    "sc_X = StandardScaler()\n",
    "X_train = sc_X.fit_transform(X_train)\n",
    "X_test = sc_X.transform(X_test)\n",
    "clf = RandomForestClassifier(n_estimators=100)\n",
    "clf.fit(X_train,y_train)\n",
    "y_pred=clf.predict(X_test)\n",
    "confusion_matrix = pd.crosstab(y_test, y_pred, rownames=['Actual'], colnames=['Predicted'])\n",
    "sns.heatmap(confusion_matrix, annot=True)\n",
    "print('Accuracy: ',metrics.accuracy_score(y_test, y_pred)*100,'%')\n",
    "plt.show()"
   ]
  },
  {
   "cell_type": "markdown",
   "metadata": {},
   "source": [
    "#### SUPPORT VECTOR MACHINE "
   ]
  },
  {
   "cell_type": "markdown",
   "metadata": {},
   "source": [
    "##### rbf Kernel "
   ]
  },
  {
   "cell_type": "code",
   "execution_count": 58,
   "metadata": {},
   "outputs": [
    {
     "name": "stdout",
     "output_type": "stream",
     "text": [
      "Accuracy: 27.7027027027027 %\n"
     ]
    }
   ],
   "source": [
    "X_tr, X_tst, y_tr, y_tst = train_test_split(X, y, test_size=25/100,random_state=109)\n",
    "clf = svm.SVC(kernel='rbf') # creating Support Vector Machine model\n",
    "clf.fit(X_tr, y_tr) # training the Model\n",
    "y_pr = clf.predict(X_tst) # making Predictions\n",
    "\n",
    "# Evaluating Prediction Accuracy\n",
    "print(\"Accuracy:\",metrics.accuracy_score(y_tst, y_pr)*100,\"%\")"
   ]
  },
  {
   "cell_type": "markdown",
   "metadata": {},
   "source": [
    "##### Polynomial Kernel\n"
   ]
  },
  {
   "cell_type": "code",
   "execution_count": 59,
   "metadata": {},
   "outputs": [
    {
     "name": "stdout",
     "output_type": "stream",
     "text": [
      "Accuracy: 20.945945945945947 %\n"
     ]
    }
   ],
   "source": [
    "X_tr, X_tst, y_tr, y_tst = train_test_split(X, y, test_size=25/100,random_state=109)\n",
    "clf = svm.SVC(kernel='poly') # Creating Support Vector Machine Model\n",
    "clf.fit(X_tr,y_tr) # fit classifier to training set\n",
    "y_pr = clf.predict(X_tst) # Making Predictions\n",
    "\n",
    "# Evaluating Prediction Accuracy\n",
    "print(\"Accuracy:\",metrics.accuracy_score(y_tst, y_pr)*100,\"%\")"
   ]
  },
  {
   "cell_type": "markdown",
   "metadata": {},
   "source": [
    "##### Sigmoid Kernel "
   ]
  },
  {
   "cell_type": "code",
   "execution_count": 60,
   "metadata": {},
   "outputs": [
    {
     "name": "stdout",
     "output_type": "stream",
     "text": [
      "Accuracy: 20.27027027027027 %\n"
     ]
    }
   ],
   "source": [
    "X_tr, X_tst, y_tr, y_tst = train_test_split(X, y, test_size=25/100,random_state=109)\n",
    "clf=svm.SVC(kernel='sigmoid') # instantiate classifier with sigmoid kernel\n",
    "clf.fit(X_tr,y_tr) # fit classifier to training set\n",
    "y_pr = clf.predict(X_tst) # Making Predictions\n",
    "\n",
    "# Evaluating Prediction Accuracy\n",
    "print(\"Accuracy:\",metrics.accuracy_score(y_tst, y_pr)*100,\"%\")"
   ]
  },
  {
   "cell_type": "markdown",
   "metadata": {},
   "source": [
    "#### DECISION TREE"
   ]
  },
  {
   "cell_type": "code",
   "execution_count": 61,
   "metadata": {},
   "outputs": [
    {
     "name": "stdout",
     "output_type": "stream",
     "text": [
      "Accuracy: 13.559322033898304 %\n"
     ]
    }
   ],
   "source": [
    "# Split dataset into training set and test set\n",
    "X_train, X_test, y_train, y_test = train_test_split(X, y, test_size=0.3, random_state=1) # 70% training and 30% test\n",
    "clf = DecisionTreeClassifier() # Create Decision Tree classifer object\n",
    "clf = clf.fit(X_train,y_train) # Train Decision Tree Classifer\n",
    "y_pred = clf.predict(X_test) # Predict the response for test dataset\n",
    "\n",
    "# how often is the classifier correct?\n",
    "print(\"Accuracy:\",metrics.accuracy_score(y_test, y_pred)*100,\"%\")"
   ]
  },
  {
   "cell_type": "markdown",
   "metadata": {},
   "source": [
    "#### LOGISTIC REGRESSION "
   ]
  },
  {
   "cell_type": "code",
   "execution_count": 62,
   "metadata": {},
   "outputs": [
    {
     "name": "stdout",
     "output_type": "stream",
     "text": [
      "Accuracy:  16.89189189189189 %\n"
     ]
    }
   ],
   "source": [
    "X_train,X_test,y_train,y_test = train_test_split(X,y,test_size=0.25,random_state=0)\n",
    "clf= LogisticRegression( max_iter=100000000)\n",
    "clf.fit(X_train,y_train)\n",
    "y_pred=clf.predict(X_test)\n",
    "print('Accuracy: ',metrics.accuracy_score(y_test, y_pred)*100,'%')"
   ]
  },
  {
   "cell_type": "markdown",
   "metadata": {},
   "source": [
    "#### K-Nearest Neighbor "
   ]
  },
  {
   "cell_type": "code",
   "execution_count": 63,
   "metadata": {},
   "outputs": [
    {
     "data": {
      "text/plain": [
       "Text(0, 0.5, 'Accuracy')"
      ]
     },
     "execution_count": 63,
     "metadata": {},
     "output_type": "execute_result"
    },
    {
     "data": {
      "image/png": "[encoded data removed]",
      "text/plain": [
       "<Figure size 864x432 with 1 Axes>"
      ]
     },
     "metadata": {
      "needs_background": "light"
     },
     "output_type": "display_data"
    }
   ],
   "source": [
    "# Split data into training and testing sets.\n",
    "X_train, X_test, y_train, y_test = train_test_split(X, y, random_state=42)\n",
    "accuracy=[]\n",
    "for i in range(1,21):\n",
    "    clf = KNeighborsClassifier(n_neighbors=i)\n",
    "    clf.fit(X_train, y_train)\n",
    "    ypred = clf.predict(X_test)\n",
    "    accuracy.append(metrics.accuracy_score(y_test, ypred))\n",
    "plt.figure(figsize=(12, 6))\n",
    "plt.plot(range(1, 21), accuracy, color='orange', linestyle='dashed', marker='o',\n",
    "         markerfacecolor='green', markersize=10)\n",
    "plt.title('Looking for the most accurate k value')\n",
    "plt.xlabel('K Value')\n",
    "plt.ylabel('Accuracy')"
   ]
  },
  {
   "cell_type": "code",
   "execution_count": 64,
   "metadata": {
    "scrolled": true
   },
   "outputs": [
    {
     "name": "stdout",
     "output_type": "stream",
     "text": [
      "Accuracy: 27.027027027027028 %\n"
     ]
    }
   ],
   "source": [
    "clf = KNeighborsClassifier(n_neighbors=7)\n",
    "clf.fit(X_train, y_train)\n",
    "ypred = clf.predict(X_test)\n",
    "\n",
    "# Best accuracy\n",
    "print(\"Accuracy:\",metrics.accuracy_score(y_test, ypred)*100,\"%\")"
   ]
  },
  {
   "cell_type": "markdown",
   "metadata": {},
   "source": [
    "### 10 MOST COMMON ODOR NAMES "
   ]
  },
  {
   "cell_type": "code",
   "execution_count": 65,
   "metadata": {},
   "outputs": [],
   "source": [
    "sensorama_4 = sensorama_4.sort_values('odor name')"
   ]
  },
  {
   "cell_type": "code",
   "execution_count": 73,
   "metadata": {},
   "outputs": [
    {
     "data": {
      "text/html": [
       "<div>\n",
       "<style scoped>\n",
       "    .dataframe tbody tr th:only-of-type {\n",
       "        vertical-align: middle;\n",
       "    }\n",
       "\n",
       "    .dataframe tbody tr th {\n",
       "        vertical-align: top;\n",
       "    }\n",
       "\n",
       "    .dataframe thead th {\n",
       "        text-align: right;\n",
       "    }\n",
       "</style>\n",
       "<table border=\"1\" class=\"dataframe\">\n",
       "  <thead>\n",
       "    <tr style=\"text-align: right;\">\n",
       "      <th></th>\n",
       "      <th>cid</th>\n",
       "      <th>canonical_smiles</th>\n",
       "      <th>xlogp</th>\n",
       "      <th>odor level</th>\n",
       "      <th>odor name</th>\n",
       "      <th>fsp3</th>\n",
       "      <th>small rings</th>\n",
       "      <th>arom rings</th>\n",
       "      <th>ring blocks</th>\n",
       "      <th>arom blocks</th>\n",
       "      <th>...</th>\n",
       "      <th>atsm4</th>\n",
       "      <th>atsm5</th>\n",
       "      <th>natom</th>\n",
       "      <th>arom bond</th>\n",
       "      <th>arom atom</th>\n",
       "      <th>apol</th>\n",
       "      <th>alogp</th>\n",
       "      <th>alogp2</th>\n",
       "      <th>amr</th>\n",
       "      <th>acid</th>\n",
       "    </tr>\n",
       "  </thead>\n",
       "  <tbody>\n",
       "    <tr>\n",
       "      <td>2096</td>\n",
       "      <td>8194.000000</td>\n",
       "      <td>2827.000000</td>\n",
       "      <td>1.459042</td>\n",
       "      <td>4.000000</td>\n",
       "      <td>124.000000</td>\n",
       "      <td>1.040647</td>\n",
       "      <td>-0.878056</td>\n",
       "      <td>-0.631781</td>\n",
       "      <td>-1.106175</td>\n",
       "      <td>-0.644741</td>\n",
       "      <td>...</td>\n",
       "      <td>-0.619532</td>\n",
       "      <td>-0.335622</td>\n",
       "      <td>0.862903</td>\n",
       "      <td>0.000000</td>\n",
       "      <td>0.000000</td>\n",
       "      <td>0.702711</td>\n",
       "      <td>1.485873</td>\n",
       "      <td>1.408762</td>\n",
       "      <td>0.353873</td>\n",
       "      <td>-0.161598</td>\n",
       "    </tr>\n",
       "    <tr>\n",
       "      <td>8711</td>\n",
       "      <td>89307.000000</td>\n",
       "      <td>2523.000000</td>\n",
       "      <td>0.972405</td>\n",
       "      <td>4.000000</td>\n",
       "      <td>124.000000</td>\n",
       "      <td>1.040647</td>\n",
       "      <td>-0.878056</td>\n",
       "      <td>-0.631781</td>\n",
       "      <td>-1.106175</td>\n",
       "      <td>-0.644741</td>\n",
       "      <td>...</td>\n",
       "      <td>0.116880</td>\n",
       "      <td>0.576642</td>\n",
       "      <td>0.969011</td>\n",
       "      <td>0.000000</td>\n",
       "      <td>0.000000</td>\n",
       "      <td>0.785612</td>\n",
       "      <td>1.275124</td>\n",
       "      <td>1.116536</td>\n",
       "      <td>0.413029</td>\n",
       "      <td>-0.161598</td>\n",
       "    </tr>\n",
       "    <tr>\n",
       "      <td>17904</td>\n",
       "      <td>66823518.000000</td>\n",
       "      <td>1568.000000</td>\n",
       "      <td>1.459042</td>\n",
       "      <td>4.000000</td>\n",
       "      <td>178.000000</td>\n",
       "      <td>0.603735</td>\n",
       "      <td>-0.878056</td>\n",
       "      <td>-0.631781</td>\n",
       "      <td>0.632666</td>\n",
       "      <td>-0.644741</td>\n",
       "      <td>...</td>\n",
       "      <td>0.532007</td>\n",
       "      <td>1.201665</td>\n",
       "      <td>1.393445</td>\n",
       "      <td>0.000000</td>\n",
       "      <td>0.000000</td>\n",
       "      <td>1.386350</td>\n",
       "      <td>1.514324</td>\n",
       "      <td>1.449749</td>\n",
       "      <td>1.202266</td>\n",
       "      <td>-0.161598</td>\n",
       "    </tr>\n",
       "    <tr>\n",
       "      <td>3955</td>\n",
       "      <td>16331.000000</td>\n",
       "      <td>3003.000000</td>\n",
       "      <td>-1.252222</td>\n",
       "      <td>4.000000</td>\n",
       "      <td>178.000000</td>\n",
       "      <td>0.520620</td>\n",
       "      <td>-0.878056</td>\n",
       "      <td>-0.631781</td>\n",
       "      <td>-1.106175</td>\n",
       "      <td>-0.644741</td>\n",
       "      <td>...</td>\n",
       "      <td>-0.435940</td>\n",
       "      <td>-0.144128</td>\n",
       "      <td>-0.092074</td>\n",
       "      <td>0.000000</td>\n",
       "      <td>0.000000</td>\n",
       "      <td>-0.228672</td>\n",
       "      <td>-0.897522</td>\n",
       "      <td>-0.730470</td>\n",
       "      <td>-0.432845</td>\n",
       "      <td>-0.161598</td>\n",
       "    </tr>\n",
       "    <tr>\n",
       "      <td>13938</td>\n",
       "      <td>5318599.000000</td>\n",
       "      <td>2595.000000</td>\n",
       "      <td>-0.209428</td>\n",
       "      <td>4.000000</td>\n",
       "      <td>178.000000</td>\n",
       "      <td>0.416540</td>\n",
       "      <td>-0.878056</td>\n",
       "      <td>-0.631781</td>\n",
       "      <td>-1.106175</td>\n",
       "      <td>-0.644741</td>\n",
       "      <td>...</td>\n",
       "      <td>-1.172352</td>\n",
       "      <td>-0.912238</td>\n",
       "      <td>-0.410399</td>\n",
       "      <td>0.000000</td>\n",
       "      <td>0.000000</td>\n",
       "      <td>-0.576404</td>\n",
       "      <td>0.025622</td>\n",
       "      <td>-0.205345</td>\n",
       "      <td>-0.709542</td>\n",
       "      <td>-0.161598</td>\n",
       "    </tr>\n",
       "    <tr>\n",
       "      <td>...</td>\n",
       "      <td>...</td>\n",
       "      <td>...</td>\n",
       "      <td>...</td>\n",
       "      <td>...</td>\n",
       "      <td>...</td>\n",
       "      <td>...</td>\n",
       "      <td>...</td>\n",
       "      <td>...</td>\n",
       "      <td>...</td>\n",
       "      <td>...</td>\n",
       "      <td>...</td>\n",
       "      <td>...</td>\n",
       "      <td>...</td>\n",
       "      <td>...</td>\n",
       "      <td>...</td>\n",
       "      <td>...</td>\n",
       "      <td>...</td>\n",
       "      <td>...</td>\n",
       "      <td>...</td>\n",
       "      <td>...</td>\n",
       "      <td>...</td>\n",
       "    </tr>\n",
       "    <tr>\n",
       "      <td>3773</td>\n",
       "      <td>15173.000000</td>\n",
       "      <td>3359.000000</td>\n",
       "      <td>-0.765585</td>\n",
       "      <td>4.000000</td>\n",
       "      <td>494.000000</td>\n",
       "      <td>-2.016991</td>\n",
       "      <td>0.200130</td>\n",
       "      <td>1.183366</td>\n",
       "      <td>0.632666</td>\n",
       "      <td>1.285620</td>\n",
       "      <td>...</td>\n",
       "      <td>0.070982</td>\n",
       "      <td>0.048433</td>\n",
       "      <td>-0.728725</td>\n",
       "      <td>0.000000</td>\n",
       "      <td>0.000000</td>\n",
       "      <td>-0.543202</td>\n",
       "      <td>-1.016185</td>\n",
       "      <td>-0.770144</td>\n",
       "      <td>0.042262</td>\n",
       "      <td>-0.161598</td>\n",
       "    </tr>\n",
       "    <tr>\n",
       "      <td>5917</td>\n",
       "      <td>61060.000000</td>\n",
       "      <td>1064.000000</td>\n",
       "      <td>-0.070389</td>\n",
       "      <td>4.000000</td>\n",
       "      <td>494.000000</td>\n",
       "      <td>1.352513</td>\n",
       "      <td>2.356503</td>\n",
       "      <td>-0.631781</td>\n",
       "      <td>0.632666</td>\n",
       "      <td>-0.644741</td>\n",
       "      <td>...</td>\n",
       "      <td>0.762008</td>\n",
       "      <td>-1.104799</td>\n",
       "      <td>0.014035</td>\n",
       "      <td>0.000000</td>\n",
       "      <td>0.000000</td>\n",
       "      <td>-0.074694</td>\n",
       "      <td>-0.328702</td>\n",
       "      <td>-0.452270</td>\n",
       "      <td>-0.460097</td>\n",
       "      <td>-0.161598</td>\n",
       "    </tr>\n",
       "    <tr>\n",
       "      <td>1444</td>\n",
       "      <td>7733.000000</td>\n",
       "      <td>884.000000</td>\n",
       "      <td>-0.348467</td>\n",
       "      <td>4.000000</td>\n",
       "      <td>494.000000</td>\n",
       "      <td>-0.349086</td>\n",
       "      <td>0.200130</td>\n",
       "      <td>1.183366</td>\n",
       "      <td>0.632666</td>\n",
       "      <td>1.285620</td>\n",
       "      <td>...</td>\n",
       "      <td>-0.113632</td>\n",
       "      <td>0.096307</td>\n",
       "      <td>0.120143</td>\n",
       "      <td>0.000000</td>\n",
       "      <td>0.000000</td>\n",
       "      <td>0.135186</td>\n",
       "      <td>-0.746868</td>\n",
       "      <td>-0.670969</td>\n",
       "      <td>0.230060</td>\n",
       "      <td>-0.161598</td>\n",
       "    </tr>\n",
       "    <tr>\n",
       "      <td>16242</td>\n",
       "      <td>6437737.000000</td>\n",
       "      <td>1749.000000</td>\n",
       "      <td>-0.765585</td>\n",
       "      <td>4.000000</td>\n",
       "      <td>494.000000</td>\n",
       "      <td>0.416540</td>\n",
       "      <td>3.434689</td>\n",
       "      <td>-0.631781</td>\n",
       "      <td>0.632666</td>\n",
       "      <td>-0.644741</td>\n",
       "      <td>...</td>\n",
       "      <td>0.992009</td>\n",
       "      <td>0.625049</td>\n",
       "      <td>0.120143</td>\n",
       "      <td>0.000000</td>\n",
       "      <td>0.000000</td>\n",
       "      <td>0.234213</td>\n",
       "      <td>-0.145642</td>\n",
       "      <td>-0.331750</td>\n",
       "      <td>0.091126</td>\n",
       "      <td>-0.161598</td>\n",
       "    </tr>\n",
       "    <tr>\n",
       "      <td>9515</td>\n",
       "      <td>102604.000000</td>\n",
       "      <td>1002.000000</td>\n",
       "      <td>0.902885</td>\n",
       "      <td>4.000000</td>\n",
       "      <td>494.000000</td>\n",
       "      <td>0.488423</td>\n",
       "      <td>-0.878056</td>\n",
       "      <td>-0.631781</td>\n",
       "      <td>-1.106175</td>\n",
       "      <td>-0.644741</td>\n",
       "      <td>...</td>\n",
       "      <td>-0.343122</td>\n",
       "      <td>-0.047314</td>\n",
       "      <td>0.969011</td>\n",
       "      <td>0.000000</td>\n",
       "      <td>0.000000</td>\n",
       "      <td>0.884639</td>\n",
       "      <td>0.986030</td>\n",
       "      <td>0.748191</td>\n",
       "      <td>0.695530</td>\n",
       "      <td>-0.161598</td>\n",
       "    </tr>\n",
       "  </tbody>\n",
       "</table>\n",
       "<p>506 rows × 212 columns</p>\n",
       "</div>"
      ],
      "text/plain": [
       "                  cid  canonical_smiles     xlogp  odor level  odor name  \\\n",
       "2096      8194.000000       2827.000000  1.459042    4.000000 124.000000   \n",
       "8711     89307.000000       2523.000000  0.972405    4.000000 124.000000   \n",
       "17904 66823518.000000       1568.000000  1.459042    4.000000 178.000000   \n",
       "3955     16331.000000       3003.000000 -1.252222    4.000000 178.000000   \n",
       "13938  5318599.000000       2595.000000 -0.209428    4.000000 178.000000   \n",
       "...               ...               ...       ...         ...        ...   \n",
       "3773     15173.000000       3359.000000 -0.765585    4.000000 494.000000   \n",
       "5917     61060.000000       1064.000000 -0.070389    4.000000 494.000000   \n",
       "1444      7733.000000        884.000000 -0.348467    4.000000 494.000000   \n",
       "16242  6437737.000000       1749.000000 -0.765585    4.000000 494.000000   \n",
       "9515    102604.000000       1002.000000  0.902885    4.000000 494.000000   \n",
       "\n",
       "           fsp3  small rings  arom rings  ring blocks  arom blocks  ...  \\\n",
       "2096   1.040647    -0.878056   -0.631781    -1.106175    -0.644741  ...   \n",
       "8711   1.040647    -0.878056   -0.631781    -1.106175    -0.644741  ...   \n",
       "17904  0.603735    -0.878056   -0.631781     0.632666    -0.644741  ...   \n",
       "3955   0.520620    -0.878056   -0.631781    -1.106175    -0.644741  ...   \n",
       "13938  0.416540    -0.878056   -0.631781    -1.106175    -0.644741  ...   \n",
       "...         ...          ...         ...          ...          ...  ...   \n",
       "3773  -2.016991     0.200130    1.183366     0.632666     1.285620  ...   \n",
       "5917   1.352513     2.356503   -0.631781     0.632666    -0.644741  ...   \n",
       "1444  -0.349086     0.200130    1.183366     0.632666     1.285620  ...   \n",
       "16242  0.416540     3.434689   -0.631781     0.632666    -0.644741  ...   \n",
       "9515   0.488423    -0.878056   -0.631781    -1.106175    -0.644741  ...   \n",
       "\n",
       "          atsm4     atsm5     natom  arom bond  arom atom      apol     alogp  \\\n",
       "2096  -0.619532 -0.335622  0.862903   0.000000   0.000000  0.702711  1.485873   \n",
       "8711   0.116880  0.576642  0.969011   0.000000   0.000000  0.785612  1.275124   \n",
       "17904  0.532007  1.201665  1.393445   0.000000   0.000000  1.386350  1.514324   \n",
       "3955  -0.435940 -0.144128 -0.092074   0.000000   0.000000 -0.228672 -0.897522   \n",
       "13938 -1.172352 -0.912238 -0.410399   0.000000   0.000000 -0.576404  0.025622   \n",
       "...         ...       ...       ...        ...        ...       ...       ...   \n",
       "3773   0.070982  0.048433 -0.728725   0.000000   0.000000 -0.543202 -1.016185   \n",
       "5917   0.762008 -1.104799  0.014035   0.000000   0.000000 -0.074694 -0.328702   \n",
       "1444  -0.113632  0.096307  0.120143   0.000000   0.000000  0.135186 -0.746868   \n",
       "16242  0.992009  0.625049  0.120143   0.000000   0.000000  0.234213 -0.145642   \n",
       "9515  -0.343122 -0.047314  0.969011   0.000000   0.000000  0.884639  0.986030   \n",
       "\n",
       "         alogp2       amr      acid  \n",
       "2096   1.408762  0.353873 -0.161598  \n",
       "8711   1.116536  0.413029 -0.161598  \n",
       "17904  1.449749  1.202266 -0.161598  \n",
       "3955  -0.730470 -0.432845 -0.161598  \n",
       "13938 -0.205345 -0.709542 -0.161598  \n",
       "...         ...       ...       ...  \n",
       "3773  -0.770144  0.042262 -0.161598  \n",
       "5917  -0.452270 -0.460097 -0.161598  \n",
       "1444  -0.670969  0.230060 -0.161598  \n",
       "16242 -0.331750  0.091126 -0.161598  \n",
       "9515   0.748191  0.695530 -0.161598  \n",
       "\n",
       "[506 rows x 212 columns]"
      ]
     },
     "execution_count": 73,
     "metadata": {},
     "output_type": "execute_result"
    }
   ],
   "source": [
    "sensorama2_4=[]\n",
    "\n",
    "for i in range(34, len(sensorama_4)-34):\n",
    "    if sensorama_4.iloc[i,4] == sensorama_4.iloc[i+34,4] or sensorama_4.iloc[i,4] == sensorama_4.iloc[i-34,4]:\n",
    "        sensorama2_4.append(sensorama_4.iloc[i,:]) \n",
    "\n",
    "sensorama2_4= pd.DataFrame(sensorama2_4)\n",
    "sensorama2_4"
   ]
  },
  {
   "cell_type": "code",
   "execution_count": 74,
   "metadata": {},
   "outputs": [
    {
     "name": "stdout",
     "output_type": "stream",
     "text": [
      "11\n"
     ]
    }
   ],
   "source": [
    "count=0\n",
    "for i in range(1, len(sensorama2_4)):\n",
    "    if sensorama2_4.iloc[i,4]!= sensorama2_4.iloc[i-1,4]:\n",
    "        count = count +1\n",
    "print(count)"
   ]
  },
  {
   "cell_type": "code",
   "execution_count": 75,
   "metadata": {},
   "outputs": [],
   "source": [
    "X = sensorama2_4[[ 'xlogp','fsp3', 'small rings','arom rings','ring blocks','arom blocks','rings 3','rings 4', 'rings 5', 'rings 6',\n",
    "               'rings 7', 'rings 8', 'rings 9', 'tpsa efficiency', 'zagreb indices', 'weiner path', 'weiner polarity', 'wtpt.1',\n",
    "               'wtpt.2', 'wtpt.3', 'wtpt.4', 'wtpt.5', 'molecular weight', 'VAdjMat', 'topoPSA', 'lipinski failures', 'rotatable bonds',\n",
    "               'topo shape', 'petitjean number', 'mdec.11', 'mdec.12', 'mdec.13', 'mdec.14', 'mdec.22', 'mdec.23', 'mdec.24',\n",
    "               'mdec.33', 'mdec.34', 'mdec.44', 'mdeo.11', 'mdeo.12', 'mdeo.22', 'mden.11', 'mden.12', 'mden.13', 'mden.22',\n",
    "               'mden.23', 'mden.33', 'mlogp', 'atom p', 'atom lc', 'khs.sli', 'khs.ssbe', 'khs.ssssbe', 'khs.ssbh', 'khs.sssb',\n",
    "               'khs.ssssb', 'khs.sch3', 'khs.dch2', 'khs.ssch2', 'khs.tch', 'khs.dsch', 'khs.aach', 'khs.sssch', 'khs.ddc',\n",
    "               'khs.tsc', 'khs.dssc', 'khs.aasc', 'khs.aaac', 'khs.ssssc', 'khs.snh3', 'khs.snh2', 'khs.ssnh', 'khs.dnh', 'khs.ssnh.1',\n",
    "               'khs.aanh', 'khs.tn', 'khs.sssnh', 'khs.dsn', 'khs.aan', 'khs.sssn', 'khs.dsn.1', 'khs.aasn', 'khs.ssssn', 'khs.soh',\n",
    "               'khs.do', 'khs.sso', 'khs.aao', 'khs.sf', 'khs.ssih3', 'khs.sssih2', 'khs.ssssih', 'khs.sssssi', 'khs.sph2',\n",
    "               'khs.ssph', 'khs.sssp', 'khs.dsssp', 'khs.sssssp', 'khs.ssh', 'khs.ds', 'khs.sss', 'khs.aas', 'khs.dsss', 'khs.ddsss',\n",
    "               'khs.scl', 'khs.sGeH3', 'khs.ssGeH2', 'khs.sssGeH', 'khs.ssssGe', 'khs.sash2', 'khs.ssash', 'khs.sssas', 'khs.sssdas',\n",
    "               'khs.sssssas', 'khs.sseh', 'khs.dse', 'khs.ssse', 'khs.aase', 'khs.dssse', 'khs.ddssse', 'khs.sbr', 'khs.ssnh3', \n",
    "               'khs.sssnh2', 'khs.ssssnh', 'khs.sssssn', 'khs.si', 'khs.spbh3', 'khs.sspbh2', 'khs.ssspbh', 'khs.sssspb', 'kier 1',\n",
    "               'kier 2', 'hybRatio', 'hbdon', 'hbacc', 'fragc', 'fmf', 'eccen', 'SP.0', 'SP.1', 'SP.2', 'SP.3', 'SP.4', 'SP.5', 'SP.6',\n",
    "               'SP.7', 'VP.0', 'VP.1', 'VP.2', 'VP.3', 'VP.4', 'VP.5', 'VP.6', 'VP.7', 'SPC.4', 'SPC.5', 'SPC.6', 'VPC.4', 'VPC.5',\n",
    "               'VPC.6', 'SC.3', 'SC.4', 'SC.5', 'SC.6', 'VC.3', 'VC.4', 'VC.5', 'VC.6', 'SCH.3', 'SCH.4', 'SCH.5', 'SCH.6', 'SCH.7',\n",
    "               'VCH.3', 'VCH.4', 'VCH.3', 'VCH.4', 'VCH.5', 'VCH.6', 'VCH.7', 'C1SP1', 'C2SP1', 'C1SP2', 'C2SP2', 'C3SP2', 'C1SP3',\n",
    "               'C2SP3', 'C3SP3', 'C4SP3', 'bpol', 'bond count', 'basic group count', 'atsp1', 'atsp2' , 'atsp3', 'atsp4', 'atsp5',\n",
    "               'atsm1', 'atsm2','atsm3','atsm4','atsm5', 'natom','arom bond', 'arom atom', 'apol','alogp', 'alogp2', 'amr', 'acid']]\n",
    "y = sensorama2_4['odor name']"
   ]
  },
  {
   "cell_type": "markdown",
   "metadata": {},
   "source": [
    "#### RANDOM FOREST"
   ]
  },
  {
   "cell_type": "code",
   "execution_count": 76,
   "metadata": {},
   "outputs": [
    {
     "name": "stdout",
     "output_type": "stream",
     "text": [
      "Accuracy:  24.409448818897637 %\n"
     ]
    },
    {
     "data": {
      "image/png": "[encoded data removed]",
      "text/plain": [
       "<Figure size 432x288 with 2 Axes>"
      ]
     },
     "metadata": {
      "needs_background": "light"
     },
     "output_type": "display_data"
    }
   ],
   "source": [
    "X_train,X_test,y_train,y_test = train_test_split(X,y,test_size=0.25,random_state=0)\n",
    "sc_X = StandardScaler()\n",
    "X_train = sc_X.fit_transform(X_train)\n",
    "X_test = sc_X.transform(X_test)\n",
    "clf = RandomForestClassifier(n_estimators=100)\n",
    "clf.fit(X_train,y_train)\n",
    "y_pred=clf.predict(X_test)\n",
    "confusion_matrix = pd.crosstab(y_test, y_pred, rownames=['Actual'], colnames=['Predicted'])\n",
    "sns.heatmap(confusion_matrix, annot=True)\n",
    "print('Accuracy: ',metrics.accuracy_score(y_test, y_pred)*100,'%')\n",
    "plt.show()"
   ]
  },
  {
   "cell_type": "markdown",
   "metadata": {},
   "source": [
    "##### Feature Importances "
   ]
  },
  {
   "cell_type": "code",
   "execution_count": 77,
   "metadata": {},
   "outputs": [
    {
     "data": {
      "image/png": "[encoded data removed]",
      "text/plain": [
       "<Figure size 432x288 with 1 Axes>"
      ]
     },
     "metadata": {
      "needs_background": "light"
     },
     "output_type": "display_data"
    }
   ],
   "source": [
    "featureImportances = pd.Series(clf.feature_importances_).sort_values(ascending=False)\n",
    "sns.barplot(x=round(featureImportances,8), y=featureImportances)\n",
    "plt.xlabel('Features Importance')\n",
    "plt.show()"
   ]
  },
  {
   "cell_type": "code",
   "execution_count": 79,
   "metadata": {},
   "outputs": [],
   "source": [
    "X = sensorama2_4[[ 'xlogp','fsp3', 'small rings','arom rings','ring blocks','arom blocks','rings 3','rings 4', 'rings 5', 'rings 6',\n",
    "               'rings 7', 'tpsa efficiency', 'zagreb indices', 'weiner path', 'weiner polarity', 'wtpt.1',\n",
    "               'wtpt.2', 'wtpt.3', 'wtpt.4', 'wtpt.5', 'molecular weight', 'VAdjMat', 'topoPSA', 'lipinski failures', 'rotatable bonds',\n",
    "               'topo shape', 'petitjean number', 'mdec.11', 'mdec.12', 'mdec.13', 'mdec.14', 'mdec.22', 'mdec.23', 'mdec.24',\n",
    "               'mdec.33', 'mdec.34', 'mdec.44', 'mdeo.11', 'mdeo.12', 'mdeo.22', 'mden.22',\n",
    "               'mden.23', 'mlogp', 'atom p', 'atom lc',\n",
    "                  'khs.sch3', 'khs.dch2', 'khs.ssch2','khs.dsch', 'khs.aach', 'khs.sssch', 'khs.ddc',\n",
    "               'khs.tsc', 'khs.dssc', 'khs.aasc', 'khs.aaac', 'khs.ssssc', 'khs.snh2', 'khs.ssnh.1',\n",
    "               'khs.tn', 'khs.dsn', 'khs.aan', 'khs.sssn', 'khs.dsn.1', 'khs.aasn', 'khs.soh',\n",
    "               'khs.do', 'khs.sso', 'khs.aao','khs.ssh', 'khs.ds', 'khs.sss', 'khs.aas', 'khs.dsss','kier 1',\n",
    "               'kier 2', 'hybRatio', 'hbdon', 'hbacc', 'fragc', 'fmf', 'eccen', 'SP.0', 'SP.1', 'SP.2', 'SP.3', 'SP.4', 'SP.5', 'SP.6',\n",
    "               'SP.7', 'VP.0', 'VP.1', 'VP.2', 'VP.3', 'VP.4', 'VP.5', 'VP.6', 'VP.7', 'SPC.4', 'SPC.5', 'SPC.6', 'VPC.4', 'VPC.5',\n",
    "               'VPC.6', 'SC.3', 'SC.4', 'SC.5', 'SC.6', 'VC.3', 'VC.4', 'VC.5', 'VC.6', 'SCH.3', 'SCH.4', 'SCH.5', 'SCH.6', 'SCH.7',\n",
    "               'VCH.3', 'VCH.4', 'VCH.3', 'VCH.4', 'VCH.5', 'VCH.6', 'VCH.7', 'C1SP1', 'C2SP1', 'C1SP2', 'C2SP2', 'C3SP2', 'C1SP3',\n",
    "               'C2SP3', 'C3SP3', 'C4SP3', 'bpol', 'bond count', 'atsp1', 'atsp2' , 'atsp3', 'atsp4', 'atsp5',\n",
    "               'atsm1', 'atsm2','atsm3','atsm4','atsm5', 'natom', 'apol','alogp', 'alogp2', 'amr', 'acid']]\n",
    "y = sensorama2_4['odor name']"
   ]
  },
  {
   "cell_type": "code",
   "execution_count": 80,
   "metadata": {},
   "outputs": [
    {
     "name": "stdout",
     "output_type": "stream",
     "text": [
      "Accuracy:  25.196850393700785 %\n"
     ]
    },
    {
     "data": {
      "image/png": "[encoded data removed]",
      "text/plain": [
       "<Figure size 432x288 with 2 Axes>"
      ]
     },
     "metadata": {
      "needs_background": "light"
     },
     "output_type": "display_data"
    }
   ],
   "source": [
    "X_train,X_test,y_train,y_test = train_test_split(X,y,test_size=0.25,random_state=0)\n",
    "sc_X = StandardScaler()\n",
    "X_train = sc_X.fit_transform(X_train)\n",
    "X_test = sc_X.transform(X_test)\n",
    "clf = RandomForestClassifier(n_estimators=100)\n",
    "clf.fit(X_train,y_train)\n",
    "y_pred=clf.predict(X_test)\n",
    "confusion_matrix = pd.crosstab(y_test, y_pred, rownames=['Actual'], colnames=['Predicted'])\n",
    "sns.heatmap(confusion_matrix, annot=True)\n",
    "print('Accuracy: ',metrics.accuracy_score(y_test, y_pred)*100,'%')\n",
    "plt.show()"
   ]
  },
  {
   "cell_type": "markdown",
   "metadata": {},
   "source": [
    "#### SUPPORT VECTOR MACHINE "
   ]
  },
  {
   "cell_type": "markdown",
   "metadata": {},
   "source": [
    "##### rbf Kernel "
   ]
  },
  {
   "cell_type": "code",
   "execution_count": 81,
   "metadata": {},
   "outputs": [
    {
     "name": "stdout",
     "output_type": "stream",
     "text": [
      "Accuracy: 24.409448818897637 %\n"
     ]
    }
   ],
   "source": [
    "X_tr, X_tst, y_tr, y_tst = train_test_split(X, y, test_size=25/100,random_state=109)\n",
    "clf = svm.SVC(kernel='rbf') # creating Support Vector Machine model\n",
    "clf.fit(X_tr, y_tr) # training the Model\n",
    "y_pr = clf.predict(X_tst) # making Predictions\n",
    "\n",
    "# Evaluating Prediction Accuracy\n",
    "print(\"Accuracy:\",metrics.accuracy_score(y_tst, y_pr)*100,\"%\")"
   ]
  },
  {
   "cell_type": "markdown",
   "metadata": {},
   "source": [
    "##### Polynomial Kernel\n"
   ]
  },
  {
   "cell_type": "code",
   "execution_count": 82,
   "metadata": {},
   "outputs": [
    {
     "name": "stdout",
     "output_type": "stream",
     "text": [
      "Accuracy: 21.25984251968504 %\n"
     ]
    }
   ],
   "source": [
    "X_tr, X_tst, y_tr, y_tst = train_test_split(X, y, test_size=25/100,random_state=109)\n",
    "clf = svm.SVC(kernel='poly') # Creating Support Vector Machine Model\n",
    "clf.fit(X_tr,y_tr) # fit classifier to training set\n",
    "y_pr = clf.predict(X_tst) # Making Predictions\n",
    "\n",
    "# Evaluating Prediction Accuracy\n",
    "print(\"Accuracy:\",metrics.accuracy_score(y_tst, y_pr)*100,\"%\")"
   ]
  },
  {
   "cell_type": "markdown",
   "metadata": {},
   "source": [
    "##### Sigmoid Kernel "
   ]
  },
  {
   "cell_type": "code",
   "execution_count": 83,
   "metadata": {},
   "outputs": [
    {
     "name": "stdout",
     "output_type": "stream",
     "text": [
      "Accuracy: 25.984251968503933 %\n"
     ]
    }
   ],
   "source": [
    "X_tr, X_tst, y_tr, y_tst = train_test_split(X, y, test_size=25/100,random_state=109)\n",
    "clf=svm.SVC(kernel='sigmoid') # instantiate classifier with sigmoid kernel\n",
    "clf.fit(X_tr,y_tr) # fit classifier to training set\n",
    "y_pr = clf.predict(X_tst) # Making Predictions\n",
    "\n",
    "# Evaluating Prediction Accuracy\n",
    "print(\"Accuracy:\",metrics.accuracy_score(y_tst, y_pr)*100,\"%\")"
   ]
  },
  {
   "cell_type": "markdown",
   "metadata": {},
   "source": [
    "#### DECISION TREE"
   ]
  },
  {
   "cell_type": "code",
   "execution_count": 84,
   "metadata": {},
   "outputs": [
    {
     "name": "stdout",
     "output_type": "stream",
     "text": [
      "Accuracy: 19.736842105263158 %\n"
     ]
    }
   ],
   "source": [
    "# Split dataset into training set and test set\n",
    "X_train, X_test, y_train, y_test = train_test_split(X, y, test_size=0.3, random_state=1) # 70% training and 30% test\n",
    "clf = DecisionTreeClassifier() # Create Decision Tree classifer object\n",
    "clf = clf.fit(X_train,y_train) # Train Decision Tree Classifer\n",
    "y_pred = clf.predict(X_test) # Predict the response for test dataset\n",
    "\n",
    "# how often is the classifier correct?\n",
    "print(\"Accuracy:\",metrics.accuracy_score(y_test, y_pred)*100,\"%\")"
   ]
  },
  {
   "cell_type": "markdown",
   "metadata": {},
   "source": [
    "#### LOGISTIC REGRESSION "
   ]
  },
  {
   "cell_type": "code",
   "execution_count": 85,
   "metadata": {},
   "outputs": [
    {
     "name": "stdout",
     "output_type": "stream",
     "text": [
      "Accuracy:  20.47244094488189 %\n"
     ]
    }
   ],
   "source": [
    "X_train,X_test,y_train,y_test = train_test_split(X,y,test_size=0.25,random_state=0)\n",
    "clf= LogisticRegression( max_iter=100000000)\n",
    "clf.fit(X_train,y_train)\n",
    "y_pred=clf.predict(X_test)\n",
    "print('Accuracy: ',metrics.accuracy_score(y_test, y_pred)*100,'%')"
   ]
  },
  {
   "cell_type": "markdown",
   "metadata": {},
   "source": [
    "#### K-Nearest Neighbor "
   ]
  },
  {
   "cell_type": "code",
   "execution_count": 86,
   "metadata": {},
   "outputs": [
    {
     "data": {
      "text/plain": [
       "Text(0, 0.5, 'Accuracy')"
      ]
     },
     "execution_count": 86,
     "metadata": {},
     "output_type": "execute_result"
    },
    {
     "data": {
      "image/png": "[encoded data removed]",
      "text/plain": [
       "<Figure size 864x432 with 1 Axes>"
      ]
     },
     "metadata": {
      "needs_background": "light"
     },
     "output_type": "display_data"
    }
   ],
   "source": [
    "# Split data into training and testing sets.\n",
    "X_train, X_test, y_train, y_test = train_test_split(X, y, random_state=42)\n",
    "accuracy=[]\n",
    "for i in range(1,21):\n",
    "    clf = KNeighborsClassifier(n_neighbors=i)\n",
    "    clf.fit(X_train, y_train)\n",
    "    ypred = clf.predict(X_test)\n",
    "    accuracy.append(metrics.accuracy_score(y_test, ypred))\n",
    "plt.figure(figsize=(12, 6))\n",
    "plt.plot(range(1, 21), accuracy, color='orange', linestyle='dashed', marker='o',\n",
    "         markerfacecolor='green', markersize=10)\n",
    "plt.title('Looking for the most accurate k value')\n",
    "plt.xlabel('K Value')\n",
    "plt.ylabel('Accuracy')"
   ]
  },
  {
   "cell_type": "code",
   "execution_count": 87,
   "metadata": {
    "scrolled": true
   },
   "outputs": [
    {
     "name": "stdout",
     "output_type": "stream",
     "text": [
      "Accuracy: 23.62204724409449 %\n"
     ]
    }
   ],
   "source": [
    "clf = KNeighborsClassifier(n_neighbors=12)\n",
    "clf.fit(X_train, y_train)\n",
    "ypred = clf.predict(X_test)\n",
    "\n",
    "# Best accuracy\n",
    "print(\"Accuracy:\",metrics.accuracy_score(y_test, ypred)*100,\"%\")"
   ]
  },
  {
   "cell_type": "markdown",
   "metadata": {},
   "source": [
    "### 7 MOST COMMON ODOR NAMES "
   ]
  },
  {
   "cell_type": "code",
   "execution_count": 63,
   "metadata": {},
   "outputs": [],
   "source": [
    "sensorama_4 = sensorama_4.sort_values('odor name')"
   ]
  },
  {
   "cell_type": "code",
   "execution_count": 89,
   "metadata": {},
   "outputs": [
    {
     "data": {
      "text/html": [
       "<div>\n",
       "<style scoped>\n",
       "    .dataframe tbody tr th:only-of-type {\n",
       "        vertical-align: middle;\n",
       "    }\n",
       "\n",
       "    .dataframe tbody tr th {\n",
       "        vertical-align: top;\n",
       "    }\n",
       "\n",
       "    .dataframe thead th {\n",
       "        text-align: right;\n",
       "    }\n",
       "</style>\n",
       "<table border=\"1\" class=\"dataframe\">\n",
       "  <thead>\n",
       "    <tr style=\"text-align: right;\">\n",
       "      <th></th>\n",
       "      <th>cid</th>\n",
       "      <th>canonical_smiles</th>\n",
       "      <th>xlogp</th>\n",
       "      <th>odor level</th>\n",
       "      <th>odor name</th>\n",
       "      <th>fsp3</th>\n",
       "      <th>small rings</th>\n",
       "      <th>arom rings</th>\n",
       "      <th>ring blocks</th>\n",
       "      <th>arom blocks</th>\n",
       "      <th>...</th>\n",
       "      <th>atsm4</th>\n",
       "      <th>atsm5</th>\n",
       "      <th>natom</th>\n",
       "      <th>arom bond</th>\n",
       "      <th>arom atom</th>\n",
       "      <th>apol</th>\n",
       "      <th>alogp</th>\n",
       "      <th>alogp2</th>\n",
       "      <th>amr</th>\n",
       "      <th>acid</th>\n",
       "    </tr>\n",
       "  </thead>\n",
       "  <tbody>\n",
       "    <tr>\n",
       "      <td>11069</td>\n",
       "      <td>162418.000000</td>\n",
       "      <td>974.000000</td>\n",
       "      <td>0.555287</td>\n",
       "      <td>4.000000</td>\n",
       "      <td>188.000000</td>\n",
       "      <td>0.671873</td>\n",
       "      <td>-0.878056</td>\n",
       "      <td>-0.631781</td>\n",
       "      <td>-1.106175</td>\n",
       "      <td>-0.644741</td>\n",
       "      <td>...</td>\n",
       "      <td>-0.619532</td>\n",
       "      <td>-0.143594</td>\n",
       "      <td>0.544577</td>\n",
       "      <td>0.000000</td>\n",
       "      <td>0.000000</td>\n",
       "      <td>0.382929</td>\n",
       "      <td>0.678408</td>\n",
       "      <td>0.397569</td>\n",
       "      <td>0.167378</td>\n",
       "      <td>-0.161598</td>\n",
       "    </tr>\n",
       "    <tr>\n",
       "      <td>13173</td>\n",
       "      <td>2723653.000000</td>\n",
       "      <td>306.000000</td>\n",
       "      <td>-0.348467</td>\n",
       "      <td>4.000000</td>\n",
       "      <td>188.000000</td>\n",
       "      <td>-1.642601</td>\n",
       "      <td>0.200130</td>\n",
       "      <td>1.183366</td>\n",
       "      <td>0.632666</td>\n",
       "      <td>1.285620</td>\n",
       "      <td>...</td>\n",
       "      <td>0.454418</td>\n",
       "      <td>0.096307</td>\n",
       "      <td>-0.516508</td>\n",
       "      <td>0.000000</td>\n",
       "      <td>0.000000</td>\n",
       "      <td>-0.405350</td>\n",
       "      <td>-0.797318</td>\n",
       "      <td>-0.692031</td>\n",
       "      <td>0.004457</td>\n",
       "      <td>-0.161598</td>\n",
       "    </tr>\n",
       "    <tr>\n",
       "      <td>4316</td>\n",
       "      <td>18938.000000</td>\n",
       "      <td>1016.000000</td>\n",
       "      <td>0.138170</td>\n",
       "      <td>4.000000</td>\n",
       "      <td>188.000000</td>\n",
       "      <td>1.352513</td>\n",
       "      <td>-0.878056</td>\n",
       "      <td>-0.631781</td>\n",
       "      <td>-1.106175</td>\n",
       "      <td>-0.644741</td>\n",
       "      <td>...</td>\n",
       "      <td>-0.895942</td>\n",
       "      <td>-0.287748</td>\n",
       "      <td>0.120143</td>\n",
       "      <td>0.000000</td>\n",
       "      <td>0.000000</td>\n",
       "      <td>-0.118771</td>\n",
       "      <td>0.099873</td>\n",
       "      <td>-0.146440</td>\n",
       "      <td>-0.486602</td>\n",
       "      <td>-0.161598</td>\n",
       "    </tr>\n",
       "    <tr>\n",
       "      <td>15053</td>\n",
       "      <td>5367850.000000</td>\n",
       "      <td>2309.000000</td>\n",
       "      <td>-0.070389</td>\n",
       "      <td>4.000000</td>\n",
       "      <td>188.000000</td>\n",
       "      <td>0.331554</td>\n",
       "      <td>0.200130</td>\n",
       "      <td>-0.631781</td>\n",
       "      <td>0.632666</td>\n",
       "      <td>-0.644741</td>\n",
       "      <td>...</td>\n",
       "      <td>-0.389531</td>\n",
       "      <td>-0.479776</td>\n",
       "      <td>0.120143</td>\n",
       "      <td>0.000000</td>\n",
       "      <td>0.000000</td>\n",
       "      <td>0.107235</td>\n",
       "      <td>0.394241</td>\n",
       "      <td>0.111532</td>\n",
       "      <td>-0.000215</td>\n",
       "      <td>-0.161598</td>\n",
       "    </tr>\n",
       "    <tr>\n",
       "      <td>13014</td>\n",
       "      <td>853433.000000</td>\n",
       "      <td>1776.000000</td>\n",
       "      <td>-0.139908</td>\n",
       "      <td>4.000000</td>\n",
       "      <td>188.000000</td>\n",
       "      <td>-1.642601</td>\n",
       "      <td>0.200130</td>\n",
       "      <td>1.183366</td>\n",
       "      <td>0.632666</td>\n",
       "      <td>1.285620</td>\n",
       "      <td>...</td>\n",
       "      <td>0.316213</td>\n",
       "      <td>0.096307</td>\n",
       "      <td>-0.516508</td>\n",
       "      <td>0.000000</td>\n",
       "      <td>0.000000</td>\n",
       "      <td>-0.405350</td>\n",
       "      <td>-0.827920</td>\n",
       "      <td>-0.704248</td>\n",
       "      <td>0.095503</td>\n",
       "      <td>-0.161598</td>\n",
       "    </tr>\n",
       "    <tr>\n",
       "      <td>...</td>\n",
       "      <td>...</td>\n",
       "      <td>...</td>\n",
       "      <td>...</td>\n",
       "      <td>...</td>\n",
       "      <td>...</td>\n",
       "      <td>...</td>\n",
       "      <td>...</td>\n",
       "      <td>...</td>\n",
       "      <td>...</td>\n",
       "      <td>...</td>\n",
       "      <td>...</td>\n",
       "      <td>...</td>\n",
       "      <td>...</td>\n",
       "      <td>...</td>\n",
       "      <td>...</td>\n",
       "      <td>...</td>\n",
       "      <td>...</td>\n",
       "      <td>...</td>\n",
       "      <td>...</td>\n",
       "      <td>...</td>\n",
       "      <td>...</td>\n",
       "    </tr>\n",
       "    <tr>\n",
       "      <td>8299</td>\n",
       "      <td>82229.000000</td>\n",
       "      <td>1052.000000</td>\n",
       "      <td>-0.348467</td>\n",
       "      <td>4.000000</td>\n",
       "      <td>494.000000</td>\n",
       "      <td>0.978124</td>\n",
       "      <td>2.356503</td>\n",
       "      <td>-0.631781</td>\n",
       "      <td>0.632666</td>\n",
       "      <td>-0.644741</td>\n",
       "      <td>...</td>\n",
       "      <td>0.577393</td>\n",
       "      <td>-0.912238</td>\n",
       "      <td>-0.198182</td>\n",
       "      <td>0.000000</td>\n",
       "      <td>0.000000</td>\n",
       "      <td>-0.212547</td>\n",
       "      <td>-0.063688</td>\n",
       "      <td>-0.272911</td>\n",
       "      <td>-0.510484</td>\n",
       "      <td>-0.161598</td>\n",
       "    </tr>\n",
       "    <tr>\n",
       "      <td>17555</td>\n",
       "      <td>21149427.000000</td>\n",
       "      <td>1358.000000</td>\n",
       "      <td>-0.070389</td>\n",
       "      <td>4.000000</td>\n",
       "      <td>494.000000</td>\n",
       "      <td>0.416540</td>\n",
       "      <td>0.200130</td>\n",
       "      <td>-0.631781</td>\n",
       "      <td>0.632666</td>\n",
       "      <td>-0.644741</td>\n",
       "      <td>...</td>\n",
       "      <td>0.532007</td>\n",
       "      <td>-0.095721</td>\n",
       "      <td>0.544577</td>\n",
       "      <td>0.000000</td>\n",
       "      <td>0.000000</td>\n",
       "      <td>0.509918</td>\n",
       "      <td>0.106327</td>\n",
       "      <td>-0.141204</td>\n",
       "      <td>0.347494</td>\n",
       "      <td>-0.161598</td>\n",
       "    </tr>\n",
       "    <tr>\n",
       "      <td>1684</td>\n",
       "      <td>7921.000000</td>\n",
       "      <td>1575.000000</td>\n",
       "      <td>-1.530300</td>\n",
       "      <td>4.000000</td>\n",
       "      <td>494.000000</td>\n",
       "      <td>0.603735</td>\n",
       "      <td>0.200130</td>\n",
       "      <td>-0.631781</td>\n",
       "      <td>0.632666</td>\n",
       "      <td>-0.644741</td>\n",
       "      <td>...</td>\n",
       "      <td>-1.402864</td>\n",
       "      <td>-1.488854</td>\n",
       "      <td>-1.471484</td>\n",
       "      <td>0.000000</td>\n",
       "      <td>0.000000</td>\n",
       "      <td>-1.590699</td>\n",
       "      <td>-1.245601</td>\n",
       "      <td>-0.828865</td>\n",
       "      <td>-1.807172</td>\n",
       "      <td>-0.161598</td>\n",
       "    </tr>\n",
       "    <tr>\n",
       "      <td>14821</td>\n",
       "      <td>5365819.000000</td>\n",
       "      <td>926.000000</td>\n",
       "      <td>0.763846</td>\n",
       "      <td>4.000000</td>\n",
       "      <td>494.000000</td>\n",
       "      <td>-0.087388</td>\n",
       "      <td>-0.878056</td>\n",
       "      <td>-0.631781</td>\n",
       "      <td>-1.106175</td>\n",
       "      <td>-0.644741</td>\n",
       "      <td>...</td>\n",
       "      <td>-0.020813</td>\n",
       "      <td>0.672923</td>\n",
       "      <td>0.862903</td>\n",
       "      <td>0.000000</td>\n",
       "      <td>0.000000</td>\n",
       "      <td>0.829689</td>\n",
       "      <td>0.861677</td>\n",
       "      <td>0.601330</td>\n",
       "      <td>0.811727</td>\n",
       "      <td>-0.161598</td>\n",
       "    </tr>\n",
       "    <tr>\n",
       "      <td>3773</td>\n",
       "      <td>15173.000000</td>\n",
       "      <td>3359.000000</td>\n",
       "      <td>-0.765585</td>\n",
       "      <td>4.000000</td>\n",
       "      <td>494.000000</td>\n",
       "      <td>-2.016991</td>\n",
       "      <td>0.200130</td>\n",
       "      <td>1.183366</td>\n",
       "      <td>0.632666</td>\n",
       "      <td>1.285620</td>\n",
       "      <td>...</td>\n",
       "      <td>0.070982</td>\n",
       "      <td>0.048433</td>\n",
       "      <td>-0.728725</td>\n",
       "      <td>0.000000</td>\n",
       "      <td>0.000000</td>\n",
       "      <td>-0.543202</td>\n",
       "      <td>-1.016185</td>\n",
       "      <td>-0.770144</td>\n",
       "      <td>0.042262</td>\n",
       "      <td>-0.161598</td>\n",
       "    </tr>\n",
       "  </tbody>\n",
       "</table>\n",
       "<p>448 rows × 212 columns</p>\n",
       "</div>"
      ],
      "text/plain": [
       "                  cid  canonical_smiles     xlogp  odor level  odor name  \\\n",
       "11069   162418.000000        974.000000  0.555287    4.000000 188.000000   \n",
       "13173  2723653.000000        306.000000 -0.348467    4.000000 188.000000   \n",
       "4316     18938.000000       1016.000000  0.138170    4.000000 188.000000   \n",
       "15053  5367850.000000       2309.000000 -0.070389    4.000000 188.000000   \n",
       "13014   853433.000000       1776.000000 -0.139908    4.000000 188.000000   \n",
       "...               ...               ...       ...         ...        ...   \n",
       "8299     82229.000000       1052.000000 -0.348467    4.000000 494.000000   \n",
       "17555 21149427.000000       1358.000000 -0.070389    4.000000 494.000000   \n",
       "1684      7921.000000       1575.000000 -1.530300    4.000000 494.000000   \n",
       "14821  5365819.000000        926.000000  0.763846    4.000000 494.000000   \n",
       "3773     15173.000000       3359.000000 -0.765585    4.000000 494.000000   \n",
       "\n",
       "           fsp3  small rings  arom rings  ring blocks  arom blocks  ...  \\\n",
       "11069  0.671873    -0.878056   -0.631781    -1.106175    -0.644741  ...   \n",
       "13173 -1.642601     0.200130    1.183366     0.632666     1.285620  ...   \n",
       "4316   1.352513    -0.878056   -0.631781    -1.106175    -0.644741  ...   \n",
       "15053  0.331554     0.200130   -0.631781     0.632666    -0.644741  ...   \n",
       "13014 -1.642601     0.200130    1.183366     0.632666     1.285620  ...   \n",
       "...         ...          ...         ...          ...          ...  ...   \n",
       "8299   0.978124     2.356503   -0.631781     0.632666    -0.644741  ...   \n",
       "17555  0.416540     0.200130   -0.631781     0.632666    -0.644741  ...   \n",
       "1684   0.603735     0.200130   -0.631781     0.632666    -0.644741  ...   \n",
       "14821 -0.087388    -0.878056   -0.631781    -1.106175    -0.644741  ...   \n",
       "3773  -2.016991     0.200130    1.183366     0.632666     1.285620  ...   \n",
       "\n",
       "          atsm4     atsm5     natom  arom bond  arom atom      apol     alogp  \\\n",
       "11069 -0.619532 -0.143594  0.544577   0.000000   0.000000  0.382929  0.678408   \n",
       "13173  0.454418  0.096307 -0.516508   0.000000   0.000000 -0.405350 -0.797318   \n",
       "4316  -0.895942 -0.287748  0.120143   0.000000   0.000000 -0.118771  0.099873   \n",
       "15053 -0.389531 -0.479776  0.120143   0.000000   0.000000  0.107235  0.394241   \n",
       "13014  0.316213  0.096307 -0.516508   0.000000   0.000000 -0.405350 -0.827920   \n",
       "...         ...       ...       ...        ...        ...       ...       ...   \n",
       "8299   0.577393 -0.912238 -0.198182   0.000000   0.000000 -0.212547 -0.063688   \n",
       "17555  0.532007 -0.095721  0.544577   0.000000   0.000000  0.509918  0.106327   \n",
       "1684  -1.402864 -1.488854 -1.471484   0.000000   0.000000 -1.590699 -1.245601   \n",
       "14821 -0.020813  0.672923  0.862903   0.000000   0.000000  0.829689  0.861677   \n",
       "3773   0.070982  0.048433 -0.728725   0.000000   0.000000 -0.543202 -1.016185   \n",
       "\n",
       "         alogp2       amr      acid  \n",
       "11069  0.397569  0.167378 -0.161598  \n",
       "13173 -0.692031  0.004457 -0.161598  \n",
       "4316  -0.146440 -0.486602 -0.161598  \n",
       "15053  0.111532 -0.000215 -0.161598  \n",
       "13014 -0.704248  0.095503 -0.161598  \n",
       "...         ...       ...       ...  \n",
       "8299  -0.272911 -0.510484 -0.161598  \n",
       "17555 -0.141204  0.347494 -0.161598  \n",
       "1684  -0.828865 -1.807172 -0.161598  \n",
       "14821  0.601330  0.811727 -0.161598  \n",
       "3773  -0.770144  0.042262 -0.161598  \n",
       "\n",
       "[448 rows x 212 columns]"
      ]
     },
     "execution_count": 89,
     "metadata": {},
     "output_type": "execute_result"
    }
   ],
   "source": [
    "sensorama2_4=[]\n",
    "\n",
    "for i in range(38, len(sensorama_4)-38):\n",
    "    if sensorama_4.iloc[i,4] == sensorama_4.iloc[i+38,4] or sensorama_4.iloc[i,4] == sensorama_4.iloc[i-38,4]:\n",
    "        sensorama2_4.append(sensorama_4.iloc[i,:]) \n",
    "\n",
    "sensorama2_4= pd.DataFrame(sensorama2_4)\n",
    "sensorama2_4"
   ]
  },
  {
   "cell_type": "code",
   "execution_count": 90,
   "metadata": {},
   "outputs": [
    {
     "name": "stdout",
     "output_type": "stream",
     "text": [
      "7\n"
     ]
    }
   ],
   "source": [
    "count=0\n",
    "for i in range(1, len(sensorama2_4)):\n",
    "    if sensorama2_4.iloc[i,4]!= sensorama2_4.iloc[i-1,4]:\n",
    "        count = count +1\n",
    "print(count)"
   ]
  },
  {
   "cell_type": "code",
   "execution_count": 91,
   "metadata": {},
   "outputs": [],
   "source": [
    "X = sensorama2_4[[ 'xlogp','fsp3', 'small rings','arom rings','ring blocks','arom blocks','rings 3','rings 4', 'rings 5', 'rings 6',\n",
    "               'rings 7', 'rings 8', 'rings 9', 'tpsa efficiency', 'zagreb indices', 'weiner path', 'weiner polarity', 'wtpt.1',\n",
    "               'wtpt.2', 'wtpt.3', 'wtpt.4', 'wtpt.5', 'molecular weight', 'VAdjMat', 'topoPSA', 'lipinski failures', 'rotatable bonds',\n",
    "               'topo shape', 'petitjean number', 'mdec.11', 'mdec.12', 'mdec.13', 'mdec.14', 'mdec.22', 'mdec.23', 'mdec.24',\n",
    "               'mdec.33', 'mdec.34', 'mdec.44', 'mdeo.11', 'mdeo.12', 'mdeo.22', 'mden.11', 'mden.12', 'mden.13', 'mden.22',\n",
    "               'mden.23', 'mden.33', 'mlogp', 'atom p', 'atom lc', 'khs.sli', 'khs.ssbe', 'khs.ssssbe', 'khs.ssbh', 'khs.sssb',\n",
    "               'khs.ssssb', 'khs.sch3', 'khs.dch2', 'khs.ssch2', 'khs.tch', 'khs.dsch', 'khs.aach', 'khs.sssch', 'khs.ddc',\n",
    "               'khs.tsc', 'khs.dssc', 'khs.aasc', 'khs.aaac', 'khs.ssssc', 'khs.snh3', 'khs.snh2', 'khs.ssnh', 'khs.dnh', 'khs.ssnh.1',\n",
    "               'khs.aanh', 'khs.tn', 'khs.sssnh', 'khs.dsn', 'khs.aan', 'khs.sssn', 'khs.dsn.1', 'khs.aasn', 'khs.ssssn', 'khs.soh',\n",
    "               'khs.do', 'khs.sso', 'khs.aao', 'khs.sf', 'khs.ssih3', 'khs.sssih2', 'khs.ssssih', 'khs.sssssi', 'khs.sph2',\n",
    "               'khs.ssph', 'khs.sssp', 'khs.dsssp', 'khs.sssssp', 'khs.ssh', 'khs.ds', 'khs.sss', 'khs.aas', 'khs.dsss', 'khs.ddsss',\n",
    "               'khs.scl', 'khs.sGeH3', 'khs.ssGeH2', 'khs.sssGeH', 'khs.ssssGe', 'khs.sash2', 'khs.ssash', 'khs.sssas', 'khs.sssdas',\n",
    "               'khs.sssssas', 'khs.sseh', 'khs.dse', 'khs.ssse', 'khs.aase', 'khs.dssse', 'khs.ddssse', 'khs.sbr', 'khs.ssnh3', \n",
    "               'khs.sssnh2', 'khs.ssssnh', 'khs.sssssn', 'khs.si', 'khs.spbh3', 'khs.sspbh2', 'khs.ssspbh', 'khs.sssspb', 'kier 1',\n",
    "               'kier 2', 'hybRatio', 'hbdon', 'hbacc', 'fragc', 'fmf', 'eccen', 'SP.0', 'SP.1', 'SP.2', 'SP.3', 'SP.4', 'SP.5', 'SP.6',\n",
    "               'SP.7', 'VP.0', 'VP.1', 'VP.2', 'VP.3', 'VP.4', 'VP.5', 'VP.6', 'VP.7', 'SPC.4', 'SPC.5', 'SPC.6', 'VPC.4', 'VPC.5',\n",
    "               'VPC.6', 'SC.3', 'SC.4', 'SC.5', 'SC.6', 'VC.3', 'VC.4', 'VC.5', 'VC.6', 'SCH.3', 'SCH.4', 'SCH.5', 'SCH.6', 'SCH.7',\n",
    "               'VCH.3', 'VCH.4', 'VCH.3', 'VCH.4', 'VCH.5', 'VCH.6', 'VCH.7', 'C1SP1', 'C2SP1', 'C1SP2', 'C2SP2', 'C3SP2', 'C1SP3',\n",
    "               'C2SP3', 'C3SP3', 'C4SP3', 'bpol', 'bond count', 'basic group count', 'atsp1', 'atsp2' , 'atsp3', 'atsp4', 'atsp5',\n",
    "               'atsm1', 'atsm2','atsm3','atsm4','atsm5', 'natom','arom bond', 'arom atom', 'apol','alogp', 'alogp2', 'amr', 'acid']]\n",
    "y = sensorama2_4['odor name']"
   ]
  },
  {
   "cell_type": "markdown",
   "metadata": {},
   "source": [
    "#### RANDOM FOREST"
   ]
  },
  {
   "cell_type": "code",
   "execution_count": 92,
   "metadata": {},
   "outputs": [
    {
     "name": "stdout",
     "output_type": "stream",
     "text": [
      "Accuracy:  21.428571428571427 %\n"
     ]
    },
    {
     "data": {
      "image/png": "[encoded data removed]",
      "text/plain": [
       "<Figure size 432x288 with 2 Axes>"
      ]
     },
     "metadata": {
      "needs_background": "light"
     },
     "output_type": "display_data"
    }
   ],
   "source": [
    "X_train,X_test,y_train,y_test = train_test_split(X,y,test_size=0.25,random_state=0)\n",
    "sc_X = StandardScaler()\n",
    "X_train = sc_X.fit_transform(X_train)\n",
    "X_test = sc_X.transform(X_test)\n",
    "clf = RandomForestClassifier(n_estimators=100)\n",
    "clf.fit(X_train,y_train)\n",
    "y_pred=clf.predict(X_test)\n",
    "confusion_matrix = pd.crosstab(y_test, y_pred, rownames=['Actual'], colnames=['Predicted'])\n",
    "sns.heatmap(confusion_matrix, annot=True)\n",
    "print('Accuracy: ',metrics.accuracy_score(y_test, y_pred)*100,'%')\n",
    "plt.show()"
   ]
  },
  {
   "cell_type": "markdown",
   "metadata": {},
   "source": [
    "##### Feature Importances "
   ]
  },
  {
   "cell_type": "code",
   "execution_count": 93,
   "metadata": {},
   "outputs": [
    {
     "data": {
      "image/png": "[encoded data removed]",
      "text/plain": [
       "<Figure size 432x288 with 1 Axes>"
      ]
     },
     "metadata": {
      "needs_background": "light"
     },
     "output_type": "display_data"
    }
   ],
   "source": [
    "featureImportances = pd.Series(clf.feature_importances_).sort_values(ascending=False)\n",
    "sns.barplot(x=round(featureImportances,8), y=featureImportances)\n",
    "plt.xlabel('Features Importance')\n",
    "plt.show()"
   ]
  },
  {
   "cell_type": "code",
   "execution_count": 94,
   "metadata": {},
   "outputs": [],
   "source": [
    "X = sensorama2_4[[ 'xlogp','fsp3', 'small rings','arom rings','ring blocks','arom blocks','rings 3','rings 4', 'rings 5', 'rings 6',\n",
    "               'rings 7', 'tpsa efficiency', 'zagreb indices', 'weiner path', 'weiner polarity', 'wtpt.1',\n",
    "               'wtpt.2', 'wtpt.3', 'wtpt.4', 'wtpt.5', 'molecular weight', 'VAdjMat', 'topoPSA', 'lipinski failures', 'rotatable bonds',\n",
    "               'topo shape', 'petitjean number', 'mdec.11', 'mdec.12', 'mdec.13', 'mdec.14', 'mdec.22', 'mdec.23', 'mdec.24',\n",
    "               'mdec.33', 'mdec.34', 'mdec.44', 'mdeo.11', 'mdeo.12', 'mdeo.22', 'mden.22',\n",
    "               'mden.23', 'mlogp', 'atom p', 'atom lc',\n",
    "                  'khs.sch3', 'khs.dch2', 'khs.ssch2','khs.dsch', 'khs.aach', 'khs.sssch', 'khs.ddc',\n",
    "               'khs.tsc', 'khs.dssc', 'khs.aasc', 'khs.aaac', 'khs.ssssc', 'khs.snh2', 'khs.ssnh.1',\n",
    "               'khs.tn', 'khs.dsn', 'khs.aan', 'khs.sssn', 'khs.dsn.1', 'khs.aasn', 'khs.soh',\n",
    "               'khs.do', 'khs.sso', 'khs.aao','khs.ssh', 'khs.ds', 'khs.sss', 'khs.aas', 'khs.dsss','kier 1',\n",
    "               'kier 2', 'hybRatio', 'hbdon', 'hbacc', 'fragc', 'fmf', 'eccen', 'SP.0', 'SP.1', 'SP.2', 'SP.3', 'SP.4', 'SP.5', 'SP.6',\n",
    "               'SP.7', 'VP.0', 'VP.1', 'VP.2', 'VP.3', 'VP.4', 'VP.5', 'VP.6', 'VP.7', 'SPC.4', 'SPC.5', 'SPC.6', 'VPC.4', 'VPC.5',\n",
    "               'VPC.6', 'SC.3', 'SC.4', 'SC.5', 'SC.6', 'VC.3', 'VC.4', 'VC.5', 'VC.6', 'SCH.3', 'SCH.4', 'SCH.5', 'SCH.6', 'SCH.7',\n",
    "               'VCH.3', 'VCH.4', 'VCH.3', 'VCH.4', 'VCH.5', 'VCH.6', 'VCH.7', 'C1SP1', 'C2SP1', 'C1SP2', 'C2SP2', 'C3SP2', 'C1SP3',\n",
    "               'C2SP3', 'C3SP3', 'C4SP3', 'bpol', 'bond count', 'atsp1', 'atsp2' , 'atsp3', 'atsp4', 'atsp5',\n",
    "               'atsm1', 'atsm2','atsm3','atsm4','atsm5', 'natom', 'apol','alogp', 'alogp2', 'amr', 'acid']]\n",
    "y = sensorama2_4['odor name']"
   ]
  },
  {
   "cell_type": "code",
   "execution_count": 95,
   "metadata": {},
   "outputs": [
    {
     "name": "stdout",
     "output_type": "stream",
     "text": [
      "Accuracy:  21.428571428571427 %\n"
     ]
    },
    {
     "data": {
      "image/png": "[encoded data removed]",
      "text/plain": [
       "<Figure size 432x288 with 2 Axes>"
      ]
     },
     "metadata": {
      "needs_background": "light"
     },
     "output_type": "display_data"
    }
   ],
   "source": [
    "X_train,X_test,y_train,y_test = train_test_split(X,y,test_size=0.25,random_state=0)\n",
    "sc_X = StandardScaler()\n",
    "X_train = sc_X.fit_transform(X_train)\n",
    "X_test = sc_X.transform(X_test)\n",
    "clf = RandomForestClassifier(n_estimators=100)\n",
    "clf.fit(X_train,y_train)\n",
    "y_pred=clf.predict(X_test)\n",
    "confusion_matrix = pd.crosstab(y_test, y_pred, rownames=['Actual'], colnames=['Predicted'])\n",
    "sns.heatmap(confusion_matrix, annot=True)\n",
    "print('Accuracy: ',metrics.accuracy_score(y_test, y_pred)*100,'%')\n",
    "plt.show()"
   ]
  },
  {
   "cell_type": "markdown",
   "metadata": {},
   "source": [
    "#### SUPPORT VECTOR MACHINE "
   ]
  },
  {
   "cell_type": "markdown",
   "metadata": {},
   "source": [
    "##### rbf Kernel "
   ]
  },
  {
   "cell_type": "code",
   "execution_count": 96,
   "metadata": {},
   "outputs": [
    {
     "name": "stdout",
     "output_type": "stream",
     "text": [
      "Accuracy: 35.714285714285715 %\n"
     ]
    }
   ],
   "source": [
    "X_tr, X_tst, y_tr, y_tst = train_test_split(X, y, test_size=25/100,random_state=109)\n",
    "clf = svm.SVC(kernel='rbf') # creating Support Vector Machine model\n",
    "clf.fit(X_tr, y_tr) # training the Model\n",
    "y_pr = clf.predict(X_tst) # making Predictions\n",
    "\n",
    "# Evaluating Prediction Accuracy\n",
    "print(\"Accuracy:\",metrics.accuracy_score(y_tst, y_pr)*100,\"%\")"
   ]
  },
  {
   "cell_type": "markdown",
   "metadata": {},
   "source": [
    "##### Polynomial Kernel\n"
   ]
  },
  {
   "cell_type": "code",
   "execution_count": 97,
   "metadata": {},
   "outputs": [
    {
     "name": "stdout",
     "output_type": "stream",
     "text": [
      "Accuracy: 32.142857142857146 %\n"
     ]
    }
   ],
   "source": [
    "X_tr, X_tst, y_tr, y_tst = train_test_split(X, y, test_size=25/100,random_state=109)\n",
    "clf = svm.SVC(kernel='poly') # Creating Support Vector Machine Model\n",
    "clf.fit(X_tr,y_tr) # fit classifier to training set\n",
    "y_pr = clf.predict(X_tst) # Making Predictions\n",
    "\n",
    "# Evaluating Prediction Accuracy\n",
    "print(\"Accuracy:\",metrics.accuracy_score(y_tst, y_pr)*100,\"%\")"
   ]
  },
  {
   "cell_type": "markdown",
   "metadata": {},
   "source": [
    "##### Sigmoid Kernel "
   ]
  },
  {
   "cell_type": "code",
   "execution_count": 98,
   "metadata": {},
   "outputs": [
    {
     "name": "stdout",
     "output_type": "stream",
     "text": [
      "Accuracy: 33.92857142857143 %\n"
     ]
    }
   ],
   "source": [
    "X_tr, X_tst, y_tr, y_tst = train_test_split(X, y, test_size=25/100,random_state=109)\n",
    "clf=svm.SVC(kernel='sigmoid') # instantiate classifier with sigmoid kernel\n",
    "clf.fit(X_tr,y_tr) # fit classifier to training set\n",
    "y_pr = clf.predict(X_tst) # Making Predictions\n",
    "\n",
    "# Evaluating Prediction Accuracy\n",
    "print(\"Accuracy:\",metrics.accuracy_score(y_tst, y_pr)*100,\"%\")"
   ]
  },
  {
   "cell_type": "markdown",
   "metadata": {},
   "source": [
    "#### DECISION TREE"
   ]
  },
  {
   "cell_type": "code",
   "execution_count": 99,
   "metadata": {},
   "outputs": [
    {
     "name": "stdout",
     "output_type": "stream",
     "text": [
      "Accuracy: 12.592592592592592 %\n"
     ]
    }
   ],
   "source": [
    "# Split dataset into training set and test set\n",
    "X_train, X_test, y_train, y_test = train_test_split(X, y, test_size=0.3, random_state=1) # 70% training and 30% test\n",
    "clf = DecisionTreeClassifier() # Create Decision Tree classifer object\n",
    "clf = clf.fit(X_train,y_train) # Train Decision Tree Classifer\n",
    "y_pred = clf.predict(X_test) # Predict the response for test dataset\n",
    "\n",
    "# how often is the classifier correct?\n",
    "print(\"Accuracy:\",metrics.accuracy_score(y_test, y_pred)*100,\"%\")"
   ]
  },
  {
   "cell_type": "markdown",
   "metadata": {},
   "source": [
    "#### LOGISTIC REGRESSION "
   ]
  },
  {
   "cell_type": "code",
   "execution_count": 100,
   "metadata": {},
   "outputs": [
    {
     "name": "stdout",
     "output_type": "stream",
     "text": [
      "Accuracy:  25.0 %\n"
     ]
    }
   ],
   "source": [
    "X_train,X_test,y_train,y_test = train_test_split(X,y,test_size=0.25,random_state=0)\n",
    "clf= LogisticRegression( max_iter=100000000)\n",
    "clf.fit(X_train,y_train)\n",
    "y_pred=clf.predict(X_test)\n",
    "print('Accuracy: ',metrics.accuracy_score(y_test, y_pred)*100,'%')"
   ]
  },
  {
   "cell_type": "markdown",
   "metadata": {},
   "source": [
    "#### K-Nearest Neighbor "
   ]
  },
  {
   "cell_type": "code",
   "execution_count": 101,
   "metadata": {},
   "outputs": [
    {
     "data": {
      "text/plain": [
       "Text(0, 0.5, 'Accuracy')"
      ]
     },
     "execution_count": 101,
     "metadata": {},
     "output_type": "execute_result"
    },
    {
     "data": {
      "image/png": "[encoded data removed]",
      "text/plain": [
       "<Figure size 864x432 with 1 Axes>"
      ]
     },
     "metadata": {
      "needs_background": "light"
     },
     "output_type": "display_data"
    }
   ],
   "source": [
    "# Split data into training and testing sets.\n",
    "X_train, X_test, y_train, y_test = train_test_split(X, y, random_state=42)\n",
    "accuracy=[]\n",
    "for i in range(1,21):\n",
    "    clf = KNeighborsClassifier(n_neighbors=i)\n",
    "    clf.fit(X_train, y_train)\n",
    "    ypred = clf.predict(X_test)\n",
    "    accuracy.append(metrics.accuracy_score(y_test, ypred))\n",
    "plt.figure(figsize=(12, 6))\n",
    "plt.plot(range(1, 21), accuracy, color='orange', linestyle='dashed', marker='o',\n",
    "         markerfacecolor='green', markersize=10)\n",
    "plt.title('Looking for the most accurate k value')\n",
    "plt.xlabel('K Value')\n",
    "plt.ylabel('Accuracy')"
   ]
  },
  {
   "cell_type": "code",
   "execution_count": 102,
   "metadata": {
    "scrolled": true
   },
   "outputs": [
    {
     "name": "stdout",
     "output_type": "stream",
     "text": [
      "Accuracy: 26.785714285714285 %\n"
     ]
    }
   ],
   "source": [
    "clf = KNeighborsClassifier(n_neighbors=7)\n",
    "clf.fit(X_train, y_train)\n",
    "ypred = clf.predict(X_test)\n",
    "\n",
    "# Best accuracy\n",
    "print(\"Accuracy:\",metrics.accuracy_score(y_test, ypred)*100,\"%\")"
   ]
  },
  {
   "cell_type": "markdown",
   "metadata": {},
   "source": [
    "### 5 MOST COMMON ODOR NAMES "
   ]
  },
  {
   "cell_type": "code",
   "execution_count": 78,
   "metadata": {},
   "outputs": [],
   "source": [
    "sensorama_4 = sensorama_4 .sort_values('odor name')"
   ]
  },
  {
   "cell_type": "code",
   "execution_count": 103,
   "metadata": {},
   "outputs": [
    {
     "data": {
      "text/html": [
       "<div>\n",
       "<style scoped>\n",
       "    .dataframe tbody tr th:only-of-type {\n",
       "        vertical-align: middle;\n",
       "    }\n",
       "\n",
       "    .dataframe tbody tr th {\n",
       "        vertical-align: top;\n",
       "    }\n",
       "\n",
       "    .dataframe thead th {\n",
       "        text-align: right;\n",
       "    }\n",
       "</style>\n",
       "<table border=\"1\" class=\"dataframe\">\n",
       "  <thead>\n",
       "    <tr style=\"text-align: right;\">\n",
       "      <th></th>\n",
       "      <th>cid</th>\n",
       "      <th>canonical_smiles</th>\n",
       "      <th>xlogp</th>\n",
       "      <th>odor level</th>\n",
       "      <th>odor name</th>\n",
       "      <th>fsp3</th>\n",
       "      <th>small rings</th>\n",
       "      <th>arom rings</th>\n",
       "      <th>ring blocks</th>\n",
       "      <th>arom blocks</th>\n",
       "      <th>...</th>\n",
       "      <th>atsm4</th>\n",
       "      <th>atsm5</th>\n",
       "      <th>natom</th>\n",
       "      <th>arom bond</th>\n",
       "      <th>arom atom</th>\n",
       "      <th>apol</th>\n",
       "      <th>alogp</th>\n",
       "      <th>alogp2</th>\n",
       "      <th>amr</th>\n",
       "      <th>acid</th>\n",
       "    </tr>\n",
       "  </thead>\n",
       "  <tbody>\n",
       "    <tr>\n",
       "      <td>11069</td>\n",
       "      <td>162418.000000</td>\n",
       "      <td>974.000000</td>\n",
       "      <td>0.555287</td>\n",
       "      <td>4.000000</td>\n",
       "      <td>188.000000</td>\n",
       "      <td>0.671873</td>\n",
       "      <td>-0.878056</td>\n",
       "      <td>-0.631781</td>\n",
       "      <td>-1.106175</td>\n",
       "      <td>-0.644741</td>\n",
       "      <td>...</td>\n",
       "      <td>-0.619532</td>\n",
       "      <td>-0.143594</td>\n",
       "      <td>0.544577</td>\n",
       "      <td>0.000000</td>\n",
       "      <td>0.000000</td>\n",
       "      <td>0.382929</td>\n",
       "      <td>0.678408</td>\n",
       "      <td>0.397569</td>\n",
       "      <td>0.167378</td>\n",
       "      <td>-0.161598</td>\n",
       "    </tr>\n",
       "    <tr>\n",
       "      <td>13173</td>\n",
       "      <td>2723653.000000</td>\n",
       "      <td>306.000000</td>\n",
       "      <td>-0.348467</td>\n",
       "      <td>4.000000</td>\n",
       "      <td>188.000000</td>\n",
       "      <td>-1.642601</td>\n",
       "      <td>0.200130</td>\n",
       "      <td>1.183366</td>\n",
       "      <td>0.632666</td>\n",
       "      <td>1.285620</td>\n",
       "      <td>...</td>\n",
       "      <td>0.454418</td>\n",
       "      <td>0.096307</td>\n",
       "      <td>-0.516508</td>\n",
       "      <td>0.000000</td>\n",
       "      <td>0.000000</td>\n",
       "      <td>-0.405350</td>\n",
       "      <td>-0.797318</td>\n",
       "      <td>-0.692031</td>\n",
       "      <td>0.004457</td>\n",
       "      <td>-0.161598</td>\n",
       "    </tr>\n",
       "    <tr>\n",
       "      <td>4316</td>\n",
       "      <td>18938.000000</td>\n",
       "      <td>1016.000000</td>\n",
       "      <td>0.138170</td>\n",
       "      <td>4.000000</td>\n",
       "      <td>188.000000</td>\n",
       "      <td>1.352513</td>\n",
       "      <td>-0.878056</td>\n",
       "      <td>-0.631781</td>\n",
       "      <td>-1.106175</td>\n",
       "      <td>-0.644741</td>\n",
       "      <td>...</td>\n",
       "      <td>-0.895942</td>\n",
       "      <td>-0.287748</td>\n",
       "      <td>0.120143</td>\n",
       "      <td>0.000000</td>\n",
       "      <td>0.000000</td>\n",
       "      <td>-0.118771</td>\n",
       "      <td>0.099873</td>\n",
       "      <td>-0.146440</td>\n",
       "      <td>-0.486602</td>\n",
       "      <td>-0.161598</td>\n",
       "    </tr>\n",
       "    <tr>\n",
       "      <td>15053</td>\n",
       "      <td>5367850.000000</td>\n",
       "      <td>2309.000000</td>\n",
       "      <td>-0.070389</td>\n",
       "      <td>4.000000</td>\n",
       "      <td>188.000000</td>\n",
       "      <td>0.331554</td>\n",
       "      <td>0.200130</td>\n",
       "      <td>-0.631781</td>\n",
       "      <td>0.632666</td>\n",
       "      <td>-0.644741</td>\n",
       "      <td>...</td>\n",
       "      <td>-0.389531</td>\n",
       "      <td>-0.479776</td>\n",
       "      <td>0.120143</td>\n",
       "      <td>0.000000</td>\n",
       "      <td>0.000000</td>\n",
       "      <td>0.107235</td>\n",
       "      <td>0.394241</td>\n",
       "      <td>0.111532</td>\n",
       "      <td>-0.000215</td>\n",
       "      <td>-0.161598</td>\n",
       "    </tr>\n",
       "    <tr>\n",
       "      <td>13014</td>\n",
       "      <td>853433.000000</td>\n",
       "      <td>1776.000000</td>\n",
       "      <td>-0.139908</td>\n",
       "      <td>4.000000</td>\n",
       "      <td>188.000000</td>\n",
       "      <td>-1.642601</td>\n",
       "      <td>0.200130</td>\n",
       "      <td>1.183366</td>\n",
       "      <td>0.632666</td>\n",
       "      <td>1.285620</td>\n",
       "      <td>...</td>\n",
       "      <td>0.316213</td>\n",
       "      <td>0.096307</td>\n",
       "      <td>-0.516508</td>\n",
       "      <td>0.000000</td>\n",
       "      <td>0.000000</td>\n",
       "      <td>-0.405350</td>\n",
       "      <td>-0.827920</td>\n",
       "      <td>-0.704248</td>\n",
       "      <td>0.095503</td>\n",
       "      <td>-0.161598</td>\n",
       "    </tr>\n",
       "    <tr>\n",
       "      <td>...</td>\n",
       "      <td>...</td>\n",
       "      <td>...</td>\n",
       "      <td>...</td>\n",
       "      <td>...</td>\n",
       "      <td>...</td>\n",
       "      <td>...</td>\n",
       "      <td>...</td>\n",
       "      <td>...</td>\n",
       "      <td>...</td>\n",
       "      <td>...</td>\n",
       "      <td>...</td>\n",
       "      <td>...</td>\n",
       "      <td>...</td>\n",
       "      <td>...</td>\n",
       "      <td>...</td>\n",
       "      <td>...</td>\n",
       "      <td>...</td>\n",
       "      <td>...</td>\n",
       "      <td>...</td>\n",
       "      <td>...</td>\n",
       "      <td>...</td>\n",
       "    </tr>\n",
       "    <tr>\n",
       "      <td>10242</td>\n",
       "      <td>109413.000000</td>\n",
       "      <td>1948.000000</td>\n",
       "      <td>0.763846</td>\n",
       "      <td>4.000000</td>\n",
       "      <td>494.000000</td>\n",
       "      <td>1.040647</td>\n",
       "      <td>-0.878056</td>\n",
       "      <td>-0.631781</td>\n",
       "      <td>-1.106175</td>\n",
       "      <td>-0.644741</td>\n",
       "      <td>...</td>\n",
       "      <td>-0.020813</td>\n",
       "      <td>0.528769</td>\n",
       "      <td>0.969011</td>\n",
       "      <td>0.000000</td>\n",
       "      <td>0.000000</td>\n",
       "      <td>0.785612</td>\n",
       "      <td>0.765914</td>\n",
       "      <td>0.492972</td>\n",
       "      <td>0.415325</td>\n",
       "      <td>-0.161598</td>\n",
       "    </tr>\n",
       "    <tr>\n",
       "      <td>4287</td>\n",
       "      <td>18756.000000</td>\n",
       "      <td>359.000000</td>\n",
       "      <td>1.041924</td>\n",
       "      <td>4.000000</td>\n",
       "      <td>494.000000</td>\n",
       "      <td>-0.893823</td>\n",
       "      <td>-0.878056</td>\n",
       "      <td>-0.631781</td>\n",
       "      <td>-1.106175</td>\n",
       "      <td>-0.644741</td>\n",
       "      <td>...</td>\n",
       "      <td>-0.941840</td>\n",
       "      <td>-0.815957</td>\n",
       "      <td>-0.304291</td>\n",
       "      <td>0.000000</td>\n",
       "      <td>0.000000</td>\n",
       "      <td>-0.295448</td>\n",
       "      <td>0.822400</td>\n",
       "      <td>0.556387</td>\n",
       "      <td>-0.189373</td>\n",
       "      <td>-0.161598</td>\n",
       "    </tr>\n",
       "    <tr>\n",
       "      <td>9609</td>\n",
       "      <td>103310.000000</td>\n",
       "      <td>1882.000000</td>\n",
       "      <td>1.041924</td>\n",
       "      <td>4.000000</td>\n",
       "      <td>494.000000</td>\n",
       "      <td>1.040647</td>\n",
       "      <td>-0.878056</td>\n",
       "      <td>-0.631781</td>\n",
       "      <td>-1.106175</td>\n",
       "      <td>-0.644741</td>\n",
       "      <td>...</td>\n",
       "      <td>-0.205428</td>\n",
       "      <td>-0.143594</td>\n",
       "      <td>0.969011</td>\n",
       "      <td>0.000000</td>\n",
       "      <td>0.000000</td>\n",
       "      <td>0.785612</td>\n",
       "      <td>1.141056</td>\n",
       "      <td>0.941035</td>\n",
       "      <td>0.426586</td>\n",
       "      <td>-0.161598</td>\n",
       "    </tr>\n",
       "    <tr>\n",
       "      <td>5630</td>\n",
       "      <td>41690.000000</td>\n",
       "      <td>181.000000</td>\n",
       "      <td>0.416248</td>\n",
       "      <td>4.000000</td>\n",
       "      <td>494.000000</td>\n",
       "      <td>1.040647</td>\n",
       "      <td>1.278317</td>\n",
       "      <td>-0.631781</td>\n",
       "      <td>2.371507</td>\n",
       "      <td>-0.644741</td>\n",
       "      <td>...</td>\n",
       "      <td>0.255597</td>\n",
       "      <td>-0.047314</td>\n",
       "      <td>0.438469</td>\n",
       "      <td>0.000000</td>\n",
       "      <td>0.000000</td>\n",
       "      <td>0.427016</td>\n",
       "      <td>0.473419</td>\n",
       "      <td>0.187575</td>\n",
       "      <td>0.104729</td>\n",
       "      <td>-0.161598</td>\n",
       "    </tr>\n",
       "    <tr>\n",
       "      <td>13652</td>\n",
       "      <td>5281515.000000</td>\n",
       "      <td>1401.000000</td>\n",
       "      <td>1.111444</td>\n",
       "      <td>4.000000</td>\n",
       "      <td>494.000000</td>\n",
       "      <td>0.354017</td>\n",
       "      <td>0.200130</td>\n",
       "      <td>-0.631781</td>\n",
       "      <td>0.632666</td>\n",
       "      <td>-0.644741</td>\n",
       "      <td>...</td>\n",
       "      <td>0.993031</td>\n",
       "      <td>1.490507</td>\n",
       "      <td>1.075120</td>\n",
       "      <td>0.000000</td>\n",
       "      <td>0.000000</td>\n",
       "      <td>1.165596</td>\n",
       "      <td>1.599054</td>\n",
       "      <td>1.573965</td>\n",
       "      <td>0.988427</td>\n",
       "      <td>-0.161598</td>\n",
       "    </tr>\n",
       "  </tbody>\n",
       "</table>\n",
       "<p>345 rows × 212 columns</p>\n",
       "</div>"
      ],
      "text/plain": [
       "                 cid  canonical_smiles     xlogp  odor level  odor name  \\\n",
       "11069  162418.000000        974.000000  0.555287    4.000000 188.000000   \n",
       "13173 2723653.000000        306.000000 -0.348467    4.000000 188.000000   \n",
       "4316    18938.000000       1016.000000  0.138170    4.000000 188.000000   \n",
       "15053 5367850.000000       2309.000000 -0.070389    4.000000 188.000000   \n",
       "13014  853433.000000       1776.000000 -0.139908    4.000000 188.000000   \n",
       "...              ...               ...       ...         ...        ...   \n",
       "10242  109413.000000       1948.000000  0.763846    4.000000 494.000000   \n",
       "4287    18756.000000        359.000000  1.041924    4.000000 494.000000   \n",
       "9609   103310.000000       1882.000000  1.041924    4.000000 494.000000   \n",
       "5630    41690.000000        181.000000  0.416248    4.000000 494.000000   \n",
       "13652 5281515.000000       1401.000000  1.111444    4.000000 494.000000   \n",
       "\n",
       "           fsp3  small rings  arom rings  ring blocks  arom blocks  ...  \\\n",
       "11069  0.671873    -0.878056   -0.631781    -1.106175    -0.644741  ...   \n",
       "13173 -1.642601     0.200130    1.183366     0.632666     1.285620  ...   \n",
       "4316   1.352513    -0.878056   -0.631781    -1.106175    -0.644741  ...   \n",
       "15053  0.331554     0.200130   -0.631781     0.632666    -0.644741  ...   \n",
       "13014 -1.642601     0.200130    1.183366     0.632666     1.285620  ...   \n",
       "...         ...          ...         ...          ...          ...  ...   \n",
       "10242  1.040647    -0.878056   -0.631781    -1.106175    -0.644741  ...   \n",
       "4287  -0.893823    -0.878056   -0.631781    -1.106175    -0.644741  ...   \n",
       "9609   1.040647    -0.878056   -0.631781    -1.106175    -0.644741  ...   \n",
       "5630   1.040647     1.278317   -0.631781     2.371507    -0.644741  ...   \n",
       "13652  0.354017     0.200130   -0.631781     0.632666    -0.644741  ...   \n",
       "\n",
       "          atsm4     atsm5     natom  arom bond  arom atom      apol     alogp  \\\n",
       "11069 -0.619532 -0.143594  0.544577   0.000000   0.000000  0.382929  0.678408   \n",
       "13173  0.454418  0.096307 -0.516508   0.000000   0.000000 -0.405350 -0.797318   \n",
       "4316  -0.895942 -0.287748  0.120143   0.000000   0.000000 -0.118771  0.099873   \n",
       "15053 -0.389531 -0.479776  0.120143   0.000000   0.000000  0.107235  0.394241   \n",
       "13014  0.316213  0.096307 -0.516508   0.000000   0.000000 -0.405350 -0.827920   \n",
       "...         ...       ...       ...        ...        ...       ...       ...   \n",
       "10242 -0.020813  0.528769  0.969011   0.000000   0.000000  0.785612  0.765914   \n",
       "4287  -0.941840 -0.815957 -0.304291   0.000000   0.000000 -0.295448  0.822400   \n",
       "9609  -0.205428 -0.143594  0.969011   0.000000   0.000000  0.785612  1.141056   \n",
       "5630   0.255597 -0.047314  0.438469   0.000000   0.000000  0.427016  0.473419   \n",
       "13652  0.993031  1.490507  1.075120   0.000000   0.000000  1.165596  1.599054   \n",
       "\n",
       "         alogp2       amr      acid  \n",
       "11069  0.397569  0.167378 -0.161598  \n",
       "13173 -0.692031  0.004457 -0.161598  \n",
       "4316  -0.146440 -0.486602 -0.161598  \n",
       "15053  0.111532 -0.000215 -0.161598  \n",
       "13014 -0.704248  0.095503 -0.161598  \n",
       "...         ...       ...       ...  \n",
       "10242  0.492972  0.415325 -0.161598  \n",
       "4287   0.556387 -0.189373 -0.161598  \n",
       "9609   0.941035  0.426586 -0.161598  \n",
       "5630   0.187575  0.104729 -0.161598  \n",
       "13652  1.573965  0.988427 -0.161598  \n",
       "\n",
       "[345 rows x 212 columns]"
      ]
     },
     "execution_count": 103,
     "metadata": {},
     "output_type": "execute_result"
    }
   ],
   "source": [
    "sensorama2_4=[]\n",
    "\n",
    "for i in range(48, len(sensorama_4)-48):\n",
    "    if sensorama_4.iloc[i,4] == sensorama_4.iloc[i+48,4] or sensorama_4.iloc[i,4] == sensorama_4.iloc[i-48,4]:\n",
    "        sensorama2_4.append(sensorama_4.iloc[i,:]) \n",
    "\n",
    "sensorama2_4= pd.DataFrame(sensorama2_4)\n",
    "sensorama2_4"
   ]
  },
  {
   "cell_type": "code",
   "execution_count": 104,
   "metadata": {},
   "outputs": [
    {
     "name": "stdout",
     "output_type": "stream",
     "text": [
      "5\n"
     ]
    }
   ],
   "source": [
    "count=0\n",
    "for i in range(1, len(sensorama2_4)):\n",
    "    if sensorama2_4.iloc[i,4]!= sensorama2_4.iloc[i-1,4]:\n",
    "        count = count +1\n",
    "print(count)"
   ]
  },
  {
   "cell_type": "code",
   "execution_count": 105,
   "metadata": {},
   "outputs": [],
   "source": [
    "X = sensorama2_4[[ 'xlogp','fsp3', 'small rings','arom rings','ring blocks','arom blocks','rings 3','rings 4', 'rings 5', 'rings 6',\n",
    "               'rings 7', 'rings 8', 'rings 9', 'tpsa efficiency', 'zagreb indices', 'weiner path', 'weiner polarity', 'wtpt.1',\n",
    "               'wtpt.2', 'wtpt.3', 'wtpt.4', 'wtpt.5', 'molecular weight', 'VAdjMat', 'topoPSA', 'lipinski failures', 'rotatable bonds',\n",
    "               'topo shape', 'petitjean number', 'mdec.11', 'mdec.12', 'mdec.13', 'mdec.14', 'mdec.22', 'mdec.23', 'mdec.24',\n",
    "               'mdec.33', 'mdec.34', 'mdec.44', 'mdeo.11', 'mdeo.12', 'mdeo.22', 'mden.11', 'mden.12', 'mden.13', 'mden.22',\n",
    "               'mden.23', 'mden.33', 'mlogp', 'atom p', 'atom lc', 'khs.sli', 'khs.ssbe', 'khs.ssssbe', 'khs.ssbh', 'khs.sssb',\n",
    "               'khs.ssssb', 'khs.sch3', 'khs.dch2', 'khs.ssch2', 'khs.tch', 'khs.dsch', 'khs.aach', 'khs.sssch', 'khs.ddc',\n",
    "               'khs.tsc', 'khs.dssc', 'khs.aasc', 'khs.aaac', 'khs.ssssc', 'khs.snh3', 'khs.snh2', 'khs.ssnh', 'khs.dnh', 'khs.ssnh.1',\n",
    "               'khs.aanh', 'khs.tn', 'khs.sssnh', 'khs.dsn', 'khs.aan', 'khs.sssn', 'khs.dsn.1', 'khs.aasn', 'khs.ssssn', 'khs.soh',\n",
    "               'khs.do', 'khs.sso', 'khs.aao', 'khs.sf', 'khs.ssih3', 'khs.sssih2', 'khs.ssssih', 'khs.sssssi', 'khs.sph2',\n",
    "               'khs.ssph', 'khs.sssp', 'khs.dsssp', 'khs.sssssp', 'khs.ssh', 'khs.ds', 'khs.sss', 'khs.aas', 'khs.dsss', 'khs.ddsss',\n",
    "               'khs.scl', 'khs.sGeH3', 'khs.ssGeH2', 'khs.sssGeH', 'khs.ssssGe', 'khs.sash2', 'khs.ssash', 'khs.sssas', 'khs.sssdas',\n",
    "               'khs.sssssas', 'khs.sseh', 'khs.dse', 'khs.ssse', 'khs.aase', 'khs.dssse', 'khs.ddssse', 'khs.sbr', 'khs.ssnh3', \n",
    "               'khs.sssnh2', 'khs.ssssnh', 'khs.sssssn', 'khs.si', 'khs.spbh3', 'khs.sspbh2', 'khs.ssspbh', 'khs.sssspb', 'kier 1',\n",
    "               'kier 2', 'hybRatio', 'hbdon', 'hbacc', 'fragc', 'fmf', 'eccen', 'SP.0', 'SP.1', 'SP.2', 'SP.3', 'SP.4', 'SP.5', 'SP.6',\n",
    "               'SP.7', 'VP.0', 'VP.1', 'VP.2', 'VP.3', 'VP.4', 'VP.5', 'VP.6', 'VP.7', 'SPC.4', 'SPC.5', 'SPC.6', 'VPC.4', 'VPC.5',\n",
    "               'VPC.6', 'SC.3', 'SC.4', 'SC.5', 'SC.6', 'VC.3', 'VC.4', 'VC.5', 'VC.6', 'SCH.3', 'SCH.4', 'SCH.5', 'SCH.6', 'SCH.7',\n",
    "               'VCH.3', 'VCH.4', 'VCH.3', 'VCH.4', 'VCH.5', 'VCH.6', 'VCH.7', 'C1SP1', 'C2SP1', 'C1SP2', 'C2SP2', 'C3SP2', 'C1SP3',\n",
    "               'C2SP3', 'C3SP3', 'C4SP3', 'bpol', 'bond count', 'basic group count', 'atsp1', 'atsp2' , 'atsp3', 'atsp4', 'atsp5',\n",
    "               'atsm1', 'atsm2','atsm3','atsm4','atsm5', 'natom','arom bond', 'arom atom', 'apol','alogp', 'alogp2', 'amr', 'acid']]\n",
    "y = sensorama2_4['odor name']"
   ]
  },
  {
   "cell_type": "markdown",
   "metadata": {},
   "source": [
    "#### RANDOM FOREST"
   ]
  },
  {
   "cell_type": "code",
   "execution_count": 106,
   "metadata": {},
   "outputs": [
    {
     "name": "stdout",
     "output_type": "stream",
     "text": [
      "Accuracy:  31.03448275862069 %\n"
     ]
    },
    {
     "data": {
      "image/png": "[encoded data removed]",
      "text/plain": [
       "<Figure size 432x288 with 2 Axes>"
      ]
     },
     "metadata": {
      "needs_background": "light"
     },
     "output_type": "display_data"
    }
   ],
   "source": [
    "X_train,X_test,y_train,y_test = train_test_split(X,y,test_size=0.25,random_state=0)\n",
    "sc_X = StandardScaler()\n",
    "X_train = sc_X.fit_transform(X_train)\n",
    "X_test = sc_X.transform(X_test)\n",
    "clf = RandomForestClassifier(n_estimators=100)\n",
    "clf.fit(X_train,y_train)\n",
    "y_pred=clf.predict(X_test)\n",
    "confusion_matrix = pd.crosstab(y_test, y_pred, rownames=['Actual'], colnames=['Predicted'])\n",
    "sns.heatmap(confusion_matrix, annot=True)\n",
    "print('Accuracy: ',metrics.accuracy_score(y_test, y_pred)*100,'%')\n",
    "plt.show()"
   ]
  },
  {
   "cell_type": "markdown",
   "metadata": {},
   "source": [
    "##### Feature Importances "
   ]
  },
  {
   "cell_type": "code",
   "execution_count": 107,
   "metadata": {},
   "outputs": [
    {
     "data": {
      "image/png": "[encoded data removed]",
      "text/plain": [
       "<Figure size 432x288 with 1 Axes>"
      ]
     },
     "metadata": {
      "needs_background": "light"
     },
     "output_type": "display_data"
    }
   ],
   "source": [
    "featureImportances = pd.Series(clf.feature_importances_).sort_values(ascending=False)\n",
    "sns.barplot(x=round(featureImportances,8), y=featureImportances)\n",
    "plt.xlabel('Features Importance')\n",
    "plt.show()"
   ]
  },
  {
   "cell_type": "code",
   "execution_count": 109,
   "metadata": {},
   "outputs": [],
   "source": [
    "X = sensorama2_4[[ 'xlogp','fsp3', 'small rings','arom rings','ring blocks','arom blocks','rings 3','rings 4', 'rings 5', 'rings 6',\n",
    "               'rings 7', 'tpsa efficiency', 'zagreb indices', 'weiner path', 'weiner polarity', 'wtpt.1',\n",
    "               'wtpt.2', 'wtpt.3', 'wtpt.4', 'wtpt.5', 'molecular weight', 'VAdjMat', 'topoPSA', 'lipinski failures', 'rotatable bonds',\n",
    "               'topo shape', 'petitjean number', 'mdec.11', 'mdec.12', 'mdec.13', 'mdec.14', 'mdec.22', 'mdec.23', 'mdec.24',\n",
    "               'mdec.33', 'mdec.34', 'mdec.44', 'mdeo.11', 'mdeo.12', 'mdeo.22', 'mden.22',\n",
    "               'mden.23', 'mlogp', 'atom p', 'atom lc',\n",
    "                  'khs.sch3', 'khs.dch2', 'khs.ssch2','khs.dsch', 'khs.aach', 'khs.sssch', 'khs.ddc',\n",
    "               'khs.tsc', 'khs.dssc', 'khs.aasc', 'khs.aaac', 'khs.ssssc', 'khs.snh2', 'khs.ssnh.1',\n",
    "               'khs.tn', 'khs.dsn', 'khs.aan', 'khs.sssn', 'khs.dsn.1', 'khs.aasn', 'khs.soh',\n",
    "               'khs.do', 'khs.sso', 'khs.aao','khs.ssh', 'khs.ds', 'khs.sss', 'khs.aas', 'khs.dsss','kier 1',\n",
    "               'kier 2', 'hybRatio', 'hbdon', 'hbacc', 'fragc', 'fmf', 'eccen', 'SP.0', 'SP.1', 'SP.2', 'SP.3', 'SP.4', 'SP.5', 'SP.6',\n",
    "               'SP.7', 'VP.0', 'VP.1', 'VP.2', 'VP.3', 'VP.4', 'VP.5', 'VP.6', 'VP.7', 'SPC.4', 'SPC.5', 'SPC.6', 'VPC.4', 'VPC.5',\n",
    "               'VPC.6', 'SC.3', 'SC.4', 'SC.5', 'SC.6', 'VC.3', 'VC.4', 'VC.5', 'VC.6', 'SCH.3', 'SCH.4', 'SCH.5', 'SCH.6', 'SCH.7',\n",
    "               'VCH.3', 'VCH.4', 'VCH.3', 'VCH.4', 'VCH.5', 'VCH.6', 'VCH.7', 'C1SP1', 'C2SP1', 'C1SP2', 'C2SP2', 'C3SP2', 'C1SP3',\n",
    "               'C2SP3', 'C3SP3', 'C4SP3', 'bpol', 'bond count', 'atsp1', 'atsp2' , 'atsp3', 'atsp4', 'atsp5',\n",
    "               'atsm1', 'atsm2','atsm3','atsm4','atsm5', 'natom', 'apol','alogp', 'alogp2', 'amr', 'acid']]\n",
    "y = sensorama2_4['odor name']"
   ]
  },
  {
   "cell_type": "code",
   "execution_count": 110,
   "metadata": {},
   "outputs": [
    {
     "name": "stdout",
     "output_type": "stream",
     "text": [
      "Accuracy:  27.586206896551722 %\n"
     ]
    },
    {
     "data": {
      "image/png": "[encoded data removed]",
      "text/plain": [
       "<Figure size 432x288 with 2 Axes>"
      ]
     },
     "metadata": {
      "needs_background": "light"
     },
     "output_type": "display_data"
    }
   ],
   "source": [
    "X_train,X_test,y_train,y_test = train_test_split(X,y,test_size=0.25,random_state=0)\n",
    "sc_X = StandardScaler()\n",
    "X_train = sc_X.fit_transform(X_train)\n",
    "X_test = sc_X.transform(X_test)\n",
    "clf = RandomForestClassifier(n_estimators=100)\n",
    "clf.fit(X_train,y_train)\n",
    "y_pred=clf.predict(X_test)\n",
    "confusion_matrix = pd.crosstab(y_test, y_pred, rownames=['Actual'], colnames=['Predicted'])\n",
    "sns.heatmap(confusion_matrix, annot=True)\n",
    "print('Accuracy: ',metrics.accuracy_score(y_test, y_pred)*100,'%')\n",
    "plt.show()"
   ]
  },
  {
   "cell_type": "markdown",
   "metadata": {},
   "source": [
    "#### SUPPORT VECTOR MACHINE "
   ]
  },
  {
   "cell_type": "markdown",
   "metadata": {},
   "source": [
    "##### rbf Kernel "
   ]
  },
  {
   "cell_type": "code",
   "execution_count": 111,
   "metadata": {},
   "outputs": [
    {
     "name": "stdout",
     "output_type": "stream",
     "text": [
      "Accuracy: 42.5287356321839 %\n"
     ]
    }
   ],
   "source": [
    "X_tr, X_tst, y_tr, y_tst = train_test_split(X, y, test_size=25/100,random_state=109)\n",
    "clf = svm.SVC(kernel='rbf') # creating Support Vector Machine model\n",
    "clf.fit(X_tr, y_tr) # training the Model\n",
    "y_pr = clf.predict(X_tst) # making Predictions\n",
    "\n",
    "# Evaluating Prediction Accuracy\n",
    "print(\"Accuracy:\",metrics.accuracy_score(y_tst, y_pr)*100,\"%\")"
   ]
  },
  {
   "cell_type": "markdown",
   "metadata": {},
   "source": [
    "##### Polynomial Kernel\n"
   ]
  },
  {
   "cell_type": "code",
   "execution_count": 112,
   "metadata": {},
   "outputs": [
    {
     "name": "stdout",
     "output_type": "stream",
     "text": [
      "Accuracy: 36.7816091954023 %\n"
     ]
    }
   ],
   "source": [
    "X_tr, X_tst, y_tr, y_tst = train_test_split(X, y, test_size=25/100,random_state=109)\n",
    "clf = svm.SVC(kernel='poly') # Creating Support Vector Machine Model\n",
    "clf.fit(X_tr,y_tr) # fit classifier to training set\n",
    "y_pr = clf.predict(X_tst) # Making Predictions\n",
    "\n",
    "# Evaluating Prediction Accuracy\n",
    "print(\"Accuracy:\",metrics.accuracy_score(y_tst, y_pr)*100,\"%\")"
   ]
  },
  {
   "cell_type": "markdown",
   "metadata": {},
   "source": [
    "##### Sigmoid Kernel "
   ]
  },
  {
   "cell_type": "code",
   "execution_count": 113,
   "metadata": {},
   "outputs": [
    {
     "name": "stdout",
     "output_type": "stream",
     "text": [
      "Accuracy: 33.33333333333333 %\n"
     ]
    }
   ],
   "source": [
    "X_tr, X_tst, y_tr, y_tst = train_test_split(X, y, test_size=25/100,random_state=109)\n",
    "clf=svm.SVC(kernel='sigmoid') # instantiate classifier with sigmoid kernel\n",
    "clf.fit(X_tr,y_tr) # fit classifier to training set\n",
    "y_pr = clf.predict(X_tst) # Making Predictions\n",
    "\n",
    "# Evaluating Prediction Accuracy\n",
    "print(\"Accuracy:\",metrics.accuracy_score(y_tst, y_pr)*100,\"%\")"
   ]
  },
  {
   "cell_type": "markdown",
   "metadata": {},
   "source": [
    "#### DECISION TREE"
   ]
  },
  {
   "cell_type": "code",
   "execution_count": 114,
   "metadata": {},
   "outputs": [
    {
     "name": "stdout",
     "output_type": "stream",
     "text": [
      "Accuracy: 26.923076923076923 %\n"
     ]
    }
   ],
   "source": [
    "# Split dataset into training set and test set\n",
    "X_train, X_test, y_train, y_test = train_test_split(X, y, test_size=0.3, random_state=1) # 70% training and 30% test\n",
    "clf = DecisionTreeClassifier() # Create Decision Tree classifer object\n",
    "clf = clf.fit(X_train,y_train) # Train Decision Tree Classifer\n",
    "y_pred = clf.predict(X_test) # Predict the response for test dataset\n",
    "\n",
    "# how often is the classifier correct?\n",
    "print(\"Accuracy:\",metrics.accuracy_score(y_test, y_pred)*100,\"%\")"
   ]
  },
  {
   "cell_type": "markdown",
   "metadata": {},
   "source": [
    "#### LOGISTIC REGRESSION "
   ]
  },
  {
   "cell_type": "code",
   "execution_count": 115,
   "metadata": {},
   "outputs": [
    {
     "name": "stdout",
     "output_type": "stream",
     "text": [
      "Accuracy:  27.586206896551722 %\n"
     ]
    }
   ],
   "source": [
    "X_train,X_test,y_train,y_test = train_test_split(X,y,test_size=0.25,random_state=0)\n",
    "clf= LogisticRegression( max_iter=100000000)\n",
    "clf.fit(X_train,y_train)\n",
    "y_pred=clf.predict(X_test)\n",
    "print('Accuracy: ',metrics.accuracy_score(y_test, y_pred)*100,'%')"
   ]
  },
  {
   "cell_type": "markdown",
   "metadata": {},
   "source": [
    "#### K-Nearest Neighbor "
   ]
  },
  {
   "cell_type": "code",
   "execution_count": 116,
   "metadata": {},
   "outputs": [
    {
     "data": {
      "text/plain": [
       "Text(0, 0.5, 'Accuracy')"
      ]
     },
     "execution_count": 116,
     "metadata": {},
     "output_type": "execute_result"
    },
    {
     "data": {
      "image/png": "[encoded data removed]",
      "text/plain": [
       "<Figure size 864x432 with 1 Axes>"
      ]
     },
     "metadata": {
      "needs_background": "light"
     },
     "output_type": "display_data"
    }
   ],
   "source": [
    "# Split data into training and testing sets.\n",
    "X_train, X_test, y_train, y_test = train_test_split(X, y, random_state=42)\n",
    "accuracy=[]\n",
    "for i in range(1,21):\n",
    "    clf = KNeighborsClassifier(n_neighbors=i)\n",
    "    clf.fit(X_train, y_train)\n",
    "    ypred = clf.predict(X_test)\n",
    "    accuracy.append(metrics.accuracy_score(y_test, ypred))\n",
    "plt.figure(figsize=(12, 6))\n",
    "plt.plot(range(1, 21), accuracy, color='orange', linestyle='dashed', marker='o',\n",
    "         markerfacecolor='green', markersize=10)\n",
    "plt.title('Looking for the most accurate k value')\n",
    "plt.xlabel('K Value')\n",
    "plt.ylabel('Accuracy')"
   ]
  },
  {
   "cell_type": "code",
   "execution_count": 117,
   "metadata": {
    "scrolled": true
   },
   "outputs": [
    {
     "name": "stdout",
     "output_type": "stream",
     "text": [
      "Accuracy: 43.67816091954023 %\n"
     ]
    }
   ],
   "source": [
    "clf = KNeighborsClassifier(n_neighbors=11)\n",
    "clf.fit(X_train, y_train)\n",
    "ypred = clf.predict(X_test)\n",
    "\n",
    "# Best accuracy\n",
    "print(\"Accuracy:\",metrics.accuracy_score(y_test, ypred)*100,\"%\")"
   ]
  },
  {
   "cell_type": "markdown",
   "metadata": {},
   "source": [
    "### 3 MOST COMMON ODOR NAMES "
   ]
  },
  {
   "cell_type": "code",
   "execution_count": 93,
   "metadata": {},
   "outputs": [],
   "source": [
    "sensorama_4 = sensorama_4 .sort_values('odor name')"
   ]
  },
  {
   "cell_type": "code",
   "execution_count": 126,
   "metadata": {},
   "outputs": [
    {
     "data": {
      "text/html": [
       "<div>\n",
       "<style scoped>\n",
       "    .dataframe tbody tr th:only-of-type {\n",
       "        vertical-align: middle;\n",
       "    }\n",
       "\n",
       "    .dataframe tbody tr th {\n",
       "        vertical-align: top;\n",
       "    }\n",
       "\n",
       "    .dataframe thead th {\n",
       "        text-align: right;\n",
       "    }\n",
       "</style>\n",
       "<table border=\"1\" class=\"dataframe\">\n",
       "  <thead>\n",
       "    <tr style=\"text-align: right;\">\n",
       "      <th></th>\n",
       "      <th>cid</th>\n",
       "      <th>canonical_smiles</th>\n",
       "      <th>xlogp</th>\n",
       "      <th>odor level</th>\n",
       "      <th>odor name</th>\n",
       "      <th>fsp3</th>\n",
       "      <th>small rings</th>\n",
       "      <th>arom rings</th>\n",
       "      <th>ring blocks</th>\n",
       "      <th>arom blocks</th>\n",
       "      <th>...</th>\n",
       "      <th>atsm4</th>\n",
       "      <th>atsm5</th>\n",
       "      <th>natom</th>\n",
       "      <th>arom bond</th>\n",
       "      <th>arom atom</th>\n",
       "      <th>apol</th>\n",
       "      <th>alogp</th>\n",
       "      <th>alogp2</th>\n",
       "      <th>amr</th>\n",
       "      <th>acid</th>\n",
       "    </tr>\n",
       "  </thead>\n",
       "  <tbody>\n",
       "    <tr>\n",
       "      <td>7881</td>\n",
       "      <td>74786.000000</td>\n",
       "      <td>3159.000000</td>\n",
       "      <td>-0.904624</td>\n",
       "      <td>4.000000</td>\n",
       "      <td>200.000000</td>\n",
       "      <td>-0.252119</td>\n",
       "      <td>-0.878056</td>\n",
       "      <td>-0.631781</td>\n",
       "      <td>-1.106175</td>\n",
       "      <td>-0.644741</td>\n",
       "      <td>...</td>\n",
       "      <td>-0.942351</td>\n",
       "      <td>-0.672337</td>\n",
       "      <td>-0.834833</td>\n",
       "      <td>0.000000</td>\n",
       "      <td>0.000000</td>\n",
       "      <td>-0.951136</td>\n",
       "      <td>-0.617935</td>\n",
       "      <td>-0.611934</td>\n",
       "      <td>-1.067295</td>\n",
       "      <td>-0.161598</td>\n",
       "    </tr>\n",
       "    <tr>\n",
       "      <td>7821</td>\n",
       "      <td>74008.000000</td>\n",
       "      <td>2969.000000</td>\n",
       "      <td>0.068650</td>\n",
       "      <td>4.000000</td>\n",
       "      <td>200.000000</td>\n",
       "      <td>-0.519433</td>\n",
       "      <td>0.200130</td>\n",
       "      <td>1.183366</td>\n",
       "      <td>0.632666</td>\n",
       "      <td>1.285620</td>\n",
       "      <td>...</td>\n",
       "      <td>0.008638</td>\n",
       "      <td>0.239913</td>\n",
       "      <td>-0.198182</td>\n",
       "      <td>0.000000</td>\n",
       "      <td>0.000000</td>\n",
       "      <td>-0.184596</td>\n",
       "      <td>-0.582336</td>\n",
       "      <td>-0.594308</td>\n",
       "      <td>-0.069191</td>\n",
       "      <td>-0.161598</td>\n",
       "    </tr>\n",
       "    <tr>\n",
       "      <td>13104</td>\n",
       "      <td>1550577.000000</td>\n",
       "      <td>751.000000</td>\n",
       "      <td>-0.000869</td>\n",
       "      <td>4.000000</td>\n",
       "      <td>200.000000</td>\n",
       "      <td>0.229345</td>\n",
       "      <td>-0.878056</td>\n",
       "      <td>-0.631781</td>\n",
       "      <td>-1.106175</td>\n",
       "      <td>-0.644741</td>\n",
       "      <td>...</td>\n",
       "      <td>-0.711839</td>\n",
       "      <td>-0.239875</td>\n",
       "      <td>0.014035</td>\n",
       "      <td>0.000000</td>\n",
       "      <td>0.000000</td>\n",
       "      <td>-0.074694</td>\n",
       "      <td>0.339906</td>\n",
       "      <td>0.060974</td>\n",
       "      <td>-0.185074</td>\n",
       "      <td>-0.161598</td>\n",
       "    </tr>\n",
       "    <tr>\n",
       "      <td>5758</td>\n",
       "      <td>60998.000000</td>\n",
       "      <td>883.000000</td>\n",
       "      <td>0.277209</td>\n",
       "      <td>4.000000</td>\n",
       "      <td>200.000000</td>\n",
       "      <td>-0.831300</td>\n",
       "      <td>0.200130</td>\n",
       "      <td>1.183366</td>\n",
       "      <td>0.632666</td>\n",
       "      <td>1.285620</td>\n",
       "      <td>...</td>\n",
       "      <td>0.116880</td>\n",
       "      <td>0.288334</td>\n",
       "      <td>0.120143</td>\n",
       "      <td>0.000000</td>\n",
       "      <td>0.000000</td>\n",
       "      <td>0.234213</td>\n",
       "      <td>-0.002344</td>\n",
       "      <td>-0.226884</td>\n",
       "      <td>0.501948</td>\n",
       "      <td>-0.161598</td>\n",
       "    </tr>\n",
       "    <tr>\n",
       "      <td>17468</td>\n",
       "      <td>19693163.000000</td>\n",
       "      <td>834.000000</td>\n",
       "      <td>8.550039</td>\n",
       "      <td>4.000000</td>\n",
       "      <td>200.000000</td>\n",
       "      <td>0.936567</td>\n",
       "      <td>-0.878056</td>\n",
       "      <td>-0.631781</td>\n",
       "      <td>-1.106175</td>\n",
       "      <td>-0.644741</td>\n",
       "      <td>...</td>\n",
       "      <td>3.479700</td>\n",
       "      <td>4.324099</td>\n",
       "      <td>8.396606</td>\n",
       "      <td>0.000000</td>\n",
       "      <td>0.000000</td>\n",
       "      <td>8.322480</td>\n",
       "      <td>7.926577</td>\n",
       "      <td>19.983361</td>\n",
       "      <td>7.840372</td>\n",
       "      <td>-0.161598</td>\n",
       "    </tr>\n",
       "    <tr>\n",
       "      <td>...</td>\n",
       "      <td>...</td>\n",
       "      <td>...</td>\n",
       "      <td>...</td>\n",
       "      <td>...</td>\n",
       "      <td>...</td>\n",
       "      <td>...</td>\n",
       "      <td>...</td>\n",
       "      <td>...</td>\n",
       "      <td>...</td>\n",
       "      <td>...</td>\n",
       "      <td>...</td>\n",
       "      <td>...</td>\n",
       "      <td>...</td>\n",
       "      <td>...</td>\n",
       "      <td>...</td>\n",
       "      <td>...</td>\n",
       "      <td>...</td>\n",
       "      <td>...</td>\n",
       "      <td>...</td>\n",
       "      <td>...</td>\n",
       "      <td>...</td>\n",
       "    </tr>\n",
       "    <tr>\n",
       "      <td>9679</td>\n",
       "      <td>103719.000000</td>\n",
       "      <td>3370.000000</td>\n",
       "      <td>-0.487506</td>\n",
       "      <td>4.000000</td>\n",
       "      <td>237.000000</td>\n",
       "      <td>0.671873</td>\n",
       "      <td>3.434689</td>\n",
       "      <td>-0.631781</td>\n",
       "      <td>0.632666</td>\n",
       "      <td>-0.644741</td>\n",
       "      <td>...</td>\n",
       "      <td>0.163289</td>\n",
       "      <td>-0.143594</td>\n",
       "      <td>-0.092074</td>\n",
       "      <td>0.000000</td>\n",
       "      <td>0.000000</td>\n",
       "      <td>-0.030618</td>\n",
       "      <td>-0.453333</td>\n",
       "      <td>-0.525690</td>\n",
       "      <td>-0.176012</td>\n",
       "      <td>-0.161598</td>\n",
       "    </tr>\n",
       "    <tr>\n",
       "      <td>2639</td>\n",
       "      <td>10362.000000</td>\n",
       "      <td>1621.000000</td>\n",
       "      <td>-0.070389</td>\n",
       "      <td>4.000000</td>\n",
       "      <td>237.000000</td>\n",
       "      <td>0.978124</td>\n",
       "      <td>0.200130</td>\n",
       "      <td>-0.631781</td>\n",
       "      <td>0.632666</td>\n",
       "      <td>-0.644741</td>\n",
       "      <td>...</td>\n",
       "      <td>0.025084</td>\n",
       "      <td>-0.431902</td>\n",
       "      <td>0.014035</td>\n",
       "      <td>0.000000</td>\n",
       "      <td>0.000000</td>\n",
       "      <td>-0.074694</td>\n",
       "      <td>0.102510</td>\n",
       "      <td>-0.144293</td>\n",
       "      <td>-0.381175</td>\n",
       "      <td>-0.161598</td>\n",
       "    </tr>\n",
       "    <tr>\n",
       "      <td>9629</td>\n",
       "      <td>103402.000000</td>\n",
       "      <td>2532.000000</td>\n",
       "      <td>0.972405</td>\n",
       "      <td>4.000000</td>\n",
       "      <td>237.000000</td>\n",
       "      <td>1.064608</td>\n",
       "      <td>0.200130</td>\n",
       "      <td>-0.631781</td>\n",
       "      <td>0.632666</td>\n",
       "      <td>-0.644741</td>\n",
       "      <td>...</td>\n",
       "      <td>0.992009</td>\n",
       "      <td>0.096840</td>\n",
       "      <td>0.969011</td>\n",
       "      <td>0.000000</td>\n",
       "      <td>0.000000</td>\n",
       "      <td>0.884639</td>\n",
       "      <td>1.285742</td>\n",
       "      <td>1.130780</td>\n",
       "      <td>0.513994</td>\n",
       "      <td>-0.161598</td>\n",
       "    </tr>\n",
       "    <tr>\n",
       "      <td>11078</td>\n",
       "      <td>162452.000000</td>\n",
       "      <td>1094.000000</td>\n",
       "      <td>-0.000869</td>\n",
       "      <td>4.000000</td>\n",
       "      <td>494.000000</td>\n",
       "      <td>0.776702</td>\n",
       "      <td>1.278317</td>\n",
       "      <td>-0.631781</td>\n",
       "      <td>0.632666</td>\n",
       "      <td>-0.644741</td>\n",
       "      <td>...</td>\n",
       "      <td>1.084827</td>\n",
       "      <td>0.721330</td>\n",
       "      <td>0.756794</td>\n",
       "      <td>0.000000</td>\n",
       "      <td>0.000000</td>\n",
       "      <td>0.746787</td>\n",
       "      <td>0.353021</td>\n",
       "      <td>0.073061</td>\n",
       "      <td>0.519333</td>\n",
       "      <td>-0.161598</td>\n",
       "    </tr>\n",
       "    <tr>\n",
       "      <td>4752</td>\n",
       "      <td>23235.000000</td>\n",
       "      <td>2932.000000</td>\n",
       "      <td>1.459042</td>\n",
       "      <td>4.000000</td>\n",
       "      <td>494.000000</td>\n",
       "      <td>-0.663573</td>\n",
       "      <td>0.200130</td>\n",
       "      <td>1.183366</td>\n",
       "      <td>0.632666</td>\n",
       "      <td>1.285620</td>\n",
       "      <td>...</td>\n",
       "      <td>0.439188</td>\n",
       "      <td>0.480362</td>\n",
       "      <td>0.438469</td>\n",
       "      <td>0.000000</td>\n",
       "      <td>0.000000</td>\n",
       "      <td>0.553994</td>\n",
       "      <td>0.701655</td>\n",
       "      <td>0.422577</td>\n",
       "      <td>0.814835</td>\n",
       "      <td>-0.161598</td>\n",
       "    </tr>\n",
       "  </tbody>\n",
       "</table>\n",
       "<p>148 rows × 212 columns</p>\n",
       "</div>"
      ],
      "text/plain": [
       "                  cid  canonical_smiles     xlogp  odor level  odor name  \\\n",
       "7881     74786.000000       3159.000000 -0.904624    4.000000 200.000000   \n",
       "7821     74008.000000       2969.000000  0.068650    4.000000 200.000000   \n",
       "13104  1550577.000000        751.000000 -0.000869    4.000000 200.000000   \n",
       "5758     60998.000000        883.000000  0.277209    4.000000 200.000000   \n",
       "17468 19693163.000000        834.000000  8.550039    4.000000 200.000000   \n",
       "...               ...               ...       ...         ...        ...   \n",
       "9679    103719.000000       3370.000000 -0.487506    4.000000 237.000000   \n",
       "2639     10362.000000       1621.000000 -0.070389    4.000000 237.000000   \n",
       "9629    103402.000000       2532.000000  0.972405    4.000000 237.000000   \n",
       "11078   162452.000000       1094.000000 -0.000869    4.000000 494.000000   \n",
       "4752     23235.000000       2932.000000  1.459042    4.000000 494.000000   \n",
       "\n",
       "           fsp3  small rings  arom rings  ring blocks  arom blocks  ...  \\\n",
       "7881  -0.252119    -0.878056   -0.631781    -1.106175    -0.644741  ...   \n",
       "7821  -0.519433     0.200130    1.183366     0.632666     1.285620  ...   \n",
       "13104  0.229345    -0.878056   -0.631781    -1.106175    -0.644741  ...   \n",
       "5758  -0.831300     0.200130    1.183366     0.632666     1.285620  ...   \n",
       "17468  0.936567    -0.878056   -0.631781    -1.106175    -0.644741  ...   \n",
       "...         ...          ...         ...          ...          ...  ...   \n",
       "9679   0.671873     3.434689   -0.631781     0.632666    -0.644741  ...   \n",
       "2639   0.978124     0.200130   -0.631781     0.632666    -0.644741  ...   \n",
       "9629   1.064608     0.200130   -0.631781     0.632666    -0.644741  ...   \n",
       "11078  0.776702     1.278317   -0.631781     0.632666    -0.644741  ...   \n",
       "4752  -0.663573     0.200130    1.183366     0.632666     1.285620  ...   \n",
       "\n",
       "          atsm4     atsm5     natom  arom bond  arom atom      apol     alogp  \\\n",
       "7881  -0.942351 -0.672337 -0.834833   0.000000   0.000000 -0.951136 -0.617935   \n",
       "7821   0.008638  0.239913 -0.198182   0.000000   0.000000 -0.184596 -0.582336   \n",
       "13104 -0.711839 -0.239875  0.014035   0.000000   0.000000 -0.074694  0.339906   \n",
       "5758   0.116880  0.288334  0.120143   0.000000   0.000000  0.234213 -0.002344   \n",
       "17468  3.479700  4.324099  8.396606   0.000000   0.000000  8.322480  7.926577   \n",
       "...         ...       ...       ...        ...        ...       ...       ...   \n",
       "9679   0.163289 -0.143594 -0.092074   0.000000   0.000000 -0.030618 -0.453333   \n",
       "2639   0.025084 -0.431902  0.014035   0.000000   0.000000 -0.074694  0.102510   \n",
       "9629   0.992009  0.096840  0.969011   0.000000   0.000000  0.884639  1.285742   \n",
       "11078  1.084827  0.721330  0.756794   0.000000   0.000000  0.746787  0.353021   \n",
       "4752   0.439188  0.480362  0.438469   0.000000   0.000000  0.553994  0.701655   \n",
       "\n",
       "         alogp2       amr      acid  \n",
       "7881  -0.611934 -1.067295 -0.161598  \n",
       "7821  -0.594308 -0.069191 -0.161598  \n",
       "13104  0.060974 -0.185074 -0.161598  \n",
       "5758  -0.226884  0.501948 -0.161598  \n",
       "17468 19.983361  7.840372 -0.161598  \n",
       "...         ...       ...       ...  \n",
       "9679  -0.525690 -0.176012 -0.161598  \n",
       "2639  -0.144293 -0.381175 -0.161598  \n",
       "9629   1.130780  0.513994 -0.161598  \n",
       "11078  0.073061  0.519333 -0.161598  \n",
       "4752   0.422577  0.814835 -0.161598  \n",
       "\n",
       "[148 rows x 212 columns]"
      ]
     },
     "execution_count": 126,
     "metadata": {},
     "output_type": "execute_result"
    }
   ],
   "source": [
    "sensorama2_4=[]\n",
    "\n",
    "for i in range(68, len(sensorama_4)-68):\n",
    "    if sensorama_4.iloc[i,4] == sensorama_4.iloc[i+68,4] or sensorama_4.iloc[i,4] == sensorama_4.iloc[i-68,4]:\n",
    "        sensorama2_4.append(sensorama_4.iloc[i,:]) \n",
    "\n",
    "sensorama2_4= pd.DataFrame(sensorama2_4)\n",
    "sensorama2_4"
   ]
  },
  {
   "cell_type": "code",
   "execution_count": 127,
   "metadata": {},
   "outputs": [
    {
     "name": "stdout",
     "output_type": "stream",
     "text": [
      "3\n"
     ]
    }
   ],
   "source": [
    "count=0\n",
    "for i in range(1, len(sensorama2_4)):\n",
    "    if sensorama2_4.iloc[i,4]!= sensorama2_4.iloc[i-1,4]:\n",
    "        count = count +1\n",
    "print(count)"
   ]
  },
  {
   "cell_type": "code",
   "execution_count": 128,
   "metadata": {},
   "outputs": [],
   "source": [
    "X = sensorama2_4[[ 'xlogp','fsp3', 'small rings','arom rings','ring blocks','arom blocks','rings 3','rings 4', 'rings 5', 'rings 6',\n",
    "               'rings 7', 'rings 8', 'rings 9', 'tpsa efficiency', 'zagreb indices', 'weiner path', 'weiner polarity', 'wtpt.1',\n",
    "               'wtpt.2', 'wtpt.3', 'wtpt.4', 'wtpt.5', 'molecular weight', 'VAdjMat', 'topoPSA', 'lipinski failures', 'rotatable bonds',\n",
    "               'topo shape', 'petitjean number', 'mdec.11', 'mdec.12', 'mdec.13', 'mdec.14', 'mdec.22', 'mdec.23', 'mdec.24',\n",
    "               'mdec.33', 'mdec.34', 'mdec.44', 'mdeo.11', 'mdeo.12', 'mdeo.22', 'mden.11', 'mden.12', 'mden.13', 'mden.22',\n",
    "               'mden.23', 'mden.33', 'mlogp', 'atom p', 'atom lc', 'khs.sli', 'khs.ssbe', 'khs.ssssbe', 'khs.ssbh', 'khs.sssb',\n",
    "               'khs.ssssb', 'khs.sch3', 'khs.dch2', 'khs.ssch2', 'khs.tch', 'khs.dsch', 'khs.aach', 'khs.sssch', 'khs.ddc',\n",
    "               'khs.tsc', 'khs.dssc', 'khs.aasc', 'khs.aaac', 'khs.ssssc', 'khs.snh3', 'khs.snh2', 'khs.ssnh', 'khs.dnh', 'khs.ssnh.1',\n",
    "               'khs.aanh', 'khs.tn', 'khs.sssnh', 'khs.dsn', 'khs.aan', 'khs.sssn', 'khs.dsn.1', 'khs.aasn', 'khs.ssssn', 'khs.soh',\n",
    "               'khs.do', 'khs.sso', 'khs.aao', 'khs.sf', 'khs.ssih3', 'khs.sssih2', 'khs.ssssih', 'khs.sssssi', 'khs.sph2',\n",
    "               'khs.ssph', 'khs.sssp', 'khs.dsssp', 'khs.sssssp', 'khs.ssh', 'khs.ds', 'khs.sss', 'khs.aas', 'khs.dsss', 'khs.ddsss',\n",
    "               'khs.scl', 'khs.sGeH3', 'khs.ssGeH2', 'khs.sssGeH', 'khs.ssssGe', 'khs.sash2', 'khs.ssash', 'khs.sssas', 'khs.sssdas',\n",
    "               'khs.sssssas', 'khs.sseh', 'khs.dse', 'khs.ssse', 'khs.aase', 'khs.dssse', 'khs.ddssse', 'khs.sbr', 'khs.ssnh3', \n",
    "               'khs.sssnh2', 'khs.ssssnh', 'khs.sssssn', 'khs.si', 'khs.spbh3', 'khs.sspbh2', 'khs.ssspbh', 'khs.sssspb', 'kier 1',\n",
    "               'kier 2', 'hybRatio', 'hbdon', 'hbacc', 'fragc', 'fmf', 'eccen', 'SP.0', 'SP.1', 'SP.2', 'SP.3', 'SP.4', 'SP.5', 'SP.6',\n",
    "               'SP.7', 'VP.0', 'VP.1', 'VP.2', 'VP.3', 'VP.4', 'VP.5', 'VP.6', 'VP.7', 'SPC.4', 'SPC.5', 'SPC.6', 'VPC.4', 'VPC.5',\n",
    "               'VPC.6', 'SC.3', 'SC.4', 'SC.5', 'SC.6', 'VC.3', 'VC.4', 'VC.5', 'VC.6', 'SCH.3', 'SCH.4', 'SCH.5', 'SCH.6', 'SCH.7',\n",
    "               'VCH.3', 'VCH.4', 'VCH.3', 'VCH.4', 'VCH.5', 'VCH.6', 'VCH.7', 'C1SP1', 'C2SP1', 'C1SP2', 'C2SP2', 'C3SP2', 'C1SP3',\n",
    "               'C2SP3', 'C3SP3', 'C4SP3', 'bpol', 'bond count', 'basic group count', 'atsp1', 'atsp2' , 'atsp3', 'atsp4', 'atsp5',\n",
    "               'atsm1', 'atsm2','atsm3','atsm4','atsm5', 'natom','arom bond', 'arom atom', 'apol','alogp', 'alogp2', 'amr', 'acid']]\n",
    "y = sensorama2_4['odor name']"
   ]
  },
  {
   "cell_type": "markdown",
   "metadata": {},
   "source": [
    "#### RANDOM FOREST"
   ]
  },
  {
   "cell_type": "code",
   "execution_count": 129,
   "metadata": {},
   "outputs": [
    {
     "name": "stdout",
     "output_type": "stream",
     "text": [
      "Accuracy:  48.64864864864865 %\n"
     ]
    },
    {
     "data": {
      "image/png": "[encoded data removed]",
      "text/plain": [
       "<Figure size 432x288 with 2 Axes>"
      ]
     },
     "metadata": {
      "needs_background": "light"
     },
     "output_type": "display_data"
    }
   ],
   "source": [
    "X_train,X_test,y_train,y_test = train_test_split(X,y,test_size=0.25,random_state=0)\n",
    "sc_X = StandardScaler()\n",
    "X_train = sc_X.fit_transform(X_train)\n",
    "X_test = sc_X.transform(X_test)\n",
    "clf = RandomForestClassifier(n_estimators=100)\n",
    "clf.fit(X_train,y_train)\n",
    "y_pred=clf.predict(X_test)\n",
    "confusion_matrix = pd.crosstab(y_test, y_pred, rownames=['Actual'], colnames=['Predicted'])\n",
    "sns.heatmap(confusion_matrix, annot=True)\n",
    "print('Accuracy: ',metrics.accuracy_score(y_test, y_pred)*100,'%')\n",
    "plt.show()"
   ]
  },
  {
   "cell_type": "markdown",
   "metadata": {},
   "source": [
    "##### Feature Importances "
   ]
  },
  {
   "cell_type": "code",
   "execution_count": 130,
   "metadata": {},
   "outputs": [
    {
     "data": {
      "image/png": "[encoded data removed]",
      "text/plain": [
       "<Figure size 432x288 with 1 Axes>"
      ]
     },
     "metadata": {
      "needs_background": "light"
     },
     "output_type": "display_data"
    }
   ],
   "source": [
    "featureImportances = pd.Series(clf.feature_importances_).sort_values(ascending=False)\n",
    "sns.barplot(x=round(featureImportances,8), y=featureImportances)\n",
    "plt.xlabel('Features Importance')\n",
    "plt.show()"
   ]
  },
  {
   "cell_type": "code",
   "execution_count": 132,
   "metadata": {},
   "outputs": [],
   "source": [
    "X = sensorama2_4[[ 'xlogp','fsp3', 'small rings','arom rings','ring blocks','arom blocks','rings 3','rings 4', 'rings 5', 'rings 6',\n",
    "               'rings 7', 'tpsa efficiency', 'zagreb indices', 'weiner path', 'weiner polarity', 'wtpt.1',\n",
    "               'wtpt.2', 'wtpt.3', 'wtpt.4', 'wtpt.5', 'molecular weight', 'VAdjMat', 'topoPSA', 'lipinski failures', 'rotatable bonds',\n",
    "               'topo shape', 'petitjean number', 'mdec.11', 'mdec.12', 'mdec.13', 'mdec.14', 'mdec.22', 'mdec.23', 'mdec.24',\n",
    "               'mdec.33', 'mdec.34', 'mdec.44', 'mdeo.11', 'mdeo.12', 'mdeo.22', 'mden.22',\n",
    "               'mden.23', 'mlogp', 'atom p', 'atom lc',\n",
    "                  'khs.sch3', 'khs.dch2', 'khs.ssch2','khs.dsch', 'khs.aach', 'khs.sssch', 'khs.ddc',\n",
    "               'khs.tsc', 'khs.dssc', 'khs.aasc', 'khs.aaac', 'khs.ssssc', 'khs.snh2', 'khs.ssnh.1',\n",
    "               'khs.tn', 'khs.dsn', 'khs.aan', 'khs.sssn', 'khs.dsn.1', 'khs.aasn', 'khs.soh',\n",
    "               'khs.do', 'khs.sso', 'khs.aao','khs.ssh', 'khs.ds', 'khs.sss', 'khs.aas', 'khs.dsss','kier 1',\n",
    "               'kier 2', 'hybRatio', 'hbdon', 'hbacc', 'fragc', 'fmf', 'eccen', 'SP.0', 'SP.1', 'SP.2', 'SP.3', 'SP.4', 'SP.5', 'SP.6',\n",
    "               'SP.7', 'VP.0', 'VP.1', 'VP.2', 'VP.3', 'VP.4', 'VP.5', 'VP.6', 'VP.7', 'SPC.4', 'SPC.5', 'SPC.6', 'VPC.4', 'VPC.5',\n",
    "               'VPC.6', 'SC.3', 'SC.4', 'SC.5', 'SC.6', 'VC.3', 'VC.4', 'VC.5', 'VC.6', 'SCH.3', 'SCH.4', 'SCH.5', 'SCH.6', 'SCH.7',\n",
    "               'VCH.3', 'VCH.4', 'VCH.3', 'VCH.4', 'VCH.5', 'VCH.6', 'VCH.7', 'C1SP1', 'C2SP1', 'C1SP2', 'C2SP2', 'C3SP2', 'C1SP3',\n",
    "               'C2SP3', 'C3SP3', 'C4SP3', 'bpol', 'bond count', 'atsp1', 'atsp2' , 'atsp3', 'atsp4', 'atsp5',\n",
    "               'atsm1', 'atsm2','atsm3','atsm4','atsm5', 'natom', 'apol','alogp', 'alogp2', 'amr', 'acid']]\n",
    "y = sensorama2_4['odor name']"
   ]
  },
  {
   "cell_type": "code",
   "execution_count": 133,
   "metadata": {},
   "outputs": [
    {
     "name": "stdout",
     "output_type": "stream",
     "text": [
      "Accuracy:  54.054054054054056 %\n"
     ]
    },
    {
     "data": {
      "image/png": "[encoded data removed]",
      "text/plain": [
       "<Figure size 432x288 with 2 Axes>"
      ]
     },
     "metadata": {
      "needs_background": "light"
     },
     "output_type": "display_data"
    }
   ],
   "source": [
    "X_train,X_test,y_train,y_test = train_test_split(X,y,test_size=0.25,random_state=0)\n",
    "sc_X = StandardScaler()\n",
    "X_train = sc_X.fit_transform(X_train)\n",
    "X_test = sc_X.transform(X_test)\n",
    "clf = RandomForestClassifier(n_estimators=100)\n",
    "clf.fit(X_train,y_train)\n",
    "y_pred=clf.predict(X_test)\n",
    "confusion_matrix = pd.crosstab(y_test, y_pred, rownames=['Actual'], colnames=['Predicted'])\n",
    "sns.heatmap(confusion_matrix, annot=True)\n",
    "print('Accuracy: ',metrics.accuracy_score(y_test, y_pred)*100,'%')\n",
    "plt.show()"
   ]
  },
  {
   "cell_type": "markdown",
   "metadata": {},
   "source": [
    "#### SUPPORT VECTOR MACHINE "
   ]
  },
  {
   "cell_type": "markdown",
   "metadata": {},
   "source": [
    "##### rbf Kernel "
   ]
  },
  {
   "cell_type": "code",
   "execution_count": 134,
   "metadata": {},
   "outputs": [
    {
     "name": "stdout",
     "output_type": "stream",
     "text": [
      "Accuracy: 43.24324324324324 %\n"
     ]
    }
   ],
   "source": [
    "X_tr, X_tst, y_tr, y_tst = train_test_split(X, y, test_size=25/100,random_state=109)\n",
    "clf = svm.SVC(kernel='rbf') # creating Support Vector Machine model\n",
    "clf.fit(X_tr, y_tr) # training the Model\n",
    "y_pr = clf.predict(X_tst) # making Predictions\n",
    "\n",
    "# Evaluating Prediction Accuracy\n",
    "print(\"Accuracy:\",metrics.accuracy_score(y_tst, y_pr)*100,\"%\")"
   ]
  },
  {
   "cell_type": "markdown",
   "metadata": {},
   "source": [
    "##### Polynomial Kernel\n"
   ]
  },
  {
   "cell_type": "code",
   "execution_count": 135,
   "metadata": {},
   "outputs": [
    {
     "name": "stdout",
     "output_type": "stream",
     "text": [
      "Accuracy: 54.054054054054056 %\n"
     ]
    }
   ],
   "source": [
    "X_tr, X_tst, y_tr, y_tst = train_test_split(X, y, test_size=25/100,random_state=109)\n",
    "clf = svm.SVC(kernel='poly') # Creating Support Vector Machine Model\n",
    "clf.fit(X_tr,y_tr) # fit classifier to training set\n",
    "y_pr = clf.predict(X_tst) # Making Predictions\n",
    "\n",
    "# Evaluating Prediction Accuracy\n",
    "print(\"Accuracy:\",metrics.accuracy_score(y_tst, y_pr)*100,\"%\")"
   ]
  },
  {
   "cell_type": "markdown",
   "metadata": {},
   "source": [
    "##### Sigmoid Kernel "
   ]
  },
  {
   "cell_type": "code",
   "execution_count": 136,
   "metadata": {},
   "outputs": [
    {
     "name": "stdout",
     "output_type": "stream",
     "text": [
      "Accuracy: 51.35135135135135 %\n"
     ]
    }
   ],
   "source": [
    "X_tr, X_tst, y_tr, y_tst = train_test_split(X, y, test_size=25/100,random_state=109)\n",
    "clf=svm.SVC(kernel='sigmoid') # instantiate classifier with sigmoid kernel\n",
    "clf.fit(X_tr,y_tr) # fit classifier to training set\n",
    "y_pr = clf.predict(X_tst) # Making Predictions\n",
    "\n",
    "# Evaluating Prediction Accuracy\n",
    "print(\"Accuracy:\",metrics.accuracy_score(y_tst, y_pr)*100,\"%\")"
   ]
  },
  {
   "cell_type": "markdown",
   "metadata": {},
   "source": [
    "#### DECISION TREE"
   ]
  },
  {
   "cell_type": "code",
   "execution_count": 137,
   "metadata": {},
   "outputs": [
    {
     "name": "stdout",
     "output_type": "stream",
     "text": [
      "Accuracy: 31.11111111111111 %\n"
     ]
    }
   ],
   "source": [
    "# Split dataset into training set and test set\n",
    "X_train, X_test, y_train, y_test = train_test_split(X, y, test_size=0.3, random_state=1) # 70% training and 30% test\n",
    "clf = DecisionTreeClassifier() # Create Decision Tree classifer object\n",
    "clf = clf.fit(X_train,y_train) # Train Decision Tree Classifer\n",
    "y_pred = clf.predict(X_test) # Predict the response for test dataset\n",
    "\n",
    "# how often is the classifier correct?\n",
    "print(\"Accuracy:\",metrics.accuracy_score(y_test, y_pred)*100,\"%\")"
   ]
  },
  {
   "cell_type": "markdown",
   "metadata": {},
   "source": [
    "#### LOGISTIC REGRESSION "
   ]
  },
  {
   "cell_type": "code",
   "execution_count": 138,
   "metadata": {},
   "outputs": [
    {
     "name": "stdout",
     "output_type": "stream",
     "text": [
      "Accuracy:  54.054054054054056 %\n"
     ]
    }
   ],
   "source": [
    "X_train,X_test,y_train,y_test = train_test_split(X,y,test_size=0.25,random_state=0)\n",
    "clf= LogisticRegression( max_iter=100000000)\n",
    "clf.fit(X_train,y_train)\n",
    "y_pred=clf.predict(X_test)\n",
    "print('Accuracy: ',metrics.accuracy_score(y_test, y_pred)*100,'%')"
   ]
  },
  {
   "cell_type": "markdown",
   "metadata": {},
   "source": [
    "#### K-Nearest Neighbor "
   ]
  },
  {
   "cell_type": "code",
   "execution_count": 139,
   "metadata": {
    "scrolled": true
   },
   "outputs": [
    {
     "data": {
      "text/plain": [
       "Text(0, 0.5, 'Accuracy')"
      ]
     },
     "execution_count": 139,
     "metadata": {},
     "output_type": "execute_result"
    },
    {
     "data": {
      "image/png": "[encoded data removed]",
      "text/plain": [
       "<Figure size 864x432 with 1 Axes>"
      ]
     },
     "metadata": {
      "needs_background": "light"
     },
     "output_type": "display_data"
    }
   ],
   "source": [
    "# Split data into training and testing sets.\n",
    "X_train, X_test, y_train, y_test = train_test_split(X, y, random_state=42)\n",
    "accuracy=[]\n",
    "for i in range(1,21):\n",
    "    clf = KNeighborsClassifier(n_neighbors=i)\n",
    "    clf.fit(X_train, y_train)\n",
    "    ypred = clf.predict(X_test)\n",
    "    accuracy.append(metrics.accuracy_score(y_test, ypred))\n",
    "plt.figure(figsize=(12, 6))\n",
    "plt.plot(range(1, 21), accuracy, color='orange', linestyle='dashed', marker='o',\n",
    "         markerfacecolor='green', markersize=10)\n",
    "plt.title('Looking for the most accurate k value')\n",
    "plt.xlabel('K Value')\n",
    "plt.ylabel('Accuracy')"
   ]
  },
  {
   "cell_type": "code",
   "execution_count": 140,
   "metadata": {
    "scrolled": true
   },
   "outputs": [
    {
     "name": "stdout",
     "output_type": "stream",
     "text": [
      "Accuracy: 43.24324324324324 %\n"
     ]
    }
   ],
   "source": [
    "clf = KNeighborsClassifier(n_neighbors=1)\n",
    "clf.fit(X_train, y_train)\n",
    "ypred = clf.predict(X_test)\n",
    "\n",
    "# Best accuracy\n",
    "print(\"Accuracy:\",metrics.accuracy_score(y_test, ypred)*100,\"%\")"
   ]
  }
 ],
 "metadata": {
  "kernelspec": {
   "display_name": "Python 3",
   "language": "python",
   "name": "python3"
  },
  "language_info": {
   "codemirror_mode": {
    "name": "ipython",
    "version": 3
   },
   "file_extension": ".py",
   "mimetype": "text/x-python",
   "name": "python",
   "nbconvert_exporter": "python",
   "pygments_lexer": "ipython3",
   "version": "3.7.4"
  }
 },
 "nbformat": 4,
 "nbformat_minor": 2
}
