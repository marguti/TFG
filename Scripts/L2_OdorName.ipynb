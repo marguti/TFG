{
 "cells": [
  {
   "cell_type": "code",
   "execution_count": 15,
   "metadata": {},
   "outputs": [],
   "source": [
    "# Importing libraries\n",
    "from sklearn.model_selection import GridSearchCV, train_test_split\n",
    "from sklearn.metrics import accuracy_score\n",
    "import pandas as pd\n",
    "import numpy as np\n",
    "import seaborn as sns\n",
    "from sklearn.tree import DecisionTreeClassifier \n",
    "import matplotlib.pyplot as plt\n",
    "from sklearn.model_selection import train_test_split\n",
    "from sklearn import metrics\n",
    "from sklearn import preprocessing\n",
    "from sklearn.ensemble import RandomForestClassifier\n",
    "from sklearn.naive_bayes import GaussianNB\n",
    "from sklearn import svm\n",
    "from sklearn.linear_model import LogisticRegression\n",
    "from sklearn.neighbors import KNeighborsClassifier\n",
    "from sklearn.decomposition import PCA\n",
    "from sklearn.pipeline import make_pipeline\n",
    "from sklearn.preprocessing import StandardScaler\n",
    "from sklearn.preprocessing import scale"
   ]
  },
  {
   "cell_type": "code",
   "execution_count": 16,
   "metadata": {},
   "outputs": [],
   "source": [
    "# Visualizing 6 decimals per value\n",
    "pd.set_option('display.float_format', lambda x: '%.6f' % x)\n",
    "\n",
    "# Reading data from csv\n",
    "def load_dataset(path):\n",
    "    dataset = pd.read_csv(path, header=0, delimiter=',')\n",
    "    return dataset\n",
    "\n",
    "sensorama = load_dataset('sensorama_df.csv')"
   ]
  },
  {
   "cell_type": "code",
   "execution_count": 17,
   "metadata": {},
   "outputs": [],
   "source": [
    "# Since odor name and canonical_smiles variables are strings, we change them to a numerical value\n",
    "label_encoder = preprocessing.LabelEncoder()\n",
    "label_encoder.fit(sensorama['odor name'])\n",
    "sensorama['odor name']=label_encoder.transform(sensorama['odor name'])\n",
    "label_encoder = preprocessing.LabelEncoder()\n",
    "label_encoder.fit(sensorama['canonical_smiles'])\n",
    "sensorama['canonical_smiles']= label_encoder.transform(sensorama['canonical_smiles'])"
   ]
  },
  {
   "cell_type": "code",
   "execution_count": 18,
   "metadata": {},
   "outputs": [],
   "source": [
    "# Normalizing function\n",
    "def standarize(x_train):\n",
    "    mean = x_train.mean()\n",
    "    std = x_train.std()\n",
    "    x_train -= mean\n",
    "    x_train /= std\n",
    "\n",
    "# Normalizing data\n",
    "s= sensorama.columns\n",
    "s=s.drop(['odor level', 'cid', 'canonical_smiles', 'odor name'])\n",
    "for c in s:\n",
    "    standarize(sensorama[c])\n",
    "# After normalizing the data, we have NaNs values, so we change them to 0\n",
    "sensorama=sensorama.fillna(0)"
   ]
  },
  {
   "cell_type": "code",
   "execution_count": 19,
   "metadata": {},
   "outputs": [],
   "source": [
    "# Creating a new dataframe with only those molecules of odor level = 2\n",
    "sensorama_2 = []\n",
    "for i in range (0,17994):\n",
    "    if sensorama.loc[i,'odor level'] == 2:\n",
    "        sensorama_2.append(sensorama.loc[i,:])\n",
    "sensorama_2 = pd.DataFrame(sensorama_2)"
   ]
  },
  {
   "cell_type": "code",
   "execution_count": 20,
   "metadata": {},
   "outputs": [],
   "source": [
    "X = sensorama_2[[ 'xlogp','fsp3', 'small rings','arom rings','ring blocks','arom blocks','rings 3','rings 4', 'rings 5', 'rings 6',\n",
    "               'rings 7', 'rings 8', 'rings 9', 'tpsa efficiency', 'zagreb indices', 'weiner path', 'weiner polarity', 'wtpt.1',\n",
    "               'wtpt.2', 'wtpt.3', 'wtpt.4', 'wtpt.5', 'molecular weight', 'VAdjMat', 'topoPSA', 'lipinski failures', 'rotatable bonds',\n",
    "               'topo shape', 'petitjean number', 'mdec.11', 'mdec.12', 'mdec.13', 'mdec.14', 'mdec.22', 'mdec.23', 'mdec.24',\n",
    "               'mdec.33', 'mdec.34', 'mdec.44', 'mdeo.11', 'mdeo.12', 'mdeo.22', 'mden.11', 'mden.12', 'mden.13', 'mden.22',\n",
    "               'mden.23', 'mden.33', 'mlogp', 'atom p', 'atom lc', 'khs.sli', 'khs.ssbe', 'khs.ssssbe', 'khs.ssbh', 'khs.sssb',\n",
    "               'khs.ssssb', 'khs.sch3', 'khs.dch2', 'khs.ssch2', 'khs.tch', 'khs.dsch', 'khs.aach', 'khs.sssch', 'khs.ddc',\n",
    "               'khs.tsc', 'khs.dssc', 'khs.aasc', 'khs.aaac', 'khs.ssssc', 'khs.snh3', 'khs.snh2', 'khs.ssnh', 'khs.dnh', 'khs.ssnh.1',\n",
    "               'khs.aanh', 'khs.tn', 'khs.sssnh', 'khs.dsn', 'khs.aan', 'khs.sssn', 'khs.dsn.1', 'khs.aasn', 'khs.ssssn', 'khs.soh',\n",
    "               'khs.do', 'khs.sso', 'khs.aao', 'khs.sf', 'khs.ssih3', 'khs.sssih2', 'khs.ssssih', 'khs.sssssi', 'khs.sph2',\n",
    "               'khs.ssph', 'khs.sssp', 'khs.dsssp', 'khs.sssssp', 'khs.ssh', 'khs.ds', 'khs.sss', 'khs.aas', 'khs.dsss', 'khs.ddsss',\n",
    "               'khs.scl', 'khs.sGeH3', 'khs.ssGeH2', 'khs.sssGeH', 'khs.ssssGe', 'khs.sash2', 'khs.ssash', 'khs.sssas', 'khs.sssdas',\n",
    "               'khs.sssssas', 'khs.sseh', 'khs.dse', 'khs.ssse', 'khs.aase', 'khs.dssse', 'khs.ddssse', 'khs.sbr', 'khs.ssnh3', \n",
    "               'khs.sssnh2', 'khs.ssssnh', 'khs.sssssn', 'khs.si', 'khs.spbh3', 'khs.sspbh2', 'khs.ssspbh', 'khs.sssspb', 'kier 1',\n",
    "               'kier 2', 'hybRatio', 'hbdon', 'hbacc', 'fragc', 'fmf', 'eccen', 'SP.0', 'SP.1', 'SP.2', 'SP.3', 'SP.4', 'SP.5', 'SP.6',\n",
    "               'SP.7', 'VP.0', 'VP.1', 'VP.2', 'VP.3', 'VP.4', 'VP.5', 'VP.6', 'VP.7', 'SPC.4', 'SPC.5', 'SPC.6', 'VPC.4', 'VPC.5',\n",
    "               'VPC.6', 'SC.3', 'SC.4', 'SC.5', 'SC.6', 'VC.3', 'VC.4', 'VC.5', 'VC.6', 'SCH.3', 'SCH.4', 'SCH.5', 'SCH.6', 'SCH.7',\n",
    "               'VCH.3', 'VCH.4', 'VCH.3', 'VCH.4', 'VCH.5', 'VCH.6', 'VCH.7', 'C1SP1', 'C2SP1', 'C1SP2', 'C2SP2', 'C3SP2', 'C1SP3',\n",
    "               'C2SP3', 'C3SP3', 'C4SP3', 'bpol', 'bond count', 'basic group count', 'atsp1', 'atsp2' , 'atsp3', 'atsp4', 'atsp5',\n",
    "               'atsm1', 'atsm2','atsm3','atsm4','atsm5', 'natom','arom bond', 'arom atom', 'apol','alogp', 'alogp2', 'amr', 'acid']]\n",
    "y = sensorama_2['odor name']"
   ]
  },
  {
   "cell_type": "markdown",
   "metadata": {},
   "source": [
    "### ALL ODOR NAMES "
   ]
  },
  {
   "cell_type": "markdown",
   "metadata": {},
   "source": [
    "#### RANDOM FOREST"
   ]
  },
  {
   "cell_type": "code",
   "execution_count": 21,
   "metadata": {},
   "outputs": [
    {
     "name": "stdout",
     "output_type": "stream",
     "text": [
      "Accuracy:  10.267857142857142 %\n"
     ]
    },
    {
     "data": {
      "image/png": "[encoded data removed]",
      "text/plain": [
       "<Figure size 432x288 with 2 Axes>"
      ]
     },
     "metadata": {
      "needs_background": "light"
     },
     "output_type": "display_data"
    }
   ],
   "source": [
    "X_train,X_test,y_train,y_test = train_test_split(X,y,test_size=0.25,random_state=0)\n",
    "sc_X = StandardScaler()\n",
    "X_train = sc_X.fit_transform(X_train)\n",
    "X_test = sc_X.transform(X_test)\n",
    "clf = RandomForestClassifier(n_estimators=100)\n",
    "clf.fit(X_train,y_train)\n",
    "y_pred=clf.predict(X_test)\n",
    "confusion_matrix = pd.crosstab(y_test, y_pred, rownames=['Actual'], colnames=['Predicted'])\n",
    "sns.heatmap(confusion_matrix, annot=True)\n",
    "print('Accuracy: ',metrics.accuracy_score(y_test, y_pred)*100,'%')\n",
    "plt.show()"
   ]
  },
  {
   "cell_type": "markdown",
   "metadata": {},
   "source": [
    "##### Feature Importances "
   ]
  },
  {
   "cell_type": "code",
   "execution_count": 23,
   "metadata": {},
   "outputs": [
    {
     "name": "stdout",
     "output_type": "stream",
     "text": [
      "11\n",
      "12\n",
      "44\n",
      "51\n",
      "52\n",
      "53\n",
      "54\n",
      "55\n",
      "56\n",
      "70\n",
      "72\n",
      "73\n",
      "77\n",
      "83\n",
      "88\n",
      "89\n",
      "90\n",
      "91\n",
      "92\n",
      "93\n",
      "94\n",
      "95\n",
      "96\n",
      "97\n",
      "102\n",
      "105\n",
      "106\n",
      "107\n",
      "108\n",
      "109\n",
      "110\n",
      "111\n",
      "112\n",
      "113\n",
      "114\n",
      "115\n",
      "116\n",
      "117\n",
      "118\n",
      "119\n",
      "121\n",
      "122\n",
      "123\n",
      "124\n",
      "125\n",
      "126\n",
      "127\n",
      "128\n",
      "129\n",
      "203\n",
      "204\n"
     ]
    },
    {
     "data": {
      "image/png": "[encoded data removed]",
      "text/plain": [
       "<Figure size 432x288 with 1 Axes>"
      ]
     },
     "metadata": {
      "needs_background": "light"
     },
     "output_type": "display_data"
    }
   ],
   "source": [
    "featureImportances = pd.Series(clf.feature_importances_).sort_values(ascending=False)\n",
    "sns.barplot(x=round(featureImportances,8), y=featureImportances)\n",
    "plt.xlabel('Features Importance')\n",
    "plt.show()"
   ]
  },
  {
   "cell_type": "code",
   "execution_count": 24,
   "metadata": {},
   "outputs": [],
   "source": [
    "X = sensorama_2[[ 'xlogp','fsp3', 'small rings','arom rings','ring blocks','arom blocks','rings 3','rings 4', 'rings 5', 'rings 6',\n",
    "               'rings 7','tpsa efficiency', 'zagreb indices', 'weiner path', 'weiner polarity', 'wtpt.1',\n",
    "               'wtpt.2', 'wtpt.3', 'wtpt.4', 'wtpt.5', 'molecular weight', 'VAdjMat', 'topoPSA', 'lipinski failures', 'rotatable bonds',\n",
    "               'topo shape', 'petitjean number', 'mdec.11', 'mdec.12', 'mdec.13', 'mdec.14', 'mdec.22', 'mdec.23', 'mdec.24',\n",
    "               'mdec.33', 'mdec.34', 'mdec.44', 'mdeo.11', 'mdeo.12', 'mdeo.22', 'mden.11', 'mden.12','mden.22',\n",
    "               'mden.23', 'mden.33', 'mlogp', 'atom p', 'atom lc', \n",
    "                 'khs.sch3', 'khs.dch2', 'khs.ssch2', 'khs.tch', 'khs.dsch', 'khs.aach', 'khs.sssch', 'khs.ddc',\n",
    "               'khs.tsc', 'khs.dssc', 'khs.aasc', 'khs.aaac', 'khs.ssssc', 'khs.snh2', 'khs.ssnh.1',\n",
    "               'khs.aanh', 'khs.tn','khs.dsn', 'khs.aan', 'khs.sssn', 'khs.dsn.1', 'khs.aasn','khs.soh',\n",
    "               'khs.do', 'khs.sso', 'khs.aao', 'khs.sf', 'khs.ssih3', \n",
    "                 'khs.ssh', 'khs.ds', 'khs.sss', 'khs.aas', 'khs.dsss', 'khs.ddsss',\n",
    "               'khs.scl',\n",
    "               'kier 1',\n",
    "               'kier 2', 'hybRatio', 'hbdon', 'hbacc', 'fragc', 'fmf', 'eccen', 'SP.0', 'SP.1', 'SP.2', 'SP.3', 'SP.4', 'SP.5', 'SP.6',\n",
    "               'SP.7', 'VP.0', 'VP.1', 'VP.2', 'VP.3', 'VP.4', 'VP.5', 'VP.6', 'VP.7', 'SPC.4', 'SPC.5', 'SPC.6', 'VPC.4', 'VPC.5',\n",
    "               'VPC.6', 'SC.3', 'SC.4', 'SC.5', 'SC.6', 'VC.3', 'VC.4', 'VC.5', 'VC.6', 'SCH.3', 'SCH.4', 'SCH.5', 'SCH.6', 'SCH.7',\n",
    "               'VCH.3', 'VCH.4', 'VCH.3', 'VCH.4', 'VCH.5', 'VCH.6', 'VCH.7', 'C1SP1', 'C2SP1', 'C1SP2', 'C2SP2', 'C3SP2', 'C1SP3',\n",
    "               'C2SP3', 'C3SP3', 'C4SP3', 'bpol', 'bond count', 'basic group count', 'atsp1', 'atsp2' , 'atsp3', 'atsp4', 'atsp5',\n",
    "               'atsm1', 'atsm2','atsm3','atsm4','atsm5', 'natom', 'apol','alogp', 'alogp2', 'amr', 'acid']]\n",
    "y = sensorama_2['odor name']"
   ]
  },
  {
   "cell_type": "code",
   "execution_count": 25,
   "metadata": {},
   "outputs": [
    {
     "name": "stdout",
     "output_type": "stream",
     "text": [
      "Accuracy:  11.049107142857142 %\n"
     ]
    },
    {
     "data": {
      "image/png": "[encoded data removed]",
      "text/plain": [
       "<Figure size 432x288 with 2 Axes>"
      ]
     },
     "metadata": {
      "needs_background": "light"
     },
     "output_type": "display_data"
    }
   ],
   "source": [
    "X_train,X_test,y_train,y_test = train_test_split(X,y,test_size=0.25,random_state=0)\n",
    "sc_X = StandardScaler()\n",
    "X_train = sc_X.fit_transform(X_train)\n",
    "X_test = sc_X.transform(X_test)\n",
    "clf = RandomForestClassifier(n_estimators=100)\n",
    "clf.fit(X_train,y_train)\n",
    "y_pred=clf.predict(X_test)\n",
    "confusion_matrix = pd.crosstab(y_test, y_pred, rownames=['Actual'], colnames=['Predicted'])\n",
    "sns.heatmap(confusion_matrix, annot=True)\n",
    "print('Accuracy: ',metrics.accuracy_score(y_test, y_pred)*100,'%')\n",
    "plt.show()"
   ]
  },
  {
   "cell_type": "markdown",
   "metadata": {},
   "source": [
    "#### SUPPORT VECTOR MACHIN"
   ]
  },
  {
   "cell_type": "markdown",
   "metadata": {},
   "source": [
    "##### rbf Kernel "
   ]
  },
  {
   "cell_type": "code",
   "execution_count": 28,
   "metadata": {},
   "outputs": [
    {
     "name": "stdout",
     "output_type": "stream",
     "text": [
      "Accuracy: 12.388392857142858 %\n"
     ]
    }
   ],
   "source": [
    "X_tr, X_tst, y_tr, y_tst = train_test_split(X, y, test_size=25/100,random_state=109)\n",
    "clf = svm.SVC(kernel='rbf') # creating Support Vector Machine model\n",
    "clf.fit(X_tr, y_tr) # training the Model\n",
    "y_pr = clf.predict(X_tst) # making Predictions\n",
    "\n",
    "# Evaluating Prediction Accuracy\n",
    "print(\"Accuracy:\",metrics.accuracy_score(y_tst, y_pr)*100,\"%\")"
   ]
  },
  {
   "cell_type": "markdown",
   "metadata": {},
   "source": [
    "##### Polynomial Kernel "
   ]
  },
  {
   "cell_type": "code",
   "execution_count": 29,
   "metadata": {},
   "outputs": [
    {
     "name": "stdout",
     "output_type": "stream",
     "text": [
      "Accuracy: 11.272321428571429 %\n"
     ]
    }
   ],
   "source": [
    "X_tr, X_tst, y_tr, y_tst = train_test_split(X, y, test_size=25/100,random_state=109)\n",
    "clf = svm.SVC(kernel='poly') # Creating Support Vector Machine Model\n",
    "clf.fit(X_tr,y_tr) # fit classifier to training set\n",
    "y_pr = clf.predict(X_tst) # Making Predictions\n",
    "\n",
    "# Evaluating Prediction Accuracy\n",
    "print(\"Accuracy:\",metrics.accuracy_score(y_tst, y_pr)*100,\"%\")"
   ]
  },
  {
   "cell_type": "markdown",
   "metadata": {},
   "source": [
    "##### Sigmoid Kernel "
   ]
  },
  {
   "cell_type": "code",
   "execution_count": 30,
   "metadata": {},
   "outputs": [
    {
     "name": "stdout",
     "output_type": "stream",
     "text": [
      "Accuracy: 10.9375 %\n"
     ]
    }
   ],
   "source": [
    "X_tr, X_tst, y_tr, y_tst = train_test_split(X, y, test_size=25/100,random_state=109)\n",
    "clf=svm.SVC(kernel='sigmoid') # instantiate classifier with sigmoid kernel\n",
    "clf.fit(X_tr,y_tr) # fit classifier to training set\n",
    "y_pr = clf.predict(X_tst) # Making Predictions\n",
    "\n",
    "# Evaluating Prediction Accuracy\n",
    "print(\"Accuracy:\",metrics.accuracy_score(y_tst, y_pr)*100,\"%\")"
   ]
  },
  {
   "cell_type": "markdown",
   "metadata": {},
   "source": [
    "#### DECISION TREE"
   ]
  },
  {
   "cell_type": "code",
   "execution_count": 31,
   "metadata": {},
   "outputs": [
    {
     "name": "stdout",
     "output_type": "stream",
     "text": [
      "Accuracy: 8.279069767441861 %\n"
     ]
    }
   ],
   "source": [
    "# Split dataset into training set and test set\n",
    "X_train, X_test, y_train, y_test = train_test_split(X, y, test_size=0.3, random_state=1) # 70% training and 30% test\n",
    "clf = DecisionTreeClassifier() # Create Decision Tree classifer object\n",
    "clf = clf.fit(X_train,y_train) # Train Decision Tree Classifer\n",
    "y_pred = clf.predict(X_test) # Predict the response for test dataset\n",
    "\n",
    "# how often is the classifier correct?\n",
    "print(\"Accuracy:\",metrics.accuracy_score(y_test, y_pred)*100,\"%\")"
   ]
  },
  {
   "cell_type": "markdown",
   "metadata": {},
   "source": [
    "#### LOGISTIC REGRESSION"
   ]
  },
  {
   "cell_type": "code",
   "execution_count": 32,
   "metadata": {},
   "outputs": [
    {
     "name": "stdout",
     "output_type": "stream",
     "text": [
      "Accuracy:  13.392857142857142 %\n"
     ]
    }
   ],
   "source": [
    "X_train,X_test,y_train,y_test = train_test_split(X,y,test_size=0.25,random_state=0)\n",
    "clf= LogisticRegression( max_iter=100000000)\n",
    "clf.fit(X_train,y_train)\n",
    "y_pred=clf.predict(X_test)\n",
    "print('Accuracy: ',metrics.accuracy_score(y_test, y_pred)*100,'%')"
   ]
  },
  {
   "cell_type": "markdown",
   "metadata": {},
   "source": [
    "#### K-Nearest Neighbor"
   ]
  },
  {
   "cell_type": "code",
   "execution_count": 33,
   "metadata": {},
   "outputs": [
    {
     "data": {
      "text/plain": [
       "Text(0, 0.5, 'Accuracy')"
      ]
     },
     "execution_count": 33,
     "metadata": {},
     "output_type": "execute_result"
    },
    {
     "data": {
      "image/png": "[encoded data removed]",
      "text/plain": [
       "<Figure size 864x432 with 1 Axes>"
      ]
     },
     "metadata": {
      "needs_background": "light"
     },
     "output_type": "display_data"
    }
   ],
   "source": [
    "# Split data into training and testing sets.\n",
    "X_train, X_test, y_train, y_test = train_test_split(X, y, random_state=42)\n",
    "accuracy=[]\n",
    "for i in range(1,21):\n",
    "    clf = KNeighborsClassifier(n_neighbors=i)\n",
    "    clf.fit(X_train, y_train)\n",
    "    ypred = clf.predict(X_test)\n",
    "    accuracy.append(metrics.accuracy_score(y_test, ypred))\n",
    "plt.figure(figsize=(12, 6))\n",
    "plt.plot(range(1, 21), accuracy, color='orange', linestyle='dashed', marker='o',\n",
    "         markerfacecolor='green', markersize=10)\n",
    "plt.title('Looking for the most accurate k value')\n",
    "plt.xlabel('K Value')\n",
    "plt.ylabel('Accuracy')"
   ]
  },
  {
   "cell_type": "code",
   "execution_count": 35,
   "metadata": {},
   "outputs": [
    {
     "name": "stdout",
     "output_type": "stream",
     "text": [
      "Accuracy: 11.272321428571429 %\n"
     ]
    }
   ],
   "source": [
    "clf = KNeighborsClassifier(n_neighbors=11)\n",
    "clf.fit(X_train, y_train)\n",
    "ypred = clf.predict(X_test)\n",
    "\n",
    "# Best accuracy\n",
    "print(\"Accuracy:\",metrics.accuracy_score(y_test, ypred)*100,\"%\")"
   ]
  },
  {
   "cell_type": "markdown",
   "metadata": {},
   "source": [
    "### 25 MOST COMMON ODOR NAMES "
   ]
  },
  {
   "cell_type": "code",
   "execution_count": 48,
   "metadata": {},
   "outputs": [],
   "source": [
    "sensorama_2 = sensorama_2 .sort_values('odor name')"
   ]
  },
  {
   "cell_type": "code",
   "execution_count": 49,
   "metadata": {},
   "outputs": [
    {
     "data": {
      "text/html": [
       "<div>\n",
       "<style scoped>\n",
       "    .dataframe tbody tr th:only-of-type {\n",
       "        vertical-align: middle;\n",
       "    }\n",
       "\n",
       "    .dataframe tbody tr th {\n",
       "        vertical-align: top;\n",
       "    }\n",
       "\n",
       "    .dataframe thead th {\n",
       "        text-align: right;\n",
       "    }\n",
       "</style>\n",
       "<table border=\"1\" class=\"dataframe\">\n",
       "  <thead>\n",
       "    <tr style=\"text-align: right;\">\n",
       "      <th></th>\n",
       "      <th>cid</th>\n",
       "      <th>canonical_smiles</th>\n",
       "      <th>xlogp</th>\n",
       "      <th>odor level</th>\n",
       "      <th>odor name</th>\n",
       "      <th>fsp3</th>\n",
       "      <th>small rings</th>\n",
       "      <th>arom rings</th>\n",
       "      <th>ring blocks</th>\n",
       "      <th>arom blocks</th>\n",
       "      <th>...</th>\n",
       "      <th>atsm4</th>\n",
       "      <th>atsm5</th>\n",
       "      <th>natom</th>\n",
       "      <th>arom bond</th>\n",
       "      <th>arom atom</th>\n",
       "      <th>apol</th>\n",
       "      <th>alogp</th>\n",
       "      <th>alogp2</th>\n",
       "      <th>amr</th>\n",
       "      <th>acid</th>\n",
       "    </tr>\n",
       "  </thead>\n",
       "  <tbody>\n",
       "    <tr>\n",
       "      <td>16260</td>\n",
       "      <td>6437982.000000</td>\n",
       "      <td>995.000000</td>\n",
       "      <td>0.485768</td>\n",
       "      <td>2.000000</td>\n",
       "      <td>9.000000</td>\n",
       "      <td>-0.207567</td>\n",
       "      <td>-0.878056</td>\n",
       "      <td>-0.631781</td>\n",
       "      <td>-1.106175</td>\n",
       "      <td>-0.644741</td>\n",
       "      <td>...</td>\n",
       "      <td>-0.343122</td>\n",
       "      <td>-0.191468</td>\n",
       "      <td>0.438469</td>\n",
       "      <td>0.000000</td>\n",
       "      <td>0.000000</td>\n",
       "      <td>0.427016</td>\n",
       "      <td>0.757586</td>\n",
       "      <td>0.483747</td>\n",
       "      <td>0.405517</td>\n",
       "      <td>-0.161598</td>\n",
       "    </tr>\n",
       "    <tr>\n",
       "      <td>16048</td>\n",
       "      <td>6436727.000000</td>\n",
       "      <td>1421.000000</td>\n",
       "      <td>0.277209</td>\n",
       "      <td>2.000000</td>\n",
       "      <td>17.000000</td>\n",
       "      <td>0.354017</td>\n",
       "      <td>0.200130</td>\n",
       "      <td>-0.631781</td>\n",
       "      <td>0.632666</td>\n",
       "      <td>-0.644741</td>\n",
       "      <td>...</td>\n",
       "      <td>0.808417</td>\n",
       "      <td>1.297946</td>\n",
       "      <td>1.181228</td>\n",
       "      <td>0.000000</td>\n",
       "      <td>0.000000</td>\n",
       "      <td>1.248497</td>\n",
       "      <td>1.246812</td>\n",
       "      <td>1.078802</td>\n",
       "      <td>1.166037</td>\n",
       "      <td>-0.161598</td>\n",
       "    </tr>\n",
       "    <tr>\n",
       "      <td>2266</td>\n",
       "      <td>8698.000000</td>\n",
       "      <td>2991.000000</td>\n",
       "      <td>0.694326</td>\n",
       "      <td>2.000000</td>\n",
       "      <td>17.000000</td>\n",
       "      <td>-1.030100</td>\n",
       "      <td>0.200130</td>\n",
       "      <td>1.183366</td>\n",
       "      <td>0.632666</td>\n",
       "      <td>1.285620</td>\n",
       "      <td>...</td>\n",
       "      <td>0.162778</td>\n",
       "      <td>0.192054</td>\n",
       "      <td>-0.198182</td>\n",
       "      <td>0.000000</td>\n",
       "      <td>0.000000</td>\n",
       "      <td>-0.085568</td>\n",
       "      <td>0.068507</td>\n",
       "      <td>-0.171621</td>\n",
       "      <td>0.212747</td>\n",
       "      <td>-0.161598</td>\n",
       "    </tr>\n",
       "    <tr>\n",
       "      <td>17578</td>\n",
       "      <td>21909238.000000</td>\n",
       "      <td>595.000000</td>\n",
       "      <td>0.833366</td>\n",
       "      <td>2.000000</td>\n",
       "      <td>17.000000</td>\n",
       "      <td>0.728406</td>\n",
       "      <td>-0.878056</td>\n",
       "      <td>-0.631781</td>\n",
       "      <td>-1.106175</td>\n",
       "      <td>-0.644741</td>\n",
       "      <td>...</td>\n",
       "      <td>0.532007</td>\n",
       "      <td>0.433022</td>\n",
       "      <td>0.862903</td>\n",
       "      <td>0.000000</td>\n",
       "      <td>0.000000</td>\n",
       "      <td>0.702711</td>\n",
       "      <td>0.622061</td>\n",
       "      <td>0.337959</td>\n",
       "      <td>0.378128</td>\n",
       "      <td>-0.161598</td>\n",
       "    </tr>\n",
       "    <tr>\n",
       "      <td>11481</td>\n",
       "      <td>196435.000000</td>\n",
       "      <td>1108.000000</td>\n",
       "      <td>1.180964</td>\n",
       "      <td>2.000000</td>\n",
       "      <td>17.000000</td>\n",
       "      <td>1.352513</td>\n",
       "      <td>2.356503</td>\n",
       "      <td>-0.631781</td>\n",
       "      <td>0.632666</td>\n",
       "      <td>-0.644741</td>\n",
       "      <td>...</td>\n",
       "      <td>2.190468</td>\n",
       "      <td>2.210743</td>\n",
       "      <td>1.393445</td>\n",
       "      <td>0.000000</td>\n",
       "      <td>0.000000</td>\n",
       "      <td>1.386350</td>\n",
       "      <td>0.746830</td>\n",
       "      <td>0.471867</td>\n",
       "      <td>0.943222</td>\n",
       "      <td>-0.161598</td>\n",
       "    </tr>\n",
       "    <tr>\n",
       "      <td>...</td>\n",
       "      <td>...</td>\n",
       "      <td>...</td>\n",
       "      <td>...</td>\n",
       "      <td>...</td>\n",
       "      <td>...</td>\n",
       "      <td>...</td>\n",
       "      <td>...</td>\n",
       "      <td>...</td>\n",
       "      <td>...</td>\n",
       "      <td>...</td>\n",
       "      <td>...</td>\n",
       "      <td>...</td>\n",
       "      <td>...</td>\n",
       "      <td>...</td>\n",
       "      <td>...</td>\n",
       "      <td>...</td>\n",
       "      <td>...</td>\n",
       "      <td>...</td>\n",
       "      <td>...</td>\n",
       "      <td>...</td>\n",
       "      <td>...</td>\n",
       "    </tr>\n",
       "    <tr>\n",
       "      <td>11193</td>\n",
       "      <td>164422.000000</td>\n",
       "      <td>1991.000000</td>\n",
       "      <td>0.694326</td>\n",
       "      <td>2.000000</td>\n",
       "      <td>494.000000</td>\n",
       "      <td>1.352513</td>\n",
       "      <td>0.200130</td>\n",
       "      <td>-0.631781</td>\n",
       "      <td>0.632666</td>\n",
       "      <td>-0.644741</td>\n",
       "      <td>...</td>\n",
       "      <td>1.191342</td>\n",
       "      <td>1.345286</td>\n",
       "      <td>1.605662</td>\n",
       "      <td>0.000000</td>\n",
       "      <td>0.000000</td>\n",
       "      <td>1.425175</td>\n",
       "      <td>0.732188</td>\n",
       "      <td>0.455791</td>\n",
       "      <td>0.982192</td>\n",
       "      <td>-0.161598</td>\n",
       "    </tr>\n",
       "    <tr>\n",
       "      <td>17686</td>\n",
       "      <td>44145813.000000</td>\n",
       "      <td>1502.000000</td>\n",
       "      <td>0.207689</td>\n",
       "      <td>2.000000</td>\n",
       "      <td>494.000000</td>\n",
       "      <td>0.776702</td>\n",
       "      <td>3.434689</td>\n",
       "      <td>-0.631781</td>\n",
       "      <td>0.632666</td>\n",
       "      <td>-0.644741</td>\n",
       "      <td>...</td>\n",
       "      <td>1.176623</td>\n",
       "      <td>1.105385</td>\n",
       "      <td>0.544577</td>\n",
       "      <td>0.000000</td>\n",
       "      <td>0.000000</td>\n",
       "      <td>0.608945</td>\n",
       "      <td>0.166352</td>\n",
       "      <td>-0.091589</td>\n",
       "      <td>0.426455</td>\n",
       "      <td>-0.161598</td>\n",
       "    </tr>\n",
       "    <tr>\n",
       "      <td>2933</td>\n",
       "      <td>11230.000000</td>\n",
       "      <td>1364.000000</td>\n",
       "      <td>-0.417987</td>\n",
       "      <td>2.000000</td>\n",
       "      <td>494.000000</td>\n",
       "      <td>0.603735</td>\n",
       "      <td>0.200130</td>\n",
       "      <td>-0.631781</td>\n",
       "      <td>0.632666</td>\n",
       "      <td>-0.644741</td>\n",
       "      <td>...</td>\n",
       "      <td>0.209187</td>\n",
       "      <td>-0.623930</td>\n",
       "      <td>0.014035</td>\n",
       "      <td>0.000000</td>\n",
       "      <td>0.000000</td>\n",
       "      <td>-0.074694</td>\n",
       "      <td>0.070173</td>\n",
       "      <td>-0.170299</td>\n",
       "      <td>-0.264264</td>\n",
       "      <td>-0.161598</td>\n",
       "    </tr>\n",
       "    <tr>\n",
       "      <td>8931</td>\n",
       "      <td>92138.000000</td>\n",
       "      <td>310.000000</td>\n",
       "      <td>1.111444</td>\n",
       "      <td>2.000000</td>\n",
       "      <td>494.000000</td>\n",
       "      <td>0.354017</td>\n",
       "      <td>0.200130</td>\n",
       "      <td>-0.631781</td>\n",
       "      <td>0.632666</td>\n",
       "      <td>-0.644741</td>\n",
       "      <td>...</td>\n",
       "      <td>1.637647</td>\n",
       "      <td>1.586254</td>\n",
       "      <td>1.393445</td>\n",
       "      <td>0.000000</td>\n",
       "      <td>0.000000</td>\n",
       "      <td>1.386350</td>\n",
       "      <td>0.868477</td>\n",
       "      <td>0.609178</td>\n",
       "      <td>1.168622</td>\n",
       "      <td>-0.161598</td>\n",
       "    </tr>\n",
       "    <tr>\n",
       "      <td>8084</td>\n",
       "      <td>78640.000000</td>\n",
       "      <td>495.000000</td>\n",
       "      <td>0.694326</td>\n",
       "      <td>2.000000</td>\n",
       "      <td>494.000000</td>\n",
       "      <td>1.040647</td>\n",
       "      <td>0.200130</td>\n",
       "      <td>-0.631781</td>\n",
       "      <td>0.632666</td>\n",
       "      <td>-0.644741</td>\n",
       "      <td>...</td>\n",
       "      <td>0.209699</td>\n",
       "      <td>0.625049</td>\n",
       "      <td>0.650686</td>\n",
       "      <td>0.000000</td>\n",
       "      <td>0.000000</td>\n",
       "      <td>0.564858</td>\n",
       "      <td>0.411590</td>\n",
       "      <td>0.127955</td>\n",
       "      <td>0.212714</td>\n",
       "      <td>-0.161598</td>\n",
       "    </tr>\n",
       "  </tbody>\n",
       "</table>\n",
       "<p>1623 rows × 212 columns</p>\n",
       "</div>"
      ],
      "text/plain": [
       "                  cid  canonical_smiles     xlogp  odor level  odor name  \\\n",
       "16260  6437982.000000        995.000000  0.485768    2.000000   9.000000   \n",
       "16048  6436727.000000       1421.000000  0.277209    2.000000  17.000000   \n",
       "2266      8698.000000       2991.000000  0.694326    2.000000  17.000000   \n",
       "17578 21909238.000000        595.000000  0.833366    2.000000  17.000000   \n",
       "11481   196435.000000       1108.000000  1.180964    2.000000  17.000000   \n",
       "...               ...               ...       ...         ...        ...   \n",
       "11193   164422.000000       1991.000000  0.694326    2.000000 494.000000   \n",
       "17686 44145813.000000       1502.000000  0.207689    2.000000 494.000000   \n",
       "2933     11230.000000       1364.000000 -0.417987    2.000000 494.000000   \n",
       "8931     92138.000000        310.000000  1.111444    2.000000 494.000000   \n",
       "8084     78640.000000        495.000000  0.694326    2.000000 494.000000   \n",
       "\n",
       "           fsp3  small rings  arom rings  ring blocks  arom blocks  ...  \\\n",
       "16260 -0.207567    -0.878056   -0.631781    -1.106175    -0.644741  ...   \n",
       "16048  0.354017     0.200130   -0.631781     0.632666    -0.644741  ...   \n",
       "2266  -1.030100     0.200130    1.183366     0.632666     1.285620  ...   \n",
       "17578  0.728406    -0.878056   -0.631781    -1.106175    -0.644741  ...   \n",
       "11481  1.352513     2.356503   -0.631781     0.632666    -0.644741  ...   \n",
       "...         ...          ...         ...          ...          ...  ...   \n",
       "11193  1.352513     0.200130   -0.631781     0.632666    -0.644741  ...   \n",
       "17686  0.776702     3.434689   -0.631781     0.632666    -0.644741  ...   \n",
       "2933   0.603735     0.200130   -0.631781     0.632666    -0.644741  ...   \n",
       "8931   0.354017     0.200130   -0.631781     0.632666    -0.644741  ...   \n",
       "8084   1.040647     0.200130   -0.631781     0.632666    -0.644741  ...   \n",
       "\n",
       "          atsm4     atsm5     natom  arom bond  arom atom      apol    alogp  \\\n",
       "16260 -0.343122 -0.191468  0.438469   0.000000   0.000000  0.427016 0.757586   \n",
       "16048  0.808417  1.297946  1.181228   0.000000   0.000000  1.248497 1.246812   \n",
       "2266   0.162778  0.192054 -0.198182   0.000000   0.000000 -0.085568 0.068507   \n",
       "17578  0.532007  0.433022  0.862903   0.000000   0.000000  0.702711 0.622061   \n",
       "11481  2.190468  2.210743  1.393445   0.000000   0.000000  1.386350 0.746830   \n",
       "...         ...       ...       ...        ...        ...       ...      ...   \n",
       "11193  1.191342  1.345286  1.605662   0.000000   0.000000  1.425175 0.732188   \n",
       "17686  1.176623  1.105385  0.544577   0.000000   0.000000  0.608945 0.166352   \n",
       "2933   0.209187 -0.623930  0.014035   0.000000   0.000000 -0.074694 0.070173   \n",
       "8931   1.637647  1.586254  1.393445   0.000000   0.000000  1.386350 0.868477   \n",
       "8084   0.209699  0.625049  0.650686   0.000000   0.000000  0.564858 0.411590   \n",
       "\n",
       "         alogp2       amr      acid  \n",
       "16260  0.483747  0.405517 -0.161598  \n",
       "16048  1.078802  1.166037 -0.161598  \n",
       "2266  -0.171621  0.212747 -0.161598  \n",
       "17578  0.337959  0.378128 -0.161598  \n",
       "11481  0.471867  0.943222 -0.161598  \n",
       "...         ...       ...       ...  \n",
       "11193  0.455791  0.982192 -0.161598  \n",
       "17686 -0.091589  0.426455 -0.161598  \n",
       "2933  -0.170299 -0.264264 -0.161598  \n",
       "8931   0.609178  1.168622 -0.161598  \n",
       "8084   0.127955  0.212714 -0.161598  \n",
       "\n",
       "[1623 rows x 212 columns]"
      ]
     },
     "execution_count": 49,
     "metadata": {},
     "output_type": "execute_result"
    }
   ],
   "source": [
    "sensorama2_2=[]\n",
    "\n",
    "for i in range(26, len(sensorama_2)-26):\n",
    "    if sensorama_2.iloc[i,4] == sensorama_2.iloc[i+26,4] or sensorama_2.iloc[i,4] == sensorama_2.iloc[i-26,4]:\n",
    "        sensorama2_2.append(sensorama_2.iloc[i,:]) \n",
    "\n",
    "sensorama2_2= pd.DataFrame(sensorama2_2)\n",
    "sensorama2_2"
   ]
  },
  {
   "cell_type": "code",
   "execution_count": 50,
   "metadata": {},
   "outputs": [
    {
     "name": "stdout",
     "output_type": "stream",
     "text": [
      "26\n"
     ]
    }
   ],
   "source": [
    "count=0\n",
    "for i in range(1, len(sensorama2_2)):\n",
    "    if sensorama2_2.iloc[i,4]!= sensorama2_2.iloc[i-1,4]:\n",
    "        count = count +1\n",
    "print(count)"
   ]
  },
  {
   "cell_type": "code",
   "execution_count": 51,
   "metadata": {},
   "outputs": [],
   "source": [
    "X = sensorama2_2[[ 'xlogp','fsp3', 'small rings','arom rings','ring blocks','arom blocks','rings 3','rings 4', 'rings 5', 'rings 6',\n",
    "               'rings 7', 'rings 8', 'rings 9', 'tpsa efficiency', 'zagreb indices', 'weiner path', 'weiner polarity', 'wtpt.1',\n",
    "               'wtpt.2', 'wtpt.3', 'wtpt.4', 'wtpt.5', 'molecular weight', 'VAdjMat', 'topoPSA', 'lipinski failures', 'rotatable bonds',\n",
    "               'topo shape', 'petitjean number', 'mdec.11', 'mdec.12', 'mdec.13', 'mdec.14', 'mdec.22', 'mdec.23', 'mdec.24',\n",
    "               'mdec.33', 'mdec.34', 'mdec.44', 'mdeo.11', 'mdeo.12', 'mdeo.22', 'mden.11', 'mden.12', 'mden.13', 'mden.22',\n",
    "               'mden.23', 'mden.33', 'mlogp', 'atom p', 'atom lc', 'khs.sli', 'khs.ssbe', 'khs.ssssbe', 'khs.ssbh', 'khs.sssb',\n",
    "               'khs.ssssb', 'khs.sch3', 'khs.dch2', 'khs.ssch2', 'khs.tch', 'khs.dsch', 'khs.aach', 'khs.sssch', 'khs.ddc',\n",
    "               'khs.tsc', 'khs.dssc', 'khs.aasc', 'khs.aaac', 'khs.ssssc', 'khs.snh3', 'khs.snh2', 'khs.ssnh', 'khs.dnh', 'khs.ssnh.1',\n",
    "               'khs.aanh', 'khs.tn', 'khs.sssnh', 'khs.dsn', 'khs.aan', 'khs.sssn', 'khs.dsn.1', 'khs.aasn', 'khs.ssssn', 'khs.soh',\n",
    "               'khs.do', 'khs.sso', 'khs.aao', 'khs.sf', 'khs.ssih3', 'khs.sssih2', 'khs.ssssih', 'khs.sssssi', 'khs.sph2',\n",
    "               'khs.ssph', 'khs.sssp', 'khs.dsssp', 'khs.sssssp', 'khs.ssh', 'khs.ds', 'khs.sss', 'khs.aas', 'khs.dsss', 'khs.ddsss',\n",
    "               'khs.scl', 'khs.sGeH3', 'khs.ssGeH2', 'khs.sssGeH', 'khs.ssssGe', 'khs.sash2', 'khs.ssash', 'khs.sssas', 'khs.sssdas',\n",
    "               'khs.sssssas', 'khs.sseh', 'khs.dse', 'khs.ssse', 'khs.aase', 'khs.dssse', 'khs.ddssse', 'khs.sbr', 'khs.ssnh3', \n",
    "               'khs.sssnh2', 'khs.ssssnh', 'khs.sssssn', 'khs.si', 'khs.spbh3', 'khs.sspbh2', 'khs.ssspbh', 'khs.sssspb', 'kier 1',\n",
    "               'kier 2', 'hybRatio', 'hbdon', 'hbacc', 'fragc', 'fmf', 'eccen', 'SP.0', 'SP.1', 'SP.2', 'SP.3', 'SP.4', 'SP.5', 'SP.6',\n",
    "               'SP.7', 'VP.0', 'VP.1', 'VP.2', 'VP.3', 'VP.4', 'VP.5', 'VP.6', 'VP.7', 'SPC.4', 'SPC.5', 'SPC.6', 'VPC.4', 'VPC.5',\n",
    "               'VPC.6', 'SC.3', 'SC.4', 'SC.5', 'SC.6', 'VC.3', 'VC.4', 'VC.5', 'VC.6', 'SCH.3', 'SCH.4', 'SCH.5', 'SCH.6', 'SCH.7',\n",
    "               'VCH.3', 'VCH.4', 'VCH.3', 'VCH.4', 'VCH.5', 'VCH.6', 'VCH.7', 'C1SP1', 'C2SP1', 'C1SP2', 'C2SP2', 'C3SP2', 'C1SP3',\n",
    "               'C2SP3', 'C3SP3', 'C4SP3', 'bpol', 'bond count', 'basic group count', 'atsp1', 'atsp2' , 'atsp3', 'atsp4', 'atsp5',\n",
    "               'atsm1', 'atsm2','atsm3','atsm4','atsm5', 'natom','arom bond', 'arom atom', 'apol','alogp', 'alogp2', 'amr', 'acid']]\n",
    "y = sensorama2_2['odor name']"
   ]
  },
  {
   "cell_type": "markdown",
   "metadata": {},
   "source": [
    "#### RANDOM FOREST"
   ]
  },
  {
   "cell_type": "code",
   "execution_count": 52,
   "metadata": {},
   "outputs": [
    {
     "name": "stdout",
     "output_type": "stream",
     "text": [
      "Accuracy:  24.63054187192118 %\n"
     ]
    },
    {
     "data": {
      "image/png": "[encoded data removed]",
      "text/plain": [
       "<Figure size 432x288 with 2 Axes>"
      ]
     },
     "metadata": {
      "needs_background": "light"
     },
     "output_type": "display_data"
    }
   ],
   "source": [
    "X_train,X_test,y_train,y_test = train_test_split(X,y,test_size=0.25,random_state=0)\n",
    "sc_X = StandardScaler()\n",
    "X_train = sc_X.fit_transform(X_train)\n",
    "X_test = sc_X.transform(X_test)\n",
    "clf = RandomForestClassifier(n_estimators=100)\n",
    "clf.fit(X_train,y_train)\n",
    "y_pred=clf.predict(X_test)\n",
    "confusion_matrix = pd.crosstab(y_test, y_pred, rownames=['Actual'], colnames=['Predicted'])\n",
    "sns.heatmap(confusion_matrix, annot=True)\n",
    "print('Accuracy: ',metrics.accuracy_score(y_test, y_pred)*100,'%')\n",
    "plt.show()"
   ]
  },
  {
   "cell_type": "markdown",
   "metadata": {},
   "source": [
    "##### Feature Importances "
   ]
  },
  {
   "cell_type": "code",
   "execution_count": 53,
   "metadata": {},
   "outputs": [
    {
     "data": {
      "image/png": "[encoded data removed]",
      "text/plain": [
       "<Figure size 432x288 with 1 Axes>"
      ]
     },
     "metadata": {
      "needs_background": "light"
     },
     "output_type": "display_data"
    }
   ],
   "source": [
    "featureImportances = pd.Series(clf.feature_importances_).sort_values(ascending=False)\n",
    "sns.barplot(x=round(featureImportances,8), y=featureImportances)\n",
    "plt.xlabel('Features Importance')\n",
    "plt.show()"
   ]
  },
  {
   "cell_type": "code",
   "execution_count": 54,
   "metadata": {},
   "outputs": [],
   "source": [
    "X = sensorama2_2[[ 'xlogp','fsp3', 'small rings','arom rings','ring blocks','arom blocks','rings 3','rings 4', 'rings 5', 'rings 6',\n",
    "               'rings 7','tpsa efficiency', 'zagreb indices', 'weiner path', 'weiner polarity', 'wtpt.1',\n",
    "               'wtpt.2', 'wtpt.3', 'wtpt.4', 'wtpt.5', 'molecular weight', 'VAdjMat', 'topoPSA', 'lipinski failures', 'rotatable bonds',\n",
    "               'topo shape', 'petitjean number', 'mdec.11', 'mdec.12', 'mdec.13', 'mdec.14', 'mdec.22', 'mdec.23', 'mdec.24',\n",
    "               'mdec.33', 'mdec.34', 'mdec.44', 'mdeo.11', 'mdeo.12', 'mdeo.22', 'mden.11', 'mden.12','mden.22',\n",
    "               'mden.23', 'mden.33', 'mlogp', 'atom p', 'atom lc', \n",
    "                 'khs.sch3', 'khs.dch2', 'khs.ssch2', 'khs.tch', 'khs.dsch', 'khs.aach', 'khs.sssch', 'khs.ddc',\n",
    "               'khs.tsc', 'khs.dssc', 'khs.aasc', 'khs.aaac', 'khs.ssssc', 'khs.snh2', 'khs.ssnh.1',\n",
    "               'khs.aanh', 'khs.tn','khs.dsn', 'khs.aan', 'khs.sssn', 'khs.dsn.1', 'khs.aasn','khs.soh',\n",
    "               'khs.do', 'khs.sso', 'khs.aao', 'khs.sf', 'khs.ssih3', \n",
    "                 'khs.ssh', 'khs.ds', 'khs.sss', 'khs.aas', 'khs.dsss', 'khs.ddsss',\n",
    "               'khs.scl',\n",
    "               'kier 1',\n",
    "               'kier 2', 'hybRatio', 'hbdon', 'hbacc', 'fragc', 'fmf', 'eccen', 'SP.0', 'SP.1', 'SP.2', 'SP.3', 'SP.4', 'SP.5', 'SP.6',\n",
    "               'SP.7', 'VP.0', 'VP.1', 'VP.2', 'VP.3', 'VP.4', 'VP.5', 'VP.6', 'VP.7', 'SPC.4', 'SPC.5', 'SPC.6', 'VPC.4', 'VPC.5',\n",
    "               'VPC.6', 'SC.3', 'SC.4', 'SC.5', 'SC.6', 'VC.3', 'VC.4', 'VC.5', 'VC.6', 'SCH.3', 'SCH.4', 'SCH.5', 'SCH.6', 'SCH.7',\n",
    "               'VCH.3', 'VCH.4', 'VCH.3', 'VCH.4', 'VCH.5', 'VCH.6', 'VCH.7', 'C1SP1', 'C2SP1', 'C1SP2', 'C2SP2', 'C3SP2', 'C1SP3',\n",
    "               'C2SP3', 'C3SP3', 'C4SP3', 'bpol', 'bond count', 'basic group count', 'atsp1', 'atsp2' , 'atsp3', 'atsp4', 'atsp5',\n",
    "               'atsm1', 'atsm2','atsm3','atsm4','atsm5', 'natom', 'apol','alogp', 'alogp2', 'amr', 'acid']]\n",
    "y = sensorama2_2['odor name']"
   ]
  },
  {
   "cell_type": "code",
   "execution_count": 55,
   "metadata": {},
   "outputs": [
    {
     "name": "stdout",
     "output_type": "stream",
     "text": [
      "Accuracy:  24.137931034482758 %\n"
     ]
    },
    {
     "data": {
      "image/png": "[encoded data removed]",
      "text/plain": [
       "<Figure size 432x288 with 2 Axes>"
      ]
     },
     "metadata": {
      "needs_background": "light"
     },
     "output_type": "display_data"
    }
   ],
   "source": [
    "X_train,X_test,y_train,y_test = train_test_split(X,y,test_size=0.25,random_state=0)\n",
    "sc_X = StandardScaler()\n",
    "X_train = sc_X.fit_transform(X_train)\n",
    "X_test = sc_X.transform(X_test)\n",
    "clf = RandomForestClassifier(n_estimators=100)\n",
    "clf.fit(X_train,y_train)\n",
    "y_pred=clf.predict(X_test)\n",
    "confusion_matrix = pd.crosstab(y_test, y_pred, rownames=['Actual'], colnames=['Predicted'])\n",
    "sns.heatmap(confusion_matrix, annot=True)\n",
    "print('Accuracy: ',metrics.accuracy_score(y_test, y_pred)*100,'%')\n",
    "plt.show()"
   ]
  },
  {
   "cell_type": "markdown",
   "metadata": {},
   "source": [
    "#### SUPPORT VECTOR MACHIN"
   ]
  },
  {
   "cell_type": "markdown",
   "metadata": {},
   "source": [
    "##### rbf Kernel "
   ]
  },
  {
   "cell_type": "code",
   "execution_count": 56,
   "metadata": {},
   "outputs": [
    {
     "name": "stdout",
     "output_type": "stream",
     "text": [
      "Accuracy: 22.660098522167488 %\n"
     ]
    }
   ],
   "source": [
    "X_tr, X_tst, y_tr, y_tst = train_test_split(X, y, test_size=25/100,random_state=109)\n",
    "clf = svm.SVC(kernel='rbf') # creating Support Vector Machine model\n",
    "clf.fit(X_tr, y_tr) # training the Model\n",
    "y_pr = clf.predict(X_tst) # making Predictions\n",
    "\n",
    "# Evaluating Prediction Accuracy\n",
    "print(\"Accuracy:\",metrics.accuracy_score(y_tst, y_pr)*100,\"%\")"
   ]
  },
  {
   "cell_type": "markdown",
   "metadata": {},
   "source": [
    "##### Polynomial Kernel "
   ]
  },
  {
   "cell_type": "code",
   "execution_count": 57,
   "metadata": {},
   "outputs": [
    {
     "name": "stdout",
     "output_type": "stream",
     "text": [
      "Accuracy: 21.921182266009854 %\n"
     ]
    }
   ],
   "source": [
    "X_tr, X_tst, y_tr, y_tst = train_test_split(X, y, test_size=25/100,random_state=109)\n",
    "clf = svm.SVC(kernel='poly') # Creating Support Vector Machine Model\n",
    "clf.fit(X_tr,y_tr) # fit classifier to training set\n",
    "y_pr = clf.predict(X_tst) # Making Predictions\n",
    "\n",
    "# Evaluating Prediction Accuracy\n",
    "print(\"Accuracy:\",metrics.accuracy_score(y_tst, y_pr)*100,\"%\")"
   ]
  },
  {
   "cell_type": "markdown",
   "metadata": {},
   "source": [
    "##### Sigmoid Kernel "
   ]
  },
  {
   "cell_type": "code",
   "execution_count": 58,
   "metadata": {},
   "outputs": [
    {
     "name": "stdout",
     "output_type": "stream",
     "text": [
      "Accuracy: 19.458128078817737 %\n"
     ]
    }
   ],
   "source": [
    "X_tr, X_tst, y_tr, y_tst = train_test_split(X, y, test_size=25/100,random_state=109)\n",
    "clf=svm.SVC(kernel='sigmoid') # instantiate classifier with sigmoid kernel\n",
    "clf.fit(X_tr,y_tr) # fit classifier to training set\n",
    "y_pr = clf.predict(X_tst) # Making Predictions\n",
    "\n",
    "# Evaluating Prediction Accuracy\n",
    "print(\"Accuracy:\",metrics.accuracy_score(y_tst, y_pr)*100,\"%\")"
   ]
  },
  {
   "cell_type": "markdown",
   "metadata": {},
   "source": [
    "#### DECISION TREE"
   ]
  },
  {
   "cell_type": "code",
   "execution_count": 59,
   "metadata": {},
   "outputs": [
    {
     "name": "stdout",
     "output_type": "stream",
     "text": [
      "Accuracy: 16.427104722792606 %\n"
     ]
    }
   ],
   "source": [
    "# Split dataset into training set and test set\n",
    "X_train, X_test, y_train, y_test = train_test_split(X, y, test_size=0.3, random_state=1) # 70% training and 30% test\n",
    "clf = DecisionTreeClassifier() # Create Decision Tree classifer object\n",
    "clf = clf.fit(X_train,y_train) # Train Decision Tree Classifer\n",
    "y_pred = clf.predict(X_test) # Predict the response for test dataset\n",
    "\n",
    "# how often is the classifier correct?\n",
    "print(\"Accuracy:\",metrics.accuracy_score(y_test, y_pred)*100,\"%\")"
   ]
  },
  {
   "cell_type": "markdown",
   "metadata": {},
   "source": [
    "#### LOGISTIC REGRESSION"
   ]
  },
  {
   "cell_type": "code",
   "execution_count": 60,
   "metadata": {},
   "outputs": [
    {
     "name": "stdout",
     "output_type": "stream",
     "text": [
      "Accuracy:  23.645320197044335 %\n"
     ]
    }
   ],
   "source": [
    "X_train,X_test,y_train,y_test = train_test_split(X,y,test_size=0.25,random_state=0)\n",
    "clf= LogisticRegression( max_iter=100000000)\n",
    "clf.fit(X_train,y_train)\n",
    "y_pred=clf.predict(X_test)\n",
    "print('Accuracy: ',metrics.accuracy_score(y_test, y_pred)*100,'%')"
   ]
  },
  {
   "cell_type": "markdown",
   "metadata": {},
   "source": [
    "#### K-Nearest Neighbor"
   ]
  },
  {
   "cell_type": "code",
   "execution_count": 61,
   "metadata": {},
   "outputs": [
    {
     "data": {
      "text/plain": [
       "Text(0, 0.5, 'Accuracy')"
      ]
     },
     "execution_count": 61,
     "metadata": {},
     "output_type": "execute_result"
    },
    {
     "data": {
      "image/png": "[encoded data removed]",
      "text/plain": [
       "<Figure size 864x432 with 1 Axes>"
      ]
     },
     "metadata": {
      "needs_background": "light"
     },
     "output_type": "display_data"
    }
   ],
   "source": [
    "# Split data into training and testing sets.\n",
    "X_train, X_test, y_train, y_test = train_test_split(X, y, random_state=42)\n",
    "accuracy=[]\n",
    "for i in range(1,21):\n",
    "    clf = KNeighborsClassifier(n_neighbors=i)\n",
    "    clf.fit(X_train, y_train)\n",
    "    ypred = clf.predict(X_test)\n",
    "    accuracy.append(metrics.accuracy_score(y_test, ypred))\n",
    "plt.figure(figsize=(12, 6))\n",
    "plt.plot(range(1, 21), accuracy, color='orange', linestyle='dashed', marker='o',\n",
    "         markerfacecolor='green', markersize=10)\n",
    "plt.title('Looking for the most accurate k value')\n",
    "plt.xlabel('K Value')\n",
    "plt.ylabel('Accuracy')"
   ]
  },
  {
   "cell_type": "code",
   "execution_count": 62,
   "metadata": {},
   "outputs": [
    {
     "name": "stdout",
     "output_type": "stream",
     "text": [
      "Accuracy: 25.36945812807882 %\n"
     ]
    }
   ],
   "source": [
    "clf = KNeighborsClassifier(n_neighbors=12)\n",
    "clf.fit(X_train, y_train)\n",
    "ypred = clf.predict(X_test)\n",
    "\n",
    "# Best accuracy\n",
    "print(\"Accuracy:\",metrics.accuracy_score(y_test, ypred)*100,\"%\")"
   ]
  },
  {
   "cell_type": "markdown",
   "metadata": {},
   "source": [
    "### 15 MOST COMMON ODOR NAMES "
   ]
  },
  {
   "cell_type": "code",
   "execution_count": 63,
   "metadata": {},
   "outputs": [],
   "source": [
    "sensorama_2 = sensorama_2 .sort_values('odor name')"
   ]
  },
  {
   "cell_type": "code",
   "execution_count": 72,
   "metadata": {},
   "outputs": [
    {
     "data": {
      "text/html": [
       "<div>\n",
       "<style scoped>\n",
       "    .dataframe tbody tr th:only-of-type {\n",
       "        vertical-align: middle;\n",
       "    }\n",
       "\n",
       "    .dataframe tbody tr th {\n",
       "        vertical-align: top;\n",
       "    }\n",
       "\n",
       "    .dataframe thead th {\n",
       "        text-align: right;\n",
       "    }\n",
       "</style>\n",
       "<table border=\"1\" class=\"dataframe\">\n",
       "  <thead>\n",
       "    <tr style=\"text-align: right;\">\n",
       "      <th></th>\n",
       "      <th>cid</th>\n",
       "      <th>canonical_smiles</th>\n",
       "      <th>xlogp</th>\n",
       "      <th>odor level</th>\n",
       "      <th>odor name</th>\n",
       "      <th>fsp3</th>\n",
       "      <th>small rings</th>\n",
       "      <th>arom rings</th>\n",
       "      <th>ring blocks</th>\n",
       "      <th>arom blocks</th>\n",
       "      <th>...</th>\n",
       "      <th>atsm4</th>\n",
       "      <th>atsm5</th>\n",
       "      <th>natom</th>\n",
       "      <th>arom bond</th>\n",
       "      <th>arom atom</th>\n",
       "      <th>apol</th>\n",
       "      <th>alogp</th>\n",
       "      <th>alogp2</th>\n",
       "      <th>amr</th>\n",
       "      <th>acid</th>\n",
       "    </tr>\n",
       "  </thead>\n",
       "  <tbody>\n",
       "    <tr>\n",
       "      <td>9440</td>\n",
       "      <td>101330.000000</td>\n",
       "      <td>190.000000</td>\n",
       "      <td>0.972405</td>\n",
       "      <td>2.000000</td>\n",
       "      <td>38.000000</td>\n",
       "      <td>-0.663573</td>\n",
       "      <td>1.278317</td>\n",
       "      <td>1.183366</td>\n",
       "      <td>2.371507</td>\n",
       "      <td>1.285620</td>\n",
       "      <td>...</td>\n",
       "      <td>1.313791</td>\n",
       "      <td>1.376005</td>\n",
       "      <td>0.332360</td>\n",
       "      <td>0.000000</td>\n",
       "      <td>0.000000</td>\n",
       "      <td>0.499043</td>\n",
       "      <td>0.045260</td>\n",
       "      <td>-0.190006</td>\n",
       "      <td>0.784979</td>\n",
       "      <td>-0.161598</td>\n",
       "    </tr>\n",
       "    <tr>\n",
       "      <td>13512</td>\n",
       "      <td>3656473.000000</td>\n",
       "      <td>1067.000000</td>\n",
       "      <td>1.320003</td>\n",
       "      <td>2.000000</td>\n",
       "      <td>38.000000</td>\n",
       "      <td>-0.103487</td>\n",
       "      <td>3.434689</td>\n",
       "      <td>1.183366</td>\n",
       "      <td>2.371507</td>\n",
       "      <td>1.285620</td>\n",
       "      <td>...</td>\n",
       "      <td>2.696354</td>\n",
       "      <td>1.488892</td>\n",
       "      <td>1.605662</td>\n",
       "      <td>0.000000</td>\n",
       "      <td>0.000000</td>\n",
       "      <td>1.877185</td>\n",
       "      <td>0.789785</td>\n",
       "      <td>0.519596</td>\n",
       "      <td>2.027032</td>\n",
       "      <td>-0.161598</td>\n",
       "    </tr>\n",
       "    <tr>\n",
       "      <td>5888</td>\n",
       "      <td>61046.000000</td>\n",
       "      <td>1781.000000</td>\n",
       "      <td>0.902885</td>\n",
       "      <td>2.000000</td>\n",
       "      <td>38.000000</td>\n",
       "      <td>-1.730583</td>\n",
       "      <td>1.278317</td>\n",
       "      <td>2.998513</td>\n",
       "      <td>2.371507</td>\n",
       "      <td>3.215981</td>\n",
       "      <td>...</td>\n",
       "      <td>1.790060</td>\n",
       "      <td>1.681453</td>\n",
       "      <td>0.862903</td>\n",
       "      <td>0.000000</td>\n",
       "      <td>0.000000</td>\n",
       "      <td>1.281710</td>\n",
       "      <td>-0.007965</td>\n",
       "      <td>-0.231176</td>\n",
       "      <td>2.306334</td>\n",
       "      <td>-0.161598</td>\n",
       "    </tr>\n",
       "    <tr>\n",
       "      <td>10395</td>\n",
       "      <td>111255.000000</td>\n",
       "      <td>1070.000000</td>\n",
       "      <td>-0.139908</td>\n",
       "      <td>2.000000</td>\n",
       "      <td>38.000000</td>\n",
       "      <td>1.352513</td>\n",
       "      <td>2.356503</td>\n",
       "      <td>-0.631781</td>\n",
       "      <td>0.632666</td>\n",
       "      <td>-0.644741</td>\n",
       "      <td>...</td>\n",
       "      <td>1.421854</td>\n",
       "      <td>-0.047847</td>\n",
       "      <td>0.756794</td>\n",
       "      <td>0.000000</td>\n",
       "      <td>0.000000</td>\n",
       "      <td>0.647760</td>\n",
       "      <td>-0.419538</td>\n",
       "      <td>-0.506471</td>\n",
       "      <td>0.262481</td>\n",
       "      <td>-0.161598</td>\n",
       "    </tr>\n",
       "    <tr>\n",
       "      <td>5433</td>\n",
       "      <td>31408.000000</td>\n",
       "      <td>1044.000000</td>\n",
       "      <td>-0.487506</td>\n",
       "      <td>2.000000</td>\n",
       "      <td>124.000000</td>\n",
       "      <td>0.671873</td>\n",
       "      <td>2.356503</td>\n",
       "      <td>-0.631781</td>\n",
       "      <td>0.632666</td>\n",
       "      <td>-0.644741</td>\n",
       "      <td>...</td>\n",
       "      <td>0.209699</td>\n",
       "      <td>-0.143594</td>\n",
       "      <td>0.120143</td>\n",
       "      <td>0.000000</td>\n",
       "      <td>0.000000</td>\n",
       "      <td>0.107235</td>\n",
       "      <td>-0.239878</td>\n",
       "      <td>-0.395674</td>\n",
       "      <td>-0.071592</td>\n",
       "      <td>-0.161598</td>\n",
       "    </tr>\n",
       "    <tr>\n",
       "      <td>...</td>\n",
       "      <td>...</td>\n",
       "      <td>...</td>\n",
       "      <td>...</td>\n",
       "      <td>...</td>\n",
       "      <td>...</td>\n",
       "      <td>...</td>\n",
       "      <td>...</td>\n",
       "      <td>...</td>\n",
       "      <td>...</td>\n",
       "      <td>...</td>\n",
       "      <td>...</td>\n",
       "      <td>...</td>\n",
       "      <td>...</td>\n",
       "      <td>...</td>\n",
       "      <td>...</td>\n",
       "      <td>...</td>\n",
       "      <td>...</td>\n",
       "      <td>...</td>\n",
       "      <td>...</td>\n",
       "      <td>...</td>\n",
       "      <td>...</td>\n",
       "    </tr>\n",
       "    <tr>\n",
       "      <td>16941</td>\n",
       "      <td>10857465.000000</td>\n",
       "      <td>1106.000000</td>\n",
       "      <td>1.320003</td>\n",
       "      <td>2.000000</td>\n",
       "      <td>494.000000</td>\n",
       "      <td>1.352513</td>\n",
       "      <td>2.356503</td>\n",
       "      <td>-0.631781</td>\n",
       "      <td>0.632666</td>\n",
       "      <td>-0.644741</td>\n",
       "      <td>...</td>\n",
       "      <td>2.743288</td>\n",
       "      <td>2.643205</td>\n",
       "      <td>1.711771</td>\n",
       "      <td>0.000000</td>\n",
       "      <td>0.000000</td>\n",
       "      <td>1.706131</td>\n",
       "      <td>0.889087</td>\n",
       "      <td>0.633102</td>\n",
       "      <td>1.246660</td>\n",
       "      <td>-0.161598</td>\n",
       "    </tr>\n",
       "    <tr>\n",
       "      <td>833</td>\n",
       "      <td>7136.000000</td>\n",
       "      <td>538.000000</td>\n",
       "      <td>-0.348467</td>\n",
       "      <td>2.000000</td>\n",
       "      <td>494.000000</td>\n",
       "      <td>-1.455407</td>\n",
       "      <td>0.200130</td>\n",
       "      <td>1.183366</td>\n",
       "      <td>0.632666</td>\n",
       "      <td>1.285620</td>\n",
       "      <td>...</td>\n",
       "      <td>0.914932</td>\n",
       "      <td>1.248991</td>\n",
       "      <td>0.014035</td>\n",
       "      <td>0.000000</td>\n",
       "      <td>0.000000</td>\n",
       "      <td>0.179262</td>\n",
       "      <td>-0.766160</td>\n",
       "      <td>-0.679153</td>\n",
       "      <td>0.642878</td>\n",
       "      <td>-0.161598</td>\n",
       "    </tr>\n",
       "    <tr>\n",
       "      <td>15159</td>\n",
       "      <td>5372174.000000</td>\n",
       "      <td>1409.000000</td>\n",
       "      <td>0.346729</td>\n",
       "      <td>2.000000</td>\n",
       "      <td>494.000000</td>\n",
       "      <td>0.015569</td>\n",
       "      <td>0.200130</td>\n",
       "      <td>-0.631781</td>\n",
       "      <td>0.632666</td>\n",
       "      <td>-0.644741</td>\n",
       "      <td>...</td>\n",
       "      <td>1.084827</td>\n",
       "      <td>0.817610</td>\n",
       "      <td>0.862903</td>\n",
       "      <td>0.000000</td>\n",
       "      <td>0.000000</td>\n",
       "      <td>0.928716</td>\n",
       "      <td>0.706513</td>\n",
       "      <td>0.427834</td>\n",
       "      <td>0.922565</td>\n",
       "      <td>-0.161598</td>\n",
       "    </tr>\n",
       "    <tr>\n",
       "      <td>16923</td>\n",
       "      <td>10561017.000000</td>\n",
       "      <td>1034.000000</td>\n",
       "      <td>0.902885</td>\n",
       "      <td>2.000000</td>\n",
       "      <td>494.000000</td>\n",
       "      <td>1.352513</td>\n",
       "      <td>2.356503</td>\n",
       "      <td>-0.631781</td>\n",
       "      <td>2.371507</td>\n",
       "      <td>-0.644741</td>\n",
       "      <td>...</td>\n",
       "      <td>1.407135</td>\n",
       "      <td>0.240994</td>\n",
       "      <td>1.393445</td>\n",
       "      <td>0.000000</td>\n",
       "      <td>0.000000</td>\n",
       "      <td>1.386350</td>\n",
       "      <td>0.405067</td>\n",
       "      <td>0.121765</td>\n",
       "      <td>0.925667</td>\n",
       "      <td>-0.161598</td>\n",
       "    </tr>\n",
       "    <tr>\n",
       "      <td>12656</td>\n",
       "      <td>560109.000000</td>\n",
       "      <td>2714.000000</td>\n",
       "      <td>0.624807</td>\n",
       "      <td>2.000000</td>\n",
       "      <td>494.000000</td>\n",
       "      <td>1.352513</td>\n",
       "      <td>0.200130</td>\n",
       "      <td>-0.631781</td>\n",
       "      <td>0.632666</td>\n",
       "      <td>-0.644741</td>\n",
       "      <td>...</td>\n",
       "      <td>-0.389531</td>\n",
       "      <td>-0.287748</td>\n",
       "      <td>0.650686</td>\n",
       "      <td>0.000000</td>\n",
       "      <td>0.000000</td>\n",
       "      <td>0.465831</td>\n",
       "      <td>0.528171</td>\n",
       "      <td>0.241808</td>\n",
       "      <td>0.084079</td>\n",
       "      <td>-0.161598</td>\n",
       "    </tr>\n",
       "  </tbody>\n",
       "</table>\n",
       "<p>1291 rows × 212 columns</p>\n",
       "</div>"
      ],
      "text/plain": [
       "                  cid  canonical_smiles     xlogp  odor level  odor name  \\\n",
       "9440    101330.000000        190.000000  0.972405    2.000000  38.000000   \n",
       "13512  3656473.000000       1067.000000  1.320003    2.000000  38.000000   \n",
       "5888     61046.000000       1781.000000  0.902885    2.000000  38.000000   \n",
       "10395   111255.000000       1070.000000 -0.139908    2.000000  38.000000   \n",
       "5433     31408.000000       1044.000000 -0.487506    2.000000 124.000000   \n",
       "...               ...               ...       ...         ...        ...   \n",
       "16941 10857465.000000       1106.000000  1.320003    2.000000 494.000000   \n",
       "833       7136.000000        538.000000 -0.348467    2.000000 494.000000   \n",
       "15159  5372174.000000       1409.000000  0.346729    2.000000 494.000000   \n",
       "16923 10561017.000000       1034.000000  0.902885    2.000000 494.000000   \n",
       "12656   560109.000000       2714.000000  0.624807    2.000000 494.000000   \n",
       "\n",
       "           fsp3  small rings  arom rings  ring blocks  arom blocks  ...  \\\n",
       "9440  -0.663573     1.278317    1.183366     2.371507     1.285620  ...   \n",
       "13512 -0.103487     3.434689    1.183366     2.371507     1.285620  ...   \n",
       "5888  -1.730583     1.278317    2.998513     2.371507     3.215981  ...   \n",
       "10395  1.352513     2.356503   -0.631781     0.632666    -0.644741  ...   \n",
       "5433   0.671873     2.356503   -0.631781     0.632666    -0.644741  ...   \n",
       "...         ...          ...         ...          ...          ...  ...   \n",
       "16941  1.352513     2.356503   -0.631781     0.632666    -0.644741  ...   \n",
       "833   -1.455407     0.200130    1.183366     0.632666     1.285620  ...   \n",
       "15159  0.015569     0.200130   -0.631781     0.632666    -0.644741  ...   \n",
       "16923  1.352513     2.356503   -0.631781     2.371507    -0.644741  ...   \n",
       "12656  1.352513     0.200130   -0.631781     0.632666    -0.644741  ...   \n",
       "\n",
       "          atsm4     atsm5    natom  arom bond  arom atom     apol     alogp  \\\n",
       "9440   1.313791  1.376005 0.332360   0.000000   0.000000 0.499043  0.045260   \n",
       "13512  2.696354  1.488892 1.605662   0.000000   0.000000 1.877185  0.789785   \n",
       "5888   1.790060  1.681453 0.862903   0.000000   0.000000 1.281710 -0.007965   \n",
       "10395  1.421854 -0.047847 0.756794   0.000000   0.000000 0.647760 -0.419538   \n",
       "5433   0.209699 -0.143594 0.120143   0.000000   0.000000 0.107235 -0.239878   \n",
       "...         ...       ...      ...        ...        ...      ...       ...   \n",
       "16941  2.743288  2.643205 1.711771   0.000000   0.000000 1.706131  0.889087   \n",
       "833    0.914932  1.248991 0.014035   0.000000   0.000000 0.179262 -0.766160   \n",
       "15159  1.084827  0.817610 0.862903   0.000000   0.000000 0.928716  0.706513   \n",
       "16923  1.407135  0.240994 1.393445   0.000000   0.000000 1.386350  0.405067   \n",
       "12656 -0.389531 -0.287748 0.650686   0.000000   0.000000 0.465831  0.528171   \n",
       "\n",
       "         alogp2       amr      acid  \n",
       "9440  -0.190006  0.784979 -0.161598  \n",
       "13512  0.519596  2.027032 -0.161598  \n",
       "5888  -0.231176  2.306334 -0.161598  \n",
       "10395 -0.506471  0.262481 -0.161598  \n",
       "5433  -0.395674 -0.071592 -0.161598  \n",
       "...         ...       ...       ...  \n",
       "16941  0.633102  1.246660 -0.161598  \n",
       "833   -0.679153  0.642878 -0.161598  \n",
       "15159  0.427834  0.922565 -0.161598  \n",
       "16923  0.121765  0.925667 -0.161598  \n",
       "12656  0.241808  0.084079 -0.161598  \n",
       "\n",
       "[1291 rows x 212 columns]"
      ]
     },
     "execution_count": 72,
     "metadata": {},
     "output_type": "execute_result"
    }
   ],
   "source": [
    "sensorama2_2=[]\n",
    "\n",
    "for i in range(39, len(sensorama_2)-39):\n",
    "    if sensorama_2.iloc[i,4] == sensorama_2.iloc[i+39,4] or sensorama_2.iloc[i,4] == sensorama_2.iloc[i-39,4]:\n",
    "        sensorama2_2.append(sensorama_2.iloc[i,:]) \n",
    "\n",
    "sensorama2_2= pd.DataFrame(sensorama2_2)\n",
    "sensorama2_2"
   ]
  },
  {
   "cell_type": "code",
   "execution_count": 73,
   "metadata": {},
   "outputs": [
    {
     "name": "stdout",
     "output_type": "stream",
     "text": [
      "15\n"
     ]
    }
   ],
   "source": [
    "count=0\n",
    "for i in range(1, len(sensorama2_2)):\n",
    "    if sensorama2_2.iloc[i,4]!= sensorama2_2.iloc[i-1,4]:\n",
    "        count = count +1\n",
    "print(count)"
   ]
  },
  {
   "cell_type": "code",
   "execution_count": 74,
   "metadata": {},
   "outputs": [],
   "source": [
    "X = sensorama2_2[[ 'xlogp','fsp3', 'small rings','arom rings','ring blocks','arom blocks','rings 3','rings 4', 'rings 5', 'rings 6',\n",
    "               'rings 7', 'rings 8', 'rings 9', 'tpsa efficiency', 'zagreb indices', 'weiner path', 'weiner polarity', 'wtpt.1',\n",
    "               'wtpt.2', 'wtpt.3', 'wtpt.4', 'wtpt.5', 'molecular weight', 'VAdjMat', 'topoPSA', 'lipinski failures', 'rotatable bonds',\n",
    "               'topo shape', 'petitjean number', 'mdec.11', 'mdec.12', 'mdec.13', 'mdec.14', 'mdec.22', 'mdec.23', 'mdec.24',\n",
    "               'mdec.33', 'mdec.34', 'mdec.44', 'mdeo.11', 'mdeo.12', 'mdeo.22', 'mden.11', 'mden.12', 'mden.13', 'mden.22',\n",
    "               'mden.23', 'mden.33', 'mlogp', 'atom p', 'atom lc', 'khs.sli', 'khs.ssbe', 'khs.ssssbe', 'khs.ssbh', 'khs.sssb',\n",
    "               'khs.ssssb', 'khs.sch3', 'khs.dch2', 'khs.ssch2', 'khs.tch', 'khs.dsch', 'khs.aach', 'khs.sssch', 'khs.ddc',\n",
    "               'khs.tsc', 'khs.dssc', 'khs.aasc', 'khs.aaac', 'khs.ssssc', 'khs.snh3', 'khs.snh2', 'khs.ssnh', 'khs.dnh', 'khs.ssnh.1',\n",
    "               'khs.aanh', 'khs.tn', 'khs.sssnh', 'khs.dsn', 'khs.aan', 'khs.sssn', 'khs.dsn.1', 'khs.aasn', 'khs.ssssn', 'khs.soh',\n",
    "               'khs.do', 'khs.sso', 'khs.aao', 'khs.sf', 'khs.ssih3', 'khs.sssih2', 'khs.ssssih', 'khs.sssssi', 'khs.sph2',\n",
    "               'khs.ssph', 'khs.sssp', 'khs.dsssp', 'khs.sssssp', 'khs.ssh', 'khs.ds', 'khs.sss', 'khs.aas', 'khs.dsss', 'khs.ddsss',\n",
    "               'khs.scl', 'khs.sGeH3', 'khs.ssGeH2', 'khs.sssGeH', 'khs.ssssGe', 'khs.sash2', 'khs.ssash', 'khs.sssas', 'khs.sssdas',\n",
    "               'khs.sssssas', 'khs.sseh', 'khs.dse', 'khs.ssse', 'khs.aase', 'khs.dssse', 'khs.ddssse', 'khs.sbr', 'khs.ssnh3', \n",
    "               'khs.sssnh2', 'khs.ssssnh', 'khs.sssssn', 'khs.si', 'khs.spbh3', 'khs.sspbh2', 'khs.ssspbh', 'khs.sssspb', 'kier 1',\n",
    "               'kier 2', 'hybRatio', 'hbdon', 'hbacc', 'fragc', 'fmf', 'eccen', 'SP.0', 'SP.1', 'SP.2', 'SP.3', 'SP.4', 'SP.5', 'SP.6',\n",
    "               'SP.7', 'VP.0', 'VP.1', 'VP.2', 'VP.3', 'VP.4', 'VP.5', 'VP.6', 'VP.7', 'SPC.4', 'SPC.5', 'SPC.6', 'VPC.4', 'VPC.5',\n",
    "               'VPC.6', 'SC.3', 'SC.4', 'SC.5', 'SC.6', 'VC.3', 'VC.4', 'VC.5', 'VC.6', 'SCH.3', 'SCH.4', 'SCH.5', 'SCH.6', 'SCH.7',\n",
    "               'VCH.3', 'VCH.4', 'VCH.3', 'VCH.4', 'VCH.5', 'VCH.6', 'VCH.7', 'C1SP1', 'C2SP1', 'C1SP2', 'C2SP2', 'C3SP2', 'C1SP3',\n",
    "               'C2SP3', 'C3SP3', 'C4SP3', 'bpol', 'bond count', 'basic group count', 'atsp1', 'atsp2' , 'atsp3', 'atsp4', 'atsp5',\n",
    "               'atsm1', 'atsm2','atsm3','atsm4','atsm5', 'natom','arom bond', 'arom atom', 'apol','alogp', 'alogp2', 'amr', 'acid']]\n",
    "y = sensorama2_2['odor name']"
   ]
  },
  {
   "cell_type": "markdown",
   "metadata": {},
   "source": [
    "#### RANDOM FOREST"
   ]
  },
  {
   "cell_type": "code",
   "execution_count": 75,
   "metadata": {},
   "outputs": [
    {
     "name": "stdout",
     "output_type": "stream",
     "text": [
      "Accuracy:  32.50773993808049 %\n"
     ]
    },
    {
     "data": {
      "image/png": "[encoded data removed]",
      "text/plain": [
       "<Figure size 432x288 with 2 Axes>"
      ]
     },
     "metadata": {
      "needs_background": "light"
     },
     "output_type": "display_data"
    }
   ],
   "source": [
    "X_train,X_test,y_train,y_test = train_test_split(X,y,test_size=0.25,random_state=0)\n",
    "sc_X = StandardScaler()\n",
    "X_train = sc_X.fit_transform(X_train)\n",
    "X_test = sc_X.transform(X_test)\n",
    "clf = RandomForestClassifier(n_estimators=100)\n",
    "clf.fit(X_train,y_train)\n",
    "y_pred=clf.predict(X_test)\n",
    "confusion_matrix = pd.crosstab(y_test, y_pred, rownames=['Actual'], colnames=['Predicted'])\n",
    "sns.heatmap(confusion_matrix, annot=True)\n",
    "print('Accuracy: ',metrics.accuracy_score(y_test, y_pred)*100,'%')\n",
    "plt.show()"
   ]
  },
  {
   "cell_type": "markdown",
   "metadata": {},
   "source": [
    "##### Feature Importances "
   ]
  },
  {
   "cell_type": "code",
   "execution_count": 76,
   "metadata": {},
   "outputs": [
    {
     "data": {
      "image/png": "[encoded data removed]",
      "text/plain": [
       "<Figure size 432x288 with 1 Axes>"
      ]
     },
     "metadata": {
      "needs_background": "light"
     },
     "output_type": "display_data"
    }
   ],
   "source": [
    "featureImportances = pd.Series(clf.feature_importances_).sort_values(ascending=False)\n",
    "sns.barplot(x=round(featureImportances,8), y=featureImportances)\n",
    "plt.xlabel('Features Importance')\n",
    "plt.show()"
   ]
  },
  {
   "cell_type": "code",
   "execution_count": 77,
   "metadata": {},
   "outputs": [],
   "source": [
    "X = sensorama2_2[[ 'xlogp','fsp3', 'small rings','arom rings','ring blocks','arom blocks','rings 3','rings 4', 'rings 5', 'rings 6',\n",
    "               'rings 7','tpsa efficiency', 'zagreb indices', 'weiner path', 'weiner polarity', 'wtpt.1',\n",
    "               'wtpt.2', 'wtpt.3', 'wtpt.4', 'wtpt.5', 'molecular weight', 'VAdjMat', 'topoPSA', 'lipinski failures', 'rotatable bonds',\n",
    "               'topo shape', 'petitjean number', 'mdec.11', 'mdec.12', 'mdec.13', 'mdec.14', 'mdec.22', 'mdec.23', 'mdec.24',\n",
    "               'mdec.33', 'mdec.34', 'mdec.44', 'mdeo.11', 'mdeo.12', 'mdeo.22', 'mden.11', 'mden.12','mden.22',\n",
    "               'mden.23', 'mden.33', 'mlogp', 'atom p', 'atom lc', \n",
    "                 'khs.sch3', 'khs.dch2', 'khs.ssch2', 'khs.tch', 'khs.dsch', 'khs.aach', 'khs.sssch', 'khs.ddc',\n",
    "               'khs.tsc', 'khs.dssc', 'khs.aasc', 'khs.aaac', 'khs.ssssc', 'khs.snh2', 'khs.ssnh.1',\n",
    "               'khs.aanh', 'khs.tn','khs.dsn', 'khs.aan', 'khs.sssn', 'khs.dsn.1', 'khs.aasn','khs.soh',\n",
    "               'khs.do', 'khs.sso', 'khs.aao', 'khs.sf', 'khs.ssih3', \n",
    "                 'khs.ssh', 'khs.ds', 'khs.sss', 'khs.aas', 'khs.dsss', 'khs.ddsss',\n",
    "               'khs.scl',\n",
    "               'kier 1',\n",
    "               'kier 2', 'hybRatio', 'hbdon', 'hbacc', 'fragc', 'fmf', 'eccen', 'SP.0', 'SP.1', 'SP.2', 'SP.3', 'SP.4', 'SP.5', 'SP.6',\n",
    "               'SP.7', 'VP.0', 'VP.1', 'VP.2', 'VP.3', 'VP.4', 'VP.5', 'VP.6', 'VP.7', 'SPC.4', 'SPC.5', 'SPC.6', 'VPC.4', 'VPC.5',\n",
    "               'VPC.6', 'SC.3', 'SC.4', 'SC.5', 'SC.6', 'VC.3', 'VC.4', 'VC.5', 'VC.6', 'SCH.3', 'SCH.4', 'SCH.5', 'SCH.6', 'SCH.7',\n",
    "               'VCH.3', 'VCH.4', 'VCH.3', 'VCH.4', 'VCH.5', 'VCH.6', 'VCH.7', 'C1SP1', 'C2SP1', 'C1SP2', 'C2SP2', 'C3SP2', 'C1SP3',\n",
    "               'C2SP3', 'C3SP3', 'C4SP3', 'bpol', 'bond count', 'basic group count', 'atsp1', 'atsp2' , 'atsp3', 'atsp4', 'atsp5',\n",
    "               'atsm1', 'atsm2','atsm3','atsm4','atsm5', 'natom', 'apol','alogp', 'alogp2', 'amr', 'acid']]\n",
    "y = sensorama2_2['odor name']"
   ]
  },
  {
   "cell_type": "code",
   "execution_count": 78,
   "metadata": {},
   "outputs": [
    {
     "name": "stdout",
     "output_type": "stream",
     "text": [
      "Accuracy:  32.50773993808049 %\n"
     ]
    },
    {
     "data": {
      "image/png": "[encoded data removed]",
      "text/plain": [
       "<Figure size 432x288 with 2 Axes>"
      ]
     },
     "metadata": {
      "needs_background": "light"
     },
     "output_type": "display_data"
    }
   ],
   "source": [
    "X_train,X_test,y_train,y_test = train_test_split(X,y,test_size=0.25,random_state=0)\n",
    "sc_X = StandardScaler()\n",
    "X_train = sc_X.fit_transform(X_train)\n",
    "X_test = sc_X.transform(X_test)\n",
    "clf = RandomForestClassifier(n_estimators=100)\n",
    "clf.fit(X_train,y_train)\n",
    "y_pred=clf.predict(X_test)\n",
    "confusion_matrix = pd.crosstab(y_test, y_pred, rownames=['Actual'], colnames=['Predicted'])\n",
    "sns.heatmap(confusion_matrix, annot=True)\n",
    "print('Accuracy: ',metrics.accuracy_score(y_test, y_pred)*100,'%')\n",
    "plt.show()"
   ]
  },
  {
   "cell_type": "markdown",
   "metadata": {},
   "source": [
    "#### SUPPORT VECTOR MACHIN"
   ]
  },
  {
   "cell_type": "markdown",
   "metadata": {},
   "source": [
    "##### rbf Kernel "
   ]
  },
  {
   "cell_type": "code",
   "execution_count": 79,
   "metadata": {},
   "outputs": [
    {
     "name": "stdout",
     "output_type": "stream",
     "text": [
      "Accuracy: 31.57894736842105 %\n"
     ]
    }
   ],
   "source": [
    "X_tr, X_tst, y_tr, y_tst = train_test_split(X, y, test_size=25/100,random_state=109)\n",
    "clf = svm.SVC(kernel='rbf') # creating Support Vector Machine model\n",
    "clf.fit(X_tr, y_tr) # training the Model\n",
    "y_pr = clf.predict(X_tst) # making Predictions\n",
    "\n",
    "# Evaluating Prediction Accuracy\n",
    "print(\"Accuracy:\",metrics.accuracy_score(y_tst, y_pr)*100,\"%\")"
   ]
  },
  {
   "cell_type": "markdown",
   "metadata": {},
   "source": [
    "##### Polynomial Kernel "
   ]
  },
  {
   "cell_type": "code",
   "execution_count": 80,
   "metadata": {},
   "outputs": [
    {
     "name": "stdout",
     "output_type": "stream",
     "text": [
      "Accuracy: 28.173374613003094 %\n"
     ]
    }
   ],
   "source": [
    "X_tr, X_tst, y_tr, y_tst = train_test_split(X, y, test_size=25/100,random_state=109)\n",
    "clf = svm.SVC(kernel='poly') # Creating Support Vector Machine Model\n",
    "clf.fit(X_tr,y_tr) # fit classifier to training set\n",
    "y_pr = clf.predict(X_tst) # Making Predictions\n",
    "\n",
    "# Evaluating Prediction Accuracy\n",
    "print(\"Accuracy:\",metrics.accuracy_score(y_tst, y_pr)*100,\"%\")"
   ]
  },
  {
   "cell_type": "markdown",
   "metadata": {},
   "source": [
    "##### Sigmoid Kernel "
   ]
  },
  {
   "cell_type": "code",
   "execution_count": 81,
   "metadata": {},
   "outputs": [
    {
     "name": "stdout",
     "output_type": "stream",
     "text": [
      "Accuracy: 26.93498452012384 %\n"
     ]
    }
   ],
   "source": [
    "X_tr, X_tst, y_tr, y_tst = train_test_split(X, y, test_size=25/100,random_state=109)\n",
    "clf=svm.SVC(kernel='sigmoid') # instantiate classifier with sigmoid kernel\n",
    "clf.fit(X_tr,y_tr) # fit classifier to training set\n",
    "y_pr = clf.predict(X_tst) # Making Predictions\n",
    "\n",
    "# Evaluating Prediction Accuracy\n",
    "print(\"Accuracy:\",metrics.accuracy_score(y_tst, y_pr)*100,\"%\")"
   ]
  },
  {
   "cell_type": "markdown",
   "metadata": {},
   "source": [
    "#### DECISION TREE"
   ]
  },
  {
   "cell_type": "code",
   "execution_count": 82,
   "metadata": {},
   "outputs": [
    {
     "name": "stdout",
     "output_type": "stream",
     "text": [
      "Accuracy: 27.577319587628867 %\n"
     ]
    }
   ],
   "source": [
    "# Split dataset into training set and test set\n",
    "X_train, X_test, y_train, y_test = train_test_split(X, y, test_size=0.3, random_state=1) # 70% training and 30% test\n",
    "clf = DecisionTreeClassifier() # Create Decision Tree classifer object\n",
    "clf = clf.fit(X_train,y_train) # Train Decision Tree Classifer\n",
    "y_pred = clf.predict(X_test) # Predict the response for test dataset\n",
    "\n",
    "# how often is the classifier correct?\n",
    "print(\"Accuracy:\",metrics.accuracy_score(y_test, y_pred)*100,\"%\")"
   ]
  },
  {
   "cell_type": "markdown",
   "metadata": {},
   "source": [
    "#### LOGISTIC REGRESSION"
   ]
  },
  {
   "cell_type": "code",
   "execution_count": 83,
   "metadata": {},
   "outputs": [
    {
     "name": "stdout",
     "output_type": "stream",
     "text": [
      "Accuracy:  30.340557275541798 %\n"
     ]
    }
   ],
   "source": [
    "X_train,X_test,y_train,y_test = train_test_split(X,y,test_size=0.25,random_state=0)\n",
    "clf= LogisticRegression( max_iter=100000000)\n",
    "clf.fit(X_train,y_train)\n",
    "y_pred=clf.predict(X_test)\n",
    "print('Accuracy: ',metrics.accuracy_score(y_test, y_pred)*100,'%')"
   ]
  },
  {
   "cell_type": "markdown",
   "metadata": {},
   "source": [
    "#### K-Nearest Neighbor"
   ]
  },
  {
   "cell_type": "code",
   "execution_count": 84,
   "metadata": {},
   "outputs": [
    {
     "data": {
      "text/plain": [
       "Text(0, 0.5, 'Accuracy')"
      ]
     },
     "execution_count": 84,
     "metadata": {},
     "output_type": "execute_result"
    },
    {
     "data": {
      "image/png": "[encoded data removed]",
      "text/plain": [
       "<Figure size 864x432 with 1 Axes>"
      ]
     },
     "metadata": {
      "needs_background": "light"
     },
     "output_type": "display_data"
    }
   ],
   "source": [
    "# Split data into training and testing sets.\n",
    "X_train, X_test, y_train, y_test = train_test_split(X, y, random_state=42)\n",
    "accuracy=[]\n",
    "for i in range(1,21):\n",
    "    clf = KNeighborsClassifier(n_neighbors=i)\n",
    "    clf.fit(X_train, y_train)\n",
    "    ypred = clf.predict(X_test)\n",
    "    accuracy.append(metrics.accuracy_score(y_test, ypred))\n",
    "plt.figure(figsize=(12, 6))\n",
    "plt.plot(range(1, 21), accuracy, color='orange', linestyle='dashed', marker='o',\n",
    "         markerfacecolor='green', markersize=10)\n",
    "plt.title('Looking for the most accurate k value')\n",
    "plt.xlabel('K Value')\n",
    "plt.ylabel('Accuracy')"
   ]
  },
  {
   "cell_type": "code",
   "execution_count": 85,
   "metadata": {},
   "outputs": [
    {
     "name": "stdout",
     "output_type": "stream",
     "text": [
      "Accuracy: 30.030959752321984 %\n"
     ]
    }
   ],
   "source": [
    "clf = KNeighborsClassifier(n_neighbors=16)\n",
    "clf.fit(X_train, y_train)\n",
    "ypred = clf.predict(X_test)\n",
    "\n",
    "# Best accuracy\n",
    "print(\"Accuracy:\",metrics.accuracy_score(y_test, ypred)*100,\"%\")"
   ]
  },
  {
   "cell_type": "markdown",
   "metadata": {},
   "source": [
    "### 10 MOST COMMON ODOR NAMES "
   ]
  },
  {
   "cell_type": "code",
   "execution_count": 48,
   "metadata": {},
   "outputs": [],
   "source": [
    "sensorama_2 = sensorama_2 .sort_values('odor name')"
   ]
  },
  {
   "cell_type": "code",
   "execution_count": 88,
   "metadata": {},
   "outputs": [
    {
     "data": {
      "text/html": [
       "<div>\n",
       "<style scoped>\n",
       "    .dataframe tbody tr th:only-of-type {\n",
       "        vertical-align: middle;\n",
       "    }\n",
       "\n",
       "    .dataframe tbody tr th {\n",
       "        vertical-align: top;\n",
       "    }\n",
       "\n",
       "    .dataframe thead th {\n",
       "        text-align: right;\n",
       "    }\n",
       "</style>\n",
       "<table border=\"1\" class=\"dataframe\">\n",
       "  <thead>\n",
       "    <tr style=\"text-align: right;\">\n",
       "      <th></th>\n",
       "      <th>cid</th>\n",
       "      <th>canonical_smiles</th>\n",
       "      <th>xlogp</th>\n",
       "      <th>odor level</th>\n",
       "      <th>odor name</th>\n",
       "      <th>fsp3</th>\n",
       "      <th>small rings</th>\n",
       "      <th>arom rings</th>\n",
       "      <th>ring blocks</th>\n",
       "      <th>arom blocks</th>\n",
       "      <th>...</th>\n",
       "      <th>atsm4</th>\n",
       "      <th>atsm5</th>\n",
       "      <th>natom</th>\n",
       "      <th>arom bond</th>\n",
       "      <th>arom atom</th>\n",
       "      <th>apol</th>\n",
       "      <th>alogp</th>\n",
       "      <th>alogp2</th>\n",
       "      <th>amr</th>\n",
       "      <th>acid</th>\n",
       "    </tr>\n",
       "  </thead>\n",
       "  <tbody>\n",
       "    <tr>\n",
       "      <td>5433</td>\n",
       "      <td>31408.000000</td>\n",
       "      <td>1044.000000</td>\n",
       "      <td>-0.487506</td>\n",
       "      <td>2.000000</td>\n",
       "      <td>124.000000</td>\n",
       "      <td>0.671873</td>\n",
       "      <td>2.356503</td>\n",
       "      <td>-0.631781</td>\n",
       "      <td>0.632666</td>\n",
       "      <td>-0.644741</td>\n",
       "      <td>...</td>\n",
       "      <td>0.209699</td>\n",
       "      <td>-0.143594</td>\n",
       "      <td>0.120143</td>\n",
       "      <td>0.000000</td>\n",
       "      <td>0.000000</td>\n",
       "      <td>0.107235</td>\n",
       "      <td>-0.239878</td>\n",
       "      <td>-0.395674</td>\n",
       "      <td>-0.071592</td>\n",
       "      <td>-0.161598</td>\n",
       "    </tr>\n",
       "    <tr>\n",
       "      <td>5165</td>\n",
       "      <td>29096.000000</td>\n",
       "      <td>1004.000000</td>\n",
       "      <td>0.068650</td>\n",
       "      <td>2.000000</td>\n",
       "      <td>124.000000</td>\n",
       "      <td>0.603735</td>\n",
       "      <td>-0.878056</td>\n",
       "      <td>-0.631781</td>\n",
       "      <td>-1.106175</td>\n",
       "      <td>-0.644741</td>\n",
       "      <td>...</td>\n",
       "      <td>-0.757737</td>\n",
       "      <td>-0.623930</td>\n",
       "      <td>0.226252</td>\n",
       "      <td>0.000000</td>\n",
       "      <td>0.000000</td>\n",
       "      <td>0.063158</td>\n",
       "      <td>0.231721</td>\n",
       "      <td>-0.035719</td>\n",
       "      <td>-0.180573</td>\n",
       "      <td>-0.161598</td>\n",
       "    </tr>\n",
       "    <tr>\n",
       "      <td>13918</td>\n",
       "      <td>5317319.000000</td>\n",
       "      <td>380.000000</td>\n",
       "      <td>2.362796</td>\n",
       "      <td>2.000000</td>\n",
       "      <td>124.000000</td>\n",
       "      <td>-0.644105</td>\n",
       "      <td>-0.878056</td>\n",
       "      <td>-0.631781</td>\n",
       "      <td>-1.106175</td>\n",
       "      <td>-0.644741</td>\n",
       "      <td>...</td>\n",
       "      <td>-0.112609</td>\n",
       "      <td>0.048967</td>\n",
       "      <td>1.075120</td>\n",
       "      <td>0.000000</td>\n",
       "      <td>0.000000</td>\n",
       "      <td>1.165596</td>\n",
       "      <td>2.127348</td>\n",
       "      <td>2.421322</td>\n",
       "      <td>1.297859</td>\n",
       "      <td>-0.161598</td>\n",
       "    </tr>\n",
       "    <tr>\n",
       "      <td>9553</td>\n",
       "      <td>102820.000000</td>\n",
       "      <td>1921.000000</td>\n",
       "      <td>-0.000869</td>\n",
       "      <td>2.000000</td>\n",
       "      <td>124.000000</td>\n",
       "      <td>0.936567</td>\n",
       "      <td>-0.878056</td>\n",
       "      <td>-0.631781</td>\n",
       "      <td>-1.106175</td>\n",
       "      <td>-0.644741</td>\n",
       "      <td>...</td>\n",
       "      <td>-0.205953</td>\n",
       "      <td>-0.384029</td>\n",
       "      <td>0.014035</td>\n",
       "      <td>0.000000</td>\n",
       "      <td>0.000000</td>\n",
       "      <td>-0.173721</td>\n",
       "      <td>0.242547</td>\n",
       "      <td>-0.026278</td>\n",
       "      <td>-0.483305</td>\n",
       "      <td>-0.161598</td>\n",
       "    </tr>\n",
       "    <tr>\n",
       "      <td>15352</td>\n",
       "      <td>5702654.000000</td>\n",
       "      <td>2589.000000</td>\n",
       "      <td>0.207689</td>\n",
       "      <td>2.000000</td>\n",
       "      <td>124.000000</td>\n",
       "      <td>0.229345</td>\n",
       "      <td>-0.878056</td>\n",
       "      <td>-0.631781</td>\n",
       "      <td>-1.106175</td>\n",
       "      <td>-0.644741</td>\n",
       "      <td>...</td>\n",
       "      <td>-0.895942</td>\n",
       "      <td>-0.623930</td>\n",
       "      <td>0.014035</td>\n",
       "      <td>0.000000</td>\n",
       "      <td>0.000000</td>\n",
       "      <td>-0.074694</td>\n",
       "      <td>0.544201</td>\n",
       "      <td>0.257949</td>\n",
       "      <td>-0.175155</td>\n",
       "      <td>-0.161598</td>\n",
       "    </tr>\n",
       "    <tr>\n",
       "      <td>...</td>\n",
       "      <td>...</td>\n",
       "      <td>...</td>\n",
       "      <td>...</td>\n",
       "      <td>...</td>\n",
       "      <td>...</td>\n",
       "      <td>...</td>\n",
       "      <td>...</td>\n",
       "      <td>...</td>\n",
       "      <td>...</td>\n",
       "      <td>...</td>\n",
       "      <td>...</td>\n",
       "      <td>...</td>\n",
       "      <td>...</td>\n",
       "      <td>...</td>\n",
       "      <td>...</td>\n",
       "      <td>...</td>\n",
       "      <td>...</td>\n",
       "      <td>...</td>\n",
       "      <td>...</td>\n",
       "      <td>...</td>\n",
       "      <td>...</td>\n",
       "    </tr>\n",
       "    <tr>\n",
       "      <td>5975</td>\n",
       "      <td>61096.000000</td>\n",
       "      <td>2895.000000</td>\n",
       "      <td>0.763846</td>\n",
       "      <td>2.000000</td>\n",
       "      <td>494.000000</td>\n",
       "      <td>1.012193</td>\n",
       "      <td>-0.878056</td>\n",
       "      <td>-0.631781</td>\n",
       "      <td>-1.106175</td>\n",
       "      <td>-0.644741</td>\n",
       "      <td>...</td>\n",
       "      <td>-0.343633</td>\n",
       "      <td>-0.287748</td>\n",
       "      <td>0.650686</td>\n",
       "      <td>0.000000</td>\n",
       "      <td>0.000000</td>\n",
       "      <td>0.465831</td>\n",
       "      <td>0.966323</td>\n",
       "      <td>0.724451</td>\n",
       "      <td>0.128970</td>\n",
       "      <td>-0.161598</td>\n",
       "    </tr>\n",
       "    <tr>\n",
       "      <td>4962</td>\n",
       "      <td>25325.000000</td>\n",
       "      <td>201.000000</td>\n",
       "      <td>0.485768</td>\n",
       "      <td>2.000000</td>\n",
       "      <td>494.000000</td>\n",
       "      <td>1.012193</td>\n",
       "      <td>1.278317</td>\n",
       "      <td>-0.631781</td>\n",
       "      <td>0.632666</td>\n",
       "      <td>-0.644741</td>\n",
       "      <td>...</td>\n",
       "      <td>0.439700</td>\n",
       "      <td>0.240461</td>\n",
       "      <td>0.226252</td>\n",
       "      <td>0.000000</td>\n",
       "      <td>0.000000</td>\n",
       "      <td>0.190136</td>\n",
       "      <td>0.274815</td>\n",
       "      <td>0.002167</td>\n",
       "      <td>-0.097791</td>\n",
       "      <td>-0.161598</td>\n",
       "    </tr>\n",
       "    <tr>\n",
       "      <td>611</td>\n",
       "      <td>6654.000000</td>\n",
       "      <td>1398.000000</td>\n",
       "      <td>-0.000869</td>\n",
       "      <td>2.000000</td>\n",
       "      <td>494.000000</td>\n",
       "      <td>0.603735</td>\n",
       "      <td>2.356503</td>\n",
       "      <td>-0.631781</td>\n",
       "      <td>0.632666</td>\n",
       "      <td>-0.644741</td>\n",
       "      <td>...</td>\n",
       "      <td>-0.250814</td>\n",
       "      <td>-0.960111</td>\n",
       "      <td>-0.304291</td>\n",
       "      <td>0.000000</td>\n",
       "      <td>0.000000</td>\n",
       "      <td>-0.295448</td>\n",
       "      <td>0.294106</td>\n",
       "      <td>0.019403</td>\n",
       "      <td>-0.498805</td>\n",
       "      <td>-0.161598</td>\n",
       "    </tr>\n",
       "    <tr>\n",
       "      <td>7890</td>\n",
       "      <td>74879.000000</td>\n",
       "      <td>1234.000000</td>\n",
       "      <td>0.833366</td>\n",
       "      <td>2.000000</td>\n",
       "      <td>494.000000</td>\n",
       "      <td>-0.519433</td>\n",
       "      <td>0.200130</td>\n",
       "      <td>1.183366</td>\n",
       "      <td>0.632666</td>\n",
       "      <td>1.285620</td>\n",
       "      <td>...</td>\n",
       "      <td>1.223032</td>\n",
       "      <td>1.537847</td>\n",
       "      <td>0.650686</td>\n",
       "      <td>0.000000</td>\n",
       "      <td>0.000000</td>\n",
       "      <td>0.790874</td>\n",
       "      <td>0.526228</td>\n",
       "      <td>0.239868</td>\n",
       "      <td>0.957309</td>\n",
       "      <td>-0.161598</td>\n",
       "    </tr>\n",
       "    <tr>\n",
       "      <td>12621</td>\n",
       "      <td>551084.000000</td>\n",
       "      <td>1140.000000</td>\n",
       "      <td>-0.904624</td>\n",
       "      <td>2.000000</td>\n",
       "      <td>494.000000</td>\n",
       "      <td>0.104674</td>\n",
       "      <td>0.200130</td>\n",
       "      <td>-0.631781</td>\n",
       "      <td>0.632666</td>\n",
       "      <td>-0.644741</td>\n",
       "      <td>...</td>\n",
       "      <td>0.362111</td>\n",
       "      <td>0.000026</td>\n",
       "      <td>-0.410399</td>\n",
       "      <td>0.000000</td>\n",
       "      <td>0.000000</td>\n",
       "      <td>-0.449426</td>\n",
       "      <td>-0.663735</td>\n",
       "      <td>-0.633755</td>\n",
       "      <td>-0.524670</td>\n",
       "      <td>-0.161598</td>\n",
       "    </tr>\n",
       "  </tbody>\n",
       "</table>\n",
       "<p>1167 rows × 212 columns</p>\n",
       "</div>"
      ],
      "text/plain": [
       "                 cid  canonical_smiles     xlogp  odor level  odor name  \\\n",
       "5433    31408.000000       1044.000000 -0.487506    2.000000 124.000000   \n",
       "5165    29096.000000       1004.000000  0.068650    2.000000 124.000000   \n",
       "13918 5317319.000000        380.000000  2.362796    2.000000 124.000000   \n",
       "9553   102820.000000       1921.000000 -0.000869    2.000000 124.000000   \n",
       "15352 5702654.000000       2589.000000  0.207689    2.000000 124.000000   \n",
       "...              ...               ...       ...         ...        ...   \n",
       "5975    61096.000000       2895.000000  0.763846    2.000000 494.000000   \n",
       "4962    25325.000000        201.000000  0.485768    2.000000 494.000000   \n",
       "611      6654.000000       1398.000000 -0.000869    2.000000 494.000000   \n",
       "7890    74879.000000       1234.000000  0.833366    2.000000 494.000000   \n",
       "12621  551084.000000       1140.000000 -0.904624    2.000000 494.000000   \n",
       "\n",
       "           fsp3  small rings  arom rings  ring blocks  arom blocks  ...  \\\n",
       "5433   0.671873     2.356503   -0.631781     0.632666    -0.644741  ...   \n",
       "5165   0.603735    -0.878056   -0.631781    -1.106175    -0.644741  ...   \n",
       "13918 -0.644105    -0.878056   -0.631781    -1.106175    -0.644741  ...   \n",
       "9553   0.936567    -0.878056   -0.631781    -1.106175    -0.644741  ...   \n",
       "15352  0.229345    -0.878056   -0.631781    -1.106175    -0.644741  ...   \n",
       "...         ...          ...         ...          ...          ...  ...   \n",
       "5975   1.012193    -0.878056   -0.631781    -1.106175    -0.644741  ...   \n",
       "4962   1.012193     1.278317   -0.631781     0.632666    -0.644741  ...   \n",
       "611    0.603735     2.356503   -0.631781     0.632666    -0.644741  ...   \n",
       "7890  -0.519433     0.200130    1.183366     0.632666     1.285620  ...   \n",
       "12621  0.104674     0.200130   -0.631781     0.632666    -0.644741  ...   \n",
       "\n",
       "          atsm4     atsm5     natom  arom bond  arom atom      apol     alogp  \\\n",
       "5433   0.209699 -0.143594  0.120143   0.000000   0.000000  0.107235 -0.239878   \n",
       "5165  -0.757737 -0.623930  0.226252   0.000000   0.000000  0.063158  0.231721   \n",
       "13918 -0.112609  0.048967  1.075120   0.000000   0.000000  1.165596  2.127348   \n",
       "9553  -0.205953 -0.384029  0.014035   0.000000   0.000000 -0.173721  0.242547   \n",
       "15352 -0.895942 -0.623930  0.014035   0.000000   0.000000 -0.074694  0.544201   \n",
       "...         ...       ...       ...        ...        ...       ...       ...   \n",
       "5975  -0.343633 -0.287748  0.650686   0.000000   0.000000  0.465831  0.966323   \n",
       "4962   0.439700  0.240461  0.226252   0.000000   0.000000  0.190136  0.274815   \n",
       "611   -0.250814 -0.960111 -0.304291   0.000000   0.000000 -0.295448  0.294106   \n",
       "7890   1.223032  1.537847  0.650686   0.000000   0.000000  0.790874  0.526228   \n",
       "12621  0.362111  0.000026 -0.410399   0.000000   0.000000 -0.449426 -0.663735   \n",
       "\n",
       "         alogp2       amr      acid  \n",
       "5433  -0.395674 -0.071592 -0.161598  \n",
       "5165  -0.035719 -0.180573 -0.161598  \n",
       "13918  2.421322  1.297859 -0.161598  \n",
       "9553  -0.026278 -0.483305 -0.161598  \n",
       "15352  0.257949 -0.175155 -0.161598  \n",
       "...         ...       ...       ...  \n",
       "5975   0.724451  0.128970 -0.161598  \n",
       "4962   0.002167 -0.097791 -0.161598  \n",
       "611    0.019403 -0.498805 -0.161598  \n",
       "7890   0.239868  0.957309 -0.161598  \n",
       "12621 -0.633755 -0.524670 -0.161598  \n",
       "\n",
       "[1167 rows x 212 columns]"
      ]
     },
     "execution_count": 88,
     "metadata": {},
     "output_type": "execute_result"
    }
   ],
   "source": [
    "sensorama2_2=[]\n",
    "\n",
    "for i in range(47, len(sensorama_2)-47):\n",
    "    if sensorama_2.iloc[i,4] == sensorama_2.iloc[i+47,4] or sensorama_2.iloc[i,4] == sensorama_2.iloc[i-47,4]:\n",
    "        sensorama2_2.append(sensorama_2.iloc[i,:]) \n",
    "\n",
    "sensorama2_2= pd.DataFrame(sensorama2_2)\n",
    "sensorama2_2"
   ]
  },
  {
   "cell_type": "code",
   "execution_count": 89,
   "metadata": {},
   "outputs": [
    {
     "name": "stdout",
     "output_type": "stream",
     "text": [
      "10\n"
     ]
    }
   ],
   "source": [
    "count=0\n",
    "for i in range(1, len(sensorama2_2)):\n",
    "    if sensorama2_2.iloc[i,4]!= sensorama2_2.iloc[i-1,4]:\n",
    "        count = count +1\n",
    "print(count)"
   ]
  },
  {
   "cell_type": "code",
   "execution_count": 92,
   "metadata": {},
   "outputs": [],
   "source": [
    "X = sensorama2_2[[ 'xlogp','fsp3', 'small rings','arom rings','ring blocks','arom blocks','rings 3','rings 4', 'rings 5', 'rings 6',\n",
    "               'rings 7', 'rings 8', 'rings 9', 'tpsa efficiency', 'zagreb indices', 'weiner path', 'weiner polarity', 'wtpt.1',\n",
    "               'wtpt.2', 'wtpt.3', 'wtpt.4', 'wtpt.5', 'molecular weight', 'VAdjMat', 'topoPSA', 'lipinski failures', 'rotatable bonds',\n",
    "               'topo shape', 'petitjean number', 'mdec.11', 'mdec.12', 'mdec.13', 'mdec.14', 'mdec.22', 'mdec.23', 'mdec.24',\n",
    "               'mdec.33', 'mdec.34', 'mdec.44', 'mdeo.11', 'mdeo.12', 'mdeo.22', 'mden.11', 'mden.12', 'mden.13', 'mden.22',\n",
    "               'mden.23', 'mden.33', 'mlogp', 'atom p', 'atom lc', 'khs.sli', 'khs.ssbe', 'khs.ssssbe', 'khs.ssbh', 'khs.sssb',\n",
    "               'khs.ssssb', 'khs.sch3', 'khs.dch2', 'khs.ssch2', 'khs.tch', 'khs.dsch', 'khs.aach', 'khs.sssch', 'khs.ddc',\n",
    "               'khs.tsc', 'khs.dssc', 'khs.aasc', 'khs.aaac', 'khs.ssssc', 'khs.snh3', 'khs.snh2', 'khs.ssnh', 'khs.dnh', 'khs.ssnh.1',\n",
    "               'khs.aanh', 'khs.tn', 'khs.sssnh', 'khs.dsn', 'khs.aan', 'khs.sssn', 'khs.dsn.1', 'khs.aasn', 'khs.ssssn', 'khs.soh',\n",
    "               'khs.do', 'khs.sso', 'khs.aao', 'khs.sf', 'khs.ssih3', 'khs.sssih2', 'khs.ssssih', 'khs.sssssi', 'khs.sph2',\n",
    "               'khs.ssph', 'khs.sssp', 'khs.dsssp', 'khs.sssssp', 'khs.ssh', 'khs.ds', 'khs.sss', 'khs.aas', 'khs.dsss', 'khs.ddsss',\n",
    "               'khs.scl', 'khs.sGeH3', 'khs.ssGeH2', 'khs.sssGeH', 'khs.ssssGe', 'khs.sash2', 'khs.ssash', 'khs.sssas', 'khs.sssdas',\n",
    "               'khs.sssssas', 'khs.sseh', 'khs.dse', 'khs.ssse', 'khs.aase', 'khs.dssse', 'khs.ddssse', 'khs.sbr', 'khs.ssnh3', \n",
    "               'khs.sssnh2', 'khs.ssssnh', 'khs.sssssn', 'khs.si', 'khs.spbh3', 'khs.sspbh2', 'khs.ssspbh', 'khs.sssspb', 'kier 1',\n",
    "               'kier 2', 'hybRatio', 'hbdon', 'hbacc', 'fragc', 'fmf', 'eccen', 'SP.0', 'SP.1', 'SP.2', 'SP.3', 'SP.4', 'SP.5', 'SP.6',\n",
    "               'SP.7', 'VP.0', 'VP.1', 'VP.2', 'VP.3', 'VP.4', 'VP.5', 'VP.6', 'VP.7', 'SPC.4', 'SPC.5', 'SPC.6', 'VPC.4', 'VPC.5',\n",
    "               'VPC.6', 'SC.3', 'SC.4', 'SC.5', 'SC.6', 'VC.3', 'VC.4', 'VC.5', 'VC.6', 'SCH.3', 'SCH.4', 'SCH.5', 'SCH.6', 'SCH.7',\n",
    "               'VCH.3', 'VCH.4', 'VCH.3', 'VCH.4', 'VCH.5', 'VCH.6', 'VCH.7', 'C1SP1', 'C2SP1', 'C1SP2', 'C2SP2', 'C3SP2', 'C1SP3',\n",
    "               'C2SP3', 'C3SP3', 'C4SP3', 'bpol', 'bond count', 'basic group count', 'atsp1', 'atsp2' , 'atsp3', 'atsp4', 'atsp5',\n",
    "               'atsm1', 'atsm2','atsm3','atsm4','atsm5', 'natom','arom bond', 'arom atom', 'apol','alogp', 'alogp2', 'amr', 'acid']]\n",
    "y = sensorama2_2['odor name']"
   ]
  },
  {
   "cell_type": "markdown",
   "metadata": {},
   "source": [
    "#### RANDOM FOREST"
   ]
  },
  {
   "cell_type": "code",
   "execution_count": 94,
   "metadata": {},
   "outputs": [
    {
     "name": "stdout",
     "output_type": "stream",
     "text": [
      "Accuracy:  30.47945205479452 %\n"
     ]
    },
    {
     "data": {
      "image/png": "[encoded data removed]",
      "text/plain": [
       "<Figure size 432x288 with 2 Axes>"
      ]
     },
     "metadata": {
      "needs_background": "light"
     },
     "output_type": "display_data"
    }
   ],
   "source": [
    "X_train,X_test,y_train,y_test = train_test_split(X,y,test_size=0.25,random_state=0)\n",
    "sc_X = StandardScaler()\n",
    "X_train = sc_X.fit_transform(X_train)\n",
    "X_test = sc_X.transform(X_test)\n",
    "clf = RandomForestClassifier(n_estimators=100)\n",
    "clf.fit(X_train,y_train)\n",
    "y_pred=clf.predict(X_test)\n",
    "confusion_matrix = pd.crosstab(y_test, y_pred, rownames=['Actual'], colnames=['Predicted'])\n",
    "sns.heatmap(confusion_matrix, annot=True)\n",
    "print('Accuracy: ',metrics.accuracy_score(y_test, y_pred)*100,'%')\n",
    "plt.show()"
   ]
  },
  {
   "cell_type": "markdown",
   "metadata": {},
   "source": [
    "##### Feature Importances "
   ]
  },
  {
   "cell_type": "code",
   "execution_count": 95,
   "metadata": {},
   "outputs": [
    {
     "data": {
      "image/png": "[encoded data removed]",
      "text/plain": [
       "<Figure size 432x288 with 1 Axes>"
      ]
     },
     "metadata": {
      "needs_background": "light"
     },
     "output_type": "display_data"
    }
   ],
   "source": [
    "featureImportances = pd.Series(clf.feature_importances_).sort_values(ascending=False)\n",
    "sns.barplot(x=round(featureImportances,8), y=featureImportances)\n",
    "plt.xlabel('Features Importance')\n",
    "plt.show()"
   ]
  },
  {
   "cell_type": "code",
   "execution_count": 96,
   "metadata": {},
   "outputs": [],
   "source": [
    "X = sensorama2_2[[ 'xlogp','fsp3', 'small rings','arom rings','ring blocks','arom blocks','rings 3','rings 4', 'rings 5', 'rings 6',\n",
    "               'rings 7','tpsa efficiency', 'zagreb indices', 'weiner path', 'weiner polarity', 'wtpt.1',\n",
    "               'wtpt.2', 'wtpt.3', 'wtpt.4', 'wtpt.5', 'molecular weight', 'VAdjMat', 'topoPSA', 'lipinski failures', 'rotatable bonds',\n",
    "               'topo shape', 'petitjean number', 'mdec.11', 'mdec.12', 'mdec.13', 'mdec.14', 'mdec.22', 'mdec.23', 'mdec.24',\n",
    "               'mdec.33', 'mdec.34', 'mdec.44', 'mdeo.11', 'mdeo.12', 'mdeo.22', 'mden.11', 'mden.12','mden.22',\n",
    "               'mden.23', 'mden.33', 'mlogp', 'atom p', 'atom lc', \n",
    "                 'khs.sch3', 'khs.dch2', 'khs.ssch2', 'khs.tch', 'khs.dsch', 'khs.aach', 'khs.sssch', 'khs.ddc',\n",
    "               'khs.tsc', 'khs.dssc', 'khs.aasc', 'khs.aaac', 'khs.ssssc', 'khs.snh2', 'khs.ssnh.1',\n",
    "               'khs.aanh', 'khs.tn','khs.dsn', 'khs.aan', 'khs.sssn', 'khs.dsn.1', 'khs.aasn','khs.soh',\n",
    "               'khs.do', 'khs.sso', 'khs.aao', 'khs.sf', 'khs.ssih3', \n",
    "                 'khs.ssh', 'khs.ds', 'khs.sss', 'khs.aas', 'khs.dsss', 'khs.ddsss',\n",
    "               'khs.scl',\n",
    "               'kier 1',\n",
    "               'kier 2', 'hybRatio', 'hbdon', 'hbacc', 'fragc', 'fmf', 'eccen', 'SP.0', 'SP.1', 'SP.2', 'SP.3', 'SP.4', 'SP.5', 'SP.6',\n",
    "               'SP.7', 'VP.0', 'VP.1', 'VP.2', 'VP.3', 'VP.4', 'VP.5', 'VP.6', 'VP.7', 'SPC.4', 'SPC.5', 'SPC.6', 'VPC.4', 'VPC.5',\n",
    "               'VPC.6', 'SC.3', 'SC.4', 'SC.5', 'SC.6', 'VC.3', 'VC.4', 'VC.5', 'VC.6', 'SCH.3', 'SCH.4', 'SCH.5', 'SCH.6', 'SCH.7',\n",
    "               'VCH.3', 'VCH.4', 'VCH.3', 'VCH.4', 'VCH.5', 'VCH.6', 'VCH.7', 'C1SP1', 'C2SP1', 'C1SP2', 'C2SP2', 'C3SP2', 'C1SP3',\n",
    "               'C2SP3', 'C3SP3', 'C4SP3', 'bpol', 'bond count', 'basic group count', 'atsp1', 'atsp2' , 'atsp3', 'atsp4', 'atsp5',\n",
    "               'atsm1', 'atsm2','atsm3','atsm4','atsm5', 'natom', 'apol','alogp', 'alogp2', 'amr', 'acid']]\n",
    "y = sensorama2_2['odor name']"
   ]
  },
  {
   "cell_type": "code",
   "execution_count": 97,
   "metadata": {},
   "outputs": [
    {
     "name": "stdout",
     "output_type": "stream",
     "text": [
      "Accuracy:  30.47945205479452 %\n"
     ]
    },
    {
     "data": {
      "image/png": "[encoded data removed]",
      "text/plain": [
       "<Figure size 432x288 with 2 Axes>"
      ]
     },
     "metadata": {
      "needs_background": "light"
     },
     "output_type": "display_data"
    }
   ],
   "source": [
    "X_train,X_test,y_train,y_test = train_test_split(X,y,test_size=0.25,random_state=0)\n",
    "sc_X = StandardScaler()\n",
    "X_train = sc_X.fit_transform(X_train)\n",
    "X_test = sc_X.transform(X_test)\n",
    "clf = RandomForestClassifier(n_estimators=100)\n",
    "clf.fit(X_train,y_train)\n",
    "y_pred=clf.predict(X_test)\n",
    "confusion_matrix = pd.crosstab(y_test, y_pred, rownames=['Actual'], colnames=['Predicted'])\n",
    "sns.heatmap(confusion_matrix, annot=True)\n",
    "print('Accuracy: ',metrics.accuracy_score(y_test, y_pred)*100,'%')\n",
    "plt.show()"
   ]
  },
  {
   "cell_type": "markdown",
   "metadata": {},
   "source": [
    "#### SUPPORT VECTOR MACHIN"
   ]
  },
  {
   "cell_type": "markdown",
   "metadata": {},
   "source": [
    "##### rbf Kernel "
   ]
  },
  {
   "cell_type": "code",
   "execution_count": 98,
   "metadata": {},
   "outputs": [
    {
     "name": "stdout",
     "output_type": "stream",
     "text": [
      "Accuracy: 34.24657534246575 %\n"
     ]
    }
   ],
   "source": [
    "X_tr, X_tst, y_tr, y_tst = train_test_split(X, y, test_size=25/100,random_state=109)\n",
    "clf = svm.SVC(kernel='rbf') # creating Support Vector Machine model\n",
    "clf.fit(X_tr, y_tr) # training the Model\n",
    "y_pr = clf.predict(X_tst) # making Predictions\n",
    "\n",
    "# Evaluating Prediction Accuracy\n",
    "print(\"Accuracy:\",metrics.accuracy_score(y_tst, y_pr)*100,\"%\")"
   ]
  },
  {
   "cell_type": "markdown",
   "metadata": {},
   "source": [
    "##### Polynomial Kernel "
   ]
  },
  {
   "cell_type": "code",
   "execution_count": 99,
   "metadata": {},
   "outputs": [
    {
     "name": "stdout",
     "output_type": "stream",
     "text": [
      "Accuracy: 28.424657534246577 %\n"
     ]
    }
   ],
   "source": [
    "X_tr, X_tst, y_tr, y_tst = train_test_split(X, y, test_size=25/100,random_state=109)\n",
    "clf = svm.SVC(kernel='poly') # Creating Support Vector Machine Model\n",
    "clf.fit(X_tr,y_tr) # fit classifier to training set\n",
    "y_pr = clf.predict(X_tst) # Making Predictions\n",
    "\n",
    "# Evaluating Prediction Accuracy\n",
    "print(\"Accuracy:\",metrics.accuracy_score(y_tst, y_pr)*100,\"%\")"
   ]
  },
  {
   "cell_type": "markdown",
   "metadata": {},
   "source": [
    "##### Sigmoid Kernel "
   ]
  },
  {
   "cell_type": "code",
   "execution_count": 100,
   "metadata": {},
   "outputs": [
    {
     "name": "stdout",
     "output_type": "stream",
     "text": [
      "Accuracy: 27.054794520547947 %\n"
     ]
    }
   ],
   "source": [
    "X_tr, X_tst, y_tr, y_tst = train_test_split(X, y, test_size=25/100,random_state=109)\n",
    "clf=svm.SVC(kernel='sigmoid') # instantiate classifier with sigmoid kernel\n",
    "clf.fit(X_tr,y_tr) # fit classifier to training set\n",
    "y_pr = clf.predict(X_tst) # Making Predictions\n",
    "\n",
    "# Evaluating Prediction Accuracy\n",
    "print(\"Accuracy:\",metrics.accuracy_score(y_tst, y_pr)*100,\"%\")"
   ]
  },
  {
   "cell_type": "markdown",
   "metadata": {},
   "source": [
    "#### DECISION TREE"
   ]
  },
  {
   "cell_type": "code",
   "execution_count": 101,
   "metadata": {},
   "outputs": [
    {
     "name": "stdout",
     "output_type": "stream",
     "text": [
      "Accuracy: 23.931623931623932 %\n"
     ]
    }
   ],
   "source": [
    "# Split dataset into training set and test set\n",
    "X_train, X_test, y_train, y_test = train_test_split(X, y, test_size=0.3, random_state=1) # 70% training and 30% test\n",
    "clf = DecisionTreeClassifier() # Create Decision Tree classifer object\n",
    "clf = clf.fit(X_train,y_train) # Train Decision Tree Classifer\n",
    "y_pred = clf.predict(X_test) # Predict the response for test dataset\n",
    "\n",
    "# how often is the classifier correct?\n",
    "print(\"Accuracy:\",metrics.accuracy_score(y_test, y_pred)*100,\"%\")"
   ]
  },
  {
   "cell_type": "markdown",
   "metadata": {},
   "source": [
    "#### LOGISTIC REGRESSION"
   ]
  },
  {
   "cell_type": "code",
   "execution_count": 102,
   "metadata": {},
   "outputs": [
    {
     "name": "stdout",
     "output_type": "stream",
     "text": [
      "Accuracy:  29.10958904109589 %\n"
     ]
    }
   ],
   "source": [
    "X_train,X_test,y_train,y_test = train_test_split(X,y,test_size=0.25,random_state=0)\n",
    "clf= LogisticRegression( max_iter=100000000)\n",
    "clf.fit(X_train,y_train)\n",
    "y_pred=clf.predict(X_test)\n",
    "print('Accuracy: ',metrics.accuracy_score(y_test, y_pred)*100,'%')"
   ]
  },
  {
   "cell_type": "markdown",
   "metadata": {},
   "source": [
    "#### K-Nearest Neighbor"
   ]
  },
  {
   "cell_type": "code",
   "execution_count": 103,
   "metadata": {},
   "outputs": [
    {
     "data": {
      "text/plain": [
       "Text(0, 0.5, 'Accuracy')"
      ]
     },
     "execution_count": 103,
     "metadata": {},
     "output_type": "execute_result"
    },
    {
     "data": {
      "image/png": "[encoded data removed]",
      "text/plain": [
       "<Figure size 864x432 with 1 Axes>"
      ]
     },
     "metadata": {
      "needs_background": "light"
     },
     "output_type": "display_data"
    }
   ],
   "source": [
    "# Split data into training and testing sets.\n",
    "X_train, X_test, y_train, y_test = train_test_split(X, y, random_state=42)\n",
    "accuracy=[]\n",
    "for i in range(1,21):\n",
    "    clf = KNeighborsClassifier(n_neighbors=i)\n",
    "    clf.fit(X_train, y_train)\n",
    "    ypred = clf.predict(X_test)\n",
    "    accuracy.append(metrics.accuracy_score(y_test, ypred))\n",
    "plt.figure(figsize=(12, 6))\n",
    "plt.plot(range(1, 21), accuracy, color='orange', linestyle='dashed', marker='o',\n",
    "         markerfacecolor='green', markersize=10)\n",
    "plt.title('Looking for the most accurate k value')\n",
    "plt.xlabel('K Value')\n",
    "plt.ylabel('Accuracy')"
   ]
  },
  {
   "cell_type": "code",
   "execution_count": 104,
   "metadata": {},
   "outputs": [
    {
     "name": "stdout",
     "output_type": "stream",
     "text": [
      "Accuracy: 32.534246575342465 %\n"
     ]
    }
   ],
   "source": [
    "clf = KNeighborsClassifier(n_neighbors=7)\n",
    "clf.fit(X_train, y_train)\n",
    "ypred = clf.predict(X_test)\n",
    "\n",
    "# Best accuracy\n",
    "print(\"Accuracy:\",metrics.accuracy_score(y_test, ypred)*100,\"%\")"
   ]
  },
  {
   "cell_type": "markdown",
   "metadata": {},
   "source": [
    "### 7 MOST COMMON ODOR NAMES "
   ]
  },
  {
   "cell_type": "code",
   "execution_count": 105,
   "metadata": {},
   "outputs": [],
   "source": [
    "sensorama_2 = sensorama_2 .sort_values('odor name')"
   ]
  },
  {
   "cell_type": "code",
   "execution_count": 110,
   "metadata": {},
   "outputs": [
    {
     "data": {
      "text/html": [
       "<div>\n",
       "<style scoped>\n",
       "    .dataframe tbody tr th:only-of-type {\n",
       "        vertical-align: middle;\n",
       "    }\n",
       "\n",
       "    .dataframe tbody tr th {\n",
       "        vertical-align: top;\n",
       "    }\n",
       "\n",
       "    .dataframe thead th {\n",
       "        text-align: right;\n",
       "    }\n",
       "</style>\n",
       "<table border=\"1\" class=\"dataframe\">\n",
       "  <thead>\n",
       "    <tr style=\"text-align: right;\">\n",
       "      <th></th>\n",
       "      <th>cid</th>\n",
       "      <th>canonical_smiles</th>\n",
       "      <th>xlogp</th>\n",
       "      <th>odor level</th>\n",
       "      <th>odor name</th>\n",
       "      <th>fsp3</th>\n",
       "      <th>small rings</th>\n",
       "      <th>arom rings</th>\n",
       "      <th>ring blocks</th>\n",
       "      <th>arom blocks</th>\n",
       "      <th>...</th>\n",
       "      <th>atsm4</th>\n",
       "      <th>atsm5</th>\n",
       "      <th>natom</th>\n",
       "      <th>arom bond</th>\n",
       "      <th>arom atom</th>\n",
       "      <th>apol</th>\n",
       "      <th>alogp</th>\n",
       "      <th>alogp2</th>\n",
       "      <th>amr</th>\n",
       "      <th>acid</th>\n",
       "    </tr>\n",
       "  </thead>\n",
       "  <tbody>\n",
       "    <tr>\n",
       "      <td>4210</td>\n",
       "      <td>17691.000000</td>\n",
       "      <td>1252.000000</td>\n",
       "      <td>-1.599820</td>\n",
       "      <td>2.000000</td>\n",
       "      <td>178.000000</td>\n",
       "      <td>-0.519433</td>\n",
       "      <td>0.200130</td>\n",
       "      <td>-0.631781</td>\n",
       "      <td>0.632666</td>\n",
       "      <td>-0.644741</td>\n",
       "      <td>...</td>\n",
       "      <td>-1.402864</td>\n",
       "      <td>-1.488854</td>\n",
       "      <td>-1.471484</td>\n",
       "      <td>0.000000</td>\n",
       "      <td>0.000000</td>\n",
       "      <td>-1.491672</td>\n",
       "      <td>-0.907376</td>\n",
       "      <td>-0.734004</td>\n",
       "      <td>-1.521183</td>\n",
       "      <td>-0.161598</td>\n",
       "    </tr>\n",
       "    <tr>\n",
       "      <td>4402</td>\n",
       "      <td>19695.000000</td>\n",
       "      <td>3199.000000</td>\n",
       "      <td>-0.209428</td>\n",
       "      <td>2.000000</td>\n",
       "      <td>178.000000</td>\n",
       "      <td>1.352513</td>\n",
       "      <td>-0.878056</td>\n",
       "      <td>-0.631781</td>\n",
       "      <td>-1.106175</td>\n",
       "      <td>-0.644741</td>\n",
       "      <td>...</td>\n",
       "      <td>-0.481838</td>\n",
       "      <td>0.192054</td>\n",
       "      <td>0.226252</td>\n",
       "      <td>0.000000</td>\n",
       "      <td>0.000000</td>\n",
       "      <td>-0.035869</td>\n",
       "      <td>-0.215382</td>\n",
       "      <td>-0.379447</td>\n",
       "      <td>-0.361409</td>\n",
       "      <td>-0.161598</td>\n",
       "    </tr>\n",
       "    <tr>\n",
       "      <td>16310</td>\n",
       "      <td>6438193.000000</td>\n",
       "      <td>2654.000000</td>\n",
       "      <td>0.416248</td>\n",
       "      <td>2.000000</td>\n",
       "      <td>178.000000</td>\n",
       "      <td>0.104674</td>\n",
       "      <td>-0.878056</td>\n",
       "      <td>-0.631781</td>\n",
       "      <td>-1.106175</td>\n",
       "      <td>-0.644741</td>\n",
       "      <td>...</td>\n",
       "      <td>-1.057075</td>\n",
       "      <td>-0.791999</td>\n",
       "      <td>-0.410399</td>\n",
       "      <td>0.000000</td>\n",
       "      <td>0.000000</td>\n",
       "      <td>-0.432598</td>\n",
       "      <td>0.677645</td>\n",
       "      <td>0.396756</td>\n",
       "      <td>-0.479045</td>\n",
       "      <td>-0.161598</td>\n",
       "    </tr>\n",
       "    <tr>\n",
       "      <td>4387</td>\n",
       "      <td>19603.000000</td>\n",
       "      <td>2706.000000</td>\n",
       "      <td>1.320003</td>\n",
       "      <td>2.000000</td>\n",
       "      <td>178.000000</td>\n",
       "      <td>-0.008766</td>\n",
       "      <td>0.200130</td>\n",
       "      <td>1.183366</td>\n",
       "      <td>0.632666</td>\n",
       "      <td>1.285620</td>\n",
       "      <td>...</td>\n",
       "      <td>-0.757737</td>\n",
       "      <td>-0.479776</td>\n",
       "      <td>0.120143</td>\n",
       "      <td>0.000000</td>\n",
       "      <td>0.000000</td>\n",
       "      <td>0.107235</td>\n",
       "      <td>0.422554</td>\n",
       "      <td>0.138405</td>\n",
       "      <td>0.113954</td>\n",
       "      <td>-0.161598</td>\n",
       "    </tr>\n",
       "    <tr>\n",
       "      <td>16120</td>\n",
       "      <td>6437178.000000</td>\n",
       "      <td>2603.000000</td>\n",
       "      <td>2.571355</td>\n",
       "      <td>2.000000</td>\n",
       "      <td>178.000000</td>\n",
       "      <td>-1.252113</td>\n",
       "      <td>1.278317</td>\n",
       "      <td>2.998513</td>\n",
       "      <td>2.371507</td>\n",
       "      <td>3.215981</td>\n",
       "      <td>...</td>\n",
       "      <td>2.995816</td>\n",
       "      <td>3.354966</td>\n",
       "      <td>2.560639</td>\n",
       "      <td>0.000000</td>\n",
       "      <td>0.000000</td>\n",
       "      <td>3.107314</td>\n",
       "      <td>1.868093</td>\n",
       "      <td>1.989790</td>\n",
       "      <td>4.161244</td>\n",
       "      <td>-0.161598</td>\n",
       "    </tr>\n",
       "    <tr>\n",
       "      <td>...</td>\n",
       "      <td>...</td>\n",
       "      <td>...</td>\n",
       "      <td>...</td>\n",
       "      <td>...</td>\n",
       "      <td>...</td>\n",
       "      <td>...</td>\n",
       "      <td>...</td>\n",
       "      <td>...</td>\n",
       "      <td>...</td>\n",
       "      <td>...</td>\n",
       "      <td>...</td>\n",
       "      <td>...</td>\n",
       "      <td>...</td>\n",
       "      <td>...</td>\n",
       "      <td>...</td>\n",
       "      <td>...</td>\n",
       "      <td>...</td>\n",
       "      <td>...</td>\n",
       "      <td>...</td>\n",
       "      <td>...</td>\n",
       "      <td>...</td>\n",
       "    </tr>\n",
       "    <tr>\n",
       "      <td>11097</td>\n",
       "      <td>162481.000000</td>\n",
       "      <td>1563.000000</td>\n",
       "      <td>-0.000869</td>\n",
       "      <td>2.000000</td>\n",
       "      <td>494.000000</td>\n",
       "      <td>1.040647</td>\n",
       "      <td>3.434689</td>\n",
       "      <td>-0.631781</td>\n",
       "      <td>0.632666</td>\n",
       "      <td>-0.644741</td>\n",
       "      <td>...</td>\n",
       "      <td>0.577905</td>\n",
       "      <td>0.144714</td>\n",
       "      <td>0.226252</td>\n",
       "      <td>0.000000</td>\n",
       "      <td>0.000000</td>\n",
       "      <td>0.289164</td>\n",
       "      <td>-0.063757</td>\n",
       "      <td>-0.272965</td>\n",
       "      <td>-0.021781</td>\n",
       "      <td>-0.161598</td>\n",
       "    </tr>\n",
       "    <tr>\n",
       "      <td>15817</td>\n",
       "      <td>6432308.000000</td>\n",
       "      <td>1272.000000</td>\n",
       "      <td>1.041924</td>\n",
       "      <td>2.000000</td>\n",
       "      <td>494.000000</td>\n",
       "      <td>0.354017</td>\n",
       "      <td>1.278317</td>\n",
       "      <td>-0.631781</td>\n",
       "      <td>0.632666</td>\n",
       "      <td>-0.644741</td>\n",
       "      <td>...</td>\n",
       "      <td>1.269441</td>\n",
       "      <td>1.202199</td>\n",
       "      <td>1.075120</td>\n",
       "      <td>0.000000</td>\n",
       "      <td>0.000000</td>\n",
       "      <td>1.165596</td>\n",
       "      <td>1.630698</td>\n",
       "      <td>1.621174</td>\n",
       "      <td>0.993237</td>\n",
       "      <td>-0.161598</td>\n",
       "    </tr>\n",
       "    <tr>\n",
       "      <td>442</td>\n",
       "      <td>6027.000000</td>\n",
       "      <td>148.000000</td>\n",
       "      <td>-3.685407</td>\n",
       "      <td>2.000000</td>\n",
       "      <td>494.000000</td>\n",
       "      <td>1.352513</td>\n",
       "      <td>0.200130</td>\n",
       "      <td>-0.631781</td>\n",
       "      <td>0.632666</td>\n",
       "      <td>-0.644741</td>\n",
       "      <td>...</td>\n",
       "      <td>0.743848</td>\n",
       "      <td>-0.337409</td>\n",
       "      <td>-0.940942</td>\n",
       "      <td>0.000000</td>\n",
       "      <td>0.000000</td>\n",
       "      <td>-1.204142</td>\n",
       "      <td>-3.089182</td>\n",
       "      <td>-0.440455</td>\n",
       "      <td>-1.464645</td>\n",
       "      <td>-0.161598</td>\n",
       "    </tr>\n",
       "    <tr>\n",
       "      <td>11089</td>\n",
       "      <td>162476.000000</td>\n",
       "      <td>533.000000</td>\n",
       "      <td>-0.557026</td>\n",
       "      <td>2.000000</td>\n",
       "      <td>494.000000</td>\n",
       "      <td>0.416540</td>\n",
       "      <td>0.200130</td>\n",
       "      <td>-0.631781</td>\n",
       "      <td>0.632666</td>\n",
       "      <td>-0.644741</td>\n",
       "      <td>...</td>\n",
       "      <td>0.347392</td>\n",
       "      <td>0.864950</td>\n",
       "      <td>0.650686</td>\n",
       "      <td>0.000000</td>\n",
       "      <td>0.000000</td>\n",
       "      <td>0.592819</td>\n",
       "      <td>-0.441397</td>\n",
       "      <td>-0.518958</td>\n",
       "      <td>0.382584</td>\n",
       "      <td>-0.161598</td>\n",
       "    </tr>\n",
       "    <tr>\n",
       "      <td>9601</td>\n",
       "      <td>103212.000000</td>\n",
       "      <td>1355.000000</td>\n",
       "      <td>0.763846</td>\n",
       "      <td>2.000000</td>\n",
       "      <td>494.000000</td>\n",
       "      <td>0.817511</td>\n",
       "      <td>0.200130</td>\n",
       "      <td>-0.631781</td>\n",
       "      <td>0.632666</td>\n",
       "      <td>-0.644741</td>\n",
       "      <td>...</td>\n",
       "      <td>0.946622</td>\n",
       "      <td>-0.047314</td>\n",
       "      <td>1.287337</td>\n",
       "      <td>0.000000</td>\n",
       "      <td>0.000000</td>\n",
       "      <td>1.204421</td>\n",
       "      <td>0.959938</td>\n",
       "      <td>0.716798</td>\n",
       "      <td>0.932472</td>\n",
       "      <td>-0.161598</td>\n",
       "    </tr>\n",
       "  </tbody>\n",
       "</table>\n",
       "<p>908 rows × 212 columns</p>\n",
       "</div>"
      ],
      "text/plain": [
       "                 cid  canonical_smiles     xlogp  odor level  odor name  \\\n",
       "4210    17691.000000       1252.000000 -1.599820    2.000000 178.000000   \n",
       "4402    19695.000000       3199.000000 -0.209428    2.000000 178.000000   \n",
       "16310 6438193.000000       2654.000000  0.416248    2.000000 178.000000   \n",
       "4387    19603.000000       2706.000000  1.320003    2.000000 178.000000   \n",
       "16120 6437178.000000       2603.000000  2.571355    2.000000 178.000000   \n",
       "...              ...               ...       ...         ...        ...   \n",
       "11097  162481.000000       1563.000000 -0.000869    2.000000 494.000000   \n",
       "15817 6432308.000000       1272.000000  1.041924    2.000000 494.000000   \n",
       "442      6027.000000        148.000000 -3.685407    2.000000 494.000000   \n",
       "11089  162476.000000        533.000000 -0.557026    2.000000 494.000000   \n",
       "9601   103212.000000       1355.000000  0.763846    2.000000 494.000000   \n",
       "\n",
       "           fsp3  small rings  arom rings  ring blocks  arom blocks  ...  \\\n",
       "4210  -0.519433     0.200130   -0.631781     0.632666    -0.644741  ...   \n",
       "4402   1.352513    -0.878056   -0.631781    -1.106175    -0.644741  ...   \n",
       "16310  0.104674    -0.878056   -0.631781    -1.106175    -0.644741  ...   \n",
       "4387  -0.008766     0.200130    1.183366     0.632666     1.285620  ...   \n",
       "16120 -1.252113     1.278317    2.998513     2.371507     3.215981  ...   \n",
       "...         ...          ...         ...          ...          ...  ...   \n",
       "11097  1.040647     3.434689   -0.631781     0.632666    -0.644741  ...   \n",
       "15817  0.354017     1.278317   -0.631781     0.632666    -0.644741  ...   \n",
       "442    1.352513     0.200130   -0.631781     0.632666    -0.644741  ...   \n",
       "11089  0.416540     0.200130   -0.631781     0.632666    -0.644741  ...   \n",
       "9601   0.817511     0.200130   -0.631781     0.632666    -0.644741  ...   \n",
       "\n",
       "          atsm4     atsm5     natom  arom bond  arom atom      apol     alogp  \\\n",
       "4210  -1.402864 -1.488854 -1.471484   0.000000   0.000000 -1.491672 -0.907376   \n",
       "4402  -0.481838  0.192054  0.226252   0.000000   0.000000 -0.035869 -0.215382   \n",
       "16310 -1.057075 -0.791999 -0.410399   0.000000   0.000000 -0.432598  0.677645   \n",
       "4387  -0.757737 -0.479776  0.120143   0.000000   0.000000  0.107235  0.422554   \n",
       "16120  2.995816  3.354966  2.560639   0.000000   0.000000  3.107314  1.868093   \n",
       "...         ...       ...       ...        ...        ...       ...       ...   \n",
       "11097  0.577905  0.144714  0.226252   0.000000   0.000000  0.289164 -0.063757   \n",
       "15817  1.269441  1.202199  1.075120   0.000000   0.000000  1.165596  1.630698   \n",
       "442    0.743848 -0.337409 -0.940942   0.000000   0.000000 -1.204142 -3.089182   \n",
       "11089  0.347392  0.864950  0.650686   0.000000   0.000000  0.592819 -0.441397   \n",
       "9601   0.946622 -0.047314  1.287337   0.000000   0.000000  1.204421  0.959938   \n",
       "\n",
       "         alogp2       amr      acid  \n",
       "4210  -0.734004 -1.521183 -0.161598  \n",
       "4402  -0.379447 -0.361409 -0.161598  \n",
       "16310  0.396756 -0.479045 -0.161598  \n",
       "4387   0.138405  0.113954 -0.161598  \n",
       "16120  1.989790  4.161244 -0.161598  \n",
       "...         ...       ...       ...  \n",
       "11097 -0.272965 -0.021781 -0.161598  \n",
       "15817  1.621174  0.993237 -0.161598  \n",
       "442   -0.440455 -1.464645 -0.161598  \n",
       "11089 -0.518958  0.382584 -0.161598  \n",
       "9601   0.716798  0.932472 -0.161598  \n",
       "\n",
       "[908 rows x 212 columns]"
      ]
     },
     "execution_count": 110,
     "metadata": {},
     "output_type": "execute_result"
    }
   ],
   "source": [
    "sensorama2_2=[]\n",
    "\n",
    "for i in range(65, len(sensorama_2)-65):\n",
    "    if sensorama_2.iloc[i,4] == sensorama_2.iloc[i+65,4] or sensorama_2.iloc[i,4] == sensorama_2.iloc[i-65,4]:\n",
    "        sensorama2_2.append(sensorama_2.iloc[i,:]) \n",
    "\n",
    "sensorama2_2= pd.DataFrame(sensorama2_2)\n",
    "sensorama2_2"
   ]
  },
  {
   "cell_type": "code",
   "execution_count": 111,
   "metadata": {},
   "outputs": [
    {
     "name": "stdout",
     "output_type": "stream",
     "text": [
      "7\n"
     ]
    }
   ],
   "source": [
    "count=0\n",
    "for i in range(1, len(sensorama2_2)):\n",
    "    if sensorama2_2.iloc[i,4]!= sensorama2_2.iloc[i-1,4]:\n",
    "        count = count +1\n",
    "print(count)"
   ]
  },
  {
   "cell_type": "code",
   "execution_count": 112,
   "metadata": {},
   "outputs": [],
   "source": [
    "X = sensorama2_2[[ 'xlogp','fsp3', 'small rings','arom rings','ring blocks','arom blocks','rings 3','rings 4', 'rings 5', 'rings 6',\n",
    "               'rings 7', 'rings 8', 'rings 9', 'tpsa efficiency', 'zagreb indices', 'weiner path', 'weiner polarity', 'wtpt.1',\n",
    "               'wtpt.2', 'wtpt.3', 'wtpt.4', 'wtpt.5', 'molecular weight', 'VAdjMat', 'topoPSA', 'lipinski failures', 'rotatable bonds',\n",
    "               'topo shape', 'petitjean number', 'mdec.11', 'mdec.12', 'mdec.13', 'mdec.14', 'mdec.22', 'mdec.23', 'mdec.24',\n",
    "               'mdec.33', 'mdec.34', 'mdec.44', 'mdeo.11', 'mdeo.12', 'mdeo.22', 'mden.11', 'mden.12', 'mden.13', 'mden.22',\n",
    "               'mden.23', 'mden.33', 'mlogp', 'atom p', 'atom lc', 'khs.sli', 'khs.ssbe', 'khs.ssssbe', 'khs.ssbh', 'khs.sssb',\n",
    "               'khs.ssssb', 'khs.sch3', 'khs.dch2', 'khs.ssch2', 'khs.tch', 'khs.dsch', 'khs.aach', 'khs.sssch', 'khs.ddc',\n",
    "               'khs.tsc', 'khs.dssc', 'khs.aasc', 'khs.aaac', 'khs.ssssc', 'khs.snh3', 'khs.snh2', 'khs.ssnh', 'khs.dnh', 'khs.ssnh.1',\n",
    "               'khs.aanh', 'khs.tn', 'khs.sssnh', 'khs.dsn', 'khs.aan', 'khs.sssn', 'khs.dsn.1', 'khs.aasn', 'khs.ssssn', 'khs.soh',\n",
    "               'khs.do', 'khs.sso', 'khs.aao', 'khs.sf', 'khs.ssih3', 'khs.sssih2', 'khs.ssssih', 'khs.sssssi', 'khs.sph2',\n",
    "               'khs.ssph', 'khs.sssp', 'khs.dsssp', 'khs.sssssp', 'khs.ssh', 'khs.ds', 'khs.sss', 'khs.aas', 'khs.dsss', 'khs.ddsss',\n",
    "               'khs.scl', 'khs.sGeH3', 'khs.ssGeH2', 'khs.sssGeH', 'khs.ssssGe', 'khs.sash2', 'khs.ssash', 'khs.sssas', 'khs.sssdas',\n",
    "               'khs.sssssas', 'khs.sseh', 'khs.dse', 'khs.ssse', 'khs.aase', 'khs.dssse', 'khs.ddssse', 'khs.sbr', 'khs.ssnh3', \n",
    "               'khs.sssnh2', 'khs.ssssnh', 'khs.sssssn', 'khs.si', 'khs.spbh3', 'khs.sspbh2', 'khs.ssspbh', 'khs.sssspb', 'kier 1',\n",
    "               'kier 2', 'hybRatio', 'hbdon', 'hbacc', 'fragc', 'fmf', 'eccen', 'SP.0', 'SP.1', 'SP.2', 'SP.3', 'SP.4', 'SP.5', 'SP.6',\n",
    "               'SP.7', 'VP.0', 'VP.1', 'VP.2', 'VP.3', 'VP.4', 'VP.5', 'VP.6', 'VP.7', 'SPC.4', 'SPC.5', 'SPC.6', 'VPC.4', 'VPC.5',\n",
    "               'VPC.6', 'SC.3', 'SC.4', 'SC.5', 'SC.6', 'VC.3', 'VC.4', 'VC.5', 'VC.6', 'SCH.3', 'SCH.4', 'SCH.5', 'SCH.6', 'SCH.7',\n",
    "               'VCH.3', 'VCH.4', 'VCH.3', 'VCH.4', 'VCH.5', 'VCH.6', 'VCH.7', 'C1SP1', 'C2SP1', 'C1SP2', 'C2SP2', 'C3SP2', 'C1SP3',\n",
    "               'C2SP3', 'C3SP3', 'C4SP3', 'bpol', 'bond count', 'basic group count', 'atsp1', 'atsp2' , 'atsp3', 'atsp4', 'atsp5',\n",
    "               'atsm1', 'atsm2','atsm3','atsm4','atsm5', 'natom','arom bond', 'arom atom', 'apol','alogp', 'alogp2', 'amr', 'acid']]\n",
    "y = sensorama2_2['odor name']"
   ]
  },
  {
   "cell_type": "markdown",
   "metadata": {},
   "source": [
    "#### RANDOM FOREST"
   ]
  },
  {
   "cell_type": "code",
   "execution_count": 113,
   "metadata": {},
   "outputs": [
    {
     "name": "stdout",
     "output_type": "stream",
     "text": [
      "Accuracy:  38.32599118942731 %\n"
     ]
    },
    {
     "data": {
      "image/png": "[encoded data removed]",
      "text/plain": [
       "<Figure size 432x288 with 2 Axes>"
      ]
     },
     "metadata": {
      "needs_background": "light"
     },
     "output_type": "display_data"
    }
   ],
   "source": [
    "X_train,X_test,y_train,y_test = train_test_split(X,y,test_size=0.25,random_state=0)\n",
    "sc_X = StandardScaler()\n",
    "X_train = sc_X.fit_transform(X_train)\n",
    "X_test = sc_X.transform(X_test)\n",
    "clf = RandomForestClassifier(n_estimators=100)\n",
    "clf.fit(X_train,y_train)\n",
    "y_pred=clf.predict(X_test)\n",
    "confusion_matrix = pd.crosstab(y_test, y_pred, rownames=['Actual'], colnames=['Predicted'])\n",
    "sns.heatmap(confusion_matrix, annot=True)\n",
    "print('Accuracy: ',metrics.accuracy_score(y_test, y_pred)*100,'%')\n",
    "plt.show()"
   ]
  },
  {
   "cell_type": "markdown",
   "metadata": {},
   "source": [
    "##### Feature Importances "
   ]
  },
  {
   "cell_type": "code",
   "execution_count": 114,
   "metadata": {},
   "outputs": [
    {
     "data": {
      "image/png": "[encoded data removed]",
      "text/plain": [
       "<Figure size 432x288 with 1 Axes>"
      ]
     },
     "metadata": {
      "needs_background": "light"
     },
     "output_type": "display_data"
    }
   ],
   "source": [
    "featureImportances = pd.Series(clf.feature_importances_).sort_values(ascending=False)\n",
    "sns.barplot(x=round(featureImportances,8), y=featureImportances)\n",
    "plt.xlabel('Features Importance')\n",
    "plt.show()"
   ]
  },
  {
   "cell_type": "code",
   "execution_count": 115,
   "metadata": {},
   "outputs": [],
   "source": [
    "X = sensorama2_2[[ 'xlogp','fsp3', 'small rings','arom rings','ring blocks','arom blocks','rings 3','rings 4', 'rings 5', 'rings 6',\n",
    "               'rings 7','tpsa efficiency', 'zagreb indices', 'weiner path', 'weiner polarity', 'wtpt.1',\n",
    "               'wtpt.2', 'wtpt.3', 'wtpt.4', 'wtpt.5', 'molecular weight', 'VAdjMat', 'topoPSA', 'lipinski failures', 'rotatable bonds',\n",
    "               'topo shape', 'petitjean number', 'mdec.11', 'mdec.12', 'mdec.13', 'mdec.14', 'mdec.22', 'mdec.23', 'mdec.24',\n",
    "               'mdec.33', 'mdec.34', 'mdec.44', 'mdeo.11', 'mdeo.12', 'mdeo.22', 'mden.11', 'mden.12','mden.22',\n",
    "               'mden.23', 'mden.33', 'mlogp', 'atom p', 'atom lc', \n",
    "                 'khs.sch3', 'khs.dch2', 'khs.ssch2', 'khs.tch', 'khs.dsch', 'khs.aach', 'khs.sssch', 'khs.ddc',\n",
    "               'khs.tsc', 'khs.dssc', 'khs.aasc', 'khs.aaac', 'khs.ssssc', 'khs.snh2', 'khs.ssnh.1',\n",
    "               'khs.aanh', 'khs.tn','khs.dsn', 'khs.aan', 'khs.sssn', 'khs.dsn.1', 'khs.aasn','khs.soh',\n",
    "               'khs.do', 'khs.sso', 'khs.aao', 'khs.sf', 'khs.ssih3', \n",
    "                 'khs.ssh', 'khs.ds', 'khs.sss', 'khs.aas', 'khs.dsss', 'khs.ddsss',\n",
    "               'khs.scl',\n",
    "               'kier 1',\n",
    "               'kier 2', 'hybRatio', 'hbdon', 'hbacc', 'fragc', 'fmf', 'eccen', 'SP.0', 'SP.1', 'SP.2', 'SP.3', 'SP.4', 'SP.5', 'SP.6',\n",
    "               'SP.7', 'VP.0', 'VP.1', 'VP.2', 'VP.3', 'VP.4', 'VP.5', 'VP.6', 'VP.7', 'SPC.4', 'SPC.5', 'SPC.6', 'VPC.4', 'VPC.5',\n",
    "               'VPC.6', 'SC.3', 'SC.4', 'SC.5', 'SC.6', 'VC.3', 'VC.4', 'VC.5', 'VC.6', 'SCH.3', 'SCH.4', 'SCH.5', 'SCH.6', 'SCH.7',\n",
    "               'VCH.3', 'VCH.4', 'VCH.3', 'VCH.4', 'VCH.5', 'VCH.6', 'VCH.7', 'C1SP1', 'C2SP1', 'C1SP2', 'C2SP2', 'C3SP2', 'C1SP3',\n",
    "               'C2SP3', 'C3SP3', 'C4SP3', 'bpol', 'bond count', 'basic group count', 'atsp1', 'atsp2' , 'atsp3', 'atsp4', 'atsp5',\n",
    "               'atsm1', 'atsm2','atsm3','atsm4','atsm5', 'natom', 'apol','alogp', 'alogp2', 'amr', 'acid']]\n",
    "y = sensorama2_2['odor name']"
   ]
  },
  {
   "cell_type": "code",
   "execution_count": 116,
   "metadata": {},
   "outputs": [
    {
     "name": "stdout",
     "output_type": "stream",
     "text": [
      "Accuracy:  38.76651982378855 %\n"
     ]
    },
    {
     "data": {
      "image/png": "[encoded data removed]",
      "text/plain": [
       "<Figure size 432x288 with 2 Axes>"
      ]
     },
     "metadata": {
      "needs_background": "light"
     },
     "output_type": "display_data"
    }
   ],
   "source": [
    "X_train,X_test,y_train,y_test = train_test_split(X,y,test_size=0.25,random_state=0)\n",
    "sc_X = StandardScaler()\n",
    "X_train = sc_X.fit_transform(X_train)\n",
    "X_test = sc_X.transform(X_test)\n",
    "clf = RandomForestClassifier(n_estimators=100)\n",
    "clf.fit(X_train,y_train)\n",
    "y_pred=clf.predict(X_test)\n",
    "confusion_matrix = pd.crosstab(y_test, y_pred, rownames=['Actual'], colnames=['Predicted'])\n",
    "sns.heatmap(confusion_matrix, annot=True)\n",
    "print('Accuracy: ',metrics.accuracy_score(y_test, y_pred)*100,'%')\n",
    "plt.show()"
   ]
  },
  {
   "cell_type": "markdown",
   "metadata": {},
   "source": [
    "#### SUPPORT VECTOR MACHIN"
   ]
  },
  {
   "cell_type": "markdown",
   "metadata": {},
   "source": [
    "##### rbf Kernel "
   ]
  },
  {
   "cell_type": "code",
   "execution_count": 117,
   "metadata": {},
   "outputs": [
    {
     "name": "stdout",
     "output_type": "stream",
     "text": [
      "Accuracy: 38.76651982378855 %\n"
     ]
    }
   ],
   "source": [
    "X_tr, X_tst, y_tr, y_tst = train_test_split(X, y, test_size=25/100,random_state=109)\n",
    "clf = svm.SVC(kernel='rbf') # creating Support Vector Machine model\n",
    "clf.fit(X_tr, y_tr) # training the Model\n",
    "y_pr = clf.predict(X_tst) # making Predictions\n",
    "\n",
    "# Evaluating Prediction Accuracy\n",
    "print(\"Accuracy:\",metrics.accuracy_score(y_tst, y_pr)*100,\"%\")"
   ]
  },
  {
   "cell_type": "markdown",
   "metadata": {},
   "source": [
    "##### Polynomial Kernel "
   ]
  },
  {
   "cell_type": "code",
   "execution_count": 118,
   "metadata": {},
   "outputs": [
    {
     "name": "stdout",
     "output_type": "stream",
     "text": [
      "Accuracy: 34.36123348017621 %\n"
     ]
    }
   ],
   "source": [
    "X_tr, X_tst, y_tr, y_tst = train_test_split(X, y, test_size=25/100,random_state=109)\n",
    "clf = svm.SVC(kernel='poly') # Creating Support Vector Machine Model\n",
    "clf.fit(X_tr,y_tr) # fit classifier to training set\n",
    "y_pr = clf.predict(X_tst) # Making Predictions\n",
    "\n",
    "# Evaluating Prediction Accuracy\n",
    "print(\"Accuracy:\",metrics.accuracy_score(y_tst, y_pr)*100,\"%\")"
   ]
  },
  {
   "cell_type": "markdown",
   "metadata": {},
   "source": [
    "##### Sigmoid Kernel "
   ]
  },
  {
   "cell_type": "code",
   "execution_count": 119,
   "metadata": {},
   "outputs": [
    {
     "name": "stdout",
     "output_type": "stream",
     "text": [
      "Accuracy: 32.158590308370044 %\n"
     ]
    }
   ],
   "source": [
    "X_tr, X_tst, y_tr, y_tst = train_test_split(X, y, test_size=25/100,random_state=109)\n",
    "clf=svm.SVC(kernel='sigmoid') # instantiate classifier with sigmoid kernel\n",
    "clf.fit(X_tr,y_tr) # fit classifier to training set\n",
    "y_pr = clf.predict(X_tst) # Making Predictions\n",
    "\n",
    "# Evaluating Prediction Accuracy\n",
    "print(\"Accuracy:\",metrics.accuracy_score(y_tst, y_pr)*100,\"%\")"
   ]
  },
  {
   "cell_type": "markdown",
   "metadata": {},
   "source": [
    "#### DECISION TREE"
   ]
  },
  {
   "cell_type": "code",
   "execution_count": 120,
   "metadata": {},
   "outputs": [
    {
     "name": "stdout",
     "output_type": "stream",
     "text": [
      "Accuracy: 32.234432234432234 %\n"
     ]
    }
   ],
   "source": [
    "# Split dataset into training set and test set\n",
    "X_train, X_test, y_train, y_test = train_test_split(X, y, test_size=0.3, random_state=1) # 70% training and 30% test\n",
    "clf = DecisionTreeClassifier() # Create Decision Tree classifer object\n",
    "clf = clf.fit(X_train,y_train) # Train Decision Tree Classifer\n",
    "y_pred = clf.predict(X_test) # Predict the response for test dataset\n",
    "\n",
    "# how often is the classifier correct?\n",
    "print(\"Accuracy:\",metrics.accuracy_score(y_test, y_pred)*100,\"%\")"
   ]
  },
  {
   "cell_type": "markdown",
   "metadata": {},
   "source": [
    "#### LOGISTIC REGRESSION"
   ]
  },
  {
   "cell_type": "code",
   "execution_count": 121,
   "metadata": {},
   "outputs": [
    {
     "name": "stdout",
     "output_type": "stream",
     "text": [
      "Accuracy:  39.647577092511014 %\n"
     ]
    }
   ],
   "source": [
    "X_train,X_test,y_train,y_test = train_test_split(X,y,test_size=0.25,random_state=0)\n",
    "clf= LogisticRegression( max_iter=100000000)\n",
    "clf.fit(X_train,y_train)\n",
    "y_pred=clf.predict(X_test)\n",
    "print('Accuracy: ',metrics.accuracy_score(y_test, y_pred)*100,'%')"
   ]
  },
  {
   "cell_type": "markdown",
   "metadata": {},
   "source": [
    "#### K-Nearest Neighbor"
   ]
  },
  {
   "cell_type": "code",
   "execution_count": 122,
   "metadata": {},
   "outputs": [
    {
     "data": {
      "text/plain": [
       "Text(0, 0.5, 'Accuracy')"
      ]
     },
     "execution_count": 122,
     "metadata": {},
     "output_type": "execute_result"
    },
    {
     "data": {
      "image/png": "[encoded data removed]",
      "text/plain": [
       "<Figure size 864x432 with 1 Axes>"
      ]
     },
     "metadata": {
      "needs_background": "light"
     },
     "output_type": "display_data"
    }
   ],
   "source": [
    "# Split data into training and testing sets.\n",
    "X_train, X_test, y_train, y_test = train_test_split(X, y, random_state=42)\n",
    "accuracy=[]\n",
    "for i in range(1,21):\n",
    "    clf = KNeighborsClassifier(n_neighbors=i)\n",
    "    clf.fit(X_train, y_train)\n",
    "    ypred = clf.predict(X_test)\n",
    "    accuracy.append(metrics.accuracy_score(y_test, ypred))\n",
    "plt.figure(figsize=(12, 6))\n",
    "plt.plot(range(1, 21), accuracy, color='orange', linestyle='dashed', marker='o',\n",
    "         markerfacecolor='green', markersize=10)\n",
    "plt.title('Looking for the most accurate k value')\n",
    "plt.xlabel('K Value')\n",
    "plt.ylabel('Accuracy')"
   ]
  },
  {
   "cell_type": "code",
   "execution_count": 123,
   "metadata": {},
   "outputs": [
    {
     "name": "stdout",
     "output_type": "stream",
     "text": [
      "Accuracy: 39.20704845814978 %\n"
     ]
    }
   ],
   "source": [
    "clf = KNeighborsClassifier(n_neighbors=17)\n",
    "clf.fit(X_train, y_train)\n",
    "ypred = clf.predict(X_test)\n",
    "\n",
    "# Best accuracy\n",
    "print(\"Accuracy:\",metrics.accuracy_score(y_test, ypred)*100,\"%\")"
   ]
  },
  {
   "cell_type": "markdown",
   "metadata": {},
   "source": [
    "### 5 MOST COMMON ODOR NAMES "
   ]
  },
  {
   "cell_type": "code",
   "execution_count": 48,
   "metadata": {},
   "outputs": [],
   "source": [
    "sensorama_2 = sensorama_2 .sort_values('odor name')"
   ]
  },
  {
   "cell_type": "code",
   "execution_count": 126,
   "metadata": {},
   "outputs": [
    {
     "data": {
      "text/html": [
       "<div>\n",
       "<style scoped>\n",
       "    .dataframe tbody tr th:only-of-type {\n",
       "        vertical-align: middle;\n",
       "    }\n",
       "\n",
       "    .dataframe tbody tr th {\n",
       "        vertical-align: top;\n",
       "    }\n",
       "\n",
       "    .dataframe thead th {\n",
       "        text-align: right;\n",
       "    }\n",
       "</style>\n",
       "<table border=\"1\" class=\"dataframe\">\n",
       "  <thead>\n",
       "    <tr style=\"text-align: right;\">\n",
       "      <th></th>\n",
       "      <th>cid</th>\n",
       "      <th>canonical_smiles</th>\n",
       "      <th>xlogp</th>\n",
       "      <th>odor level</th>\n",
       "      <th>odor name</th>\n",
       "      <th>fsp3</th>\n",
       "      <th>small rings</th>\n",
       "      <th>arom rings</th>\n",
       "      <th>ring blocks</th>\n",
       "      <th>arom blocks</th>\n",
       "      <th>...</th>\n",
       "      <th>atsm4</th>\n",
       "      <th>atsm5</th>\n",
       "      <th>natom</th>\n",
       "      <th>arom bond</th>\n",
       "      <th>arom atom</th>\n",
       "      <th>apol</th>\n",
       "      <th>alogp</th>\n",
       "      <th>alogp2</th>\n",
       "      <th>amr</th>\n",
       "      <th>acid</th>\n",
       "    </tr>\n",
       "  </thead>\n",
       "  <tbody>\n",
       "    <tr>\n",
       "      <td>4210</td>\n",
       "      <td>17691.000000</td>\n",
       "      <td>1252.000000</td>\n",
       "      <td>-1.599820</td>\n",
       "      <td>2.000000</td>\n",
       "      <td>178.000000</td>\n",
       "      <td>-0.519433</td>\n",
       "      <td>0.200130</td>\n",
       "      <td>-0.631781</td>\n",
       "      <td>0.632666</td>\n",
       "      <td>-0.644741</td>\n",
       "      <td>...</td>\n",
       "      <td>-1.402864</td>\n",
       "      <td>-1.488854</td>\n",
       "      <td>-1.471484</td>\n",
       "      <td>0.000000</td>\n",
       "      <td>0.000000</td>\n",
       "      <td>-1.491672</td>\n",
       "      <td>-0.907376</td>\n",
       "      <td>-0.734004</td>\n",
       "      <td>-1.521183</td>\n",
       "      <td>-0.161598</td>\n",
       "    </tr>\n",
       "    <tr>\n",
       "      <td>10733</td>\n",
       "      <td>118928.000000</td>\n",
       "      <td>517.000000</td>\n",
       "      <td>0.624807</td>\n",
       "      <td>2.000000</td>\n",
       "      <td>178.000000</td>\n",
       "      <td>0.331554</td>\n",
       "      <td>-0.878056</td>\n",
       "      <td>-0.631781</td>\n",
       "      <td>-1.106175</td>\n",
       "      <td>-0.644741</td>\n",
       "      <td>...</td>\n",
       "      <td>-0.757737</td>\n",
       "      <td>-0.479776</td>\n",
       "      <td>0.332360</td>\n",
       "      <td>0.000000</td>\n",
       "      <td>0.000000</td>\n",
       "      <td>0.245087</td>\n",
       "      <td>0.538927</td>\n",
       "      <td>0.252626</td>\n",
       "      <td>0.047569</td>\n",
       "      <td>-0.161598</td>\n",
       "    </tr>\n",
       "    <tr>\n",
       "      <td>9201</td>\n",
       "      <td>95397.000000</td>\n",
       "      <td>2796.000000</td>\n",
       "      <td>1.389522</td>\n",
       "      <td>2.000000</td>\n",
       "      <td>188.000000</td>\n",
       "      <td>1.352513</td>\n",
       "      <td>0.200130</td>\n",
       "      <td>-0.631781</td>\n",
       "      <td>0.632666</td>\n",
       "      <td>-0.644741</td>\n",
       "      <td>...</td>\n",
       "      <td>-0.113121</td>\n",
       "      <td>0.000560</td>\n",
       "      <td>1.287337</td>\n",
       "      <td>0.000000</td>\n",
       "      <td>0.000000</td>\n",
       "      <td>1.105394</td>\n",
       "      <td>1.161319</td>\n",
       "      <td>0.967041</td>\n",
       "      <td>0.686167</td>\n",
       "      <td>-0.161598</td>\n",
       "    </tr>\n",
       "    <tr>\n",
       "      <td>14459</td>\n",
       "      <td>5362819.000000</td>\n",
       "      <td>2091.000000</td>\n",
       "      <td>-0.904624</td>\n",
       "      <td>2.000000</td>\n",
       "      <td>188.000000</td>\n",
       "      <td>-0.252119</td>\n",
       "      <td>-0.878056</td>\n",
       "      <td>-0.631781</td>\n",
       "      <td>-1.106175</td>\n",
       "      <td>-0.644741</td>\n",
       "      <td>...</td>\n",
       "      <td>-0.942351</td>\n",
       "      <td>-0.864364</td>\n",
       "      <td>-0.834833</td>\n",
       "      <td>0.000000</td>\n",
       "      <td>0.000000</td>\n",
       "      <td>-0.951136</td>\n",
       "      <td>-0.580809</td>\n",
       "      <td>-0.593549</td>\n",
       "      <td>-1.006739</td>\n",
       "      <td>-0.161598</td>\n",
       "    </tr>\n",
       "    <tr>\n",
       "      <td>8897</td>\n",
       "      <td>91497.000000</td>\n",
       "      <td>1710.000000</td>\n",
       "      <td>1.389522</td>\n",
       "      <td>2.000000</td>\n",
       "      <td>188.000000</td>\n",
       "      <td>0.104674</td>\n",
       "      <td>2.356503</td>\n",
       "      <td>1.183366</td>\n",
       "      <td>0.632666</td>\n",
       "      <td>1.285620</td>\n",
       "      <td>...</td>\n",
       "      <td>3.480211</td>\n",
       "      <td>2.595332</td>\n",
       "      <td>1.711771</td>\n",
       "      <td>0.000000</td>\n",
       "      <td>0.000000</td>\n",
       "      <td>1.932136</td>\n",
       "      <td>0.845231</td>\n",
       "      <td>0.582425</td>\n",
       "      <td>1.988978</td>\n",
       "      <td>-0.161598</td>\n",
       "    </tr>\n",
       "    <tr>\n",
       "      <td>...</td>\n",
       "      <td>...</td>\n",
       "      <td>...</td>\n",
       "      <td>...</td>\n",
       "      <td>...</td>\n",
       "      <td>...</td>\n",
       "      <td>...</td>\n",
       "      <td>...</td>\n",
       "      <td>...</td>\n",
       "      <td>...</td>\n",
       "      <td>...</td>\n",
       "      <td>...</td>\n",
       "      <td>...</td>\n",
       "      <td>...</td>\n",
       "      <td>...</td>\n",
       "      <td>...</td>\n",
       "      <td>...</td>\n",
       "      <td>...</td>\n",
       "      <td>...</td>\n",
       "      <td>...</td>\n",
       "      <td>...</td>\n",
       "      <td>...</td>\n",
       "    </tr>\n",
       "    <tr>\n",
       "      <td>15650</td>\n",
       "      <td>6428289.000000</td>\n",
       "      <td>1049.000000</td>\n",
       "      <td>-0.487506</td>\n",
       "      <td>2.000000</td>\n",
       "      <td>494.000000</td>\n",
       "      <td>1.352513</td>\n",
       "      <td>2.356503</td>\n",
       "      <td>-0.631781</td>\n",
       "      <td>0.632666</td>\n",
       "      <td>-0.644741</td>\n",
       "      <td>...</td>\n",
       "      <td>0.301495</td>\n",
       "      <td>-0.384029</td>\n",
       "      <td>0.014035</td>\n",
       "      <td>0.000000</td>\n",
       "      <td>0.000000</td>\n",
       "      <td>-0.074694</td>\n",
       "      <td>-0.376376</td>\n",
       "      <td>-0.481181</td>\n",
       "      <td>-0.444439</td>\n",
       "      <td>-0.161598</td>\n",
       "    </tr>\n",
       "    <tr>\n",
       "      <td>9829</td>\n",
       "      <td>106673.000000</td>\n",
       "      <td>1503.000000</td>\n",
       "      <td>1.180964</td>\n",
       "      <td>2.000000</td>\n",
       "      <td>494.000000</td>\n",
       "      <td>1.352513</td>\n",
       "      <td>3.434689</td>\n",
       "      <td>-0.631781</td>\n",
       "      <td>2.371507</td>\n",
       "      <td>-0.644741</td>\n",
       "      <td>...</td>\n",
       "      <td>1.775852</td>\n",
       "      <td>0.817610</td>\n",
       "      <td>1.711771</td>\n",
       "      <td>0.000000</td>\n",
       "      <td>0.000000</td>\n",
       "      <td>1.706131</td>\n",
       "      <td>0.967155</td>\n",
       "      <td>0.725448</td>\n",
       "      <td>1.236250</td>\n",
       "      <td>-0.161598</td>\n",
       "    </tr>\n",
       "    <tr>\n",
       "      <td>17466</td>\n",
       "      <td>19693163.000000</td>\n",
       "      <td>834.000000</td>\n",
       "      <td>8.550039</td>\n",
       "      <td>2.000000</td>\n",
       "      <td>494.000000</td>\n",
       "      <td>0.936567</td>\n",
       "      <td>-0.878056</td>\n",
       "      <td>-0.631781</td>\n",
       "      <td>-1.106175</td>\n",
       "      <td>-0.644741</td>\n",
       "      <td>...</td>\n",
       "      <td>3.479700</td>\n",
       "      <td>4.324099</td>\n",
       "      <td>8.396606</td>\n",
       "      <td>0.000000</td>\n",
       "      <td>0.000000</td>\n",
       "      <td>8.322480</td>\n",
       "      <td>7.926577</td>\n",
       "      <td>19.983361</td>\n",
       "      <td>7.840372</td>\n",
       "      <td>-0.161598</td>\n",
       "    </tr>\n",
       "    <tr>\n",
       "      <td>10750</td>\n",
       "      <td>119831.000000</td>\n",
       "      <td>1651.000000</td>\n",
       "      <td>0.555287</td>\n",
       "      <td>2.000000</td>\n",
       "      <td>494.000000</td>\n",
       "      <td>0.853452</td>\n",
       "      <td>3.434689</td>\n",
       "      <td>-0.631781</td>\n",
       "      <td>0.632666</td>\n",
       "      <td>-0.644741</td>\n",
       "      <td>...</td>\n",
       "      <td>2.789186</td>\n",
       "      <td>1.970309</td>\n",
       "      <td>1.181228</td>\n",
       "      <td>0.000000</td>\n",
       "      <td>0.000000</td>\n",
       "      <td>1.248497</td>\n",
       "      <td>0.434698</td>\n",
       "      <td>0.150036</td>\n",
       "      <td>0.902361</td>\n",
       "      <td>-0.161598</td>\n",
       "    </tr>\n",
       "    <tr>\n",
       "      <td>15216</td>\n",
       "      <td>5376281.000000</td>\n",
       "      <td>1411.000000</td>\n",
       "      <td>0.833366</td>\n",
       "      <td>2.000000</td>\n",
       "      <td>494.000000</td>\n",
       "      <td>0.104674</td>\n",
       "      <td>0.200130</td>\n",
       "      <td>-0.631781</td>\n",
       "      <td>0.632666</td>\n",
       "      <td>-0.644741</td>\n",
       "      <td>...</td>\n",
       "      <td>1.268930</td>\n",
       "      <td>0.817610</td>\n",
       "      <td>1.181228</td>\n",
       "      <td>0.000000</td>\n",
       "      <td>0.000000</td>\n",
       "      <td>1.248497</td>\n",
       "      <td>1.180471</td>\n",
       "      <td>0.991789</td>\n",
       "      <td>1.244442</td>\n",
       "      <td>-0.161598</td>\n",
       "    </tr>\n",
       "  </tbody>\n",
       "</table>\n",
       "<p>742 rows × 212 columns</p>\n",
       "</div>"
      ],
      "text/plain": [
       "                  cid  canonical_smiles     xlogp  odor level  odor name  \\\n",
       "4210     17691.000000       1252.000000 -1.599820    2.000000 178.000000   \n",
       "10733   118928.000000        517.000000  0.624807    2.000000 178.000000   \n",
       "9201     95397.000000       2796.000000  1.389522    2.000000 188.000000   \n",
       "14459  5362819.000000       2091.000000 -0.904624    2.000000 188.000000   \n",
       "8897     91497.000000       1710.000000  1.389522    2.000000 188.000000   \n",
       "...               ...               ...       ...         ...        ...   \n",
       "15650  6428289.000000       1049.000000 -0.487506    2.000000 494.000000   \n",
       "9829    106673.000000       1503.000000  1.180964    2.000000 494.000000   \n",
       "17466 19693163.000000        834.000000  8.550039    2.000000 494.000000   \n",
       "10750   119831.000000       1651.000000  0.555287    2.000000 494.000000   \n",
       "15216  5376281.000000       1411.000000  0.833366    2.000000 494.000000   \n",
       "\n",
       "           fsp3  small rings  arom rings  ring blocks  arom blocks  ...  \\\n",
       "4210  -0.519433     0.200130   -0.631781     0.632666    -0.644741  ...   \n",
       "10733  0.331554    -0.878056   -0.631781    -1.106175    -0.644741  ...   \n",
       "9201   1.352513     0.200130   -0.631781     0.632666    -0.644741  ...   \n",
       "14459 -0.252119    -0.878056   -0.631781    -1.106175    -0.644741  ...   \n",
       "8897   0.104674     2.356503    1.183366     0.632666     1.285620  ...   \n",
       "...         ...          ...         ...          ...          ...  ...   \n",
       "15650  1.352513     2.356503   -0.631781     0.632666    -0.644741  ...   \n",
       "9829   1.352513     3.434689   -0.631781     2.371507    -0.644741  ...   \n",
       "17466  0.936567    -0.878056   -0.631781    -1.106175    -0.644741  ...   \n",
       "10750  0.853452     3.434689   -0.631781     0.632666    -0.644741  ...   \n",
       "15216  0.104674     0.200130   -0.631781     0.632666    -0.644741  ...   \n",
       "\n",
       "          atsm4     atsm5     natom  arom bond  arom atom      apol     alogp  \\\n",
       "4210  -1.402864 -1.488854 -1.471484   0.000000   0.000000 -1.491672 -0.907376   \n",
       "10733 -0.757737 -0.479776  0.332360   0.000000   0.000000  0.245087  0.538927   \n",
       "9201  -0.113121  0.000560  1.287337   0.000000   0.000000  1.105394  1.161319   \n",
       "14459 -0.942351 -0.864364 -0.834833   0.000000   0.000000 -0.951136 -0.580809   \n",
       "8897   3.480211  2.595332  1.711771   0.000000   0.000000  1.932136  0.845231   \n",
       "...         ...       ...       ...        ...        ...       ...       ...   \n",
       "15650  0.301495 -0.384029  0.014035   0.000000   0.000000 -0.074694 -0.376376   \n",
       "9829   1.775852  0.817610  1.711771   0.000000   0.000000  1.706131  0.967155   \n",
       "17466  3.479700  4.324099  8.396606   0.000000   0.000000  8.322480  7.926577   \n",
       "10750  2.789186  1.970309  1.181228   0.000000   0.000000  1.248497  0.434698   \n",
       "15216  1.268930  0.817610  1.181228   0.000000   0.000000  1.248497  1.180471   \n",
       "\n",
       "         alogp2       amr      acid  \n",
       "4210  -0.734004 -1.521183 -0.161598  \n",
       "10733  0.252626  0.047569 -0.161598  \n",
       "9201   0.967041  0.686167 -0.161598  \n",
       "14459 -0.593549 -1.006739 -0.161598  \n",
       "8897   0.582425  1.988978 -0.161598  \n",
       "...         ...       ...       ...  \n",
       "15650 -0.481181 -0.444439 -0.161598  \n",
       "9829   0.725448  1.236250 -0.161598  \n",
       "17466 19.983361  7.840372 -0.161598  \n",
       "10750  0.150036  0.902361 -0.161598  \n",
       "15216  0.991789  1.244442 -0.161598  \n",
       "\n",
       "[742 rows x 212 columns]"
      ]
     },
     "execution_count": 126,
     "metadata": {},
     "output_type": "execute_result"
    }
   ],
   "source": [
    "sensorama2_2=[]\n",
    "\n",
    "for i in range(87, len(sensorama_2)-87):\n",
    "    if sensorama_2.iloc[i,4] == sensorama_2.iloc[i+87,4] or sensorama_2.iloc[i,4] == sensorama_2.iloc[i-87,4]:\n",
    "        sensorama2_2.append(sensorama_2.iloc[i,:]) \n",
    "\n",
    "sensorama2_2= pd.DataFrame(sensorama2_2)\n",
    "sensorama2_2"
   ]
  },
  {
   "cell_type": "code",
   "execution_count": 127,
   "metadata": {},
   "outputs": [
    {
     "name": "stdout",
     "output_type": "stream",
     "text": [
      "5\n"
     ]
    }
   ],
   "source": [
    "count=0\n",
    "for i in range(1, len(sensorama2_2)):\n",
    "    if sensorama2_2.iloc[i,4]!= sensorama2_2.iloc[i-1,4]:\n",
    "        count = count +1\n",
    "print(count)"
   ]
  },
  {
   "cell_type": "code",
   "execution_count": 128,
   "metadata": {},
   "outputs": [],
   "source": [
    "X = sensorama2_2[[ 'xlogp','fsp3', 'small rings','arom rings','ring blocks','arom blocks','rings 3','rings 4', 'rings 5', 'rings 6',\n",
    "               'rings 7', 'rings 8', 'rings 9', 'tpsa efficiency', 'zagreb indices', 'weiner path', 'weiner polarity', 'wtpt.1',\n",
    "               'wtpt.2', 'wtpt.3', 'wtpt.4', 'wtpt.5', 'molecular weight', 'VAdjMat', 'topoPSA', 'lipinski failures', 'rotatable bonds',\n",
    "               'topo shape', 'petitjean number', 'mdec.11', 'mdec.12', 'mdec.13', 'mdec.14', 'mdec.22', 'mdec.23', 'mdec.24',\n",
    "               'mdec.33', 'mdec.34', 'mdec.44', 'mdeo.11', 'mdeo.12', 'mdeo.22', 'mden.11', 'mden.12', 'mden.13', 'mden.22',\n",
    "               'mden.23', 'mden.33', 'mlogp', 'atom p', 'atom lc', 'khs.sli', 'khs.ssbe', 'khs.ssssbe', 'khs.ssbh', 'khs.sssb',\n",
    "               'khs.ssssb', 'khs.sch3', 'khs.dch2', 'khs.ssch2', 'khs.tch', 'khs.dsch', 'khs.aach', 'khs.sssch', 'khs.ddc',\n",
    "               'khs.tsc', 'khs.dssc', 'khs.aasc', 'khs.aaac', 'khs.ssssc', 'khs.snh3', 'khs.snh2', 'khs.ssnh', 'khs.dnh', 'khs.ssnh.1',\n",
    "               'khs.aanh', 'khs.tn', 'khs.sssnh', 'khs.dsn', 'khs.aan', 'khs.sssn', 'khs.dsn.1', 'khs.aasn', 'khs.ssssn', 'khs.soh',\n",
    "               'khs.do', 'khs.sso', 'khs.aao', 'khs.sf', 'khs.ssih3', 'khs.sssih2', 'khs.ssssih', 'khs.sssssi', 'khs.sph2',\n",
    "               'khs.ssph', 'khs.sssp', 'khs.dsssp', 'khs.sssssp', 'khs.ssh', 'khs.ds', 'khs.sss', 'khs.aas', 'khs.dsss', 'khs.ddsss',\n",
    "               'khs.scl', 'khs.sGeH3', 'khs.ssGeH2', 'khs.sssGeH', 'khs.ssssGe', 'khs.sash2', 'khs.ssash', 'khs.sssas', 'khs.sssdas',\n",
    "               'khs.sssssas', 'khs.sseh', 'khs.dse', 'khs.ssse', 'khs.aase', 'khs.dssse', 'khs.ddssse', 'khs.sbr', 'khs.ssnh3', \n",
    "               'khs.sssnh2', 'khs.ssssnh', 'khs.sssssn', 'khs.si', 'khs.spbh3', 'khs.sspbh2', 'khs.ssspbh', 'khs.sssspb', 'kier 1',\n",
    "               'kier 2', 'hybRatio', 'hbdon', 'hbacc', 'fragc', 'fmf', 'eccen', 'SP.0', 'SP.1', 'SP.2', 'SP.3', 'SP.4', 'SP.5', 'SP.6',\n",
    "               'SP.7', 'VP.0', 'VP.1', 'VP.2', 'VP.3', 'VP.4', 'VP.5', 'VP.6', 'VP.7', 'SPC.4', 'SPC.5', 'SPC.6', 'VPC.4', 'VPC.5',\n",
    "               'VPC.6', 'SC.3', 'SC.4', 'SC.5', 'SC.6', 'VC.3', 'VC.4', 'VC.5', 'VC.6', 'SCH.3', 'SCH.4', 'SCH.5', 'SCH.6', 'SCH.7',\n",
    "               'VCH.3', 'VCH.4', 'VCH.3', 'VCH.4', 'VCH.5', 'VCH.6', 'VCH.7', 'C1SP1', 'C2SP1', 'C1SP2', 'C2SP2', 'C3SP2', 'C1SP3',\n",
    "               'C2SP3', 'C3SP3', 'C4SP3', 'bpol', 'bond count', 'basic group count', 'atsp1', 'atsp2' , 'atsp3', 'atsp4', 'atsp5',\n",
    "               'atsm1', 'atsm2','atsm3','atsm4','atsm5', 'natom','arom bond', 'arom atom', 'apol','alogp', 'alogp2', 'amr', 'acid']]\n",
    "y = sensorama2_2['odor name']"
   ]
  },
  {
   "cell_type": "markdown",
   "metadata": {},
   "source": [
    "#### RANDOM FOREST"
   ]
  },
  {
   "cell_type": "code",
   "execution_count": 129,
   "metadata": {},
   "outputs": [
    {
     "name": "stdout",
     "output_type": "stream",
     "text": [
      "Accuracy:  43.54838709677419 %\n"
     ]
    },
    {
     "data": {
      "image/png": "[encoded data removed]",
      "text/plain": [
       "<Figure size 432x288 with 2 Axes>"
      ]
     },
     "metadata": {
      "needs_background": "light"
     },
     "output_type": "display_data"
    }
   ],
   "source": [
    "X_train,X_test,y_train,y_test = train_test_split(X,y,test_size=0.25,random_state=0)\n",
    "sc_X = StandardScaler()\n",
    "X_train = sc_X.fit_transform(X_train)\n",
    "X_test = sc_X.transform(X_test)\n",
    "clf = RandomForestClassifier(n_estimators=100)\n",
    "clf.fit(X_train,y_train)\n",
    "y_pred=clf.predict(X_test)\n",
    "confusion_matrix = pd.crosstab(y_test, y_pred, rownames=['Actual'], colnames=['Predicted'])\n",
    "sns.heatmap(confusion_matrix, annot=True)\n",
    "print('Accuracy: ',metrics.accuracy_score(y_test, y_pred)*100,'%')\n",
    "plt.show()"
   ]
  },
  {
   "cell_type": "markdown",
   "metadata": {},
   "source": [
    "##### Feature Importances "
   ]
  },
  {
   "cell_type": "code",
   "execution_count": 130,
   "metadata": {},
   "outputs": [
    {
     "data": {
      "image/png": "[encoded data removed]",
      "text/plain": [
       "<Figure size 432x288 with 1 Axes>"
      ]
     },
     "metadata": {
      "needs_background": "light"
     },
     "output_type": "display_data"
    }
   ],
   "source": [
    "featureImportances = pd.Series(clf.feature_importances_).sort_values(ascending=False)\n",
    "sns.barplot(x=round(featureImportances,8), y=featureImportances)\n",
    "plt.xlabel('Features Importance')\n",
    "plt.show()"
   ]
  },
  {
   "cell_type": "code",
   "execution_count": 131,
   "metadata": {},
   "outputs": [],
   "source": [
    "X = sensorama2_2[[ 'xlogp','fsp3', 'small rings','arom rings','ring blocks','arom blocks','rings 3','rings 4', 'rings 5', 'rings 6',\n",
    "               'rings 7','tpsa efficiency', 'zagreb indices', 'weiner path', 'weiner polarity', 'wtpt.1',\n",
    "               'wtpt.2', 'wtpt.3', 'wtpt.4', 'wtpt.5', 'molecular weight', 'VAdjMat', 'topoPSA', 'lipinski failures', 'rotatable bonds',\n",
    "               'topo shape', 'petitjean number', 'mdec.11', 'mdec.12', 'mdec.13', 'mdec.14', 'mdec.22', 'mdec.23', 'mdec.24',\n",
    "               'mdec.33', 'mdec.34', 'mdec.44', 'mdeo.11', 'mdeo.12', 'mdeo.22', 'mden.11', 'mden.12','mden.22',\n",
    "               'mden.23', 'mden.33', 'mlogp', 'atom p', 'atom lc', \n",
    "                 'khs.sch3', 'khs.dch2', 'khs.ssch2', 'khs.tch', 'khs.dsch', 'khs.aach', 'khs.sssch', 'khs.ddc',\n",
    "               'khs.tsc', 'khs.dssc', 'khs.aasc', 'khs.aaac', 'khs.ssssc', 'khs.snh2', 'khs.ssnh.1',\n",
    "               'khs.aanh', 'khs.tn','khs.dsn', 'khs.aan', 'khs.sssn', 'khs.dsn.1', 'khs.aasn','khs.soh',\n",
    "               'khs.do', 'khs.sso', 'khs.aao', 'khs.sf', 'khs.ssih3', \n",
    "                 'khs.ssh', 'khs.ds', 'khs.sss', 'khs.aas', 'khs.dsss', 'khs.ddsss',\n",
    "               'khs.scl',\n",
    "               'kier 1',\n",
    "               'kier 2', 'hybRatio', 'hbdon', 'hbacc', 'fragc', 'fmf', 'eccen', 'SP.0', 'SP.1', 'SP.2', 'SP.3', 'SP.4', 'SP.5', 'SP.6',\n",
    "               'SP.7', 'VP.0', 'VP.1', 'VP.2', 'VP.3', 'VP.4', 'VP.5', 'VP.6', 'VP.7', 'SPC.4', 'SPC.5', 'SPC.6', 'VPC.4', 'VPC.5',\n",
    "               'VPC.6', 'SC.3', 'SC.4', 'SC.5', 'SC.6', 'VC.3', 'VC.4', 'VC.5', 'VC.6', 'SCH.3', 'SCH.4', 'SCH.5', 'SCH.6', 'SCH.7',\n",
    "               'VCH.3', 'VCH.4', 'VCH.3', 'VCH.4', 'VCH.5', 'VCH.6', 'VCH.7', 'C1SP1', 'C2SP1', 'C1SP2', 'C2SP2', 'C3SP2', 'C1SP3',\n",
    "               'C2SP3', 'C3SP3', 'C4SP3', 'bpol', 'bond count', 'basic group count', 'atsp1', 'atsp2' , 'atsp3', 'atsp4', 'atsp5',\n",
    "               'atsm1', 'atsm2','atsm3','atsm4','atsm5', 'natom', 'apol','alogp', 'alogp2', 'amr', 'acid']]\n",
    "y = sensorama2_2['odor name']"
   ]
  },
  {
   "cell_type": "code",
   "execution_count": 132,
   "metadata": {},
   "outputs": [
    {
     "name": "stdout",
     "output_type": "stream",
     "text": [
      "Accuracy:  41.39784946236559 %\n"
     ]
    },
    {
     "data": {
      "image/png": "[encoded data removed]",
      "text/plain": [
       "<Figure size 432x288 with 2 Axes>"
      ]
     },
     "metadata": {
      "needs_background": "light"
     },
     "output_type": "display_data"
    }
   ],
   "source": [
    "X_train,X_test,y_train,y_test = train_test_split(X,y,test_size=0.25,random_state=0)\n",
    "sc_X = StandardScaler()\n",
    "X_train = sc_X.fit_transform(X_train)\n",
    "X_test = sc_X.transform(X_test)\n",
    "clf = RandomForestClassifier(n_estimators=100)\n",
    "clf.fit(X_train,y_train)\n",
    "y_pred=clf.predict(X_test)\n",
    "confusion_matrix = pd.crosstab(y_test, y_pred, rownames=['Actual'], colnames=['Predicted'])\n",
    "sns.heatmap(confusion_matrix, annot=True)\n",
    "print('Accuracy: ',metrics.accuracy_score(y_test, y_pred)*100,'%')\n",
    "plt.show()"
   ]
  },
  {
   "cell_type": "markdown",
   "metadata": {},
   "source": [
    "#### SUPPORT VECTOR MACHIN"
   ]
  },
  {
   "cell_type": "markdown",
   "metadata": {},
   "source": [
    "##### rbf Kernel "
   ]
  },
  {
   "cell_type": "code",
   "execution_count": 133,
   "metadata": {},
   "outputs": [
    {
     "name": "stdout",
     "output_type": "stream",
     "text": [
      "Accuracy: 41.39784946236559 %\n"
     ]
    }
   ],
   "source": [
    "X_tr, X_tst, y_tr, y_tst = train_test_split(X, y, test_size=25/100,random_state=109)\n",
    "clf = svm.SVC(kernel='rbf') # creating Support Vector Machine model\n",
    "clf.fit(X_tr, y_tr) # training the Model\n",
    "y_pr = clf.predict(X_tst) # making Predictions\n",
    "\n",
    "# Evaluating Prediction Accuracy\n",
    "print(\"Accuracy:\",metrics.accuracy_score(y_tst, y_pr)*100,\"%\")"
   ]
  },
  {
   "cell_type": "markdown",
   "metadata": {},
   "source": [
    "##### Polynomial Kernel "
   ]
  },
  {
   "cell_type": "code",
   "execution_count": 134,
   "metadata": {},
   "outputs": [
    {
     "name": "stdout",
     "output_type": "stream",
     "text": [
      "Accuracy: 38.70967741935484 %\n"
     ]
    }
   ],
   "source": [
    "X_tr, X_tst, y_tr, y_tst = train_test_split(X, y, test_size=25/100,random_state=109)\n",
    "clf = svm.SVC(kernel='poly') # Creating Support Vector Machine Model\n",
    "clf.fit(X_tr,y_tr) # fit classifier to training set\n",
    "y_pr = clf.predict(X_tst) # Making Predictions\n",
    "\n",
    "# Evaluating Prediction Accuracy\n",
    "print(\"Accuracy:\",metrics.accuracy_score(y_tst, y_pr)*100,\"%\")"
   ]
  },
  {
   "cell_type": "markdown",
   "metadata": {},
   "source": [
    "##### Sigmoid Kernel "
   ]
  },
  {
   "cell_type": "code",
   "execution_count": 135,
   "metadata": {},
   "outputs": [
    {
     "name": "stdout",
     "output_type": "stream",
     "text": [
      "Accuracy: 42.473118279569896 %\n"
     ]
    }
   ],
   "source": [
    "X_tr, X_tst, y_tr, y_tst = train_test_split(X, y, test_size=25/100,random_state=109)\n",
    "clf=svm.SVC(kernel='sigmoid') # instantiate classifier with sigmoid kernel\n",
    "clf.fit(X_tr,y_tr) # fit classifier to training set\n",
    "y_pr = clf.predict(X_tst) # Making Predictions\n",
    "\n",
    "# Evaluating Prediction Accuracy\n",
    "print(\"Accuracy:\",metrics.accuracy_score(y_tst, y_pr)*100,\"%\")"
   ]
  },
  {
   "cell_type": "markdown",
   "metadata": {},
   "source": [
    "#### DECISION TREE"
   ]
  },
  {
   "cell_type": "code",
   "execution_count": 136,
   "metadata": {},
   "outputs": [
    {
     "name": "stdout",
     "output_type": "stream",
     "text": [
      "Accuracy: 42.600896860986545 %\n"
     ]
    }
   ],
   "source": [
    "# Split dataset into training set and test set\n",
    "X_train, X_test, y_train, y_test = train_test_split(X, y, test_size=0.3, random_state=1) # 70% training and 30% test\n",
    "clf = DecisionTreeClassifier() # Create Decision Tree classifer object\n",
    "clf = clf.fit(X_train,y_train) # Train Decision Tree Classifer\n",
    "y_pred = clf.predict(X_test) # Predict the response for test dataset\n",
    "\n",
    "# how often is the classifier correct?\n",
    "print(\"Accuracy:\",metrics.accuracy_score(y_test, y_pred)*100,\"%\")"
   ]
  },
  {
   "cell_type": "markdown",
   "metadata": {},
   "source": [
    "#### LOGISTIC REGRESSION"
   ]
  },
  {
   "cell_type": "code",
   "execution_count": 137,
   "metadata": {},
   "outputs": [
    {
     "name": "stdout",
     "output_type": "stream",
     "text": [
      "Accuracy:  40.86021505376344 %\n"
     ]
    }
   ],
   "source": [
    "X_train,X_test,y_train,y_test = train_test_split(X,y,test_size=0.25,random_state=0)\n",
    "clf= LogisticRegression( max_iter=100000000)\n",
    "clf.fit(X_train,y_train)\n",
    "y_pred=clf.predict(X_test)\n",
    "print('Accuracy: ',metrics.accuracy_score(y_test, y_pred)*100,'%')"
   ]
  },
  {
   "cell_type": "markdown",
   "metadata": {},
   "source": [
    "#### K-Nearest Neighbor"
   ]
  },
  {
   "cell_type": "code",
   "execution_count": 138,
   "metadata": {},
   "outputs": [
    {
     "data": {
      "text/plain": [
       "Text(0, 0.5, 'Accuracy')"
      ]
     },
     "execution_count": 138,
     "metadata": {},
     "output_type": "execute_result"
    },
    {
     "data": {
      "image/png": "[encoded data removed]",
      "text/plain": [
       "<Figure size 864x432 with 1 Axes>"
      ]
     },
     "metadata": {
      "needs_background": "light"
     },
     "output_type": "display_data"
    }
   ],
   "source": [
    "# Split data into training and testing sets.\n",
    "X_train, X_test, y_train, y_test = train_test_split(X, y, random_state=42)\n",
    "accuracy=[]\n",
    "for i in range(1,21):\n",
    "    clf = KNeighborsClassifier(n_neighbors=i)\n",
    "    clf.fit(X_train, y_train)\n",
    "    ypred = clf.predict(X_test)\n",
    "    accuracy.append(metrics.accuracy_score(y_test, ypred))\n",
    "plt.figure(figsize=(12, 6))\n",
    "plt.plot(range(1, 21), accuracy, color='orange', linestyle='dashed', marker='o',\n",
    "         markerfacecolor='green', markersize=10)\n",
    "plt.title('Looking for the most accurate k value')\n",
    "plt.xlabel('K Value')\n",
    "plt.ylabel('Accuracy')"
   ]
  },
  {
   "cell_type": "code",
   "execution_count": 139,
   "metadata": {},
   "outputs": [
    {
     "name": "stdout",
     "output_type": "stream",
     "text": [
      "Accuracy: 53.76344086021505 %\n"
     ]
    }
   ],
   "source": [
    "clf = KNeighborsClassifier(n_neighbors=6)\n",
    "clf.fit(X_train, y_train)\n",
    "ypred = clf.predict(X_test)\n",
    "\n",
    "# Best accuracy\n",
    "print(\"Accuracy:\",metrics.accuracy_score(y_test, ypred)*100,\"%\")"
   ]
  },
  {
   "cell_type": "markdown",
   "metadata": {},
   "source": [
    "### 3 MOST COMMON ODOR NAMES "
   ]
  },
  {
   "cell_type": "code",
   "execution_count": 140,
   "metadata": {},
   "outputs": [],
   "source": [
    "sensorama_2 = sensorama_2 .sort_values('odor name')"
   ]
  },
  {
   "cell_type": "code",
   "execution_count": 145,
   "metadata": {},
   "outputs": [
    {
     "data": {
      "text/html": [
       "<div>\n",
       "<style scoped>\n",
       "    .dataframe tbody tr th:only-of-type {\n",
       "        vertical-align: middle;\n",
       "    }\n",
       "\n",
       "    .dataframe tbody tr th {\n",
       "        vertical-align: top;\n",
       "    }\n",
       "\n",
       "    .dataframe thead th {\n",
       "        text-align: right;\n",
       "    }\n",
       "</style>\n",
       "<table border=\"1\" class=\"dataframe\">\n",
       "  <thead>\n",
       "    <tr style=\"text-align: right;\">\n",
       "      <th></th>\n",
       "      <th>cid</th>\n",
       "      <th>canonical_smiles</th>\n",
       "      <th>xlogp</th>\n",
       "      <th>odor level</th>\n",
       "      <th>odor name</th>\n",
       "      <th>fsp3</th>\n",
       "      <th>small rings</th>\n",
       "      <th>arom rings</th>\n",
       "      <th>ring blocks</th>\n",
       "      <th>arom blocks</th>\n",
       "      <th>...</th>\n",
       "      <th>atsm4</th>\n",
       "      <th>atsm5</th>\n",
       "      <th>natom</th>\n",
       "      <th>arom bond</th>\n",
       "      <th>arom atom</th>\n",
       "      <th>apol</th>\n",
       "      <th>alogp</th>\n",
       "      <th>alogp2</th>\n",
       "      <th>amr</th>\n",
       "      <th>acid</th>\n",
       "    </tr>\n",
       "  </thead>\n",
       "  <tbody>\n",
       "    <tr>\n",
       "      <td>9643</td>\n",
       "      <td>103607.000000</td>\n",
       "      <td>1416.000000</td>\n",
       "      <td>0.555287</td>\n",
       "      <td>2.000000</td>\n",
       "      <td>188.000000</td>\n",
       "      <td>0.104674</td>\n",
       "      <td>0.200130</td>\n",
       "      <td>-0.631781</td>\n",
       "      <td>0.632666</td>\n",
       "      <td>-0.644741</td>\n",
       "      <td>...</td>\n",
       "      <td>1.223032</td>\n",
       "      <td>1.345819</td>\n",
       "      <td>1.287337</td>\n",
       "      <td>0.000000</td>\n",
       "      <td>0.000000</td>\n",
       "      <td>1.331399</td>\n",
       "      <td>0.786593</td>\n",
       "      <td>0.516018</td>\n",
       "      <td>1.301674</td>\n",
       "      <td>-0.161598</td>\n",
       "    </tr>\n",
       "    <tr>\n",
       "      <td>9197</td>\n",
       "      <td>95395.000000</td>\n",
       "      <td>165.000000</td>\n",
       "      <td>-0.487506</td>\n",
       "      <td>2.000000</td>\n",
       "      <td>188.000000</td>\n",
       "      <td>-0.663573</td>\n",
       "      <td>1.278317</td>\n",
       "      <td>1.183366</td>\n",
       "      <td>2.371507</td>\n",
       "      <td>1.285620</td>\n",
       "      <td>...</td>\n",
       "      <td>0.454418</td>\n",
       "      <td>0.720249</td>\n",
       "      <td>0.332360</td>\n",
       "      <td>0.000000</td>\n",
       "      <td>0.000000</td>\n",
       "      <td>0.499043</td>\n",
       "      <td>-0.580393</td>\n",
       "      <td>-0.593332</td>\n",
       "      <td>0.797031</td>\n",
       "      <td>-0.161598</td>\n",
       "    </tr>\n",
       "    <tr>\n",
       "      <td>11999</td>\n",
       "      <td>518810.000000</td>\n",
       "      <td>2264.000000</td>\n",
       "      <td>-0.487506</td>\n",
       "      <td>2.000000</td>\n",
       "      <td>188.000000</td>\n",
       "      <td>0.884527</td>\n",
       "      <td>-0.878056</td>\n",
       "      <td>-0.631781</td>\n",
       "      <td>-1.106175</td>\n",
       "      <td>-0.644741</td>\n",
       "      <td>...</td>\n",
       "      <td>-0.250289</td>\n",
       "      <td>0.177321</td>\n",
       "      <td>-0.198182</td>\n",
       "      <td>0.000000</td>\n",
       "      <td>0.000000</td>\n",
       "      <td>-0.193733</td>\n",
       "      <td>-0.399831</td>\n",
       "      <td>-0.495023</td>\n",
       "      <td>-0.268583</td>\n",
       "      <td>-0.161598</td>\n",
       "    </tr>\n",
       "    <tr>\n",
       "      <td>11548</td>\n",
       "      <td>221641.000000</td>\n",
       "      <td>3042.000000</td>\n",
       "      <td>-0.000869</td>\n",
       "      <td>2.000000</td>\n",
       "      <td>188.000000</td>\n",
       "      <td>-1.030100</td>\n",
       "      <td>0.200130</td>\n",
       "      <td>1.183366</td>\n",
       "      <td>0.632666</td>\n",
       "      <td>1.285620</td>\n",
       "      <td>...</td>\n",
       "      <td>-0.067223</td>\n",
       "      <td>0.144180</td>\n",
       "      <td>-0.198182</td>\n",
       "      <td>0.000000</td>\n",
       "      <td>0.000000</td>\n",
       "      <td>-0.085568</td>\n",
       "      <td>-0.223918</td>\n",
       "      <td>-0.385127</td>\n",
       "      <td>0.209358</td>\n",
       "      <td>-0.161598</td>\n",
       "    </tr>\n",
       "    <tr>\n",
       "      <td>11323</td>\n",
       "      <td>172501.000000</td>\n",
       "      <td>778.000000</td>\n",
       "      <td>0.763846</td>\n",
       "      <td>2.000000</td>\n",
       "      <td>188.000000</td>\n",
       "      <td>1.352513</td>\n",
       "      <td>-0.878056</td>\n",
       "      <td>-0.631781</td>\n",
       "      <td>-1.106175</td>\n",
       "      <td>-0.644741</td>\n",
       "      <td>...</td>\n",
       "      <td>-0.619532</td>\n",
       "      <td>-0.191468</td>\n",
       "      <td>0.756794</td>\n",
       "      <td>0.000000</td>\n",
       "      <td>0.000000</td>\n",
       "      <td>0.520782</td>\n",
       "      <td>0.851892</td>\n",
       "      <td>0.590067</td>\n",
       "      <td>0.111762</td>\n",
       "      <td>-0.161598</td>\n",
       "    </tr>\n",
       "    <tr>\n",
       "      <td>...</td>\n",
       "      <td>...</td>\n",
       "      <td>...</td>\n",
       "      <td>...</td>\n",
       "      <td>...</td>\n",
       "      <td>...</td>\n",
       "      <td>...</td>\n",
       "      <td>...</td>\n",
       "      <td>...</td>\n",
       "      <td>...</td>\n",
       "      <td>...</td>\n",
       "      <td>...</td>\n",
       "      <td>...</td>\n",
       "      <td>...</td>\n",
       "      <td>...</td>\n",
       "      <td>...</td>\n",
       "      <td>...</td>\n",
       "      <td>...</td>\n",
       "      <td>...</td>\n",
       "      <td>...</td>\n",
       "      <td>...</td>\n",
       "      <td>...</td>\n",
       "    </tr>\n",
       "    <tr>\n",
       "      <td>3922</td>\n",
       "      <td>16296.000000</td>\n",
       "      <td>2966.000000</td>\n",
       "      <td>1.111444</td>\n",
       "      <td>2.000000</td>\n",
       "      <td>224.000000</td>\n",
       "      <td>-0.831300</td>\n",
       "      <td>0.200130</td>\n",
       "      <td>1.183366</td>\n",
       "      <td>0.632666</td>\n",
       "      <td>1.285620</td>\n",
       "      <td>...</td>\n",
       "      <td>0.300983</td>\n",
       "      <td>0.336208</td>\n",
       "      <td>0.120143</td>\n",
       "      <td>0.000000</td>\n",
       "      <td>0.000000</td>\n",
       "      <td>0.234213</td>\n",
       "      <td>0.385081</td>\n",
       "      <td>0.102914</td>\n",
       "      <td>0.513791</td>\n",
       "      <td>-0.161598</td>\n",
       "    </tr>\n",
       "    <tr>\n",
       "      <td>8065</td>\n",
       "      <td>78476.000000</td>\n",
       "      <td>149.000000</td>\n",
       "      <td>-1.113183</td>\n",
       "      <td>2.000000</td>\n",
       "      <td>224.000000</td>\n",
       "      <td>-0.689781</td>\n",
       "      <td>1.278317</td>\n",
       "      <td>1.183366</td>\n",
       "      <td>2.371507</td>\n",
       "      <td>1.285620</td>\n",
       "      <td>...</td>\n",
       "      <td>0.561458</td>\n",
       "      <td>0.144180</td>\n",
       "      <td>-0.092074</td>\n",
       "      <td>0.000000</td>\n",
       "      <td>0.000000</td>\n",
       "      <td>-0.002667</td>\n",
       "      <td>-1.278424</td>\n",
       "      <td>-0.835326</td>\n",
       "      <td>0.265510</td>\n",
       "      <td>-0.161598</td>\n",
       "    </tr>\n",
       "    <tr>\n",
       "      <td>5081</td>\n",
       "      <td>27440.000000</td>\n",
       "      <td>2042.000000</td>\n",
       "      <td>-0.417987</td>\n",
       "      <td>2.000000</td>\n",
       "      <td>224.000000</td>\n",
       "      <td>-0.519433</td>\n",
       "      <td>0.200130</td>\n",
       "      <td>1.183366</td>\n",
       "      <td>0.632666</td>\n",
       "      <td>1.285620</td>\n",
       "      <td>...</td>\n",
       "      <td>-0.733731</td>\n",
       "      <td>-1.248419</td>\n",
       "      <td>-1.259267</td>\n",
       "      <td>0.000000</td>\n",
       "      <td>0.000000</td>\n",
       "      <td>-1.092173</td>\n",
       "      <td>-0.837844</td>\n",
       "      <td>-0.708117</td>\n",
       "      <td>-0.895207</td>\n",
       "      <td>-0.161598</td>\n",
       "    </tr>\n",
       "    <tr>\n",
       "      <td>9387</td>\n",
       "      <td>100941.000000</td>\n",
       "      <td>1088.000000</td>\n",
       "      <td>1.250483</td>\n",
       "      <td>2.000000</td>\n",
       "      <td>494.000000</td>\n",
       "      <td>1.132372</td>\n",
       "      <td>4.512876</td>\n",
       "      <td>-0.631781</td>\n",
       "      <td>0.632666</td>\n",
       "      <td>-0.644741</td>\n",
       "      <td>...</td>\n",
       "      <td>3.480211</td>\n",
       "      <td>3.027260</td>\n",
       "      <td>1.711771</td>\n",
       "      <td>0.000000</td>\n",
       "      <td>0.000000</td>\n",
       "      <td>1.833109</td>\n",
       "      <td>0.309997</td>\n",
       "      <td>0.033722</td>\n",
       "      <td>1.434504</td>\n",
       "      <td>-0.161598</td>\n",
       "    </tr>\n",
       "    <tr>\n",
       "      <td>13971</td>\n",
       "      <td>5322111.000000</td>\n",
       "      <td>1401.000000</td>\n",
       "      <td>1.111444</td>\n",
       "      <td>2.000000</td>\n",
       "      <td>494.000000</td>\n",
       "      <td>0.354017</td>\n",
       "      <td>0.200130</td>\n",
       "      <td>-0.631781</td>\n",
       "      <td>0.632666</td>\n",
       "      <td>-0.644741</td>\n",
       "      <td>...</td>\n",
       "      <td>0.993031</td>\n",
       "      <td>1.490507</td>\n",
       "      <td>1.075120</td>\n",
       "      <td>0.000000</td>\n",
       "      <td>0.000000</td>\n",
       "      <td>1.165596</td>\n",
       "      <td>1.599054</td>\n",
       "      <td>1.573965</td>\n",
       "      <td>0.988427</td>\n",
       "      <td>-0.161598</td>\n",
       "    </tr>\n",
       "  </tbody>\n",
       "</table>\n",
       "<p>654 rows × 212 columns</p>\n",
       "</div>"
      ],
      "text/plain": [
       "                 cid  canonical_smiles     xlogp  odor level  odor name  \\\n",
       "9643   103607.000000       1416.000000  0.555287    2.000000 188.000000   \n",
       "9197    95395.000000        165.000000 -0.487506    2.000000 188.000000   \n",
       "11999  518810.000000       2264.000000 -0.487506    2.000000 188.000000   \n",
       "11548  221641.000000       3042.000000 -0.000869    2.000000 188.000000   \n",
       "11323  172501.000000        778.000000  0.763846    2.000000 188.000000   \n",
       "...              ...               ...       ...         ...        ...   \n",
       "3922    16296.000000       2966.000000  1.111444    2.000000 224.000000   \n",
       "8065    78476.000000        149.000000 -1.113183    2.000000 224.000000   \n",
       "5081    27440.000000       2042.000000 -0.417987    2.000000 224.000000   \n",
       "9387   100941.000000       1088.000000  1.250483    2.000000 494.000000   \n",
       "13971 5322111.000000       1401.000000  1.111444    2.000000 494.000000   \n",
       "\n",
       "           fsp3  small rings  arom rings  ring blocks  arom blocks  ...  \\\n",
       "9643   0.104674     0.200130   -0.631781     0.632666    -0.644741  ...   \n",
       "9197  -0.663573     1.278317    1.183366     2.371507     1.285620  ...   \n",
       "11999  0.884527    -0.878056   -0.631781    -1.106175    -0.644741  ...   \n",
       "11548 -1.030100     0.200130    1.183366     0.632666     1.285620  ...   \n",
       "11323  1.352513    -0.878056   -0.631781    -1.106175    -0.644741  ...   \n",
       "...         ...          ...         ...          ...          ...  ...   \n",
       "3922  -0.831300     0.200130    1.183366     0.632666     1.285620  ...   \n",
       "8065  -0.689781     1.278317    1.183366     2.371507     1.285620  ...   \n",
       "5081  -0.519433     0.200130    1.183366     0.632666     1.285620  ...   \n",
       "9387   1.132372     4.512876   -0.631781     0.632666    -0.644741  ...   \n",
       "13971  0.354017     0.200130   -0.631781     0.632666    -0.644741  ...   \n",
       "\n",
       "          atsm4     atsm5     natom  arom bond  arom atom      apol     alogp  \\\n",
       "9643   1.223032  1.345819  1.287337   0.000000   0.000000  1.331399  0.786593   \n",
       "9197   0.454418  0.720249  0.332360   0.000000   0.000000  0.499043 -0.580393   \n",
       "11999 -0.250289  0.177321 -0.198182   0.000000   0.000000 -0.193733 -0.399831   \n",
       "11548 -0.067223  0.144180 -0.198182   0.000000   0.000000 -0.085568 -0.223918   \n",
       "11323 -0.619532 -0.191468  0.756794   0.000000   0.000000  0.520782  0.851892   \n",
       "...         ...       ...       ...        ...        ...       ...       ...   \n",
       "3922   0.300983  0.336208  0.120143   0.000000   0.000000  0.234213  0.385081   \n",
       "8065   0.561458  0.144180 -0.092074   0.000000   0.000000 -0.002667 -1.278424   \n",
       "5081  -0.733731 -1.248419 -1.259267   0.000000   0.000000 -1.092173 -0.837844   \n",
       "9387   3.480211  3.027260  1.711771   0.000000   0.000000  1.833109  0.309997   \n",
       "13971  0.993031  1.490507  1.075120   0.000000   0.000000  1.165596  1.599054   \n",
       "\n",
       "         alogp2       amr      acid  \n",
       "9643   0.516018  1.301674 -0.161598  \n",
       "9197  -0.593332  0.797031 -0.161598  \n",
       "11999 -0.495023 -0.268583 -0.161598  \n",
       "11548 -0.385127  0.209358 -0.161598  \n",
       "11323  0.590067  0.111762 -0.161598  \n",
       "...         ...       ...       ...  \n",
       "3922   0.102914  0.513791 -0.161598  \n",
       "8065  -0.835326  0.265510 -0.161598  \n",
       "5081  -0.708117 -0.895207 -0.161598  \n",
       "9387   0.033722  1.434504 -0.161598  \n",
       "13971  1.573965  0.988427 -0.161598  \n",
       "\n",
       "[654 rows x 212 columns]"
      ]
     },
     "execution_count": 145,
     "metadata": {},
     "output_type": "execute_result"
    }
   ],
   "source": [
    "sensorama2_2=[]\n",
    "\n",
    "for i in range(109, len(sensorama_2)-109):\n",
    "    if sensorama_2.iloc[i,4] == sensorama_2.iloc[i+109,4] or sensorama_2.iloc[i,4] == sensorama_2.iloc[i-109,4]:\n",
    "        sensorama2_2.append(sensorama_2.iloc[i,:]) \n",
    "\n",
    "sensorama2_2= pd.DataFrame(sensorama2_2)\n",
    "sensorama2_2"
   ]
  },
  {
   "cell_type": "code",
   "execution_count": 146,
   "metadata": {},
   "outputs": [
    {
     "name": "stdout",
     "output_type": "stream",
     "text": [
      "3\n"
     ]
    }
   ],
   "source": [
    "count=0\n",
    "for i in range(1, len(sensorama2_2)):\n",
    "    if sensorama2_2.iloc[i,4]!= sensorama2_2.iloc[i-1,4]:\n",
    "        count = count +1\n",
    "print(count)"
   ]
  },
  {
   "cell_type": "code",
   "execution_count": 147,
   "metadata": {},
   "outputs": [],
   "source": [
    "X = sensorama2_2[[ 'xlogp','fsp3', 'small rings','arom rings','ring blocks','arom blocks','rings 3','rings 4', 'rings 5', 'rings 6',\n",
    "               'rings 7', 'rings 8', 'rings 9', 'tpsa efficiency', 'zagreb indices', 'weiner path', 'weiner polarity', 'wtpt.1',\n",
    "               'wtpt.2', 'wtpt.3', 'wtpt.4', 'wtpt.5', 'molecular weight', 'VAdjMat', 'topoPSA', 'lipinski failures', 'rotatable bonds',\n",
    "               'topo shape', 'petitjean number', 'mdec.11', 'mdec.12', 'mdec.13', 'mdec.14', 'mdec.22', 'mdec.23', 'mdec.24',\n",
    "               'mdec.33', 'mdec.34', 'mdec.44', 'mdeo.11', 'mdeo.12', 'mdeo.22', 'mden.11', 'mden.12', 'mden.13', 'mden.22',\n",
    "               'mden.23', 'mden.33', 'mlogp', 'atom p', 'atom lc', 'khs.sli', 'khs.ssbe', 'khs.ssssbe', 'khs.ssbh', 'khs.sssb',\n",
    "               'khs.ssssb', 'khs.sch3', 'khs.dch2', 'khs.ssch2', 'khs.tch', 'khs.dsch', 'khs.aach', 'khs.sssch', 'khs.ddc',\n",
    "               'khs.tsc', 'khs.dssc', 'khs.aasc', 'khs.aaac', 'khs.ssssc', 'khs.snh3', 'khs.snh2', 'khs.ssnh', 'khs.dnh', 'khs.ssnh.1',\n",
    "               'khs.aanh', 'khs.tn', 'khs.sssnh', 'khs.dsn', 'khs.aan', 'khs.sssn', 'khs.dsn.1', 'khs.aasn', 'khs.ssssn', 'khs.soh',\n",
    "               'khs.do', 'khs.sso', 'khs.aao', 'khs.sf', 'khs.ssih3', 'khs.sssih2', 'khs.ssssih', 'khs.sssssi', 'khs.sph2',\n",
    "               'khs.ssph', 'khs.sssp', 'khs.dsssp', 'khs.sssssp', 'khs.ssh', 'khs.ds', 'khs.sss', 'khs.aas', 'khs.dsss', 'khs.ddsss',\n",
    "               'khs.scl', 'khs.sGeH3', 'khs.ssGeH2', 'khs.sssGeH', 'khs.ssssGe', 'khs.sash2', 'khs.ssash', 'khs.sssas', 'khs.sssdas',\n",
    "               'khs.sssssas', 'khs.sseh', 'khs.dse', 'khs.ssse', 'khs.aase', 'khs.dssse', 'khs.ddssse', 'khs.sbr', 'khs.ssnh3', \n",
    "               'khs.sssnh2', 'khs.ssssnh', 'khs.sssssn', 'khs.si', 'khs.spbh3', 'khs.sspbh2', 'khs.ssspbh', 'khs.sssspb', 'kier 1',\n",
    "               'kier 2', 'hybRatio', 'hbdon', 'hbacc', 'fragc', 'fmf', 'eccen', 'SP.0', 'SP.1', 'SP.2', 'SP.3', 'SP.4', 'SP.5', 'SP.6',\n",
    "               'SP.7', 'VP.0', 'VP.1', 'VP.2', 'VP.3', 'VP.4', 'VP.5', 'VP.6', 'VP.7', 'SPC.4', 'SPC.5', 'SPC.6', 'VPC.4', 'VPC.5',\n",
    "               'VPC.6', 'SC.3', 'SC.4', 'SC.5', 'SC.6', 'VC.3', 'VC.4', 'VC.5', 'VC.6', 'SCH.3', 'SCH.4', 'SCH.5', 'SCH.6', 'SCH.7',\n",
    "               'VCH.3', 'VCH.4', 'VCH.3', 'VCH.4', 'VCH.5', 'VCH.6', 'VCH.7', 'C1SP1', 'C2SP1', 'C1SP2', 'C2SP2', 'C3SP2', 'C1SP3',\n",
    "               'C2SP3', 'C3SP3', 'C4SP3', 'bpol', 'bond count', 'basic group count', 'atsp1', 'atsp2' , 'atsp3', 'atsp4', 'atsp5',\n",
    "               'atsm1', 'atsm2','atsm3','atsm4','atsm5', 'natom','arom bond', 'arom atom', 'apol','alogp', 'alogp2', 'amr', 'acid']]\n",
    "y = sensorama2_2['odor name']"
   ]
  },
  {
   "cell_type": "markdown",
   "metadata": {},
   "source": [
    "#### RANDOM FOREST"
   ]
  },
  {
   "cell_type": "code",
   "execution_count": 148,
   "metadata": {},
   "outputs": [
    {
     "name": "stdout",
     "output_type": "stream",
     "text": [
      "Accuracy:  51.829268292682926 %\n"
     ]
    },
    {
     "data": {
      "image/png": "[encoded data removed]",
      "text/plain": [
       "<Figure size 432x288 with 2 Axes>"
      ]
     },
     "metadata": {
      "needs_background": "light"
     },
     "output_type": "display_data"
    }
   ],
   "source": [
    "X_train,X_test,y_train,y_test = train_test_split(X,y,test_size=0.25,random_state=0)\n",
    "sc_X = StandardScaler()\n",
    "X_train = sc_X.fit_transform(X_train)\n",
    "X_test = sc_X.transform(X_test)\n",
    "clf = RandomForestClassifier(n_estimators=100)\n",
    "clf.fit(X_train,y_train)\n",
    "y_pred=clf.predict(X_test)\n",
    "confusion_matrix = pd.crosstab(y_test, y_pred, rownames=['Actual'], colnames=['Predicted'])\n",
    "sns.heatmap(confusion_matrix, annot=True)\n",
    "print('Accuracy: ',metrics.accuracy_score(y_test, y_pred)*100,'%')\n",
    "plt.show()"
   ]
  },
  {
   "cell_type": "markdown",
   "metadata": {},
   "source": [
    "##### Feature Importances "
   ]
  },
  {
   "cell_type": "code",
   "execution_count": 149,
   "metadata": {},
   "outputs": [
    {
     "data": {
      "image/png": "[encoded data removed]",
      "text/plain": [
       "<Figure size 432x288 with 1 Axes>"
      ]
     },
     "metadata": {
      "needs_background": "light"
     },
     "output_type": "display_data"
    }
   ],
   "source": [
    "featureImportances = pd.Series(clf.feature_importances_).sort_values(ascending=False)\n",
    "sns.barplot(x=round(featureImportances,8), y=featureImportances)\n",
    "plt.xlabel('Features Importance')\n",
    "plt.show()"
   ]
  },
  {
   "cell_type": "code",
   "execution_count": 150,
   "metadata": {},
   "outputs": [],
   "source": [
    "X = sensorama2_2[[ 'xlogp','fsp3', 'small rings','arom rings','ring blocks','arom blocks','rings 3','rings 4', 'rings 5', 'rings 6',\n",
    "               'rings 7','tpsa efficiency', 'zagreb indices', 'weiner path', 'weiner polarity', 'wtpt.1',\n",
    "               'wtpt.2', 'wtpt.3', 'wtpt.4', 'wtpt.5', 'molecular weight', 'VAdjMat', 'topoPSA', 'lipinski failures', 'rotatable bonds',\n",
    "               'topo shape', 'petitjean number', 'mdec.11', 'mdec.12', 'mdec.13', 'mdec.14', 'mdec.22', 'mdec.23', 'mdec.24',\n",
    "               'mdec.33', 'mdec.34', 'mdec.44', 'mdeo.11', 'mdeo.12', 'mdeo.22', 'mden.11', 'mden.12','mden.22',\n",
    "               'mden.23', 'mden.33', 'mlogp', 'atom p', 'atom lc', \n",
    "                 'khs.sch3', 'khs.dch2', 'khs.ssch2', 'khs.tch', 'khs.dsch', 'khs.aach', 'khs.sssch', 'khs.ddc',\n",
    "               'khs.tsc', 'khs.dssc', 'khs.aasc', 'khs.aaac', 'khs.ssssc', 'khs.snh2', 'khs.ssnh.1',\n",
    "               'khs.aanh', 'khs.tn','khs.dsn', 'khs.aan', 'khs.sssn', 'khs.dsn.1', 'khs.aasn','khs.soh',\n",
    "               'khs.do', 'khs.sso', 'khs.aao', 'khs.sf', 'khs.ssih3', \n",
    "                 'khs.ssh', 'khs.ds', 'khs.sss', 'khs.aas', 'khs.dsss', 'khs.ddsss',\n",
    "               'khs.scl',\n",
    "               'kier 1',\n",
    "               'kier 2', 'hybRatio', 'hbdon', 'hbacc', 'fragc', 'fmf', 'eccen', 'SP.0', 'SP.1', 'SP.2', 'SP.3', 'SP.4', 'SP.5', 'SP.6',\n",
    "               'SP.7', 'VP.0', 'VP.1', 'VP.2', 'VP.3', 'VP.4', 'VP.5', 'VP.6', 'VP.7', 'SPC.4', 'SPC.5', 'SPC.6', 'VPC.4', 'VPC.5',\n",
    "               'VPC.6', 'SC.3', 'SC.4', 'SC.5', 'SC.6', 'VC.3', 'VC.4', 'VC.5', 'VC.6', 'SCH.3', 'SCH.4', 'SCH.5', 'SCH.6', 'SCH.7',\n",
    "               'VCH.3', 'VCH.4', 'VCH.3', 'VCH.4', 'VCH.5', 'VCH.6', 'VCH.7', 'C1SP1', 'C2SP1', 'C1SP2', 'C2SP2', 'C3SP2', 'C1SP3',\n",
    "               'C2SP3', 'C3SP3', 'C4SP3', 'bpol', 'bond count', 'basic group count', 'atsp1', 'atsp2' , 'atsp3', 'atsp4', 'atsp5',\n",
    "               'atsm1', 'atsm2','atsm3','atsm4','atsm5', 'natom', 'apol','alogp', 'alogp2', 'amr', 'acid']]\n",
    "y = sensorama2_2['odor name']"
   ]
  },
  {
   "cell_type": "code",
   "execution_count": 151,
   "metadata": {},
   "outputs": [
    {
     "name": "stdout",
     "output_type": "stream",
     "text": [
      "Accuracy:  52.4390243902439 %\n"
     ]
    },
    {
     "data": {
      "image/png": "[encoded data removed]",
      "text/plain": [
       "<Figure size 432x288 with 2 Axes>"
      ]
     },
     "metadata": {
      "needs_background": "light"
     },
     "output_type": "display_data"
    }
   ],
   "source": [
    "X_train,X_test,y_train,y_test = train_test_split(X,y,test_size=0.25,random_state=0)\n",
    "sc_X = StandardScaler()\n",
    "X_train = sc_X.fit_transform(X_train)\n",
    "X_test = sc_X.transform(X_test)\n",
    "clf = RandomForestClassifier(n_estimators=100)\n",
    "clf.fit(X_train,y_train)\n",
    "y_pred=clf.predict(X_test)\n",
    "confusion_matrix = pd.crosstab(y_test, y_pred, rownames=['Actual'], colnames=['Predicted'])\n",
    "sns.heatmap(confusion_matrix, annot=True)\n",
    "print('Accuracy: ',metrics.accuracy_score(y_test, y_pred)*100,'%')\n",
    "plt.show()"
   ]
  },
  {
   "cell_type": "markdown",
   "metadata": {},
   "source": [
    "#### SUPPORT VECTOR MACHIN"
   ]
  },
  {
   "cell_type": "markdown",
   "metadata": {},
   "source": [
    "##### rbf Kernel "
   ]
  },
  {
   "cell_type": "code",
   "execution_count": 152,
   "metadata": {},
   "outputs": [
    {
     "name": "stdout",
     "output_type": "stream",
     "text": [
      "Accuracy: 48.78048780487805 %\n"
     ]
    }
   ],
   "source": [
    "X_tr, X_tst, y_tr, y_tst = train_test_split(X, y, test_size=25/100,random_state=109)\n",
    "clf = svm.SVC(kernel='rbf') # creating Support Vector Machine model\n",
    "clf.fit(X_tr, y_tr) # training the Model\n",
    "y_pr = clf.predict(X_tst) # making Predictions\n",
    "\n",
    "# Evaluating Prediction Accuracy\n",
    "print(\"Accuracy:\",metrics.accuracy_score(y_tst, y_pr)*100,\"%\")"
   ]
  },
  {
   "cell_type": "markdown",
   "metadata": {},
   "source": [
    "##### Polynomial Kernel "
   ]
  },
  {
   "cell_type": "code",
   "execution_count": 153,
   "metadata": {},
   "outputs": [
    {
     "name": "stdout",
     "output_type": "stream",
     "text": [
      "Accuracy: 44.51219512195122 %\n"
     ]
    }
   ],
   "source": [
    "X_tr, X_tst, y_tr, y_tst = train_test_split(X, y, test_size=25/100,random_state=109)\n",
    "clf = svm.SVC(kernel='poly') # Creating Support Vector Machine Model\n",
    "clf.fit(X_tr,y_tr) # fit classifier to training set\n",
    "y_pr = clf.predict(X_tst) # Making Predictions\n",
    "\n",
    "# Evaluating Prediction Accuracy\n",
    "print(\"Accuracy:\",metrics.accuracy_score(y_tst, y_pr)*100,\"%\")"
   ]
  },
  {
   "cell_type": "markdown",
   "metadata": {},
   "source": [
    "##### Sigmoid Kernel "
   ]
  },
  {
   "cell_type": "code",
   "execution_count": 154,
   "metadata": {},
   "outputs": [
    {
     "name": "stdout",
     "output_type": "stream",
     "text": [
      "Accuracy: 43.90243902439025 %\n"
     ]
    }
   ],
   "source": [
    "X_tr, X_tst, y_tr, y_tst = train_test_split(X, y, test_size=25/100,random_state=109)\n",
    "clf=svm.SVC(kernel='sigmoid') # instantiate classifier with sigmoid kernel\n",
    "clf.fit(X_tr,y_tr) # fit classifier to training set\n",
    "y_pr = clf.predict(X_tst) # Making Predictions\n",
    "\n",
    "# Evaluating Prediction Accuracy\n",
    "print(\"Accuracy:\",metrics.accuracy_score(y_tst, y_pr)*100,\"%\")"
   ]
  },
  {
   "cell_type": "markdown",
   "metadata": {},
   "source": [
    "#### DECISION TREE"
   ]
  },
  {
   "cell_type": "code",
   "execution_count": 155,
   "metadata": {},
   "outputs": [
    {
     "name": "stdout",
     "output_type": "stream",
     "text": [
      "Accuracy: 49.23857868020304 %\n"
     ]
    }
   ],
   "source": [
    "# Split dataset into training set and test set\n",
    "X_train, X_test, y_train, y_test = train_test_split(X, y, test_size=0.3, random_state=1) # 70% training and 30% test\n",
    "clf = DecisionTreeClassifier() # Create Decision Tree classifer object\n",
    "clf = clf.fit(X_train,y_train) # Train Decision Tree Classifer\n",
    "y_pred = clf.predict(X_test) # Predict the response for test dataset\n",
    "\n",
    "# how often is the classifier correct?\n",
    "print(\"Accuracy:\",metrics.accuracy_score(y_test, y_pred)*100,\"%\")"
   ]
  },
  {
   "cell_type": "markdown",
   "metadata": {},
   "source": [
    "#### LOGISTIC REGRESSION"
   ]
  },
  {
   "cell_type": "code",
   "execution_count": 156,
   "metadata": {},
   "outputs": [
    {
     "name": "stdout",
     "output_type": "stream",
     "text": [
      "Accuracy:  54.268292682926834 %\n"
     ]
    }
   ],
   "source": [
    "X_train,X_test,y_train,y_test = train_test_split(X,y,test_size=0.25,random_state=0)\n",
    "clf= LogisticRegression( max_iter=100000000)\n",
    "clf.fit(X_train,y_train)\n",
    "y_pred=clf.predict(X_test)\n",
    "print('Accuracy: ',metrics.accuracy_score(y_test, y_pred)*100,'%')"
   ]
  },
  {
   "cell_type": "markdown",
   "metadata": {},
   "source": [
    "#### K-Nearest Neighbor"
   ]
  },
  {
   "cell_type": "code",
   "execution_count": 158,
   "metadata": {},
   "outputs": [
    {
     "data": {
      "text/plain": [
       "Text(0, 0.5, 'Accuracy')"
      ]
     },
     "execution_count": 158,
     "metadata": {},
     "output_type": "execute_result"
    },
    {
     "data": {
      "image/png": "[encoded data removed]",
      "text/plain": [
       "<Figure size 864x432 with 1 Axes>"
      ]
     },
     "metadata": {
      "needs_background": "light"
     },
     "output_type": "display_data"
    }
   ],
   "source": [
    "# Split data into training and testing sets.\n",
    "X_train, X_test, y_train, y_test = train_test_split(X, y, random_state=42)\n",
    "accuracy=[]\n",
    "for i in range(1,21):\n",
    "    clf = KNeighborsClassifier(n_neighbors=i)\n",
    "    clf.fit(X_train, y_train)\n",
    "    ypred = clf.predict(X_test)\n",
    "    accuracy.append(metrics.accuracy_score(y_test, ypred))\n",
    "plt.figure(figsize=(12, 6))\n",
    "plt.plot(range(1, 21), accuracy, color='orange', linestyle='dashed', marker='o',\n",
    "         markerfacecolor='green', markersize=10)\n",
    "plt.title('Looking for the most accurate k value')\n",
    "plt.xlabel('K Value')\n",
    "plt.ylabel('Accuracy')"
   ]
  },
  {
   "cell_type": "code",
   "execution_count": 160,
   "metadata": {},
   "outputs": [
    {
     "name": "stdout",
     "output_type": "stream",
     "text": [
      "Accuracy: 50.0 %\n"
     ]
    }
   ],
   "source": [
    "clf = KNeighborsClassifier(n_neighbors=6)\n",
    "clf.fit(X_train, y_train)\n",
    "ypred = clf.predict(X_test)\n",
    "\n",
    "# Best accuracy\n",
    "print(\"Accuracy:\",metrics.accuracy_score(y_test, ypred)*100,\"%\")"
   ]
  },
  {
   "cell_type": "code",
   "execution_count": null,
   "metadata": {},
   "outputs": [],
   "source": []
  }
 ],
 "metadata": {
  "kernelspec": {
   "display_name": "Python 3",
   "language": "python",
   "name": "python3"
  },
  "language_info": {
   "codemirror_mode": {
    "name": "ipython",
    "version": 3
   },
   "file_extension": ".py",
   "mimetype": "text/x-python",
   "name": "python",
   "nbconvert_exporter": "python",
   "pygments_lexer": "ipython3",
   "version": "3.7.4"
  }
 },
 "nbformat": 4,
 "nbformat_minor": 2
}
