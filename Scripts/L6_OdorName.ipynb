{
 "cells": [
  {
   "cell_type": "code",
   "execution_count": 1,
   "metadata": {},
   "outputs": [],
   "source": [
    "# Importing libraries\n",
    "from sklearn.model_selection import GridSearchCV, train_test_split\n",
    "from sklearn.metrics import accuracy_score\n",
    "import pandas as pd\n",
    "import numpy as np\n",
    "import seaborn as sns\n",
    "from sklearn.tree import DecisionTreeClassifier \n",
    "import matplotlib.pyplot as plt\n",
    "from sklearn.model_selection import train_test_split\n",
    "from sklearn import metrics\n",
    "from sklearn import preprocessing\n",
    "from sklearn.ensemble import RandomForestClassifier\n",
    "from sklearn.naive_bayes import GaussianNB\n",
    "from sklearn import svm\n",
    "from sklearn.linear_model import LogisticRegression\n",
    "from sklearn.neighbors import KNeighborsClassifier\n",
    "from sklearn.decomposition import PCA\n",
    "from sklearn.pipeline import make_pipeline\n",
    "from sklearn.preprocessing import StandardScaler\n",
    "from sklearn.preprocessing import scale"
   ]
  },
  {
   "cell_type": "code",
   "execution_count": 2,
   "metadata": {},
   "outputs": [],
   "source": [
    "# Visualizing 6 decimals per value\n",
    "pd.set_option('display.float_format', lambda x: '%.6f' % x)\n",
    "\n",
    "# Reading data from csv\n",
    "def load_dataset(path):\n",
    "    dataset = pd.read_csv(path, header=0, delimiter=',')\n",
    "    return dataset\n",
    "\n",
    "sensorama = load_dataset('sensorama_df.csv')"
   ]
  },
  {
   "cell_type": "code",
   "execution_count": 3,
   "metadata": {},
   "outputs": [],
   "source": [
    "# Since odor name and canonical_smiles variables are strings, we change them to a numerical value\n",
    "label_encoder = preprocessing.LabelEncoder()\n",
    "label_encoder.fit(sensorama['canonical_smiles'])\n",
    "sensorama['canonical_smiles']= label_encoder.transform(sensorama['canonical_smiles'])\n",
    "label_encoder = preprocessing.LabelEncoder()\n",
    "label_encoder.fit(sensorama['odor name'])\n",
    "sensorama['odor name']= label_encoder.transform(sensorama['odor name'])"
   ]
  },
  {
   "cell_type": "code",
   "execution_count": 4,
   "metadata": {},
   "outputs": [],
   "source": [
    "# Normalizing function\n",
    "def standarize(x_train):\n",
    "    mean = x_train.mean()\n",
    "    std = x_train.std()\n",
    "    x_train -= mean\n",
    "    x_train /= std\n",
    "\n",
    "# Normalizing data\n",
    "s= sensorama.columns\n",
    "s=s.drop(['odor level', 'cid','canonical_smiles', 'odor name'])\n",
    "for c in s:\n",
    "    standarize(sensorama[c])\n",
    "# After normalizing the data, we have NaNs values, so we change them to 0\n",
    "sensorama=sensorama.fillna(0)"
   ]
  },
  {
   "cell_type": "code",
   "execution_count": 5,
   "metadata": {},
   "outputs": [],
   "source": [
    "# Creating a new dataframe with only those molecules of odor level = 4\n",
    "sensorama_6 = []\n",
    "for i in range (0,17994):\n",
    "    if sensorama.loc[i,'odor level'] == 6:\n",
    "        sensorama_6.append(sensorama.loc[i,:])\n",
    "sensorama_6 = pd.DataFrame(sensorama_6)"
   ]
  },
  {
   "cell_type": "code",
   "execution_count": 6,
   "metadata": {},
   "outputs": [],
   "source": [
    "X = sensorama_6[[ 'xlogp','fsp3', 'small rings','arom rings','ring blocks','arom blocks','rings 3','rings 4', 'rings 5', 'rings 6',\n",
    "               'rings 7', 'rings 8', 'rings 9', 'tpsa efficiency', 'zagreb indices', 'weiner path', 'weiner polarity', 'wtpt.1',\n",
    "               'wtpt.2', 'wtpt.3', 'wtpt.4', 'wtpt.5', 'molecular weight', 'VAdjMat', 'topoPSA', 'lipinski failures', 'rotatable bonds',\n",
    "               'topo shape', 'petitjean number', 'mdec.11', 'mdec.12', 'mdec.13', 'mdec.14', 'mdec.22', 'mdec.23', 'mdec.24',\n",
    "               'mdec.33', 'mdec.34', 'mdec.44', 'mdeo.11', 'mdeo.12', 'mdeo.22', 'mden.11', 'mden.12', 'mden.13', 'mden.22',\n",
    "               'mden.23', 'mden.33', 'mlogp', 'atom p', 'atom lc', 'khs.sli', 'khs.ssbe', 'khs.ssssbe', 'khs.ssbh', 'khs.sssb',\n",
    "               'khs.ssssb', 'khs.sch3', 'khs.dch2', 'khs.ssch2', 'khs.tch', 'khs.dsch', 'khs.aach', 'khs.sssch', 'khs.ddc',\n",
    "               'khs.tsc', 'khs.dssc', 'khs.aasc', 'khs.aaac', 'khs.ssssc', 'khs.snh3', 'khs.snh2', 'khs.ssnh', 'khs.dnh', 'khs.ssnh.1',\n",
    "               'khs.aanh', 'khs.tn', 'khs.sssnh', 'khs.dsn', 'khs.aan', 'khs.sssn', 'khs.dsn.1', 'khs.aasn', 'khs.ssssn', 'khs.soh',\n",
    "               'khs.do', 'khs.sso', 'khs.aao', 'khs.sf', 'khs.ssih3', 'khs.sssih2', 'khs.ssssih', 'khs.sssssi', 'khs.sph2',\n",
    "               'khs.ssph', 'khs.sssp', 'khs.dsssp', 'khs.sssssp', 'khs.ssh', 'khs.ds', 'khs.sss', 'khs.aas', 'khs.dsss', 'khs.ddsss',\n",
    "               'khs.scl', 'khs.sGeH3', 'khs.ssGeH2', 'khs.sssGeH', 'khs.ssssGe', 'khs.sash2', 'khs.ssash', 'khs.sssas', 'khs.sssdas',\n",
    "               'khs.sssssas', 'khs.sseh', 'khs.dse', 'khs.ssse', 'khs.aase', 'khs.dssse', 'khs.ddssse', 'khs.sbr', 'khs.ssnh3', \n",
    "               'khs.sssnh2', 'khs.ssssnh', 'khs.sssssn', 'khs.si', 'khs.spbh3', 'khs.sspbh2', 'khs.ssspbh', 'khs.sssspb', 'kier 1',\n",
    "               'kier 2', 'hybRatio', 'hbdon', 'hbacc', 'fragc', 'fmf', 'eccen', 'SP.0', 'SP.1', 'SP.2', 'SP.3', 'SP.4', 'SP.5', 'SP.6',\n",
    "               'SP.7', 'VP.0', 'VP.1', 'VP.2', 'VP.3', 'VP.4', 'VP.5', 'VP.6', 'VP.7', 'SPC.4', 'SPC.5', 'SPC.6', 'VPC.4', 'VPC.5',\n",
    "               'VPC.6', 'SC.3', 'SC.4', 'SC.5', 'SC.6', 'VC.3', 'VC.4', 'VC.5', 'VC.6', 'SCH.3', 'SCH.4', 'SCH.5', 'SCH.6', 'SCH.7',\n",
    "               'VCH.3', 'VCH.4', 'VCH.3', 'VCH.4', 'VCH.5', 'VCH.6', 'VCH.7', 'C1SP1', 'C2SP1', 'C1SP2', 'C2SP2', 'C3SP2', 'C1SP3',\n",
    "               'C2SP3', 'C3SP3', 'C4SP3', 'bpol', 'bond count', 'basic group count', 'atsp1', 'atsp2' , 'atsp3', 'atsp4', 'atsp5',\n",
    "               'atsm1', 'atsm2','atsm3','atsm4','atsm5', 'natom','arom bond', 'arom atom', 'apol','alogp', 'alogp2', 'amr', 'acid']]\n",
    "y = sensorama_6['odor name']"
   ]
  },
  {
   "cell_type": "markdown",
   "metadata": {},
   "source": [
    "### ALL ODOR NAMES "
   ]
  },
  {
   "cell_type": "markdown",
   "metadata": {},
   "source": [
    "#### RANDOM FOREST"
   ]
  },
  {
   "cell_type": "code",
   "execution_count": 7,
   "metadata": {},
   "outputs": [
    {
     "name": "stdout",
     "output_type": "stream",
     "text": [
      "Accuracy:  3.7151702786377707 %\n"
     ]
    },
    {
     "data": {
      "image/png": "[encoded data removed]",
      "text/plain": [
       "<Figure size 432x288 with 2 Axes>"
      ]
     },
     "metadata": {
      "needs_background": "light"
     },
     "output_type": "display_data"
    }
   ],
   "source": [
    "X_train,X_test,y_train,y_test = train_test_split(X,y,test_size=0.25,random_state=0)\n",
    "sc_X = StandardScaler()\n",
    "X_train = sc_X.fit_transform(X_train)\n",
    "X_test = sc_X.transform(X_test)\n",
    "clf = RandomForestClassifier(n_estimators=100)\n",
    "clf.fit(X_train,y_train)\n",
    "y_pred=clf.predict(X_test)\n",
    "confusion_matrix = pd.crosstab(y_test, y_pred, rownames=['Actual'], colnames=['Predicted'])\n",
    "sns.heatmap(confusion_matrix, annot=True)\n",
    "print('Accuracy: ',metrics.accuracy_score(y_test, y_pred)*100,'%')\n",
    "plt.show()"
   ]
  },
  {
   "cell_type": "markdown",
   "metadata": {},
   "source": [
    "##### Feature Importances "
   ]
  },
  {
   "cell_type": "code",
   "execution_count": 8,
   "metadata": {},
   "outputs": [
    {
     "data": {
      "image/png": "[encoded data removed]",
      "text/plain": [
       "<Figure size 432x288 with 1 Axes>"
      ]
     },
     "metadata": {
      "needs_background": "light"
     },
     "output_type": "display_data"
    }
   ],
   "source": [
    "featureImportances = pd.Series(clf.feature_importances_).sort_values(ascending=False)\n",
    "sns.barplot(x=round(featureImportances,8), y=featureImportances)\n",
    "plt.xlabel('Features Importance')\n",
    "plt.show()"
   ]
  },
  {
   "cell_type": "code",
   "execution_count": 9,
   "metadata": {},
   "outputs": [],
   "source": [
    "X = sensorama_6[[ 'xlogp','fsp3', 'small rings','arom rings','ring blocks','arom blocks','rings 3','rings 4', 'rings 5', 'rings 6',\n",
    "               'rings 7','tpsa efficiency', 'zagreb indices', 'weiner path', 'weiner polarity', 'wtpt.1',\n",
    "               'wtpt.2', 'wtpt.3', 'wtpt.4', 'wtpt.5', 'molecular weight', 'VAdjMat', 'topoPSA', 'lipinski failures', 'rotatable bonds',\n",
    "               'topo shape', 'petitjean number', 'mdec.11', 'mdec.12', 'mdec.13', 'mdec.14', 'mdec.22', 'mdec.23', 'mdec.24',\n",
    "               'mdec.33', 'mdec.34', 'mdec.44', 'mdeo.11', 'mdeo.12', 'mdeo.22', 'mden.11', 'mden.12','mden.22',\n",
    "               'mden.23', 'mden.33', 'mlogp', 'atom p', 'atom lc', \n",
    "                 'khs.sch3', 'khs.dch2', 'khs.ssch2', 'khs.tch', 'khs.dsch', 'khs.aach', 'khs.sssch', 'khs.ddc',\n",
    "               'khs.tsc', 'khs.dssc', 'khs.aasc', 'khs.aaac', 'khs.ssssc', 'khs.snh2', 'khs.ssnh.1',\n",
    "               'khs.aanh', 'khs.tn','khs.dsn', 'khs.aan', 'khs.sssn', 'khs.dsn.1', 'khs.aasn','khs.soh',\n",
    "               'khs.do', 'khs.sso', 'khs.aao', 'khs.sf', 'khs.ssih3', \n",
    "                 'khs.ssh', 'khs.ds', 'khs.sss', 'khs.aas', 'khs.dsss', 'khs.ddsss',\n",
    "               'khs.scl',\n",
    "               'kier 1',\n",
    "               'kier 2', 'hybRatio', 'hbdon', 'hbacc', 'fragc', 'fmf', 'eccen', 'SP.0', 'SP.1', 'SP.2', 'SP.3', 'SP.4', 'SP.5', 'SP.6',\n",
    "               'SP.7', 'VP.0', 'VP.1', 'VP.2', 'VP.3', 'VP.4', 'VP.5', 'VP.6', 'VP.7', 'SPC.4', 'SPC.5', 'SPC.6', 'VPC.4', 'VPC.5',\n",
    "               'VPC.6', 'SC.3', 'SC.4', 'SC.5', 'SC.6', 'VC.3', 'VC.4', 'VC.5', 'VC.6', 'SCH.3', 'SCH.4', 'SCH.5', 'SCH.6', 'SCH.7',\n",
    "               'VCH.3', 'VCH.4', 'VCH.3', 'VCH.4', 'VCH.5', 'VCH.6', 'VCH.7', 'C1SP1', 'C2SP1', 'C1SP2', 'C2SP2', 'C3SP2', 'C1SP3',\n",
    "               'C2SP3', 'C3SP3', 'C4SP3', 'bpol', 'bond count', 'basic group count', 'atsp1', 'atsp2' , 'atsp3', 'atsp4', 'atsp5',\n",
    "               'atsm1', 'atsm2','atsm3','atsm4','atsm5', 'natom', 'apol','alogp', 'alogp2', 'amr', 'acid']]\n",
    "y = sensorama_6['odor name']"
   ]
  },
  {
   "cell_type": "code",
   "execution_count": 10,
   "metadata": {},
   "outputs": [
    {
     "name": "stdout",
     "output_type": "stream",
     "text": [
      "Accuracy:  3.7151702786377707 %\n"
     ]
    },
    {
     "data": {
      "image/png": "[encoded data removed]",
      "text/plain": [
       "<Figure size 432x288 with 2 Axes>"
      ]
     },
     "metadata": {
      "needs_background": "light"
     },
     "output_type": "display_data"
    }
   ],
   "source": [
    "X_train,X_test,y_train,y_test = train_test_split(X,y,test_size=0.25,random_state=0)\n",
    "sc_X = StandardScaler()\n",
    "X_train = sc_X.fit_transform(X_train)\n",
    "X_test = sc_X.transform(X_test)\n",
    "clf = RandomForestClassifier(n_estimators=100)\n",
    "clf.fit(X_train,y_train)\n",
    "y_pred=clf.predict(X_test)\n",
    "confusion_matrix = pd.crosstab(y_test, y_pred, rownames=['Actual'], colnames=['Predicted'])\n",
    "sns.heatmap(confusion_matrix, annot=True)\n",
    "print('Accuracy: ',metrics.accuracy_score(y_test, y_pred)*100,'%')\n",
    "plt.show()"
   ]
  },
  {
   "cell_type": "markdown",
   "metadata": {},
   "source": [
    "#### SUPPORT VECTOR MACHINE "
   ]
  },
  {
   "cell_type": "markdown",
   "metadata": {},
   "source": [
    "##### rbf Kernel "
   ]
  },
  {
   "cell_type": "code",
   "execution_count": 11,
   "metadata": {},
   "outputs": [
    {
     "name": "stdout",
     "output_type": "stream",
     "text": [
      "Accuracy: 4.3343653250774 %\n"
     ]
    }
   ],
   "source": [
    "X_tr, X_tst, y_tr, y_tst = train_test_split(X, y, test_size=25/100,random_state=109)\n",
    "clf = svm.SVC(kernel='rbf') # creating Support Vector Machine model\n",
    "clf.fit(X_tr, y_tr) # training the Model\n",
    "y_pr = clf.predict(X_tst) # making Predictions\n",
    "\n",
    "# Evaluating Prediction Accuracy\n",
    "print(\"Accuracy:\",metrics.accuracy_score(y_tst, y_pr)*100,\"%\")"
   ]
  },
  {
   "cell_type": "markdown",
   "metadata": {},
   "source": [
    "##### Polynomial Kernel\n"
   ]
  },
  {
   "cell_type": "code",
   "execution_count": 12,
   "metadata": {},
   "outputs": [
    {
     "name": "stdout",
     "output_type": "stream",
     "text": [
      "Accuracy: 4.024767801857585 %\n"
     ]
    }
   ],
   "source": [
    "X_tr, X_tst, y_tr, y_tst = train_test_split(X, y, test_size=25/100,random_state=109)\n",
    "clf = svm.SVC(kernel='poly') # Creating Support Vector Machine Model\n",
    "clf.fit(X_tr,y_tr) # fit classifier to training set\n",
    "y_pr = clf.predict(X_tst) # Making Predictions\n",
    "\n",
    "# Evaluating Prediction Accuracy\n",
    "print(\"Accuracy:\",metrics.accuracy_score(y_tst, y_pr)*100,\"%\")"
   ]
  },
  {
   "cell_type": "markdown",
   "metadata": {},
   "source": [
    "##### Sigmoid Kernel "
   ]
  },
  {
   "cell_type": "code",
   "execution_count": 13,
   "metadata": {},
   "outputs": [
    {
     "name": "stdout",
     "output_type": "stream",
     "text": [
      "Accuracy: 3.7151702786377707 %\n"
     ]
    }
   ],
   "source": [
    "X_tr, X_tst, y_tr, y_tst = train_test_split(X, y, test_size=25/100,random_state=109)\n",
    "clf=svm.SVC(kernel='sigmoid') # instantiate classifier with sigmoid kernel\n",
    "clf.fit(X_tr,y_tr) # fit classifier to training set\n",
    "y_pr = clf.predict(X_tst) # Making Predictions\n",
    "\n",
    "# Evaluating Prediction Accuracy\n",
    "print(\"Accuracy:\",metrics.accuracy_score(y_tst, y_pr)*100,\"%\")"
   ]
  },
  {
   "cell_type": "markdown",
   "metadata": {},
   "source": [
    "#### DECISION TREE"
   ]
  },
  {
   "cell_type": "code",
   "execution_count": 14,
   "metadata": {},
   "outputs": [
    {
     "name": "stdout",
     "output_type": "stream",
     "text": [
      "Accuracy: 3.359173126614987 %\n"
     ]
    }
   ],
   "source": [
    "# Split dataset into training set and test set\n",
    "X_train, X_test, y_train, y_test = train_test_split(X, y, test_size=0.3, random_state=1) # 70% training and 30% test\n",
    "clf = DecisionTreeClassifier() # Create Decision Tree classifer object\n",
    "clf = clf.fit(X_train,y_train) # Train Decision Tree Classifer\n",
    "y_pred = clf.predict(X_test) # Predict the response for test dataset\n",
    "\n",
    "# how often is the classifier correct?\n",
    "print(\"Accuracy:\",metrics.accuracy_score(y_test, y_pred)*100,\"%\")"
   ]
  },
  {
   "cell_type": "markdown",
   "metadata": {},
   "source": [
    "#### LOGISTIC REGRESSION "
   ]
  },
  {
   "cell_type": "code",
   "execution_count": 15,
   "metadata": {},
   "outputs": [
    {
     "name": "stdout",
     "output_type": "stream",
     "text": [
      "Accuracy:  5.263157894736842 %\n"
     ]
    }
   ],
   "source": [
    "X_train,X_test,y_train,y_test = train_test_split(X,y,test_size=0.25,random_state=0)\n",
    "clf= LogisticRegression( max_iter=100000000)\n",
    "clf.fit(X_train,y_train)\n",
    "y_pred=clf.predict(X_test)\n",
    "print('Accuracy: ',metrics.accuracy_score(y_test, y_pred)*100,'%')"
   ]
  },
  {
   "cell_type": "markdown",
   "metadata": {},
   "source": [
    "#### K-Nearest Neighbor "
   ]
  },
  {
   "cell_type": "code",
   "execution_count": 16,
   "metadata": {},
   "outputs": [
    {
     "data": {
      "text/plain": [
       "Text(0, 0.5, 'Accuracy')"
      ]
     },
     "execution_count": 16,
     "metadata": {},
     "output_type": "execute_result"
    },
    {
     "data": {
      "image/png": "[encoded data removed]",
      "text/plain": [
       "<Figure size 864x432 with 1 Axes>"
      ]
     },
     "metadata": {
      "needs_background": "light"
     },
     "output_type": "display_data"
    }
   ],
   "source": [
    "# Split data into training and testing sets.\n",
    "X_train, X_test, y_train, y_test = train_test_split(X, y, random_state=42)\n",
    "accuracy=[]\n",
    "for i in range(1,21):\n",
    "    clf = KNeighborsClassifier(n_neighbors=i)\n",
    "    clf.fit(X_train, y_train)\n",
    "    ypred = clf.predict(X_test)\n",
    "    accuracy.append(metrics.accuracy_score(y_test, ypred))\n",
    "plt.figure(figsize=(12, 6))\n",
    "plt.plot(range(1, 21), accuracy, color='orange', linestyle='dashed', marker='o',\n",
    "         markerfacecolor='green', markersize=10)\n",
    "plt.title('Looking for the most accurate k value')\n",
    "plt.xlabel('K Value')\n",
    "plt.ylabel('Accuracy')"
   ]
  },
  {
   "cell_type": "code",
   "execution_count": 17,
   "metadata": {
    "scrolled": true
   },
   "outputs": [
    {
     "name": "stdout",
     "output_type": "stream",
     "text": [
      "Accuracy: 4.024767801857585 %\n"
     ]
    }
   ],
   "source": [
    "clf = KNeighborsClassifier(n_neighbors=16)\n",
    "clf.fit(X_train, y_train)\n",
    "ypred = clf.predict(X_test)\n",
    "\n",
    "# Best accuracy\n",
    "print(\"Accuracy:\",metrics.accuracy_score(y_test, ypred)*100,\"%\")"
   ]
  },
  {
   "cell_type": "markdown",
   "metadata": {},
   "source": [
    "### 25 MOST COMMON ODOR NAMES "
   ]
  },
  {
   "cell_type": "code",
   "execution_count": 20,
   "metadata": {},
   "outputs": [],
   "source": [
    "sensorama_6 = sensorama_6.sort_values('odor name')"
   ]
  },
  {
   "cell_type": "code",
   "execution_count": 23,
   "metadata": {},
   "outputs": [
    {
     "data": {
      "text/html": [
       "<div>\n",
       "<style scoped>\n",
       "    .dataframe tbody tr th:only-of-type {\n",
       "        vertical-align: middle;\n",
       "    }\n",
       "\n",
       "    .dataframe tbody tr th {\n",
       "        vertical-align: top;\n",
       "    }\n",
       "\n",
       "    .dataframe thead th {\n",
       "        text-align: right;\n",
       "    }\n",
       "</style>\n",
       "<table border=\"1\" class=\"dataframe\">\n",
       "  <thead>\n",
       "    <tr style=\"text-align: right;\">\n",
       "      <th></th>\n",
       "      <th>cid</th>\n",
       "      <th>canonical_smiles</th>\n",
       "      <th>xlogp</th>\n",
       "      <th>odor level</th>\n",
       "      <th>odor name</th>\n",
       "      <th>fsp3</th>\n",
       "      <th>small rings</th>\n",
       "      <th>arom rings</th>\n",
       "      <th>ring blocks</th>\n",
       "      <th>arom blocks</th>\n",
       "      <th>...</th>\n",
       "      <th>atsm4</th>\n",
       "      <th>atsm5</th>\n",
       "      <th>natom</th>\n",
       "      <th>arom bond</th>\n",
       "      <th>arom atom</th>\n",
       "      <th>apol</th>\n",
       "      <th>alogp</th>\n",
       "      <th>alogp2</th>\n",
       "      <th>amr</th>\n",
       "      <th>acid</th>\n",
       "    </tr>\n",
       "  </thead>\n",
       "  <tbody>\n",
       "    <tr>\n",
       "      <td>17037</td>\n",
       "      <td>11138191.000000</td>\n",
       "      <td>254.000000</td>\n",
       "      <td>-0.139908</td>\n",
       "      <td>6.000000</td>\n",
       "      <td>9.000000</td>\n",
       "      <td>-1.455407</td>\n",
       "      <td>1.278317</td>\n",
       "      <td>1.183366</td>\n",
       "      <td>0.632666</td>\n",
       "      <td>1.285620</td>\n",
       "      <td>...</td>\n",
       "      <td>1.727729</td>\n",
       "      <td>0.864950</td>\n",
       "      <td>-0.198182</td>\n",
       "      <td>0.000000</td>\n",
       "      <td>0.000000</td>\n",
       "      <td>0.041410</td>\n",
       "      <td>-1.054699</td>\n",
       "      <td>-0.781656</td>\n",
       "      <td>0.575923</td>\n",
       "      <td>-0.161598</td>\n",
       "    </tr>\n",
       "    <tr>\n",
       "      <td>9871</td>\n",
       "      <td>106735.000000</td>\n",
       "      <td>1515.000000</td>\n",
       "      <td>-0.626545</td>\n",
       "      <td>6.000000</td>\n",
       "      <td>9.000000</td>\n",
       "      <td>0.229345</td>\n",
       "      <td>0.200130</td>\n",
       "      <td>-0.631781</td>\n",
       "      <td>0.632666</td>\n",
       "      <td>-0.644741</td>\n",
       "      <td>...</td>\n",
       "      <td>0.117392</td>\n",
       "      <td>-0.095721</td>\n",
       "      <td>-0.198182</td>\n",
       "      <td>0.000000</td>\n",
       "      <td>0.000000</td>\n",
       "      <td>-0.212547</td>\n",
       "      <td>0.000224</td>\n",
       "      <td>-0.224922</td>\n",
       "      <td>-0.322537</td>\n",
       "      <td>-0.161598</td>\n",
       "    </tr>\n",
       "    <tr>\n",
       "      <td>4714</td>\n",
       "      <td>22386.000000</td>\n",
       "      <td>2242.000000</td>\n",
       "      <td>-1.113183</td>\n",
       "      <td>6.000000</td>\n",
       "      <td>25.000000</td>\n",
       "      <td>1.352513</td>\n",
       "      <td>-0.878056</td>\n",
       "      <td>-0.631781</td>\n",
       "      <td>-1.106175</td>\n",
       "      <td>-0.644741</td>\n",
       "      <td>...</td>\n",
       "      <td>-1.586967</td>\n",
       "      <td>-1.344700</td>\n",
       "      <td>-1.153159</td>\n",
       "      <td>0.000000</td>\n",
       "      <td>0.000000</td>\n",
       "      <td>-1.397896</td>\n",
       "      <td>-0.763870</td>\n",
       "      <td>-0.678199</td>\n",
       "      <td>-1.687644</td>\n",
       "      <td>-0.161598</td>\n",
       "    </tr>\n",
       "    <tr>\n",
       "      <td>13208</td>\n",
       "      <td>2733294.000000</td>\n",
       "      <td>2322.000000</td>\n",
       "      <td>-0.557026</td>\n",
       "      <td>6.000000</td>\n",
       "      <td>25.000000</td>\n",
       "      <td>-0.051447</td>\n",
       "      <td>-0.878056</td>\n",
       "      <td>-0.631781</td>\n",
       "      <td>-1.106175</td>\n",
       "      <td>-0.644741</td>\n",
       "      <td>...</td>\n",
       "      <td>-0.988249</td>\n",
       "      <td>-0.720210</td>\n",
       "      <td>-0.516508</td>\n",
       "      <td>0.000000</td>\n",
       "      <td>0.000000</td>\n",
       "      <td>-0.631355</td>\n",
       "      <td>-0.344455</td>\n",
       "      <td>-0.461940</td>\n",
       "      <td>-0.712847</td>\n",
       "      <td>-0.161598</td>\n",
       "    </tr>\n",
       "    <tr>\n",
       "      <td>12970</td>\n",
       "      <td>643941.000000</td>\n",
       "      <td>2109.000000</td>\n",
       "      <td>-1.182702</td>\n",
       "      <td>6.000000</td>\n",
       "      <td>25.000000</td>\n",
       "      <td>-0.519433</td>\n",
       "      <td>-0.878056</td>\n",
       "      <td>-0.631781</td>\n",
       "      <td>-1.106175</td>\n",
       "      <td>-0.644741</td>\n",
       "      <td>...</td>\n",
       "      <td>-1.448762</td>\n",
       "      <td>-1.200546</td>\n",
       "      <td>-1.259267</td>\n",
       "      <td>0.000000</td>\n",
       "      <td>0.000000</td>\n",
       "      <td>-1.353819</td>\n",
       "      <td>-0.722095</td>\n",
       "      <td>-0.660204</td>\n",
       "      <td>-1.379331</td>\n",
       "      <td>-0.161598</td>\n",
       "    </tr>\n",
       "    <tr>\n",
       "      <td>...</td>\n",
       "      <td>...</td>\n",
       "      <td>...</td>\n",
       "      <td>...</td>\n",
       "      <td>...</td>\n",
       "      <td>...</td>\n",
       "      <td>...</td>\n",
       "      <td>...</td>\n",
       "      <td>...</td>\n",
       "      <td>...</td>\n",
       "      <td>...</td>\n",
       "      <td>...</td>\n",
       "      <td>...</td>\n",
       "      <td>...</td>\n",
       "      <td>...</td>\n",
       "      <td>...</td>\n",
       "      <td>...</td>\n",
       "      <td>...</td>\n",
       "      <td>...</td>\n",
       "      <td>...</td>\n",
       "      <td>...</td>\n",
       "      <td>...</td>\n",
       "    </tr>\n",
       "    <tr>\n",
       "      <td>15171</td>\n",
       "      <td>5372174.000000</td>\n",
       "      <td>1409.000000</td>\n",
       "      <td>0.346729</td>\n",
       "      <td>6.000000</td>\n",
       "      <td>494.000000</td>\n",
       "      <td>0.015569</td>\n",
       "      <td>0.200130</td>\n",
       "      <td>-0.631781</td>\n",
       "      <td>0.632666</td>\n",
       "      <td>-0.644741</td>\n",
       "      <td>...</td>\n",
       "      <td>1.084827</td>\n",
       "      <td>0.817610</td>\n",
       "      <td>0.862903</td>\n",
       "      <td>0.000000</td>\n",
       "      <td>0.000000</td>\n",
       "      <td>0.928716</td>\n",
       "      <td>0.706513</td>\n",
       "      <td>0.427834</td>\n",
       "      <td>0.922565</td>\n",
       "      <td>-0.161598</td>\n",
       "    </tr>\n",
       "    <tr>\n",
       "      <td>11364</td>\n",
       "      <td>174490.000000</td>\n",
       "      <td>664.000000</td>\n",
       "      <td>1.041924</td>\n",
       "      <td>6.000000</td>\n",
       "      <td>494.000000</td>\n",
       "      <td>1.085199</td>\n",
       "      <td>2.356503</td>\n",
       "      <td>-0.631781</td>\n",
       "      <td>0.632666</td>\n",
       "      <td>-0.644741</td>\n",
       "      <td>...</td>\n",
       "      <td>2.097124</td>\n",
       "      <td>0.432488</td>\n",
       "      <td>1.181228</td>\n",
       "      <td>0.000000</td>\n",
       "      <td>0.000000</td>\n",
       "      <td>1.149470</td>\n",
       "      <td>0.718101</td>\n",
       "      <td>0.440420</td>\n",
       "      <td>0.740735</td>\n",
       "      <td>-0.161598</td>\n",
       "    </tr>\n",
       "    <tr>\n",
       "      <td>2121</td>\n",
       "      <td>8294.000000</td>\n",
       "      <td>414.000000</td>\n",
       "      <td>0.346729</td>\n",
       "      <td>6.000000</td>\n",
       "      <td>494.000000</td>\n",
       "      <td>-0.207567</td>\n",
       "      <td>-0.878056</td>\n",
       "      <td>-0.631781</td>\n",
       "      <td>-1.106175</td>\n",
       "      <td>-0.644741</td>\n",
       "      <td>...</td>\n",
       "      <td>0.163289</td>\n",
       "      <td>0.672923</td>\n",
       "      <td>0.544577</td>\n",
       "      <td>0.000000</td>\n",
       "      <td>0.000000</td>\n",
       "      <td>0.509918</td>\n",
       "      <td>0.461831</td>\n",
       "      <td>0.176269</td>\n",
       "      <td>0.458751</td>\n",
       "      <td>-0.161598</td>\n",
       "    </tr>\n",
       "    <tr>\n",
       "      <td>15141</td>\n",
       "      <td>5371084.000000</td>\n",
       "      <td>1834.000000</td>\n",
       "      <td>0.416248</td>\n",
       "      <td>6.000000</td>\n",
       "      <td>494.000000</td>\n",
       "      <td>0.015569</td>\n",
       "      <td>0.200130</td>\n",
       "      <td>-0.631781</td>\n",
       "      <td>0.632666</td>\n",
       "      <td>-0.644741</td>\n",
       "      <td>...</td>\n",
       "      <td>0.946622</td>\n",
       "      <td>0.673456</td>\n",
       "      <td>0.862903</td>\n",
       "      <td>0.000000</td>\n",
       "      <td>0.000000</td>\n",
       "      <td>0.928716</td>\n",
       "      <td>0.859526</td>\n",
       "      <td>0.598847</td>\n",
       "      <td>0.945132</td>\n",
       "      <td>-0.161598</td>\n",
       "    </tr>\n",
       "    <tr>\n",
       "      <td>2403</td>\n",
       "      <td>8858.000000</td>\n",
       "      <td>338.000000</td>\n",
       "      <td>-0.974143</td>\n",
       "      <td>6.000000</td>\n",
       "      <td>494.000000</td>\n",
       "      <td>-0.519433</td>\n",
       "      <td>-0.878056</td>\n",
       "      <td>-0.631781</td>\n",
       "      <td>-1.106175</td>\n",
       "      <td>-0.644741</td>\n",
       "      <td>...</td>\n",
       "      <td>-1.448762</td>\n",
       "      <td>-1.008518</td>\n",
       "      <td>-1.259267</td>\n",
       "      <td>0.000000</td>\n",
       "      <td>0.000000</td>\n",
       "      <td>-1.353819</td>\n",
       "      <td>-0.795722</td>\n",
       "      <td>-0.691380</td>\n",
       "      <td>-1.404960</td>\n",
       "      <td>-0.161598</td>\n",
       "    </tr>\n",
       "  </tbody>\n",
       "</table>\n",
       "<p>393 rows × 212 columns</p>\n",
       "</div>"
      ],
      "text/plain": [
       "                  cid  canonical_smiles     xlogp  odor level  odor name  \\\n",
       "17037 11138191.000000        254.000000 -0.139908    6.000000   9.000000   \n",
       "9871    106735.000000       1515.000000 -0.626545    6.000000   9.000000   \n",
       "4714     22386.000000       2242.000000 -1.113183    6.000000  25.000000   \n",
       "13208  2733294.000000       2322.000000 -0.557026    6.000000  25.000000   \n",
       "12970   643941.000000       2109.000000 -1.182702    6.000000  25.000000   \n",
       "...               ...               ...       ...         ...        ...   \n",
       "15171  5372174.000000       1409.000000  0.346729    6.000000 494.000000   \n",
       "11364   174490.000000        664.000000  1.041924    6.000000 494.000000   \n",
       "2121      8294.000000        414.000000  0.346729    6.000000 494.000000   \n",
       "15141  5371084.000000       1834.000000  0.416248    6.000000 494.000000   \n",
       "2403      8858.000000        338.000000 -0.974143    6.000000 494.000000   \n",
       "\n",
       "           fsp3  small rings  arom rings  ring blocks  arom blocks  ...  \\\n",
       "17037 -1.455407     1.278317    1.183366     0.632666     1.285620  ...   \n",
       "9871   0.229345     0.200130   -0.631781     0.632666    -0.644741  ...   \n",
       "4714   1.352513    -0.878056   -0.631781    -1.106175    -0.644741  ...   \n",
       "13208 -0.051447    -0.878056   -0.631781    -1.106175    -0.644741  ...   \n",
       "12970 -0.519433    -0.878056   -0.631781    -1.106175    -0.644741  ...   \n",
       "...         ...          ...         ...          ...          ...  ...   \n",
       "15171  0.015569     0.200130   -0.631781     0.632666    -0.644741  ...   \n",
       "11364  1.085199     2.356503   -0.631781     0.632666    -0.644741  ...   \n",
       "2121  -0.207567    -0.878056   -0.631781    -1.106175    -0.644741  ...   \n",
       "15141  0.015569     0.200130   -0.631781     0.632666    -0.644741  ...   \n",
       "2403  -0.519433    -0.878056   -0.631781    -1.106175    -0.644741  ...   \n",
       "\n",
       "          atsm4     atsm5     natom  arom bond  arom atom      apol     alogp  \\\n",
       "17037  1.727729  0.864950 -0.198182   0.000000   0.000000  0.041410 -1.054699   \n",
       "9871   0.117392 -0.095721 -0.198182   0.000000   0.000000 -0.212547  0.000224   \n",
       "4714  -1.586967 -1.344700 -1.153159   0.000000   0.000000 -1.397896 -0.763870   \n",
       "13208 -0.988249 -0.720210 -0.516508   0.000000   0.000000 -0.631355 -0.344455   \n",
       "12970 -1.448762 -1.200546 -1.259267   0.000000   0.000000 -1.353819 -0.722095   \n",
       "...         ...       ...       ...        ...        ...       ...       ...   \n",
       "15171  1.084827  0.817610  0.862903   0.000000   0.000000  0.928716  0.706513   \n",
       "11364  2.097124  0.432488  1.181228   0.000000   0.000000  1.149470  0.718101   \n",
       "2121   0.163289  0.672923  0.544577   0.000000   0.000000  0.509918  0.461831   \n",
       "15141  0.946622  0.673456  0.862903   0.000000   0.000000  0.928716  0.859526   \n",
       "2403  -1.448762 -1.008518 -1.259267   0.000000   0.000000 -1.353819 -0.795722   \n",
       "\n",
       "         alogp2       amr      acid  \n",
       "17037 -0.781656  0.575923 -0.161598  \n",
       "9871  -0.224922 -0.322537 -0.161598  \n",
       "4714  -0.678199 -1.687644 -0.161598  \n",
       "13208 -0.461940 -0.712847 -0.161598  \n",
       "12970 -0.660204 -1.379331 -0.161598  \n",
       "...         ...       ...       ...  \n",
       "15171  0.427834  0.922565 -0.161598  \n",
       "11364  0.440420  0.740735 -0.161598  \n",
       "2121   0.176269  0.458751 -0.161598  \n",
       "15141  0.598847  0.945132 -0.161598  \n",
       "2403  -0.691380 -1.404960 -0.161598  \n",
       "\n",
       "[393 rows x 212 columns]"
      ]
     },
     "execution_count": 23,
     "metadata": {},
     "output_type": "execute_result"
    }
   ],
   "source": [
    "sensorama2_6=[]\n",
    "\n",
    "for i in range(12 , len(sensorama_6)-12):\n",
    "    if sensorama_6.iloc[i,4] == sensorama_6.iloc[i+12,4] or sensorama_6.iloc[i,4] == sensorama_6.iloc[i-12,4]:\n",
    "        sensorama2_6.append(sensorama_6.iloc[i,:]) \n",
    "\n",
    "sensorama2_6= pd.DataFrame(sensorama2_6)\n",
    "sensorama2_6"
   ]
  },
  {
   "cell_type": "code",
   "execution_count": 24,
   "metadata": {},
   "outputs": [
    {
     "name": "stdout",
     "output_type": "stream",
     "text": [
      "25\n"
     ]
    }
   ],
   "source": [
    "count=0\n",
    "for i in range(1, len(sensorama2_6)):\n",
    "    if sensorama2_6.iloc[i,4]!= sensorama2_6.iloc[i-1,4]:\n",
    "        count = count +1\n",
    "print(count)"
   ]
  },
  {
   "cell_type": "code",
   "execution_count": 25,
   "metadata": {},
   "outputs": [],
   "source": [
    "X = sensorama2_6[[ 'xlogp','fsp3', 'small rings','arom rings','ring blocks','arom blocks','rings 3','rings 4', 'rings 5', 'rings 6',\n",
    "               'rings 7', 'rings 8', 'rings 9', 'tpsa efficiency', 'zagreb indices', 'weiner path', 'weiner polarity', 'wtpt.1',\n",
    "               'wtpt.2', 'wtpt.3', 'wtpt.4', 'wtpt.5', 'molecular weight', 'VAdjMat', 'topoPSA', 'lipinski failures', 'rotatable bonds',\n",
    "               'topo shape', 'petitjean number', 'mdec.11', 'mdec.12', 'mdec.13', 'mdec.14', 'mdec.22', 'mdec.23', 'mdec.24',\n",
    "               'mdec.33', 'mdec.34', 'mdec.44', 'mdeo.11', 'mdeo.12', 'mdeo.22', 'mden.11', 'mden.12', 'mden.13', 'mden.22',\n",
    "               'mden.23', 'mden.33', 'mlogp', 'atom p', 'atom lc', 'khs.sli', 'khs.ssbe', 'khs.ssssbe', 'khs.ssbh', 'khs.sssb',\n",
    "               'khs.ssssb', 'khs.sch3', 'khs.dch2', 'khs.ssch2', 'khs.tch', 'khs.dsch', 'khs.aach', 'khs.sssch', 'khs.ddc',\n",
    "               'khs.tsc', 'khs.dssc', 'khs.aasc', 'khs.aaac', 'khs.ssssc', 'khs.snh3', 'khs.snh2', 'khs.ssnh', 'khs.dnh', 'khs.ssnh.1',\n",
    "               'khs.aanh', 'khs.tn', 'khs.sssnh', 'khs.dsn', 'khs.aan', 'khs.sssn', 'khs.dsn.1', 'khs.aasn', 'khs.ssssn', 'khs.soh',\n",
    "               'khs.do', 'khs.sso', 'khs.aao', 'khs.sf', 'khs.ssih3', 'khs.sssih2', 'khs.ssssih', 'khs.sssssi', 'khs.sph2',\n",
    "               'khs.ssph', 'khs.sssp', 'khs.dsssp', 'khs.sssssp', 'khs.ssh', 'khs.ds', 'khs.sss', 'khs.aas', 'khs.dsss', 'khs.ddsss',\n",
    "               'khs.scl', 'khs.sGeH3', 'khs.ssGeH2', 'khs.sssGeH', 'khs.ssssGe', 'khs.sash2', 'khs.ssash', 'khs.sssas', 'khs.sssdas',\n",
    "               'khs.sssssas', 'khs.sseh', 'khs.dse', 'khs.ssse', 'khs.aase', 'khs.dssse', 'khs.ddssse', 'khs.sbr', 'khs.ssnh3', \n",
    "               'khs.sssnh2', 'khs.ssssnh', 'khs.sssssn', 'khs.si', 'khs.spbh3', 'khs.sspbh2', 'khs.ssspbh', 'khs.sssspb', 'kier 1',\n",
    "               'kier 2', 'hybRatio', 'hbdon', 'hbacc', 'fragc', 'fmf', 'eccen', 'SP.0', 'SP.1', 'SP.2', 'SP.3', 'SP.4', 'SP.5', 'SP.6',\n",
    "               'SP.7', 'VP.0', 'VP.1', 'VP.2', 'VP.3', 'VP.4', 'VP.5', 'VP.6', 'VP.7', 'SPC.4', 'SPC.5', 'SPC.6', 'VPC.4', 'VPC.5',\n",
    "               'VPC.6', 'SC.3', 'SC.4', 'SC.5', 'SC.6', 'VC.3', 'VC.4', 'VC.5', 'VC.6', 'SCH.3', 'SCH.4', 'SCH.5', 'SCH.6', 'SCH.7',\n",
    "               'VCH.3', 'VCH.4', 'VCH.3', 'VCH.4', 'VCH.5', 'VCH.6', 'VCH.7', 'C1SP1', 'C2SP1', 'C1SP2', 'C2SP2', 'C3SP2', 'C1SP3',\n",
    "               'C2SP3', 'C3SP3', 'C4SP3', 'bpol', 'bond count', 'basic group count', 'atsp1', 'atsp2' , 'atsp3', 'atsp4', 'atsp5',\n",
    "               'atsm1', 'atsm2','atsm3','atsm4','atsm5', 'natom','arom bond', 'arom atom', 'apol','alogp', 'alogp2', 'amr', 'acid']]\n",
    "y = sensorama2_6['odor name']"
   ]
  },
  {
   "cell_type": "markdown",
   "metadata": {},
   "source": [
    "#### RANDOM FOREST"
   ]
  },
  {
   "cell_type": "code",
   "execution_count": 26,
   "metadata": {},
   "outputs": [
    {
     "name": "stdout",
     "output_type": "stream",
     "text": [
      "Accuracy:  10.1010101010101 %\n"
     ]
    },
    {
     "data": {
      "image/png": "[encoded data removed]",
      "text/plain": [
       "<Figure size 432x288 with 2 Axes>"
      ]
     },
     "metadata": {
      "needs_background": "light"
     },
     "output_type": "display_data"
    }
   ],
   "source": [
    "X_train,X_test,y_train,y_test = train_test_split(X,y,test_size=0.25,random_state=0)\n",
    "sc_X = StandardScaler()\n",
    "X_train = sc_X.fit_transform(X_train)\n",
    "X_test = sc_X.transform(X_test)\n",
    "clf = RandomForestClassifier(n_estimators=100)\n",
    "clf.fit(X_train,y_train)\n",
    "y_pred=clf.predict(X_test)\n",
    "confusion_matrix = pd.crosstab(y_test, y_pred, rownames=['Actual'], colnames=['Predicted'])\n",
    "sns.heatmap(confusion_matrix, annot=True)\n",
    "print('Accuracy: ',metrics.accuracy_score(y_test, y_pred)*100,'%')\n",
    "plt.show()"
   ]
  },
  {
   "cell_type": "markdown",
   "metadata": {},
   "source": [
    "##### Feature Importances "
   ]
  },
  {
   "cell_type": "code",
   "execution_count": 27,
   "metadata": {},
   "outputs": [
    {
     "data": {
      "image/png": "[encoded data removed]",
      "text/plain": [
       "<Figure size 432x288 with 1 Axes>"
      ]
     },
     "metadata": {
      "needs_background": "light"
     },
     "output_type": "display_data"
    }
   ],
   "source": [
    "featureImportances = pd.Series(clf.feature_importances_).sort_values(ascending=False)\n",
    "sns.barplot(x=round(featureImportances,8), y=featureImportances)\n",
    "plt.xlabel('Features Importance')\n",
    "plt.show()"
   ]
  },
  {
   "cell_type": "code",
   "execution_count": 28,
   "metadata": {},
   "outputs": [],
   "source": [
    "X = sensorama2_6[[ 'xlogp','fsp3', 'small rings','arom rings','ring blocks','arom blocks','rings 3','rings 4', 'rings 5', 'rings 6',\n",
    "               'rings 7','tpsa efficiency', 'zagreb indices', 'weiner path', 'weiner polarity', 'wtpt.1',\n",
    "               'wtpt.2', 'wtpt.3', 'wtpt.4', 'wtpt.5', 'molecular weight', 'VAdjMat', 'topoPSA', 'lipinski failures', 'rotatable bonds',\n",
    "               'topo shape', 'petitjean number', 'mdec.11', 'mdec.12', 'mdec.13', 'mdec.14', 'mdec.22', 'mdec.23', 'mdec.24',\n",
    "               'mdec.33', 'mdec.34', 'mdec.44', 'mdeo.11', 'mdeo.12', 'mdeo.22', 'mden.22',\n",
    "               'mden.23', 'mden.33', 'mlogp', 'atom p', 'atom lc', \n",
    "                  'khs.sch3', 'khs.dch2', 'khs.ssch2', 'khs.tch', 'khs.dsch', 'khs.aach', 'khs.sssch', 'khs.ddc',\n",
    "               'khs.tsc', 'khs.dssc', 'khs.aasc', 'khs.aaac', 'khs.ssssc', 'khs.snh2', 'khs.ssnh.1',\n",
    "               'khs.aanh', 'khs.tn', 'khs.dsn', 'khs.aan', 'khs.sssn', 'khs.dsn.1', 'khs.aasn', 'khs.soh',\n",
    "               'khs.do', 'khs.sso', 'khs.aao', 'khs.ssh', 'khs.ds', 'khs.sss', 'khs.aas', 'khs.dsss', 'kier 1',\n",
    "               'kier 2', 'hybRatio', 'hbdon', 'hbacc', 'fragc', 'fmf', 'eccen', 'SP.0', 'SP.1', 'SP.2', 'SP.3', 'SP.4', 'SP.5', 'SP.6',\n",
    "               'SP.7', 'VP.0', 'VP.1', 'VP.2', 'VP.3', 'VP.4', 'VP.5', 'VP.6', 'VP.7', 'SPC.4', 'SPC.5', 'SPC.6', 'VPC.4', 'VPC.5',\n",
    "               'VPC.6', 'SC.3', 'SC.4', 'SC.5', 'SC.6', 'VC.3', 'VC.4', 'VC.5', 'VC.6', 'SCH.3', 'SCH.4', 'SCH.5', 'SCH.6', 'SCH.7',\n",
    "               'VCH.3', 'VCH.4', 'VCH.3', 'VCH.4', 'VCH.5', 'VCH.6', 'VCH.7', 'C1SP1', 'C2SP1', 'C1SP2', 'C2SP2', 'C3SP2', 'C1SP3',\n",
    "               'C2SP3', 'C3SP3', 'C4SP3', 'bpol', 'bond count', 'basic group count', 'atsp1', 'atsp2' , 'atsp3', 'atsp4', 'atsp5',\n",
    "               'atsm1', 'atsm2','atsm3','atsm4','atsm5', 'natom','apol','alogp', 'alogp2', 'amr', 'acid']]\n",
    "y = sensorama2_6['odor name']"
   ]
  },
  {
   "cell_type": "code",
   "execution_count": 29,
   "metadata": {},
   "outputs": [
    {
     "name": "stdout",
     "output_type": "stream",
     "text": [
      "Accuracy:  11.11111111111111 %\n"
     ]
    },
    {
     "data": {
      "image/png": "[encoded data removed]",
      "text/plain": [
       "<Figure size 432x288 with 2 Axes>"
      ]
     },
     "metadata": {
      "needs_background": "light"
     },
     "output_type": "display_data"
    }
   ],
   "source": [
    "X_train,X_test,y_train,y_test = train_test_split(X,y,test_size=0.25,random_state=0)\n",
    "sc_X = StandardScaler()\n",
    "X_train = sc_X.fit_transform(X_train)\n",
    "X_test = sc_X.transform(X_test)\n",
    "clf = RandomForestClassifier(n_estimators=100)\n",
    "clf.fit(X_train,y_train)\n",
    "y_pred=clf.predict(X_test)\n",
    "confusion_matrix = pd.crosstab(y_test, y_pred, rownames=['Actual'], colnames=['Predicted'])\n",
    "sns.heatmap(confusion_matrix, annot=True)\n",
    "print('Accuracy: ',metrics.accuracy_score(y_test, y_pred)*100,'%')\n",
    "plt.show()"
   ]
  },
  {
   "cell_type": "markdown",
   "metadata": {},
   "source": [
    "#### SUPPORT VECTOR MACHINE "
   ]
  },
  {
   "cell_type": "markdown",
   "metadata": {},
   "source": [
    "##### rbf Kernel "
   ]
  },
  {
   "cell_type": "code",
   "execution_count": 30,
   "metadata": {},
   "outputs": [
    {
     "name": "stdout",
     "output_type": "stream",
     "text": [
      "Accuracy: 11.11111111111111 %\n"
     ]
    }
   ],
   "source": [
    "X_tr, X_tst, y_tr, y_tst = train_test_split(X, y, test_size=25/100,random_state=109)\n",
    "clf = svm.SVC(kernel='rbf') # creating Support Vector Machine model\n",
    "clf.fit(X_tr, y_tr) # training the Model\n",
    "y_pr = clf.predict(X_tst) # making Predictions\n",
    "\n",
    "# Evaluating Prediction Accuracy\n",
    "print(\"Accuracy:\",metrics.accuracy_score(y_tst, y_pr)*100,\"%\")"
   ]
  },
  {
   "cell_type": "markdown",
   "metadata": {},
   "source": [
    "##### Polynomial Kernel\n"
   ]
  },
  {
   "cell_type": "code",
   "execution_count": 31,
   "metadata": {},
   "outputs": [
    {
     "name": "stdout",
     "output_type": "stream",
     "text": [
      "Accuracy: 10.1010101010101 %\n"
     ]
    }
   ],
   "source": [
    "X_tr, X_tst, y_tr, y_tst = train_test_split(X, y, test_size=25/100,random_state=109)\n",
    "clf = svm.SVC(kernel='poly') # Creating Support Vector Machine Model\n",
    "clf.fit(X_tr,y_tr) # fit classifier to training set\n",
    "y_pr = clf.predict(X_tst) # Making Predictions\n",
    "\n",
    "# Evaluating Prediction Accuracy\n",
    "print(\"Accuracy:\",metrics.accuracy_score(y_tst, y_pr)*100,\"%\")"
   ]
  },
  {
   "cell_type": "markdown",
   "metadata": {},
   "source": [
    "##### Sigmoid Kernel "
   ]
  },
  {
   "cell_type": "code",
   "execution_count": 32,
   "metadata": {},
   "outputs": [
    {
     "name": "stdout",
     "output_type": "stream",
     "text": [
      "Accuracy: 14.14141414141414 %\n"
     ]
    }
   ],
   "source": [
    "X_tr, X_tst, y_tr, y_tst = train_test_split(X, y, test_size=25/100,random_state=109)\n",
    "clf=svm.SVC(kernel='sigmoid') # instantiate classifier with sigmoid kernel\n",
    "clf.fit(X_tr,y_tr) # fit classifier to training set\n",
    "y_pr = clf.predict(X_tst) # Making Predictions\n",
    "\n",
    "# Evaluating Prediction Accuracy\n",
    "print(\"Accuracy:\",metrics.accuracy_score(y_tst, y_pr)*100,\"%\")"
   ]
  },
  {
   "cell_type": "markdown",
   "metadata": {},
   "source": [
    "#### DECISION TREE"
   ]
  },
  {
   "cell_type": "code",
   "execution_count": 33,
   "metadata": {},
   "outputs": [
    {
     "name": "stdout",
     "output_type": "stream",
     "text": [
      "Accuracy: 5.932203389830509 %\n"
     ]
    }
   ],
   "source": [
    "# Split dataset into training set and test set\n",
    "X_train, X_test, y_train, y_test = train_test_split(X, y, test_size=0.3, random_state=1) # 70% training and 30% test\n",
    "clf = DecisionTreeClassifier() # Create Decision Tree classifer object\n",
    "clf = clf.fit(X_train,y_train) # Train Decision Tree Classifer\n",
    "y_pred = clf.predict(X_test) # Predict the response for test dataset\n",
    "\n",
    "# how often is the classifier correct?\n",
    "print(\"Accuracy:\",metrics.accuracy_score(y_test, y_pred)*100,\"%\")"
   ]
  },
  {
   "cell_type": "markdown",
   "metadata": {},
   "source": [
    "#### LOGISTIC REGRESSION "
   ]
  },
  {
   "cell_type": "code",
   "execution_count": 34,
   "metadata": {},
   "outputs": [
    {
     "name": "stdout",
     "output_type": "stream",
     "text": [
      "Accuracy:  7.07070707070707 %\n"
     ]
    }
   ],
   "source": [
    "X_train,X_test,y_train,y_test = train_test_split(X,y,test_size=0.25,random_state=0)\n",
    "clf= LogisticRegression( max_iter=100000000)\n",
    "clf.fit(X_train,y_train)\n",
    "y_pred=clf.predict(X_test)\n",
    "print('Accuracy: ',metrics.accuracy_score(y_test, y_pred)*100,'%')"
   ]
  },
  {
   "cell_type": "markdown",
   "metadata": {},
   "source": [
    "#### K-Nearest Neighbor "
   ]
  },
  {
   "cell_type": "code",
   "execution_count": 35,
   "metadata": {},
   "outputs": [
    {
     "data": {
      "text/plain": [
       "Text(0, 0.5, 'Accuracy')"
      ]
     },
     "execution_count": 35,
     "metadata": {},
     "output_type": "execute_result"
    },
    {
     "data": {
      "image/png": "[encoded data removed]",
      "text/plain": [
       "<Figure size 864x432 with 1 Axes>"
      ]
     },
     "metadata": {
      "needs_background": "light"
     },
     "output_type": "display_data"
    }
   ],
   "source": [
    "# Split data into training and testing sets.\n",
    "X_train, X_test, y_train, y_test = train_test_split(X, y, random_state=42)\n",
    "accuracy=[]\n",
    "for i in range(1,21):\n",
    "    clf = KNeighborsClassifier(n_neighbors=i)\n",
    "    clf.fit(X_train, y_train)\n",
    "    ypred = clf.predict(X_test)\n",
    "    accuracy.append(metrics.accuracy_score(y_test, ypred))\n",
    "plt.figure(figsize=(12, 6))\n",
    "plt.plot(range(1, 21), accuracy, color='orange', linestyle='dashed', marker='o',\n",
    "         markerfacecolor='green', markersize=10)\n",
    "plt.title('Looking for the most accurate k value')\n",
    "plt.xlabel('K Value')\n",
    "plt.ylabel('Accuracy')"
   ]
  },
  {
   "cell_type": "code",
   "execution_count": 36,
   "metadata": {
    "scrolled": true
   },
   "outputs": [
    {
     "name": "stdout",
     "output_type": "stream",
     "text": [
      "Accuracy: 16.161616161616163 %\n"
     ]
    }
   ],
   "source": [
    "clf = KNeighborsClassifier(n_neighbors=6)\n",
    "clf.fit(X_train, y_train)\n",
    "ypred = clf.predict(X_test)\n",
    "\n",
    "# Best accuracy\n",
    "print(\"Accuracy:\",metrics.accuracy_score(y_test, ypred)*100,\"%\")"
   ]
  },
  {
   "cell_type": "markdown",
   "metadata": {},
   "source": [
    "### 15 MOST COMMON ODOR NAMES "
   ]
  },
  {
   "cell_type": "code",
   "execution_count": 37,
   "metadata": {},
   "outputs": [],
   "source": [
    "sensorama_6 = sensorama_6.sort_values('odor name')"
   ]
  },
  {
   "cell_type": "code",
   "execution_count": 42,
   "metadata": {},
   "outputs": [
    {
     "data": {
      "text/html": [
       "<div>\n",
       "<style scoped>\n",
       "    .dataframe tbody tr th:only-of-type {\n",
       "        vertical-align: middle;\n",
       "    }\n",
       "\n",
       "    .dataframe tbody tr th {\n",
       "        vertical-align: top;\n",
       "    }\n",
       "\n",
       "    .dataframe thead th {\n",
       "        text-align: right;\n",
       "    }\n",
       "</style>\n",
       "<table border=\"1\" class=\"dataframe\">\n",
       "  <thead>\n",
       "    <tr style=\"text-align: right;\">\n",
       "      <th></th>\n",
       "      <th>cid</th>\n",
       "      <th>canonical_smiles</th>\n",
       "      <th>xlogp</th>\n",
       "      <th>odor level</th>\n",
       "      <th>odor name</th>\n",
       "      <th>fsp3</th>\n",
       "      <th>small rings</th>\n",
       "      <th>arom rings</th>\n",
       "      <th>ring blocks</th>\n",
       "      <th>arom blocks</th>\n",
       "      <th>...</th>\n",
       "      <th>atsm4</th>\n",
       "      <th>atsm5</th>\n",
       "      <th>natom</th>\n",
       "      <th>arom bond</th>\n",
       "      <th>arom atom</th>\n",
       "      <th>apol</th>\n",
       "      <th>alogp</th>\n",
       "      <th>alogp2</th>\n",
       "      <th>amr</th>\n",
       "      <th>acid</th>\n",
       "    </tr>\n",
       "  </thead>\n",
       "  <tbody>\n",
       "    <tr>\n",
       "      <td>8138</td>\n",
       "      <td>79509.000000</td>\n",
       "      <td>1024.000000</td>\n",
       "      <td>0.207689</td>\n",
       "      <td>6.000000</td>\n",
       "      <td>38.000000</td>\n",
       "      <td>1.352513</td>\n",
       "      <td>0.200130</td>\n",
       "      <td>-0.631781</td>\n",
       "      <td>0.632666</td>\n",
       "      <td>-0.644741</td>\n",
       "      <td>...</td>\n",
       "      <td>-0.435429</td>\n",
       "      <td>-0.576056</td>\n",
       "      <td>-0.092074</td>\n",
       "      <td>0.000000</td>\n",
       "      <td>0.000000</td>\n",
       "      <td>-0.256623</td>\n",
       "      <td>0.062331</td>\n",
       "      <td>-0.176532</td>\n",
       "      <td>-0.601308</td>\n",
       "      <td>-0.161598</td>\n",
       "    </tr>\n",
       "    <tr>\n",
       "      <td>9184</td>\n",
       "      <td>95266.000000</td>\n",
       "      <td>1560.000000</td>\n",
       "      <td>0.277209</td>\n",
       "      <td>6.000000</td>\n",
       "      <td>38.000000</td>\n",
       "      <td>-0.252119</td>\n",
       "      <td>1.278317</td>\n",
       "      <td>1.183366</td>\n",
       "      <td>2.371507</td>\n",
       "      <td>1.285620</td>\n",
       "      <td>...</td>\n",
       "      <td>0.900213</td>\n",
       "      <td>1.248991</td>\n",
       "      <td>0.756794</td>\n",
       "      <td>0.000000</td>\n",
       "      <td>0.000000</td>\n",
       "      <td>0.873775</td>\n",
       "      <td>-0.214550</td>\n",
       "      <td>-0.378894</td>\n",
       "      <td>1.075332</td>\n",
       "      <td>-0.161598</td>\n",
       "    </tr>\n",
       "    <tr>\n",
       "      <td>3689</td>\n",
       "      <td>14489.000000</td>\n",
       "      <td>434.000000</td>\n",
       "      <td>-0.696065</td>\n",
       "      <td>6.000000</td>\n",
       "      <td>38.000000</td>\n",
       "      <td>-0.252119</td>\n",
       "      <td>-0.878056</td>\n",
       "      <td>-0.631781</td>\n",
       "      <td>-1.106175</td>\n",
       "      <td>-0.644741</td>\n",
       "      <td>...</td>\n",
       "      <td>-1.126454</td>\n",
       "      <td>-0.816491</td>\n",
       "      <td>-0.834833</td>\n",
       "      <td>0.000000</td>\n",
       "      <td>0.000000</td>\n",
       "      <td>-0.951136</td>\n",
       "      <td>-0.667829</td>\n",
       "      <td>-0.635662</td>\n",
       "      <td>-1.034763</td>\n",
       "      <td>-0.161598</td>\n",
       "    </tr>\n",
       "    <tr>\n",
       "      <td>11552</td>\n",
       "      <td>221641.000000</td>\n",
       "      <td>3042.000000</td>\n",
       "      <td>-0.000869</td>\n",
       "      <td>6.000000</td>\n",
       "      <td>38.000000</td>\n",
       "      <td>-1.030100</td>\n",
       "      <td>0.200130</td>\n",
       "      <td>1.183366</td>\n",
       "      <td>0.632666</td>\n",
       "      <td>1.285620</td>\n",
       "      <td>...</td>\n",
       "      <td>-0.067223</td>\n",
       "      <td>0.144180</td>\n",
       "      <td>-0.198182</td>\n",
       "      <td>0.000000</td>\n",
       "      <td>0.000000</td>\n",
       "      <td>-0.085568</td>\n",
       "      <td>-0.223918</td>\n",
       "      <td>-0.385127</td>\n",
       "      <td>0.209358</td>\n",
       "      <td>-0.161598</td>\n",
       "    </tr>\n",
       "    <tr>\n",
       "      <td>11720</td>\n",
       "      <td>249579.000000</td>\n",
       "      <td>1066.000000</td>\n",
       "      <td>1.459042</td>\n",
       "      <td>6.000000</td>\n",
       "      <td>38.000000</td>\n",
       "      <td>-0.189222</td>\n",
       "      <td>3.434689</td>\n",
       "      <td>1.183366</td>\n",
       "      <td>2.371507</td>\n",
       "      <td>1.285620</td>\n",
       "      <td>...</td>\n",
       "      <td>3.340458</td>\n",
       "      <td>2.048368</td>\n",
       "      <td>1.393445</td>\n",
       "      <td>0.000000</td>\n",
       "      <td>0.000000</td>\n",
       "      <td>1.640306</td>\n",
       "      <td>0.374880</td>\n",
       "      <td>0.093364</td>\n",
       "      <td>1.834425</td>\n",
       "      <td>-0.161598</td>\n",
       "    </tr>\n",
       "    <tr>\n",
       "      <td>...</td>\n",
       "      <td>...</td>\n",
       "      <td>...</td>\n",
       "      <td>...</td>\n",
       "      <td>...</td>\n",
       "      <td>...</td>\n",
       "      <td>...</td>\n",
       "      <td>...</td>\n",
       "      <td>...</td>\n",
       "      <td>...</td>\n",
       "      <td>...</td>\n",
       "      <td>...</td>\n",
       "      <td>...</td>\n",
       "      <td>...</td>\n",
       "      <td>...</td>\n",
       "      <td>...</td>\n",
       "      <td>...</td>\n",
       "      <td>...</td>\n",
       "      <td>...</td>\n",
       "      <td>...</td>\n",
       "      <td>...</td>\n",
       "      <td>...</td>\n",
       "    </tr>\n",
       "    <tr>\n",
       "      <td>10694</td>\n",
       "      <td>118201.000000</td>\n",
       "      <td>3102.000000</td>\n",
       "      <td>0.068650</td>\n",
       "      <td>6.000000</td>\n",
       "      <td>494.000000</td>\n",
       "      <td>-0.207567</td>\n",
       "      <td>0.200130</td>\n",
       "      <td>-0.631781</td>\n",
       "      <td>0.632666</td>\n",
       "      <td>-0.644741</td>\n",
       "      <td>...</td>\n",
       "      <td>1.084316</td>\n",
       "      <td>1.728793</td>\n",
       "      <td>0.332360</td>\n",
       "      <td>0.000000</td>\n",
       "      <td>0.000000</td>\n",
       "      <td>0.372065</td>\n",
       "      <td>0.324639</td>\n",
       "      <td>0.047012</td>\n",
       "      <td>0.413218</td>\n",
       "      <td>-0.161598</td>\n",
       "    </tr>\n",
       "    <tr>\n",
       "      <td>10927</td>\n",
       "      <td>159055.000000</td>\n",
       "      <td>1060.000000</td>\n",
       "      <td>-0.417987</td>\n",
       "      <td>6.000000</td>\n",
       "      <td>494.000000</td>\n",
       "      <td>0.978124</td>\n",
       "      <td>2.356503</td>\n",
       "      <td>-0.631781</td>\n",
       "      <td>0.632666</td>\n",
       "      <td>-0.644741</td>\n",
       "      <td>...</td>\n",
       "      <td>0.762008</td>\n",
       "      <td>-1.104799</td>\n",
       "      <td>-0.198182</td>\n",
       "      <td>0.000000</td>\n",
       "      <td>0.000000</td>\n",
       "      <td>-0.212547</td>\n",
       "      <td>-0.356113</td>\n",
       "      <td>-0.469018</td>\n",
       "      <td>-0.513874</td>\n",
       "      <td>-0.161598</td>\n",
       "    </tr>\n",
       "    <tr>\n",
       "      <td>10794</td>\n",
       "      <td>121739.000000</td>\n",
       "      <td>2779.000000</td>\n",
       "      <td>1.598081</td>\n",
       "      <td>6.000000</td>\n",
       "      <td>494.000000</td>\n",
       "      <td>1.064608</td>\n",
       "      <td>-0.878056</td>\n",
       "      <td>-0.631781</td>\n",
       "      <td>-1.106175</td>\n",
       "      <td>-0.644741</td>\n",
       "      <td>...</td>\n",
       "      <td>-0.067223</td>\n",
       "      <td>0.192587</td>\n",
       "      <td>1.287337</td>\n",
       "      <td>0.000000</td>\n",
       "      <td>0.000000</td>\n",
       "      <td>1.105394</td>\n",
       "      <td>1.599470</td>\n",
       "      <td>1.574583</td>\n",
       "      <td>0.731058</td>\n",
       "      <td>-0.161598</td>\n",
       "    </tr>\n",
       "    <tr>\n",
       "      <td>7340</td>\n",
       "      <td>62575.000000</td>\n",
       "      <td>2927.000000</td>\n",
       "      <td>0.694326</td>\n",
       "      <td>6.000000</td>\n",
       "      <td>494.000000</td>\n",
       "      <td>1.012193</td>\n",
       "      <td>-0.878056</td>\n",
       "      <td>-0.631781</td>\n",
       "      <td>-1.106175</td>\n",
       "      <td>-0.644741</td>\n",
       "      <td>...</td>\n",
       "      <td>0.116355</td>\n",
       "      <td>-0.287748</td>\n",
       "      <td>0.650686</td>\n",
       "      <td>0.000000</td>\n",
       "      <td>0.000000</td>\n",
       "      <td>0.465831</td>\n",
       "      <td>0.943423</td>\n",
       "      <td>0.697091</td>\n",
       "      <td>0.120693</td>\n",
       "      <td>-0.161598</td>\n",
       "    </tr>\n",
       "    <tr>\n",
       "      <td>5923</td>\n",
       "      <td>61061.000000</td>\n",
       "      <td>546.000000</td>\n",
       "      <td>0.346729</td>\n",
       "      <td>6.000000</td>\n",
       "      <td>494.000000</td>\n",
       "      <td>1.040647</td>\n",
       "      <td>2.356503</td>\n",
       "      <td>-0.631781</td>\n",
       "      <td>0.632666</td>\n",
       "      <td>-0.644741</td>\n",
       "      <td>...</td>\n",
       "      <td>1.360726</td>\n",
       "      <td>0.144180</td>\n",
       "      <td>0.544577</td>\n",
       "      <td>0.000000</td>\n",
       "      <td>0.000000</td>\n",
       "      <td>0.509918</td>\n",
       "      <td>-0.065631</td>\n",
       "      <td>-0.274342</td>\n",
       "      <td>0.138687</td>\n",
       "      <td>-0.161598</td>\n",
       "    </tr>\n",
       "  </tbody>\n",
       "</table>\n",
       "<p>247 rows × 212 columns</p>\n",
       "</div>"
      ],
      "text/plain": [
       "                cid  canonical_smiles     xlogp  odor level  odor name  \\\n",
       "8138   79509.000000       1024.000000  0.207689    6.000000  38.000000   \n",
       "9184   95266.000000       1560.000000  0.277209    6.000000  38.000000   \n",
       "3689   14489.000000        434.000000 -0.696065    6.000000  38.000000   \n",
       "11552 221641.000000       3042.000000 -0.000869    6.000000  38.000000   \n",
       "11720 249579.000000       1066.000000  1.459042    6.000000  38.000000   \n",
       "...             ...               ...       ...         ...        ...   \n",
       "10694 118201.000000       3102.000000  0.068650    6.000000 494.000000   \n",
       "10927 159055.000000       1060.000000 -0.417987    6.000000 494.000000   \n",
       "10794 121739.000000       2779.000000  1.598081    6.000000 494.000000   \n",
       "7340   62575.000000       2927.000000  0.694326    6.000000 494.000000   \n",
       "5923   61061.000000        546.000000  0.346729    6.000000 494.000000   \n",
       "\n",
       "           fsp3  small rings  arom rings  ring blocks  arom blocks  ...  \\\n",
       "8138   1.352513     0.200130   -0.631781     0.632666    -0.644741  ...   \n",
       "9184  -0.252119     1.278317    1.183366     2.371507     1.285620  ...   \n",
       "3689  -0.252119    -0.878056   -0.631781    -1.106175    -0.644741  ...   \n",
       "11552 -1.030100     0.200130    1.183366     0.632666     1.285620  ...   \n",
       "11720 -0.189222     3.434689    1.183366     2.371507     1.285620  ...   \n",
       "...         ...          ...         ...          ...          ...  ...   \n",
       "10694 -0.207567     0.200130   -0.631781     0.632666    -0.644741  ...   \n",
       "10927  0.978124     2.356503   -0.631781     0.632666    -0.644741  ...   \n",
       "10794  1.064608    -0.878056   -0.631781    -1.106175    -0.644741  ...   \n",
       "7340   1.012193    -0.878056   -0.631781    -1.106175    -0.644741  ...   \n",
       "5923   1.040647     2.356503   -0.631781     0.632666    -0.644741  ...   \n",
       "\n",
       "          atsm4     atsm5     natom  arom bond  arom atom      apol     alogp  \\\n",
       "8138  -0.435429 -0.576056 -0.092074   0.000000   0.000000 -0.256623  0.062331   \n",
       "9184   0.900213  1.248991  0.756794   0.000000   0.000000  0.873775 -0.214550   \n",
       "3689  -1.126454 -0.816491 -0.834833   0.000000   0.000000 -0.951136 -0.667829   \n",
       "11552 -0.067223  0.144180 -0.198182   0.000000   0.000000 -0.085568 -0.223918   \n",
       "11720  3.340458  2.048368  1.393445   0.000000   0.000000  1.640306  0.374880   \n",
       "...         ...       ...       ...        ...        ...       ...       ...   \n",
       "10694  1.084316  1.728793  0.332360   0.000000   0.000000  0.372065  0.324639   \n",
       "10927  0.762008 -1.104799 -0.198182   0.000000   0.000000 -0.212547 -0.356113   \n",
       "10794 -0.067223  0.192587  1.287337   0.000000   0.000000  1.105394  1.599470   \n",
       "7340   0.116355 -0.287748  0.650686   0.000000   0.000000  0.465831  0.943423   \n",
       "5923   1.360726  0.144180  0.544577   0.000000   0.000000  0.509918 -0.065631   \n",
       "\n",
       "         alogp2       amr      acid  \n",
       "8138  -0.176532 -0.601308 -0.161598  \n",
       "9184  -0.378894  1.075332 -0.161598  \n",
       "3689  -0.635662 -1.034763 -0.161598  \n",
       "11552 -0.385127  0.209358 -0.161598  \n",
       "11720  0.093364  1.834425 -0.161598  \n",
       "...         ...       ...       ...  \n",
       "10694  0.047012  0.413218 -0.161598  \n",
       "10927 -0.469018 -0.513874 -0.161598  \n",
       "10794  1.574583  0.731058 -0.161598  \n",
       "7340   0.697091  0.120693 -0.161598  \n",
       "5923  -0.274342  0.138687 -0.161598  \n",
       "\n",
       "[247 rows x 212 columns]"
      ]
     },
     "execution_count": 42,
     "metadata": {},
     "output_type": "execute_result"
    }
   ],
   "source": [
    "sensorama2_6=[]\n",
    "\n",
    "for i in range(16 , len(sensorama_6)-16):\n",
    "    if sensorama_6.iloc[i,4] == sensorama_6.iloc[i+16,4] or sensorama_6.iloc[i,4] == sensorama_6.iloc[i-16,4]:\n",
    "        sensorama2_6.append(sensorama_6.iloc[i,:]) \n",
    "\n",
    "sensorama2_6= pd.DataFrame(sensorama2_6)\n",
    "sensorama2_6"
   ]
  },
  {
   "cell_type": "code",
   "execution_count": 43,
   "metadata": {},
   "outputs": [
    {
     "name": "stdout",
     "output_type": "stream",
     "text": [
      "15\n"
     ]
    }
   ],
   "source": [
    "count=0\n",
    "for i in range(1, len(sensorama2_6)):\n",
    "    if sensorama2_6.iloc[i,4]!= sensorama2_6.iloc[i-1,4]:\n",
    "        count = count +1\n",
    "print(count)"
   ]
  },
  {
   "cell_type": "code",
   "execution_count": 44,
   "metadata": {},
   "outputs": [],
   "source": [
    "X = sensorama2_6[[ 'xlogp','fsp3', 'small rings','arom rings','ring blocks','arom blocks','rings 3','rings 4', 'rings 5', 'rings 6',\n",
    "               'rings 7', 'rings 8', 'rings 9', 'tpsa efficiency', 'zagreb indices', 'weiner path', 'weiner polarity', 'wtpt.1',\n",
    "               'wtpt.2', 'wtpt.3', 'wtpt.4', 'wtpt.5', 'molecular weight', 'VAdjMat', 'topoPSA', 'lipinski failures', 'rotatable bonds',\n",
    "               'topo shape', 'petitjean number', 'mdec.11', 'mdec.12', 'mdec.13', 'mdec.14', 'mdec.22', 'mdec.23', 'mdec.24',\n",
    "               'mdec.33', 'mdec.34', 'mdec.44', 'mdeo.11', 'mdeo.12', 'mdeo.22', 'mden.11', 'mden.12', 'mden.13', 'mden.22',\n",
    "               'mden.23', 'mden.33', 'mlogp', 'atom p', 'atom lc', 'khs.sli', 'khs.ssbe', 'khs.ssssbe', 'khs.ssbh', 'khs.sssb',\n",
    "               'khs.ssssb', 'khs.sch3', 'khs.dch2', 'khs.ssch2', 'khs.tch', 'khs.dsch', 'khs.aach', 'khs.sssch', 'khs.ddc',\n",
    "               'khs.tsc', 'khs.dssc', 'khs.aasc', 'khs.aaac', 'khs.ssssc', 'khs.snh3', 'khs.snh2', 'khs.ssnh', 'khs.dnh', 'khs.ssnh.1',\n",
    "               'khs.aanh', 'khs.tn', 'khs.sssnh', 'khs.dsn', 'khs.aan', 'khs.sssn', 'khs.dsn.1', 'khs.aasn', 'khs.ssssn', 'khs.soh',\n",
    "               'khs.do', 'khs.sso', 'khs.aao', 'khs.sf', 'khs.ssih3', 'khs.sssih2', 'khs.ssssih', 'khs.sssssi', 'khs.sph2',\n",
    "               'khs.ssph', 'khs.sssp', 'khs.dsssp', 'khs.sssssp', 'khs.ssh', 'khs.ds', 'khs.sss', 'khs.aas', 'khs.dsss', 'khs.ddsss',\n",
    "               'khs.scl', 'khs.sGeH3', 'khs.ssGeH2', 'khs.sssGeH', 'khs.ssssGe', 'khs.sash2', 'khs.ssash', 'khs.sssas', 'khs.sssdas',\n",
    "               'khs.sssssas', 'khs.sseh', 'khs.dse', 'khs.ssse', 'khs.aase', 'khs.dssse', 'khs.ddssse', 'khs.sbr', 'khs.ssnh3', \n",
    "               'khs.sssnh2', 'khs.ssssnh', 'khs.sssssn', 'khs.si', 'khs.spbh3', 'khs.sspbh2', 'khs.ssspbh', 'khs.sssspb', 'kier 1',\n",
    "               'kier 2', 'hybRatio', 'hbdon', 'hbacc', 'fragc', 'fmf', 'eccen', 'SP.0', 'SP.1', 'SP.2', 'SP.3', 'SP.4', 'SP.5', 'SP.6',\n",
    "               'SP.7', 'VP.0', 'VP.1', 'VP.2', 'VP.3', 'VP.4', 'VP.5', 'VP.6', 'VP.7', 'SPC.4', 'SPC.5', 'SPC.6', 'VPC.4', 'VPC.5',\n",
    "               'VPC.6', 'SC.3', 'SC.4', 'SC.5', 'SC.6', 'VC.3', 'VC.4', 'VC.5', 'VC.6', 'SCH.3', 'SCH.4', 'SCH.5', 'SCH.6', 'SCH.7',\n",
    "               'VCH.3', 'VCH.4', 'VCH.3', 'VCH.4', 'VCH.5', 'VCH.6', 'VCH.7', 'C1SP1', 'C2SP1', 'C1SP2', 'C2SP2', 'C3SP2', 'C1SP3',\n",
    "               'C2SP3', 'C3SP3', 'C4SP3', 'bpol', 'bond count', 'basic group count', 'atsp1', 'atsp2' , 'atsp3', 'atsp4', 'atsp5',\n",
    "               'atsm1', 'atsm2','atsm3','atsm4','atsm5', 'natom','arom bond', 'arom atom', 'apol','alogp', 'alogp2', 'amr', 'acid']]\n",
    "y = sensorama2_6['odor name']"
   ]
  },
  {
   "cell_type": "markdown",
   "metadata": {},
   "source": [
    "#### RANDOM FOREST"
   ]
  },
  {
   "cell_type": "code",
   "execution_count": 45,
   "metadata": {},
   "outputs": [
    {
     "name": "stdout",
     "output_type": "stream",
     "text": [
      "Accuracy:  19.35483870967742 %\n"
     ]
    },
    {
     "data": {
      "image/png": "[encoded data removed]",
      "text/plain": [
       "<Figure size 432x288 with 2 Axes>"
      ]
     },
     "metadata": {
      "needs_background": "light"
     },
     "output_type": "display_data"
    }
   ],
   "source": [
    "X_train,X_test,y_train,y_test = train_test_split(X,y,test_size=0.25,random_state=0)\n",
    "sc_X = StandardScaler()\n",
    "X_train = sc_X.fit_transform(X_train)\n",
    "X_test = sc_X.transform(X_test)\n",
    "clf = RandomForestClassifier(n_estimators=100)\n",
    "clf.fit(X_train,y_train)\n",
    "y_pred=clf.predict(X_test)\n",
    "confusion_matrix = pd.crosstab(y_test, y_pred, rownames=['Actual'], colnames=['Predicted'])\n",
    "sns.heatmap(confusion_matrix, annot=True)\n",
    "print('Accuracy: ',metrics.accuracy_score(y_test, y_pred)*100,'%')\n",
    "plt.show()"
   ]
  },
  {
   "cell_type": "markdown",
   "metadata": {},
   "source": [
    "##### Feature Importances "
   ]
  },
  {
   "cell_type": "code",
   "execution_count": 46,
   "metadata": {},
   "outputs": [
    {
     "data": {
      "image/png": "[encoded data removed]",
      "text/plain": [
       "<Figure size 432x288 with 1 Axes>"
      ]
     },
     "metadata": {
      "needs_background": "light"
     },
     "output_type": "display_data"
    }
   ],
   "source": [
    "featureImportances = pd.Series(clf.feature_importances_).sort_values(ascending=False)\n",
    "sns.barplot(x=round(featureImportances,8), y=featureImportances)\n",
    "plt.xlabel('Features Importance')\n",
    "plt.show()"
   ]
  },
  {
   "cell_type": "code",
   "execution_count": 47,
   "metadata": {},
   "outputs": [],
   "source": [
    "X = sensorama2_6[[ 'xlogp','fsp3', 'small rings','arom rings','ring blocks','arom blocks','rings 3','rings 4', 'rings 5', 'rings 6',\n",
    "               'rings 7', 'tpsa efficiency', 'zagreb indices', 'weiner path', 'weiner polarity', 'wtpt.1',\n",
    "               'wtpt.2', 'wtpt.3', 'wtpt.4', 'wtpt.5', 'molecular weight', 'VAdjMat', 'topoPSA', 'lipinski failures', 'rotatable bonds',\n",
    "               'topo shape', 'petitjean number', 'mdec.11', 'mdec.12', 'mdec.13', 'mdec.14', 'mdec.22', 'mdec.23', 'mdec.24',\n",
    "               'mdec.33', 'mdec.34', 'mdec.44', 'mdeo.11', 'mdeo.12', 'mdeo.22', 'mden.22',\n",
    "               'mden.23', 'mlogp', 'atom p', 'atom lc',\n",
    "                  'khs.sch3', 'khs.dch2', 'khs.ssch2','khs.dsch', 'khs.aach', 'khs.sssch', 'khs.ddc',\n",
    "               'khs.tsc', 'khs.dssc', 'khs.aasc', 'khs.aaac', 'khs.ssssc', 'khs.snh2', 'khs.ssnh.1',\n",
    "               'khs.tn', 'khs.dsn', 'khs.aan', 'khs.sssn', 'khs.dsn.1', 'khs.aasn', 'khs.soh',\n",
    "               'khs.do', 'khs.sso', 'khs.aao','khs.ssh', 'khs.ds', 'khs.sss', 'khs.aas', 'khs.dsss','kier 1',\n",
    "               'kier 2', 'hybRatio', 'hbdon', 'hbacc', 'fragc', 'fmf', 'eccen', 'SP.0', 'SP.1', 'SP.2', 'SP.3', 'SP.4', 'SP.5', 'SP.6',\n",
    "               'SP.7', 'VP.0', 'VP.1', 'VP.2', 'VP.3', 'VP.4', 'VP.5', 'VP.6', 'VP.7', 'SPC.4', 'SPC.5', 'SPC.6', 'VPC.4', 'VPC.5',\n",
    "               'VPC.6', 'SC.3', 'SC.4', 'SC.5', 'SC.6', 'VC.3', 'VC.4', 'VC.5', 'VC.6', 'SCH.3', 'SCH.4', 'SCH.5', 'SCH.6', 'SCH.7',\n",
    "               'VCH.3', 'VCH.4', 'VCH.3', 'VCH.4', 'VCH.5', 'VCH.6', 'VCH.7', 'C1SP1', 'C2SP1', 'C1SP2', 'C2SP2', 'C3SP2', 'C1SP3',\n",
    "               'C2SP3', 'C3SP3', 'C4SP3', 'bpol', 'bond count', 'basic group count', 'atsp1', 'atsp2' , 'atsp3', 'atsp4', 'atsp5',\n",
    "               'atsm1', 'atsm2','atsm3','atsm4','atsm5', 'natom', 'apol','alogp', 'alogp2', 'amr', 'acid']]\n",
    "y = sensorama2_6['odor name']"
   ]
  },
  {
   "cell_type": "code",
   "execution_count": 48,
   "metadata": {},
   "outputs": [
    {
     "name": "stdout",
     "output_type": "stream",
     "text": [
      "Accuracy:  14.516129032258066 %\n"
     ]
    },
    {
     "data": {
      "image/png": "[encoded data removed]",
      "text/plain": [
       "<Figure size 432x288 with 2 Axes>"
      ]
     },
     "metadata": {
      "needs_background": "light"
     },
     "output_type": "display_data"
    }
   ],
   "source": [
    "X_train,X_test,y_train,y_test = train_test_split(X,y,test_size=0.25,random_state=0)\n",
    "sc_X = StandardScaler()\n",
    "X_train = sc_X.fit_transform(X_train)\n",
    "X_test = sc_X.transform(X_test)\n",
    "clf = RandomForestClassifier(n_estimators=100)\n",
    "clf.fit(X_train,y_train)\n",
    "y_pred=clf.predict(X_test)\n",
    "confusion_matrix = pd.crosstab(y_test, y_pred, rownames=['Actual'], colnames=['Predicted'])\n",
    "sns.heatmap(confusion_matrix, annot=True)\n",
    "print('Accuracy: ',metrics.accuracy_score(y_test, y_pred)*100,'%')\n",
    "plt.show()"
   ]
  },
  {
   "cell_type": "markdown",
   "metadata": {},
   "source": [
    "#### SUPPORT VECTOR MACHINE "
   ]
  },
  {
   "cell_type": "markdown",
   "metadata": {},
   "source": [
    "##### rbf Kernel "
   ]
  },
  {
   "cell_type": "code",
   "execution_count": 49,
   "metadata": {},
   "outputs": [
    {
     "name": "stdout",
     "output_type": "stream",
     "text": [
      "Accuracy: 20.967741935483872 %\n"
     ]
    }
   ],
   "source": [
    "X_tr, X_tst, y_tr, y_tst = train_test_split(X, y, test_size=25/100,random_state=109)\n",
    "clf = svm.SVC(kernel='rbf') # creating Support Vector Machine model\n",
    "clf.fit(X_tr, y_tr) # training the Model\n",
    "y_pr = clf.predict(X_tst) # making Predictions\n",
    "\n",
    "# Evaluating Prediction Accuracy\n",
    "print(\"Accuracy:\",metrics.accuracy_score(y_tst, y_pr)*100,\"%\")"
   ]
  },
  {
   "cell_type": "markdown",
   "metadata": {},
   "source": [
    "##### Polynomial Kernel\n"
   ]
  },
  {
   "cell_type": "code",
   "execution_count": 50,
   "metadata": {},
   "outputs": [
    {
     "name": "stdout",
     "output_type": "stream",
     "text": [
      "Accuracy: 19.35483870967742 %\n"
     ]
    }
   ],
   "source": [
    "X_tr, X_tst, y_tr, y_tst = train_test_split(X, y, test_size=25/100,random_state=109)\n",
    "clf = svm.SVC(kernel='poly') # Creating Support Vector Machine Model\n",
    "clf.fit(X_tr,y_tr) # fit classifier to training set\n",
    "y_pr = clf.predict(X_tst) # Making Predictions\n",
    "\n",
    "# Evaluating Prediction Accuracy\n",
    "print(\"Accuracy:\",metrics.accuracy_score(y_tst, y_pr)*100,\"%\")"
   ]
  },
  {
   "cell_type": "markdown",
   "metadata": {},
   "source": [
    "##### Sigmoid Kernel "
   ]
  },
  {
   "cell_type": "code",
   "execution_count": 51,
   "metadata": {},
   "outputs": [
    {
     "name": "stdout",
     "output_type": "stream",
     "text": [
      "Accuracy: 16.129032258064516 %\n"
     ]
    }
   ],
   "source": [
    "X_tr, X_tst, y_tr, y_tst = train_test_split(X, y, test_size=25/100,random_state=109)\n",
    "clf=svm.SVC(kernel='sigmoid') # instantiate classifier with sigmoid kernel\n",
    "clf.fit(X_tr,y_tr) # fit classifier to training set\n",
    "y_pr = clf.predict(X_tst) # Making Predictions\n",
    "\n",
    "# Evaluating Prediction Accuracy\n",
    "print(\"Accuracy:\",metrics.accuracy_score(y_tst, y_pr)*100,\"%\")"
   ]
  },
  {
   "cell_type": "markdown",
   "metadata": {},
   "source": [
    "#### DECISION TREE"
   ]
  },
  {
   "cell_type": "code",
   "execution_count": 52,
   "metadata": {},
   "outputs": [
    {
     "name": "stdout",
     "output_type": "stream",
     "text": [
      "Accuracy: 12.0 %\n"
     ]
    }
   ],
   "source": [
    "# Split dataset into training set and test set\n",
    "X_train, X_test, y_train, y_test = train_test_split(X, y, test_size=0.3, random_state=1) # 70% training and 30% test\n",
    "clf = DecisionTreeClassifier() # Create Decision Tree classifer object\n",
    "clf = clf.fit(X_train,y_train) # Train Decision Tree Classifer\n",
    "y_pred = clf.predict(X_test) # Predict the response for test dataset\n",
    "\n",
    "# how often is the classifier correct?\n",
    "print(\"Accuracy:\",metrics.accuracy_score(y_test, y_pred)*100,\"%\")"
   ]
  },
  {
   "cell_type": "markdown",
   "metadata": {},
   "source": [
    "#### LOGISTIC REGRESSION "
   ]
  },
  {
   "cell_type": "code",
   "execution_count": 53,
   "metadata": {},
   "outputs": [
    {
     "name": "stdout",
     "output_type": "stream",
     "text": [
      "Accuracy:  19.35483870967742 %\n"
     ]
    }
   ],
   "source": [
    "X_train,X_test,y_train,y_test = train_test_split(X,y,test_size=0.25,random_state=0)\n",
    "clf= LogisticRegression( max_iter=100000000)\n",
    "clf.fit(X_train,y_train)\n",
    "y_pred=clf.predict(X_test)\n",
    "print('Accuracy: ',metrics.accuracy_score(y_test, y_pred)*100,'%')"
   ]
  },
  {
   "cell_type": "markdown",
   "metadata": {},
   "source": [
    "#### K-Nearest Neighbor "
   ]
  },
  {
   "cell_type": "code",
   "execution_count": 54,
   "metadata": {},
   "outputs": [
    {
     "data": {
      "text/plain": [
       "Text(0, 0.5, 'Accuracy')"
      ]
     },
     "execution_count": 54,
     "metadata": {},
     "output_type": "execute_result"
    },
    {
     "data": {
      "image/png": "[encoded data removed]",
      "text/plain": [
       "<Figure size 864x432 with 1 Axes>"
      ]
     },
     "metadata": {
      "needs_background": "light"
     },
     "output_type": "display_data"
    }
   ],
   "source": [
    "# Split data into training and testing sets.\n",
    "X_train, X_test, y_train, y_test = train_test_split(X, y, random_state=42)\n",
    "accuracy=[]\n",
    "for i in range(1,21):\n",
    "    clf = KNeighborsClassifier(n_neighbors=i)\n",
    "    clf.fit(X_train, y_train)\n",
    "    ypred = clf.predict(X_test)\n",
    "    accuracy.append(metrics.accuracy_score(y_test, ypred))\n",
    "plt.figure(figsize=(12, 6))\n",
    "plt.plot(range(1, 21), accuracy, color='orange', linestyle='dashed', marker='o',\n",
    "         markerfacecolor='green', markersize=10)\n",
    "plt.title('Looking for the most accurate k value')\n",
    "plt.xlabel('K Value')\n",
    "plt.ylabel('Accuracy')"
   ]
  },
  {
   "cell_type": "code",
   "execution_count": 56,
   "metadata": {
    "scrolled": true
   },
   "outputs": [
    {
     "name": "stdout",
     "output_type": "stream",
     "text": [
      "Accuracy: 17.741935483870968 %\n"
     ]
    }
   ],
   "source": [
    "clf = KNeighborsClassifier(n_neighbors=19)\n",
    "clf.fit(X_train, y_train)\n",
    "ypred = clf.predict(X_test)\n",
    "\n",
    "# Best accuracy\n",
    "print(\"Accuracy:\",metrics.accuracy_score(y_test, ypred)*100,\"%\")"
   ]
  },
  {
   "cell_type": "markdown",
   "metadata": {},
   "source": [
    "### 10 MOST COMMON ODOR NAMES "
   ]
  },
  {
   "cell_type": "code",
   "execution_count": 57,
   "metadata": {},
   "outputs": [],
   "source": [
    "sensorama_6 = sensorama_6.sort_values('odor name')"
   ]
  },
  {
   "cell_type": "code",
   "execution_count": 58,
   "metadata": {},
   "outputs": [
    {
     "data": {
      "text/html": [
       "<div>\n",
       "<style scoped>\n",
       "    .dataframe tbody tr th:only-of-type {\n",
       "        vertical-align: middle;\n",
       "    }\n",
       "\n",
       "    .dataframe tbody tr th {\n",
       "        vertical-align: top;\n",
       "    }\n",
       "\n",
       "    .dataframe thead th {\n",
       "        text-align: right;\n",
       "    }\n",
       "</style>\n",
       "<table border=\"1\" class=\"dataframe\">\n",
       "  <thead>\n",
       "    <tr style=\"text-align: right;\">\n",
       "      <th></th>\n",
       "      <th>cid</th>\n",
       "      <th>canonical_smiles</th>\n",
       "      <th>xlogp</th>\n",
       "      <th>odor level</th>\n",
       "      <th>odor name</th>\n",
       "      <th>fsp3</th>\n",
       "      <th>small rings</th>\n",
       "      <th>arom rings</th>\n",
       "      <th>ring blocks</th>\n",
       "      <th>arom blocks</th>\n",
       "      <th>...</th>\n",
       "      <th>atsm4</th>\n",
       "      <th>atsm5</th>\n",
       "      <th>natom</th>\n",
       "      <th>arom bond</th>\n",
       "      <th>arom atom</th>\n",
       "      <th>apol</th>\n",
       "      <th>alogp</th>\n",
       "      <th>alogp2</th>\n",
       "      <th>amr</th>\n",
       "      <th>acid</th>\n",
       "    </tr>\n",
       "  </thead>\n",
       "  <tbody>\n",
       "    <tr>\n",
       "      <td>1382</td>\n",
       "      <td>7707.000000</td>\n",
       "      <td>71.000000</td>\n",
       "      <td>-1.043663</td>\n",
       "      <td>6.000000</td>\n",
       "      <td>38.000000</td>\n",
       "      <td>-1.559487</td>\n",
       "      <td>0.200130</td>\n",
       "      <td>1.183366</td>\n",
       "      <td>0.632666</td>\n",
       "      <td>1.285620</td>\n",
       "      <td>...</td>\n",
       "      <td>-0.757737</td>\n",
       "      <td>-0.768084</td>\n",
       "      <td>-0.940942</td>\n",
       "      <td>0.000000</td>\n",
       "      <td>0.000000</td>\n",
       "      <td>-0.808033</td>\n",
       "      <td>-0.654089</td>\n",
       "      <td>-0.629245</td>\n",
       "      <td>-0.468871</td>\n",
       "      <td>-0.161598</td>\n",
       "    </tr>\n",
       "    <tr>\n",
       "      <td>5279</td>\n",
       "      <td>31231.000000</td>\n",
       "      <td>499.000000</td>\n",
       "      <td>-0.835104</td>\n",
       "      <td>6.000000</td>\n",
       "      <td>38.000000</td>\n",
       "      <td>-1.268212</td>\n",
       "      <td>0.200130</td>\n",
       "      <td>1.183366</td>\n",
       "      <td>0.632666</td>\n",
       "      <td>1.285620</td>\n",
       "      <td>...</td>\n",
       "      <td>-0.113121</td>\n",
       "      <td>-0.095721</td>\n",
       "      <td>-0.516508</td>\n",
       "      <td>0.000000</td>\n",
       "      <td>0.000000</td>\n",
       "      <td>-0.405350</td>\n",
       "      <td>-1.359337</td>\n",
       "      <td>-0.849190</td>\n",
       "      <td>-0.042332</td>\n",
       "      <td>-0.161598</td>\n",
       "    </tr>\n",
       "    <tr>\n",
       "      <td>4631</td>\n",
       "      <td>21574.000000</td>\n",
       "      <td>957.000000</td>\n",
       "      <td>-0.070389</td>\n",
       "      <td>6.000000</td>\n",
       "      <td>124.000000</td>\n",
       "      <td>0.936567</td>\n",
       "      <td>-0.878056</td>\n",
       "      <td>-0.631781</td>\n",
       "      <td>-1.106175</td>\n",
       "      <td>-0.644741</td>\n",
       "      <td>...</td>\n",
       "      <td>-0.895942</td>\n",
       "      <td>-0.287748</td>\n",
       "      <td>-0.092074</td>\n",
       "      <td>0.000000</td>\n",
       "      <td>0.000000</td>\n",
       "      <td>-0.256623</td>\n",
       "      <td>0.078986</td>\n",
       "      <td>-0.163263</td>\n",
       "      <td>-0.564353</td>\n",
       "      <td>-0.161598</td>\n",
       "    </tr>\n",
       "    <tr>\n",
       "      <td>10962</td>\n",
       "      <td>161676.000000</td>\n",
       "      <td>170.000000</td>\n",
       "      <td>-0.139908</td>\n",
       "      <td>6.000000</td>\n",
       "      <td>124.000000</td>\n",
       "      <td>1.012193</td>\n",
       "      <td>3.434689</td>\n",
       "      <td>-0.631781</td>\n",
       "      <td>0.632666</td>\n",
       "      <td>-0.644741</td>\n",
       "      <td>...</td>\n",
       "      <td>0.117392</td>\n",
       "      <td>0.048433</td>\n",
       "      <td>-0.092074</td>\n",
       "      <td>0.000000</td>\n",
       "      <td>0.000000</td>\n",
       "      <td>-0.030618</td>\n",
       "      <td>-0.167292</td>\n",
       "      <td>-0.346796</td>\n",
       "      <td>-0.316373</td>\n",
       "      <td>-0.161598</td>\n",
       "    </tr>\n",
       "    <tr>\n",
       "      <td>1082</td>\n",
       "      <td>7462.000000</td>\n",
       "      <td>1312.000000</td>\n",
       "      <td>-0.000869</td>\n",
       "      <td>6.000000</td>\n",
       "      <td>124.000000</td>\n",
       "      <td>-0.145044</td>\n",
       "      <td>0.200130</td>\n",
       "      <td>-0.631781</td>\n",
       "      <td>0.632666</td>\n",
       "      <td>-0.644741</td>\n",
       "      <td>...</td>\n",
       "      <td>-0.527225</td>\n",
       "      <td>-0.815957</td>\n",
       "      <td>-0.304291</td>\n",
       "      <td>0.000000</td>\n",
       "      <td>0.000000</td>\n",
       "      <td>-0.295448</td>\n",
       "      <td>0.693814</td>\n",
       "      <td>0.414111</td>\n",
       "      <td>-0.313605</td>\n",
       "      <td>-0.161598</td>\n",
       "    </tr>\n",
       "    <tr>\n",
       "      <td>...</td>\n",
       "      <td>...</td>\n",
       "      <td>...</td>\n",
       "      <td>...</td>\n",
       "      <td>...</td>\n",
       "      <td>...</td>\n",
       "      <td>...</td>\n",
       "      <td>...</td>\n",
       "      <td>...</td>\n",
       "      <td>...</td>\n",
       "      <td>...</td>\n",
       "      <td>...</td>\n",
       "      <td>...</td>\n",
       "      <td>...</td>\n",
       "      <td>...</td>\n",
       "      <td>...</td>\n",
       "      <td>...</td>\n",
       "      <td>...</td>\n",
       "      <td>...</td>\n",
       "      <td>...</td>\n",
       "      <td>...</td>\n",
       "      <td>...</td>\n",
       "    </tr>\n",
       "    <tr>\n",
       "      <td>11570</td>\n",
       "      <td>226486.000000</td>\n",
       "      <td>3329.000000</td>\n",
       "      <td>-0.139908</td>\n",
       "      <td>6.000000</td>\n",
       "      <td>494.000000</td>\n",
       "      <td>-1.370420</td>\n",
       "      <td>0.200130</td>\n",
       "      <td>1.183366</td>\n",
       "      <td>0.632666</td>\n",
       "      <td>1.285620</td>\n",
       "      <td>...</td>\n",
       "      <td>1.206074</td>\n",
       "      <td>1.216484</td>\n",
       "      <td>-0.092074</td>\n",
       "      <td>0.000000</td>\n",
       "      <td>0.000000</td>\n",
       "      <td>-0.002667</td>\n",
       "      <td>-1.136514</td>\n",
       "      <td>-0.803900</td>\n",
       "      <td>0.460014</td>\n",
       "      <td>-0.161598</td>\n",
       "    </tr>\n",
       "    <tr>\n",
       "      <td>1197</td>\n",
       "      <td>7599.000000</td>\n",
       "      <td>3348.000000</td>\n",
       "      <td>0.138170</td>\n",
       "      <td>6.000000</td>\n",
       "      <td>494.000000</td>\n",
       "      <td>-1.689400</td>\n",
       "      <td>1.278317</td>\n",
       "      <td>2.998513</td>\n",
       "      <td>2.371507</td>\n",
       "      <td>3.215981</td>\n",
       "      <td>...</td>\n",
       "      <td>1.452508</td>\n",
       "      <td>1.296865</td>\n",
       "      <td>0.650686</td>\n",
       "      <td>0.000000</td>\n",
       "      <td>0.000000</td>\n",
       "      <td>1.044830</td>\n",
       "      <td>-0.400178</td>\n",
       "      <td>-0.495229</td>\n",
       "      <td>1.918556</td>\n",
       "      <td>-0.161598</td>\n",
       "    </tr>\n",
       "    <tr>\n",
       "      <td>1249</td>\n",
       "      <td>7646.000000</td>\n",
       "      <td>669.000000</td>\n",
       "      <td>0.138170</td>\n",
       "      <td>6.000000</td>\n",
       "      <td>494.000000</td>\n",
       "      <td>-1.030100</td>\n",
       "      <td>0.200130</td>\n",
       "      <td>1.183366</td>\n",
       "      <td>0.632666</td>\n",
       "      <td>1.285620</td>\n",
       "      <td>...</td>\n",
       "      <td>0.208662</td>\n",
       "      <td>-0.239875</td>\n",
       "      <td>-0.198182</td>\n",
       "      <td>0.000000</td>\n",
       "      <td>0.000000</td>\n",
       "      <td>-0.085568</td>\n",
       "      <td>-0.125864</td>\n",
       "      <td>-0.317832</td>\n",
       "      <td>0.197574</td>\n",
       "      <td>-0.161598</td>\n",
       "    </tr>\n",
       "    <tr>\n",
       "      <td>6944</td>\n",
       "      <td>61988.000000</td>\n",
       "      <td>3068.000000</td>\n",
       "      <td>-1.252222</td>\n",
       "      <td>6.000000</td>\n",
       "      <td>494.000000</td>\n",
       "      <td>-0.987420</td>\n",
       "      <td>0.200130</td>\n",
       "      <td>1.183366</td>\n",
       "      <td>0.632666</td>\n",
       "      <td>1.285620</td>\n",
       "      <td>...</td>\n",
       "      <td>-0.381874</td>\n",
       "      <td>-0.239875</td>\n",
       "      <td>-0.834833</td>\n",
       "      <td>0.000000</td>\n",
       "      <td>0.000000</td>\n",
       "      <td>-0.807330</td>\n",
       "      <td>-1.575776</td>\n",
       "      <td>-0.871781</td>\n",
       "      <td>-0.590577</td>\n",
       "      <td>-0.161598</td>\n",
       "    </tr>\n",
       "    <tr>\n",
       "      <td>15638</td>\n",
       "      <td>6427135.000000</td>\n",
       "      <td>1381.000000</td>\n",
       "      <td>-0.000869</td>\n",
       "      <td>6.000000</td>\n",
       "      <td>494.000000</td>\n",
       "      <td>0.603735</td>\n",
       "      <td>0.200130</td>\n",
       "      <td>-0.631781</td>\n",
       "      <td>0.632666</td>\n",
       "      <td>-0.644741</td>\n",
       "      <td>...</td>\n",
       "      <td>0.210735</td>\n",
       "      <td>-0.046233</td>\n",
       "      <td>0.014035</td>\n",
       "      <td>0.000000</td>\n",
       "      <td>0.000000</td>\n",
       "      <td>0.142173</td>\n",
       "      <td>0.650512</td>\n",
       "      <td>0.367878</td>\n",
       "      <td>0.146676</td>\n",
       "      <td>-0.161598</td>\n",
       "    </tr>\n",
       "  </tbody>\n",
       "</table>\n",
       "<p>193 rows × 212 columns</p>\n",
       "</div>"
      ],
      "text/plain": [
       "                 cid  canonical_smiles     xlogp  odor level  odor name  \\\n",
       "1382     7707.000000         71.000000 -1.043663    6.000000  38.000000   \n",
       "5279    31231.000000        499.000000 -0.835104    6.000000  38.000000   \n",
       "4631    21574.000000        957.000000 -0.070389    6.000000 124.000000   \n",
       "10962  161676.000000        170.000000 -0.139908    6.000000 124.000000   \n",
       "1082     7462.000000       1312.000000 -0.000869    6.000000 124.000000   \n",
       "...              ...               ...       ...         ...        ...   \n",
       "11570  226486.000000       3329.000000 -0.139908    6.000000 494.000000   \n",
       "1197     7599.000000       3348.000000  0.138170    6.000000 494.000000   \n",
       "1249     7646.000000        669.000000  0.138170    6.000000 494.000000   \n",
       "6944    61988.000000       3068.000000 -1.252222    6.000000 494.000000   \n",
       "15638 6427135.000000       1381.000000 -0.000869    6.000000 494.000000   \n",
       "\n",
       "           fsp3  small rings  arom rings  ring blocks  arom blocks  ...  \\\n",
       "1382  -1.559487     0.200130    1.183366     0.632666     1.285620  ...   \n",
       "5279  -1.268212     0.200130    1.183366     0.632666     1.285620  ...   \n",
       "4631   0.936567    -0.878056   -0.631781    -1.106175    -0.644741  ...   \n",
       "10962  1.012193     3.434689   -0.631781     0.632666    -0.644741  ...   \n",
       "1082  -0.145044     0.200130   -0.631781     0.632666    -0.644741  ...   \n",
       "...         ...          ...         ...          ...          ...  ...   \n",
       "11570 -1.370420     0.200130    1.183366     0.632666     1.285620  ...   \n",
       "1197  -1.689400     1.278317    2.998513     2.371507     3.215981  ...   \n",
       "1249  -1.030100     0.200130    1.183366     0.632666     1.285620  ...   \n",
       "6944  -0.987420     0.200130    1.183366     0.632666     1.285620  ...   \n",
       "15638  0.603735     0.200130   -0.631781     0.632666    -0.644741  ...   \n",
       "\n",
       "          atsm4     atsm5     natom  arom bond  arom atom      apol     alogp  \\\n",
       "1382  -0.757737 -0.768084 -0.940942   0.000000   0.000000 -0.808033 -0.654089   \n",
       "5279  -0.113121 -0.095721 -0.516508   0.000000   0.000000 -0.405350 -1.359337   \n",
       "4631  -0.895942 -0.287748 -0.092074   0.000000   0.000000 -0.256623  0.078986   \n",
       "10962  0.117392  0.048433 -0.092074   0.000000   0.000000 -0.030618 -0.167292   \n",
       "1082  -0.527225 -0.815957 -0.304291   0.000000   0.000000 -0.295448  0.693814   \n",
       "...         ...       ...       ...        ...        ...       ...       ...   \n",
       "11570  1.206074  1.216484 -0.092074   0.000000   0.000000 -0.002667 -1.136514   \n",
       "1197   1.452508  1.296865  0.650686   0.000000   0.000000  1.044830 -0.400178   \n",
       "1249   0.208662 -0.239875 -0.198182   0.000000   0.000000 -0.085568 -0.125864   \n",
       "6944  -0.381874 -0.239875 -0.834833   0.000000   0.000000 -0.807330 -1.575776   \n",
       "15638  0.210735 -0.046233  0.014035   0.000000   0.000000  0.142173  0.650512   \n",
       "\n",
       "         alogp2       amr      acid  \n",
       "1382  -0.629245 -0.468871 -0.161598  \n",
       "5279  -0.849190 -0.042332 -0.161598  \n",
       "4631  -0.163263 -0.564353 -0.161598  \n",
       "10962 -0.346796 -0.316373 -0.161598  \n",
       "1082   0.414111 -0.313605 -0.161598  \n",
       "...         ...       ...       ...  \n",
       "11570 -0.803900  0.460014 -0.161598  \n",
       "1197  -0.495229  1.918556 -0.161598  \n",
       "1249  -0.317832  0.197574 -0.161598  \n",
       "6944  -0.871781 -0.590577 -0.161598  \n",
       "15638  0.367878  0.146676 -0.161598  \n",
       "\n",
       "[193 rows x 212 columns]"
      ]
     },
     "execution_count": 58,
     "metadata": {},
     "output_type": "execute_result"
    }
   ],
   "source": [
    "sensorama2_6=[]\n",
    "\n",
    "for i in range(18, len(sensorama_6)-18):\n",
    "    if sensorama_6.iloc[i,4] == sensorama_6.iloc[i+18,4] or sensorama_6.iloc[i,4] == sensorama_6.iloc[i-18,4]:\n",
    "        sensorama2_6.append(sensorama_6.iloc[i,:]) \n",
    "\n",
    "sensorama2_6= pd.DataFrame(sensorama2_6)\n",
    "sensorama2_6"
   ]
  },
  {
   "cell_type": "code",
   "execution_count": 60,
   "metadata": {},
   "outputs": [
    {
     "name": "stdout",
     "output_type": "stream",
     "text": [
      "10\n"
     ]
    }
   ],
   "source": [
    "count=0\n",
    "for i in range(1, len(sensorama2_6)):\n",
    "    if sensorama2_6.iloc[i,4]!= sensorama2_6.iloc[i-1,4]:\n",
    "        count = count +1\n",
    "print(count)"
   ]
  },
  {
   "cell_type": "code",
   "execution_count": 61,
   "metadata": {},
   "outputs": [],
   "source": [
    "X = sensorama2_6[[ 'xlogp','fsp3', 'small rings','arom rings','ring blocks','arom blocks','rings 3','rings 4', 'rings 5', 'rings 6',\n",
    "               'rings 7', 'rings 8', 'rings 9', 'tpsa efficiency', 'zagreb indices', 'weiner path', 'weiner polarity', 'wtpt.1',\n",
    "               'wtpt.2', 'wtpt.3', 'wtpt.4', 'wtpt.5', 'molecular weight', 'VAdjMat', 'topoPSA', 'lipinski failures', 'rotatable bonds',\n",
    "               'topo shape', 'petitjean number', 'mdec.11', 'mdec.12', 'mdec.13', 'mdec.14', 'mdec.22', 'mdec.23', 'mdec.24',\n",
    "               'mdec.33', 'mdec.34', 'mdec.44', 'mdeo.11', 'mdeo.12', 'mdeo.22', 'mden.11', 'mden.12', 'mden.13', 'mden.22',\n",
    "               'mden.23', 'mden.33', 'mlogp', 'atom p', 'atom lc', 'khs.sli', 'khs.ssbe', 'khs.ssssbe', 'khs.ssbh', 'khs.sssb',\n",
    "               'khs.ssssb', 'khs.sch3', 'khs.dch2', 'khs.ssch2', 'khs.tch', 'khs.dsch', 'khs.aach', 'khs.sssch', 'khs.ddc',\n",
    "               'khs.tsc', 'khs.dssc', 'khs.aasc', 'khs.aaac', 'khs.ssssc', 'khs.snh3', 'khs.snh2', 'khs.ssnh', 'khs.dnh', 'khs.ssnh.1',\n",
    "               'khs.aanh', 'khs.tn', 'khs.sssnh', 'khs.dsn', 'khs.aan', 'khs.sssn', 'khs.dsn.1', 'khs.aasn', 'khs.ssssn', 'khs.soh',\n",
    "               'khs.do', 'khs.sso', 'khs.aao', 'khs.sf', 'khs.ssih3', 'khs.sssih2', 'khs.ssssih', 'khs.sssssi', 'khs.sph2',\n",
    "               'khs.ssph', 'khs.sssp', 'khs.dsssp', 'khs.sssssp', 'khs.ssh', 'khs.ds', 'khs.sss', 'khs.aas', 'khs.dsss', 'khs.ddsss',\n",
    "               'khs.scl', 'khs.sGeH3', 'khs.ssGeH2', 'khs.sssGeH', 'khs.ssssGe', 'khs.sash2', 'khs.ssash', 'khs.sssas', 'khs.sssdas',\n",
    "               'khs.sssssas', 'khs.sseh', 'khs.dse', 'khs.ssse', 'khs.aase', 'khs.dssse', 'khs.ddssse', 'khs.sbr', 'khs.ssnh3', \n",
    "               'khs.sssnh2', 'khs.ssssnh', 'khs.sssssn', 'khs.si', 'khs.spbh3', 'khs.sspbh2', 'khs.ssspbh', 'khs.sssspb', 'kier 1',\n",
    "               'kier 2', 'hybRatio', 'hbdon', 'hbacc', 'fragc', 'fmf', 'eccen', 'SP.0', 'SP.1', 'SP.2', 'SP.3', 'SP.4', 'SP.5', 'SP.6',\n",
    "               'SP.7', 'VP.0', 'VP.1', 'VP.2', 'VP.3', 'VP.4', 'VP.5', 'VP.6', 'VP.7', 'SPC.4', 'SPC.5', 'SPC.6', 'VPC.4', 'VPC.5',\n",
    "               'VPC.6', 'SC.3', 'SC.4', 'SC.5', 'SC.6', 'VC.3', 'VC.4', 'VC.5', 'VC.6', 'SCH.3', 'SCH.4', 'SCH.5', 'SCH.6', 'SCH.7',\n",
    "               'VCH.3', 'VCH.4', 'VCH.3', 'VCH.4', 'VCH.5', 'VCH.6', 'VCH.7', 'C1SP1', 'C2SP1', 'C1SP2', 'C2SP2', 'C3SP2', 'C1SP3',\n",
    "               'C2SP3', 'C3SP3', 'C4SP3', 'bpol', 'bond count', 'basic group count', 'atsp1', 'atsp2' , 'atsp3', 'atsp4', 'atsp5',\n",
    "               'atsm1', 'atsm2','atsm3','atsm4','atsm5', 'natom','arom bond', 'arom atom', 'apol','alogp', 'alogp2', 'amr', 'acid']]\n",
    "y = sensorama2_6['odor name']"
   ]
  },
  {
   "cell_type": "markdown",
   "metadata": {},
   "source": [
    "#### RANDOM FOREST"
   ]
  },
  {
   "cell_type": "code",
   "execution_count": 62,
   "metadata": {},
   "outputs": [
    {
     "name": "stdout",
     "output_type": "stream",
     "text": [
      "Accuracy:  36.734693877551024 %\n"
     ]
    },
    {
     "data": {
      "image/png": "[encoded data removed]",
      "text/plain": [
       "<Figure size 432x288 with 2 Axes>"
      ]
     },
     "metadata": {
      "needs_background": "light"
     },
     "output_type": "display_data"
    }
   ],
   "source": [
    "X_train,X_test,y_train,y_test = train_test_split(X,y,test_size=0.25,random_state=0)\n",
    "sc_X = StandardScaler()\n",
    "X_train = sc_X.fit_transform(X_train)\n",
    "X_test = sc_X.transform(X_test)\n",
    "clf = RandomForestClassifier(n_estimators=100)\n",
    "clf.fit(X_train,y_train)\n",
    "y_pred=clf.predict(X_test)\n",
    "confusion_matrix = pd.crosstab(y_test, y_pred, rownames=['Actual'], colnames=['Predicted'])\n",
    "sns.heatmap(confusion_matrix, annot=True)\n",
    "print('Accuracy: ',metrics.accuracy_score(y_test, y_pred)*100,'%')\n",
    "plt.show()"
   ]
  },
  {
   "cell_type": "markdown",
   "metadata": {},
   "source": [
    "##### Feature Importances "
   ]
  },
  {
   "cell_type": "code",
   "execution_count": 63,
   "metadata": {},
   "outputs": [
    {
     "data": {
      "image/png": "[encoded data removed]",
      "text/plain": [
       "<Figure size 432x288 with 1 Axes>"
      ]
     },
     "metadata": {
      "needs_background": "light"
     },
     "output_type": "display_data"
    }
   ],
   "source": [
    "featureImportances = pd.Series(clf.feature_importances_).sort_values(ascending=False)\n",
    "sns.barplot(x=round(featureImportances,8), y=featureImportances)\n",
    "plt.xlabel('Features Importance')\n",
    "plt.show()"
   ]
  },
  {
   "cell_type": "code",
   "execution_count": 64,
   "metadata": {},
   "outputs": [],
   "source": [
    "X = sensorama2_6[[ 'xlogp','fsp3', 'small rings','arom rings','ring blocks','arom blocks','rings 3','rings 4', 'rings 5', 'rings 6',\n",
    "               'rings 7', 'tpsa efficiency', 'zagreb indices', 'weiner path', 'weiner polarity', 'wtpt.1',\n",
    "               'wtpt.2', 'wtpt.3', 'wtpt.4', 'wtpt.5', 'molecular weight', 'VAdjMat', 'topoPSA', 'lipinski failures', 'rotatable bonds',\n",
    "               'topo shape', 'petitjean number', 'mdec.11', 'mdec.12', 'mdec.13', 'mdec.14', 'mdec.22', 'mdec.23', 'mdec.24',\n",
    "               'mdec.33', 'mdec.34', 'mdec.44', 'mdeo.11', 'mdeo.12', 'mdeo.22', 'mden.22',\n",
    "               'mden.23', 'mlogp', 'atom p', 'atom lc',\n",
    "                  'khs.sch3', 'khs.dch2', 'khs.ssch2','khs.dsch', 'khs.aach', 'khs.sssch', 'khs.ddc',\n",
    "               'khs.tsc', 'khs.dssc', 'khs.aasc', 'khs.aaac', 'khs.ssssc', 'khs.snh2', 'khs.ssnh.1',\n",
    "               'khs.tn', 'khs.dsn', 'khs.aan', 'khs.sssn', 'khs.dsn.1', 'khs.aasn', 'khs.soh',\n",
    "               'khs.do', 'khs.sso', 'khs.aao','khs.ssh', 'khs.ds', 'khs.sss', 'khs.aas', 'khs.dsss','kier 1',\n",
    "               'kier 2', 'hybRatio', 'hbdon', 'hbacc', 'fragc', 'fmf', 'eccen', 'SP.0', 'SP.1', 'SP.2', 'SP.3', 'SP.4', 'SP.5', 'SP.6',\n",
    "               'SP.7', 'VP.0', 'VP.1', 'VP.2', 'VP.3', 'VP.4', 'VP.5', 'VP.6', 'VP.7', 'SPC.4', 'SPC.5', 'SPC.6', 'VPC.4', 'VPC.5',\n",
    "               'VPC.6', 'SC.3', 'SC.4', 'SC.5', 'SC.6', 'VC.3', 'VC.4', 'VC.5', 'VC.6', 'SCH.3', 'SCH.4', 'SCH.5', 'SCH.6', 'SCH.7',\n",
    "               'VCH.3', 'VCH.4', 'VCH.3', 'VCH.4', 'VCH.5', 'VCH.6', 'VCH.7', 'C1SP1', 'C2SP1', 'C1SP2', 'C2SP2', 'C3SP2', 'C1SP3',\n",
    "               'C2SP3', 'C3SP3', 'C4SP3', 'bpol', 'bond count', 'atsp1', 'atsp2' , 'atsp3', 'atsp4', 'atsp5',\n",
    "               'atsm1', 'atsm2','atsm3','atsm4','atsm5', 'natom', 'apol','alogp', 'alogp2', 'amr', 'acid']]\n",
    "y = sensorama2_6['odor name']"
   ]
  },
  {
   "cell_type": "code",
   "execution_count": 65,
   "metadata": {},
   "outputs": [
    {
     "name": "stdout",
     "output_type": "stream",
     "text": [
      "Accuracy:  20.408163265306122 %\n"
     ]
    },
    {
     "data": {
      "image/png": "[encoded data removed]",
      "text/plain": [
       "<Figure size 432x288 with 2 Axes>"
      ]
     },
     "metadata": {
      "needs_background": "light"
     },
     "output_type": "display_data"
    }
   ],
   "source": [
    "X_train,X_test,y_train,y_test = train_test_split(X,y,test_size=0.25,random_state=0)\n",
    "sc_X = StandardScaler()\n",
    "X_train = sc_X.fit_transform(X_train)\n",
    "X_test = sc_X.transform(X_test)\n",
    "clf = RandomForestClassifier(n_estimators=100)\n",
    "clf.fit(X_train,y_train)\n",
    "y_pred=clf.predict(X_test)\n",
    "confusion_matrix = pd.crosstab(y_test, y_pred, rownames=['Actual'], colnames=['Predicted'])\n",
    "sns.heatmap(confusion_matrix, annot=True)\n",
    "print('Accuracy: ',metrics.accuracy_score(y_test, y_pred)*100,'%')\n",
    "plt.show()"
   ]
  },
  {
   "cell_type": "markdown",
   "metadata": {},
   "source": [
    "#### SUPPORT VECTOR MACHINE "
   ]
  },
  {
   "cell_type": "markdown",
   "metadata": {},
   "source": [
    "##### rbf Kernel "
   ]
  },
  {
   "cell_type": "code",
   "execution_count": 66,
   "metadata": {},
   "outputs": [
    {
     "name": "stdout",
     "output_type": "stream",
     "text": [
      "Accuracy: 32.6530612244898 %\n"
     ]
    }
   ],
   "source": [
    "X_tr, X_tst, y_tr, y_tst = train_test_split(X, y, test_size=25/100,random_state=109)\n",
    "clf = svm.SVC(kernel='rbf') # creating Support Vector Machine model\n",
    "clf.fit(X_tr, y_tr) # training the Model\n",
    "y_pr = clf.predict(X_tst) # making Predictions\n",
    "\n",
    "# Evaluating Prediction Accuracy\n",
    "print(\"Accuracy:\",metrics.accuracy_score(y_tst, y_pr)*100,\"%\")"
   ]
  },
  {
   "cell_type": "markdown",
   "metadata": {},
   "source": [
    "##### Polynomial Kernel\n"
   ]
  },
  {
   "cell_type": "code",
   "execution_count": 67,
   "metadata": {},
   "outputs": [
    {
     "name": "stdout",
     "output_type": "stream",
     "text": [
      "Accuracy: 32.6530612244898 %\n"
     ]
    }
   ],
   "source": [
    "X_tr, X_tst, y_tr, y_tst = train_test_split(X, y, test_size=25/100,random_state=109)\n",
    "clf = svm.SVC(kernel='poly') # Creating Support Vector Machine Model\n",
    "clf.fit(X_tr,y_tr) # fit classifier to training set\n",
    "y_pr = clf.predict(X_tst) # Making Predictions\n",
    "\n",
    "# Evaluating Prediction Accuracy\n",
    "print(\"Accuracy:\",metrics.accuracy_score(y_tst, y_pr)*100,\"%\")"
   ]
  },
  {
   "cell_type": "markdown",
   "metadata": {},
   "source": [
    "##### Sigmoid Kernel "
   ]
  },
  {
   "cell_type": "code",
   "execution_count": 68,
   "metadata": {},
   "outputs": [
    {
     "name": "stdout",
     "output_type": "stream",
     "text": [
      "Accuracy: 24.489795918367346 %\n"
     ]
    }
   ],
   "source": [
    "X_tr, X_tst, y_tr, y_tst = train_test_split(X, y, test_size=25/100,random_state=109)\n",
    "clf=svm.SVC(kernel='sigmoid') # instantiate classifier with sigmoid kernel\n",
    "clf.fit(X_tr,y_tr) # fit classifier to training set\n",
    "y_pr = clf.predict(X_tst) # Making Predictions\n",
    "\n",
    "# Evaluating Prediction Accuracy\n",
    "print(\"Accuracy:\",metrics.accuracy_score(y_tst, y_pr)*100,\"%\")"
   ]
  },
  {
   "cell_type": "markdown",
   "metadata": {},
   "source": [
    "#### DECISION TREE"
   ]
  },
  {
   "cell_type": "code",
   "execution_count": 69,
   "metadata": {},
   "outputs": [
    {
     "name": "stdout",
     "output_type": "stream",
     "text": [
      "Accuracy: 15.517241379310345 %\n"
     ]
    }
   ],
   "source": [
    "# Split dataset into training set and test set\n",
    "X_train, X_test, y_train, y_test = train_test_split(X, y, test_size=0.3, random_state=1) # 70% training and 30% test\n",
    "clf = DecisionTreeClassifier() # Create Decision Tree classifer object\n",
    "clf = clf.fit(X_train,y_train) # Train Decision Tree Classifer\n",
    "y_pred = clf.predict(X_test) # Predict the response for test dataset\n",
    "\n",
    "# how often is the classifier correct?\n",
    "print(\"Accuracy:\",metrics.accuracy_score(y_test, y_pred)*100,\"%\")"
   ]
  },
  {
   "cell_type": "markdown",
   "metadata": {},
   "source": [
    "#### LOGISTIC REGRESSION "
   ]
  },
  {
   "cell_type": "code",
   "execution_count": 70,
   "metadata": {},
   "outputs": [
    {
     "name": "stdout",
     "output_type": "stream",
     "text": [
      "Accuracy:  28.57142857142857 %\n"
     ]
    }
   ],
   "source": [
    "X_train,X_test,y_train,y_test = train_test_split(X,y,test_size=0.25,random_state=0)\n",
    "clf= LogisticRegression( max_iter=100000000)\n",
    "clf.fit(X_train,y_train)\n",
    "y_pred=clf.predict(X_test)\n",
    "print('Accuracy: ',metrics.accuracy_score(y_test, y_pred)*100,'%')"
   ]
  },
  {
   "cell_type": "markdown",
   "metadata": {},
   "source": [
    "#### K-Nearest Neighbor "
   ]
  },
  {
   "cell_type": "code",
   "execution_count": 71,
   "metadata": {},
   "outputs": [
    {
     "data": {
      "text/plain": [
       "Text(0, 0.5, 'Accuracy')"
      ]
     },
     "execution_count": 71,
     "metadata": {},
     "output_type": "execute_result"
    },
    {
     "data": {
      "image/png": "[encoded data removed]",
      "text/plain": [
       "<Figure size 864x432 with 1 Axes>"
      ]
     },
     "metadata": {
      "needs_background": "light"
     },
     "output_type": "display_data"
    }
   ],
   "source": [
    "# Split data into training and testing sets.\n",
    "X_train, X_test, y_train, y_test = train_test_split(X, y, random_state=42)\n",
    "accuracy=[]\n",
    "for i in range(1,21):\n",
    "    clf = KNeighborsClassifier(n_neighbors=i)\n",
    "    clf.fit(X_train, y_train)\n",
    "    ypred = clf.predict(X_test)\n",
    "    accuracy.append(metrics.accuracy_score(y_test, ypred))\n",
    "plt.figure(figsize=(12, 6))\n",
    "plt.plot(range(1, 21), accuracy, color='orange', linestyle='dashed', marker='o',\n",
    "         markerfacecolor='green', markersize=10)\n",
    "plt.title('Looking for the most accurate k value')\n",
    "plt.xlabel('K Value')\n",
    "plt.ylabel('Accuracy')"
   ]
  },
  {
   "cell_type": "code",
   "execution_count": 72,
   "metadata": {
    "scrolled": true
   },
   "outputs": [
    {
     "name": "stdout",
     "output_type": "stream",
     "text": [
      "Accuracy: 30.612244897959183 %\n"
     ]
    }
   ],
   "source": [
    "clf = KNeighborsClassifier(n_neighbors=12)\n",
    "clf.fit(X_train, y_train)\n",
    "ypred = clf.predict(X_test)\n",
    "\n",
    "# Best accuracy\n",
    "print(\"Accuracy:\",metrics.accuracy_score(y_test, ypred)*100,\"%\")"
   ]
  },
  {
   "cell_type": "markdown",
   "metadata": {},
   "source": [
    "### 7 MOST COMMON ODOR NAMES "
   ]
  },
  {
   "cell_type": "code",
   "execution_count": 63,
   "metadata": {},
   "outputs": [],
   "source": [
    "sensorama_6 = sensorama_6.sort_values('odor name')"
   ]
  },
  {
   "cell_type": "code",
   "execution_count": 73,
   "metadata": {},
   "outputs": [
    {
     "data": {
      "text/html": [
       "<div>\n",
       "<style scoped>\n",
       "    .dataframe tbody tr th:only-of-type {\n",
       "        vertical-align: middle;\n",
       "    }\n",
       "\n",
       "    .dataframe tbody tr th {\n",
       "        vertical-align: top;\n",
       "    }\n",
       "\n",
       "    .dataframe thead th {\n",
       "        text-align: right;\n",
       "    }\n",
       "</style>\n",
       "<table border=\"1\" class=\"dataframe\">\n",
       "  <thead>\n",
       "    <tr style=\"text-align: right;\">\n",
       "      <th></th>\n",
       "      <th>cid</th>\n",
       "      <th>canonical_smiles</th>\n",
       "      <th>xlogp</th>\n",
       "      <th>odor level</th>\n",
       "      <th>odor name</th>\n",
       "      <th>fsp3</th>\n",
       "      <th>small rings</th>\n",
       "      <th>arom rings</th>\n",
       "      <th>ring blocks</th>\n",
       "      <th>arom blocks</th>\n",
       "      <th>...</th>\n",
       "      <th>atsm4</th>\n",
       "      <th>atsm5</th>\n",
       "      <th>natom</th>\n",
       "      <th>arom bond</th>\n",
       "      <th>arom atom</th>\n",
       "      <th>apol</th>\n",
       "      <th>alogp</th>\n",
       "      <th>alogp2</th>\n",
       "      <th>amr</th>\n",
       "      <th>acid</th>\n",
       "    </tr>\n",
       "  </thead>\n",
       "  <tbody>\n",
       "    <tr>\n",
       "      <td>4631</td>\n",
       "      <td>21574.000000</td>\n",
       "      <td>957.000000</td>\n",
       "      <td>-0.070389</td>\n",
       "      <td>6.000000</td>\n",
       "      <td>124.000000</td>\n",
       "      <td>0.936567</td>\n",
       "      <td>-0.878056</td>\n",
       "      <td>-0.631781</td>\n",
       "      <td>-1.106175</td>\n",
       "      <td>-0.644741</td>\n",
       "      <td>...</td>\n",
       "      <td>-0.895942</td>\n",
       "      <td>-0.287748</td>\n",
       "      <td>-0.092074</td>\n",
       "      <td>0.000000</td>\n",
       "      <td>0.000000</td>\n",
       "      <td>-0.256623</td>\n",
       "      <td>0.078986</td>\n",
       "      <td>-0.163263</td>\n",
       "      <td>-0.564353</td>\n",
       "      <td>-0.161598</td>\n",
       "    </tr>\n",
       "    <tr>\n",
       "      <td>10962</td>\n",
       "      <td>161676.000000</td>\n",
       "      <td>170.000000</td>\n",
       "      <td>-0.139908</td>\n",
       "      <td>6.000000</td>\n",
       "      <td>124.000000</td>\n",
       "      <td>1.012193</td>\n",
       "      <td>3.434689</td>\n",
       "      <td>-0.631781</td>\n",
       "      <td>0.632666</td>\n",
       "      <td>-0.644741</td>\n",
       "      <td>...</td>\n",
       "      <td>0.117392</td>\n",
       "      <td>0.048433</td>\n",
       "      <td>-0.092074</td>\n",
       "      <td>0.000000</td>\n",
       "      <td>0.000000</td>\n",
       "      <td>-0.030618</td>\n",
       "      <td>-0.167292</td>\n",
       "      <td>-0.346796</td>\n",
       "      <td>-0.316373</td>\n",
       "      <td>-0.161598</td>\n",
       "    </tr>\n",
       "    <tr>\n",
       "      <td>1082</td>\n",
       "      <td>7462.000000</td>\n",
       "      <td>1312.000000</td>\n",
       "      <td>-0.000869</td>\n",
       "      <td>6.000000</td>\n",
       "      <td>124.000000</td>\n",
       "      <td>-0.145044</td>\n",
       "      <td>0.200130</td>\n",
       "      <td>-0.631781</td>\n",
       "      <td>0.632666</td>\n",
       "      <td>-0.644741</td>\n",
       "      <td>...</td>\n",
       "      <td>-0.527225</td>\n",
       "      <td>-0.815957</td>\n",
       "      <td>-0.304291</td>\n",
       "      <td>0.000000</td>\n",
       "      <td>0.000000</td>\n",
       "      <td>-0.295448</td>\n",
       "      <td>0.693814</td>\n",
       "      <td>0.414111</td>\n",
       "      <td>-0.313605</td>\n",
       "      <td>-0.161598</td>\n",
       "    </tr>\n",
       "    <tr>\n",
       "      <td>5418</td>\n",
       "      <td>31291.000000</td>\n",
       "      <td>2839.000000</td>\n",
       "      <td>2.223757</td>\n",
       "      <td>6.000000</td>\n",
       "      <td>124.000000</td>\n",
       "      <td>1.085199</td>\n",
       "      <td>-0.878056</td>\n",
       "      <td>-0.631781</td>\n",
       "      <td>-1.106175</td>\n",
       "      <td>-0.644741</td>\n",
       "      <td>...</td>\n",
       "      <td>-0.343122</td>\n",
       "      <td>-0.047314</td>\n",
       "      <td>1.499554</td>\n",
       "      <td>0.000000</td>\n",
       "      <td>0.000000</td>\n",
       "      <td>1.342273</td>\n",
       "      <td>2.119021</td>\n",
       "      <td>2.406991</td>\n",
       "      <td>0.955961</td>\n",
       "      <td>-0.161598</td>\n",
       "    </tr>\n",
       "    <tr>\n",
       "      <td>2066</td>\n",
       "      <td>8185.000000</td>\n",
       "      <td>269.000000</td>\n",
       "      <td>1.389522</td>\n",
       "      <td>6.000000</td>\n",
       "      <td>124.000000</td>\n",
       "      <td>0.671873</td>\n",
       "      <td>-0.878056</td>\n",
       "      <td>-0.631781</td>\n",
       "      <td>-1.106175</td>\n",
       "      <td>-0.644741</td>\n",
       "      <td>...</td>\n",
       "      <td>-0.757737</td>\n",
       "      <td>-0.479776</td>\n",
       "      <td>0.544577</td>\n",
       "      <td>0.000000</td>\n",
       "      <td>0.000000</td>\n",
       "      <td>0.382929</td>\n",
       "      <td>0.919065</td>\n",
       "      <td>0.668234</td>\n",
       "      <td>0.133465</td>\n",
       "      <td>-0.161598</td>\n",
       "    </tr>\n",
       "    <tr>\n",
       "      <td>...</td>\n",
       "      <td>...</td>\n",
       "      <td>...</td>\n",
       "      <td>...</td>\n",
       "      <td>...</td>\n",
       "      <td>...</td>\n",
       "      <td>...</td>\n",
       "      <td>...</td>\n",
       "      <td>...</td>\n",
       "      <td>...</td>\n",
       "      <td>...</td>\n",
       "      <td>...</td>\n",
       "      <td>...</td>\n",
       "      <td>...</td>\n",
       "      <td>...</td>\n",
       "      <td>...</td>\n",
       "      <td>...</td>\n",
       "      <td>...</td>\n",
       "      <td>...</td>\n",
       "      <td>...</td>\n",
       "      <td>...</td>\n",
       "      <td>...</td>\n",
       "    </tr>\n",
       "    <tr>\n",
       "      <td>10262</td>\n",
       "      <td>109418.000000</td>\n",
       "      <td>1584.000000</td>\n",
       "      <td>-0.139908</td>\n",
       "      <td>6.000000</td>\n",
       "      <td>494.000000</td>\n",
       "      <td>1.352513</td>\n",
       "      <td>0.200130</td>\n",
       "      <td>-0.631781</td>\n",
       "      <td>0.632666</td>\n",
       "      <td>-0.644741</td>\n",
       "      <td>...</td>\n",
       "      <td>-0.297224</td>\n",
       "      <td>-0.528183</td>\n",
       "      <td>-0.092074</td>\n",
       "      <td>0.000000</td>\n",
       "      <td>0.000000</td>\n",
       "      <td>-0.256623</td>\n",
       "      <td>-0.079509</td>\n",
       "      <td>-0.284509</td>\n",
       "      <td>-0.604737</td>\n",
       "      <td>-0.161598</td>\n",
       "    </tr>\n",
       "    <tr>\n",
       "      <td>11243</td>\n",
       "      <td>166500.000000</td>\n",
       "      <td>3114.000000</td>\n",
       "      <td>0.068650</td>\n",
       "      <td>6.000000</td>\n",
       "      <td>494.000000</td>\n",
       "      <td>0.488423</td>\n",
       "      <td>0.200130</td>\n",
       "      <td>-0.631781</td>\n",
       "      <td>0.632666</td>\n",
       "      <td>-0.644741</td>\n",
       "      <td>...</td>\n",
       "      <td>1.498931</td>\n",
       "      <td>2.017101</td>\n",
       "      <td>0.862903</td>\n",
       "      <td>0.000000</td>\n",
       "      <td>0.000000</td>\n",
       "      <td>0.829689</td>\n",
       "      <td>0.661684</td>\n",
       "      <td>0.379726</td>\n",
       "      <td>0.636080</td>\n",
       "      <td>-0.161598</td>\n",
       "    </tr>\n",
       "    <tr>\n",
       "      <td>1197</td>\n",
       "      <td>7599.000000</td>\n",
       "      <td>3348.000000</td>\n",
       "      <td>0.138170</td>\n",
       "      <td>6.000000</td>\n",
       "      <td>494.000000</td>\n",
       "      <td>-1.689400</td>\n",
       "      <td>1.278317</td>\n",
       "      <td>2.998513</td>\n",
       "      <td>2.371507</td>\n",
       "      <td>3.215981</td>\n",
       "      <td>...</td>\n",
       "      <td>1.452508</td>\n",
       "      <td>1.296865</td>\n",
       "      <td>0.650686</td>\n",
       "      <td>0.000000</td>\n",
       "      <td>0.000000</td>\n",
       "      <td>1.044830</td>\n",
       "      <td>-0.400178</td>\n",
       "      <td>-0.495229</td>\n",
       "      <td>1.918556</td>\n",
       "      <td>-0.161598</td>\n",
       "    </tr>\n",
       "    <tr>\n",
       "      <td>1249</td>\n",
       "      <td>7646.000000</td>\n",
       "      <td>669.000000</td>\n",
       "      <td>0.138170</td>\n",
       "      <td>6.000000</td>\n",
       "      <td>494.000000</td>\n",
       "      <td>-1.030100</td>\n",
       "      <td>0.200130</td>\n",
       "      <td>1.183366</td>\n",
       "      <td>0.632666</td>\n",
       "      <td>1.285620</td>\n",
       "      <td>...</td>\n",
       "      <td>0.208662</td>\n",
       "      <td>-0.239875</td>\n",
       "      <td>-0.198182</td>\n",
       "      <td>0.000000</td>\n",
       "      <td>0.000000</td>\n",
       "      <td>-0.085568</td>\n",
       "      <td>-0.125864</td>\n",
       "      <td>-0.317832</td>\n",
       "      <td>0.197574</td>\n",
       "      <td>-0.161598</td>\n",
       "    </tr>\n",
       "    <tr>\n",
       "      <td>6944</td>\n",
       "      <td>61988.000000</td>\n",
       "      <td>3068.000000</td>\n",
       "      <td>-1.252222</td>\n",
       "      <td>6.000000</td>\n",
       "      <td>494.000000</td>\n",
       "      <td>-0.987420</td>\n",
       "      <td>0.200130</td>\n",
       "      <td>1.183366</td>\n",
       "      <td>0.632666</td>\n",
       "      <td>1.285620</td>\n",
       "      <td>...</td>\n",
       "      <td>-0.381874</td>\n",
       "      <td>-0.239875</td>\n",
       "      <td>-0.834833</td>\n",
       "      <td>0.000000</td>\n",
       "      <td>0.000000</td>\n",
       "      <td>-0.807330</td>\n",
       "      <td>-1.575776</td>\n",
       "      <td>-0.871781</td>\n",
       "      <td>-0.590577</td>\n",
       "      <td>-0.161598</td>\n",
       "    </tr>\n",
       "  </tbody>\n",
       "</table>\n",
       "<p>172 rows × 212 columns</p>\n",
       "</div>"
      ],
      "text/plain": [
       "                cid  canonical_smiles     xlogp  odor level  odor name  \\\n",
       "4631   21574.000000        957.000000 -0.070389    6.000000 124.000000   \n",
       "10962 161676.000000        170.000000 -0.139908    6.000000 124.000000   \n",
       "1082    7462.000000       1312.000000 -0.000869    6.000000 124.000000   \n",
       "5418   31291.000000       2839.000000  2.223757    6.000000 124.000000   \n",
       "2066    8185.000000        269.000000  1.389522    6.000000 124.000000   \n",
       "...             ...               ...       ...         ...        ...   \n",
       "10262 109418.000000       1584.000000 -0.139908    6.000000 494.000000   \n",
       "11243 166500.000000       3114.000000  0.068650    6.000000 494.000000   \n",
       "1197    7599.000000       3348.000000  0.138170    6.000000 494.000000   \n",
       "1249    7646.000000        669.000000  0.138170    6.000000 494.000000   \n",
       "6944   61988.000000       3068.000000 -1.252222    6.000000 494.000000   \n",
       "\n",
       "           fsp3  small rings  arom rings  ring blocks  arom blocks  ...  \\\n",
       "4631   0.936567    -0.878056   -0.631781    -1.106175    -0.644741  ...   \n",
       "10962  1.012193     3.434689   -0.631781     0.632666    -0.644741  ...   \n",
       "1082  -0.145044     0.200130   -0.631781     0.632666    -0.644741  ...   \n",
       "5418   1.085199    -0.878056   -0.631781    -1.106175    -0.644741  ...   \n",
       "2066   0.671873    -0.878056   -0.631781    -1.106175    -0.644741  ...   \n",
       "...         ...          ...         ...          ...          ...  ...   \n",
       "10262  1.352513     0.200130   -0.631781     0.632666    -0.644741  ...   \n",
       "11243  0.488423     0.200130   -0.631781     0.632666    -0.644741  ...   \n",
       "1197  -1.689400     1.278317    2.998513     2.371507     3.215981  ...   \n",
       "1249  -1.030100     0.200130    1.183366     0.632666     1.285620  ...   \n",
       "6944  -0.987420     0.200130    1.183366     0.632666     1.285620  ...   \n",
       "\n",
       "          atsm4     atsm5     natom  arom bond  arom atom      apol     alogp  \\\n",
       "4631  -0.895942 -0.287748 -0.092074   0.000000   0.000000 -0.256623  0.078986   \n",
       "10962  0.117392  0.048433 -0.092074   0.000000   0.000000 -0.030618 -0.167292   \n",
       "1082  -0.527225 -0.815957 -0.304291   0.000000   0.000000 -0.295448  0.693814   \n",
       "5418  -0.343122 -0.047314  1.499554   0.000000   0.000000  1.342273  2.119021   \n",
       "2066  -0.757737 -0.479776  0.544577   0.000000   0.000000  0.382929  0.919065   \n",
       "...         ...       ...       ...        ...        ...       ...       ...   \n",
       "10262 -0.297224 -0.528183 -0.092074   0.000000   0.000000 -0.256623 -0.079509   \n",
       "11243  1.498931  2.017101  0.862903   0.000000   0.000000  0.829689  0.661684   \n",
       "1197   1.452508  1.296865  0.650686   0.000000   0.000000  1.044830 -0.400178   \n",
       "1249   0.208662 -0.239875 -0.198182   0.000000   0.000000 -0.085568 -0.125864   \n",
       "6944  -0.381874 -0.239875 -0.834833   0.000000   0.000000 -0.807330 -1.575776   \n",
       "\n",
       "         alogp2       amr      acid  \n",
       "4631  -0.163263 -0.564353 -0.161598  \n",
       "10962 -0.346796 -0.316373 -0.161598  \n",
       "1082   0.414111 -0.313605 -0.161598  \n",
       "5418   2.406991  0.955961 -0.161598  \n",
       "2066   0.668234  0.133465 -0.161598  \n",
       "...         ...       ...       ...  \n",
       "10262 -0.284509 -0.604737 -0.161598  \n",
       "11243  0.379726  0.636080 -0.161598  \n",
       "1197  -0.495229  1.918556 -0.161598  \n",
       "1249  -0.317832  0.197574 -0.161598  \n",
       "6944  -0.871781 -0.590577 -0.161598  \n",
       "\n",
       "[172 rows x 212 columns]"
      ]
     },
     "execution_count": 73,
     "metadata": {},
     "output_type": "execute_result"
    }
   ],
   "source": [
    "sensorama2_6=[]\n",
    "\n",
    "for i in range(19, len(sensorama_6)-19):\n",
    "    if sensorama_6.iloc[i,4] == sensorama_6.iloc[i+19,4] or sensorama_6.iloc[i,4] == sensorama_6.iloc[i-19,4]:\n",
    "        sensorama2_6.append(sensorama_6.iloc[i,:]) \n",
    "\n",
    "sensorama2_6= pd.DataFrame(sensorama2_6)\n",
    "sensorama2_6"
   ]
  },
  {
   "cell_type": "code",
   "execution_count": 74,
   "metadata": {},
   "outputs": [
    {
     "name": "stdout",
     "output_type": "stream",
     "text": [
      "7\n"
     ]
    }
   ],
   "source": [
    "count=0\n",
    "for i in range(1, len(sensorama2_6)):\n",
    "    if sensorama2_6.iloc[i,4]!= sensorama2_6.iloc[i-1,4]:\n",
    "        count = count +1\n",
    "print(count)"
   ]
  },
  {
   "cell_type": "code",
   "execution_count": 75,
   "metadata": {},
   "outputs": [],
   "source": [
    "X = sensorama2_6[[ 'xlogp','fsp3', 'small rings','arom rings','ring blocks','arom blocks','rings 3','rings 4', 'rings 5', 'rings 6',\n",
    "               'rings 7', 'rings 8', 'rings 9', 'tpsa efficiency', 'zagreb indices', 'weiner path', 'weiner polarity', 'wtpt.1',\n",
    "               'wtpt.2', 'wtpt.3', 'wtpt.4', 'wtpt.5', 'molecular weight', 'VAdjMat', 'topoPSA', 'lipinski failures', 'rotatable bonds',\n",
    "               'topo shape', 'petitjean number', 'mdec.11', 'mdec.12', 'mdec.13', 'mdec.14', 'mdec.22', 'mdec.23', 'mdec.24',\n",
    "               'mdec.33', 'mdec.34', 'mdec.44', 'mdeo.11', 'mdeo.12', 'mdeo.22', 'mden.11', 'mden.12', 'mden.13', 'mden.22',\n",
    "               'mden.23', 'mden.33', 'mlogp', 'atom p', 'atom lc', 'khs.sli', 'khs.ssbe', 'khs.ssssbe', 'khs.ssbh', 'khs.sssb',\n",
    "               'khs.ssssb', 'khs.sch3', 'khs.dch2', 'khs.ssch2', 'khs.tch', 'khs.dsch', 'khs.aach', 'khs.sssch', 'khs.ddc',\n",
    "               'khs.tsc', 'khs.dssc', 'khs.aasc', 'khs.aaac', 'khs.ssssc', 'khs.snh3', 'khs.snh2', 'khs.ssnh', 'khs.dnh', 'khs.ssnh.1',\n",
    "               'khs.aanh', 'khs.tn', 'khs.sssnh', 'khs.dsn', 'khs.aan', 'khs.sssn', 'khs.dsn.1', 'khs.aasn', 'khs.ssssn', 'khs.soh',\n",
    "               'khs.do', 'khs.sso', 'khs.aao', 'khs.sf', 'khs.ssih3', 'khs.sssih2', 'khs.ssssih', 'khs.sssssi', 'khs.sph2',\n",
    "               'khs.ssph', 'khs.sssp', 'khs.dsssp', 'khs.sssssp', 'khs.ssh', 'khs.ds', 'khs.sss', 'khs.aas', 'khs.dsss', 'khs.ddsss',\n",
    "               'khs.scl', 'khs.sGeH3', 'khs.ssGeH2', 'khs.sssGeH', 'khs.ssssGe', 'khs.sash2', 'khs.ssash', 'khs.sssas', 'khs.sssdas',\n",
    "               'khs.sssssas', 'khs.sseh', 'khs.dse', 'khs.ssse', 'khs.aase', 'khs.dssse', 'khs.ddssse', 'khs.sbr', 'khs.ssnh3', \n",
    "               'khs.sssnh2', 'khs.ssssnh', 'khs.sssssn', 'khs.si', 'khs.spbh3', 'khs.sspbh2', 'khs.ssspbh', 'khs.sssspb', 'kier 1',\n",
    "               'kier 2', 'hybRatio', 'hbdon', 'hbacc', 'fragc', 'fmf', 'eccen', 'SP.0', 'SP.1', 'SP.2', 'SP.3', 'SP.4', 'SP.5', 'SP.6',\n",
    "               'SP.7', 'VP.0', 'VP.1', 'VP.2', 'VP.3', 'VP.4', 'VP.5', 'VP.6', 'VP.7', 'SPC.4', 'SPC.5', 'SPC.6', 'VPC.4', 'VPC.5',\n",
    "               'VPC.6', 'SC.3', 'SC.4', 'SC.5', 'SC.6', 'VC.3', 'VC.4', 'VC.5', 'VC.6', 'SCH.3', 'SCH.4', 'SCH.5', 'SCH.6', 'SCH.7',\n",
    "               'VCH.3', 'VCH.4', 'VCH.3', 'VCH.4', 'VCH.5', 'VCH.6', 'VCH.7', 'C1SP1', 'C2SP1', 'C1SP2', 'C2SP2', 'C3SP2', 'C1SP3',\n",
    "               'C2SP3', 'C3SP3', 'C4SP3', 'bpol', 'bond count', 'basic group count', 'atsp1', 'atsp2' , 'atsp3', 'atsp4', 'atsp5',\n",
    "               'atsm1', 'atsm2','atsm3','atsm4','atsm5', 'natom','arom bond', 'arom atom', 'apol','alogp', 'alogp2', 'amr', 'acid']]\n",
    "y = sensorama2_6['odor name']"
   ]
  },
  {
   "cell_type": "markdown",
   "metadata": {},
   "source": [
    "#### RANDOM FOREST"
   ]
  },
  {
   "cell_type": "code",
   "execution_count": 76,
   "metadata": {},
   "outputs": [
    {
     "name": "stdout",
     "output_type": "stream",
     "text": [
      "Accuracy:  27.906976744186046 %\n"
     ]
    },
    {
     "data": {
      "image/png": "[encoded data removed]",
      "text/plain": [
       "<Figure size 432x288 with 2 Axes>"
      ]
     },
     "metadata": {
      "needs_background": "light"
     },
     "output_type": "display_data"
    }
   ],
   "source": [
    "X_train,X_test,y_train,y_test = train_test_split(X,y,test_size=0.25,random_state=0)\n",
    "sc_X = StandardScaler()\n",
    "X_train = sc_X.fit_transform(X_train)\n",
    "X_test = sc_X.transform(X_test)\n",
    "clf = RandomForestClassifier(n_estimators=100)\n",
    "clf.fit(X_train,y_train)\n",
    "y_pred=clf.predict(X_test)\n",
    "confusion_matrix = pd.crosstab(y_test, y_pred, rownames=['Actual'], colnames=['Predicted'])\n",
    "sns.heatmap(confusion_matrix, annot=True)\n",
    "print('Accuracy: ',metrics.accuracy_score(y_test, y_pred)*100,'%')\n",
    "plt.show()"
   ]
  },
  {
   "cell_type": "markdown",
   "metadata": {},
   "source": [
    "##### Feature Importances "
   ]
  },
  {
   "cell_type": "code",
   "execution_count": 77,
   "metadata": {},
   "outputs": [
    {
     "data": {
      "image/png": "[encoded data removed]",
      "text/plain": [
       "<Figure size 432x288 with 1 Axes>"
      ]
     },
     "metadata": {
      "needs_background": "light"
     },
     "output_type": "display_data"
    }
   ],
   "source": [
    "featureImportances = pd.Series(clf.feature_importances_).sort_values(ascending=False)\n",
    "sns.barplot(x=round(featureImportances,8), y=featureImportances)\n",
    "plt.xlabel('Features Importance')\n",
    "plt.show()"
   ]
  },
  {
   "cell_type": "code",
   "execution_count": 78,
   "metadata": {},
   "outputs": [],
   "source": [
    "X = sensorama2_6[[ 'xlogp','fsp3', 'small rings','arom rings','ring blocks','arom blocks','rings 3','rings 4', 'rings 5', 'rings 6',\n",
    "               'rings 7', 'tpsa efficiency', 'zagreb indices', 'weiner path', 'weiner polarity', 'wtpt.1',\n",
    "               'wtpt.2', 'wtpt.3', 'wtpt.4', 'wtpt.5', 'molecular weight', 'VAdjMat', 'topoPSA', 'lipinski failures', 'rotatable bonds',\n",
    "               'topo shape', 'petitjean number', 'mdec.11', 'mdec.12', 'mdec.13', 'mdec.14', 'mdec.22', 'mdec.23', 'mdec.24',\n",
    "               'mdec.33', 'mdec.34', 'mdec.44', 'mdeo.11', 'mdeo.12', 'mdeo.22', 'mden.22',\n",
    "               'mden.23', 'mlogp', 'atom p', 'atom lc',\n",
    "                  'khs.sch3', 'khs.dch2', 'khs.ssch2','khs.dsch', 'khs.aach', 'khs.sssch', 'khs.ddc',\n",
    "               'khs.tsc', 'khs.dssc', 'khs.aasc', 'khs.aaac', 'khs.ssssc', 'khs.snh2', 'khs.ssnh.1',\n",
    "               'khs.tn', 'khs.dsn', 'khs.aan', 'khs.sssn', 'khs.dsn.1', 'khs.aasn', 'khs.soh',\n",
    "               'khs.do', 'khs.sso', 'khs.aao','khs.ssh', 'khs.ds', 'khs.sss', 'khs.aas', 'khs.dsss','kier 1',\n",
    "               'kier 2', 'hybRatio', 'hbdon', 'hbacc', 'fragc', 'fmf', 'eccen', 'SP.0', 'SP.1', 'SP.2', 'SP.3', 'SP.4', 'SP.5', 'SP.6',\n",
    "               'SP.7', 'VP.0', 'VP.1', 'VP.2', 'VP.3', 'VP.4', 'VP.5', 'VP.6', 'VP.7', 'SPC.4', 'SPC.5', 'SPC.6', 'VPC.4', 'VPC.5',\n",
    "               'VPC.6', 'SC.3', 'SC.4', 'SC.5', 'SC.6', 'VC.3', 'VC.4', 'VC.5', 'VC.6', 'SCH.3', 'SCH.4', 'SCH.5', 'SCH.6', 'SCH.7',\n",
    "               'VCH.3', 'VCH.4', 'VCH.3', 'VCH.4', 'VCH.5', 'VCH.6', 'VCH.7', 'C1SP1', 'C2SP1', 'C1SP2', 'C2SP2', 'C3SP2', 'C1SP3',\n",
    "               'C2SP3', 'C3SP3', 'C4SP3', 'bpol', 'bond count', 'atsp1', 'atsp2' , 'atsp3', 'atsp4', 'atsp5',\n",
    "               'atsm1', 'atsm2','atsm3','atsm4','atsm5', 'natom', 'apol','alogp', 'alogp2', 'amr', 'acid']]\n",
    "y = sensorama2_6['odor name']"
   ]
  },
  {
   "cell_type": "code",
   "execution_count": 79,
   "metadata": {},
   "outputs": [
    {
     "name": "stdout",
     "output_type": "stream",
     "text": [
      "Accuracy:  30.23255813953488 %\n"
     ]
    },
    {
     "data": {
      "image/png": "[encoded data removed]",
      "text/plain": [
       "<Figure size 432x288 with 2 Axes>"
      ]
     },
     "metadata": {
      "needs_background": "light"
     },
     "output_type": "display_data"
    }
   ],
   "source": [
    "X_train,X_test,y_train,y_test = train_test_split(X,y,test_size=0.25,random_state=0)\n",
    "sc_X = StandardScaler()\n",
    "X_train = sc_X.fit_transform(X_train)\n",
    "X_test = sc_X.transform(X_test)\n",
    "clf = RandomForestClassifier(n_estimators=100)\n",
    "clf.fit(X_train,y_train)\n",
    "y_pred=clf.predict(X_test)\n",
    "confusion_matrix = pd.crosstab(y_test, y_pred, rownames=['Actual'], colnames=['Predicted'])\n",
    "sns.heatmap(confusion_matrix, annot=True)\n",
    "print('Accuracy: ',metrics.accuracy_score(y_test, y_pred)*100,'%')\n",
    "plt.show()"
   ]
  },
  {
   "cell_type": "markdown",
   "metadata": {},
   "source": [
    "#### SUPPORT VECTOR MACHINE "
   ]
  },
  {
   "cell_type": "markdown",
   "metadata": {},
   "source": [
    "##### rbf Kernel "
   ]
  },
  {
   "cell_type": "code",
   "execution_count": 80,
   "metadata": {},
   "outputs": [
    {
     "name": "stdout",
     "output_type": "stream",
     "text": [
      "Accuracy: 30.23255813953488 %\n"
     ]
    }
   ],
   "source": [
    "X_tr, X_tst, y_tr, y_tst = train_test_split(X, y, test_size=25/100,random_state=109)\n",
    "clf = svm.SVC(kernel='rbf') # creating Support Vector Machine model\n",
    "clf.fit(X_tr, y_tr) # training the Model\n",
    "y_pr = clf.predict(X_tst) # making Predictions\n",
    "\n",
    "# Evaluating Prediction Accuracy\n",
    "print(\"Accuracy:\",metrics.accuracy_score(y_tst, y_pr)*100,\"%\")"
   ]
  },
  {
   "cell_type": "markdown",
   "metadata": {},
   "source": [
    "##### Polynomial Kernel\n"
   ]
  },
  {
   "cell_type": "code",
   "execution_count": 81,
   "metadata": {},
   "outputs": [
    {
     "name": "stdout",
     "output_type": "stream",
     "text": [
      "Accuracy: 27.906976744186046 %\n"
     ]
    }
   ],
   "source": [
    "X_tr, X_tst, y_tr, y_tst = train_test_split(X, y, test_size=25/100,random_state=109)\n",
    "clf = svm.SVC(kernel='poly') # Creating Support Vector Machine Model\n",
    "clf.fit(X_tr,y_tr) # fit classifier to training set\n",
    "y_pr = clf.predict(X_tst) # Making Predictions\n",
    "\n",
    "# Evaluating Prediction Accuracy\n",
    "print(\"Accuracy:\",metrics.accuracy_score(y_tst, y_pr)*100,\"%\")"
   ]
  },
  {
   "cell_type": "markdown",
   "metadata": {},
   "source": [
    "##### Sigmoid Kernel "
   ]
  },
  {
   "cell_type": "code",
   "execution_count": 82,
   "metadata": {},
   "outputs": [
    {
     "name": "stdout",
     "output_type": "stream",
     "text": [
      "Accuracy: 23.25581395348837 %\n"
     ]
    }
   ],
   "source": [
    "X_tr, X_tst, y_tr, y_tst = train_test_split(X, y, test_size=25/100,random_state=109)\n",
    "clf=svm.SVC(kernel='sigmoid') # instantiate classifier with sigmoid kernel\n",
    "clf.fit(X_tr,y_tr) # fit classifier to training set\n",
    "y_pr = clf.predict(X_tst) # Making Predictions\n",
    "\n",
    "# Evaluating Prediction Accuracy\n",
    "print(\"Accuracy:\",metrics.accuracy_score(y_tst, y_pr)*100,\"%\")"
   ]
  },
  {
   "cell_type": "markdown",
   "metadata": {},
   "source": [
    "#### DECISION TREE"
   ]
  },
  {
   "cell_type": "code",
   "execution_count": 83,
   "metadata": {},
   "outputs": [
    {
     "name": "stdout",
     "output_type": "stream",
     "text": [
      "Accuracy: 15.384615384615385 %\n"
     ]
    }
   ],
   "source": [
    "# Split dataset into training set and test set\n",
    "X_train, X_test, y_train, y_test = train_test_split(X, y, test_size=0.3, random_state=1) # 70% training and 30% test\n",
    "clf = DecisionTreeClassifier() # Create Decision Tree classifer object\n",
    "clf = clf.fit(X_train,y_train) # Train Decision Tree Classifer\n",
    "y_pred = clf.predict(X_test) # Predict the response for test dataset\n",
    "\n",
    "# how often is the classifier correct?\n",
    "print(\"Accuracy:\",metrics.accuracy_score(y_test, y_pred)*100,\"%\")"
   ]
  },
  {
   "cell_type": "markdown",
   "metadata": {},
   "source": [
    "#### LOGISTIC REGRESSION "
   ]
  },
  {
   "cell_type": "code",
   "execution_count": 84,
   "metadata": {},
   "outputs": [
    {
     "name": "stdout",
     "output_type": "stream",
     "text": [
      "Accuracy:  32.55813953488372 %\n"
     ]
    }
   ],
   "source": [
    "X_train,X_test,y_train,y_test = train_test_split(X,y,test_size=0.25,random_state=0)\n",
    "clf= LogisticRegression( max_iter=100000000)\n",
    "clf.fit(X_train,y_train)\n",
    "y_pred=clf.predict(X_test)\n",
    "print('Accuracy: ',metrics.accuracy_score(y_test, y_pred)*100,'%')"
   ]
  },
  {
   "cell_type": "markdown",
   "metadata": {},
   "source": [
    "#### K-Nearest Neighbor "
   ]
  },
  {
   "cell_type": "code",
   "execution_count": 85,
   "metadata": {},
   "outputs": [
    {
     "data": {
      "text/plain": [
       "Text(0, 0.5, 'Accuracy')"
      ]
     },
     "execution_count": 85,
     "metadata": {},
     "output_type": "execute_result"
    },
    {
     "data": {
      "image/png": "[encoded data removed]",
      "text/plain": [
       "<Figure size 864x432 with 1 Axes>"
      ]
     },
     "metadata": {
      "needs_background": "light"
     },
     "output_type": "display_data"
    }
   ],
   "source": [
    "# Split data into training and testing sets.\n",
    "X_train, X_test, y_train, y_test = train_test_split(X, y, random_state=42)\n",
    "accuracy=[]\n",
    "for i in range(1,21):\n",
    "    clf = KNeighborsClassifier(n_neighbors=i)\n",
    "    clf.fit(X_train, y_train)\n",
    "    ypred = clf.predict(X_test)\n",
    "    accuracy.append(metrics.accuracy_score(y_test, ypred))\n",
    "plt.figure(figsize=(12, 6))\n",
    "plt.plot(range(1, 21), accuracy, color='orange', linestyle='dashed', marker='o',\n",
    "         markerfacecolor='green', markersize=10)\n",
    "plt.title('Looking for the most accurate k value')\n",
    "plt.xlabel('K Value')\n",
    "plt.ylabel('Accuracy')"
   ]
  },
  {
   "cell_type": "code",
   "execution_count": 86,
   "metadata": {
    "scrolled": true
   },
   "outputs": [
    {
     "name": "stdout",
     "output_type": "stream",
     "text": [
      "Accuracy: 30.23255813953488 %\n"
     ]
    }
   ],
   "source": [
    "clf = KNeighborsClassifier(n_neighbors=1)\n",
    "clf.fit(X_train, y_train)\n",
    "ypred = clf.predict(X_test)\n",
    "\n",
    "# Best accuracy\n",
    "print(\"Accuracy:\",metrics.accuracy_score(y_test, ypred)*100,\"%\")"
   ]
  },
  {
   "cell_type": "markdown",
   "metadata": {},
   "source": [
    "### 5 MOST COMMON ODOR NAMES "
   ]
  },
  {
   "cell_type": "code",
   "execution_count": 78,
   "metadata": {},
   "outputs": [],
   "source": [
    "sensorama_6 = sensorama_6 .sort_values('odor name')"
   ]
  },
  {
   "cell_type": "code",
   "execution_count": 91,
   "metadata": {},
   "outputs": [
    {
     "data": {
      "text/html": [
       "<div>\n",
       "<style scoped>\n",
       "    .dataframe tbody tr th:only-of-type {\n",
       "        vertical-align: middle;\n",
       "    }\n",
       "\n",
       "    .dataframe tbody tr th {\n",
       "        vertical-align: top;\n",
       "    }\n",
       "\n",
       "    .dataframe thead th {\n",
       "        text-align: right;\n",
       "    }\n",
       "</style>\n",
       "<table border=\"1\" class=\"dataframe\">\n",
       "  <thead>\n",
       "    <tr style=\"text-align: right;\">\n",
       "      <th></th>\n",
       "      <th>cid</th>\n",
       "      <th>canonical_smiles</th>\n",
       "      <th>xlogp</th>\n",
       "      <th>odor level</th>\n",
       "      <th>odor name</th>\n",
       "      <th>fsp3</th>\n",
       "      <th>small rings</th>\n",
       "      <th>arom rings</th>\n",
       "      <th>ring blocks</th>\n",
       "      <th>arom blocks</th>\n",
       "      <th>...</th>\n",
       "      <th>atsm4</th>\n",
       "      <th>atsm5</th>\n",
       "      <th>natom</th>\n",
       "      <th>arom bond</th>\n",
       "      <th>arom atom</th>\n",
       "      <th>apol</th>\n",
       "      <th>alogp</th>\n",
       "      <th>alogp2</th>\n",
       "      <th>amr</th>\n",
       "      <th>acid</th>\n",
       "    </tr>\n",
       "  </thead>\n",
       "  <tbody>\n",
       "    <tr>\n",
       "      <td>9769</td>\n",
       "      <td>105594.000000</td>\n",
       "      <td>3269.000000</td>\n",
       "      <td>0.138170</td>\n",
       "      <td>6.000000</td>\n",
       "      <td>188.000000</td>\n",
       "      <td>-1.923393</td>\n",
       "      <td>1.278317</td>\n",
       "      <td>2.998513</td>\n",
       "      <td>2.371507</td>\n",
       "      <td>3.215981</td>\n",
       "      <td>...</td>\n",
       "      <td>1.729001</td>\n",
       "      <td>1.769272</td>\n",
       "      <td>0.544577</td>\n",
       "      <td>0.000000</td>\n",
       "      <td>0.000000</td>\n",
       "      <td>1.006708</td>\n",
       "      <td>-0.325024</td>\n",
       "      <td>-0.449994</td>\n",
       "      <td>1.998361</td>\n",
       "      <td>-0.161598</td>\n",
       "    </tr>\n",
       "    <tr>\n",
       "      <td>10015</td>\n",
       "      <td>107071.000000</td>\n",
       "      <td>602.000000</td>\n",
       "      <td>0.555287</td>\n",
       "      <td>6.000000</td>\n",
       "      <td>188.000000</td>\n",
       "      <td>0.603735</td>\n",
       "      <td>3.434689</td>\n",
       "      <td>-0.631781</td>\n",
       "      <td>0.632666</td>\n",
       "      <td>-0.644741</td>\n",
       "      <td>...</td>\n",
       "      <td>1.590202</td>\n",
       "      <td>0.961231</td>\n",
       "      <td>1.075120</td>\n",
       "      <td>0.000000</td>\n",
       "      <td>0.000000</td>\n",
       "      <td>1.193546</td>\n",
       "      <td>0.599299</td>\n",
       "      <td>0.314285</td>\n",
       "      <td>1.008449</td>\n",
       "      <td>-0.161598</td>\n",
       "    </tr>\n",
       "    <tr>\n",
       "      <td>4863</td>\n",
       "      <td>24433.000000</td>\n",
       "      <td>2992.000000</td>\n",
       "      <td>0.485768</td>\n",
       "      <td>6.000000</td>\n",
       "      <td>188.000000</td>\n",
       "      <td>-1.030100</td>\n",
       "      <td>0.200130</td>\n",
       "      <td>1.183366</td>\n",
       "      <td>0.632666</td>\n",
       "      <td>1.285620</td>\n",
       "      <td>...</td>\n",
       "      <td>0.646289</td>\n",
       "      <td>0.808038</td>\n",
       "      <td>0.014035</td>\n",
       "      <td>0.000000</td>\n",
       "      <td>0.000000</td>\n",
       "      <td>0.097063</td>\n",
       "      <td>-0.761927</td>\n",
       "      <td>-0.677375</td>\n",
       "      <td>0.445011</td>\n",
       "      <td>-0.161598</td>\n",
       "    </tr>\n",
       "    <tr>\n",
       "      <td>1629</td>\n",
       "      <td>7826.000000</td>\n",
       "      <td>2613.000000</td>\n",
       "      <td>0.138170</td>\n",
       "      <td>6.000000</td>\n",
       "      <td>188.000000</td>\n",
       "      <td>0.884527</td>\n",
       "      <td>-0.878056</td>\n",
       "      <td>-0.631781</td>\n",
       "      <td>-1.106175</td>\n",
       "      <td>-0.644741</td>\n",
       "      <td>...</td>\n",
       "      <td>-0.804146</td>\n",
       "      <td>-0.720210</td>\n",
       "      <td>-0.304291</td>\n",
       "      <td>0.000000</td>\n",
       "      <td>0.000000</td>\n",
       "      <td>-0.493503</td>\n",
       "      <td>0.044289</td>\n",
       "      <td>-0.190765</td>\n",
       "      <td>-0.778754</td>\n",
       "      <td>-0.161598</td>\n",
       "    </tr>\n",
       "    <tr>\n",
       "      <td>11539</td>\n",
       "      <td>220674.000000</td>\n",
       "      <td>1594.000000</td>\n",
       "      <td>0.555287</td>\n",
       "      <td>6.000000</td>\n",
       "      <td>188.000000</td>\n",
       "      <td>1.040647</td>\n",
       "      <td>0.200130</td>\n",
       "      <td>-0.631781</td>\n",
       "      <td>0.632666</td>\n",
       "      <td>-0.644741</td>\n",
       "      <td>...</td>\n",
       "      <td>0.623803</td>\n",
       "      <td>1.056978</td>\n",
       "      <td>0.756794</td>\n",
       "      <td>0.000000</td>\n",
       "      <td>0.000000</td>\n",
       "      <td>0.647760</td>\n",
       "      <td>0.492364</td>\n",
       "      <td>0.206188</td>\n",
       "      <td>0.278105</td>\n",
       "      <td>-0.161598</td>\n",
       "    </tr>\n",
       "    <tr>\n",
       "      <td>...</td>\n",
       "      <td>...</td>\n",
       "      <td>...</td>\n",
       "      <td>...</td>\n",
       "      <td>...</td>\n",
       "      <td>...</td>\n",
       "      <td>...</td>\n",
       "      <td>...</td>\n",
       "      <td>...</td>\n",
       "      <td>...</td>\n",
       "      <td>...</td>\n",
       "      <td>...</td>\n",
       "      <td>...</td>\n",
       "      <td>...</td>\n",
       "      <td>...</td>\n",
       "      <td>...</td>\n",
       "      <td>...</td>\n",
       "      <td>...</td>\n",
       "      <td>...</td>\n",
       "      <td>...</td>\n",
       "      <td>...</td>\n",
       "      <td>...</td>\n",
       "    </tr>\n",
       "    <tr>\n",
       "      <td>17722</td>\n",
       "      <td>44153588.000000</td>\n",
       "      <td>2201.000000</td>\n",
       "      <td>0.416248</td>\n",
       "      <td>6.000000</td>\n",
       "      <td>494.000000</td>\n",
       "      <td>0.550197</td>\n",
       "      <td>3.434689</td>\n",
       "      <td>-0.631781</td>\n",
       "      <td>0.632666</td>\n",
       "      <td>-0.644741</td>\n",
       "      <td>...</td>\n",
       "      <td>0.992009</td>\n",
       "      <td>1.248991</td>\n",
       "      <td>0.756794</td>\n",
       "      <td>0.000000</td>\n",
       "      <td>0.000000</td>\n",
       "      <td>0.873775</td>\n",
       "      <td>0.399307</td>\n",
       "      <td>0.116313</td>\n",
       "      <td>0.705632</td>\n",
       "      <td>-0.161598</td>\n",
       "    </tr>\n",
       "    <tr>\n",
       "      <td>5987</td>\n",
       "      <td>61098.000000</td>\n",
       "      <td>1845.000000</td>\n",
       "      <td>0.694326</td>\n",
       "      <td>6.000000</td>\n",
       "      <td>494.000000</td>\n",
       "      <td>-0.087388</td>\n",
       "      <td>-0.878056</td>\n",
       "      <td>-0.631781</td>\n",
       "      <td>-1.106175</td>\n",
       "      <td>-0.644741</td>\n",
       "      <td>...</td>\n",
       "      <td>0.531495</td>\n",
       "      <td>0.817077</td>\n",
       "      <td>0.862903</td>\n",
       "      <td>0.000000</td>\n",
       "      <td>0.000000</td>\n",
       "      <td>0.829689</td>\n",
       "      <td>0.924617</td>\n",
       "      <td>0.674793</td>\n",
       "      <td>0.761490</td>\n",
       "      <td>-0.161598</td>\n",
       "    </tr>\n",
       "    <tr>\n",
       "      <td>8951</td>\n",
       "      <td>92292.000000</td>\n",
       "      <td>1485.000000</td>\n",
       "      <td>0.346729</td>\n",
       "      <td>6.000000</td>\n",
       "      <td>494.000000</td>\n",
       "      <td>0.550197</td>\n",
       "      <td>1.278317</td>\n",
       "      <td>-0.631781</td>\n",
       "      <td>0.632666</td>\n",
       "      <td>-0.644741</td>\n",
       "      <td>...</td>\n",
       "      <td>2.236366</td>\n",
       "      <td>1.874028</td>\n",
       "      <td>0.862903</td>\n",
       "      <td>0.000000</td>\n",
       "      <td>0.000000</td>\n",
       "      <td>0.928716</td>\n",
       "      <td>0.588058</td>\n",
       "      <td>0.302686</td>\n",
       "      <td>0.721617</td>\n",
       "      <td>-0.161598</td>\n",
       "    </tr>\n",
       "    <tr>\n",
       "      <td>8233</td>\n",
       "      <td>80865.000000</td>\n",
       "      <td>3147.000000</td>\n",
       "      <td>-1.808378</td>\n",
       "      <td>6.000000</td>\n",
       "      <td>494.000000</td>\n",
       "      <td>0.884527</td>\n",
       "      <td>0.200130</td>\n",
       "      <td>-0.631781</td>\n",
       "      <td>0.632666</td>\n",
       "      <td>-0.644741</td>\n",
       "      <td>...</td>\n",
       "      <td>-0.159530</td>\n",
       "      <td>0.495008</td>\n",
       "      <td>-0.304291</td>\n",
       "      <td>0.000000</td>\n",
       "      <td>0.000000</td>\n",
       "      <td>-0.465552</td>\n",
       "      <td>-1.573763</td>\n",
       "      <td>-0.871672</td>\n",
       "      <td>-0.667275</td>\n",
       "      <td>-0.161598</td>\n",
       "    </tr>\n",
       "    <tr>\n",
       "      <td>7874</td>\n",
       "      <td>74648.000000</td>\n",
       "      <td>1238.000000</td>\n",
       "      <td>-0.626545</td>\n",
       "      <td>6.000000</td>\n",
       "      <td>494.000000</td>\n",
       "      <td>-1.143540</td>\n",
       "      <td>0.200130</td>\n",
       "      <td>1.183366</td>\n",
       "      <td>0.632666</td>\n",
       "      <td>1.285620</td>\n",
       "      <td>...</td>\n",
       "      <td>-0.619532</td>\n",
       "      <td>-0.576056</td>\n",
       "      <td>-0.728725</td>\n",
       "      <td>0.000000</td>\n",
       "      <td>0.000000</td>\n",
       "      <td>-0.670180</td>\n",
       "      <td>-0.640002</td>\n",
       "      <td>-0.622568</td>\n",
       "      <td>-0.411993</td>\n",
       "      <td>-0.161598</td>\n",
       "    </tr>\n",
       "  </tbody>\n",
       "</table>\n",
       "<p>130 rows × 212 columns</p>\n",
       "</div>"
      ],
      "text/plain": [
       "                  cid  canonical_smiles     xlogp  odor level  odor name  \\\n",
       "9769    105594.000000       3269.000000  0.138170    6.000000 188.000000   \n",
       "10015   107071.000000        602.000000  0.555287    6.000000 188.000000   \n",
       "4863     24433.000000       2992.000000  0.485768    6.000000 188.000000   \n",
       "1629      7826.000000       2613.000000  0.138170    6.000000 188.000000   \n",
       "11539   220674.000000       1594.000000  0.555287    6.000000 188.000000   \n",
       "...               ...               ...       ...         ...        ...   \n",
       "17722 44153588.000000       2201.000000  0.416248    6.000000 494.000000   \n",
       "5987     61098.000000       1845.000000  0.694326    6.000000 494.000000   \n",
       "8951     92292.000000       1485.000000  0.346729    6.000000 494.000000   \n",
       "8233     80865.000000       3147.000000 -1.808378    6.000000 494.000000   \n",
       "7874     74648.000000       1238.000000 -0.626545    6.000000 494.000000   \n",
       "\n",
       "           fsp3  small rings  arom rings  ring blocks  arom blocks  ...  \\\n",
       "9769  -1.923393     1.278317    2.998513     2.371507     3.215981  ...   \n",
       "10015  0.603735     3.434689   -0.631781     0.632666    -0.644741  ...   \n",
       "4863  -1.030100     0.200130    1.183366     0.632666     1.285620  ...   \n",
       "1629   0.884527    -0.878056   -0.631781    -1.106175    -0.644741  ...   \n",
       "11539  1.040647     0.200130   -0.631781     0.632666    -0.644741  ...   \n",
       "...         ...          ...         ...          ...          ...  ...   \n",
       "17722  0.550197     3.434689   -0.631781     0.632666    -0.644741  ...   \n",
       "5987  -0.087388    -0.878056   -0.631781    -1.106175    -0.644741  ...   \n",
       "8951   0.550197     1.278317   -0.631781     0.632666    -0.644741  ...   \n",
       "8233   0.884527     0.200130   -0.631781     0.632666    -0.644741  ...   \n",
       "7874  -1.143540     0.200130    1.183366     0.632666     1.285620  ...   \n",
       "\n",
       "          atsm4     atsm5     natom  arom bond  arom atom      apol     alogp  \\\n",
       "9769   1.729001  1.769272  0.544577   0.000000   0.000000  1.006708 -0.325024   \n",
       "10015  1.590202  0.961231  1.075120   0.000000   0.000000  1.193546  0.599299   \n",
       "4863   0.646289  0.808038  0.014035   0.000000   0.000000  0.097063 -0.761927   \n",
       "1629  -0.804146 -0.720210 -0.304291   0.000000   0.000000 -0.493503  0.044289   \n",
       "11539  0.623803  1.056978  0.756794   0.000000   0.000000  0.647760  0.492364   \n",
       "...         ...       ...       ...        ...        ...       ...       ...   \n",
       "17722  0.992009  1.248991  0.756794   0.000000   0.000000  0.873775  0.399307   \n",
       "5987   0.531495  0.817077  0.862903   0.000000   0.000000  0.829689  0.924617   \n",
       "8951   2.236366  1.874028  0.862903   0.000000   0.000000  0.928716  0.588058   \n",
       "8233  -0.159530  0.495008 -0.304291   0.000000   0.000000 -0.465552 -1.573763   \n",
       "7874  -0.619532 -0.576056 -0.728725   0.000000   0.000000 -0.670180 -0.640002   \n",
       "\n",
       "         alogp2       amr      acid  \n",
       "9769  -0.449994  1.998361 -0.161598  \n",
       "10015  0.314285  1.008449 -0.161598  \n",
       "4863  -0.677375  0.445011 -0.161598  \n",
       "1629  -0.190765 -0.778754 -0.161598  \n",
       "11539  0.206188  0.278105 -0.161598  \n",
       "...         ...       ...       ...  \n",
       "17722  0.116313  0.705632 -0.161598  \n",
       "5987   0.674793  0.761490 -0.161598  \n",
       "8951   0.302686  0.721617 -0.161598  \n",
       "8233  -0.871672 -0.667275 -0.161598  \n",
       "7874  -0.622568 -0.411993 -0.161598  \n",
       "\n",
       "[130 rows x 212 columns]"
      ]
     },
     "execution_count": 91,
     "metadata": {},
     "output_type": "execute_result"
    }
   ],
   "source": [
    "sensorama2_6=[]\n",
    "\n",
    "for i in range(22, len(sensorama_6)-22):\n",
    "    if sensorama_6.iloc[i,4] == sensorama_6.iloc[i+22,4] or sensorama_6.iloc[i,4] == sensorama_6.iloc[i-22,4]:\n",
    "        sensorama2_6.append(sensorama_6.iloc[i,:]) \n",
    "\n",
    "sensorama2_6= pd.DataFrame(sensorama2_6)\n",
    "sensorama2_6"
   ]
  },
  {
   "cell_type": "code",
   "execution_count": 92,
   "metadata": {},
   "outputs": [
    {
     "name": "stdout",
     "output_type": "stream",
     "text": [
      "5\n"
     ]
    }
   ],
   "source": [
    "count=0\n",
    "for i in range(1, len(sensorama2_6)):\n",
    "    if sensorama2_6.iloc[i,4]!= sensorama2_6.iloc[i-1,4]:\n",
    "        count = count +1\n",
    "print(count)"
   ]
  },
  {
   "cell_type": "code",
   "execution_count": 93,
   "metadata": {},
   "outputs": [],
   "source": [
    "X = sensorama2_6[[ 'xlogp','fsp3', 'small rings','arom rings','ring blocks','arom blocks','rings 3','rings 4', 'rings 5', 'rings 6',\n",
    "               'rings 7', 'rings 8', 'rings 9', 'tpsa efficiency', 'zagreb indices', 'weiner path', 'weiner polarity', 'wtpt.1',\n",
    "               'wtpt.2', 'wtpt.3', 'wtpt.4', 'wtpt.5', 'molecular weight', 'VAdjMat', 'topoPSA', 'lipinski failures', 'rotatable bonds',\n",
    "               'topo shape', 'petitjean number', 'mdec.11', 'mdec.12', 'mdec.13', 'mdec.14', 'mdec.22', 'mdec.23', 'mdec.24',\n",
    "               'mdec.33', 'mdec.34', 'mdec.44', 'mdeo.11', 'mdeo.12', 'mdeo.22', 'mden.11', 'mden.12', 'mden.13', 'mden.22',\n",
    "               'mden.23', 'mden.33', 'mlogp', 'atom p', 'atom lc', 'khs.sli', 'khs.ssbe', 'khs.ssssbe', 'khs.ssbh', 'khs.sssb',\n",
    "               'khs.ssssb', 'khs.sch3', 'khs.dch2', 'khs.ssch2', 'khs.tch', 'khs.dsch', 'khs.aach', 'khs.sssch', 'khs.ddc',\n",
    "               'khs.tsc', 'khs.dssc', 'khs.aasc', 'khs.aaac', 'khs.ssssc', 'khs.snh3', 'khs.snh2', 'khs.ssnh', 'khs.dnh', 'khs.ssnh.1',\n",
    "               'khs.aanh', 'khs.tn', 'khs.sssnh', 'khs.dsn', 'khs.aan', 'khs.sssn', 'khs.dsn.1', 'khs.aasn', 'khs.ssssn', 'khs.soh',\n",
    "               'khs.do', 'khs.sso', 'khs.aao', 'khs.sf', 'khs.ssih3', 'khs.sssih2', 'khs.ssssih', 'khs.sssssi', 'khs.sph2',\n",
    "               'khs.ssph', 'khs.sssp', 'khs.dsssp', 'khs.sssssp', 'khs.ssh', 'khs.ds', 'khs.sss', 'khs.aas', 'khs.dsss', 'khs.ddsss',\n",
    "               'khs.scl', 'khs.sGeH3', 'khs.ssGeH2', 'khs.sssGeH', 'khs.ssssGe', 'khs.sash2', 'khs.ssash', 'khs.sssas', 'khs.sssdas',\n",
    "               'khs.sssssas', 'khs.sseh', 'khs.dse', 'khs.ssse', 'khs.aase', 'khs.dssse', 'khs.ddssse', 'khs.sbr', 'khs.ssnh3', \n",
    "               'khs.sssnh2', 'khs.ssssnh', 'khs.sssssn', 'khs.si', 'khs.spbh3', 'khs.sspbh2', 'khs.ssspbh', 'khs.sssspb', 'kier 1',\n",
    "               'kier 2', 'hybRatio', 'hbdon', 'hbacc', 'fragc', 'fmf', 'eccen', 'SP.0', 'SP.1', 'SP.2', 'SP.3', 'SP.4', 'SP.5', 'SP.6',\n",
    "               'SP.7', 'VP.0', 'VP.1', 'VP.2', 'VP.3', 'VP.4', 'VP.5', 'VP.6', 'VP.7', 'SPC.4', 'SPC.5', 'SPC.6', 'VPC.4', 'VPC.5',\n",
    "               'VPC.6', 'SC.3', 'SC.4', 'SC.5', 'SC.6', 'VC.3', 'VC.4', 'VC.5', 'VC.6', 'SCH.3', 'SCH.4', 'SCH.5', 'SCH.6', 'SCH.7',\n",
    "               'VCH.3', 'VCH.4', 'VCH.3', 'VCH.4', 'VCH.5', 'VCH.6', 'VCH.7', 'C1SP1', 'C2SP1', 'C1SP2', 'C2SP2', 'C3SP2', 'C1SP3',\n",
    "               'C2SP3', 'C3SP3', 'C4SP3', 'bpol', 'bond count', 'basic group count', 'atsp1', 'atsp2' , 'atsp3', 'atsp4', 'atsp5',\n",
    "               'atsm1', 'atsm2','atsm3','atsm4','atsm5', 'natom','arom bond', 'arom atom', 'apol','alogp', 'alogp2', 'amr', 'acid']]\n",
    "y = sensorama2_6['odor name']"
   ]
  },
  {
   "cell_type": "markdown",
   "metadata": {},
   "source": [
    "#### RANDOM FOREST"
   ]
  },
  {
   "cell_type": "code",
   "execution_count": 94,
   "metadata": {},
   "outputs": [
    {
     "name": "stdout",
     "output_type": "stream",
     "text": [
      "Accuracy:  36.36363636363637 %\n"
     ]
    },
    {
     "data": {
      "image/png": "[encoded data removed]",
      "text/plain": [
       "<Figure size 432x288 with 2 Axes>"
      ]
     },
     "metadata": {
      "needs_background": "light"
     },
     "output_type": "display_data"
    }
   ],
   "source": [
    "X_train,X_test,y_train,y_test = train_test_split(X,y,test_size=0.25,random_state=0)\n",
    "sc_X = StandardScaler()\n",
    "X_train = sc_X.fit_transform(X_train)\n",
    "X_test = sc_X.transform(X_test)\n",
    "clf = RandomForestClassifier(n_estimators=100)\n",
    "clf.fit(X_train,y_train)\n",
    "y_pred=clf.predict(X_test)\n",
    "confusion_matrix = pd.crosstab(y_test, y_pred, rownames=['Actual'], colnames=['Predicted'])\n",
    "sns.heatmap(confusion_matrix, annot=True)\n",
    "print('Accuracy: ',metrics.accuracy_score(y_test, y_pred)*100,'%')\n",
    "plt.show()"
   ]
  },
  {
   "cell_type": "markdown",
   "metadata": {},
   "source": [
    "##### Feature Importances "
   ]
  },
  {
   "cell_type": "code",
   "execution_count": 95,
   "metadata": {},
   "outputs": [
    {
     "data": {
      "image/png": "[encoded data removed]",
      "text/plain": [
       "<Figure size 432x288 with 1 Axes>"
      ]
     },
     "metadata": {
      "needs_background": "light"
     },
     "output_type": "display_data"
    }
   ],
   "source": [
    "featureImportances = pd.Series(clf.feature_importances_).sort_values(ascending=False)\n",
    "sns.barplot(x=round(featureImportances,8), y=featureImportances)\n",
    "plt.xlabel('Features Importance')\n",
    "plt.show()"
   ]
  },
  {
   "cell_type": "code",
   "execution_count": 96,
   "metadata": {},
   "outputs": [],
   "source": [
    "X = sensorama2_6[[ 'xlogp','fsp3', 'small rings','arom rings','ring blocks','arom blocks','rings 3','rings 4', 'rings 5', 'rings 6',\n",
    "               'rings 7', 'tpsa efficiency', 'zagreb indices', 'weiner path', 'weiner polarity', 'wtpt.1',\n",
    "               'wtpt.2', 'wtpt.3', 'wtpt.4', 'wtpt.5', 'molecular weight', 'VAdjMat', 'topoPSA', 'lipinski failures', 'rotatable bonds',\n",
    "               'topo shape', 'petitjean number', 'mdec.11', 'mdec.12', 'mdec.13', 'mdec.14', 'mdec.22', 'mdec.23', 'mdec.24',\n",
    "               'mdec.33', 'mdec.34', 'mdec.44', 'mdeo.11', 'mdeo.12', 'mdeo.22', 'mden.22',\n",
    "               'mden.23', 'mlogp', 'atom p', 'atom lc',\n",
    "                  'khs.sch3', 'khs.dch2', 'khs.ssch2','khs.dsch', 'khs.aach', 'khs.sssch', 'khs.ddc',\n",
    "               'khs.tsc', 'khs.dssc', 'khs.aasc', 'khs.aaac', 'khs.ssssc', 'khs.snh2', 'khs.ssnh.1',\n",
    "               'khs.tn', 'khs.dsn', 'khs.aan', 'khs.sssn', 'khs.dsn.1', 'khs.aasn', 'khs.soh',\n",
    "               'khs.do', 'khs.sso', 'khs.aao','khs.ssh', 'khs.ds', 'khs.sss', 'khs.aas', 'khs.dsss','kier 1',\n",
    "               'kier 2', 'hybRatio', 'hbdon', 'hbacc', 'fragc', 'fmf', 'eccen', 'SP.0', 'SP.1', 'SP.2', 'SP.3', 'SP.4', 'SP.5', 'SP.6',\n",
    "               'SP.7', 'VP.0', 'VP.1', 'VP.2', 'VP.3', 'VP.4', 'VP.5', 'VP.6', 'VP.7', 'SPC.4', 'SPC.5', 'SPC.6', 'VPC.4', 'VPC.5',\n",
    "               'VPC.6', 'SC.3', 'SC.4', 'SC.5', 'SC.6', 'VC.3', 'VC.4', 'VC.5', 'VC.6', 'SCH.3', 'SCH.4', 'SCH.5', 'SCH.6', 'SCH.7',\n",
    "               'VCH.3', 'VCH.4', 'VCH.3', 'VCH.4', 'VCH.5', 'VCH.6', 'VCH.7', 'C1SP1', 'C2SP1', 'C1SP2', 'C2SP2', 'C3SP2', 'C1SP3',\n",
    "               'C2SP3', 'C3SP3', 'C4SP3', 'bpol', 'bond count', 'atsp1', 'atsp2' , 'atsp3', 'atsp4', 'atsp5',\n",
    "               'atsm1', 'atsm2','atsm3','atsm4','atsm5', 'natom', 'apol','alogp', 'alogp2', 'amr', 'acid']]\n",
    "y = sensorama2_6['odor name']"
   ]
  },
  {
   "cell_type": "code",
   "execution_count": 97,
   "metadata": {},
   "outputs": [
    {
     "name": "stdout",
     "output_type": "stream",
     "text": [
      "Accuracy:  33.33333333333333 %\n"
     ]
    },
    {
     "data": {
      "image/png": "[encoded data removed]",
      "text/plain": [
       "<Figure size 432x288 with 2 Axes>"
      ]
     },
     "metadata": {
      "needs_background": "light"
     },
     "output_type": "display_data"
    }
   ],
   "source": [
    "X_train,X_test,y_train,y_test = train_test_split(X,y,test_size=0.25,random_state=0)\n",
    "sc_X = StandardScaler()\n",
    "X_train = sc_X.fit_transform(X_train)\n",
    "X_test = sc_X.transform(X_test)\n",
    "clf = RandomForestClassifier(n_estimators=100)\n",
    "clf.fit(X_train,y_train)\n",
    "y_pred=clf.predict(X_test)\n",
    "confusion_matrix = pd.crosstab(y_test, y_pred, rownames=['Actual'], colnames=['Predicted'])\n",
    "sns.heatmap(confusion_matrix, annot=True)\n",
    "print('Accuracy: ',metrics.accuracy_score(y_test, y_pred)*100,'%')\n",
    "plt.show()"
   ]
  },
  {
   "cell_type": "markdown",
   "metadata": {},
   "source": [
    "#### SUPPORT VECTOR MACHINE "
   ]
  },
  {
   "cell_type": "markdown",
   "metadata": {},
   "source": [
    "##### rbf Kernel "
   ]
  },
  {
   "cell_type": "code",
   "execution_count": 98,
   "metadata": {},
   "outputs": [
    {
     "name": "stdout",
     "output_type": "stream",
     "text": [
      "Accuracy: 36.36363636363637 %\n"
     ]
    }
   ],
   "source": [
    "X_tr, X_tst, y_tr, y_tst = train_test_split(X, y, test_size=25/100,random_state=109)\n",
    "clf = svm.SVC(kernel='rbf') # creating Support Vector Machine model\n",
    "clf.fit(X_tr, y_tr) # training the Model\n",
    "y_pr = clf.predict(X_tst) # making Predictions\n",
    "\n",
    "# Evaluating Prediction Accuracy\n",
    "print(\"Accuracy:\",metrics.accuracy_score(y_tst, y_pr)*100,\"%\")"
   ]
  },
  {
   "cell_type": "markdown",
   "metadata": {},
   "source": [
    "##### Polynomial Kernel\n"
   ]
  },
  {
   "cell_type": "code",
   "execution_count": 99,
   "metadata": {},
   "outputs": [
    {
     "name": "stdout",
     "output_type": "stream",
     "text": [
      "Accuracy: 45.45454545454545 %\n"
     ]
    }
   ],
   "source": [
    "X_tr, X_tst, y_tr, y_tst = train_test_split(X, y, test_size=25/100,random_state=109)\n",
    "clf = svm.SVC(kernel='poly') # Creating Support Vector Machine Model\n",
    "clf.fit(X_tr,y_tr) # fit classifier to training set\n",
    "y_pr = clf.predict(X_tst) # Making Predictions\n",
    "\n",
    "# Evaluating Prediction Accuracy\n",
    "print(\"Accuracy:\",metrics.accuracy_score(y_tst, y_pr)*100,\"%\")"
   ]
  },
  {
   "cell_type": "markdown",
   "metadata": {},
   "source": [
    "##### Sigmoid Kernel "
   ]
  },
  {
   "cell_type": "code",
   "execution_count": 100,
   "metadata": {},
   "outputs": [
    {
     "name": "stdout",
     "output_type": "stream",
     "text": [
      "Accuracy: 33.33333333333333 %\n"
     ]
    }
   ],
   "source": [
    "X_tr, X_tst, y_tr, y_tst = train_test_split(X, y, test_size=25/100,random_state=109)\n",
    "clf=svm.SVC(kernel='sigmoid') # instantiate classifier with sigmoid kernel\n",
    "clf.fit(X_tr,y_tr) # fit classifier to training set\n",
    "y_pr = clf.predict(X_tst) # Making Predictions\n",
    "\n",
    "# Evaluating Prediction Accuracy\n",
    "print(\"Accuracy:\",metrics.accuracy_score(y_tst, y_pr)*100,\"%\")"
   ]
  },
  {
   "cell_type": "markdown",
   "metadata": {},
   "source": [
    "#### DECISION TREE"
   ]
  },
  {
   "cell_type": "code",
   "execution_count": 101,
   "metadata": {},
   "outputs": [
    {
     "name": "stdout",
     "output_type": "stream",
     "text": [
      "Accuracy: 33.33333333333333 %\n"
     ]
    }
   ],
   "source": [
    "# Split dataset into training set and test set\n",
    "X_train, X_test, y_train, y_test = train_test_split(X, y, test_size=0.3, random_state=1) # 70% training and 30% test\n",
    "clf = DecisionTreeClassifier() # Create Decision Tree classifer object\n",
    "clf = clf.fit(X_train,y_train) # Train Decision Tree Classifer\n",
    "y_pred = clf.predict(X_test) # Predict the response for test dataset\n",
    "\n",
    "# how often is the classifier correct?\n",
    "print(\"Accuracy:\",metrics.accuracy_score(y_test, y_pred)*100,\"%\")"
   ]
  },
  {
   "cell_type": "markdown",
   "metadata": {},
   "source": [
    "#### LOGISTIC REGRESSION "
   ]
  },
  {
   "cell_type": "code",
   "execution_count": 102,
   "metadata": {},
   "outputs": [
    {
     "name": "stdout",
     "output_type": "stream",
     "text": [
      "Accuracy:  30.303030303030305 %\n"
     ]
    }
   ],
   "source": [
    "X_train,X_test,y_train,y_test = train_test_split(X,y,test_size=0.25,random_state=0)\n",
    "clf= LogisticRegression( max_iter=100000000)\n",
    "clf.fit(X_train,y_train)\n",
    "y_pred=clf.predict(X_test)\n",
    "print('Accuracy: ',metrics.accuracy_score(y_test, y_pred)*100,'%')"
   ]
  },
  {
   "cell_type": "markdown",
   "metadata": {},
   "source": [
    "#### K-Nearest Neighbor "
   ]
  },
  {
   "cell_type": "code",
   "execution_count": 103,
   "metadata": {},
   "outputs": [
    {
     "data": {
      "text/plain": [
       "Text(0, 0.5, 'Accuracy')"
      ]
     },
     "execution_count": 103,
     "metadata": {},
     "output_type": "execute_result"
    },
    {
     "data": {
      "image/png": "[encoded data removed]",
      "text/plain": [
       "<Figure size 864x432 with 1 Axes>"
      ]
     },
     "metadata": {
      "needs_background": "light"
     },
     "output_type": "display_data"
    }
   ],
   "source": [
    "# Split data into training and testing sets.\n",
    "X_train, X_test, y_train, y_test = train_test_split(X, y, random_state=42)\n",
    "accuracy=[]\n",
    "for i in range(1,21):\n",
    "    clf = KNeighborsClassifier(n_neighbors=i)\n",
    "    clf.fit(X_train, y_train)\n",
    "    ypred = clf.predict(X_test)\n",
    "    accuracy.append(metrics.accuracy_score(y_test, ypred))\n",
    "plt.figure(figsize=(12, 6))\n",
    "plt.plot(range(1, 21), accuracy, color='orange', linestyle='dashed', marker='o',\n",
    "         markerfacecolor='green', markersize=10)\n",
    "plt.title('Looking for the most accurate k value')\n",
    "plt.xlabel('K Value')\n",
    "plt.ylabel('Accuracy')"
   ]
  },
  {
   "cell_type": "code",
   "execution_count": 104,
   "metadata": {
    "scrolled": true
   },
   "outputs": [
    {
     "name": "stdout",
     "output_type": "stream",
     "text": [
      "Accuracy: 48.484848484848484 %\n"
     ]
    }
   ],
   "source": [
    "clf = KNeighborsClassifier(n_neighbors=11)\n",
    "clf.fit(X_train, y_train)\n",
    "ypred = clf.predict(X_test)\n",
    "\n",
    "# Best accuracy\n",
    "print(\"Accuracy:\",metrics.accuracy_score(y_test, ypred)*100,\"%\")"
   ]
  },
  {
   "cell_type": "markdown",
   "metadata": {},
   "source": [
    "### 3 MOST COMMON ODOR NAMES "
   ]
  },
  {
   "cell_type": "code",
   "execution_count": 93,
   "metadata": {},
   "outputs": [],
   "source": [
    "sensorama_6 = sensorama_6.sort_values('odor name')"
   ]
  },
  {
   "cell_type": "code",
   "execution_count": 113,
   "metadata": {},
   "outputs": [
    {
     "data": {
      "text/html": [
       "<div>\n",
       "<style scoped>\n",
       "    .dataframe tbody tr th:only-of-type {\n",
       "        vertical-align: middle;\n",
       "    }\n",
       "\n",
       "    .dataframe tbody tr th {\n",
       "        vertical-align: top;\n",
       "    }\n",
       "\n",
       "    .dataframe thead th {\n",
       "        text-align: right;\n",
       "    }\n",
       "</style>\n",
       "<table border=\"1\" class=\"dataframe\">\n",
       "  <thead>\n",
       "    <tr style=\"text-align: right;\">\n",
       "      <th></th>\n",
       "      <th>cid</th>\n",
       "      <th>canonical_smiles</th>\n",
       "      <th>xlogp</th>\n",
       "      <th>odor level</th>\n",
       "      <th>odor name</th>\n",
       "      <th>fsp3</th>\n",
       "      <th>small rings</th>\n",
       "      <th>arom rings</th>\n",
       "      <th>ring blocks</th>\n",
       "      <th>arom blocks</th>\n",
       "      <th>...</th>\n",
       "      <th>atsm4</th>\n",
       "      <th>atsm5</th>\n",
       "      <th>natom</th>\n",
       "      <th>arom bond</th>\n",
       "      <th>arom atom</th>\n",
       "      <th>apol</th>\n",
       "      <th>alogp</th>\n",
       "      <th>alogp2</th>\n",
       "      <th>amr</th>\n",
       "      <th>acid</th>\n",
       "    </tr>\n",
       "  </thead>\n",
       "  <tbody>\n",
       "    <tr>\n",
       "      <td>2017</td>\n",
       "      <td>8164.000000</td>\n",
       "      <td>2888.000000</td>\n",
       "      <td>0.416248</td>\n",
       "      <td>6.000000</td>\n",
       "      <td>200.000000</td>\n",
       "      <td>0.978124</td>\n",
       "      <td>-0.878056</td>\n",
       "      <td>-0.631781</td>\n",
       "      <td>-1.106175</td>\n",
       "      <td>-0.644741</td>\n",
       "      <td>...</td>\n",
       "      <td>-0.711839</td>\n",
       "      <td>-0.431902</td>\n",
       "      <td>0.332360</td>\n",
       "      <td>0.000000</td>\n",
       "      <td>0.000000</td>\n",
       "      <td>0.146060</td>\n",
       "      <td>0.503536</td>\n",
       "      <td>0.217244</td>\n",
       "      <td>-0.173768</td>\n",
       "      <td>-0.161598</td>\n",
       "    </tr>\n",
       "    <tr>\n",
       "      <td>8874</td>\n",
       "      <td>91337.000000</td>\n",
       "      <td>923.000000</td>\n",
       "      <td>0.555287</td>\n",
       "      <td>6.000000</td>\n",
       "      <td>200.000000</td>\n",
       "      <td>1.012193</td>\n",
       "      <td>0.200130</td>\n",
       "      <td>-0.631781</td>\n",
       "      <td>0.632666</td>\n",
       "      <td>-0.644741</td>\n",
       "      <td>...</td>\n",
       "      <td>0.301495</td>\n",
       "      <td>0.384615</td>\n",
       "      <td>0.438469</td>\n",
       "      <td>0.000000</td>\n",
       "      <td>0.000000</td>\n",
       "      <td>0.327989</td>\n",
       "      <td>0.359197</td>\n",
       "      <td>0.078774</td>\n",
       "      <td>0.011890</td>\n",
       "      <td>-0.161598</td>\n",
       "    </tr>\n",
       "    <tr>\n",
       "      <td>6390</td>\n",
       "      <td>61401.000000</td>\n",
       "      <td>988.000000</td>\n",
       "      <td>0.346729</td>\n",
       "      <td>6.000000</td>\n",
       "      <td>224.000000</td>\n",
       "      <td>0.416540</td>\n",
       "      <td>-0.878056</td>\n",
       "      <td>-0.631781</td>\n",
       "      <td>-1.106175</td>\n",
       "      <td>-0.644741</td>\n",
       "      <td>...</td>\n",
       "      <td>-0.236082</td>\n",
       "      <td>0.048433</td>\n",
       "      <td>0.756794</td>\n",
       "      <td>0.000000</td>\n",
       "      <td>0.000000</td>\n",
       "      <td>0.647760</td>\n",
       "      <td>0.503467</td>\n",
       "      <td>0.217179</td>\n",
       "      <td>0.536561</td>\n",
       "      <td>-0.161598</td>\n",
       "    </tr>\n",
       "    <tr>\n",
       "      <td>2863</td>\n",
       "      <td>10976.000000</td>\n",
       "      <td>2510.000000</td>\n",
       "      <td>-0.348467</td>\n",
       "      <td>6.000000</td>\n",
       "      <td>224.000000</td>\n",
       "      <td>1.352513</td>\n",
       "      <td>-0.878056</td>\n",
       "      <td>-0.631781</td>\n",
       "      <td>-1.106175</td>\n",
       "      <td>-0.644741</td>\n",
       "      <td>...</td>\n",
       "      <td>-1.310557</td>\n",
       "      <td>-1.056392</td>\n",
       "      <td>-0.516508</td>\n",
       "      <td>0.000000</td>\n",
       "      <td>0.000000</td>\n",
       "      <td>-0.758333</td>\n",
       "      <td>-0.130722</td>\n",
       "      <td>-0.321268</td>\n",
       "      <td>-1.085556</td>\n",
       "      <td>-0.161598</td>\n",
       "    </tr>\n",
       "    <tr>\n",
       "      <td>14029</td>\n",
       "      <td>5352371.000000</td>\n",
       "      <td>2585.000000</td>\n",
       "      <td>0.416248</td>\n",
       "      <td>6.000000</td>\n",
       "      <td>224.000000</td>\n",
       "      <td>0.331554</td>\n",
       "      <td>-0.878056</td>\n",
       "      <td>-0.631781</td>\n",
       "      <td>-1.106175</td>\n",
       "      <td>-0.644741</td>\n",
       "      <td>...</td>\n",
       "      <td>-0.389531</td>\n",
       "      <td>-0.287748</td>\n",
       "      <td>0.438469</td>\n",
       "      <td>0.000000</td>\n",
       "      <td>0.000000</td>\n",
       "      <td>0.327989</td>\n",
       "      <td>0.685486</td>\n",
       "      <td>0.405157</td>\n",
       "      <td>0.197436</td>\n",
       "      <td>-0.161598</td>\n",
       "    </tr>\n",
       "    <tr>\n",
       "      <td>13748</td>\n",
       "      <td>5282724.000000</td>\n",
       "      <td>2716.000000</td>\n",
       "      <td>0.694326</td>\n",
       "      <td>6.000000</td>\n",
       "      <td>224.000000</td>\n",
       "      <td>0.229345</td>\n",
       "      <td>-0.878056</td>\n",
       "      <td>-0.631781</td>\n",
       "      <td>-1.106175</td>\n",
       "      <td>-0.644741</td>\n",
       "      <td>...</td>\n",
       "      <td>-0.711839</td>\n",
       "      <td>-0.431902</td>\n",
       "      <td>0.120143</td>\n",
       "      <td>0.000000</td>\n",
       "      <td>0.000000</td>\n",
       "      <td>0.008208</td>\n",
       "      <td>0.803733</td>\n",
       "      <td>0.535270</td>\n",
       "      <td>-0.111217</td>\n",
       "      <td>5.273531</td>\n",
       "    </tr>\n",
       "    <tr>\n",
       "      <td>15535</td>\n",
       "      <td>6366072.000000</td>\n",
       "      <td>2929.000000</td>\n",
       "      <td>0.833366</td>\n",
       "      <td>6.000000</td>\n",
       "      <td>224.000000</td>\n",
       "      <td>0.416540</td>\n",
       "      <td>-0.878056</td>\n",
       "      <td>-0.631781</td>\n",
       "      <td>-1.106175</td>\n",
       "      <td>-0.644741</td>\n",
       "      <td>...</td>\n",
       "      <td>0.162778</td>\n",
       "      <td>0.240461</td>\n",
       "      <td>0.756794</td>\n",
       "      <td>0.000000</td>\n",
       "      <td>0.000000</td>\n",
       "      <td>0.647760</td>\n",
       "      <td>0.978744</td>\n",
       "      <td>0.739399</td>\n",
       "      <td>0.501340</td>\n",
       "      <td>-0.161598</td>\n",
       "    </tr>\n",
       "    <tr>\n",
       "      <td>2377</td>\n",
       "      <td>8842.000000</td>\n",
       "      <td>978.000000</td>\n",
       "      <td>0.277209</td>\n",
       "      <td>6.000000</td>\n",
       "      <td>224.000000</td>\n",
       "      <td>0.603735</td>\n",
       "      <td>-0.878056</td>\n",
       "      <td>-0.631781</td>\n",
       "      <td>-1.106175</td>\n",
       "      <td>-0.644741</td>\n",
       "      <td>...</td>\n",
       "      <td>-0.757737</td>\n",
       "      <td>-0.431902</td>\n",
       "      <td>0.226252</td>\n",
       "      <td>0.000000</td>\n",
       "      <td>0.000000</td>\n",
       "      <td>0.063158</td>\n",
       "      <td>0.416447</td>\n",
       "      <td>0.132573</td>\n",
       "      <td>-0.121705</td>\n",
       "      <td>-0.161598</td>\n",
       "    </tr>\n",
       "    <tr>\n",
       "      <td>7277</td>\n",
       "      <td>62445.000000</td>\n",
       "      <td>1963.000000</td>\n",
       "      <td>0.207689</td>\n",
       "      <td>6.000000</td>\n",
       "      <td>224.000000</td>\n",
       "      <td>0.978124</td>\n",
       "      <td>-0.878056</td>\n",
       "      <td>-0.631781</td>\n",
       "      <td>-1.106175</td>\n",
       "      <td>-0.644741</td>\n",
       "      <td>...</td>\n",
       "      <td>-0.297735</td>\n",
       "      <td>0.047900</td>\n",
       "      <td>0.332360</td>\n",
       "      <td>0.000000</td>\n",
       "      <td>0.000000</td>\n",
       "      <td>0.146060</td>\n",
       "      <td>0.412908</td>\n",
       "      <td>0.129202</td>\n",
       "      <td>-0.183956</td>\n",
       "      <td>-0.161598</td>\n",
       "    </tr>\n",
       "    <tr>\n",
       "      <td>13857</td>\n",
       "      <td>5283366.000000</td>\n",
       "      <td>2826.000000</td>\n",
       "      <td>2.154238</td>\n",
       "      <td>6.000000</td>\n",
       "      <td>224.000000</td>\n",
       "      <td>0.550197</td>\n",
       "      <td>-0.878056</td>\n",
       "      <td>-0.631781</td>\n",
       "      <td>-1.106175</td>\n",
       "      <td>-0.644741</td>\n",
       "      <td>...</td>\n",
       "      <td>-0.343122</td>\n",
       "      <td>-0.047314</td>\n",
       "      <td>1.287337</td>\n",
       "      <td>0.000000</td>\n",
       "      <td>0.000000</td>\n",
       "      <td>1.204421</td>\n",
       "      <td>2.102921</td>\n",
       "      <td>2.379371</td>\n",
       "      <td>1.032410</td>\n",
       "      <td>-0.161598</td>\n",
       "    </tr>\n",
       "    <tr>\n",
       "      <td>15803</td>\n",
       "      <td>6431148.000000</td>\n",
       "      <td>1798.000000</td>\n",
       "      <td>0.485768</td>\n",
       "      <td>6.000000</td>\n",
       "      <td>224.000000</td>\n",
       "      <td>0.331554</td>\n",
       "      <td>-0.878056</td>\n",
       "      <td>-0.631781</td>\n",
       "      <td>-1.106175</td>\n",
       "      <td>-0.644741</td>\n",
       "      <td>...</td>\n",
       "      <td>-0.757737</td>\n",
       "      <td>-0.479776</td>\n",
       "      <td>0.332360</td>\n",
       "      <td>0.000000</td>\n",
       "      <td>0.000000</td>\n",
       "      <td>0.245087</td>\n",
       "      <td>0.860775</td>\n",
       "      <td>0.600289</td>\n",
       "      <td>0.125889</td>\n",
       "      <td>-0.161598</td>\n",
       "    </tr>\n",
       "    <tr>\n",
       "      <td>1052</td>\n",
       "      <td>7413.000000</td>\n",
       "      <td>180.000000</td>\n",
       "      <td>-0.626545</td>\n",
       "      <td>6.000000</td>\n",
       "      <td>224.000000</td>\n",
       "      <td>0.817511</td>\n",
       "      <td>0.200130</td>\n",
       "      <td>-0.631781</td>\n",
       "      <td>0.632666</td>\n",
       "      <td>-0.644741</td>\n",
       "      <td>...</td>\n",
       "      <td>-0.620043</td>\n",
       "      <td>-0.768617</td>\n",
       "      <td>-0.834833</td>\n",
       "      <td>0.000000</td>\n",
       "      <td>0.000000</td>\n",
       "      <td>-0.951136</td>\n",
       "      <td>-0.383384</td>\n",
       "      <td>-0.485343</td>\n",
       "      <td>-1.210449</td>\n",
       "      <td>5.273531</td>\n",
       "    </tr>\n",
       "    <tr>\n",
       "      <td>6567</td>\n",
       "      <td>61521.000000</td>\n",
       "      <td>999.000000</td>\n",
       "      <td>2.015198</td>\n",
       "      <td>6.000000</td>\n",
       "      <td>224.000000</td>\n",
       "      <td>-0.519433</td>\n",
       "      <td>0.200130</td>\n",
       "      <td>1.183366</td>\n",
       "      <td>0.632666</td>\n",
       "      <td>1.285620</td>\n",
       "      <td>...</td>\n",
       "      <td>1.038418</td>\n",
       "      <td>1.393145</td>\n",
       "      <td>1.817879</td>\n",
       "      <td>0.000000</td>\n",
       "      <td>0.000000</td>\n",
       "      <td>2.015038</td>\n",
       "      <td>1.572337</td>\n",
       "      <td>1.534442</td>\n",
       "      <td>2.295250</td>\n",
       "      <td>-0.161598</td>\n",
       "    </tr>\n",
       "    <tr>\n",
       "      <td>1919</td>\n",
       "      <td>8103.000000</td>\n",
       "      <td>2923.000000</td>\n",
       "      <td>-0.557026</td>\n",
       "      <td>6.000000</td>\n",
       "      <td>224.000000</td>\n",
       "      <td>1.352513</td>\n",
       "      <td>-0.878056</td>\n",
       "      <td>-0.631781</td>\n",
       "      <td>-1.106175</td>\n",
       "      <td>-0.644741</td>\n",
       "      <td>...</td>\n",
       "      <td>-1.448762</td>\n",
       "      <td>-1.200546</td>\n",
       "      <td>-0.834833</td>\n",
       "      <td>0.000000</td>\n",
       "      <td>0.000000</td>\n",
       "      <td>-1.078114</td>\n",
       "      <td>-0.392683</td>\n",
       "      <td>-0.490828</td>\n",
       "      <td>-1.374639</td>\n",
       "      <td>-0.161598</td>\n",
       "    </tr>\n",
       "    <tr>\n",
       "      <td>9931</td>\n",
       "      <td>106766.000000</td>\n",
       "      <td>352.000000</td>\n",
       "      <td>0.277209</td>\n",
       "      <td>6.000000</td>\n",
       "      <td>224.000000</td>\n",
       "      <td>0.671873</td>\n",
       "      <td>-0.878056</td>\n",
       "      <td>-0.631781</td>\n",
       "      <td>-1.106175</td>\n",
       "      <td>-0.644741</td>\n",
       "      <td>...</td>\n",
       "      <td>0.530970</td>\n",
       "      <td>0.433022</td>\n",
       "      <td>0.650686</td>\n",
       "      <td>0.000000</td>\n",
       "      <td>0.000000</td>\n",
       "      <td>0.465831</td>\n",
       "      <td>0.351286</td>\n",
       "      <td>0.071456</td>\n",
       "      <td>0.248092</td>\n",
       "      <td>-0.161598</td>\n",
       "    </tr>\n",
       "    <tr>\n",
       "      <td>2072</td>\n",
       "      <td>8186.000000</td>\n",
       "      <td>2813.000000</td>\n",
       "      <td>1.041924</td>\n",
       "      <td>6.000000</td>\n",
       "      <td>224.000000</td>\n",
       "      <td>1.012193</td>\n",
       "      <td>-0.878056</td>\n",
       "      <td>-0.631781</td>\n",
       "      <td>-1.106175</td>\n",
       "      <td>-0.644741</td>\n",
       "      <td>...</td>\n",
       "      <td>-0.757737</td>\n",
       "      <td>-0.479776</td>\n",
       "      <td>0.544577</td>\n",
       "      <td>0.000000</td>\n",
       "      <td>0.000000</td>\n",
       "      <td>0.382929</td>\n",
       "      <td>1.169299</td>\n",
       "      <td>0.977339</td>\n",
       "      <td>0.052829</td>\n",
       "      <td>-0.161598</td>\n",
       "    </tr>\n",
       "    <tr>\n",
       "      <td>15356</td>\n",
       "      <td>5702654.000000</td>\n",
       "      <td>2589.000000</td>\n",
       "      <td>0.207689</td>\n",
       "      <td>6.000000</td>\n",
       "      <td>224.000000</td>\n",
       "      <td>0.229345</td>\n",
       "      <td>-0.878056</td>\n",
       "      <td>-0.631781</td>\n",
       "      <td>-1.106175</td>\n",
       "      <td>-0.644741</td>\n",
       "      <td>...</td>\n",
       "      <td>-0.895942</td>\n",
       "      <td>-0.623930</td>\n",
       "      <td>0.014035</td>\n",
       "      <td>0.000000</td>\n",
       "      <td>0.000000</td>\n",
       "      <td>-0.074694</td>\n",
       "      <td>0.544201</td>\n",
       "      <td>0.257949</td>\n",
       "      <td>-0.175155</td>\n",
       "      <td>-0.161598</td>\n",
       "    </tr>\n",
       "    <tr>\n",
       "      <td>9966</td>\n",
       "      <td>106917.000000</td>\n",
       "      <td>1554.000000</td>\n",
       "      <td>0.277209</td>\n",
       "      <td>6.000000</td>\n",
       "      <td>224.000000</td>\n",
       "      <td>1.012193</td>\n",
       "      <td>0.200130</td>\n",
       "      <td>-0.631781</td>\n",
       "      <td>0.632666</td>\n",
       "      <td>-0.644741</td>\n",
       "      <td>...</td>\n",
       "      <td>0.163289</td>\n",
       "      <td>0.768670</td>\n",
       "      <td>0.438469</td>\n",
       "      <td>0.000000</td>\n",
       "      <td>0.000000</td>\n",
       "      <td>0.327989</td>\n",
       "      <td>0.097306</td>\n",
       "      <td>-0.148510</td>\n",
       "      <td>-0.022723</td>\n",
       "      <td>-0.161598</td>\n",
       "    </tr>\n",
       "    <tr>\n",
       "      <td>13451</td>\n",
       "      <td>3085812.000000</td>\n",
       "      <td>430.000000</td>\n",
       "      <td>0.624807</td>\n",
       "      <td>6.000000</td>\n",
       "      <td>224.000000</td>\n",
       "      <td>0.104674</td>\n",
       "      <td>0.200130</td>\n",
       "      <td>-0.631781</td>\n",
       "      <td>0.632666</td>\n",
       "      <td>-0.644741</td>\n",
       "      <td>...</td>\n",
       "      <td>0.577905</td>\n",
       "      <td>0.769203</td>\n",
       "      <td>1.287337</td>\n",
       "      <td>0.000000</td>\n",
       "      <td>0.000000</td>\n",
       "      <td>1.331399</td>\n",
       "      <td>1.102889</td>\n",
       "      <td>0.892559</td>\n",
       "      <td>1.309454</td>\n",
       "      <td>-0.161598</td>\n",
       "    </tr>\n",
       "    <tr>\n",
       "      <td>16589</td>\n",
       "      <td>6951721.000000</td>\n",
       "      <td>1892.000000</td>\n",
       "      <td>-0.765585</td>\n",
       "      <td>6.000000</td>\n",
       "      <td>224.000000</td>\n",
       "      <td>0.728406</td>\n",
       "      <td>-0.878056</td>\n",
       "      <td>-0.631781</td>\n",
       "      <td>-1.106175</td>\n",
       "      <td>-0.644741</td>\n",
       "      <td>...</td>\n",
       "      <td>0.409654</td>\n",
       "      <td>-0.239601</td>\n",
       "      <td>-0.834833</td>\n",
       "      <td>0.000000</td>\n",
       "      <td>0.000000</td>\n",
       "      <td>-0.833296</td>\n",
       "      <td>-0.577409</td>\n",
       "      <td>-0.591825</td>\n",
       "      <td>-0.864501</td>\n",
       "      <td>-0.161598</td>\n",
       "    </tr>\n",
       "    <tr>\n",
       "      <td>6106</td>\n",
       "      <td>61184.000000</td>\n",
       "      <td>2190.000000</td>\n",
       "      <td>-0.765585</td>\n",
       "      <td>6.000000</td>\n",
       "      <td>224.000000</td>\n",
       "      <td>0.817511</td>\n",
       "      <td>-0.878056</td>\n",
       "      <td>-0.631781</td>\n",
       "      <td>-1.106175</td>\n",
       "      <td>-0.644741</td>\n",
       "      <td>...</td>\n",
       "      <td>-0.942351</td>\n",
       "      <td>-0.480309</td>\n",
       "      <td>-0.622616</td>\n",
       "      <td>0.000000</td>\n",
       "      <td>0.000000</td>\n",
       "      <td>-0.813284</td>\n",
       "      <td>-0.401427</td>\n",
       "      <td>-0.495956</td>\n",
       "      <td>-1.082141</td>\n",
       "      <td>-0.161598</td>\n",
       "    </tr>\n",
       "    <tr>\n",
       "      <td>5150</td>\n",
       "      <td>28905.000000</td>\n",
       "      <td>2045.000000</td>\n",
       "      <td>-0.626545</td>\n",
       "      <td>6.000000</td>\n",
       "      <td>224.000000</td>\n",
       "      <td>-0.311273</td>\n",
       "      <td>0.200130</td>\n",
       "      <td>1.183366</td>\n",
       "      <td>0.632666</td>\n",
       "      <td>1.285620</td>\n",
       "      <td>...</td>\n",
       "      <td>0.051979</td>\n",
       "      <td>-0.191425</td>\n",
       "      <td>-0.410399</td>\n",
       "      <td>0.000000</td>\n",
       "      <td>0.000000</td>\n",
       "      <td>-0.387818</td>\n",
       "      <td>-0.948665</td>\n",
       "      <td>-0.748345</td>\n",
       "      <td>-0.288971</td>\n",
       "      <td>-0.161598</td>\n",
       "    </tr>\n",
       "    <tr>\n",
       "      <td>6364</td>\n",
       "      <td>61384.000000</td>\n",
       "      <td>2498.000000</td>\n",
       "      <td>0.972405</td>\n",
       "      <td>6.000000</td>\n",
       "      <td>224.000000</td>\n",
       "      <td>-0.519433</td>\n",
       "      <td>0.200130</td>\n",
       "      <td>1.183366</td>\n",
       "      <td>0.632666</td>\n",
       "      <td>1.285620</td>\n",
       "      <td>...</td>\n",
       "      <td>0.347392</td>\n",
       "      <td>0.432488</td>\n",
       "      <td>0.756794</td>\n",
       "      <td>0.000000</td>\n",
       "      <td>0.000000</td>\n",
       "      <td>0.873775</td>\n",
       "      <td>0.725804</td>\n",
       "      <td>0.448810</td>\n",
       "      <td>1.112489</td>\n",
       "      <td>-0.161598</td>\n",
       "    </tr>\n",
       "    <tr>\n",
       "      <td>12178</td>\n",
       "      <td>521238.000000</td>\n",
       "      <td>2521.000000</td>\n",
       "      <td>0.416248</td>\n",
       "      <td>6.000000</td>\n",
       "      <td>224.000000</td>\n",
       "      <td>0.978124</td>\n",
       "      <td>-0.878056</td>\n",
       "      <td>-0.631781</td>\n",
       "      <td>-1.106175</td>\n",
       "      <td>-0.644741</td>\n",
       "      <td>...</td>\n",
       "      <td>-0.389531</td>\n",
       "      <td>0.048433</td>\n",
       "      <td>0.332360</td>\n",
       "      <td>0.000000</td>\n",
       "      <td>0.000000</td>\n",
       "      <td>0.146060</td>\n",
       "      <td>0.495764</td>\n",
       "      <td>0.209548</td>\n",
       "      <td>-0.190754</td>\n",
       "      <td>-0.161598</td>\n",
       "    </tr>\n",
       "    <tr>\n",
       "      <td>3536</td>\n",
       "      <td>13187.000000</td>\n",
       "      <td>2670.000000</td>\n",
       "      <td>0.207689</td>\n",
       "      <td>6.000000</td>\n",
       "      <td>224.000000</td>\n",
       "      <td>0.936567</td>\n",
       "      <td>-0.878056</td>\n",
       "      <td>-0.631781</td>\n",
       "      <td>-1.106175</td>\n",
       "      <td>-0.644741</td>\n",
       "      <td>...</td>\n",
       "      <td>-1.034147</td>\n",
       "      <td>-0.768084</td>\n",
       "      <td>-0.092074</td>\n",
       "      <td>0.000000</td>\n",
       "      <td>0.000000</td>\n",
       "      <td>-0.256623</td>\n",
       "      <td>0.176900</td>\n",
       "      <td>-0.082700</td>\n",
       "      <td>-0.557404</td>\n",
       "      <td>-0.161598</td>\n",
       "    </tr>\n",
       "    <tr>\n",
       "      <td>243</td>\n",
       "      <td>997.000000</td>\n",
       "      <td>61.000000</td>\n",
       "      <td>-1.043663</td>\n",
       "      <td>6.000000</td>\n",
       "      <td>224.000000</td>\n",
       "      <td>-1.975433</td>\n",
       "      <td>0.200130</td>\n",
       "      <td>1.183366</td>\n",
       "      <td>0.632666</td>\n",
       "      <td>1.285620</td>\n",
       "      <td>...</td>\n",
       "      <td>0.100945</td>\n",
       "      <td>-0.192001</td>\n",
       "      <td>-0.940942</td>\n",
       "      <td>0.000000</td>\n",
       "      <td>0.000000</td>\n",
       "      <td>-0.780082</td>\n",
       "      <td>-1.186616</td>\n",
       "      <td>-0.816030</td>\n",
       "      <td>-0.359577</td>\n",
       "      <td>5.273531</td>\n",
       "    </tr>\n",
       "    <tr>\n",
       "      <td>13046</td>\n",
       "      <td>1549018.000000</td>\n",
       "      <td>2097.000000</td>\n",
       "      <td>-0.417987</td>\n",
       "      <td>6.000000</td>\n",
       "      <td>224.000000</td>\n",
       "      <td>-0.349086</td>\n",
       "      <td>0.200130</td>\n",
       "      <td>-0.631781</td>\n",
       "      <td>0.632666</td>\n",
       "      <td>-0.644741</td>\n",
       "      <td>...</td>\n",
       "      <td>-0.113121</td>\n",
       "      <td>-0.287748</td>\n",
       "      <td>-0.092074</td>\n",
       "      <td>0.000000</td>\n",
       "      <td>0.000000</td>\n",
       "      <td>-0.030618</td>\n",
       "      <td>0.360169</td>\n",
       "      <td>0.079673</td>\n",
       "      <td>0.036223</td>\n",
       "      <td>-0.161598</td>\n",
       "    </tr>\n",
       "    <tr>\n",
       "      <td>11841</td>\n",
       "      <td>439711.000000</td>\n",
       "      <td>1053.000000</td>\n",
       "      <td>-0.209428</td>\n",
       "      <td>6.000000</td>\n",
       "      <td>224.000000</td>\n",
       "      <td>1.352513</td>\n",
       "      <td>2.356503</td>\n",
       "      <td>-0.631781</td>\n",
       "      <td>0.632666</td>\n",
       "      <td>-0.644741</td>\n",
       "      <td>...</td>\n",
       "      <td>0.577393</td>\n",
       "      <td>-0.912238</td>\n",
       "      <td>0.014035</td>\n",
       "      <td>0.000000</td>\n",
       "      <td>0.000000</td>\n",
       "      <td>-0.074694</td>\n",
       "      <td>-0.235021</td>\n",
       "      <td>-0.392477</td>\n",
       "      <td>-0.470147</td>\n",
       "      <td>-0.161598</td>\n",
       "    </tr>\n",
       "    <tr>\n",
       "      <td>4240</td>\n",
       "      <td>17898.000000</td>\n",
       "      <td>1463.000000</td>\n",
       "      <td>-1.113183</td>\n",
       "      <td>6.000000</td>\n",
       "      <td>224.000000</td>\n",
       "      <td>-1.143540</td>\n",
       "      <td>0.200130</td>\n",
       "      <td>1.183366</td>\n",
       "      <td>0.632666</td>\n",
       "      <td>1.285620</td>\n",
       "      <td>...</td>\n",
       "      <td>-0.401458</td>\n",
       "      <td>-0.888279</td>\n",
       "      <td>-1.259267</td>\n",
       "      <td>0.000000</td>\n",
       "      <td>0.000000</td>\n",
       "      <td>-1.264261</td>\n",
       "      <td>-2.046751</td>\n",
       "      <td>-0.848073</td>\n",
       "      <td>-1.195459</td>\n",
       "      <td>-0.161598</td>\n",
       "    </tr>\n",
       "    <tr>\n",
       "      <td>12759</td>\n",
       "      <td>605629.000000</td>\n",
       "      <td>609.000000</td>\n",
       "      <td>0.485768</td>\n",
       "      <td>6.000000</td>\n",
       "      <td>224.000000</td>\n",
       "      <td>-0.663573</td>\n",
       "      <td>0.200130</td>\n",
       "      <td>1.183366</td>\n",
       "      <td>0.632666</td>\n",
       "      <td>1.285620</td>\n",
       "      <td>...</td>\n",
       "      <td>0.716110</td>\n",
       "      <td>0.672923</td>\n",
       "      <td>0.438469</td>\n",
       "      <td>0.000000</td>\n",
       "      <td>0.000000</td>\n",
       "      <td>0.553994</td>\n",
       "      <td>0.114793</td>\n",
       "      <td>-0.134299</td>\n",
       "      <td>0.774314</td>\n",
       "      <td>-0.161598</td>\n",
       "    </tr>\n",
       "    <tr>\n",
       "      <td>4004</td>\n",
       "      <td>16617.000000</td>\n",
       "      <td>2494.000000</td>\n",
       "      <td>0.624807</td>\n",
       "      <td>6.000000</td>\n",
       "      <td>224.000000</td>\n",
       "      <td>1.012193</td>\n",
       "      <td>-0.878056</td>\n",
       "      <td>-0.631781</td>\n",
       "      <td>-1.106175</td>\n",
       "      <td>-0.644741</td>\n",
       "      <td>...</td>\n",
       "      <td>-0.343633</td>\n",
       "      <td>0.000026</td>\n",
       "      <td>0.650686</td>\n",
       "      <td>0.000000</td>\n",
       "      <td>0.000000</td>\n",
       "      <td>0.465831</td>\n",
       "      <td>0.824482</td>\n",
       "      <td>0.558750</td>\n",
       "      <td>0.125542</td>\n",
       "      <td>-0.161598</td>\n",
       "    </tr>\n",
       "    <tr>\n",
       "      <td>12879</td>\n",
       "      <td>641832.000000</td>\n",
       "      <td>2235.000000</td>\n",
       "      <td>-0.487506</td>\n",
       "      <td>6.000000</td>\n",
       "      <td>224.000000</td>\n",
       "      <td>0.817511</td>\n",
       "      <td>-0.878056</td>\n",
       "      <td>-0.631781</td>\n",
       "      <td>-1.106175</td>\n",
       "      <td>-0.644741</td>\n",
       "      <td>...</td>\n",
       "      <td>-0.574145</td>\n",
       "      <td>-0.720210</td>\n",
       "      <td>-0.622616</td>\n",
       "      <td>0.000000</td>\n",
       "      <td>0.000000</td>\n",
       "      <td>-0.813284</td>\n",
       "      <td>-0.267913</td>\n",
       "      <td>-0.413918</td>\n",
       "      <td>-1.081532</td>\n",
       "      <td>-0.161598</td>\n",
       "    </tr>\n",
       "    <tr>\n",
       "      <td>10527</td>\n",
       "      <td>112491.000000</td>\n",
       "      <td>1013.000000</td>\n",
       "      <td>-0.696065</td>\n",
       "      <td>6.000000</td>\n",
       "      <td>224.000000</td>\n",
       "      <td>0.978124</td>\n",
       "      <td>-0.878056</td>\n",
       "      <td>-0.631781</td>\n",
       "      <td>-1.106175</td>\n",
       "      <td>-0.644741</td>\n",
       "      <td>...</td>\n",
       "      <td>-0.251326</td>\n",
       "      <td>-0.431902</td>\n",
       "      <td>0.332360</td>\n",
       "      <td>0.000000</td>\n",
       "      <td>0.000000</td>\n",
       "      <td>0.146060</td>\n",
       "      <td>-0.255492</td>\n",
       "      <td>-0.405886</td>\n",
       "      <td>-0.123518</td>\n",
       "      <td>-0.161598</td>\n",
       "    </tr>\n",
       "    <tr>\n",
       "      <td>5216</td>\n",
       "      <td>30771.000000</td>\n",
       "      <td>573.000000</td>\n",
       "      <td>0.277209</td>\n",
       "      <td>6.000000</td>\n",
       "      <td>224.000000</td>\n",
       "      <td>0.978124</td>\n",
       "      <td>0.200130</td>\n",
       "      <td>-0.631781</td>\n",
       "      <td>0.632666</td>\n",
       "      <td>-0.644741</td>\n",
       "      <td>...</td>\n",
       "      <td>-0.435429</td>\n",
       "      <td>-0.384029</td>\n",
       "      <td>0.120143</td>\n",
       "      <td>0.000000</td>\n",
       "      <td>0.000000</td>\n",
       "      <td>0.008208</td>\n",
       "      <td>0.103829</td>\n",
       "      <td>-0.143231</td>\n",
       "      <td>-0.295115</td>\n",
       "      <td>-0.161598</td>\n",
       "    </tr>\n",
       "    <tr>\n",
       "      <td>6824</td>\n",
       "      <td>61874.000000</td>\n",
       "      <td>2306.000000</td>\n",
       "      <td>-0.417987</td>\n",
       "      <td>6.000000</td>\n",
       "      <td>224.000000</td>\n",
       "      <td>-0.987420</td>\n",
       "      <td>-0.878056</td>\n",
       "      <td>-0.631781</td>\n",
       "      <td>-1.106175</td>\n",
       "      <td>-0.644741</td>\n",
       "      <td>...</td>\n",
       "      <td>-1.172352</td>\n",
       "      <td>-0.912238</td>\n",
       "      <td>-0.834833</td>\n",
       "      <td>0.000000</td>\n",
       "      <td>0.000000</td>\n",
       "      <td>-0.852109</td>\n",
       "      <td>-0.105046</td>\n",
       "      <td>-0.302981</td>\n",
       "      <td>-0.700794</td>\n",
       "      <td>-0.161598</td>\n",
       "    </tr>\n",
       "    <tr>\n",
       "      <td>3578</td>\n",
       "      <td>13576.000000</td>\n",
       "      <td>2671.000000</td>\n",
       "      <td>0.555287</td>\n",
       "      <td>6.000000</td>\n",
       "      <td>224.000000</td>\n",
       "      <td>0.978124</td>\n",
       "      <td>-0.878056</td>\n",
       "      <td>-0.631781</td>\n",
       "      <td>-1.106175</td>\n",
       "      <td>-0.644741</td>\n",
       "      <td>...</td>\n",
       "      <td>-0.711839</td>\n",
       "      <td>-0.623930</td>\n",
       "      <td>0.226252</td>\n",
       "      <td>0.000000</td>\n",
       "      <td>0.000000</td>\n",
       "      <td>0.063158</td>\n",
       "      <td>0.639686</td>\n",
       "      <td>0.356453</td>\n",
       "      <td>-0.254666</td>\n",
       "      <td>-0.161598</td>\n",
       "    </tr>\n",
       "    <tr>\n",
       "      <td>8662</td>\n",
       "      <td>88267.000000</td>\n",
       "      <td>1329.000000</td>\n",
       "      <td>-0.348467</td>\n",
       "      <td>6.000000</td>\n",
       "      <td>224.000000</td>\n",
       "      <td>-1.143540</td>\n",
       "      <td>0.200130</td>\n",
       "      <td>1.183366</td>\n",
       "      <td>0.632666</td>\n",
       "      <td>1.285620</td>\n",
       "      <td>...</td>\n",
       "      <td>-0.481327</td>\n",
       "      <td>-0.576056</td>\n",
       "      <td>-0.728725</td>\n",
       "      <td>0.000000</td>\n",
       "      <td>0.000000</td>\n",
       "      <td>-0.670180</td>\n",
       "      <td>-0.640002</td>\n",
       "      <td>-0.622568</td>\n",
       "      <td>-0.411993</td>\n",
       "      <td>-0.161598</td>\n",
       "    </tr>\n",
       "    <tr>\n",
       "      <td>8582</td>\n",
       "      <td>86799.000000</td>\n",
       "      <td>2557.000000</td>\n",
       "      <td>0.068650</td>\n",
       "      <td>6.000000</td>\n",
       "      <td>224.000000</td>\n",
       "      <td>1.040647</td>\n",
       "      <td>0.200130</td>\n",
       "      <td>-0.631781</td>\n",
       "      <td>0.632666</td>\n",
       "      <td>-0.644741</td>\n",
       "      <td>...</td>\n",
       "      <td>0.577393</td>\n",
       "      <td>0.928710</td>\n",
       "      <td>0.862903</td>\n",
       "      <td>0.000000</td>\n",
       "      <td>0.000000</td>\n",
       "      <td>0.730662</td>\n",
       "      <td>-0.217325</td>\n",
       "      <td>-0.380748</td>\n",
       "      <td>0.416326</td>\n",
       "      <td>-0.161598</td>\n",
       "    </tr>\n",
       "    <tr>\n",
       "      <td>12701</td>\n",
       "      <td>570574.000000</td>\n",
       "      <td>2193.000000</td>\n",
       "      <td>-0.000869</td>\n",
       "      <td>6.000000</td>\n",
       "      <td>464.000000</td>\n",
       "      <td>-0.831300</td>\n",
       "      <td>0.200130</td>\n",
       "      <td>1.183366</td>\n",
       "      <td>0.632666</td>\n",
       "      <td>1.285620</td>\n",
       "      <td>...</td>\n",
       "      <td>0.393290</td>\n",
       "      <td>0.624516</td>\n",
       "      <td>0.120143</td>\n",
       "      <td>0.000000</td>\n",
       "      <td>0.000000</td>\n",
       "      <td>0.234213</td>\n",
       "      <td>0.131725</td>\n",
       "      <td>-0.120402</td>\n",
       "      <td>0.488391</td>\n",
       "      <td>-0.161598</td>\n",
       "    </tr>\n",
       "    <tr>\n",
       "      <td>8443</td>\n",
       "      <td>85522.000000</td>\n",
       "      <td>3294.000000</td>\n",
       "      <td>-1.391261</td>\n",
       "      <td>6.000000</td>\n",
       "      <td>464.000000</td>\n",
       "      <td>0.416540</td>\n",
       "      <td>-0.878056</td>\n",
       "      <td>-0.631781</td>\n",
       "      <td>-1.106175</td>\n",
       "      <td>-0.644741</td>\n",
       "      <td>...</td>\n",
       "      <td>-0.603942</td>\n",
       "      <td>-0.911964</td>\n",
       "      <td>-1.471484</td>\n",
       "      <td>0.000000</td>\n",
       "      <td>0.000000</td>\n",
       "      <td>-1.472859</td>\n",
       "      <td>-1.202785</td>\n",
       "      <td>-0.819705</td>\n",
       "      <td>-1.449603</td>\n",
       "      <td>-0.161598</td>\n",
       "    </tr>\n",
       "    <tr>\n",
       "      <td>13214</td>\n",
       "      <td>2733977.000000</td>\n",
       "      <td>2266.000000</td>\n",
       "      <td>-0.417987</td>\n",
       "      <td>6.000000</td>\n",
       "      <td>464.000000</td>\n",
       "      <td>0.603735</td>\n",
       "      <td>-0.878056</td>\n",
       "      <td>-0.631781</td>\n",
       "      <td>-1.106175</td>\n",
       "      <td>-0.644741</td>\n",
       "      <td>...</td>\n",
       "      <td>0.348415</td>\n",
       "      <td>1.137992</td>\n",
       "      <td>0.332360</td>\n",
       "      <td>0.000000</td>\n",
       "      <td>0.000000</td>\n",
       "      <td>0.390878</td>\n",
       "      <td>-0.423425</td>\n",
       "      <td>-0.508704</td>\n",
       "      <td>0.350896</td>\n",
       "      <td>-0.161598</td>\n",
       "    </tr>\n",
       "    <tr>\n",
       "      <td>7529</td>\n",
       "      <td>65413.000000</td>\n",
       "      <td>2263.000000</td>\n",
       "      <td>-0.626545</td>\n",
       "      <td>6.000000</td>\n",
       "      <td>464.000000</td>\n",
       "      <td>1.352513</td>\n",
       "      <td>-0.878056</td>\n",
       "      <td>-0.631781</td>\n",
       "      <td>-1.106175</td>\n",
       "      <td>-0.644741</td>\n",
       "      <td>...</td>\n",
       "      <td>-0.434392</td>\n",
       "      <td>-0.014706</td>\n",
       "      <td>-0.410399</td>\n",
       "      <td>0.000000</td>\n",
       "      <td>0.000000</td>\n",
       "      <td>-0.458564</td>\n",
       "      <td>-0.536675</td>\n",
       "      <td>-0.570882</td>\n",
       "      <td>-0.553394</td>\n",
       "      <td>-0.161598</td>\n",
       "    </tr>\n",
       "    <tr>\n",
       "      <td>7051</td>\n",
       "      <td>62143.000000</td>\n",
       "      <td>1886.000000</td>\n",
       "      <td>-0.765585</td>\n",
       "      <td>6.000000</td>\n",
       "      <td>464.000000</td>\n",
       "      <td>-0.987420</td>\n",
       "      <td>0.200130</td>\n",
       "      <td>1.183366</td>\n",
       "      <td>0.632666</td>\n",
       "      <td>1.285620</td>\n",
       "      <td>...</td>\n",
       "      <td>0.103018</td>\n",
       "      <td>-0.094640</td>\n",
       "      <td>-0.834833</td>\n",
       "      <td>0.000000</td>\n",
       "      <td>0.000000</td>\n",
       "      <td>-0.607291</td>\n",
       "      <td>-1.026872</td>\n",
       "      <td>-0.773407</td>\n",
       "      <td>-0.263133</td>\n",
       "      <td>-0.161598</td>\n",
       "    </tr>\n",
       "    <tr>\n",
       "      <td>14091</td>\n",
       "      <td>5352543.000000</td>\n",
       "      <td>2499.000000</td>\n",
       "      <td>0.694326</td>\n",
       "      <td>6.000000</td>\n",
       "      <td>464.000000</td>\n",
       "      <td>0.416540</td>\n",
       "      <td>-0.878056</td>\n",
       "      <td>-0.631781</td>\n",
       "      <td>-1.106175</td>\n",
       "      <td>-0.644741</td>\n",
       "      <td>...</td>\n",
       "      <td>-0.205428</td>\n",
       "      <td>0.096307</td>\n",
       "      <td>0.756794</td>\n",
       "      <td>0.000000</td>\n",
       "      <td>0.000000</td>\n",
       "      <td>0.647760</td>\n",
       "      <td>0.974372</td>\n",
       "      <td>0.734131</td>\n",
       "      <td>0.503074</td>\n",
       "      <td>-0.161598</td>\n",
       "    </tr>\n",
       "    <tr>\n",
       "      <td>5234</td>\n",
       "      <td>31209.000000</td>\n",
       "      <td>2459.000000</td>\n",
       "      <td>0.972405</td>\n",
       "      <td>6.000000</td>\n",
       "      <td>464.000000</td>\n",
       "      <td>-1.054436</td>\n",
       "      <td>0.200130</td>\n",
       "      <td>1.183366</td>\n",
       "      <td>0.632666</td>\n",
       "      <td>1.285620</td>\n",
       "      <td>...</td>\n",
       "      <td>0.255597</td>\n",
       "      <td>0.433022</td>\n",
       "      <td>0.438469</td>\n",
       "      <td>0.000000</td>\n",
       "      <td>0.000000</td>\n",
       "      <td>0.653021</td>\n",
       "      <td>0.905881</td>\n",
       "      <td>0.652733</td>\n",
       "      <td>1.091925</td>\n",
       "      <td>-0.161598</td>\n",
       "    </tr>\n",
       "    <tr>\n",
       "      <td>10325</td>\n",
       "      <td>110543.000000</td>\n",
       "      <td>1850.000000</td>\n",
       "      <td>-1.321741</td>\n",
       "      <td>6.000000</td>\n",
       "      <td>464.000000</td>\n",
       "      <td>-1.143540</td>\n",
       "      <td>0.200130</td>\n",
       "      <td>1.183366</td>\n",
       "      <td>0.632666</td>\n",
       "      <td>1.285620</td>\n",
       "      <td>...</td>\n",
       "      <td>0.883255</td>\n",
       "      <td>0.591995</td>\n",
       "      <td>-0.622616</td>\n",
       "      <td>0.000000</td>\n",
       "      <td>0.000000</td>\n",
       "      <td>-0.559328</td>\n",
       "      <td>-1.610403</td>\n",
       "      <td>-0.873439</td>\n",
       "      <td>-0.312159</td>\n",
       "      <td>-0.161598</td>\n",
       "    </tr>\n",
       "    <tr>\n",
       "      <td>10679</td>\n",
       "      <td>118134.000000</td>\n",
       "      <td>737.000000</td>\n",
       "      <td>0.485768</td>\n",
       "      <td>6.000000</td>\n",
       "      <td>494.000000</td>\n",
       "      <td>1.064608</td>\n",
       "      <td>1.278317</td>\n",
       "      <td>-0.631781</td>\n",
       "      <td>0.632666</td>\n",
       "      <td>-0.644741</td>\n",
       "      <td>...</td>\n",
       "      <td>0.808417</td>\n",
       "      <td>0.433022</td>\n",
       "      <td>0.756794</td>\n",
       "      <td>0.000000</td>\n",
       "      <td>0.000000</td>\n",
       "      <td>0.746787</td>\n",
       "      <td>0.506312</td>\n",
       "      <td>0.219998</td>\n",
       "      <td>0.398915</td>\n",
       "      <td>-0.161598</td>\n",
       "    </tr>\n",
       "    <tr>\n",
       "      <td>10694</td>\n",
       "      <td>118201.000000</td>\n",
       "      <td>3102.000000</td>\n",
       "      <td>0.068650</td>\n",
       "      <td>6.000000</td>\n",
       "      <td>494.000000</td>\n",
       "      <td>-0.207567</td>\n",
       "      <td>0.200130</td>\n",
       "      <td>-0.631781</td>\n",
       "      <td>0.632666</td>\n",
       "      <td>-0.644741</td>\n",
       "      <td>...</td>\n",
       "      <td>1.084316</td>\n",
       "      <td>1.728793</td>\n",
       "      <td>0.332360</td>\n",
       "      <td>0.000000</td>\n",
       "      <td>0.000000</td>\n",
       "      <td>0.372065</td>\n",
       "      <td>0.324639</td>\n",
       "      <td>0.047012</td>\n",
       "      <td>0.413218</td>\n",
       "      <td>-0.161598</td>\n",
       "    </tr>\n",
       "    <tr>\n",
       "      <td>10927</td>\n",
       "      <td>159055.000000</td>\n",
       "      <td>1060.000000</td>\n",
       "      <td>-0.417987</td>\n",
       "      <td>6.000000</td>\n",
       "      <td>494.000000</td>\n",
       "      <td>0.978124</td>\n",
       "      <td>2.356503</td>\n",
       "      <td>-0.631781</td>\n",
       "      <td>0.632666</td>\n",
       "      <td>-0.644741</td>\n",
       "      <td>...</td>\n",
       "      <td>0.762008</td>\n",
       "      <td>-1.104799</td>\n",
       "      <td>-0.198182</td>\n",
       "      <td>0.000000</td>\n",
       "      <td>0.000000</td>\n",
       "      <td>-0.212547</td>\n",
       "      <td>-0.356113</td>\n",
       "      <td>-0.469018</td>\n",
       "      <td>-0.513874</td>\n",
       "      <td>-0.161598</td>\n",
       "    </tr>\n",
       "    <tr>\n",
       "      <td>10794</td>\n",
       "      <td>121739.000000</td>\n",
       "      <td>2779.000000</td>\n",
       "      <td>1.598081</td>\n",
       "      <td>6.000000</td>\n",
       "      <td>494.000000</td>\n",
       "      <td>1.064608</td>\n",
       "      <td>-0.878056</td>\n",
       "      <td>-0.631781</td>\n",
       "      <td>-1.106175</td>\n",
       "      <td>-0.644741</td>\n",
       "      <td>...</td>\n",
       "      <td>-0.067223</td>\n",
       "      <td>0.192587</td>\n",
       "      <td>1.287337</td>\n",
       "      <td>0.000000</td>\n",
       "      <td>0.000000</td>\n",
       "      <td>1.105394</td>\n",
       "      <td>1.599470</td>\n",
       "      <td>1.574583</td>\n",
       "      <td>0.731058</td>\n",
       "      <td>-0.161598</td>\n",
       "    </tr>\n",
       "    <tr>\n",
       "      <td>7340</td>\n",
       "      <td>62575.000000</td>\n",
       "      <td>2927.000000</td>\n",
       "      <td>0.694326</td>\n",
       "      <td>6.000000</td>\n",
       "      <td>494.000000</td>\n",
       "      <td>1.012193</td>\n",
       "      <td>-0.878056</td>\n",
       "      <td>-0.631781</td>\n",
       "      <td>-1.106175</td>\n",
       "      <td>-0.644741</td>\n",
       "      <td>...</td>\n",
       "      <td>0.116355</td>\n",
       "      <td>-0.287748</td>\n",
       "      <td>0.650686</td>\n",
       "      <td>0.000000</td>\n",
       "      <td>0.000000</td>\n",
       "      <td>0.465831</td>\n",
       "      <td>0.943423</td>\n",
       "      <td>0.697091</td>\n",
       "      <td>0.120693</td>\n",
       "      <td>-0.161598</td>\n",
       "    </tr>\n",
       "    <tr>\n",
       "      <td>5923</td>\n",
       "      <td>61061.000000</td>\n",
       "      <td>546.000000</td>\n",
       "      <td>0.346729</td>\n",
       "      <td>6.000000</td>\n",
       "      <td>494.000000</td>\n",
       "      <td>1.040647</td>\n",
       "      <td>2.356503</td>\n",
       "      <td>-0.631781</td>\n",
       "      <td>0.632666</td>\n",
       "      <td>-0.644741</td>\n",
       "      <td>...</td>\n",
       "      <td>1.360726</td>\n",
       "      <td>0.144180</td>\n",
       "      <td>0.544577</td>\n",
       "      <td>0.000000</td>\n",
       "      <td>0.000000</td>\n",
       "      <td>0.509918</td>\n",
       "      <td>-0.065631</td>\n",
       "      <td>-0.274342</td>\n",
       "      <td>0.138687</td>\n",
       "      <td>-0.161598</td>\n",
       "    </tr>\n",
       "  </tbody>\n",
       "</table>\n",
       "<p>52 rows × 212 columns</p>\n",
       "</div>"
      ],
      "text/plain": [
       "                 cid  canonical_smiles     xlogp  odor level  odor name  \\\n",
       "2017     8164.000000       2888.000000  0.416248    6.000000 200.000000   \n",
       "8874    91337.000000        923.000000  0.555287    6.000000 200.000000   \n",
       "6390    61401.000000        988.000000  0.346729    6.000000 224.000000   \n",
       "2863    10976.000000       2510.000000 -0.348467    6.000000 224.000000   \n",
       "14029 5352371.000000       2585.000000  0.416248    6.000000 224.000000   \n",
       "13748 5282724.000000       2716.000000  0.694326    6.000000 224.000000   \n",
       "15535 6366072.000000       2929.000000  0.833366    6.000000 224.000000   \n",
       "2377     8842.000000        978.000000  0.277209    6.000000 224.000000   \n",
       "7277    62445.000000       1963.000000  0.207689    6.000000 224.000000   \n",
       "13857 5283366.000000       2826.000000  2.154238    6.000000 224.000000   \n",
       "15803 6431148.000000       1798.000000  0.485768    6.000000 224.000000   \n",
       "1052     7413.000000        180.000000 -0.626545    6.000000 224.000000   \n",
       "6567    61521.000000        999.000000  2.015198    6.000000 224.000000   \n",
       "1919     8103.000000       2923.000000 -0.557026    6.000000 224.000000   \n",
       "9931   106766.000000        352.000000  0.277209    6.000000 224.000000   \n",
       "2072     8186.000000       2813.000000  1.041924    6.000000 224.000000   \n",
       "15356 5702654.000000       2589.000000  0.207689    6.000000 224.000000   \n",
       "9966   106917.000000       1554.000000  0.277209    6.000000 224.000000   \n",
       "13451 3085812.000000        430.000000  0.624807    6.000000 224.000000   \n",
       "16589 6951721.000000       1892.000000 -0.765585    6.000000 224.000000   \n",
       "6106    61184.000000       2190.000000 -0.765585    6.000000 224.000000   \n",
       "5150    28905.000000       2045.000000 -0.626545    6.000000 224.000000   \n",
       "6364    61384.000000       2498.000000  0.972405    6.000000 224.000000   \n",
       "12178  521238.000000       2521.000000  0.416248    6.000000 224.000000   \n",
       "3536    13187.000000       2670.000000  0.207689    6.000000 224.000000   \n",
       "243       997.000000         61.000000 -1.043663    6.000000 224.000000   \n",
       "13046 1549018.000000       2097.000000 -0.417987    6.000000 224.000000   \n",
       "11841  439711.000000       1053.000000 -0.209428    6.000000 224.000000   \n",
       "4240    17898.000000       1463.000000 -1.113183    6.000000 224.000000   \n",
       "12759  605629.000000        609.000000  0.485768    6.000000 224.000000   \n",
       "4004    16617.000000       2494.000000  0.624807    6.000000 224.000000   \n",
       "12879  641832.000000       2235.000000 -0.487506    6.000000 224.000000   \n",
       "10527  112491.000000       1013.000000 -0.696065    6.000000 224.000000   \n",
       "5216    30771.000000        573.000000  0.277209    6.000000 224.000000   \n",
       "6824    61874.000000       2306.000000 -0.417987    6.000000 224.000000   \n",
       "3578    13576.000000       2671.000000  0.555287    6.000000 224.000000   \n",
       "8662    88267.000000       1329.000000 -0.348467    6.000000 224.000000   \n",
       "8582    86799.000000       2557.000000  0.068650    6.000000 224.000000   \n",
       "12701  570574.000000       2193.000000 -0.000869    6.000000 464.000000   \n",
       "8443    85522.000000       3294.000000 -1.391261    6.000000 464.000000   \n",
       "13214 2733977.000000       2266.000000 -0.417987    6.000000 464.000000   \n",
       "7529    65413.000000       2263.000000 -0.626545    6.000000 464.000000   \n",
       "7051    62143.000000       1886.000000 -0.765585    6.000000 464.000000   \n",
       "14091 5352543.000000       2499.000000  0.694326    6.000000 464.000000   \n",
       "5234    31209.000000       2459.000000  0.972405    6.000000 464.000000   \n",
       "10325  110543.000000       1850.000000 -1.321741    6.000000 464.000000   \n",
       "10679  118134.000000        737.000000  0.485768    6.000000 494.000000   \n",
       "10694  118201.000000       3102.000000  0.068650    6.000000 494.000000   \n",
       "10927  159055.000000       1060.000000 -0.417987    6.000000 494.000000   \n",
       "10794  121739.000000       2779.000000  1.598081    6.000000 494.000000   \n",
       "7340    62575.000000       2927.000000  0.694326    6.000000 494.000000   \n",
       "5923    61061.000000        546.000000  0.346729    6.000000 494.000000   \n",
       "\n",
       "           fsp3  small rings  arom rings  ring blocks  arom blocks  ...  \\\n",
       "2017   0.978124    -0.878056   -0.631781    -1.106175    -0.644741  ...   \n",
       "8874   1.012193     0.200130   -0.631781     0.632666    -0.644741  ...   \n",
       "6390   0.416540    -0.878056   -0.631781    -1.106175    -0.644741  ...   \n",
       "2863   1.352513    -0.878056   -0.631781    -1.106175    -0.644741  ...   \n",
       "14029  0.331554    -0.878056   -0.631781    -1.106175    -0.644741  ...   \n",
       "13748  0.229345    -0.878056   -0.631781    -1.106175    -0.644741  ...   \n",
       "15535  0.416540    -0.878056   -0.631781    -1.106175    -0.644741  ...   \n",
       "2377   0.603735    -0.878056   -0.631781    -1.106175    -0.644741  ...   \n",
       "7277   0.978124    -0.878056   -0.631781    -1.106175    -0.644741  ...   \n",
       "13857  0.550197    -0.878056   -0.631781    -1.106175    -0.644741  ...   \n",
       "15803  0.331554    -0.878056   -0.631781    -1.106175    -0.644741  ...   \n",
       "1052   0.817511     0.200130   -0.631781     0.632666    -0.644741  ...   \n",
       "6567  -0.519433     0.200130    1.183366     0.632666     1.285620  ...   \n",
       "1919   1.352513    -0.878056   -0.631781    -1.106175    -0.644741  ...   \n",
       "9931   0.671873    -0.878056   -0.631781    -1.106175    -0.644741  ...   \n",
       "2072   1.012193    -0.878056   -0.631781    -1.106175    -0.644741  ...   \n",
       "15356  0.229345    -0.878056   -0.631781    -1.106175    -0.644741  ...   \n",
       "9966   1.012193     0.200130   -0.631781     0.632666    -0.644741  ...   \n",
       "13451  0.104674     0.200130   -0.631781     0.632666    -0.644741  ...   \n",
       "16589  0.728406    -0.878056   -0.631781    -1.106175    -0.644741  ...   \n",
       "6106   0.817511    -0.878056   -0.631781    -1.106175    -0.644741  ...   \n",
       "5150  -0.311273     0.200130    1.183366     0.632666     1.285620  ...   \n",
       "6364  -0.519433     0.200130    1.183366     0.632666     1.285620  ...   \n",
       "12178  0.978124    -0.878056   -0.631781    -1.106175    -0.644741  ...   \n",
       "3536   0.936567    -0.878056   -0.631781    -1.106175    -0.644741  ...   \n",
       "243   -1.975433     0.200130    1.183366     0.632666     1.285620  ...   \n",
       "13046 -0.349086     0.200130   -0.631781     0.632666    -0.644741  ...   \n",
       "11841  1.352513     2.356503   -0.631781     0.632666    -0.644741  ...   \n",
       "4240  -1.143540     0.200130    1.183366     0.632666     1.285620  ...   \n",
       "12759 -0.663573     0.200130    1.183366     0.632666     1.285620  ...   \n",
       "4004   1.012193    -0.878056   -0.631781    -1.106175    -0.644741  ...   \n",
       "12879  0.817511    -0.878056   -0.631781    -1.106175    -0.644741  ...   \n",
       "10527  0.978124    -0.878056   -0.631781    -1.106175    -0.644741  ...   \n",
       "5216   0.978124     0.200130   -0.631781     0.632666    -0.644741  ...   \n",
       "6824  -0.987420    -0.878056   -0.631781    -1.106175    -0.644741  ...   \n",
       "3578   0.978124    -0.878056   -0.631781    -1.106175    -0.644741  ...   \n",
       "8662  -1.143540     0.200130    1.183366     0.632666     1.285620  ...   \n",
       "8582   1.040647     0.200130   -0.631781     0.632666    -0.644741  ...   \n",
       "12701 -0.831300     0.200130    1.183366     0.632666     1.285620  ...   \n",
       "8443   0.416540    -0.878056   -0.631781    -1.106175    -0.644741  ...   \n",
       "13214  0.603735    -0.878056   -0.631781    -1.106175    -0.644741  ...   \n",
       "7529   1.352513    -0.878056   -0.631781    -1.106175    -0.644741  ...   \n",
       "7051  -0.987420     0.200130    1.183366     0.632666     1.285620  ...   \n",
       "14091  0.416540    -0.878056   -0.631781    -1.106175    -0.644741  ...   \n",
       "5234  -1.054436     0.200130    1.183366     0.632666     1.285620  ...   \n",
       "10325 -1.143540     0.200130    1.183366     0.632666     1.285620  ...   \n",
       "10679  1.064608     1.278317   -0.631781     0.632666    -0.644741  ...   \n",
       "10694 -0.207567     0.200130   -0.631781     0.632666    -0.644741  ...   \n",
       "10927  0.978124     2.356503   -0.631781     0.632666    -0.644741  ...   \n",
       "10794  1.064608    -0.878056   -0.631781    -1.106175    -0.644741  ...   \n",
       "7340   1.012193    -0.878056   -0.631781    -1.106175    -0.644741  ...   \n",
       "5923   1.040647     2.356503   -0.631781     0.632666    -0.644741  ...   \n",
       "\n",
       "          atsm4     atsm5     natom  arom bond  arom atom      apol     alogp  \\\n",
       "2017  -0.711839 -0.431902  0.332360   0.000000   0.000000  0.146060  0.503536   \n",
       "8874   0.301495  0.384615  0.438469   0.000000   0.000000  0.327989  0.359197   \n",
       "6390  -0.236082  0.048433  0.756794   0.000000   0.000000  0.647760  0.503467   \n",
       "2863  -1.310557 -1.056392 -0.516508   0.000000   0.000000 -0.758333 -0.130722   \n",
       "14029 -0.389531 -0.287748  0.438469   0.000000   0.000000  0.327989  0.685486   \n",
       "13748 -0.711839 -0.431902  0.120143   0.000000   0.000000  0.008208  0.803733   \n",
       "15535  0.162778  0.240461  0.756794   0.000000   0.000000  0.647760  0.978744   \n",
       "2377  -0.757737 -0.431902  0.226252   0.000000   0.000000  0.063158  0.416447   \n",
       "7277  -0.297735  0.047900  0.332360   0.000000   0.000000  0.146060  0.412908   \n",
       "13857 -0.343122 -0.047314  1.287337   0.000000   0.000000  1.204421  2.102921   \n",
       "15803 -0.757737 -0.479776  0.332360   0.000000   0.000000  0.245087  0.860775   \n",
       "1052  -0.620043 -0.768617 -0.834833   0.000000   0.000000 -0.951136 -0.383384   \n",
       "6567   1.038418  1.393145  1.817879   0.000000   0.000000  2.015038  1.572337   \n",
       "1919  -1.448762 -1.200546 -0.834833   0.000000   0.000000 -1.078114 -0.392683   \n",
       "9931   0.530970  0.433022  0.650686   0.000000   0.000000  0.465831  0.351286   \n",
       "2072  -0.757737 -0.479776  0.544577   0.000000   0.000000  0.382929  1.169299   \n",
       "15356 -0.895942 -0.623930  0.014035   0.000000   0.000000 -0.074694  0.544201   \n",
       "9966   0.163289  0.768670  0.438469   0.000000   0.000000  0.327989  0.097306   \n",
       "13451  0.577905  0.769203  1.287337   0.000000   0.000000  1.331399  1.102889   \n",
       "16589  0.409654 -0.239601 -0.834833   0.000000   0.000000 -0.833296 -0.577409   \n",
       "6106  -0.942351 -0.480309 -0.622616   0.000000   0.000000 -0.813284 -0.401427   \n",
       "5150   0.051979 -0.191425 -0.410399   0.000000   0.000000 -0.387818 -0.948665   \n",
       "6364   0.347392  0.432488  0.756794   0.000000   0.000000  0.873775  0.725804   \n",
       "12178 -0.389531  0.048433  0.332360   0.000000   0.000000  0.146060  0.495764   \n",
       "3536  -1.034147 -0.768084 -0.092074   0.000000   0.000000 -0.256623  0.176900   \n",
       "243    0.100945 -0.192001 -0.940942   0.000000   0.000000 -0.780082 -1.186616   \n",
       "13046 -0.113121 -0.287748 -0.092074   0.000000   0.000000 -0.030618  0.360169   \n",
       "11841  0.577393 -0.912238  0.014035   0.000000   0.000000 -0.074694 -0.235021   \n",
       "4240  -0.401458 -0.888279 -1.259267   0.000000   0.000000 -1.264261 -2.046751   \n",
       "12759  0.716110  0.672923  0.438469   0.000000   0.000000  0.553994  0.114793   \n",
       "4004  -0.343633  0.000026  0.650686   0.000000   0.000000  0.465831  0.824482   \n",
       "12879 -0.574145 -0.720210 -0.622616   0.000000   0.000000 -0.813284 -0.267913   \n",
       "10527 -0.251326 -0.431902  0.332360   0.000000   0.000000  0.146060 -0.255492   \n",
       "5216  -0.435429 -0.384029  0.120143   0.000000   0.000000  0.008208  0.103829   \n",
       "6824  -1.172352 -0.912238 -0.834833   0.000000   0.000000 -0.852109 -0.105046   \n",
       "3578  -0.711839 -0.623930  0.226252   0.000000   0.000000  0.063158  0.639686   \n",
       "8662  -0.481327 -0.576056 -0.728725   0.000000   0.000000 -0.670180 -0.640002   \n",
       "8582   0.577393  0.928710  0.862903   0.000000   0.000000  0.730662 -0.217325   \n",
       "12701  0.393290  0.624516  0.120143   0.000000   0.000000  0.234213  0.131725   \n",
       "8443  -0.603942 -0.911964 -1.471484   0.000000   0.000000 -1.472859 -1.202785   \n",
       "13214  0.348415  1.137992  0.332360   0.000000   0.000000  0.390878 -0.423425   \n",
       "7529  -0.434392 -0.014706 -0.410399   0.000000   0.000000 -0.458564 -0.536675   \n",
       "7051   0.103018 -0.094640 -0.834833   0.000000   0.000000 -0.607291 -1.026872   \n",
       "14091 -0.205428  0.096307  0.756794   0.000000   0.000000  0.647760  0.974372   \n",
       "5234   0.255597  0.433022  0.438469   0.000000   0.000000  0.653021  0.905881   \n",
       "10325  0.883255  0.591995 -0.622616   0.000000   0.000000 -0.559328 -1.610403   \n",
       "10679  0.808417  0.433022  0.756794   0.000000   0.000000  0.746787  0.506312   \n",
       "10694  1.084316  1.728793  0.332360   0.000000   0.000000  0.372065  0.324639   \n",
       "10927  0.762008 -1.104799 -0.198182   0.000000   0.000000 -0.212547 -0.356113   \n",
       "10794 -0.067223  0.192587  1.287337   0.000000   0.000000  1.105394  1.599470   \n",
       "7340   0.116355 -0.287748  0.650686   0.000000   0.000000  0.465831  0.943423   \n",
       "5923   1.360726  0.144180  0.544577   0.000000   0.000000  0.509918 -0.065631   \n",
       "\n",
       "         alogp2       amr      acid  \n",
       "2017   0.217244 -0.173768 -0.161598  \n",
       "8874   0.078774  0.011890 -0.161598  \n",
       "6390   0.217179  0.536561 -0.161598  \n",
       "2863  -0.321268 -1.085556 -0.161598  \n",
       "14029  0.405157  0.197436 -0.161598  \n",
       "13748  0.535270 -0.111217  5.273531  \n",
       "15535  0.739399  0.501340 -0.161598  \n",
       "2377   0.132573 -0.121705 -0.161598  \n",
       "7277   0.129202 -0.183956 -0.161598  \n",
       "13857  2.379371  1.032410 -0.161598  \n",
       "15803  0.600289  0.125889 -0.161598  \n",
       "1052  -0.485343 -1.210449  5.273531  \n",
       "6567   1.534442  2.295250 -0.161598  \n",
       "1919  -0.490828 -1.374639 -0.161598  \n",
       "9931   0.071456  0.248092 -0.161598  \n",
       "2072   0.977339  0.052829 -0.161598  \n",
       "15356  0.257949 -0.175155 -0.161598  \n",
       "9966  -0.148510 -0.022723 -0.161598  \n",
       "13451  0.892559  1.309454 -0.161598  \n",
       "16589 -0.591825 -0.864501 -0.161598  \n",
       "6106  -0.495956 -1.082141 -0.161598  \n",
       "5150  -0.748345 -0.288971 -0.161598  \n",
       "6364   0.448810  1.112489 -0.161598  \n",
       "12178  0.209548 -0.190754 -0.161598  \n",
       "3536  -0.082700 -0.557404 -0.161598  \n",
       "243   -0.816030 -0.359577  5.273531  \n",
       "13046  0.079673  0.036223 -0.161598  \n",
       "11841 -0.392477 -0.470147 -0.161598  \n",
       "4240  -0.848073 -1.195459 -0.161598  \n",
       "12759 -0.134299  0.774314 -0.161598  \n",
       "4004   0.558750  0.125542 -0.161598  \n",
       "12879 -0.413918 -1.081532 -0.161598  \n",
       "10527 -0.405886 -0.123518 -0.161598  \n",
       "5216  -0.143231 -0.295115 -0.161598  \n",
       "6824  -0.302981 -0.700794 -0.161598  \n",
       "3578   0.356453 -0.254666 -0.161598  \n",
       "8662  -0.622568 -0.411993 -0.161598  \n",
       "8582  -0.380748  0.416326 -0.161598  \n",
       "12701 -0.120402  0.488391 -0.161598  \n",
       "8443  -0.819705 -1.449603 -0.161598  \n",
       "13214 -0.508704  0.350896 -0.161598  \n",
       "7529  -0.570882 -0.553394 -0.161598  \n",
       "7051  -0.773407 -0.263133 -0.161598  \n",
       "14091  0.734131  0.503074 -0.161598  \n",
       "5234   0.652733  1.091925 -0.161598  \n",
       "10325 -0.873439 -0.312159 -0.161598  \n",
       "10679  0.219998  0.398915 -0.161598  \n",
       "10694  0.047012  0.413218 -0.161598  \n",
       "10927 -0.469018 -0.513874 -0.161598  \n",
       "10794  1.574583  0.731058 -0.161598  \n",
       "7340   0.697091  0.120693 -0.161598  \n",
       "5923  -0.274342  0.138687 -0.161598  \n",
       "\n",
       "[52 rows x 212 columns]"
      ]
     },
     "execution_count": 113,
     "metadata": {},
     "output_type": "execute_result"
    }
   ],
   "source": [
    "sensorama2_6=[]\n",
    "\n",
    "for i in range(30, len(sensorama_6)-30):\n",
    "    if sensorama_6.iloc[i,4] == sensorama_6.iloc[i+30,4] or sensorama_6.iloc[i,4] == sensorama_6.iloc[i-30,4]:\n",
    "        sensorama2_6.append(sensorama_6.iloc[i,:]) \n",
    "\n",
    "sensorama2_6= pd.DataFrame(sensorama2_6)\n",
    "sensorama2_6"
   ]
  },
  {
   "cell_type": "code",
   "execution_count": 114,
   "metadata": {},
   "outputs": [
    {
     "name": "stdout",
     "output_type": "stream",
     "text": [
      "3\n"
     ]
    }
   ],
   "source": [
    "count=0\n",
    "for i in range(1, len(sensorama2_6)):\n",
    "    if sensorama2_6.iloc[i,4]!= sensorama2_6.iloc[i-1,4]:\n",
    "        count = count +1\n",
    "print(count)"
   ]
  },
  {
   "cell_type": "code",
   "execution_count": 115,
   "metadata": {},
   "outputs": [],
   "source": [
    "X = sensorama2_6[[ 'xlogp','fsp3', 'small rings','arom rings','ring blocks','arom blocks','rings 3','rings 4', 'rings 5', 'rings 6',\n",
    "               'rings 7', 'rings 8', 'rings 9', 'tpsa efficiency', 'zagreb indices', 'weiner path', 'weiner polarity', 'wtpt.1',\n",
    "               'wtpt.2', 'wtpt.3', 'wtpt.4', 'wtpt.5', 'molecular weight', 'VAdjMat', 'topoPSA', 'lipinski failures', 'rotatable bonds',\n",
    "               'topo shape', 'petitjean number', 'mdec.11', 'mdec.12', 'mdec.13', 'mdec.14', 'mdec.22', 'mdec.23', 'mdec.24',\n",
    "               'mdec.33', 'mdec.34', 'mdec.44', 'mdeo.11', 'mdeo.12', 'mdeo.22', 'mden.11', 'mden.12', 'mden.13', 'mden.22',\n",
    "               'mden.23', 'mden.33', 'mlogp', 'atom p', 'atom lc', 'khs.sli', 'khs.ssbe', 'khs.ssssbe', 'khs.ssbh', 'khs.sssb',\n",
    "               'khs.ssssb', 'khs.sch3', 'khs.dch2', 'khs.ssch2', 'khs.tch', 'khs.dsch', 'khs.aach', 'khs.sssch', 'khs.ddc',\n",
    "               'khs.tsc', 'khs.dssc', 'khs.aasc', 'khs.aaac', 'khs.ssssc', 'khs.snh3', 'khs.snh2', 'khs.ssnh', 'khs.dnh', 'khs.ssnh.1',\n",
    "               'khs.aanh', 'khs.tn', 'khs.sssnh', 'khs.dsn', 'khs.aan', 'khs.sssn', 'khs.dsn.1', 'khs.aasn', 'khs.ssssn', 'khs.soh',\n",
    "               'khs.do', 'khs.sso', 'khs.aao', 'khs.sf', 'khs.ssih3', 'khs.sssih2', 'khs.ssssih', 'khs.sssssi', 'khs.sph2',\n",
    "               'khs.ssph', 'khs.sssp', 'khs.dsssp', 'khs.sssssp', 'khs.ssh', 'khs.ds', 'khs.sss', 'khs.aas', 'khs.dsss', 'khs.ddsss',\n",
    "               'khs.scl', 'khs.sGeH3', 'khs.ssGeH2', 'khs.sssGeH', 'khs.ssssGe', 'khs.sash2', 'khs.ssash', 'khs.sssas', 'khs.sssdas',\n",
    "               'khs.sssssas', 'khs.sseh', 'khs.dse', 'khs.ssse', 'khs.aase', 'khs.dssse', 'khs.ddssse', 'khs.sbr', 'khs.ssnh3', \n",
    "               'khs.sssnh2', 'khs.ssssnh', 'khs.sssssn', 'khs.si', 'khs.spbh3', 'khs.sspbh2', 'khs.ssspbh', 'khs.sssspb', 'kier 1',\n",
    "               'kier 2', 'hybRatio', 'hbdon', 'hbacc', 'fragc', 'fmf', 'eccen', 'SP.0', 'SP.1', 'SP.2', 'SP.3', 'SP.4', 'SP.5', 'SP.6',\n",
    "               'SP.7', 'VP.0', 'VP.1', 'VP.2', 'VP.3', 'VP.4', 'VP.5', 'VP.6', 'VP.7', 'SPC.4', 'SPC.5', 'SPC.6', 'VPC.4', 'VPC.5',\n",
    "               'VPC.6', 'SC.3', 'SC.4', 'SC.5', 'SC.6', 'VC.3', 'VC.4', 'VC.5', 'VC.6', 'SCH.3', 'SCH.4', 'SCH.5', 'SCH.6', 'SCH.7',\n",
    "               'VCH.3', 'VCH.4', 'VCH.3', 'VCH.4', 'VCH.5', 'VCH.6', 'VCH.7', 'C1SP1', 'C2SP1', 'C1SP2', 'C2SP2', 'C3SP2', 'C1SP3',\n",
    "               'C2SP3', 'C3SP3', 'C4SP3', 'bpol', 'bond count', 'basic group count', 'atsp1', 'atsp2' , 'atsp3', 'atsp4', 'atsp5',\n",
    "               'atsm1', 'atsm2','atsm3','atsm4','atsm5', 'natom','arom bond', 'arom atom', 'apol','alogp', 'alogp2', 'amr', 'acid']]\n",
    "y = sensorama2_6['odor name']"
   ]
  },
  {
   "cell_type": "markdown",
   "metadata": {},
   "source": [
    "#### RANDOM FOREST"
   ]
  },
  {
   "cell_type": "code",
   "execution_count": 116,
   "metadata": {},
   "outputs": [
    {
     "name": "stdout",
     "output_type": "stream",
     "text": [
      "Accuracy:  84.61538461538461 %\n"
     ]
    },
    {
     "data": {
      "image/png": "[encoded data removed]",
      "text/plain": [
       "<Figure size 432x288 with 2 Axes>"
      ]
     },
     "metadata": {
      "needs_background": "light"
     },
     "output_type": "display_data"
    }
   ],
   "source": [
    "X_train,X_test,y_train,y_test = train_test_split(X,y,test_size=0.25,random_state=0)\n",
    "sc_X = StandardScaler()\n",
    "X_train = sc_X.fit_transform(X_train)\n",
    "X_test = sc_X.transform(X_test)\n",
    "clf = RandomForestClassifier(n_estimators=100)\n",
    "clf.fit(X_train,y_train)\n",
    "y_pred=clf.predict(X_test)\n",
    "confusion_matrix = pd.crosstab(y_test, y_pred, rownames=['Actual'], colnames=['Predicted'])\n",
    "sns.heatmap(confusion_matrix, annot=True)\n",
    "print('Accuracy: ',metrics.accuracy_score(y_test, y_pred)*100,'%')\n",
    "plt.show()"
   ]
  },
  {
   "cell_type": "markdown",
   "metadata": {},
   "source": [
    "##### Feature Importances "
   ]
  },
  {
   "cell_type": "code",
   "execution_count": 117,
   "metadata": {},
   "outputs": [
    {
     "data": {
      "image/png": "[encoded data removed]",
      "text/plain": [
       "<Figure size 432x288 with 1 Axes>"
      ]
     },
     "metadata": {
      "needs_background": "light"
     },
     "output_type": "display_data"
    }
   ],
   "source": [
    "featureImportances = pd.Series(clf.feature_importances_).sort_values(ascending=False)\n",
    "sns.barplot(x=round(featureImportances,8), y=featureImportances)\n",
    "plt.xlabel('Features Importance')\n",
    "plt.show()"
   ]
  },
  {
   "cell_type": "code",
   "execution_count": 119,
   "metadata": {},
   "outputs": [],
   "source": [
    "X = sensorama2_6[[ 'xlogp','fsp3', 'small rings','arom rings','ring blocks','arom blocks','rings 3','rings 4', 'rings 5', 'rings 6',\n",
    "               'rings 7', 'tpsa efficiency', 'zagreb indices', 'weiner path', 'weiner polarity', 'wtpt.1',\n",
    "               'wtpt.2', 'wtpt.3', 'wtpt.4', 'wtpt.5', 'molecular weight', 'VAdjMat', 'topoPSA', 'lipinski failures', 'rotatable bonds',\n",
    "               'topo shape', 'petitjean number', 'mdec.11', 'mdec.12', 'mdec.13', 'mdec.14', 'mdec.22', 'mdec.23', 'mdec.24',\n",
    "               'mdec.33', 'mdec.34', 'mdec.44', 'mdeo.11', 'mdeo.12', 'mdeo.22', 'mden.22',\n",
    "               'mden.23', 'mlogp', 'atom p', 'atom lc',\n",
    "                  'khs.sch3', 'khs.dch2', 'khs.ssch2','khs.dsch', 'khs.aach', 'khs.sssch', 'khs.ddc',\n",
    "               'khs.tsc', 'khs.dssc', 'khs.aasc', 'khs.aaac', 'khs.ssssc', 'khs.snh2', 'khs.ssnh.1',\n",
    "               'khs.tn', 'khs.dsn', 'khs.aan', 'khs.sssn', 'khs.dsn.1', 'khs.aasn', 'khs.soh',\n",
    "               'khs.do', 'khs.sso', 'khs.aao','khs.ssh', 'khs.ds', 'khs.sss', 'khs.aas', 'khs.dsss','kier 1',\n",
    "               'kier 2', 'hybRatio', 'hbdon', 'hbacc', 'fragc', 'fmf', 'eccen', 'SP.0', 'SP.1', 'SP.2', 'SP.3', 'SP.4', 'SP.5', 'SP.6',\n",
    "               'SP.7', 'VP.0', 'VP.1', 'VP.2', 'VP.3', 'VP.4', 'VP.5', 'VP.6', 'VP.7', 'SPC.4', 'SPC.5', 'SPC.6', 'VPC.4', 'VPC.5',\n",
    "               'VPC.6', 'SC.3', 'SC.4', 'SC.5', 'SC.6', 'VC.3', 'VC.4', 'VC.5', 'VC.6', 'SCH.3', 'SCH.4', 'SCH.5', 'SCH.6', 'SCH.7',\n",
    "               'VCH.3', 'VCH.4', 'VCH.3', 'VCH.4', 'VCH.5', 'VCH.6', 'VCH.7', 'C1SP1', 'C2SP1', 'C1SP2', 'C2SP2', 'C3SP2', 'C1SP3',\n",
    "               'C2SP3', 'C3SP3', 'C4SP3', 'bpol', 'bond count', 'atsp1', 'atsp2' , 'atsp3', 'atsp4', 'atsp5',\n",
    "               'atsm1', 'atsm2','atsm3','atsm4','atsm5', 'natom', 'apol','alogp', 'alogp2', 'amr', 'acid']]\n",
    "y = sensorama2_6['odor name']"
   ]
  },
  {
   "cell_type": "code",
   "execution_count": 120,
   "metadata": {},
   "outputs": [
    {
     "name": "stdout",
     "output_type": "stream",
     "text": [
      "Accuracy:  92.3076923076923 %\n"
     ]
    },
    {
     "data": {
      "image/png": "[encoded data removed]",
      "text/plain": [
       "<Figure size 432x288 with 2 Axes>"
      ]
     },
     "metadata": {
      "needs_background": "light"
     },
     "output_type": "display_data"
    }
   ],
   "source": [
    "X_train,X_test,y_train,y_test = train_test_split(X,y,test_size=0.25,random_state=0)\n",
    "sc_X = StandardScaler()\n",
    "X_train = sc_X.fit_transform(X_train)\n",
    "X_test = sc_X.transform(X_test)\n",
    "clf = RandomForestClassifier(n_estimators=100)\n",
    "clf.fit(X_train,y_train)\n",
    "y_pred=clf.predict(X_test)\n",
    "confusion_matrix = pd.crosstab(y_test, y_pred, rownames=['Actual'], colnames=['Predicted'])\n",
    "sns.heatmap(confusion_matrix, annot=True)\n",
    "print('Accuracy: ',metrics.accuracy_score(y_test, y_pred)*100,'%')\n",
    "plt.show()"
   ]
  },
  {
   "cell_type": "markdown",
   "metadata": {},
   "source": [
    "#### SUPPORT VECTOR MACHINE "
   ]
  },
  {
   "cell_type": "markdown",
   "metadata": {},
   "source": [
    "##### rbf Kernel "
   ]
  },
  {
   "cell_type": "code",
   "execution_count": 121,
   "metadata": {},
   "outputs": [
    {
     "name": "stdout",
     "output_type": "stream",
     "text": [
      "Accuracy: 92.3076923076923 %\n"
     ]
    }
   ],
   "source": [
    "X_tr, X_tst, y_tr, y_tst = train_test_split(X, y, test_size=25/100,random_state=109)\n",
    "clf = svm.SVC(kernel='rbf') # creating Support Vector Machine model\n",
    "clf.fit(X_tr, y_tr) # training the Model\n",
    "y_pr = clf.predict(X_tst) # making Predictions\n",
    "\n",
    "# Evaluating Prediction Accuracy\n",
    "print(\"Accuracy:\",metrics.accuracy_score(y_tst, y_pr)*100,\"%\")"
   ]
  },
  {
   "cell_type": "markdown",
   "metadata": {},
   "source": [
    "##### Polynomial Kernel\n"
   ]
  },
  {
   "cell_type": "code",
   "execution_count": 122,
   "metadata": {},
   "outputs": [
    {
     "name": "stdout",
     "output_type": "stream",
     "text": [
      "Accuracy: 92.3076923076923 %\n"
     ]
    }
   ],
   "source": [
    "X_tr, X_tst, y_tr, y_tst = train_test_split(X, y, test_size=25/100,random_state=109)\n",
    "clf = svm.SVC(kernel='poly') # Creating Support Vector Machine Model\n",
    "clf.fit(X_tr,y_tr) # fit classifier to training set\n",
    "y_pr = clf.predict(X_tst) # Making Predictions\n",
    "\n",
    "# Evaluating Prediction Accuracy\n",
    "print(\"Accuracy:\",metrics.accuracy_score(y_tst, y_pr)*100,\"%\")"
   ]
  },
  {
   "cell_type": "markdown",
   "metadata": {},
   "source": [
    "##### Sigmoid Kernel "
   ]
  },
  {
   "cell_type": "code",
   "execution_count": 123,
   "metadata": {},
   "outputs": [
    {
     "name": "stdout",
     "output_type": "stream",
     "text": [
      "Accuracy: 84.61538461538461 %\n"
     ]
    }
   ],
   "source": [
    "X_tr, X_tst, y_tr, y_tst = train_test_split(X, y, test_size=25/100,random_state=109)\n",
    "clf=svm.SVC(kernel='sigmoid') # instantiate classifier with sigmoid kernel\n",
    "clf.fit(X_tr,y_tr) # fit classifier to training set\n",
    "y_pr = clf.predict(X_tst) # Making Predictions\n",
    "\n",
    "# Evaluating Prediction Accuracy\n",
    "print(\"Accuracy:\",metrics.accuracy_score(y_tst, y_pr)*100,\"%\")"
   ]
  },
  {
   "cell_type": "markdown",
   "metadata": {},
   "source": [
    "#### DECISION TREE"
   ]
  },
  {
   "cell_type": "code",
   "execution_count": 124,
   "metadata": {},
   "outputs": [
    {
     "name": "stdout",
     "output_type": "stream",
     "text": [
      "Accuracy: 56.25 %\n"
     ]
    }
   ],
   "source": [
    "# Split dataset into training set and test set\n",
    "X_train, X_test, y_train, y_test = train_test_split(X, y, test_size=0.3, random_state=1) # 70% training and 30% test\n",
    "clf = DecisionTreeClassifier() # Create Decision Tree classifer object\n",
    "clf = clf.fit(X_train,y_train) # Train Decision Tree Classifer\n",
    "y_pred = clf.predict(X_test) # Predict the response for test dataset\n",
    "\n",
    "# how often is the classifier correct?\n",
    "print(\"Accuracy:\",metrics.accuracy_score(y_test, y_pred)*100,\"%\")"
   ]
  },
  {
   "cell_type": "markdown",
   "metadata": {},
   "source": [
    "#### LOGISTIC REGRESSION "
   ]
  },
  {
   "cell_type": "code",
   "execution_count": 125,
   "metadata": {},
   "outputs": [
    {
     "name": "stdout",
     "output_type": "stream",
     "text": [
      "Accuracy:  84.61538461538461 %\n"
     ]
    }
   ],
   "source": [
    "X_train,X_test,y_train,y_test = train_test_split(X,y,test_size=0.25,random_state=0)\n",
    "clf= LogisticRegression( max_iter=100000000)\n",
    "clf.fit(X_train,y_train)\n",
    "y_pred=clf.predict(X_test)\n",
    "print('Accuracy: ',metrics.accuracy_score(y_test, y_pred)*100,'%')"
   ]
  },
  {
   "cell_type": "markdown",
   "metadata": {},
   "source": [
    "#### K-Nearest Neighbor "
   ]
  },
  {
   "cell_type": "code",
   "execution_count": 126,
   "metadata": {
    "scrolled": true
   },
   "outputs": [
    {
     "data": {
      "text/plain": [
       "Text(0, 0.5, 'Accuracy')"
      ]
     },
     "execution_count": 126,
     "metadata": {},
     "output_type": "execute_result"
    },
    {
     "data": {
      "image/png": "[encoded data removed]",
      "text/plain": [
       "<Figure size 864x432 with 1 Axes>"
      ]
     },
     "metadata": {
      "needs_background": "light"
     },
     "output_type": "display_data"
    }
   ],
   "source": [
    "# Split data into training and testing sets.\n",
    "X_train, X_test, y_train, y_test = train_test_split(X, y, random_state=42)\n",
    "accuracy=[]\n",
    "for i in range(1,21):\n",
    "    clf = KNeighborsClassifier(n_neighbors=i)\n",
    "    clf.fit(X_train, y_train)\n",
    "    ypred = clf.predict(X_test)\n",
    "    accuracy.append(metrics.accuracy_score(y_test, ypred))\n",
    "plt.figure(figsize=(12, 6))\n",
    "plt.plot(range(1, 21), accuracy, color='orange', linestyle='dashed', marker='o',\n",
    "         markerfacecolor='green', markersize=10)\n",
    "plt.title('Looking for the most accurate k value')\n",
    "plt.xlabel('K Value')\n",
    "plt.ylabel('Accuracy')"
   ]
  },
  {
   "cell_type": "code",
   "execution_count": 127,
   "metadata": {
    "scrolled": true
   },
   "outputs": [
    {
     "name": "stdout",
     "output_type": "stream",
     "text": [
      "Accuracy: 69.23076923076923 %\n"
     ]
    }
   ],
   "source": [
    "clf = KNeighborsClassifier(n_neighbors=3)\n",
    "clf.fit(X_train, y_train)\n",
    "ypred = clf.predict(X_test)\n",
    "\n",
    "# Best accuracy\n",
    "print(\"Accuracy:\",metrics.accuracy_score(y_test, ypred)*100,\"%\")"
   ]
  }
 ],
 "metadata": {
  "kernelspec": {
   "display_name": "Python 3",
   "language": "python",
   "name": "python3"
  },
  "language_info": {
   "codemirror_mode": {
    "name": "ipython",
    "version": 3
   },
   "file_extension": ".py",
   "mimetype": "text/x-python",
   "name": "python",
   "nbconvert_exporter": "python",
   "pygments_lexer": "ipython3",
   "version": "3.7.4"
  }
 },
 "nbformat": 4,
 "nbformat_minor": 2
}
