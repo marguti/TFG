{
 "cells": [
  {
   "cell_type": "code",
   "execution_count": 1,
   "metadata": {},
   "outputs": [],
   "source": [
    "# Importing libraries\n",
    "from sklearn.model_selection import GridSearchCV, train_test_split\n",
    "from sklearn.metrics import accuracy_score\n",
    "import pandas as pd\n",
    "import numpy as np\n",
    "import seaborn as sns\n",
    "from sklearn.tree import DecisionTreeClassifier \n",
    "import matplotlib.pyplot as plt\n",
    "from sklearn.model_selection import train_test_split\n",
    "from sklearn import metrics\n",
    "from sklearn import preprocessing\n",
    "from sklearn.ensemble import RandomForestClassifier\n",
    "from sklearn.naive_bayes import GaussianNB\n",
    "from sklearn import svm\n",
    "from sklearn.linear_model import LogisticRegression\n",
    "from sklearn.neighbors import KNeighborsClassifier\n",
    "from sklearn.decomposition import PCA\n",
    "from sklearn.pipeline import make_pipeline\n",
    "from sklearn.preprocessing import StandardScaler\n",
    "from sklearn.preprocessing import scale"
   ]
  },
  {
   "cell_type": "code",
   "execution_count": 2,
   "metadata": {},
   "outputs": [],
   "source": [
    "# Visualizing 6 decimals per value\n",
    "pd.set_option('display.float_format', lambda x: '%.6f' % x)\n",
    "\n",
    "# Reading data from csv\n",
    "def load_dataset(path):\n",
    "    dataset = pd.read_csv(path, header=0, delimiter=',')\n",
    "    return dataset\n",
    "\n",
    "sensorama = load_dataset('sensorama_df.csv')"
   ]
  },
  {
   "cell_type": "code",
   "execution_count": 3,
   "metadata": {},
   "outputs": [],
   "source": [
    "# Since odor name and canonical_smiles variables are strings, we change them to a numerical value\n",
    "label_encoder = preprocessing.LabelEncoder()\n",
    "label_encoder.fit(sensorama['canonical_smiles'])\n",
    "sensorama['canonical_smiles']= label_encoder.transform(sensorama['canonical_smiles'])\n",
    "label_encoder = preprocessing.LabelEncoder()\n",
    "label_encoder.fit(sensorama['odor name'])\n",
    "sensorama['odor name']= label_encoder.transform(sensorama['odor name'])"
   ]
  },
  {
   "cell_type": "code",
   "execution_count": 4,
   "metadata": {},
   "outputs": [],
   "source": [
    "# Normalizing function\n",
    "def standarize(x_train):\n",
    "    mean = x_train.mean()\n",
    "    std = x_train.std()\n",
    "    x_train -= mean\n",
    "    x_train /= std\n",
    "\n",
    "# Normalizing data\n",
    "s= sensorama.columns\n",
    "s=s.drop(['odor level', 'cid','canonical_smiles', 'odor name'])\n",
    "for c in s:\n",
    "    standarize(sensorama[c])\n",
    "# After normalizing the data, we have NaNs values, so we change them to 0\n",
    "sensorama=sensorama.fillna(0)"
   ]
  },
  {
   "cell_type": "code",
   "execution_count": 5,
   "metadata": {},
   "outputs": [],
   "source": [
    "# Creating a new dataframe with only those molecules of odor level = 4\n",
    "sensorama_5 = []\n",
    "for i in range (0,17994):\n",
    "    if sensorama.loc[i,'odor level'] == 5:\n",
    "        sensorama_5.append(sensorama.loc[i,:])\n",
    "sensorama_5 = pd.DataFrame(sensorama_5)"
   ]
  },
  {
   "cell_type": "code",
   "execution_count": 6,
   "metadata": {},
   "outputs": [],
   "source": [
    "X = sensorama_5[[ 'xlogp','fsp3', 'small rings','arom rings','ring blocks','arom blocks','rings 3','rings 4', 'rings 5', 'rings 6',\n",
    "               'rings 7', 'rings 8', 'rings 9', 'tpsa efficiency', 'zagreb indices', 'weiner path', 'weiner polarity', 'wtpt.1',\n",
    "               'wtpt.2', 'wtpt.3', 'wtpt.4', 'wtpt.5', 'molecular weight', 'VAdjMat', 'topoPSA', 'lipinski failures', 'rotatable bonds',\n",
    "               'topo shape', 'petitjean number', 'mdec.11', 'mdec.12', 'mdec.13', 'mdec.14', 'mdec.22', 'mdec.23', 'mdec.24',\n",
    "               'mdec.33', 'mdec.34', 'mdec.44', 'mdeo.11', 'mdeo.12', 'mdeo.22', 'mden.11', 'mden.12', 'mden.13', 'mden.22',\n",
    "               'mden.23', 'mden.33', 'mlogp', 'atom p', 'atom lc', 'khs.sli', 'khs.ssbe', 'khs.ssssbe', 'khs.ssbh', 'khs.sssb',\n",
    "               'khs.ssssb', 'khs.sch3', 'khs.dch2', 'khs.ssch2', 'khs.tch', 'khs.dsch', 'khs.aach', 'khs.sssch', 'khs.ddc',\n",
    "               'khs.tsc', 'khs.dssc', 'khs.aasc', 'khs.aaac', 'khs.ssssc', 'khs.snh3', 'khs.snh2', 'khs.ssnh', 'khs.dnh', 'khs.ssnh.1',\n",
    "               'khs.aanh', 'khs.tn', 'khs.sssnh', 'khs.dsn', 'khs.aan', 'khs.sssn', 'khs.dsn.1', 'khs.aasn', 'khs.ssssn', 'khs.soh',\n",
    "               'khs.do', 'khs.sso', 'khs.aao', 'khs.sf', 'khs.ssih3', 'khs.sssih2', 'khs.ssssih', 'khs.sssssi', 'khs.sph2',\n",
    "               'khs.ssph', 'khs.sssp', 'khs.dsssp', 'khs.sssssp', 'khs.ssh', 'khs.ds', 'khs.sss', 'khs.aas', 'khs.dsss', 'khs.ddsss',\n",
    "               'khs.scl', 'khs.sGeH3', 'khs.ssGeH2', 'khs.sssGeH', 'khs.ssssGe', 'khs.sash2', 'khs.ssash', 'khs.sssas', 'khs.sssdas',\n",
    "               'khs.sssssas', 'khs.sseh', 'khs.dse', 'khs.ssse', 'khs.aase', 'khs.dssse', 'khs.ddssse', 'khs.sbr', 'khs.ssnh3', \n",
    "               'khs.sssnh2', 'khs.ssssnh', 'khs.sssssn', 'khs.si', 'khs.spbh3', 'khs.sspbh2', 'khs.ssspbh', 'khs.sssspb', 'kier 1',\n",
    "               'kier 2', 'hybRatio', 'hbdon', 'hbacc', 'fragc', 'fmf', 'eccen', 'SP.0', 'SP.1', 'SP.2', 'SP.3', 'SP.4', 'SP.5', 'SP.6',\n",
    "               'SP.7', 'VP.0', 'VP.1', 'VP.2', 'VP.3', 'VP.4', 'VP.5', 'VP.6', 'VP.7', 'SPC.4', 'SPC.5', 'SPC.6', 'VPC.4', 'VPC.5',\n",
    "               'VPC.6', 'SC.3', 'SC.4', 'SC.5', 'SC.6', 'VC.3', 'VC.4', 'VC.5', 'VC.6', 'SCH.3', 'SCH.4', 'SCH.5', 'SCH.6', 'SCH.7',\n",
    "               'VCH.3', 'VCH.4', 'VCH.3', 'VCH.4', 'VCH.5', 'VCH.6', 'VCH.7', 'C1SP1', 'C2SP1', 'C1SP2', 'C2SP2', 'C3SP2', 'C1SP3',\n",
    "               'C2SP3', 'C3SP3', 'C4SP3', 'bpol', 'bond count', 'basic group count', 'atsp1', 'atsp2' , 'atsp3', 'atsp4', 'atsp5',\n",
    "               'atsm1', 'atsm2','atsm3','atsm4','atsm5', 'natom','arom bond', 'arom atom', 'apol','alogp', 'alogp2', 'amr', 'acid']]\n",
    "y = sensorama_5['odor name']"
   ]
  },
  {
   "cell_type": "markdown",
   "metadata": {},
   "source": [
    "### ALL ODOR NAMES "
   ]
  },
  {
   "cell_type": "markdown",
   "metadata": {},
   "source": [
    "#### RANDOM FOREST"
   ]
  },
  {
   "cell_type": "code",
   "execution_count": 7,
   "metadata": {},
   "outputs": [
    {
     "name": "stdout",
     "output_type": "stream",
     "text": [
      "Accuracy:  5.172413793103448 %\n"
     ]
    },
    {
     "data": {
      "image/png": "[encoded data removed]",
      "text/plain": [
       "<Figure size 432x288 with 2 Axes>"
      ]
     },
     "metadata": {
      "needs_background": "light"
     },
     "output_type": "display_data"
    }
   ],
   "source": [
    "X_train,X_test,y_train,y_test = train_test_split(X,y,test_size=0.25,random_state=0)\n",
    "sc_X = StandardScaler()\n",
    "X_train = sc_X.fit_transform(X_train)\n",
    "X_test = sc_X.transform(X_test)\n",
    "clf = RandomForestClassifier(n_estimators=100)\n",
    "clf.fit(X_train,y_train)\n",
    "y_pred=clf.predict(X_test)\n",
    "confusion_matrix = pd.crosstab(y_test, y_pred, rownames=['Actual'], colnames=['Predicted'])\n",
    "sns.heatmap(confusion_matrix, annot=True)\n",
    "print('Accuracy: ',metrics.accuracy_score(y_test, y_pred)*100,'%')\n",
    "plt.show()"
   ]
  },
  {
   "cell_type": "markdown",
   "metadata": {},
   "source": [
    "##### Feature Importances "
   ]
  },
  {
   "cell_type": "code",
   "execution_count": 8,
   "metadata": {},
   "outputs": [
    {
     "data": {
      "image/png": "[encoded data removed]",
      "text/plain": [
       "<Figure size 432x288 with 1 Axes>"
      ]
     },
     "metadata": {
      "needs_background": "light"
     },
     "output_type": "display_data"
    }
   ],
   "source": [
    "featureImportances = pd.Series(clf.feature_importances_).sort_values(ascending=False)\n",
    "sns.barplot(x=round(featureImportances,8), y=featureImportances)\n",
    "plt.xlabel('Features Importance')\n",
    "plt.show()"
   ]
  },
  {
   "cell_type": "code",
   "execution_count": 9,
   "metadata": {},
   "outputs": [],
   "source": [
    "X = sensorama_5[[ 'xlogp','fsp3', 'small rings','arom rings','ring blocks','arom blocks','rings 3','rings 4', 'rings 5', 'rings 6',\n",
    "               'rings 7','tpsa efficiency', 'zagreb indices', 'weiner path', 'weiner polarity', 'wtpt.1',\n",
    "               'wtpt.2', 'wtpt.3', 'wtpt.4', 'wtpt.5', 'molecular weight', 'VAdjMat', 'topoPSA', 'lipinski failures', 'rotatable bonds',\n",
    "               'topo shape', 'petitjean number', 'mdec.11', 'mdec.12', 'mdec.13', 'mdec.14', 'mdec.22', 'mdec.23', 'mdec.24',\n",
    "               'mdec.33', 'mdec.34', 'mdec.44', 'mdeo.11', 'mdeo.12', 'mdeo.22', 'mden.11', 'mden.12','mden.22',\n",
    "               'mden.23', 'mden.33', 'mlogp', 'atom p', 'atom lc', \n",
    "                 'khs.sch3', 'khs.dch2', 'khs.ssch2', 'khs.tch', 'khs.dsch', 'khs.aach', 'khs.sssch', 'khs.ddc',\n",
    "               'khs.tsc', 'khs.dssc', 'khs.aasc', 'khs.aaac', 'khs.ssssc', 'khs.snh2', 'khs.ssnh.1',\n",
    "               'khs.aanh', 'khs.tn','khs.dsn', 'khs.aan', 'khs.sssn', 'khs.dsn.1', 'khs.aasn','khs.soh',\n",
    "               'khs.do', 'khs.sso', 'khs.aao', 'khs.sf', 'khs.ssih3', \n",
    "                 'khs.ssh', 'khs.ds', 'khs.sss', 'khs.aas', 'khs.dsss', 'khs.ddsss',\n",
    "               'khs.scl',\n",
    "               'kier 1',\n",
    "               'kier 2', 'hybRatio', 'hbdon', 'hbacc', 'fragc', 'fmf', 'eccen', 'SP.0', 'SP.1', 'SP.2', 'SP.3', 'SP.4', 'SP.5', 'SP.6',\n",
    "               'SP.7', 'VP.0', 'VP.1', 'VP.2', 'VP.3', 'VP.4', 'VP.5', 'VP.6', 'VP.7', 'SPC.4', 'SPC.5', 'SPC.6', 'VPC.4', 'VPC.5',\n",
    "               'VPC.6', 'SC.3', 'SC.4', 'SC.5', 'SC.6', 'VC.3', 'VC.4', 'VC.5', 'VC.6', 'SCH.3', 'SCH.4', 'SCH.5', 'SCH.6', 'SCH.7',\n",
    "               'VCH.3', 'VCH.4', 'VCH.3', 'VCH.4', 'VCH.5', 'VCH.6', 'VCH.7', 'C1SP1', 'C2SP1', 'C1SP2', 'C2SP2', 'C3SP2', 'C1SP3',\n",
    "               'C2SP3', 'C3SP3', 'C4SP3', 'bpol', 'bond count', 'basic group count', 'atsp1', 'atsp2' , 'atsp3', 'atsp4', 'atsp5',\n",
    "               'atsm1', 'atsm2','atsm3','atsm4','atsm5', 'natom', 'apol','alogp', 'alogp2', 'amr', 'acid']]\n",
    "y = sensorama_5['odor name']"
   ]
  },
  {
   "cell_type": "code",
   "execution_count": 10,
   "metadata": {},
   "outputs": [
    {
     "name": "stdout",
     "output_type": "stream",
     "text": [
      "Accuracy:  5.603448275862069 %\n"
     ]
    },
    {
     "data": {
      "image/png": "[encoded data removed]",
      "text/plain": [
       "<Figure size 432x288 with 2 Axes>"
      ]
     },
     "metadata": {
      "needs_background": "light"
     },
     "output_type": "display_data"
    }
   ],
   "source": [
    "X_train,X_test,y_train,y_test = train_test_split(X,y,test_size=0.25,random_state=0)\n",
    "sc_X = StandardScaler()\n",
    "X_train = sc_X.fit_transform(X_train)\n",
    "X_test = sc_X.transform(X_test)\n",
    "clf = RandomForestClassifier(n_estimators=100)\n",
    "clf.fit(X_train,y_train)\n",
    "y_pred=clf.predict(X_test)\n",
    "confusion_matrix = pd.crosstab(y_test, y_pred, rownames=['Actual'], colnames=['Predicted'])\n",
    "sns.heatmap(confusion_matrix, annot=True)\n",
    "print('Accuracy: ',metrics.accuracy_score(y_test, y_pred)*100,'%')\n",
    "plt.show()"
   ]
  },
  {
   "cell_type": "markdown",
   "metadata": {},
   "source": [
    "#### SUPPORT VECTOR MACHINE "
   ]
  },
  {
   "cell_type": "markdown",
   "metadata": {},
   "source": [
    "##### rbf Kernel "
   ]
  },
  {
   "cell_type": "code",
   "execution_count": 11,
   "metadata": {},
   "outputs": [
    {
     "name": "stdout",
     "output_type": "stream",
     "text": [
      "Accuracy: 6.68103448275862 %\n"
     ]
    }
   ],
   "source": [
    "X_tr, X_tst, y_tr, y_tst = train_test_split(X, y, test_size=25/100,random_state=109)\n",
    "clf = svm.SVC(kernel='rbf') # creating Support Vector Machine model\n",
    "clf.fit(X_tr, y_tr) # training the Model\n",
    "y_pr = clf.predict(X_tst) # making Predictions\n",
    "\n",
    "# Evaluating Prediction Accuracy\n",
    "print(\"Accuracy:\",metrics.accuracy_score(y_tst, y_pr)*100,\"%\")"
   ]
  },
  {
   "cell_type": "markdown",
   "metadata": {},
   "source": [
    "##### Polynomial Kernel\n"
   ]
  },
  {
   "cell_type": "code",
   "execution_count": 12,
   "metadata": {},
   "outputs": [
    {
     "name": "stdout",
     "output_type": "stream",
     "text": [
      "Accuracy: 4.956896551724138 %\n"
     ]
    }
   ],
   "source": [
    "X_tr, X_tst, y_tr, y_tst = train_test_split(X, y, test_size=25/100,random_state=109)\n",
    "clf = svm.SVC(kernel='poly') # Creating Support Vector Machine Model\n",
    "clf.fit(X_tr,y_tr) # fit classifier to training set\n",
    "y_pr = clf.predict(X_tst) # Making Predictions\n",
    "\n",
    "# Evaluating Prediction Accuracy\n",
    "print(\"Accuracy:\",metrics.accuracy_score(y_tst, y_pr)*100,\"%\")"
   ]
  },
  {
   "cell_type": "markdown",
   "metadata": {},
   "source": [
    "##### Sigmoid Kernel "
   ]
  },
  {
   "cell_type": "code",
   "execution_count": 13,
   "metadata": {},
   "outputs": [
    {
     "name": "stdout",
     "output_type": "stream",
     "text": [
      "Accuracy: 4.956896551724138 %\n"
     ]
    }
   ],
   "source": [
    "X_tr, X_tst, y_tr, y_tst = train_test_split(X, y, test_size=25/100,random_state=109)\n",
    "clf=svm.SVC(kernel='sigmoid') # instantiate classifier with sigmoid kernel\n",
    "clf.fit(X_tr,y_tr) # fit classifier to training set\n",
    "y_pr = clf.predict(X_tst) # Making Predictions\n",
    "\n",
    "# Evaluating Prediction Accuracy\n",
    "print(\"Accuracy:\",metrics.accuracy_score(y_tst, y_pr)*100,\"%\")"
   ]
  },
  {
   "cell_type": "markdown",
   "metadata": {},
   "source": [
    "#### DECISION TREE"
   ]
  },
  {
   "cell_type": "code",
   "execution_count": 14,
   "metadata": {},
   "outputs": [
    {
     "name": "stdout",
     "output_type": "stream",
     "text": [
      "Accuracy: 3.231597845601436 %\n"
     ]
    }
   ],
   "source": [
    "# Split dataset into training set and test set\n",
    "X_train, X_test, y_train, y_test = train_test_split(X, y, test_size=0.3, random_state=1) # 70% training and 30% test\n",
    "clf = DecisionTreeClassifier() # Create Decision Tree classifer object\n",
    "clf = clf.fit(X_train,y_train) # Train Decision Tree Classifer\n",
    "y_pred = clf.predict(X_test) # Predict the response for test dataset\n",
    "\n",
    "# how often is the classifier correct?\n",
    "print(\"Accuracy:\",metrics.accuracy_score(y_test, y_pred)*100,\"%\")"
   ]
  },
  {
   "cell_type": "markdown",
   "metadata": {},
   "source": [
    "#### LOGISTIC REGRESSION "
   ]
  },
  {
   "cell_type": "code",
   "execution_count": 15,
   "metadata": {},
   "outputs": [
    {
     "name": "stdout",
     "output_type": "stream",
     "text": [
      "Accuracy:  4.525862068965517 %\n"
     ]
    }
   ],
   "source": [
    "X_train,X_test,y_train,y_test = train_test_split(X,y,test_size=0.25,random_state=0)\n",
    "clf= LogisticRegression( max_iter=100000000)\n",
    "clf.fit(X_train,y_train)\n",
    "y_pred=clf.predict(X_test)\n",
    "print('Accuracy: ',metrics.accuracy_score(y_test, y_pred)*100,'%')"
   ]
  },
  {
   "cell_type": "markdown",
   "metadata": {},
   "source": [
    "#### K-Nearest Neighbor "
   ]
  },
  {
   "cell_type": "code",
   "execution_count": 16,
   "metadata": {},
   "outputs": [
    {
     "data": {
      "text/plain": [
       "Text(0, 0.5, 'Accuracy')"
      ]
     },
     "execution_count": 16,
     "metadata": {},
     "output_type": "execute_result"
    },
    {
     "data": {
      "image/png": "[encoded data removed]",
      "text/plain": [
       "<Figure size 864x432 with 1 Axes>"
      ]
     },
     "metadata": {
      "needs_background": "light"
     },
     "output_type": "display_data"
    }
   ],
   "source": [
    "# Split data into training and testing sets.\n",
    "X_train, X_test, y_train, y_test = train_test_split(X, y, random_state=42)\n",
    "accuracy=[]\n",
    "for i in range(1,21):\n",
    "    clf = KNeighborsClassifier(n_neighbors=i)\n",
    "    clf.fit(X_train, y_train)\n",
    "    ypred = clf.predict(X_test)\n",
    "    accuracy.append(metrics.accuracy_score(y_test, ypred))\n",
    "plt.figure(figsize=(12, 6))\n",
    "plt.plot(range(1, 21), accuracy, color='orange', linestyle='dashed', marker='o',\n",
    "         markerfacecolor='green', markersize=10)\n",
    "plt.title('Looking for the most accurate k value')\n",
    "plt.xlabel('K Value')\n",
    "plt.ylabel('Accuracy')"
   ]
  },
  {
   "cell_type": "code",
   "execution_count": 17,
   "metadata": {
    "scrolled": true
   },
   "outputs": [
    {
     "name": "stdout",
     "output_type": "stream",
     "text": [
      "Accuracy: 5.387931034482758 %\n"
     ]
    }
   ],
   "source": [
    "clf = KNeighborsClassifier(n_neighbors=19)\n",
    "clf.fit(X_train, y_train)\n",
    "ypred = clf.predict(X_test)\n",
    "\n",
    "# Best accuracy\n",
    "print(\"Accuracy:\",metrics.accuracy_score(y_test, ypred)*100,\"%\")"
   ]
  },
  {
   "cell_type": "markdown",
   "metadata": {},
   "source": [
    "### 25 MOST COMMON ODOR NAMES "
   ]
  },
  {
   "cell_type": "code",
   "execution_count": 18,
   "metadata": {},
   "outputs": [],
   "source": [
    "sensorama_5 = sensorama_5.sort_values('odor name')"
   ]
  },
  {
   "cell_type": "code",
   "execution_count": 23,
   "metadata": {},
   "outputs": [
    {
     "data": {
      "text/html": [
       "<div>\n",
       "<style scoped>\n",
       "    .dataframe tbody tr th:only-of-type {\n",
       "        vertical-align: middle;\n",
       "    }\n",
       "\n",
       "    .dataframe tbody tr th {\n",
       "        vertical-align: top;\n",
       "    }\n",
       "\n",
       "    .dataframe thead th {\n",
       "        text-align: right;\n",
       "    }\n",
       "</style>\n",
       "<table border=\"1\" class=\"dataframe\">\n",
       "  <thead>\n",
       "    <tr style=\"text-align: right;\">\n",
       "      <th></th>\n",
       "      <th>cid</th>\n",
       "      <th>canonical_smiles</th>\n",
       "      <th>xlogp</th>\n",
       "      <th>odor level</th>\n",
       "      <th>odor name</th>\n",
       "      <th>fsp3</th>\n",
       "      <th>small rings</th>\n",
       "      <th>arom rings</th>\n",
       "      <th>ring blocks</th>\n",
       "      <th>arom blocks</th>\n",
       "      <th>...</th>\n",
       "      <th>atsm4</th>\n",
       "      <th>atsm5</th>\n",
       "      <th>natom</th>\n",
       "      <th>arom bond</th>\n",
       "      <th>arom atom</th>\n",
       "      <th>apol</th>\n",
       "      <th>alogp</th>\n",
       "      <th>alogp2</th>\n",
       "      <th>amr</th>\n",
       "      <th>acid</th>\n",
       "    </tr>\n",
       "  </thead>\n",
       "  <tbody>\n",
       "    <tr>\n",
       "      <td>15045</td>\n",
       "      <td>5367848.000000</td>\n",
       "      <td>2579.000000</td>\n",
       "      <td>0.694326</td>\n",
       "      <td>5.000000</td>\n",
       "      <td>25.000000</td>\n",
       "      <td>0.488423</td>\n",
       "      <td>0.200130</td>\n",
       "      <td>-0.631781</td>\n",
       "      <td>0.632666</td>\n",
       "      <td>-0.644741</td>\n",
       "      <td>...</td>\n",
       "      <td>-0.113121</td>\n",
       "      <td>-0.191468</td>\n",
       "      <td>0.756794</td>\n",
       "      <td>0.000000</td>\n",
       "      <td>0.000000</td>\n",
       "      <td>0.746787</td>\n",
       "      <td>1.027389</td>\n",
       "      <td>0.798586</td>\n",
       "      <td>0.601873</td>\n",
       "      <td>-0.161598</td>\n",
       "    </tr>\n",
       "    <tr>\n",
       "      <td>10693</td>\n",
       "      <td>118201.000000</td>\n",
       "      <td>3102.000000</td>\n",
       "      <td>0.068650</td>\n",
       "      <td>5.000000</td>\n",
       "      <td>25.000000</td>\n",
       "      <td>-0.207567</td>\n",
       "      <td>0.200130</td>\n",
       "      <td>-0.631781</td>\n",
       "      <td>0.632666</td>\n",
       "      <td>-0.644741</td>\n",
       "      <td>...</td>\n",
       "      <td>1.084316</td>\n",
       "      <td>1.728793</td>\n",
       "      <td>0.332360</td>\n",
       "      <td>0.000000</td>\n",
       "      <td>0.000000</td>\n",
       "      <td>0.372065</td>\n",
       "      <td>0.324639</td>\n",
       "      <td>0.047012</td>\n",
       "      <td>0.413218</td>\n",
       "      <td>-0.161598</td>\n",
       "    </tr>\n",
       "    <tr>\n",
       "      <td>5958</td>\n",
       "      <td>61091.000000</td>\n",
       "      <td>767.000000</td>\n",
       "      <td>0.763846</td>\n",
       "      <td>5.000000</td>\n",
       "      <td>25.000000</td>\n",
       "      <td>-1.054436</td>\n",
       "      <td>0.200130</td>\n",
       "      <td>1.183366</td>\n",
       "      <td>0.632666</td>\n",
       "      <td>1.285620</td>\n",
       "      <td>...</td>\n",
       "      <td>0.347392</td>\n",
       "      <td>0.624516</td>\n",
       "      <td>0.544577</td>\n",
       "      <td>0.000000</td>\n",
       "      <td>0.000000</td>\n",
       "      <td>0.735923</td>\n",
       "      <td>0.369121</td>\n",
       "      <td>0.087998</td>\n",
       "      <td>1.172070</td>\n",
       "      <td>-0.161598</td>\n",
       "    </tr>\n",
       "    <tr>\n",
       "      <td>3336</td>\n",
       "      <td>12348.000000</td>\n",
       "      <td>2961.000000</td>\n",
       "      <td>-0.626545</td>\n",
       "      <td>5.000000</td>\n",
       "      <td>25.000000</td>\n",
       "      <td>0.817511</td>\n",
       "      <td>-0.878056</td>\n",
       "      <td>-0.631781</td>\n",
       "      <td>-1.106175</td>\n",
       "      <td>-0.644741</td>\n",
       "      <td>...</td>\n",
       "      <td>-1.126454</td>\n",
       "      <td>-0.864364</td>\n",
       "      <td>-0.622616</td>\n",
       "      <td>0.000000</td>\n",
       "      <td>0.000000</td>\n",
       "      <td>-0.813284</td>\n",
       "      <td>-0.446186</td>\n",
       "      <td>-0.521668</td>\n",
       "      <td>-1.076900</td>\n",
       "      <td>-0.161598</td>\n",
       "    </tr>\n",
       "    <tr>\n",
       "      <td>4100</td>\n",
       "      <td>17008.000000</td>\n",
       "      <td>807.000000</td>\n",
       "      <td>-0.487506</td>\n",
       "      <td>5.000000</td>\n",
       "      <td>25.000000</td>\n",
       "      <td>0.817511</td>\n",
       "      <td>-0.878056</td>\n",
       "      <td>-0.631781</td>\n",
       "      <td>-1.106175</td>\n",
       "      <td>-0.644741</td>\n",
       "      <td>...</td>\n",
       "      <td>-0.942351</td>\n",
       "      <td>-0.864364</td>\n",
       "      <td>-0.622616</td>\n",
       "      <td>0.000000</td>\n",
       "      <td>0.000000</td>\n",
       "      <td>-0.813284</td>\n",
       "      <td>-0.414126</td>\n",
       "      <td>-0.503349</td>\n",
       "      <td>-1.083227</td>\n",
       "      <td>-0.161598</td>\n",
       "    </tr>\n",
       "    <tr>\n",
       "      <td>...</td>\n",
       "      <td>...</td>\n",
       "      <td>...</td>\n",
       "      <td>...</td>\n",
       "      <td>...</td>\n",
       "      <td>...</td>\n",
       "      <td>...</td>\n",
       "      <td>...</td>\n",
       "      <td>...</td>\n",
       "      <td>...</td>\n",
       "      <td>...</td>\n",
       "      <td>...</td>\n",
       "      <td>...</td>\n",
       "      <td>...</td>\n",
       "      <td>...</td>\n",
       "      <td>...</td>\n",
       "      <td>...</td>\n",
       "      <td>...</td>\n",
       "      <td>...</td>\n",
       "      <td>...</td>\n",
       "      <td>...</td>\n",
       "      <td>...</td>\n",
       "    </tr>\n",
       "    <tr>\n",
       "      <td>13040</td>\n",
       "      <td>1268142.000000</td>\n",
       "      <td>1535.000000</td>\n",
       "      <td>0.763846</td>\n",
       "      <td>5.000000</td>\n",
       "      <td>494.000000</td>\n",
       "      <td>0.104674</td>\n",
       "      <td>1.278317</td>\n",
       "      <td>-0.631781</td>\n",
       "      <td>0.632666</td>\n",
       "      <td>-0.644741</td>\n",
       "      <td>...</td>\n",
       "      <td>1.914058</td>\n",
       "      <td>1.489973</td>\n",
       "      <td>0.969011</td>\n",
       "      <td>0.000000</td>\n",
       "      <td>0.000000</td>\n",
       "      <td>1.110645</td>\n",
       "      <td>0.806995</td>\n",
       "      <td>0.538945</td>\n",
       "      <td>1.033784</td>\n",
       "      <td>-0.161598</td>\n",
       "    </tr>\n",
       "    <tr>\n",
       "      <td>2432</td>\n",
       "      <td>8888.000000</td>\n",
       "      <td>388.000000</td>\n",
       "      <td>1.250483</td>\n",
       "      <td>5.000000</td>\n",
       "      <td>494.000000</td>\n",
       "      <td>-0.145044</td>\n",
       "      <td>-0.878056</td>\n",
       "      <td>-0.631781</td>\n",
       "      <td>-1.106175</td>\n",
       "      <td>-0.644741</td>\n",
       "      <td>...</td>\n",
       "      <td>0.255597</td>\n",
       "      <td>0.240994</td>\n",
       "      <td>1.393445</td>\n",
       "      <td>0.000000</td>\n",
       "      <td>0.000000</td>\n",
       "      <td>1.386350</td>\n",
       "      <td>1.466304</td>\n",
       "      <td>1.380784</td>\n",
       "      <td>1.417374</td>\n",
       "      <td>-0.161598</td>\n",
       "    </tr>\n",
       "    <tr>\n",
       "      <td>7424</td>\n",
       "      <td>62842.000000</td>\n",
       "      <td>409.000000</td>\n",
       "      <td>-0.417987</td>\n",
       "      <td>5.000000</td>\n",
       "      <td>494.000000</td>\n",
       "      <td>-0.145044</td>\n",
       "      <td>-0.878056</td>\n",
       "      <td>-0.631781</td>\n",
       "      <td>-1.106175</td>\n",
       "      <td>-0.644741</td>\n",
       "      <td>...</td>\n",
       "      <td>-0.573634</td>\n",
       "      <td>-0.623930</td>\n",
       "      <td>-0.198182</td>\n",
       "      <td>0.000000</td>\n",
       "      <td>0.000000</td>\n",
       "      <td>-0.212547</td>\n",
       "      <td>0.598050</td>\n",
       "      <td>0.312995</td>\n",
       "      <td>-0.243575</td>\n",
       "      <td>-0.161598</td>\n",
       "    </tr>\n",
       "    <tr>\n",
       "      <td>13174</td>\n",
       "      <td>2723653.000000</td>\n",
       "      <td>306.000000</td>\n",
       "      <td>-0.348467</td>\n",
       "      <td>5.000000</td>\n",
       "      <td>494.000000</td>\n",
       "      <td>-1.642601</td>\n",
       "      <td>0.200130</td>\n",
       "      <td>1.183366</td>\n",
       "      <td>0.632666</td>\n",
       "      <td>1.285620</td>\n",
       "      <td>...</td>\n",
       "      <td>0.454418</td>\n",
       "      <td>0.096307</td>\n",
       "      <td>-0.516508</td>\n",
       "      <td>0.000000</td>\n",
       "      <td>0.000000</td>\n",
       "      <td>-0.405350</td>\n",
       "      <td>-0.797318</td>\n",
       "      <td>-0.692031</td>\n",
       "      <td>0.004457</td>\n",
       "      <td>-0.161598</td>\n",
       "    </tr>\n",
       "    <tr>\n",
       "      <td>10280</td>\n",
       "      <td>109458.000000</td>\n",
       "      <td>1528.000000</td>\n",
       "      <td>-0.557026</td>\n",
       "      <td>5.000000</td>\n",
       "      <td>494.000000</td>\n",
       "      <td>0.603735</td>\n",
       "      <td>0.200130</td>\n",
       "      <td>-0.631781</td>\n",
       "      <td>0.632666</td>\n",
       "      <td>-0.644741</td>\n",
       "      <td>...</td>\n",
       "      <td>0.117392</td>\n",
       "      <td>0.096307</td>\n",
       "      <td>0.014035</td>\n",
       "      <td>0.000000</td>\n",
       "      <td>0.000000</td>\n",
       "      <td>-0.074694</td>\n",
       "      <td>-0.078260</td>\n",
       "      <td>-0.283599</td>\n",
       "      <td>-0.251506</td>\n",
       "      <td>-0.161598</td>\n",
       "    </tr>\n",
       "  </tbody>\n",
       "</table>\n",
       "<p>642 rows × 212 columns</p>\n",
       "</div>"
      ],
      "text/plain": [
       "                 cid  canonical_smiles     xlogp  odor level  odor name  \\\n",
       "15045 5367848.000000       2579.000000  0.694326    5.000000  25.000000   \n",
       "10693  118201.000000       3102.000000  0.068650    5.000000  25.000000   \n",
       "5958    61091.000000        767.000000  0.763846    5.000000  25.000000   \n",
       "3336    12348.000000       2961.000000 -0.626545    5.000000  25.000000   \n",
       "4100    17008.000000        807.000000 -0.487506    5.000000  25.000000   \n",
       "...              ...               ...       ...         ...        ...   \n",
       "13040 1268142.000000       1535.000000  0.763846    5.000000 494.000000   \n",
       "2432     8888.000000        388.000000  1.250483    5.000000 494.000000   \n",
       "7424    62842.000000        409.000000 -0.417987    5.000000 494.000000   \n",
       "13174 2723653.000000        306.000000 -0.348467    5.000000 494.000000   \n",
       "10280  109458.000000       1528.000000 -0.557026    5.000000 494.000000   \n",
       "\n",
       "           fsp3  small rings  arom rings  ring blocks  arom blocks  ...  \\\n",
       "15045  0.488423     0.200130   -0.631781     0.632666    -0.644741  ...   \n",
       "10693 -0.207567     0.200130   -0.631781     0.632666    -0.644741  ...   \n",
       "5958  -1.054436     0.200130    1.183366     0.632666     1.285620  ...   \n",
       "3336   0.817511    -0.878056   -0.631781    -1.106175    -0.644741  ...   \n",
       "4100   0.817511    -0.878056   -0.631781    -1.106175    -0.644741  ...   \n",
       "...         ...          ...         ...          ...          ...  ...   \n",
       "13040  0.104674     1.278317   -0.631781     0.632666    -0.644741  ...   \n",
       "2432  -0.145044    -0.878056   -0.631781    -1.106175    -0.644741  ...   \n",
       "7424  -0.145044    -0.878056   -0.631781    -1.106175    -0.644741  ...   \n",
       "13174 -1.642601     0.200130    1.183366     0.632666     1.285620  ...   \n",
       "10280  0.603735     0.200130   -0.631781     0.632666    -0.644741  ...   \n",
       "\n",
       "          atsm4     atsm5     natom  arom bond  arom atom      apol     alogp  \\\n",
       "15045 -0.113121 -0.191468  0.756794   0.000000   0.000000  0.746787  1.027389   \n",
       "10693  1.084316  1.728793  0.332360   0.000000   0.000000  0.372065  0.324639   \n",
       "5958   0.347392  0.624516  0.544577   0.000000   0.000000  0.735923  0.369121   \n",
       "3336  -1.126454 -0.864364 -0.622616   0.000000   0.000000 -0.813284 -0.446186   \n",
       "4100  -0.942351 -0.864364 -0.622616   0.000000   0.000000 -0.813284 -0.414126   \n",
       "...         ...       ...       ...        ...        ...       ...       ...   \n",
       "13040  1.914058  1.489973  0.969011   0.000000   0.000000  1.110645  0.806995   \n",
       "2432   0.255597  0.240994  1.393445   0.000000   0.000000  1.386350  1.466304   \n",
       "7424  -0.573634 -0.623930 -0.198182   0.000000   0.000000 -0.212547  0.598050   \n",
       "13174  0.454418  0.096307 -0.516508   0.000000   0.000000 -0.405350 -0.797318   \n",
       "10280  0.117392  0.096307  0.014035   0.000000   0.000000 -0.074694 -0.078260   \n",
       "\n",
       "         alogp2       amr      acid  \n",
       "15045  0.798586  0.601873 -0.161598  \n",
       "10693  0.047012  0.413218 -0.161598  \n",
       "5958   0.087998  1.172070 -0.161598  \n",
       "3336  -0.521668 -1.076900 -0.161598  \n",
       "4100  -0.503349 -1.083227 -0.161598  \n",
       "...         ...       ...       ...  \n",
       "13040  0.538945  1.033784 -0.161598  \n",
       "2432   1.380784  1.417374 -0.161598  \n",
       "7424   0.312995 -0.243575 -0.161598  \n",
       "13174 -0.692031  0.004457 -0.161598  \n",
       "10280 -0.283599 -0.251506 -0.161598  \n",
       "\n",
       "[642 rows x 212 columns]"
      ]
     },
     "execution_count": 23,
     "metadata": {},
     "output_type": "execute_result"
    }
   ],
   "source": [
    "sensorama2_5=[]\n",
    "\n",
    "for i in range(15 , len(sensorama_5)-15):\n",
    "    if sensorama_5.iloc[i,4] == sensorama_5.iloc[i+15,4] or sensorama_5.iloc[i,4] == sensorama_5.iloc[i-15,4]:\n",
    "        sensorama2_5.append(sensorama_5.iloc[i,:]) \n",
    "\n",
    "sensorama2_5= pd.DataFrame(sensorama2_5)\n",
    "sensorama2_5"
   ]
  },
  {
   "cell_type": "code",
   "execution_count": 24,
   "metadata": {},
   "outputs": [
    {
     "name": "stdout",
     "output_type": "stream",
     "text": [
      "26\n"
     ]
    }
   ],
   "source": [
    "count=0\n",
    "for i in range(1, len(sensorama2_5)):\n",
    "    if sensorama2_5.iloc[i,4]!= sensorama2_5.iloc[i-1,4]:\n",
    "        count = count +1\n",
    "print(count)"
   ]
  },
  {
   "cell_type": "code",
   "execution_count": 25,
   "metadata": {},
   "outputs": [],
   "source": [
    "X = sensorama2_5[[ 'xlogp','fsp3', 'small rings','arom rings','ring blocks','arom blocks','rings 3','rings 4', 'rings 5', 'rings 6',\n",
    "               'rings 7', 'rings 8', 'rings 9', 'tpsa efficiency', 'zagreb indices', 'weiner path', 'weiner polarity', 'wtpt.1',\n",
    "               'wtpt.2', 'wtpt.3', 'wtpt.4', 'wtpt.5', 'molecular weight', 'VAdjMat', 'topoPSA', 'lipinski failures', 'rotatable bonds',\n",
    "               'topo shape', 'petitjean number', 'mdec.11', 'mdec.12', 'mdec.13', 'mdec.14', 'mdec.22', 'mdec.23', 'mdec.24',\n",
    "               'mdec.33', 'mdec.34', 'mdec.44', 'mdeo.11', 'mdeo.12', 'mdeo.22', 'mden.11', 'mden.12', 'mden.13', 'mden.22',\n",
    "               'mden.23', 'mden.33', 'mlogp', 'atom p', 'atom lc', 'khs.sli', 'khs.ssbe', 'khs.ssssbe', 'khs.ssbh', 'khs.sssb',\n",
    "               'khs.ssssb', 'khs.sch3', 'khs.dch2', 'khs.ssch2', 'khs.tch', 'khs.dsch', 'khs.aach', 'khs.sssch', 'khs.ddc',\n",
    "               'khs.tsc', 'khs.dssc', 'khs.aasc', 'khs.aaac', 'khs.ssssc', 'khs.snh3', 'khs.snh2', 'khs.ssnh', 'khs.dnh', 'khs.ssnh.1',\n",
    "               'khs.aanh', 'khs.tn', 'khs.sssnh', 'khs.dsn', 'khs.aan', 'khs.sssn', 'khs.dsn.1', 'khs.aasn', 'khs.ssssn', 'khs.soh',\n",
    "               'khs.do', 'khs.sso', 'khs.aao', 'khs.sf', 'khs.ssih3', 'khs.sssih2', 'khs.ssssih', 'khs.sssssi', 'khs.sph2',\n",
    "               'khs.ssph', 'khs.sssp', 'khs.dsssp', 'khs.sssssp', 'khs.ssh', 'khs.ds', 'khs.sss', 'khs.aas', 'khs.dsss', 'khs.ddsss',\n",
    "               'khs.scl', 'khs.sGeH3', 'khs.ssGeH2', 'khs.sssGeH', 'khs.ssssGe', 'khs.sash2', 'khs.ssash', 'khs.sssas', 'khs.sssdas',\n",
    "               'khs.sssssas', 'khs.sseh', 'khs.dse', 'khs.ssse', 'khs.aase', 'khs.dssse', 'khs.ddssse', 'khs.sbr', 'khs.ssnh3', \n",
    "               'khs.sssnh2', 'khs.ssssnh', 'khs.sssssn', 'khs.si', 'khs.spbh3', 'khs.sspbh2', 'khs.ssspbh', 'khs.sssspb', 'kier 1',\n",
    "               'kier 2', 'hybRatio', 'hbdon', 'hbacc', 'fragc', 'fmf', 'eccen', 'SP.0', 'SP.1', 'SP.2', 'SP.3', 'SP.4', 'SP.5', 'SP.6',\n",
    "               'SP.7', 'VP.0', 'VP.1', 'VP.2', 'VP.3', 'VP.4', 'VP.5', 'VP.6', 'VP.7', 'SPC.4', 'SPC.5', 'SPC.6', 'VPC.4', 'VPC.5',\n",
    "               'VPC.6', 'SC.3', 'SC.4', 'SC.5', 'SC.6', 'VC.3', 'VC.4', 'VC.5', 'VC.6', 'SCH.3', 'SCH.4', 'SCH.5', 'SCH.6', 'SCH.7',\n",
    "               'VCH.3', 'VCH.4', 'VCH.3', 'VCH.4', 'VCH.5', 'VCH.6', 'VCH.7', 'C1SP1', 'C2SP1', 'C1SP2', 'C2SP2', 'C3SP2', 'C1SP3',\n",
    "               'C2SP3', 'C3SP3', 'C4SP3', 'bpol', 'bond count', 'basic group count', 'atsp1', 'atsp2' , 'atsp3', 'atsp4', 'atsp5',\n",
    "               'atsm1', 'atsm2','atsm3','atsm4','atsm5', 'natom','arom bond', 'arom atom', 'apol','alogp', 'alogp2', 'amr', 'acid']]\n",
    "y = sensorama2_5['odor name']"
   ]
  },
  {
   "cell_type": "markdown",
   "metadata": {},
   "source": [
    "#### RANDOM FOREST"
   ]
  },
  {
   "cell_type": "code",
   "execution_count": 26,
   "metadata": {},
   "outputs": [
    {
     "name": "stdout",
     "output_type": "stream",
     "text": [
      "Accuracy:  13.664596273291925 %\n"
     ]
    },
    {
     "data": {
      "image/png": "[encoded data removed]",
      "text/plain": [
       "<Figure size 432x288 with 2 Axes>"
      ]
     },
     "metadata": {
      "needs_background": "light"
     },
     "output_type": "display_data"
    }
   ],
   "source": [
    "X_train,X_test,y_train,y_test = train_test_split(X,y,test_size=0.25,random_state=0)\n",
    "sc_X = StandardScaler()\n",
    "X_train = sc_X.fit_transform(X_train)\n",
    "X_test = sc_X.transform(X_test)\n",
    "clf = RandomForestClassifier(n_estimators=100)\n",
    "clf.fit(X_train,y_train)\n",
    "y_pred=clf.predict(X_test)\n",
    "confusion_matrix = pd.crosstab(y_test, y_pred, rownames=['Actual'], colnames=['Predicted'])\n",
    "sns.heatmap(confusion_matrix, annot=True)\n",
    "print('Accuracy: ',metrics.accuracy_score(y_test, y_pred)*100,'%')\n",
    "plt.show()"
   ]
  },
  {
   "cell_type": "markdown",
   "metadata": {},
   "source": [
    "##### Feature Importances "
   ]
  },
  {
   "cell_type": "code",
   "execution_count": 27,
   "metadata": {},
   "outputs": [
    {
     "data": {
      "image/png": "[encoded data removed]",
      "text/plain": [
       "<Figure size 432x288 with 1 Axes>"
      ]
     },
     "metadata": {
      "needs_background": "light"
     },
     "output_type": "display_data"
    }
   ],
   "source": [
    "featureImportances = pd.Series(clf.feature_importances_).sort_values(ascending=False)\n",
    "sns.barplot(x=round(featureImportances,8), y=featureImportances)\n",
    "plt.xlabel('Features Importance')\n",
    "plt.show()"
   ]
  },
  {
   "cell_type": "code",
   "execution_count": 29,
   "metadata": {},
   "outputs": [],
   "source": [
    "X = sensorama2_5[[ 'xlogp','fsp3', 'small rings','arom rings','ring blocks','arom blocks','rings 3','rings 4', 'rings 5', 'rings 6',\n",
    "               'rings 7','tpsa efficiency', 'zagreb indices', 'weiner path', 'weiner polarity', 'wtpt.1',\n",
    "               'wtpt.2', 'wtpt.3', 'wtpt.4', 'wtpt.5', 'molecular weight', 'VAdjMat', 'topoPSA', 'lipinski failures', 'rotatable bonds',\n",
    "               'topo shape', 'petitjean number', 'mdec.11', 'mdec.12', 'mdec.13', 'mdec.14', 'mdec.22', 'mdec.23', 'mdec.24',\n",
    "               'mdec.33', 'mdec.34', 'mdec.44', 'mdeo.11', 'mdeo.12', 'mdeo.22', 'mden.22',\n",
    "               'mden.23', 'mden.33', 'mlogp', 'atom p', 'atom lc', \n",
    "                  'khs.sch3', 'khs.dch2', 'khs.ssch2', 'khs.tch', 'khs.dsch', 'khs.aach', 'khs.sssch', 'khs.ddc',\n",
    "               'khs.tsc', 'khs.dssc', 'khs.aasc', 'khs.aaac', 'khs.ssssc', 'khs.snh2', 'khs.ssnh.1',\n",
    "               'khs.aanh', 'khs.tn', 'khs.dsn', 'khs.aan', 'khs.sssn', 'khs.dsn.1', 'khs.aasn', 'khs.soh',\n",
    "               'khs.do', 'khs.sso', 'khs.aao', 'khs.ssh', 'khs.ds', 'khs.sss', 'khs.aas', 'khs.dsss', 'kier 1',\n",
    "               'kier 2', 'hybRatio', 'hbdon', 'hbacc', 'fragc', 'fmf', 'eccen', 'SP.0', 'SP.1', 'SP.2', 'SP.3', 'SP.4', 'SP.5', 'SP.6',\n",
    "               'SP.7', 'VP.0', 'VP.1', 'VP.2', 'VP.3', 'VP.4', 'VP.5', 'VP.6', 'VP.7', 'SPC.4', 'SPC.5', 'SPC.6', 'VPC.4', 'VPC.5',\n",
    "               'VPC.6', 'SC.3', 'SC.4', 'SC.5', 'SC.6', 'VC.3', 'VC.4', 'VC.5', 'VC.6', 'SCH.3', 'SCH.4', 'SCH.5', 'SCH.6', 'SCH.7',\n",
    "               'VCH.3', 'VCH.4', 'VCH.3', 'VCH.4', 'VCH.5', 'VCH.6', 'VCH.7', 'C1SP1', 'C2SP1', 'C1SP2', 'C2SP2', 'C3SP2', 'C1SP3',\n",
    "               'C2SP3', 'C3SP3', 'C4SP3', 'bpol', 'bond count', 'basic group count', 'atsp1', 'atsp2' , 'atsp3', 'atsp4', 'atsp5',\n",
    "               'atsm1', 'atsm2','atsm3','atsm4','atsm5', 'natom','apol','alogp', 'alogp2', 'amr', 'acid']]\n",
    "y = sensorama2_5['odor name']"
   ]
  },
  {
   "cell_type": "code",
   "execution_count": 30,
   "metadata": {},
   "outputs": [
    {
     "name": "stdout",
     "output_type": "stream",
     "text": [
      "Accuracy:  13.664596273291925 %\n"
     ]
    },
    {
     "data": {
      "image/png": "[encoded data removed]",
      "text/plain": [
       "<Figure size 432x288 with 2 Axes>"
      ]
     },
     "metadata": {
      "needs_background": "light"
     },
     "output_type": "display_data"
    }
   ],
   "source": [
    "X_train,X_test,y_train,y_test = train_test_split(X,y,test_size=0.25,random_state=0)\n",
    "sc_X = StandardScaler()\n",
    "X_train = sc_X.fit_transform(X_train)\n",
    "X_test = sc_X.transform(X_test)\n",
    "clf = RandomForestClassifier(n_estimators=100)\n",
    "clf.fit(X_train,y_train)\n",
    "y_pred=clf.predict(X_test)\n",
    "confusion_matrix = pd.crosstab(y_test, y_pred, rownames=['Actual'], colnames=['Predicted'])\n",
    "sns.heatmap(confusion_matrix, annot=True)\n",
    "print('Accuracy: ',metrics.accuracy_score(y_test, y_pred)*100,'%')\n",
    "plt.show()"
   ]
  },
  {
   "cell_type": "markdown",
   "metadata": {},
   "source": [
    "#### SUPPORT VECTOR MACHINE "
   ]
  },
  {
   "cell_type": "markdown",
   "metadata": {},
   "source": [
    "##### rbf Kernel "
   ]
  },
  {
   "cell_type": "code",
   "execution_count": 31,
   "metadata": {},
   "outputs": [
    {
     "name": "stdout",
     "output_type": "stream",
     "text": [
      "Accuracy: 11.180124223602485 %\n"
     ]
    }
   ],
   "source": [
    "X_tr, X_tst, y_tr, y_tst = train_test_split(X, y, test_size=25/100,random_state=109)\n",
    "clf = svm.SVC(kernel='rbf') # creating Support Vector Machine model\n",
    "clf.fit(X_tr, y_tr) # training the Model\n",
    "y_pr = clf.predict(X_tst) # making Predictions\n",
    "\n",
    "# Evaluating Prediction Accuracy\n",
    "print(\"Accuracy:\",metrics.accuracy_score(y_tst, y_pr)*100,\"%\")"
   ]
  },
  {
   "cell_type": "markdown",
   "metadata": {},
   "source": [
    "##### Polynomial Kernel\n"
   ]
  },
  {
   "cell_type": "code",
   "execution_count": 32,
   "metadata": {},
   "outputs": [
    {
     "name": "stdout",
     "output_type": "stream",
     "text": [
      "Accuracy: 11.180124223602485 %\n"
     ]
    }
   ],
   "source": [
    "X_tr, X_tst, y_tr, y_tst = train_test_split(X, y, test_size=25/100,random_state=109)\n",
    "clf = svm.SVC(kernel='poly') # Creating Support Vector Machine Model\n",
    "clf.fit(X_tr,y_tr) # fit classifier to training set\n",
    "y_pr = clf.predict(X_tst) # Making Predictions\n",
    "\n",
    "# Evaluating Prediction Accuracy\n",
    "print(\"Accuracy:\",metrics.accuracy_score(y_tst, y_pr)*100,\"%\")"
   ]
  },
  {
   "cell_type": "markdown",
   "metadata": {},
   "source": [
    "##### Sigmoid Kernel "
   ]
  },
  {
   "cell_type": "code",
   "execution_count": 33,
   "metadata": {},
   "outputs": [
    {
     "name": "stdout",
     "output_type": "stream",
     "text": [
      "Accuracy: 9.316770186335404 %\n"
     ]
    }
   ],
   "source": [
    "X_tr, X_tst, y_tr, y_tst = train_test_split(X, y, test_size=25/100,random_state=109)\n",
    "clf=svm.SVC(kernel='sigmoid') # instantiate classifier with sigmoid kernel\n",
    "clf.fit(X_tr,y_tr) # fit classifier to training set\n",
    "y_pr = clf.predict(X_tst) # Making Predictions\n",
    "\n",
    "# Evaluating Prediction Accuracy\n",
    "print(\"Accuracy:\",metrics.accuracy_score(y_tst, y_pr)*100,\"%\")"
   ]
  },
  {
   "cell_type": "markdown",
   "metadata": {},
   "source": [
    "#### DECISION TREE"
   ]
  },
  {
   "cell_type": "code",
   "execution_count": 34,
   "metadata": {},
   "outputs": [
    {
     "name": "stdout",
     "output_type": "stream",
     "text": [
      "Accuracy: 12.953367875647666 %\n"
     ]
    }
   ],
   "source": [
    "# Split dataset into training set and test set\n",
    "X_train, X_test, y_train, y_test = train_test_split(X, y, test_size=0.3, random_state=1) # 70% training and 30% test\n",
    "clf = DecisionTreeClassifier() # Create Decision Tree classifer object\n",
    "clf = clf.fit(X_train,y_train) # Train Decision Tree Classifer\n",
    "y_pred = clf.predict(X_test) # Predict the response for test dataset\n",
    "\n",
    "# how often is the classifier correct?\n",
    "print(\"Accuracy:\",metrics.accuracy_score(y_test, y_pred)*100,\"%\")"
   ]
  },
  {
   "cell_type": "markdown",
   "metadata": {},
   "source": [
    "#### LOGISTIC REGRESSION "
   ]
  },
  {
   "cell_type": "code",
   "execution_count": 35,
   "metadata": {},
   "outputs": [
    {
     "name": "stdout",
     "output_type": "stream",
     "text": [
      "Accuracy:  11.801242236024844 %\n"
     ]
    }
   ],
   "source": [
    "X_train,X_test,y_train,y_test = train_test_split(X,y,test_size=0.25,random_state=0)\n",
    "clf= LogisticRegression( max_iter=100000000)\n",
    "clf.fit(X_train,y_train)\n",
    "y_pred=clf.predict(X_test)\n",
    "print('Accuracy: ',metrics.accuracy_score(y_test, y_pred)*100,'%')"
   ]
  },
  {
   "cell_type": "markdown",
   "metadata": {},
   "source": [
    "#### K-Nearest Neighbor "
   ]
  },
  {
   "cell_type": "code",
   "execution_count": 36,
   "metadata": {},
   "outputs": [
    {
     "data": {
      "text/plain": [
       "Text(0, 0.5, 'Accuracy')"
      ]
     },
     "execution_count": 36,
     "metadata": {},
     "output_type": "execute_result"
    },
    {
     "data": {
      "image/png": "[encoded data removed]",
      "text/plain": [
       "<Figure size 864x432 with 1 Axes>"
      ]
     },
     "metadata": {
      "needs_background": "light"
     },
     "output_type": "display_data"
    }
   ],
   "source": [
    "# Split data into training and testing sets.\n",
    "X_train, X_test, y_train, y_test = train_test_split(X, y, random_state=42)\n",
    "accuracy=[]\n",
    "for i in range(1,21):\n",
    "    clf = KNeighborsClassifier(n_neighbors=i)\n",
    "    clf.fit(X_train, y_train)\n",
    "    ypred = clf.predict(X_test)\n",
    "    accuracy.append(metrics.accuracy_score(y_test, ypred))\n",
    "plt.figure(figsize=(12, 6))\n",
    "plt.plot(range(1, 21), accuracy, color='orange', linestyle='dashed', marker='o',\n",
    "         markerfacecolor='green', markersize=10)\n",
    "plt.title('Looking for the most accurate k value')\n",
    "plt.xlabel('K Value')\n",
    "plt.ylabel('Accuracy')"
   ]
  },
  {
   "cell_type": "code",
   "execution_count": 37,
   "metadata": {
    "scrolled": true
   },
   "outputs": [
    {
     "name": "stdout",
     "output_type": "stream",
     "text": [
      "Accuracy: 17.391304347826086 %\n"
     ]
    }
   ],
   "source": [
    "clf = KNeighborsClassifier(n_neighbors=20)\n",
    "clf.fit(X_train, y_train)\n",
    "ypred = clf.predict(X_test)\n",
    "\n",
    "# Best accuracy\n",
    "print(\"Accuracy:\",metrics.accuracy_score(y_test, ypred)*100,\"%\")"
   ]
  },
  {
   "cell_type": "markdown",
   "metadata": {},
   "source": [
    "### 15 MOST COMMON ODOR NAMES "
   ]
  },
  {
   "cell_type": "code",
   "execution_count": 41,
   "metadata": {},
   "outputs": [],
   "source": [
    "sensorama_5 = sensorama_5 .sort_values('odor name')"
   ]
  },
  {
   "cell_type": "code",
   "execution_count": 45,
   "metadata": {},
   "outputs": [
    {
     "data": {
      "text/html": [
       "<div>\n",
       "<style scoped>\n",
       "    .dataframe tbody tr th:only-of-type {\n",
       "        vertical-align: middle;\n",
       "    }\n",
       "\n",
       "    .dataframe tbody tr th {\n",
       "        vertical-align: top;\n",
       "    }\n",
       "\n",
       "    .dataframe thead th {\n",
       "        text-align: right;\n",
       "    }\n",
       "</style>\n",
       "<table border=\"1\" class=\"dataframe\">\n",
       "  <thead>\n",
       "    <tr style=\"text-align: right;\">\n",
       "      <th></th>\n",
       "      <th>cid</th>\n",
       "      <th>canonical_smiles</th>\n",
       "      <th>xlogp</th>\n",
       "      <th>odor level</th>\n",
       "      <th>odor name</th>\n",
       "      <th>fsp3</th>\n",
       "      <th>small rings</th>\n",
       "      <th>arom rings</th>\n",
       "      <th>ring blocks</th>\n",
       "      <th>arom blocks</th>\n",
       "      <th>...</th>\n",
       "      <th>atsm4</th>\n",
       "      <th>atsm5</th>\n",
       "      <th>natom</th>\n",
       "      <th>arom bond</th>\n",
       "      <th>arom atom</th>\n",
       "      <th>apol</th>\n",
       "      <th>alogp</th>\n",
       "      <th>alogp2</th>\n",
       "      <th>amr</th>\n",
       "      <th>acid</th>\n",
       "    </tr>\n",
       "  </thead>\n",
       "  <tbody>\n",
       "    <tr>\n",
       "      <td>15045</td>\n",
       "      <td>5367848.000000</td>\n",
       "      <td>2579.000000</td>\n",
       "      <td>0.694326</td>\n",
       "      <td>5.000000</td>\n",
       "      <td>25.000000</td>\n",
       "      <td>0.488423</td>\n",
       "      <td>0.200130</td>\n",
       "      <td>-0.631781</td>\n",
       "      <td>0.632666</td>\n",
       "      <td>-0.644741</td>\n",
       "      <td>...</td>\n",
       "      <td>-0.113121</td>\n",
       "      <td>-0.191468</td>\n",
       "      <td>0.756794</td>\n",
       "      <td>0.000000</td>\n",
       "      <td>0.000000</td>\n",
       "      <td>0.746787</td>\n",
       "      <td>1.027389</td>\n",
       "      <td>0.798586</td>\n",
       "      <td>0.601873</td>\n",
       "      <td>-0.161598</td>\n",
       "    </tr>\n",
       "    <tr>\n",
       "      <td>10693</td>\n",
       "      <td>118201.000000</td>\n",
       "      <td>3102.000000</td>\n",
       "      <td>0.068650</td>\n",
       "      <td>5.000000</td>\n",
       "      <td>25.000000</td>\n",
       "      <td>-0.207567</td>\n",
       "      <td>0.200130</td>\n",
       "      <td>-0.631781</td>\n",
       "      <td>0.632666</td>\n",
       "      <td>-0.644741</td>\n",
       "      <td>...</td>\n",
       "      <td>1.084316</td>\n",
       "      <td>1.728793</td>\n",
       "      <td>0.332360</td>\n",
       "      <td>0.000000</td>\n",
       "      <td>0.000000</td>\n",
       "      <td>0.372065</td>\n",
       "      <td>0.324639</td>\n",
       "      <td>0.047012</td>\n",
       "      <td>0.413218</td>\n",
       "      <td>-0.161598</td>\n",
       "    </tr>\n",
       "    <tr>\n",
       "      <td>5958</td>\n",
       "      <td>61091.000000</td>\n",
       "      <td>767.000000</td>\n",
       "      <td>0.763846</td>\n",
       "      <td>5.000000</td>\n",
       "      <td>25.000000</td>\n",
       "      <td>-1.054436</td>\n",
       "      <td>0.200130</td>\n",
       "      <td>1.183366</td>\n",
       "      <td>0.632666</td>\n",
       "      <td>1.285620</td>\n",
       "      <td>...</td>\n",
       "      <td>0.347392</td>\n",
       "      <td>0.624516</td>\n",
       "      <td>0.544577</td>\n",
       "      <td>0.000000</td>\n",
       "      <td>0.000000</td>\n",
       "      <td>0.735923</td>\n",
       "      <td>0.369121</td>\n",
       "      <td>0.087998</td>\n",
       "      <td>1.172070</td>\n",
       "      <td>-0.161598</td>\n",
       "    </tr>\n",
       "    <tr>\n",
       "      <td>3336</td>\n",
       "      <td>12348.000000</td>\n",
       "      <td>2961.000000</td>\n",
       "      <td>-0.626545</td>\n",
       "      <td>5.000000</td>\n",
       "      <td>25.000000</td>\n",
       "      <td>0.817511</td>\n",
       "      <td>-0.878056</td>\n",
       "      <td>-0.631781</td>\n",
       "      <td>-1.106175</td>\n",
       "      <td>-0.644741</td>\n",
       "      <td>...</td>\n",
       "      <td>-1.126454</td>\n",
       "      <td>-0.864364</td>\n",
       "      <td>-0.622616</td>\n",
       "      <td>0.000000</td>\n",
       "      <td>0.000000</td>\n",
       "      <td>-0.813284</td>\n",
       "      <td>-0.446186</td>\n",
       "      <td>-0.521668</td>\n",
       "      <td>-1.076900</td>\n",
       "      <td>-0.161598</td>\n",
       "    </tr>\n",
       "    <tr>\n",
       "      <td>4100</td>\n",
       "      <td>17008.000000</td>\n",
       "      <td>807.000000</td>\n",
       "      <td>-0.487506</td>\n",
       "      <td>5.000000</td>\n",
       "      <td>25.000000</td>\n",
       "      <td>0.817511</td>\n",
       "      <td>-0.878056</td>\n",
       "      <td>-0.631781</td>\n",
       "      <td>-1.106175</td>\n",
       "      <td>-0.644741</td>\n",
       "      <td>...</td>\n",
       "      <td>-0.942351</td>\n",
       "      <td>-0.864364</td>\n",
       "      <td>-0.622616</td>\n",
       "      <td>0.000000</td>\n",
       "      <td>0.000000</td>\n",
       "      <td>-0.813284</td>\n",
       "      <td>-0.414126</td>\n",
       "      <td>-0.503349</td>\n",
       "      <td>-1.083227</td>\n",
       "      <td>-0.161598</td>\n",
       "    </tr>\n",
       "    <tr>\n",
       "      <td>...</td>\n",
       "      <td>...</td>\n",
       "      <td>...</td>\n",
       "      <td>...</td>\n",
       "      <td>...</td>\n",
       "      <td>...</td>\n",
       "      <td>...</td>\n",
       "      <td>...</td>\n",
       "      <td>...</td>\n",
       "      <td>...</td>\n",
       "      <td>...</td>\n",
       "      <td>...</td>\n",
       "      <td>...</td>\n",
       "      <td>...</td>\n",
       "      <td>...</td>\n",
       "      <td>...</td>\n",
       "      <td>...</td>\n",
       "      <td>...</td>\n",
       "      <td>...</td>\n",
       "      <td>...</td>\n",
       "      <td>...</td>\n",
       "      <td>...</td>\n",
       "    </tr>\n",
       "    <tr>\n",
       "      <td>5068</td>\n",
       "      <td>26955.000000</td>\n",
       "      <td>1149.000000</td>\n",
       "      <td>0.068650</td>\n",
       "      <td>5.000000</td>\n",
       "      <td>494.000000</td>\n",
       "      <td>-0.087388</td>\n",
       "      <td>0.200130</td>\n",
       "      <td>-0.631781</td>\n",
       "      <td>0.632666</td>\n",
       "      <td>-0.644741</td>\n",
       "      <td>...</td>\n",
       "      <td>0.624314</td>\n",
       "      <td>0.529302</td>\n",
       "      <td>0.544577</td>\n",
       "      <td>0.000000</td>\n",
       "      <td>0.000000</td>\n",
       "      <td>0.608945</td>\n",
       "      <td>0.531779</td>\n",
       "      <td>0.245439</td>\n",
       "      <td>0.624950</td>\n",
       "      <td>-0.161598</td>\n",
       "    </tr>\n",
       "    <tr>\n",
       "      <td>15564</td>\n",
       "      <td>6374524.000000</td>\n",
       "      <td>820.000000</td>\n",
       "      <td>1.111444</td>\n",
       "      <td>5.000000</td>\n",
       "      <td>494.000000</td>\n",
       "      <td>0.488423</td>\n",
       "      <td>-0.878056</td>\n",
       "      <td>-0.631781</td>\n",
       "      <td>-1.106175</td>\n",
       "      <td>-0.644741</td>\n",
       "      <td>...</td>\n",
       "      <td>-0.343122</td>\n",
       "      <td>-0.047314</td>\n",
       "      <td>0.969011</td>\n",
       "      <td>0.000000</td>\n",
       "      <td>0.000000</td>\n",
       "      <td>0.884639</td>\n",
       "      <td>1.143415</td>\n",
       "      <td>0.944060</td>\n",
       "      <td>0.716363</td>\n",
       "      <td>-0.161598</td>\n",
       "    </tr>\n",
       "    <tr>\n",
       "      <td>14143</td>\n",
       "      <td>5352822.000000</td>\n",
       "      <td>2135.000000</td>\n",
       "      <td>0.763846</td>\n",
       "      <td>5.000000</td>\n",
       "      <td>494.000000</td>\n",
       "      <td>0.488423</td>\n",
       "      <td>-0.878056</td>\n",
       "      <td>-0.631781</td>\n",
       "      <td>-1.106175</td>\n",
       "      <td>-0.644741</td>\n",
       "      <td>...</td>\n",
       "      <td>-0.067223</td>\n",
       "      <td>0.480362</td>\n",
       "      <td>1.075120</td>\n",
       "      <td>0.000000</td>\n",
       "      <td>0.000000</td>\n",
       "      <td>0.967541</td>\n",
       "      <td>1.149105</td>\n",
       "      <td>0.951344</td>\n",
       "      <td>0.800689</td>\n",
       "      <td>-0.161598</td>\n",
       "    </tr>\n",
       "    <tr>\n",
       "      <td>9960</td>\n",
       "      <td>106871.000000</td>\n",
       "      <td>975.000000</td>\n",
       "      <td>1.250483</td>\n",
       "      <td>5.000000</td>\n",
       "      <td>494.000000</td>\n",
       "      <td>-0.727594</td>\n",
       "      <td>0.200130</td>\n",
       "      <td>1.183366</td>\n",
       "      <td>0.632666</td>\n",
       "      <td>1.285620</td>\n",
       "      <td>...</td>\n",
       "      <td>1.867206</td>\n",
       "      <td>2.201734</td>\n",
       "      <td>1.817879</td>\n",
       "      <td>0.000000</td>\n",
       "      <td>0.000000</td>\n",
       "      <td>2.059817</td>\n",
       "      <td>1.041198</td>\n",
       "      <td>0.815583</td>\n",
       "      <td>2.568819</td>\n",
       "      <td>-0.161598</td>\n",
       "    </tr>\n",
       "    <tr>\n",
       "      <td>14275</td>\n",
       "      <td>5355857.000000</td>\n",
       "      <td>2636.000000</td>\n",
       "      <td>1.667601</td>\n",
       "      <td>5.000000</td>\n",
       "      <td>494.000000</td>\n",
       "      <td>-0.409363</td>\n",
       "      <td>0.200130</td>\n",
       "      <td>1.183366</td>\n",
       "      <td>0.632666</td>\n",
       "      <td>1.285620</td>\n",
       "      <td>...</td>\n",
       "      <td>1.176623</td>\n",
       "      <td>1.009638</td>\n",
       "      <td>1.711771</td>\n",
       "      <td>0.000000</td>\n",
       "      <td>0.000000</td>\n",
       "      <td>1.833109</td>\n",
       "      <td>1.375815</td>\n",
       "      <td>1.253663</td>\n",
       "      <td>2.146409</td>\n",
       "      <td>-0.161598</td>\n",
       "    </tr>\n",
       "  </tbody>\n",
       "</table>\n",
       "<p>445 rows × 212 columns</p>\n",
       "</div>"
      ],
      "text/plain": [
       "                 cid  canonical_smiles     xlogp  odor level  odor name  \\\n",
       "15045 5367848.000000       2579.000000  0.694326    5.000000  25.000000   \n",
       "10693  118201.000000       3102.000000  0.068650    5.000000  25.000000   \n",
       "5958    61091.000000        767.000000  0.763846    5.000000  25.000000   \n",
       "3336    12348.000000       2961.000000 -0.626545    5.000000  25.000000   \n",
       "4100    17008.000000        807.000000 -0.487506    5.000000  25.000000   \n",
       "...              ...               ...       ...         ...        ...   \n",
       "5068    26955.000000       1149.000000  0.068650    5.000000 494.000000   \n",
       "15564 6374524.000000        820.000000  1.111444    5.000000 494.000000   \n",
       "14143 5352822.000000       2135.000000  0.763846    5.000000 494.000000   \n",
       "9960   106871.000000        975.000000  1.250483    5.000000 494.000000   \n",
       "14275 5355857.000000       2636.000000  1.667601    5.000000 494.000000   \n",
       "\n",
       "           fsp3  small rings  arom rings  ring blocks  arom blocks  ...  \\\n",
       "15045  0.488423     0.200130   -0.631781     0.632666    -0.644741  ...   \n",
       "10693 -0.207567     0.200130   -0.631781     0.632666    -0.644741  ...   \n",
       "5958  -1.054436     0.200130    1.183366     0.632666     1.285620  ...   \n",
       "3336   0.817511    -0.878056   -0.631781    -1.106175    -0.644741  ...   \n",
       "4100   0.817511    -0.878056   -0.631781    -1.106175    -0.644741  ...   \n",
       "...         ...          ...         ...          ...          ...  ...   \n",
       "5068  -0.087388     0.200130   -0.631781     0.632666    -0.644741  ...   \n",
       "15564  0.488423    -0.878056   -0.631781    -1.106175    -0.644741  ...   \n",
       "14143  0.488423    -0.878056   -0.631781    -1.106175    -0.644741  ...   \n",
       "9960  -0.727594     0.200130    1.183366     0.632666     1.285620  ...   \n",
       "14275 -0.409363     0.200130    1.183366     0.632666     1.285620  ...   \n",
       "\n",
       "          atsm4     atsm5     natom  arom bond  arom atom      apol     alogp  \\\n",
       "15045 -0.113121 -0.191468  0.756794   0.000000   0.000000  0.746787  1.027389   \n",
       "10693  1.084316  1.728793  0.332360   0.000000   0.000000  0.372065  0.324639   \n",
       "5958   0.347392  0.624516  0.544577   0.000000   0.000000  0.735923  0.369121   \n",
       "3336  -1.126454 -0.864364 -0.622616   0.000000   0.000000 -0.813284 -0.446186   \n",
       "4100  -0.942351 -0.864364 -0.622616   0.000000   0.000000 -0.813284 -0.414126   \n",
       "...         ...       ...       ...        ...        ...       ...       ...   \n",
       "5068   0.624314  0.529302  0.544577   0.000000   0.000000  0.608945  0.531779   \n",
       "15564 -0.343122 -0.047314  0.969011   0.000000   0.000000  0.884639  1.143415   \n",
       "14143 -0.067223  0.480362  1.075120   0.000000   0.000000  0.967541  1.149105   \n",
       "9960   1.867206  2.201734  1.817879   0.000000   0.000000  2.059817  1.041198   \n",
       "14275  1.176623  1.009638  1.711771   0.000000   0.000000  1.833109  1.375815   \n",
       "\n",
       "         alogp2       amr      acid  \n",
       "15045  0.798586  0.601873 -0.161598  \n",
       "10693  0.047012  0.413218 -0.161598  \n",
       "5958   0.087998  1.172070 -0.161598  \n",
       "3336  -0.521668 -1.076900 -0.161598  \n",
       "4100  -0.503349 -1.083227 -0.161598  \n",
       "...         ...       ...       ...  \n",
       "5068   0.245439  0.624950 -0.161598  \n",
       "15564  0.944060  0.716363 -0.161598  \n",
       "14143  0.951344  0.800689 -0.161598  \n",
       "9960   0.815583  2.568819 -0.161598  \n",
       "14275  1.253663  2.146409 -0.161598  \n",
       "\n",
       "[445 rows x 212 columns]"
      ]
     },
     "execution_count": 45,
     "metadata": {},
     "output_type": "execute_result"
    }
   ],
   "source": [
    "sensorama2_5=[]\n",
    "\n",
    "for i in range(21 , len(sensorama_5)-21):\n",
    "    if sensorama_5.iloc[i,4] == sensorama_5.iloc[i+21,4] or sensorama_5.iloc[i,4] == sensorama_5.iloc[i-21,4]:\n",
    "        sensorama2_5.append(sensorama_5.iloc[i,:]) \n",
    "\n",
    "sensorama2_5= pd.DataFrame(sensorama2_5)\n",
    "sensorama2_5"
   ]
  },
  {
   "cell_type": "code",
   "execution_count": 46,
   "metadata": {},
   "outputs": [
    {
     "name": "stdout",
     "output_type": "stream",
     "text": [
      "16\n"
     ]
    }
   ],
   "source": [
    "count=0\n",
    "for i in range(1, len(sensorama2_5)):\n",
    "    if sensorama2_5.iloc[i,4]!= sensorama2_5.iloc[i-1,4]:\n",
    "        count = count +1\n",
    "print(count)"
   ]
  },
  {
   "cell_type": "code",
   "execution_count": 47,
   "metadata": {},
   "outputs": [],
   "source": [
    "X = sensorama2_5[[ 'xlogp','fsp3', 'small rings','arom rings','ring blocks','arom blocks','rings 3','rings 4', 'rings 5', 'rings 6',\n",
    "               'rings 7', 'rings 8', 'rings 9', 'tpsa efficiency', 'zagreb indices', 'weiner path', 'weiner polarity', 'wtpt.1',\n",
    "               'wtpt.2', 'wtpt.3', 'wtpt.4', 'wtpt.5', 'molecular weight', 'VAdjMat', 'topoPSA', 'lipinski failures', 'rotatable bonds',\n",
    "               'topo shape', 'petitjean number', 'mdec.11', 'mdec.12', 'mdec.13', 'mdec.14', 'mdec.22', 'mdec.23', 'mdec.24',\n",
    "               'mdec.33', 'mdec.34', 'mdec.44', 'mdeo.11', 'mdeo.12', 'mdeo.22', 'mden.11', 'mden.12', 'mden.13', 'mden.22',\n",
    "               'mden.23', 'mden.33', 'mlogp', 'atom p', 'atom lc', 'khs.sli', 'khs.ssbe', 'khs.ssssbe', 'khs.ssbh', 'khs.sssb',\n",
    "               'khs.ssssb', 'khs.sch3', 'khs.dch2', 'khs.ssch2', 'khs.tch', 'khs.dsch', 'khs.aach', 'khs.sssch', 'khs.ddc',\n",
    "               'khs.tsc', 'khs.dssc', 'khs.aasc', 'khs.aaac', 'khs.ssssc', 'khs.snh3', 'khs.snh2', 'khs.ssnh', 'khs.dnh', 'khs.ssnh.1',\n",
    "               'khs.aanh', 'khs.tn', 'khs.sssnh', 'khs.dsn', 'khs.aan', 'khs.sssn', 'khs.dsn.1', 'khs.aasn', 'khs.ssssn', 'khs.soh',\n",
    "               'khs.do', 'khs.sso', 'khs.aao', 'khs.sf', 'khs.ssih3', 'khs.sssih2', 'khs.ssssih', 'khs.sssssi', 'khs.sph2',\n",
    "               'khs.ssph', 'khs.sssp', 'khs.dsssp', 'khs.sssssp', 'khs.ssh', 'khs.ds', 'khs.sss', 'khs.aas', 'khs.dsss', 'khs.ddsss',\n",
    "               'khs.scl', 'khs.sGeH3', 'khs.ssGeH2', 'khs.sssGeH', 'khs.ssssGe', 'khs.sash2', 'khs.ssash', 'khs.sssas', 'khs.sssdas',\n",
    "               'khs.sssssas', 'khs.sseh', 'khs.dse', 'khs.ssse', 'khs.aase', 'khs.dssse', 'khs.ddssse', 'khs.sbr', 'khs.ssnh3', \n",
    "               'khs.sssnh2', 'khs.ssssnh', 'khs.sssssn', 'khs.si', 'khs.spbh3', 'khs.sspbh2', 'khs.ssspbh', 'khs.sssspb', 'kier 1',\n",
    "               'kier 2', 'hybRatio', 'hbdon', 'hbacc', 'fragc', 'fmf', 'eccen', 'SP.0', 'SP.1', 'SP.2', 'SP.3', 'SP.4', 'SP.5', 'SP.6',\n",
    "               'SP.7', 'VP.0', 'VP.1', 'VP.2', 'VP.3', 'VP.4', 'VP.5', 'VP.6', 'VP.7', 'SPC.4', 'SPC.5', 'SPC.6', 'VPC.4', 'VPC.5',\n",
    "               'VPC.6', 'SC.3', 'SC.4', 'SC.5', 'SC.6', 'VC.3', 'VC.4', 'VC.5', 'VC.6', 'SCH.3', 'SCH.4', 'SCH.5', 'SCH.6', 'SCH.7',\n",
    "               'VCH.3', 'VCH.4', 'VCH.3', 'VCH.4', 'VCH.5', 'VCH.6', 'VCH.7', 'C1SP1', 'C2SP1', 'C1SP2', 'C2SP2', 'C3SP2', 'C1SP3',\n",
    "               'C2SP3', 'C3SP3', 'C4SP3', 'bpol', 'bond count', 'basic group count', 'atsp1', 'atsp2' , 'atsp3', 'atsp4', 'atsp5',\n",
    "               'atsm1', 'atsm2','atsm3','atsm4','atsm5', 'natom','arom bond', 'arom atom', 'apol','alogp', 'alogp2', 'amr', 'acid']]\n",
    "y = sensorama2_5['odor name']"
   ]
  },
  {
   "cell_type": "markdown",
   "metadata": {},
   "source": [
    "#### RANDOM FOREST"
   ]
  },
  {
   "cell_type": "code",
   "execution_count": 48,
   "metadata": {},
   "outputs": [
    {
     "name": "stdout",
     "output_type": "stream",
     "text": [
      "Accuracy:  16.071428571428573 %\n"
     ]
    },
    {
     "data": {
      "image/png": "[encoded data removed]",
      "text/plain": [
       "<Figure size 432x288 with 2 Axes>"
      ]
     },
     "metadata": {
      "needs_background": "light"
     },
     "output_type": "display_data"
    }
   ],
   "source": [
    "X_train,X_test,y_train,y_test = train_test_split(X,y,test_size=0.25,random_state=0)\n",
    "sc_X = StandardScaler()\n",
    "X_train = sc_X.fit_transform(X_train)\n",
    "X_test = sc_X.transform(X_test)\n",
    "clf = RandomForestClassifier(n_estimators=100)\n",
    "clf.fit(X_train,y_train)\n",
    "y_pred=clf.predict(X_test)\n",
    "confusion_matrix = pd.crosstab(y_test, y_pred, rownames=['Actual'], colnames=['Predicted'])\n",
    "sns.heatmap(confusion_matrix, annot=True)\n",
    "print('Accuracy: ',metrics.accuracy_score(y_test, y_pred)*100,'%')\n",
    "plt.show()"
   ]
  },
  {
   "cell_type": "markdown",
   "metadata": {},
   "source": [
    "##### Feature Importances "
   ]
  },
  {
   "cell_type": "code",
   "execution_count": 49,
   "metadata": {},
   "outputs": [
    {
     "data": {
      "image/png": "[encoded data removed]",
      "text/plain": [
       "<Figure size 432x288 with 1 Axes>"
      ]
     },
     "metadata": {
      "needs_background": "light"
     },
     "output_type": "display_data"
    }
   ],
   "source": [
    "featureImportances = pd.Series(clf.feature_importances_).sort_values(ascending=False)\n",
    "sns.barplot(x=round(featureImportances,8), y=featureImportances)\n",
    "plt.xlabel('Features Importance')\n",
    "plt.show()"
   ]
  },
  {
   "cell_type": "code",
   "execution_count": 51,
   "metadata": {},
   "outputs": [],
   "source": [
    "X = sensorama2_5[[ 'xlogp','fsp3', 'small rings','arom rings','ring blocks','arom blocks','rings 3','rings 4', 'rings 5', 'rings 6',\n",
    "               'rings 7', 'tpsa efficiency', 'zagreb indices', 'weiner path', 'weiner polarity', 'wtpt.1',\n",
    "               'wtpt.2', 'wtpt.3', 'wtpt.4', 'wtpt.5', 'molecular weight', 'VAdjMat', 'topoPSA', 'lipinski failures', 'rotatable bonds',\n",
    "               'topo shape', 'petitjean number', 'mdec.11', 'mdec.12', 'mdec.13', 'mdec.14', 'mdec.22', 'mdec.23', 'mdec.24',\n",
    "               'mdec.33', 'mdec.34', 'mdec.44', 'mdeo.11', 'mdeo.12', 'mdeo.22', 'mden.22',\n",
    "               'mden.23', 'mlogp', 'atom p', 'atom lc',\n",
    "                  'khs.sch3', 'khs.dch2', 'khs.ssch2','khs.dsch', 'khs.aach', 'khs.sssch', 'khs.ddc',\n",
    "               'khs.tsc', 'khs.dssc', 'khs.aasc', 'khs.aaac', 'khs.ssssc', 'khs.snh2', 'khs.ssnh.1',\n",
    "               'khs.tn', 'khs.dsn', 'khs.aan', 'khs.sssn', 'khs.dsn.1', 'khs.aasn', 'khs.soh',\n",
    "               'khs.do', 'khs.sso', 'khs.aao','khs.ssh', 'khs.ds', 'khs.sss', 'khs.aas', 'khs.dsss','kier 1',\n",
    "               'kier 2', 'hybRatio', 'hbdon', 'hbacc', 'fragc', 'fmf', 'eccen', 'SP.0', 'SP.1', 'SP.2', 'SP.3', 'SP.4', 'SP.5', 'SP.6',\n",
    "               'SP.7', 'VP.0', 'VP.1', 'VP.2', 'VP.3', 'VP.4', 'VP.5', 'VP.6', 'VP.7', 'SPC.4', 'SPC.5', 'SPC.6', 'VPC.4', 'VPC.5',\n",
    "               'VPC.6', 'SC.3', 'SC.4', 'SC.5', 'SC.6', 'VC.3', 'VC.4', 'VC.5', 'VC.6', 'SCH.3', 'SCH.4', 'SCH.5', 'SCH.6', 'SCH.7',\n",
    "               'VCH.3', 'VCH.4', 'VCH.3', 'VCH.4', 'VCH.5', 'VCH.6', 'VCH.7', 'C1SP1', 'C2SP1', 'C1SP2', 'C2SP2', 'C3SP2', 'C1SP3',\n",
    "               'C2SP3', 'C3SP3', 'C4SP3', 'bpol', 'bond count', 'basic group count', 'atsp1', 'atsp2' , 'atsp3', 'atsp4', 'atsp5',\n",
    "               'atsm1', 'atsm2','atsm3','atsm4','atsm5', 'natom', 'apol','alogp', 'alogp2', 'amr', 'acid']]\n",
    "y = sensorama2_5['odor name']"
   ]
  },
  {
   "cell_type": "code",
   "execution_count": 52,
   "metadata": {},
   "outputs": [
    {
     "name": "stdout",
     "output_type": "stream",
     "text": [
      "Accuracy:  17.857142857142858 %\n"
     ]
    },
    {
     "data": {
      "image/png": "[encoded data removed]",
      "text/plain": [
       "<Figure size 432x288 with 2 Axes>"
      ]
     },
     "metadata": {
      "needs_background": "light"
     },
     "output_type": "display_data"
    }
   ],
   "source": [
    "X_train,X_test,y_train,y_test = train_test_split(X,y,test_size=0.25,random_state=0)\n",
    "sc_X = StandardScaler()\n",
    "X_train = sc_X.fit_transform(X_train)\n",
    "X_test = sc_X.transform(X_test)\n",
    "clf = RandomForestClassifier(n_estimators=100)\n",
    "clf.fit(X_train,y_train)\n",
    "y_pred=clf.predict(X_test)\n",
    "confusion_matrix = pd.crosstab(y_test, y_pred, rownames=['Actual'], colnames=['Predicted'])\n",
    "sns.heatmap(confusion_matrix, annot=True)\n",
    "print('Accuracy: ',metrics.accuracy_score(y_test, y_pred)*100,'%')\n",
    "plt.show()"
   ]
  },
  {
   "cell_type": "markdown",
   "metadata": {},
   "source": [
    "#### SUPPORT VECTOR MACHINE "
   ]
  },
  {
   "cell_type": "markdown",
   "metadata": {},
   "source": [
    "##### rbf Kernel "
   ]
  },
  {
   "cell_type": "code",
   "execution_count": 53,
   "metadata": {},
   "outputs": [
    {
     "name": "stdout",
     "output_type": "stream",
     "text": [
      "Accuracy: 16.071428571428573 %\n"
     ]
    }
   ],
   "source": [
    "X_tr, X_tst, y_tr, y_tst = train_test_split(X, y, test_size=25/100,random_state=109)\n",
    "clf = svm.SVC(kernel='rbf') # creating Support Vector Machine model\n",
    "clf.fit(X_tr, y_tr) # training the Model\n",
    "y_pr = clf.predict(X_tst) # making Predictions\n",
    "\n",
    "# Evaluating Prediction Accuracy\n",
    "print(\"Accuracy:\",metrics.accuracy_score(y_tst, y_pr)*100,\"%\")"
   ]
  },
  {
   "cell_type": "markdown",
   "metadata": {},
   "source": [
    "##### Polynomial Kernel\n"
   ]
  },
  {
   "cell_type": "code",
   "execution_count": 54,
   "metadata": {},
   "outputs": [
    {
     "name": "stdout",
     "output_type": "stream",
     "text": [
      "Accuracy: 16.964285714285715 %\n"
     ]
    }
   ],
   "source": [
    "X_tr, X_tst, y_tr, y_tst = train_test_split(X, y, test_size=25/100,random_state=109)\n",
    "clf = svm.SVC(kernel='poly') # Creating Support Vector Machine Model\n",
    "clf.fit(X_tr,y_tr) # fit classifier to training set\n",
    "y_pr = clf.predict(X_tst) # Making Predictions\n",
    "\n",
    "# Evaluating Prediction Accuracy\n",
    "print(\"Accuracy:\",metrics.accuracy_score(y_tst, y_pr)*100,\"%\")"
   ]
  },
  {
   "cell_type": "markdown",
   "metadata": {},
   "source": [
    "##### Sigmoid Kernel "
   ]
  },
  {
   "cell_type": "code",
   "execution_count": 55,
   "metadata": {},
   "outputs": [
    {
     "name": "stdout",
     "output_type": "stream",
     "text": [
      "Accuracy: 13.392857142857142 %\n"
     ]
    }
   ],
   "source": [
    "X_tr, X_tst, y_tr, y_tst = train_test_split(X, y, test_size=25/100,random_state=109)\n",
    "clf=svm.SVC(kernel='sigmoid') # instantiate classifier with sigmoid kernel\n",
    "clf.fit(X_tr,y_tr) # fit classifier to training set\n",
    "y_pr = clf.predict(X_tst) # Making Predictions\n",
    "\n",
    "# Evaluating Prediction Accuracy\n",
    "print(\"Accuracy:\",metrics.accuracy_score(y_tst, y_pr)*100,\"%\")"
   ]
  },
  {
   "cell_type": "markdown",
   "metadata": {},
   "source": [
    "#### DECISION TREE"
   ]
  },
  {
   "cell_type": "code",
   "execution_count": 56,
   "metadata": {},
   "outputs": [
    {
     "name": "stdout",
     "output_type": "stream",
     "text": [
      "Accuracy: 19.402985074626866 %\n"
     ]
    }
   ],
   "source": [
    "# Split dataset into training set and test set\n",
    "X_train, X_test, y_train, y_test = train_test_split(X, y, test_size=0.3, random_state=1) # 70% training and 30% test\n",
    "clf = DecisionTreeClassifier() # Create Decision Tree classifer object\n",
    "clf = clf.fit(X_train,y_train) # Train Decision Tree Classifer\n",
    "y_pred = clf.predict(X_test) # Predict the response for test dataset\n",
    "\n",
    "# how often is the classifier correct?\n",
    "print(\"Accuracy:\",metrics.accuracy_score(y_test, y_pred)*100,\"%\")"
   ]
  },
  {
   "cell_type": "markdown",
   "metadata": {},
   "source": [
    "#### LOGISTIC REGRESSION "
   ]
  },
  {
   "cell_type": "code",
   "execution_count": 57,
   "metadata": {},
   "outputs": [
    {
     "name": "stdout",
     "output_type": "stream",
     "text": [
      "Accuracy:  19.642857142857142 %\n"
     ]
    }
   ],
   "source": [
    "X_train,X_test,y_train,y_test = train_test_split(X,y,test_size=0.25,random_state=0)\n",
    "clf= LogisticRegression( max_iter=100000000)\n",
    "clf.fit(X_train,y_train)\n",
    "y_pred=clf.predict(X_test)\n",
    "print('Accuracy: ',metrics.accuracy_score(y_test, y_pred)*100,'%')"
   ]
  },
  {
   "cell_type": "markdown",
   "metadata": {},
   "source": [
    "#### K-Nearest Neighbor "
   ]
  },
  {
   "cell_type": "code",
   "execution_count": 58,
   "metadata": {},
   "outputs": [
    {
     "data": {
      "text/plain": [
       "Text(0, 0.5, 'Accuracy')"
      ]
     },
     "execution_count": 58,
     "metadata": {},
     "output_type": "execute_result"
    },
    {
     "data": {
      "image/png": "[encoded data removed]",
      "text/plain": [
       "<Figure size 864x432 with 1 Axes>"
      ]
     },
     "metadata": {
      "needs_background": "light"
     },
     "output_type": "display_data"
    }
   ],
   "source": [
    "# Split data into training and testing sets.\n",
    "X_train, X_test, y_train, y_test = train_test_split(X, y, random_state=42)\n",
    "accuracy=[]\n",
    "for i in range(1,21):\n",
    "    clf = KNeighborsClassifier(n_neighbors=i)\n",
    "    clf.fit(X_train, y_train)\n",
    "    ypred = clf.predict(X_test)\n",
    "    accuracy.append(metrics.accuracy_score(y_test, ypred))\n",
    "plt.figure(figsize=(12, 6))\n",
    "plt.plot(range(1, 21), accuracy, color='orange', linestyle='dashed', marker='o',\n",
    "         markerfacecolor='green', markersize=10)\n",
    "plt.title('Looking for the most accurate k value')\n",
    "plt.xlabel('K Value')\n",
    "plt.ylabel('Accuracy')"
   ]
  },
  {
   "cell_type": "code",
   "execution_count": 59,
   "metadata": {
    "scrolled": true
   },
   "outputs": [
    {
     "name": "stdout",
     "output_type": "stream",
     "text": [
      "Accuracy: 21.428571428571427 %\n"
     ]
    }
   ],
   "source": [
    "clf = KNeighborsClassifier(n_neighbors=7)\n",
    "clf.fit(X_train, y_train)\n",
    "ypred = clf.predict(X_test)\n",
    "\n",
    "# Best accuracy\n",
    "print(\"Accuracy:\",metrics.accuracy_score(y_test, ypred)*100,\"%\")"
   ]
  },
  {
   "cell_type": "markdown",
   "metadata": {},
   "source": [
    "### 10 MOST COMMON ODOR NAMES "
   ]
  },
  {
   "cell_type": "code",
   "execution_count": 60,
   "metadata": {},
   "outputs": [],
   "source": [
    "sensorama_5 = sensorama_5.sort_values('odor name')"
   ]
  },
  {
   "cell_type": "code",
   "execution_count": 63,
   "metadata": {},
   "outputs": [
    {
     "data": {
      "text/html": [
       "<div>\n",
       "<style scoped>\n",
       "    .dataframe tbody tr th:only-of-type {\n",
       "        vertical-align: middle;\n",
       "    }\n",
       "\n",
       "    .dataframe tbody tr th {\n",
       "        vertical-align: top;\n",
       "    }\n",
       "\n",
       "    .dataframe thead th {\n",
       "        text-align: right;\n",
       "    }\n",
       "</style>\n",
       "<table border=\"1\" class=\"dataframe\">\n",
       "  <thead>\n",
       "    <tr style=\"text-align: right;\">\n",
       "      <th></th>\n",
       "      <th>cid</th>\n",
       "      <th>canonical_smiles</th>\n",
       "      <th>xlogp</th>\n",
       "      <th>odor level</th>\n",
       "      <th>odor name</th>\n",
       "      <th>fsp3</th>\n",
       "      <th>small rings</th>\n",
       "      <th>arom rings</th>\n",
       "      <th>ring blocks</th>\n",
       "      <th>arom blocks</th>\n",
       "      <th>...</th>\n",
       "      <th>atsm4</th>\n",
       "      <th>atsm5</th>\n",
       "      <th>natom</th>\n",
       "      <th>arom bond</th>\n",
       "      <th>arom atom</th>\n",
       "      <th>apol</th>\n",
       "      <th>alogp</th>\n",
       "      <th>alogp2</th>\n",
       "      <th>amr</th>\n",
       "      <th>acid</th>\n",
       "    </tr>\n",
       "  </thead>\n",
       "  <tbody>\n",
       "    <tr>\n",
       "      <td>4746</td>\n",
       "      <td>23234.000000</td>\n",
       "      <td>2109.000000</td>\n",
       "      <td>-1.182702</td>\n",
       "      <td>5.000000</td>\n",
       "      <td>25.000000</td>\n",
       "      <td>-0.519433</td>\n",
       "      <td>-0.878056</td>\n",
       "      <td>-0.631781</td>\n",
       "      <td>-1.106175</td>\n",
       "      <td>-0.644741</td>\n",
       "      <td>...</td>\n",
       "      <td>-1.448762</td>\n",
       "      <td>-1.200546</td>\n",
       "      <td>-1.259267</td>\n",
       "      <td>0.000000</td>\n",
       "      <td>0.000000</td>\n",
       "      <td>-1.353819</td>\n",
       "      <td>-0.722095</td>\n",
       "      <td>-0.660204</td>\n",
       "      <td>-1.379331</td>\n",
       "      <td>-0.161598</td>\n",
       "    </tr>\n",
       "    <tr>\n",
       "      <td>16863</td>\n",
       "      <td>9837013.000000</td>\n",
       "      <td>1756.000000</td>\n",
       "      <td>0.485768</td>\n",
       "      <td>5.000000</td>\n",
       "      <td>25.000000</td>\n",
       "      <td>-0.087388</td>\n",
       "      <td>0.200130</td>\n",
       "      <td>-0.631781</td>\n",
       "      <td>0.632666</td>\n",
       "      <td>-0.644741</td>\n",
       "      <td>...</td>\n",
       "      <td>0.992520</td>\n",
       "      <td>1.489440</td>\n",
       "      <td>0.544577</td>\n",
       "      <td>0.000000</td>\n",
       "      <td>0.000000</td>\n",
       "      <td>0.608945</td>\n",
       "      <td>0.726567</td>\n",
       "      <td>0.449645</td>\n",
       "      <td>0.575609</td>\n",
       "      <td>-0.161598</td>\n",
       "    </tr>\n",
       "    <tr>\n",
       "      <td>5901</td>\n",
       "      <td>61050.000000</td>\n",
       "      <td>2897.000000</td>\n",
       "      <td>1.737120</td>\n",
       "      <td>5.000000</td>\n",
       "      <td>170.000000</td>\n",
       "      <td>-0.285440</td>\n",
       "      <td>0.200130</td>\n",
       "      <td>1.183366</td>\n",
       "      <td>0.632666</td>\n",
       "      <td>1.285620</td>\n",
       "      <td>...</td>\n",
       "      <td>0.623803</td>\n",
       "      <td>0.912824</td>\n",
       "      <td>1.393445</td>\n",
       "      <td>0.000000</td>\n",
       "      <td>0.000000</td>\n",
       "      <td>1.513328</td>\n",
       "      <td>1.358952</td>\n",
       "      <td>1.230378</td>\n",
       "      <td>1.714577</td>\n",
       "      <td>-0.161598</td>\n",
       "    </tr>\n",
       "    <tr>\n",
       "      <td>9635</td>\n",
       "      <td>103404.000000</td>\n",
       "      <td>3237.000000</td>\n",
       "      <td>-2.086457</td>\n",
       "      <td>5.000000</td>\n",
       "      <td>170.000000</td>\n",
       "      <td>-0.786747</td>\n",
       "      <td>0.200130</td>\n",
       "      <td>1.183366</td>\n",
       "      <td>0.632666</td>\n",
       "      <td>1.285620</td>\n",
       "      <td>...</td>\n",
       "      <td>-0.608531</td>\n",
       "      <td>-0.664351</td>\n",
       "      <td>-0.940942</td>\n",
       "      <td>0.000000</td>\n",
       "      <td>0.000000</td>\n",
       "      <td>-0.944479</td>\n",
       "      <td>-1.980757</td>\n",
       "      <td>-0.857418</td>\n",
       "      <td>-0.825314</td>\n",
       "      <td>-0.161598</td>\n",
       "    </tr>\n",
       "    <tr>\n",
       "      <td>3840</td>\n",
       "      <td>15448.000000</td>\n",
       "      <td>2791.000000</td>\n",
       "      <td>1.180964</td>\n",
       "      <td>5.000000</td>\n",
       "      <td>188.000000</td>\n",
       "      <td>1.352513</td>\n",
       "      <td>-0.878056</td>\n",
       "      <td>-0.631781</td>\n",
       "      <td>-1.106175</td>\n",
       "      <td>-0.644741</td>\n",
       "      <td>...</td>\n",
       "      <td>-0.757737</td>\n",
       "      <td>-0.479776</td>\n",
       "      <td>0.756794</td>\n",
       "      <td>0.000000</td>\n",
       "      <td>0.000000</td>\n",
       "      <td>0.520782</td>\n",
       "      <td>1.135574</td>\n",
       "      <td>0.934033</td>\n",
       "      <td>0.118619</td>\n",
       "      <td>-0.161598</td>\n",
       "    </tr>\n",
       "    <tr>\n",
       "      <td>...</td>\n",
       "      <td>...</td>\n",
       "      <td>...</td>\n",
       "      <td>...</td>\n",
       "      <td>...</td>\n",
       "      <td>...</td>\n",
       "      <td>...</td>\n",
       "      <td>...</td>\n",
       "      <td>...</td>\n",
       "      <td>...</td>\n",
       "      <td>...</td>\n",
       "      <td>...</td>\n",
       "      <td>...</td>\n",
       "      <td>...</td>\n",
       "      <td>...</td>\n",
       "      <td>...</td>\n",
       "      <td>...</td>\n",
       "      <td>...</td>\n",
       "      <td>...</td>\n",
       "      <td>...</td>\n",
       "      <td>...</td>\n",
       "      <td>...</td>\n",
       "    </tr>\n",
       "    <tr>\n",
       "      <td>1068</td>\n",
       "      <td>7460.000000</td>\n",
       "      <td>1361.000000</td>\n",
       "      <td>0.277209</td>\n",
       "      <td>5.000000</td>\n",
       "      <td>494.000000</td>\n",
       "      <td>-0.145044</td>\n",
       "      <td>0.200130</td>\n",
       "      <td>-0.631781</td>\n",
       "      <td>0.632666</td>\n",
       "      <td>-0.644741</td>\n",
       "      <td>...</td>\n",
       "      <td>-0.527225</td>\n",
       "      <td>-0.815957</td>\n",
       "      <td>-0.304291</td>\n",
       "      <td>0.000000</td>\n",
       "      <td>0.000000</td>\n",
       "      <td>-0.295448</td>\n",
       "      <td>0.558773</td>\n",
       "      <td>0.272713</td>\n",
       "      <td>-0.296162</td>\n",
       "      <td>-0.161598</td>\n",
       "    </tr>\n",
       "    <tr>\n",
       "      <td>11045</td>\n",
       "      <td>162297.000000</td>\n",
       "      <td>219.000000</td>\n",
       "      <td>1.320003</td>\n",
       "      <td>5.000000</td>\n",
       "      <td>494.000000</td>\n",
       "      <td>0.488423</td>\n",
       "      <td>0.200130</td>\n",
       "      <td>1.183366</td>\n",
       "      <td>0.632666</td>\n",
       "      <td>1.285620</td>\n",
       "      <td>...</td>\n",
       "      <td>0.577932</td>\n",
       "      <td>1.057540</td>\n",
       "      <td>0.756794</td>\n",
       "      <td>0.000000</td>\n",
       "      <td>0.000000</td>\n",
       "      <td>0.791577</td>\n",
       "      <td>0.982214</td>\n",
       "      <td>0.743584</td>\n",
       "      <td>0.775125</td>\n",
       "      <td>-0.161598</td>\n",
       "    </tr>\n",
       "    <tr>\n",
       "      <td>15168</td>\n",
       "      <td>5372174.000000</td>\n",
       "      <td>1409.000000</td>\n",
       "      <td>0.346729</td>\n",
       "      <td>5.000000</td>\n",
       "      <td>494.000000</td>\n",
       "      <td>0.015569</td>\n",
       "      <td>0.200130</td>\n",
       "      <td>-0.631781</td>\n",
       "      <td>0.632666</td>\n",
       "      <td>-0.644741</td>\n",
       "      <td>...</td>\n",
       "      <td>1.084827</td>\n",
       "      <td>0.817610</td>\n",
       "      <td>0.862903</td>\n",
       "      <td>0.000000</td>\n",
       "      <td>0.000000</td>\n",
       "      <td>0.928716</td>\n",
       "      <td>0.706513</td>\n",
       "      <td>0.427834</td>\n",
       "      <td>0.922565</td>\n",
       "      <td>-0.161598</td>\n",
       "    </tr>\n",
       "    <tr>\n",
       "      <td>546</td>\n",
       "      <td>6549.000000</td>\n",
       "      <td>413.000000</td>\n",
       "      <td>-0.070389</td>\n",
       "      <td>5.000000</td>\n",
       "      <td>494.000000</td>\n",
       "      <td>-0.145044</td>\n",
       "      <td>-0.878056</td>\n",
       "      <td>-0.631781</td>\n",
       "      <td>-1.106175</td>\n",
       "      <td>-0.644741</td>\n",
       "      <td>...</td>\n",
       "      <td>-0.573634</td>\n",
       "      <td>-0.623930</td>\n",
       "      <td>0.014035</td>\n",
       "      <td>0.000000</td>\n",
       "      <td>0.000000</td>\n",
       "      <td>-0.074694</td>\n",
       "      <td>0.198759</td>\n",
       "      <td>-0.064131</td>\n",
       "      <td>-0.140032</td>\n",
       "      <td>-0.161598</td>\n",
       "    </tr>\n",
       "    <tr>\n",
       "      <td>688</td>\n",
       "      <td>6943.000000</td>\n",
       "      <td>717.000000</td>\n",
       "      <td>0.068650</td>\n",
       "      <td>5.000000</td>\n",
       "      <td>494.000000</td>\n",
       "      <td>-1.143540</td>\n",
       "      <td>0.200130</td>\n",
       "      <td>1.183366</td>\n",
       "      <td>0.632666</td>\n",
       "      <td>1.285620</td>\n",
       "      <td>...</td>\n",
       "      <td>-0.251326</td>\n",
       "      <td>-0.384029</td>\n",
       "      <td>-0.728725</td>\n",
       "      <td>0.000000</td>\n",
       "      <td>0.000000</td>\n",
       "      <td>-0.670180</td>\n",
       "      <td>-0.315240</td>\n",
       "      <td>-0.443923</td>\n",
       "      <td>-0.415670</td>\n",
       "      <td>-0.161598</td>\n",
       "    </tr>\n",
       "  </tbody>\n",
       "</table>\n",
       "<p>321 rows × 212 columns</p>\n",
       "</div>"
      ],
      "text/plain": [
       "                 cid  canonical_smiles     xlogp  odor level  odor name  \\\n",
       "4746    23234.000000       2109.000000 -1.182702    5.000000  25.000000   \n",
       "16863 9837013.000000       1756.000000  0.485768    5.000000  25.000000   \n",
       "5901    61050.000000       2897.000000  1.737120    5.000000 170.000000   \n",
       "9635   103404.000000       3237.000000 -2.086457    5.000000 170.000000   \n",
       "3840    15448.000000       2791.000000  1.180964    5.000000 188.000000   \n",
       "...              ...               ...       ...         ...        ...   \n",
       "1068     7460.000000       1361.000000  0.277209    5.000000 494.000000   \n",
       "11045  162297.000000        219.000000  1.320003    5.000000 494.000000   \n",
       "15168 5372174.000000       1409.000000  0.346729    5.000000 494.000000   \n",
       "546      6549.000000        413.000000 -0.070389    5.000000 494.000000   \n",
       "688      6943.000000        717.000000  0.068650    5.000000 494.000000   \n",
       "\n",
       "           fsp3  small rings  arom rings  ring blocks  arom blocks  ...  \\\n",
       "4746  -0.519433    -0.878056   -0.631781    -1.106175    -0.644741  ...   \n",
       "16863 -0.087388     0.200130   -0.631781     0.632666    -0.644741  ...   \n",
       "5901  -0.285440     0.200130    1.183366     0.632666     1.285620  ...   \n",
       "9635  -0.786747     0.200130    1.183366     0.632666     1.285620  ...   \n",
       "3840   1.352513    -0.878056   -0.631781    -1.106175    -0.644741  ...   \n",
       "...         ...          ...         ...          ...          ...  ...   \n",
       "1068  -0.145044     0.200130   -0.631781     0.632666    -0.644741  ...   \n",
       "11045  0.488423     0.200130    1.183366     0.632666     1.285620  ...   \n",
       "15168  0.015569     0.200130   -0.631781     0.632666    -0.644741  ...   \n",
       "546   -0.145044    -0.878056   -0.631781    -1.106175    -0.644741  ...   \n",
       "688   -1.143540     0.200130    1.183366     0.632666     1.285620  ...   \n",
       "\n",
       "          atsm4     atsm5     natom  arom bond  arom atom      apol     alogp  \\\n",
       "4746  -1.448762 -1.200546 -1.259267   0.000000   0.000000 -1.353819 -0.722095   \n",
       "16863  0.992520  1.489440  0.544577   0.000000   0.000000  0.608945  0.726567   \n",
       "5901   0.623803  0.912824  1.393445   0.000000   0.000000  1.513328  1.358952   \n",
       "9635  -0.608531 -0.664351 -0.940942   0.000000   0.000000 -0.944479 -1.980757   \n",
       "3840  -0.757737 -0.479776  0.756794   0.000000   0.000000  0.520782  1.135574   \n",
       "...         ...       ...       ...        ...        ...       ...       ...   \n",
       "1068  -0.527225 -0.815957 -0.304291   0.000000   0.000000 -0.295448  0.558773   \n",
       "11045  0.577932  1.057540  0.756794   0.000000   0.000000  0.791577  0.982214   \n",
       "15168  1.084827  0.817610  0.862903   0.000000   0.000000  0.928716  0.706513   \n",
       "546   -0.573634 -0.623930  0.014035   0.000000   0.000000 -0.074694  0.198759   \n",
       "688   -0.251326 -0.384029 -0.728725   0.000000   0.000000 -0.670180 -0.315240   \n",
       "\n",
       "         alogp2       amr      acid  \n",
       "4746  -0.660204 -1.379331 -0.161598  \n",
       "16863  0.449645  0.575609 -0.161598  \n",
       "5901   1.230378  1.714577 -0.161598  \n",
       "9635  -0.857418 -0.825314 -0.161598  \n",
       "3840   0.934033  0.118619 -0.161598  \n",
       "...         ...       ...       ...  \n",
       "1068   0.272713 -0.296162 -0.161598  \n",
       "11045  0.743584  0.775125 -0.161598  \n",
       "15168  0.427834  0.922565 -0.161598  \n",
       "546   -0.064131 -0.140032 -0.161598  \n",
       "688   -0.443923 -0.415670 -0.161598  \n",
       "\n",
       "[321 rows x 212 columns]"
      ]
     },
     "execution_count": 63,
     "metadata": {},
     "output_type": "execute_result"
    }
   ],
   "source": [
    "sensorama2_5=[]\n",
    "\n",
    "for i in range(27 , len(sensorama_5)-27):\n",
    "    if sensorama_5.iloc[i,4] == sensorama_5.iloc[i+27,4] or sensorama_5.iloc[i,4] == sensorama_5.iloc[i-27,4]:\n",
    "        sensorama2_5.append(sensorama_5.iloc[i,:]) \n",
    "\n",
    "sensorama2_5= pd.DataFrame(sensorama2_5)\n",
    "sensorama2_5"
   ]
  },
  {
   "cell_type": "code",
   "execution_count": 64,
   "metadata": {},
   "outputs": [
    {
     "name": "stdout",
     "output_type": "stream",
     "text": [
      "10\n"
     ]
    }
   ],
   "source": [
    "count=0\n",
    "for i in range(1, len(sensorama2_5)):\n",
    "    if sensorama2_5.iloc[i,4]!= sensorama2_5.iloc[i-1,4]:\n",
    "        count = count +1\n",
    "print(count)"
   ]
  },
  {
   "cell_type": "code",
   "execution_count": 65,
   "metadata": {},
   "outputs": [],
   "source": [
    "X = sensorama2_5[[ 'xlogp','fsp3', 'small rings','arom rings','ring blocks','arom blocks','rings 3','rings 4', 'rings 5', 'rings 6',\n",
    "               'rings 7', 'rings 8', 'rings 9', 'tpsa efficiency', 'zagreb indices', 'weiner path', 'weiner polarity', 'wtpt.1',\n",
    "               'wtpt.2', 'wtpt.3', 'wtpt.4', 'wtpt.5', 'molecular weight', 'VAdjMat', 'topoPSA', 'lipinski failures', 'rotatable bonds',\n",
    "               'topo shape', 'petitjean number', 'mdec.11', 'mdec.12', 'mdec.13', 'mdec.14', 'mdec.22', 'mdec.23', 'mdec.24',\n",
    "               'mdec.33', 'mdec.34', 'mdec.44', 'mdeo.11', 'mdeo.12', 'mdeo.22', 'mden.11', 'mden.12', 'mden.13', 'mden.22',\n",
    "               'mden.23', 'mden.33', 'mlogp', 'atom p', 'atom lc', 'khs.sli', 'khs.ssbe', 'khs.ssssbe', 'khs.ssbh', 'khs.sssb',\n",
    "               'khs.ssssb', 'khs.sch3', 'khs.dch2', 'khs.ssch2', 'khs.tch', 'khs.dsch', 'khs.aach', 'khs.sssch', 'khs.ddc',\n",
    "               'khs.tsc', 'khs.dssc', 'khs.aasc', 'khs.aaac', 'khs.ssssc', 'khs.snh3', 'khs.snh2', 'khs.ssnh', 'khs.dnh', 'khs.ssnh.1',\n",
    "               'khs.aanh', 'khs.tn', 'khs.sssnh', 'khs.dsn', 'khs.aan', 'khs.sssn', 'khs.dsn.1', 'khs.aasn', 'khs.ssssn', 'khs.soh',\n",
    "               'khs.do', 'khs.sso', 'khs.aao', 'khs.sf', 'khs.ssih3', 'khs.sssih2', 'khs.ssssih', 'khs.sssssi', 'khs.sph2',\n",
    "               'khs.ssph', 'khs.sssp', 'khs.dsssp', 'khs.sssssp', 'khs.ssh', 'khs.ds', 'khs.sss', 'khs.aas', 'khs.dsss', 'khs.ddsss',\n",
    "               'khs.scl', 'khs.sGeH3', 'khs.ssGeH2', 'khs.sssGeH', 'khs.ssssGe', 'khs.sash2', 'khs.ssash', 'khs.sssas', 'khs.sssdas',\n",
    "               'khs.sssssas', 'khs.sseh', 'khs.dse', 'khs.ssse', 'khs.aase', 'khs.dssse', 'khs.ddssse', 'khs.sbr', 'khs.ssnh3', \n",
    "               'khs.sssnh2', 'khs.ssssnh', 'khs.sssssn', 'khs.si', 'khs.spbh3', 'khs.sspbh2', 'khs.ssspbh', 'khs.sssspb', 'kier 1',\n",
    "               'kier 2', 'hybRatio', 'hbdon', 'hbacc', 'fragc', 'fmf', 'eccen', 'SP.0', 'SP.1', 'SP.2', 'SP.3', 'SP.4', 'SP.5', 'SP.6',\n",
    "               'SP.7', 'VP.0', 'VP.1', 'VP.2', 'VP.3', 'VP.4', 'VP.5', 'VP.6', 'VP.7', 'SPC.4', 'SPC.5', 'SPC.6', 'VPC.4', 'VPC.5',\n",
    "               'VPC.6', 'SC.3', 'SC.4', 'SC.5', 'SC.6', 'VC.3', 'VC.4', 'VC.5', 'VC.6', 'SCH.3', 'SCH.4', 'SCH.5', 'SCH.6', 'SCH.7',\n",
    "               'VCH.3', 'VCH.4', 'VCH.3', 'VCH.4', 'VCH.5', 'VCH.6', 'VCH.7', 'C1SP1', 'C2SP1', 'C1SP2', 'C2SP2', 'C3SP2', 'C1SP3',\n",
    "               'C2SP3', 'C3SP3', 'C4SP3', 'bpol', 'bond count', 'basic group count', 'atsp1', 'atsp2' , 'atsp3', 'atsp4', 'atsp5',\n",
    "               'atsm1', 'atsm2','atsm3','atsm4','atsm5', 'natom','arom bond', 'arom atom', 'apol','alogp', 'alogp2', 'amr', 'acid']]\n",
    "y = sensorama2_5['odor name']"
   ]
  },
  {
   "cell_type": "markdown",
   "metadata": {},
   "source": [
    "#### RANDOM FOREST"
   ]
  },
  {
   "cell_type": "code",
   "execution_count": 66,
   "metadata": {},
   "outputs": [
    {
     "name": "stdout",
     "output_type": "stream",
     "text": [
      "Accuracy:  22.22222222222222 %\n"
     ]
    },
    {
     "data": {
      "image/png": "[encoded data removed]",
      "text/plain": [
       "<Figure size 432x288 with 2 Axes>"
      ]
     },
     "metadata": {
      "needs_background": "light"
     },
     "output_type": "display_data"
    }
   ],
   "source": [
    "X_train,X_test,y_train,y_test = train_test_split(X,y,test_size=0.25,random_state=0)\n",
    "sc_X = StandardScaler()\n",
    "X_train = sc_X.fit_transform(X_train)\n",
    "X_test = sc_X.transform(X_test)\n",
    "clf = RandomForestClassifier(n_estimators=100)\n",
    "clf.fit(X_train,y_train)\n",
    "y_pred=clf.predict(X_test)\n",
    "confusion_matrix = pd.crosstab(y_test, y_pred, rownames=['Actual'], colnames=['Predicted'])\n",
    "sns.heatmap(confusion_matrix, annot=True)\n",
    "print('Accuracy: ',metrics.accuracy_score(y_test, y_pred)*100,'%')\n",
    "plt.show()"
   ]
  },
  {
   "cell_type": "markdown",
   "metadata": {},
   "source": [
    "##### Feature Importances "
   ]
  },
  {
   "cell_type": "code",
   "execution_count": 67,
   "metadata": {},
   "outputs": [
    {
     "data": {
      "image/png": "[encoded data removed]",
      "text/plain": [
       "<Figure size 432x288 with 1 Axes>"
      ]
     },
     "metadata": {
      "needs_background": "light"
     },
     "output_type": "display_data"
    }
   ],
   "source": [
    "featureImportances = pd.Series(clf.feature_importances_).sort_values(ascending=False)\n",
    "sns.barplot(x=round(featureImportances,8), y=featureImportances)\n",
    "plt.xlabel('Features Importance')\n",
    "plt.show()"
   ]
  },
  {
   "cell_type": "code",
   "execution_count": 68,
   "metadata": {},
   "outputs": [],
   "source": [
    "X = sensorama2_5[[ 'xlogp','fsp3', 'small rings','arom rings','ring blocks','arom blocks','rings 3','rings 4', 'rings 5', 'rings 6',\n",
    "               'rings 7', 'tpsa efficiency', 'zagreb indices', 'weiner path', 'weiner polarity', 'wtpt.1',\n",
    "               'wtpt.2', 'wtpt.3', 'wtpt.4', 'wtpt.5', 'molecular weight', 'VAdjMat', 'topoPSA', 'lipinski failures', 'rotatable bonds',\n",
    "               'topo shape', 'petitjean number', 'mdec.11', 'mdec.12', 'mdec.13', 'mdec.14', 'mdec.22', 'mdec.23', 'mdec.24',\n",
    "               'mdec.33', 'mdec.34', 'mdec.44', 'mdeo.11', 'mdeo.12', 'mdeo.22', 'mden.22',\n",
    "               'mden.23', 'mlogp', 'atom p', 'atom lc',\n",
    "                  'khs.sch3', 'khs.dch2', 'khs.ssch2','khs.dsch', 'khs.aach', 'khs.sssch', 'khs.ddc',\n",
    "               'khs.tsc', 'khs.dssc', 'khs.aasc', 'khs.aaac', 'khs.ssssc', 'khs.snh2', 'khs.ssnh.1',\n",
    "               'khs.tn', 'khs.dsn', 'khs.aan', 'khs.sssn', 'khs.dsn.1', 'khs.aasn', 'khs.soh',\n",
    "               'khs.do', 'khs.sso', 'khs.aao','khs.ssh', 'khs.ds', 'khs.sss', 'khs.aas', 'khs.dsss','kier 1',\n",
    "               'kier 2', 'hybRatio', 'hbdon', 'hbacc', 'fragc', 'fmf', 'eccen', 'SP.0', 'SP.1', 'SP.2', 'SP.3', 'SP.4', 'SP.5', 'SP.6',\n",
    "               'SP.7', 'VP.0', 'VP.1', 'VP.2', 'VP.3', 'VP.4', 'VP.5', 'VP.6', 'VP.7', 'SPC.4', 'SPC.5', 'SPC.6', 'VPC.4', 'VPC.5',\n",
    "               'VPC.6', 'SC.3', 'SC.4', 'SC.5', 'SC.6', 'VC.3', 'VC.4', 'VC.5', 'VC.6', 'SCH.3', 'SCH.4', 'SCH.5', 'SCH.6', 'SCH.7',\n",
    "               'VCH.3', 'VCH.4', 'VCH.3', 'VCH.4', 'VCH.5', 'VCH.6', 'VCH.7', 'C1SP1', 'C2SP1', 'C1SP2', 'C2SP2', 'C3SP2', 'C1SP3',\n",
    "               'C2SP3', 'C3SP3', 'C4SP3', 'bpol', 'bond count', 'atsp1', 'atsp2' , 'atsp3', 'atsp4', 'atsp5',\n",
    "               'atsm1', 'atsm2','atsm3','atsm4','atsm5', 'natom', 'apol','alogp', 'alogp2', 'amr', 'acid']]\n",
    "y = sensorama2_5['odor name']"
   ]
  },
  {
   "cell_type": "code",
   "execution_count": 69,
   "metadata": {},
   "outputs": [
    {
     "name": "stdout",
     "output_type": "stream",
     "text": [
      "Accuracy:  28.39506172839506 %\n"
     ]
    },
    {
     "data": {
      "image/png": "[encoded data removed]",
      "text/plain": [
       "<Figure size 432x288 with 2 Axes>"
      ]
     },
     "metadata": {
      "needs_background": "light"
     },
     "output_type": "display_data"
    }
   ],
   "source": [
    "X_train,X_test,y_train,y_test = train_test_split(X,y,test_size=0.25,random_state=0)\n",
    "sc_X = StandardScaler()\n",
    "X_train = sc_X.fit_transform(X_train)\n",
    "X_test = sc_X.transform(X_test)\n",
    "clf = RandomForestClassifier(n_estimators=100)\n",
    "clf.fit(X_train,y_train)\n",
    "y_pred=clf.predict(X_test)\n",
    "confusion_matrix = pd.crosstab(y_test, y_pred, rownames=['Actual'], colnames=['Predicted'])\n",
    "sns.heatmap(confusion_matrix, annot=True)\n",
    "print('Accuracy: ',metrics.accuracy_score(y_test, y_pred)*100,'%')\n",
    "plt.show()"
   ]
  },
  {
   "cell_type": "markdown",
   "metadata": {},
   "source": [
    "#### SUPPORT VECTOR MACHINE "
   ]
  },
  {
   "cell_type": "markdown",
   "metadata": {},
   "source": [
    "##### rbf Kernel "
   ]
  },
  {
   "cell_type": "code",
   "execution_count": 70,
   "metadata": {},
   "outputs": [
    {
     "name": "stdout",
     "output_type": "stream",
     "text": [
      "Accuracy: 27.160493827160494 %\n"
     ]
    }
   ],
   "source": [
    "X_tr, X_tst, y_tr, y_tst = train_test_split(X, y, test_size=25/100,random_state=109)\n",
    "clf = svm.SVC(kernel='rbf') # creating Support Vector Machine model\n",
    "clf.fit(X_tr, y_tr) # training the Model\n",
    "y_pr = clf.predict(X_tst) # making Predictions\n",
    "\n",
    "# Evaluating Prediction Accuracy\n",
    "print(\"Accuracy:\",metrics.accuracy_score(y_tst, y_pr)*100,\"%\")"
   ]
  },
  {
   "cell_type": "markdown",
   "metadata": {},
   "source": [
    "##### Polynomial Kernel\n"
   ]
  },
  {
   "cell_type": "code",
   "execution_count": 71,
   "metadata": {},
   "outputs": [
    {
     "name": "stdout",
     "output_type": "stream",
     "text": [
      "Accuracy: 28.39506172839506 %\n"
     ]
    }
   ],
   "source": [
    "X_tr, X_tst, y_tr, y_tst = train_test_split(X, y, test_size=25/100,random_state=109)\n",
    "clf = svm.SVC(kernel='poly') # Creating Support Vector Machine Model\n",
    "clf.fit(X_tr,y_tr) # fit classifier to training set\n",
    "y_pr = clf.predict(X_tst) # Making Predictions\n",
    "\n",
    "# Evaluating Prediction Accuracy\n",
    "print(\"Accuracy:\",metrics.accuracy_score(y_tst, y_pr)*100,\"%\")"
   ]
  },
  {
   "cell_type": "markdown",
   "metadata": {},
   "source": [
    "##### Sigmoid Kernel "
   ]
  },
  {
   "cell_type": "code",
   "execution_count": 72,
   "metadata": {},
   "outputs": [
    {
     "name": "stdout",
     "output_type": "stream",
     "text": [
      "Accuracy: 23.456790123456788 %\n"
     ]
    }
   ],
   "source": [
    "X_tr, X_tst, y_tr, y_tst = train_test_split(X, y, test_size=25/100,random_state=109)\n",
    "clf=svm.SVC(kernel='sigmoid') # instantiate classifier with sigmoid kernel\n",
    "clf.fit(X_tr,y_tr) # fit classifier to training set\n",
    "y_pr = clf.predict(X_tst) # Making Predictions\n",
    "\n",
    "# Evaluating Prediction Accuracy\n",
    "print(\"Accuracy:\",metrics.accuracy_score(y_tst, y_pr)*100,\"%\")"
   ]
  },
  {
   "cell_type": "markdown",
   "metadata": {},
   "source": [
    "#### DECISION TREE"
   ]
  },
  {
   "cell_type": "code",
   "execution_count": 73,
   "metadata": {},
   "outputs": [
    {
     "name": "stdout",
     "output_type": "stream",
     "text": [
      "Accuracy: 29.896907216494846 %\n"
     ]
    }
   ],
   "source": [
    "# Split dataset into training set and test set\n",
    "X_train, X_test, y_train, y_test = train_test_split(X, y, test_size=0.3, random_state=1) # 70% training and 30% test\n",
    "clf = DecisionTreeClassifier() # Create Decision Tree classifer object\n",
    "clf = clf.fit(X_train,y_train) # Train Decision Tree Classifer\n",
    "y_pred = clf.predict(X_test) # Predict the response for test dataset\n",
    "\n",
    "# how often is the classifier correct?\n",
    "print(\"Accuracy:\",metrics.accuracy_score(y_test, y_pred)*100,\"%\")"
   ]
  },
  {
   "cell_type": "markdown",
   "metadata": {},
   "source": [
    "#### LOGISTIC REGRESSION "
   ]
  },
  {
   "cell_type": "code",
   "execution_count": 74,
   "metadata": {},
   "outputs": [
    {
     "name": "stdout",
     "output_type": "stream",
     "text": [
      "Accuracy:  35.80246913580247 %\n"
     ]
    }
   ],
   "source": [
    "X_train,X_test,y_train,y_test = train_test_split(X,y,test_size=0.25,random_state=0)\n",
    "clf= LogisticRegression( max_iter=100000000)\n",
    "clf.fit(X_train,y_train)\n",
    "y_pred=clf.predict(X_test)\n",
    "print('Accuracy: ',metrics.accuracy_score(y_test, y_pred)*100,'%')"
   ]
  },
  {
   "cell_type": "markdown",
   "metadata": {},
   "source": [
    "#### K-Nearest Neighbor "
   ]
  },
  {
   "cell_type": "code",
   "execution_count": 75,
   "metadata": {},
   "outputs": [
    {
     "data": {
      "text/plain": [
       "Text(0, 0.5, 'Accuracy')"
      ]
     },
     "execution_count": 75,
     "metadata": {},
     "output_type": "execute_result"
    },
    {
     "data": {
      "image/png": "[encoded data removed]",
      "text/plain": [
       "<Figure size 864x432 with 1 Axes>"
      ]
     },
     "metadata": {
      "needs_background": "light"
     },
     "output_type": "display_data"
    }
   ],
   "source": [
    "# Split data into training and testing sets.\n",
    "X_train, X_test, y_train, y_test = train_test_split(X, y, random_state=42)\n",
    "accuracy=[]\n",
    "for i in range(1,21):\n",
    "    clf = KNeighborsClassifier(n_neighbors=i)\n",
    "    clf.fit(X_train, y_train)\n",
    "    ypred = clf.predict(X_test)\n",
    "    accuracy.append(metrics.accuracy_score(y_test, ypred))\n",
    "plt.figure(figsize=(12, 6))\n",
    "plt.plot(range(1, 21), accuracy, color='orange', linestyle='dashed', marker='o',\n",
    "         markerfacecolor='green', markersize=10)\n",
    "plt.title('Looking for the most accurate k value')\n",
    "plt.xlabel('K Value')\n",
    "plt.ylabel('Accuracy')"
   ]
  },
  {
   "cell_type": "code",
   "execution_count": 76,
   "metadata": {
    "scrolled": true
   },
   "outputs": [
    {
     "name": "stdout",
     "output_type": "stream",
     "text": [
      "Accuracy: 32.098765432098766 %\n"
     ]
    }
   ],
   "source": [
    "clf = KNeighborsClassifier(n_neighbors=7)\n",
    "clf.fit(X_train, y_train)\n",
    "ypred = clf.predict(X_test)\n",
    "\n",
    "# Best accuracy\n",
    "print(\"Accuracy:\",metrics.accuracy_score(y_test, ypred)*100,\"%\")"
   ]
  },
  {
   "cell_type": "markdown",
   "metadata": {},
   "source": [
    "### 7 MOST COMMON ODOR NAMES "
   ]
  },
  {
   "cell_type": "code",
   "execution_count": 77,
   "metadata": {},
   "outputs": [],
   "source": [
    "sensorama_5 = sensorama_5.sort_values('odor name')"
   ]
  },
  {
   "cell_type": "code",
   "execution_count": 78,
   "metadata": {},
   "outputs": [
    {
     "data": {
      "text/html": [
       "<div>\n",
       "<style scoped>\n",
       "    .dataframe tbody tr th:only-of-type {\n",
       "        vertical-align: middle;\n",
       "    }\n",
       "\n",
       "    .dataframe tbody tr th {\n",
       "        vertical-align: top;\n",
       "    }\n",
       "\n",
       "    .dataframe thead th {\n",
       "        text-align: right;\n",
       "    }\n",
       "</style>\n",
       "<table border=\"1\" class=\"dataframe\">\n",
       "  <thead>\n",
       "    <tr style=\"text-align: right;\">\n",
       "      <th></th>\n",
       "      <th>cid</th>\n",
       "      <th>canonical_smiles</th>\n",
       "      <th>xlogp</th>\n",
       "      <th>odor level</th>\n",
       "      <th>odor name</th>\n",
       "      <th>fsp3</th>\n",
       "      <th>small rings</th>\n",
       "      <th>arom rings</th>\n",
       "      <th>ring blocks</th>\n",
       "      <th>arom blocks</th>\n",
       "      <th>...</th>\n",
       "      <th>atsm4</th>\n",
       "      <th>atsm5</th>\n",
       "      <th>natom</th>\n",
       "      <th>arom bond</th>\n",
       "      <th>arom atom</th>\n",
       "      <th>apol</th>\n",
       "      <th>alogp</th>\n",
       "      <th>alogp2</th>\n",
       "      <th>amr</th>\n",
       "      <th>acid</th>\n",
       "    </tr>\n",
       "  </thead>\n",
       "  <tbody>\n",
       "    <tr>\n",
       "      <td>5239</td>\n",
       "      <td>31210.000000</td>\n",
       "      <td>3000.000000</td>\n",
       "      <td>0.277209</td>\n",
       "      <td>5.000000</td>\n",
       "      <td>188.000000</td>\n",
       "      <td>-0.831300</td>\n",
       "      <td>0.200130</td>\n",
       "      <td>1.183366</td>\n",
       "      <td>0.632666</td>\n",
       "      <td>1.285620</td>\n",
       "      <td>...</td>\n",
       "      <td>0.070982</td>\n",
       "      <td>0.336208</td>\n",
       "      <td>0.120143</td>\n",
       "      <td>0.000000</td>\n",
       "      <td>0.000000</td>\n",
       "      <td>0.234213</td>\n",
       "      <td>0.092656</td>\n",
       "      <td>-0.152272</td>\n",
       "      <td>0.510402</td>\n",
       "      <td>-0.161598</td>\n",
       "    </tr>\n",
       "    <tr>\n",
       "      <td>1451</td>\n",
       "      <td>7738.000000</td>\n",
       "      <td>3347.000000</td>\n",
       "      <td>-1.182702</td>\n",
       "      <td>5.000000</td>\n",
       "      <td>188.000000</td>\n",
       "      <td>-1.455407</td>\n",
       "      <td>0.200130</td>\n",
       "      <td>1.183366</td>\n",
       "      <td>0.632666</td>\n",
       "      <td>1.285620</td>\n",
       "      <td>...</td>\n",
       "      <td>-0.343633</td>\n",
       "      <td>-0.672337</td>\n",
       "      <td>-0.940942</td>\n",
       "      <td>0.000000</td>\n",
       "      <td>0.000000</td>\n",
       "      <td>-0.907060</td>\n",
       "      <td>-1.518665</td>\n",
       "      <td>-0.867867</td>\n",
       "      <td>-0.568573</td>\n",
       "      <td>-0.161598</td>\n",
       "    </tr>\n",
       "    <tr>\n",
       "      <td>9566</td>\n",
       "      <td>102849.000000</td>\n",
       "      <td>3192.000000</td>\n",
       "      <td>-0.000869</td>\n",
       "      <td>5.000000</td>\n",
       "      <td>188.000000</td>\n",
       "      <td>-0.519433</td>\n",
       "      <td>0.200130</td>\n",
       "      <td>1.183366</td>\n",
       "      <td>0.632666</td>\n",
       "      <td>1.285620</td>\n",
       "      <td>...</td>\n",
       "      <td>0.025084</td>\n",
       "      <td>0.096307</td>\n",
       "      <td>0.332360</td>\n",
       "      <td>0.000000</td>\n",
       "      <td>0.000000</td>\n",
       "      <td>0.372065</td>\n",
       "      <td>-0.403856</td>\n",
       "      <td>-0.497376</td>\n",
       "      <td>0.629164</td>\n",
       "      <td>-0.161598</td>\n",
       "    </tr>\n",
       "    <tr>\n",
       "      <td>15455</td>\n",
       "      <td>6112709.000000</td>\n",
       "      <td>411.000000</td>\n",
       "      <td>0.485768</td>\n",
       "      <td>5.000000</td>\n",
       "      <td>188.000000</td>\n",
       "      <td>-0.207567</td>\n",
       "      <td>-0.878056</td>\n",
       "      <td>-0.631781</td>\n",
       "      <td>-1.106175</td>\n",
       "      <td>-0.644741</td>\n",
       "      <td>...</td>\n",
       "      <td>-0.020813</td>\n",
       "      <td>0.528769</td>\n",
       "      <td>0.544577</td>\n",
       "      <td>0.000000</td>\n",
       "      <td>0.000000</td>\n",
       "      <td>0.509918</td>\n",
       "      <td>0.321308</td>\n",
       "      <td>0.043977</td>\n",
       "      <td>0.473826</td>\n",
       "      <td>-0.161598</td>\n",
       "    </tr>\n",
       "    <tr>\n",
       "      <td>13856</td>\n",
       "      <td>5283366.000000</td>\n",
       "      <td>2826.000000</td>\n",
       "      <td>2.154238</td>\n",
       "      <td>5.000000</td>\n",
       "      <td>188.000000</td>\n",
       "      <td>0.550197</td>\n",
       "      <td>-0.878056</td>\n",
       "      <td>-0.631781</td>\n",
       "      <td>-1.106175</td>\n",
       "      <td>-0.644741</td>\n",
       "      <td>...</td>\n",
       "      <td>-0.343122</td>\n",
       "      <td>-0.047314</td>\n",
       "      <td>1.287337</td>\n",
       "      <td>0.000000</td>\n",
       "      <td>0.000000</td>\n",
       "      <td>1.204421</td>\n",
       "      <td>2.102921</td>\n",
       "      <td>2.379371</td>\n",
       "      <td>1.032410</td>\n",
       "      <td>-0.161598</td>\n",
       "    </tr>\n",
       "    <tr>\n",
       "      <td>...</td>\n",
       "      <td>...</td>\n",
       "      <td>...</td>\n",
       "      <td>...</td>\n",
       "      <td>...</td>\n",
       "      <td>...</td>\n",
       "      <td>...</td>\n",
       "      <td>...</td>\n",
       "      <td>...</td>\n",
       "      <td>...</td>\n",
       "      <td>...</td>\n",
       "      <td>...</td>\n",
       "      <td>...</td>\n",
       "      <td>...</td>\n",
       "      <td>...</td>\n",
       "      <td>...</td>\n",
       "      <td>...</td>\n",
       "      <td>...</td>\n",
       "      <td>...</td>\n",
       "      <td>...</td>\n",
       "      <td>...</td>\n",
       "      <td>...</td>\n",
       "    </tr>\n",
       "    <tr>\n",
       "      <td>5068</td>\n",
       "      <td>26955.000000</td>\n",
       "      <td>1149.000000</td>\n",
       "      <td>0.068650</td>\n",
       "      <td>5.000000</td>\n",
       "      <td>494.000000</td>\n",
       "      <td>-0.087388</td>\n",
       "      <td>0.200130</td>\n",
       "      <td>-0.631781</td>\n",
       "      <td>0.632666</td>\n",
       "      <td>-0.644741</td>\n",
       "      <td>...</td>\n",
       "      <td>0.624314</td>\n",
       "      <td>0.529302</td>\n",
       "      <td>0.544577</td>\n",
       "      <td>0.000000</td>\n",
       "      <td>0.000000</td>\n",
       "      <td>0.608945</td>\n",
       "      <td>0.531779</td>\n",
       "      <td>0.245439</td>\n",
       "      <td>0.624950</td>\n",
       "      <td>-0.161598</td>\n",
       "    </tr>\n",
       "    <tr>\n",
       "      <td>4574</td>\n",
       "      <td>21003.000000</td>\n",
       "      <td>178.000000</td>\n",
       "      <td>-0.139908</td>\n",
       "      <td>5.000000</td>\n",
       "      <td>494.000000</td>\n",
       "      <td>0.978124</td>\n",
       "      <td>1.278317</td>\n",
       "      <td>-0.631781</td>\n",
       "      <td>2.371507</td>\n",
       "      <td>-0.644741</td>\n",
       "      <td>...</td>\n",
       "      <td>-0.389531</td>\n",
       "      <td>-0.143594</td>\n",
       "      <td>-0.198182</td>\n",
       "      <td>0.000000</td>\n",
       "      <td>0.000000</td>\n",
       "      <td>-0.212547</td>\n",
       "      <td>-0.013516</td>\n",
       "      <td>-0.235393</td>\n",
       "      <td>-0.495665</td>\n",
       "      <td>-0.161598</td>\n",
       "    </tr>\n",
       "    <tr>\n",
       "      <td>2528</td>\n",
       "      <td>9589.000000</td>\n",
       "      <td>474.000000</td>\n",
       "      <td>-1.669339</td>\n",
       "      <td>5.000000</td>\n",
       "      <td>494.000000</td>\n",
       "      <td>-1.856378</td>\n",
       "      <td>0.200130</td>\n",
       "      <td>1.183366</td>\n",
       "      <td>0.632666</td>\n",
       "      <td>1.285620</td>\n",
       "      <td>...</td>\n",
       "      <td>-0.665913</td>\n",
       "      <td>-0.808505</td>\n",
       "      <td>-1.365376</td>\n",
       "      <td>0.000000</td>\n",
       "      <td>0.000000</td>\n",
       "      <td>-1.264953</td>\n",
       "      <td>-1.747386</td>\n",
       "      <td>-0.874708</td>\n",
       "      <td>-1.005372</td>\n",
       "      <td>-0.161598</td>\n",
       "    </tr>\n",
       "    <tr>\n",
       "      <td>8056</td>\n",
       "      <td>78405.000000</td>\n",
       "      <td>2278.000000</td>\n",
       "      <td>-0.626545</td>\n",
       "      <td>5.000000</td>\n",
       "      <td>494.000000</td>\n",
       "      <td>-0.987420</td>\n",
       "      <td>0.200130</td>\n",
       "      <td>1.183366</td>\n",
       "      <td>0.632666</td>\n",
       "      <td>1.285620</td>\n",
       "      <td>...</td>\n",
       "      <td>-0.895900</td>\n",
       "      <td>-0.936153</td>\n",
       "      <td>-0.940942</td>\n",
       "      <td>0.000000</td>\n",
       "      <td>0.000000</td>\n",
       "      <td>-0.890232</td>\n",
       "      <td>-0.492541</td>\n",
       "      <td>-0.547338</td>\n",
       "      <td>-0.747989</td>\n",
       "      <td>-0.161598</td>\n",
       "    </tr>\n",
       "    <tr>\n",
       "      <td>7992</td>\n",
       "      <td>76674.000000</td>\n",
       "      <td>1233.000000</td>\n",
       "      <td>-0.626545</td>\n",
       "      <td>5.000000</td>\n",
       "      <td>494.000000</td>\n",
       "      <td>-1.455407</td>\n",
       "      <td>0.200130</td>\n",
       "      <td>1.183366</td>\n",
       "      <td>0.632666</td>\n",
       "      <td>1.285620</td>\n",
       "      <td>...</td>\n",
       "      <td>-0.343633</td>\n",
       "      <td>-0.224522</td>\n",
       "      <td>-0.940942</td>\n",
       "      <td>0.000000</td>\n",
       "      <td>0.000000</td>\n",
       "      <td>-0.907060</td>\n",
       "      <td>-1.152544</td>\n",
       "      <td>-0.807900</td>\n",
       "      <td>-0.579644</td>\n",
       "      <td>-0.161598</td>\n",
       "    </tr>\n",
       "  </tbody>\n",
       "</table>\n",
       "<p>289 rows × 212 columns</p>\n",
       "</div>"
      ],
      "text/plain": [
       "                 cid  canonical_smiles     xlogp  odor level  odor name  \\\n",
       "5239    31210.000000       3000.000000  0.277209    5.000000 188.000000   \n",
       "1451     7738.000000       3347.000000 -1.182702    5.000000 188.000000   \n",
       "9566   102849.000000       3192.000000 -0.000869    5.000000 188.000000   \n",
       "15455 6112709.000000        411.000000  0.485768    5.000000 188.000000   \n",
       "13856 5283366.000000       2826.000000  2.154238    5.000000 188.000000   \n",
       "...              ...               ...       ...         ...        ...   \n",
       "5068    26955.000000       1149.000000  0.068650    5.000000 494.000000   \n",
       "4574    21003.000000        178.000000 -0.139908    5.000000 494.000000   \n",
       "2528     9589.000000        474.000000 -1.669339    5.000000 494.000000   \n",
       "8056    78405.000000       2278.000000 -0.626545    5.000000 494.000000   \n",
       "7992    76674.000000       1233.000000 -0.626545    5.000000 494.000000   \n",
       "\n",
       "           fsp3  small rings  arom rings  ring blocks  arom blocks  ...  \\\n",
       "5239  -0.831300     0.200130    1.183366     0.632666     1.285620  ...   \n",
       "1451  -1.455407     0.200130    1.183366     0.632666     1.285620  ...   \n",
       "9566  -0.519433     0.200130    1.183366     0.632666     1.285620  ...   \n",
       "15455 -0.207567    -0.878056   -0.631781    -1.106175    -0.644741  ...   \n",
       "13856  0.550197    -0.878056   -0.631781    -1.106175    -0.644741  ...   \n",
       "...         ...          ...         ...          ...          ...  ...   \n",
       "5068  -0.087388     0.200130   -0.631781     0.632666    -0.644741  ...   \n",
       "4574   0.978124     1.278317   -0.631781     2.371507    -0.644741  ...   \n",
       "2528  -1.856378     0.200130    1.183366     0.632666     1.285620  ...   \n",
       "8056  -0.987420     0.200130    1.183366     0.632666     1.285620  ...   \n",
       "7992  -1.455407     0.200130    1.183366     0.632666     1.285620  ...   \n",
       "\n",
       "          atsm4     atsm5     natom  arom bond  arom atom      apol     alogp  \\\n",
       "5239   0.070982  0.336208  0.120143   0.000000   0.000000  0.234213  0.092656   \n",
       "1451  -0.343633 -0.672337 -0.940942   0.000000   0.000000 -0.907060 -1.518665   \n",
       "9566   0.025084  0.096307  0.332360   0.000000   0.000000  0.372065 -0.403856   \n",
       "15455 -0.020813  0.528769  0.544577   0.000000   0.000000  0.509918  0.321308   \n",
       "13856 -0.343122 -0.047314  1.287337   0.000000   0.000000  1.204421  2.102921   \n",
       "...         ...       ...       ...        ...        ...       ...       ...   \n",
       "5068   0.624314  0.529302  0.544577   0.000000   0.000000  0.608945  0.531779   \n",
       "4574  -0.389531 -0.143594 -0.198182   0.000000   0.000000 -0.212547 -0.013516   \n",
       "2528  -0.665913 -0.808505 -1.365376   0.000000   0.000000 -1.264953 -1.747386   \n",
       "8056  -0.895900 -0.936153 -0.940942   0.000000   0.000000 -0.890232 -0.492541   \n",
       "7992  -0.343633 -0.224522 -0.940942   0.000000   0.000000 -0.907060 -1.152544   \n",
       "\n",
       "         alogp2       amr      acid  \n",
       "5239  -0.152272  0.510402 -0.161598  \n",
       "1451  -0.867867 -0.568573 -0.161598  \n",
       "9566  -0.497376  0.629164 -0.161598  \n",
       "15455  0.043977  0.473826 -0.161598  \n",
       "13856  2.379371  1.032410 -0.161598  \n",
       "...         ...       ...       ...  \n",
       "5068   0.245439  0.624950 -0.161598  \n",
       "4574  -0.235393 -0.495665 -0.161598  \n",
       "2528  -0.874708 -1.005372 -0.161598  \n",
       "8056  -0.547338 -0.747989 -0.161598  \n",
       "7992  -0.807900 -0.579644 -0.161598  \n",
       "\n",
       "[289 rows x 212 columns]"
      ]
     },
     "execution_count": 78,
     "metadata": {},
     "output_type": "execute_result"
    }
   ],
   "source": [
    "sensorama2_5=[]\n",
    "\n",
    "for i in range(29, len(sensorama_5)-29):\n",
    "    if sensorama_5.iloc[i,4] == sensorama_5.iloc[i+29,4] or sensorama_5.iloc[i,4] == sensorama_5.iloc[i-29,4]:\n",
    "        sensorama2_5.append(sensorama_5.iloc[i,:]) \n",
    "\n",
    "sensorama2_5= pd.DataFrame(sensorama2_5)\n",
    "sensorama2_5"
   ]
  },
  {
   "cell_type": "code",
   "execution_count": 79,
   "metadata": {},
   "outputs": [
    {
     "name": "stdout",
     "output_type": "stream",
     "text": [
      "7\n"
     ]
    }
   ],
   "source": [
    "count=0\n",
    "for i in range(1, len(sensorama2_5)):\n",
    "    if sensorama2_5.iloc[i,4]!= sensorama2_5.iloc[i-1,4]:\n",
    "        count = count +1\n",
    "print(count)"
   ]
  },
  {
   "cell_type": "code",
   "execution_count": 80,
   "metadata": {},
   "outputs": [],
   "source": [
    "X = sensorama2_5[[ 'xlogp','fsp3', 'small rings','arom rings','ring blocks','arom blocks','rings 3','rings 4', 'rings 5', 'rings 6',\n",
    "               'rings 7', 'rings 8', 'rings 9', 'tpsa efficiency', 'zagreb indices', 'weiner path', 'weiner polarity', 'wtpt.1',\n",
    "               'wtpt.2', 'wtpt.3', 'wtpt.4', 'wtpt.5', 'molecular weight', 'VAdjMat', 'topoPSA', 'lipinski failures', 'rotatable bonds',\n",
    "               'topo shape', 'petitjean number', 'mdec.11', 'mdec.12', 'mdec.13', 'mdec.14', 'mdec.22', 'mdec.23', 'mdec.24',\n",
    "               'mdec.33', 'mdec.34', 'mdec.44', 'mdeo.11', 'mdeo.12', 'mdeo.22', 'mden.11', 'mden.12', 'mden.13', 'mden.22',\n",
    "               'mden.23', 'mden.33', 'mlogp', 'atom p', 'atom lc', 'khs.sli', 'khs.ssbe', 'khs.ssssbe', 'khs.ssbh', 'khs.sssb',\n",
    "               'khs.ssssb', 'khs.sch3', 'khs.dch2', 'khs.ssch2', 'khs.tch', 'khs.dsch', 'khs.aach', 'khs.sssch', 'khs.ddc',\n",
    "               'khs.tsc', 'khs.dssc', 'khs.aasc', 'khs.aaac', 'khs.ssssc', 'khs.snh3', 'khs.snh2', 'khs.ssnh', 'khs.dnh', 'khs.ssnh.1',\n",
    "               'khs.aanh', 'khs.tn', 'khs.sssnh', 'khs.dsn', 'khs.aan', 'khs.sssn', 'khs.dsn.1', 'khs.aasn', 'khs.ssssn', 'khs.soh',\n",
    "               'khs.do', 'khs.sso', 'khs.aao', 'khs.sf', 'khs.ssih3', 'khs.sssih2', 'khs.ssssih', 'khs.sssssi', 'khs.sph2',\n",
    "               'khs.ssph', 'khs.sssp', 'khs.dsssp', 'khs.sssssp', 'khs.ssh', 'khs.ds', 'khs.sss', 'khs.aas', 'khs.dsss', 'khs.ddsss',\n",
    "               'khs.scl', 'khs.sGeH3', 'khs.ssGeH2', 'khs.sssGeH', 'khs.ssssGe', 'khs.sash2', 'khs.ssash', 'khs.sssas', 'khs.sssdas',\n",
    "               'khs.sssssas', 'khs.sseh', 'khs.dse', 'khs.ssse', 'khs.aase', 'khs.dssse', 'khs.ddssse', 'khs.sbr', 'khs.ssnh3', \n",
    "               'khs.sssnh2', 'khs.ssssnh', 'khs.sssssn', 'khs.si', 'khs.spbh3', 'khs.sspbh2', 'khs.ssspbh', 'khs.sssspb', 'kier 1',\n",
    "               'kier 2', 'hybRatio', 'hbdon', 'hbacc', 'fragc', 'fmf', 'eccen', 'SP.0', 'SP.1', 'SP.2', 'SP.3', 'SP.4', 'SP.5', 'SP.6',\n",
    "               'SP.7', 'VP.0', 'VP.1', 'VP.2', 'VP.3', 'VP.4', 'VP.5', 'VP.6', 'VP.7', 'SPC.4', 'SPC.5', 'SPC.6', 'VPC.4', 'VPC.5',\n",
    "               'VPC.6', 'SC.3', 'SC.4', 'SC.5', 'SC.6', 'VC.3', 'VC.4', 'VC.5', 'VC.6', 'SCH.3', 'SCH.4', 'SCH.5', 'SCH.6', 'SCH.7',\n",
    "               'VCH.3', 'VCH.4', 'VCH.3', 'VCH.4', 'VCH.5', 'VCH.6', 'VCH.7', 'C1SP1', 'C2SP1', 'C1SP2', 'C2SP2', 'C3SP2', 'C1SP3',\n",
    "               'C2SP3', 'C3SP3', 'C4SP3', 'bpol', 'bond count', 'basic group count', 'atsp1', 'atsp2' , 'atsp3', 'atsp4', 'atsp5',\n",
    "               'atsm1', 'atsm2','atsm3','atsm4','atsm5', 'natom','arom bond', 'arom atom', 'apol','alogp', 'alogp2', 'amr', 'acid']]\n",
    "y = sensorama2_5['odor name']"
   ]
  },
  {
   "cell_type": "markdown",
   "metadata": {},
   "source": [
    "#### RANDOM FOREST"
   ]
  },
  {
   "cell_type": "code",
   "execution_count": 81,
   "metadata": {},
   "outputs": [
    {
     "name": "stdout",
     "output_type": "stream",
     "text": [
      "Accuracy:  32.87671232876712 %\n"
     ]
    },
    {
     "data": {
      "image/png": "[encoded data removed]",
      "text/plain": [
       "<Figure size 432x288 with 2 Axes>"
      ]
     },
     "metadata": {
      "needs_background": "light"
     },
     "output_type": "display_data"
    }
   ],
   "source": [
    "X_train,X_test,y_train,y_test = train_test_split(X,y,test_size=0.25,random_state=0)\n",
    "sc_X = StandardScaler()\n",
    "X_train = sc_X.fit_transform(X_train)\n",
    "X_test = sc_X.transform(X_test)\n",
    "clf = RandomForestClassifier(n_estimators=100)\n",
    "clf.fit(X_train,y_train)\n",
    "y_pred=clf.predict(X_test)\n",
    "confusion_matrix = pd.crosstab(y_test, y_pred, rownames=['Actual'], colnames=['Predicted'])\n",
    "sns.heatmap(confusion_matrix, annot=True)\n",
    "print('Accuracy: ',metrics.accuracy_score(y_test, y_pred)*100,'%')\n",
    "plt.show()"
   ]
  },
  {
   "cell_type": "markdown",
   "metadata": {},
   "source": [
    "##### Feature Importances "
   ]
  },
  {
   "cell_type": "code",
   "execution_count": 82,
   "metadata": {},
   "outputs": [
    {
     "data": {
      "image/png": "[encoded data removed]",
      "text/plain": [
       "<Figure size 432x288 with 1 Axes>"
      ]
     },
     "metadata": {
      "needs_background": "light"
     },
     "output_type": "display_data"
    }
   ],
   "source": [
    "featureImportances = pd.Series(clf.feature_importances_).sort_values(ascending=False)\n",
    "sns.barplot(x=round(featureImportances,8), y=featureImportances)\n",
    "plt.xlabel('Features Importance')\n",
    "plt.show()"
   ]
  },
  {
   "cell_type": "code",
   "execution_count": 84,
   "metadata": {},
   "outputs": [],
   "source": [
    "X = sensorama2_5[[ 'xlogp','fsp3', 'small rings','arom rings','ring blocks','arom blocks','rings 3','rings 4', 'rings 5', 'rings 6',\n",
    "               'rings 7', 'tpsa efficiency', 'zagreb indices', 'weiner path', 'weiner polarity', 'wtpt.1',\n",
    "               'wtpt.2', 'wtpt.3', 'wtpt.4', 'wtpt.5', 'molecular weight', 'VAdjMat', 'topoPSA', 'lipinski failures', 'rotatable bonds',\n",
    "               'topo shape', 'petitjean number', 'mdec.11', 'mdec.12', 'mdec.13', 'mdec.14', 'mdec.22', 'mdec.23', 'mdec.24',\n",
    "               'mdec.33', 'mdec.34', 'mdec.44', 'mdeo.11', 'mdeo.12', 'mdeo.22', 'mden.22',\n",
    "               'mden.23', 'mlogp', 'atom p', 'atom lc',\n",
    "                  'khs.sch3', 'khs.dch2', 'khs.ssch2','khs.dsch', 'khs.aach', 'khs.sssch', 'khs.ddc',\n",
    "               'khs.tsc', 'khs.dssc', 'khs.aasc', 'khs.aaac', 'khs.ssssc', 'khs.snh2', 'khs.ssnh.1',\n",
    "               'khs.tn', 'khs.dsn', 'khs.aan', 'khs.sssn', 'khs.dsn.1', 'khs.aasn', 'khs.soh',\n",
    "               'khs.do', 'khs.sso', 'khs.aao','khs.ssh', 'khs.ds', 'khs.sss', 'khs.aas', 'khs.dsss','kier 1',\n",
    "               'kier 2', 'hybRatio', 'hbdon', 'hbacc', 'fragc', 'fmf', 'eccen', 'SP.0', 'SP.1', 'SP.2', 'SP.3', 'SP.4', 'SP.5', 'SP.6',\n",
    "               'SP.7', 'VP.0', 'VP.1', 'VP.2', 'VP.3', 'VP.4', 'VP.5', 'VP.6', 'VP.7', 'SPC.4', 'SPC.5', 'SPC.6', 'VPC.4', 'VPC.5',\n",
    "               'VPC.6', 'SC.3', 'SC.4', 'SC.5', 'SC.6', 'VC.3', 'VC.4', 'VC.5', 'VC.6', 'SCH.3', 'SCH.4', 'SCH.5', 'SCH.6', 'SCH.7',\n",
    "               'VCH.3', 'VCH.4', 'VCH.3', 'VCH.4', 'VCH.5', 'VCH.6', 'VCH.7', 'C1SP1', 'C2SP1', 'C1SP2', 'C2SP2', 'C3SP2', 'C1SP3',\n",
    "               'C2SP3', 'C3SP3', 'C4SP3', 'bpol', 'bond count', 'atsp1', 'atsp2' , 'atsp3', 'atsp4', 'atsp5',\n",
    "               'atsm1', 'atsm2','atsm3','atsm4','atsm5', 'natom', 'apol','alogp', 'alogp2', 'amr', 'acid']]\n",
    "y = sensorama2_5['odor name']"
   ]
  },
  {
   "cell_type": "code",
   "execution_count": 85,
   "metadata": {},
   "outputs": [
    {
     "name": "stdout",
     "output_type": "stream",
     "text": [
      "Accuracy:  31.506849315068493 %\n"
     ]
    },
    {
     "data": {
      "image/png": "[encoded data removed]",
      "text/plain": [
       "<Figure size 432x288 with 2 Axes>"
      ]
     },
     "metadata": {
      "needs_background": "light"
     },
     "output_type": "display_data"
    }
   ],
   "source": [
    "X_train,X_test,y_train,y_test = train_test_split(X,y,test_size=0.25,random_state=0)\n",
    "sc_X = StandardScaler()\n",
    "X_train = sc_X.fit_transform(X_train)\n",
    "X_test = sc_X.transform(X_test)\n",
    "clf = RandomForestClassifier(n_estimators=100)\n",
    "clf.fit(X_train,y_train)\n",
    "y_pred=clf.predict(X_test)\n",
    "confusion_matrix = pd.crosstab(y_test, y_pred, rownames=['Actual'], colnames=['Predicted'])\n",
    "sns.heatmap(confusion_matrix, annot=True)\n",
    "print('Accuracy: ',metrics.accuracy_score(y_test, y_pred)*100,'%')\n",
    "plt.show()"
   ]
  },
  {
   "cell_type": "markdown",
   "metadata": {},
   "source": [
    "#### SUPPORT VECTOR MACHINE "
   ]
  },
  {
   "cell_type": "markdown",
   "metadata": {},
   "source": [
    "##### rbf Kernel "
   ]
  },
  {
   "cell_type": "code",
   "execution_count": 86,
   "metadata": {},
   "outputs": [
    {
     "name": "stdout",
     "output_type": "stream",
     "text": [
      "Accuracy: 36.986301369863014 %\n"
     ]
    }
   ],
   "source": [
    "X_tr, X_tst, y_tr, y_tst = train_test_split(X, y, test_size=25/100,random_state=109)\n",
    "clf = svm.SVC(kernel='rbf') # creating Support Vector Machine model\n",
    "clf.fit(X_tr, y_tr) # training the Model\n",
    "y_pr = clf.predict(X_tst) # making Predictions\n",
    "\n",
    "# Evaluating Prediction Accuracy\n",
    "print(\"Accuracy:\",metrics.accuracy_score(y_tst, y_pr)*100,\"%\")"
   ]
  },
  {
   "cell_type": "markdown",
   "metadata": {},
   "source": [
    "##### Polynomial Kernel\n"
   ]
  },
  {
   "cell_type": "code",
   "execution_count": 87,
   "metadata": {},
   "outputs": [
    {
     "name": "stdout",
     "output_type": "stream",
     "text": [
      "Accuracy: 35.61643835616438 %\n"
     ]
    }
   ],
   "source": [
    "X_tr, X_tst, y_tr, y_tst = train_test_split(X, y, test_size=25/100,random_state=109)\n",
    "clf = svm.SVC(kernel='poly') # Creating Support Vector Machine Model\n",
    "clf.fit(X_tr,y_tr) # fit classifier to training set\n",
    "y_pr = clf.predict(X_tst) # Making Predictions\n",
    "\n",
    "# Evaluating Prediction Accuracy\n",
    "print(\"Accuracy:\",metrics.accuracy_score(y_tst, y_pr)*100,\"%\")"
   ]
  },
  {
   "cell_type": "markdown",
   "metadata": {},
   "source": [
    "##### Sigmoid Kernel "
   ]
  },
  {
   "cell_type": "code",
   "execution_count": 88,
   "metadata": {},
   "outputs": [
    {
     "name": "stdout",
     "output_type": "stream",
     "text": [
      "Accuracy: 31.506849315068493 %\n"
     ]
    }
   ],
   "source": [
    "X_tr, X_tst, y_tr, y_tst = train_test_split(X, y, test_size=25/100,random_state=109)\n",
    "clf=svm.SVC(kernel='sigmoid') # instantiate classifier with sigmoid kernel\n",
    "clf.fit(X_tr,y_tr) # fit classifier to training set\n",
    "y_pr = clf.predict(X_tst) # Making Predictions\n",
    "\n",
    "# Evaluating Prediction Accuracy\n",
    "print(\"Accuracy:\",metrics.accuracy_score(y_tst, y_pr)*100,\"%\")"
   ]
  },
  {
   "cell_type": "markdown",
   "metadata": {},
   "source": [
    "#### DECISION TREE"
   ]
  },
  {
   "cell_type": "code",
   "execution_count": 89,
   "metadata": {},
   "outputs": [
    {
     "name": "stdout",
     "output_type": "stream",
     "text": [
      "Accuracy: 33.33333333333333 %\n"
     ]
    }
   ],
   "source": [
    "# Split dataset into training set and test set\n",
    "X_train, X_test, y_train, y_test = train_test_split(X, y, test_size=0.3, random_state=1) # 70% training and 30% test\n",
    "clf = DecisionTreeClassifier() # Create Decision Tree classifer object\n",
    "clf = clf.fit(X_train,y_train) # Train Decision Tree Classifer\n",
    "y_pred = clf.predict(X_test) # Predict the response for test dataset\n",
    "\n",
    "# how often is the classifier correct?\n",
    "print(\"Accuracy:\",metrics.accuracy_score(y_test, y_pred)*100,\"%\")"
   ]
  },
  {
   "cell_type": "markdown",
   "metadata": {},
   "source": [
    "#### LOGISTIC REGRESSION "
   ]
  },
  {
   "cell_type": "code",
   "execution_count": 90,
   "metadata": {},
   "outputs": [
    {
     "name": "stdout",
     "output_type": "stream",
     "text": [
      "Accuracy:  31.506849315068493 %\n"
     ]
    }
   ],
   "source": [
    "X_train,X_test,y_train,y_test = train_test_split(X,y,test_size=0.25,random_state=0)\n",
    "clf= LogisticRegression( max_iter=100000000)\n",
    "clf.fit(X_train,y_train)\n",
    "y_pred=clf.predict(X_test)\n",
    "print('Accuracy: ',metrics.accuracy_score(y_test, y_pred)*100,'%')"
   ]
  },
  {
   "cell_type": "markdown",
   "metadata": {},
   "source": [
    "#### K-Nearest Neighbor "
   ]
  },
  {
   "cell_type": "code",
   "execution_count": 91,
   "metadata": {},
   "outputs": [
    {
     "data": {
      "text/plain": [
       "Text(0, 0.5, 'Accuracy')"
      ]
     },
     "execution_count": 91,
     "metadata": {},
     "output_type": "execute_result"
    },
    {
     "data": {
      "image/png": "[encoded data removed]",
      "text/plain": [
       "<Figure size 864x432 with 1 Axes>"
      ]
     },
     "metadata": {
      "needs_background": "light"
     },
     "output_type": "display_data"
    }
   ],
   "source": [
    "# Split data into training and testing sets.\n",
    "X_train, X_test, y_train, y_test = train_test_split(X, y, random_state=42)\n",
    "accuracy=[]\n",
    "for i in range(1,21):\n",
    "    clf = KNeighborsClassifier(n_neighbors=i)\n",
    "    clf.fit(X_train, y_train)\n",
    "    ypred = clf.predict(X_test)\n",
    "    accuracy.append(metrics.accuracy_score(y_test, ypred))\n",
    "plt.figure(figsize=(12, 6))\n",
    "plt.plot(range(1, 21), accuracy, color='orange', linestyle='dashed', marker='o',\n",
    "         markerfacecolor='green', markersize=10)\n",
    "plt.title('Looking for the most accurate k value')\n",
    "plt.xlabel('K Value')\n",
    "plt.ylabel('Accuracy')"
   ]
  },
  {
   "cell_type": "code",
   "execution_count": 92,
   "metadata": {
    "scrolled": true
   },
   "outputs": [
    {
     "name": "stdout",
     "output_type": "stream",
     "text": [
      "Accuracy: 42.465753424657535 %\n"
     ]
    }
   ],
   "source": [
    "clf = KNeighborsClassifier(n_neighbors=7)\n",
    "clf.fit(X_train, y_train)\n",
    "ypred = clf.predict(X_test)\n",
    "\n",
    "# Best accuracy\n",
    "print(\"Accuracy:\",metrics.accuracy_score(y_test, ypred)*100,\"%\")"
   ]
  },
  {
   "cell_type": "markdown",
   "metadata": {},
   "source": [
    "### 5 MOST COMMON ODOR NAMES "
   ]
  },
  {
   "cell_type": "code",
   "execution_count": 78,
   "metadata": {},
   "outputs": [],
   "source": [
    "sensorama_5 = sensorama_5.sort_values('odor name')"
   ]
  },
  {
   "cell_type": "code",
   "execution_count": 97,
   "metadata": {},
   "outputs": [
    {
     "data": {
      "text/html": [
       "<div>\n",
       "<style scoped>\n",
       "    .dataframe tbody tr th:only-of-type {\n",
       "        vertical-align: middle;\n",
       "    }\n",
       "\n",
       "    .dataframe tbody tr th {\n",
       "        vertical-align: top;\n",
       "    }\n",
       "\n",
       "    .dataframe thead th {\n",
       "        text-align: right;\n",
       "    }\n",
       "</style>\n",
       "<table border=\"1\" class=\"dataframe\">\n",
       "  <thead>\n",
       "    <tr style=\"text-align: right;\">\n",
       "      <th></th>\n",
       "      <th>cid</th>\n",
       "      <th>canonical_smiles</th>\n",
       "      <th>xlogp</th>\n",
       "      <th>odor level</th>\n",
       "      <th>odor name</th>\n",
       "      <th>fsp3</th>\n",
       "      <th>small rings</th>\n",
       "      <th>arom rings</th>\n",
       "      <th>ring blocks</th>\n",
       "      <th>arom blocks</th>\n",
       "      <th>...</th>\n",
       "      <th>atsm4</th>\n",
       "      <th>atsm5</th>\n",
       "      <th>natom</th>\n",
       "      <th>arom bond</th>\n",
       "      <th>arom atom</th>\n",
       "      <th>apol</th>\n",
       "      <th>alogp</th>\n",
       "      <th>alogp2</th>\n",
       "      <th>amr</th>\n",
       "      <th>acid</th>\n",
       "    </tr>\n",
       "  </thead>\n",
       "  <tbody>\n",
       "    <tr>\n",
       "      <td>6549</td>\n",
       "      <td>61467.000000</td>\n",
       "      <td>2144.000000</td>\n",
       "      <td>0.346729</td>\n",
       "      <td>5.000000</td>\n",
       "      <td>200.000000</td>\n",
       "      <td>0.331554</td>\n",
       "      <td>-0.878056</td>\n",
       "      <td>-0.631781</td>\n",
       "      <td>-1.106175</td>\n",
       "      <td>-0.644741</td>\n",
       "      <td>...</td>\n",
       "      <td>0.024573</td>\n",
       "      <td>-0.047847</td>\n",
       "      <td>0.438469</td>\n",
       "      <td>0.000000</td>\n",
       "      <td>0.000000</td>\n",
       "      <td>0.327989</td>\n",
       "      <td>0.662170</td>\n",
       "      <td>0.380247</td>\n",
       "      <td>0.200296</td>\n",
       "      <td>-0.161598</td>\n",
       "    </tr>\n",
       "    <tr>\n",
       "      <td>5907</td>\n",
       "      <td>61052.000000</td>\n",
       "      <td>1880.000000</td>\n",
       "      <td>0.138170</td>\n",
       "      <td>5.000000</td>\n",
       "      <td>200.000000</td>\n",
       "      <td>-0.831300</td>\n",
       "      <td>0.200130</td>\n",
       "      <td>1.183366</td>\n",
       "      <td>0.632666</td>\n",
       "      <td>1.285620</td>\n",
       "      <td>...</td>\n",
       "      <td>0.070982</td>\n",
       "      <td>-0.143594</td>\n",
       "      <td>0.120143</td>\n",
       "      <td>0.000000</td>\n",
       "      <td>0.000000</td>\n",
       "      <td>0.234213</td>\n",
       "      <td>0.092656</td>\n",
       "      <td>-0.152272</td>\n",
       "      <td>0.510402</td>\n",
       "      <td>-0.161598</td>\n",
       "    </tr>\n",
       "    <tr>\n",
       "      <td>7513</td>\n",
       "      <td>65285.000000</td>\n",
       "      <td>1925.000000</td>\n",
       "      <td>-0.487506</td>\n",
       "      <td>5.000000</td>\n",
       "      <td>200.000000</td>\n",
       "      <td>0.728406</td>\n",
       "      <td>-0.878056</td>\n",
       "      <td>-0.631781</td>\n",
       "      <td>-1.106175</td>\n",
       "      <td>-0.644741</td>\n",
       "      <td>...</td>\n",
       "      <td>-0.342610</td>\n",
       "      <td>-0.815683</td>\n",
       "      <td>-0.940942</td>\n",
       "      <td>0.000000</td>\n",
       "      <td>0.000000</td>\n",
       "      <td>-0.916198</td>\n",
       "      <td>-0.197132</td>\n",
       "      <td>-0.367176</td>\n",
       "      <td>-0.960990</td>\n",
       "      <td>-0.161598</td>\n",
       "    </tr>\n",
       "    <tr>\n",
       "      <td>11186</td>\n",
       "      <td>163620.000000</td>\n",
       "      <td>3178.000000</td>\n",
       "      <td>0.833366</td>\n",
       "      <td>5.000000</td>\n",
       "      <td>200.000000</td>\n",
       "      <td>1.040647</td>\n",
       "      <td>0.200130</td>\n",
       "      <td>-0.631781</td>\n",
       "      <td>0.632666</td>\n",
       "      <td>-0.644741</td>\n",
       "      <td>...</td>\n",
       "      <td>1.221996</td>\n",
       "      <td>1.152711</td>\n",
       "      <td>0.862903</td>\n",
       "      <td>0.000000</td>\n",
       "      <td>0.000000</td>\n",
       "      <td>0.730662</td>\n",
       "      <td>0.911016</td>\n",
       "      <td>0.658760</td>\n",
       "      <td>0.388931</td>\n",
       "      <td>-0.161598</td>\n",
       "    </tr>\n",
       "    <tr>\n",
       "      <td>7685</td>\n",
       "      <td>69220.000000</td>\n",
       "      <td>1986.000000</td>\n",
       "      <td>-0.278948</td>\n",
       "      <td>5.000000</td>\n",
       "      <td>200.000000</td>\n",
       "      <td>1.352513</td>\n",
       "      <td>-0.878056</td>\n",
       "      <td>-0.631781</td>\n",
       "      <td>-1.106175</td>\n",
       "      <td>-0.644741</td>\n",
       "      <td>...</td>\n",
       "      <td>-1.033110</td>\n",
       "      <td>-1.536727</td>\n",
       "      <td>-1.153159</td>\n",
       "      <td>0.000000</td>\n",
       "      <td>0.000000</td>\n",
       "      <td>-1.181028</td>\n",
       "      <td>-0.043008</td>\n",
       "      <td>-0.257583</td>\n",
       "      <td>-1.291779</td>\n",
       "      <td>-0.161598</td>\n",
       "    </tr>\n",
       "    <tr>\n",
       "      <td>...</td>\n",
       "      <td>...</td>\n",
       "      <td>...</td>\n",
       "      <td>...</td>\n",
       "      <td>...</td>\n",
       "      <td>...</td>\n",
       "      <td>...</td>\n",
       "      <td>...</td>\n",
       "      <td>...</td>\n",
       "      <td>...</td>\n",
       "      <td>...</td>\n",
       "      <td>...</td>\n",
       "      <td>...</td>\n",
       "      <td>...</td>\n",
       "      <td>...</td>\n",
       "      <td>...</td>\n",
       "      <td>...</td>\n",
       "      <td>...</td>\n",
       "      <td>...</td>\n",
       "      <td>...</td>\n",
       "      <td>...</td>\n",
       "      <td>...</td>\n",
       "    </tr>\n",
       "    <tr>\n",
       "      <td>10006</td>\n",
       "      <td>107068.000000</td>\n",
       "      <td>662.000000</td>\n",
       "      <td>0.277209</td>\n",
       "      <td>5.000000</td>\n",
       "      <td>494.000000</td>\n",
       "      <td>0.550197</td>\n",
       "      <td>3.434689</td>\n",
       "      <td>-0.631781</td>\n",
       "      <td>0.632666</td>\n",
       "      <td>-0.644741</td>\n",
       "      <td>...</td>\n",
       "      <td>1.221996</td>\n",
       "      <td>0.817077</td>\n",
       "      <td>0.756794</td>\n",
       "      <td>0.000000</td>\n",
       "      <td>0.000000</td>\n",
       "      <td>0.873775</td>\n",
       "      <td>0.309997</td>\n",
       "      <td>0.033722</td>\n",
       "      <td>0.713948</td>\n",
       "      <td>-0.161598</td>\n",
       "    </tr>\n",
       "    <tr>\n",
       "      <td>10256</td>\n",
       "      <td>109417.000000</td>\n",
       "      <td>1514.000000</td>\n",
       "      <td>-0.487506</td>\n",
       "      <td>5.000000</td>\n",
       "      <td>494.000000</td>\n",
       "      <td>0.331554</td>\n",
       "      <td>0.200130</td>\n",
       "      <td>-0.631781</td>\n",
       "      <td>0.632666</td>\n",
       "      <td>-0.644741</td>\n",
       "      <td>...</td>\n",
       "      <td>0.393802</td>\n",
       "      <td>0.336741</td>\n",
       "      <td>0.120143</td>\n",
       "      <td>0.000000</td>\n",
       "      <td>0.000000</td>\n",
       "      <td>0.107235</td>\n",
       "      <td>-0.042453</td>\n",
       "      <td>-0.257171</td>\n",
       "      <td>-0.029639</td>\n",
       "      <td>-0.161598</td>\n",
       "    </tr>\n",
       "    <tr>\n",
       "      <td>14143</td>\n",
       "      <td>5352822.000000</td>\n",
       "      <td>2135.000000</td>\n",
       "      <td>0.763846</td>\n",
       "      <td>5.000000</td>\n",
       "      <td>494.000000</td>\n",
       "      <td>0.488423</td>\n",
       "      <td>-0.878056</td>\n",
       "      <td>-0.631781</td>\n",
       "      <td>-1.106175</td>\n",
       "      <td>-0.644741</td>\n",
       "      <td>...</td>\n",
       "      <td>-0.067223</td>\n",
       "      <td>0.480362</td>\n",
       "      <td>1.075120</td>\n",
       "      <td>0.000000</td>\n",
       "      <td>0.000000</td>\n",
       "      <td>0.967541</td>\n",
       "      <td>1.149105</td>\n",
       "      <td>0.951344</td>\n",
       "      <td>0.800689</td>\n",
       "      <td>-0.161598</td>\n",
       "    </tr>\n",
       "    <tr>\n",
       "      <td>15564</td>\n",
       "      <td>6374524.000000</td>\n",
       "      <td>820.000000</td>\n",
       "      <td>1.111444</td>\n",
       "      <td>5.000000</td>\n",
       "      <td>494.000000</td>\n",
       "      <td>0.488423</td>\n",
       "      <td>-0.878056</td>\n",
       "      <td>-0.631781</td>\n",
       "      <td>-1.106175</td>\n",
       "      <td>-0.644741</td>\n",
       "      <td>...</td>\n",
       "      <td>-0.343122</td>\n",
       "      <td>-0.047314</td>\n",
       "      <td>0.969011</td>\n",
       "      <td>0.000000</td>\n",
       "      <td>0.000000</td>\n",
       "      <td>0.884639</td>\n",
       "      <td>1.143415</td>\n",
       "      <td>0.944060</td>\n",
       "      <td>0.716363</td>\n",
       "      <td>-0.161598</td>\n",
       "    </tr>\n",
       "    <tr>\n",
       "      <td>5689</td>\n",
       "      <td>50216.000000</td>\n",
       "      <td>436.000000</td>\n",
       "      <td>0.277209</td>\n",
       "      <td>5.000000</td>\n",
       "      <td>494.000000</td>\n",
       "      <td>-1.455407</td>\n",
       "      <td>0.200130</td>\n",
       "      <td>1.183366</td>\n",
       "      <td>0.632666</td>\n",
       "      <td>1.285620</td>\n",
       "      <td>...</td>\n",
       "      <td>0.853278</td>\n",
       "      <td>1.087697</td>\n",
       "      <td>0.014035</td>\n",
       "      <td>0.000000</td>\n",
       "      <td>0.000000</td>\n",
       "      <td>0.179262</td>\n",
       "      <td>-0.227318</td>\n",
       "      <td>-0.387393</td>\n",
       "      <td>0.660976</td>\n",
       "      <td>-0.161598</td>\n",
       "    </tr>\n",
       "  </tbody>\n",
       "</table>\n",
       "<p>232 rows × 212 columns</p>\n",
       "</div>"
      ],
      "text/plain": [
       "                 cid  canonical_smiles     xlogp  odor level  odor name  \\\n",
       "6549    61467.000000       2144.000000  0.346729    5.000000 200.000000   \n",
       "5907    61052.000000       1880.000000  0.138170    5.000000 200.000000   \n",
       "7513    65285.000000       1925.000000 -0.487506    5.000000 200.000000   \n",
       "11186  163620.000000       3178.000000  0.833366    5.000000 200.000000   \n",
       "7685    69220.000000       1986.000000 -0.278948    5.000000 200.000000   \n",
       "...              ...               ...       ...         ...        ...   \n",
       "10006  107068.000000        662.000000  0.277209    5.000000 494.000000   \n",
       "10256  109417.000000       1514.000000 -0.487506    5.000000 494.000000   \n",
       "14143 5352822.000000       2135.000000  0.763846    5.000000 494.000000   \n",
       "15564 6374524.000000        820.000000  1.111444    5.000000 494.000000   \n",
       "5689    50216.000000        436.000000  0.277209    5.000000 494.000000   \n",
       "\n",
       "           fsp3  small rings  arom rings  ring blocks  arom blocks  ...  \\\n",
       "6549   0.331554    -0.878056   -0.631781    -1.106175    -0.644741  ...   \n",
       "5907  -0.831300     0.200130    1.183366     0.632666     1.285620  ...   \n",
       "7513   0.728406    -0.878056   -0.631781    -1.106175    -0.644741  ...   \n",
       "11186  1.040647     0.200130   -0.631781     0.632666    -0.644741  ...   \n",
       "7685   1.352513    -0.878056   -0.631781    -1.106175    -0.644741  ...   \n",
       "...         ...          ...         ...          ...          ...  ...   \n",
       "10006  0.550197     3.434689   -0.631781     0.632666    -0.644741  ...   \n",
       "10256  0.331554     0.200130   -0.631781     0.632666    -0.644741  ...   \n",
       "14143  0.488423    -0.878056   -0.631781    -1.106175    -0.644741  ...   \n",
       "15564  0.488423    -0.878056   -0.631781    -1.106175    -0.644741  ...   \n",
       "5689  -1.455407     0.200130    1.183366     0.632666     1.285620  ...   \n",
       "\n",
       "          atsm4     atsm5     natom  arom bond  arom atom      apol     alogp  \\\n",
       "6549   0.024573 -0.047847  0.438469   0.000000   0.000000  0.327989  0.662170   \n",
       "5907   0.070982 -0.143594  0.120143   0.000000   0.000000  0.234213  0.092656   \n",
       "7513  -0.342610 -0.815683 -0.940942   0.000000   0.000000 -0.916198 -0.197132   \n",
       "11186  1.221996  1.152711  0.862903   0.000000   0.000000  0.730662  0.911016   \n",
       "7685  -1.033110 -1.536727 -1.153159   0.000000   0.000000 -1.181028 -0.043008   \n",
       "...         ...       ...       ...        ...        ...       ...       ...   \n",
       "10006  1.221996  0.817077  0.756794   0.000000   0.000000  0.873775  0.309997   \n",
       "10256  0.393802  0.336741  0.120143   0.000000   0.000000  0.107235 -0.042453   \n",
       "14143 -0.067223  0.480362  1.075120   0.000000   0.000000  0.967541  1.149105   \n",
       "15564 -0.343122 -0.047314  0.969011   0.000000   0.000000  0.884639  1.143415   \n",
       "5689   0.853278  1.087697  0.014035   0.000000   0.000000  0.179262 -0.227318   \n",
       "\n",
       "         alogp2       amr      acid  \n",
       "6549   0.380247  0.200296 -0.161598  \n",
       "5907  -0.152272  0.510402 -0.161598  \n",
       "7513  -0.367176 -0.960990 -0.161598  \n",
       "11186  0.658760  0.388931 -0.161598  \n",
       "7685  -0.257583 -1.291779 -0.161598  \n",
       "...         ...       ...       ...  \n",
       "10006  0.033722  0.713948 -0.161598  \n",
       "10256 -0.257171 -0.029639 -0.161598  \n",
       "14143  0.951344  0.800689 -0.161598  \n",
       "15564  0.944060  0.716363 -0.161598  \n",
       "5689  -0.387393  0.660976 -0.161598  \n",
       "\n",
       "[232 rows x 212 columns]"
      ]
     },
     "execution_count": 97,
     "metadata": {},
     "output_type": "execute_result"
    }
   ],
   "source": [
    "sensorama2_5=[]\n",
    "\n",
    "for i in range(34, len(sensorama_5)-34):\n",
    "    if sensorama_5.iloc[i,4] == sensorama_5.iloc[i+34,4] or sensorama_5.iloc[i,4] == sensorama_5.iloc[i-34,4]:\n",
    "        sensorama2_5.append(sensorama_5.iloc[i,:]) \n",
    "\n",
    "sensorama2_5= pd.DataFrame(sensorama2_5)\n",
    "sensorama2_5"
   ]
  },
  {
   "cell_type": "code",
   "execution_count": 98,
   "metadata": {},
   "outputs": [
    {
     "name": "stdout",
     "output_type": "stream",
     "text": [
      "5\n"
     ]
    }
   ],
   "source": [
    "count=0\n",
    "for i in range(1, len(sensorama2_5)):\n",
    "    if sensorama2_5.iloc[i,4]!= sensorama2_5.iloc[i-1,4]:\n",
    "        count = count +1\n",
    "print(count)"
   ]
  },
  {
   "cell_type": "code",
   "execution_count": 99,
   "metadata": {},
   "outputs": [],
   "source": [
    "X = sensorama2_5[[ 'xlogp','fsp3', 'small rings','arom rings','ring blocks','arom blocks','rings 3','rings 4', 'rings 5', 'rings 6',\n",
    "               'rings 7', 'rings 8', 'rings 9', 'tpsa efficiency', 'zagreb indices', 'weiner path', 'weiner polarity', 'wtpt.1',\n",
    "               'wtpt.2', 'wtpt.3', 'wtpt.4', 'wtpt.5', 'molecular weight', 'VAdjMat', 'topoPSA', 'lipinski failures', 'rotatable bonds',\n",
    "               'topo shape', 'petitjean number', 'mdec.11', 'mdec.12', 'mdec.13', 'mdec.14', 'mdec.22', 'mdec.23', 'mdec.24',\n",
    "               'mdec.33', 'mdec.34', 'mdec.44', 'mdeo.11', 'mdeo.12', 'mdeo.22', 'mden.11', 'mden.12', 'mden.13', 'mden.22',\n",
    "               'mden.23', 'mden.33', 'mlogp', 'atom p', 'atom lc', 'khs.sli', 'khs.ssbe', 'khs.ssssbe', 'khs.ssbh', 'khs.sssb',\n",
    "               'khs.ssssb', 'khs.sch3', 'khs.dch2', 'khs.ssch2', 'khs.tch', 'khs.dsch', 'khs.aach', 'khs.sssch', 'khs.ddc',\n",
    "               'khs.tsc', 'khs.dssc', 'khs.aasc', 'khs.aaac', 'khs.ssssc', 'khs.snh3', 'khs.snh2', 'khs.ssnh', 'khs.dnh', 'khs.ssnh.1',\n",
    "               'khs.aanh', 'khs.tn', 'khs.sssnh', 'khs.dsn', 'khs.aan', 'khs.sssn', 'khs.dsn.1', 'khs.aasn', 'khs.ssssn', 'khs.soh',\n",
    "               'khs.do', 'khs.sso', 'khs.aao', 'khs.sf', 'khs.ssih3', 'khs.sssih2', 'khs.ssssih', 'khs.sssssi', 'khs.sph2',\n",
    "               'khs.ssph', 'khs.sssp', 'khs.dsssp', 'khs.sssssp', 'khs.ssh', 'khs.ds', 'khs.sss', 'khs.aas', 'khs.dsss', 'khs.ddsss',\n",
    "               'khs.scl', 'khs.sGeH3', 'khs.ssGeH2', 'khs.sssGeH', 'khs.ssssGe', 'khs.sash2', 'khs.ssash', 'khs.sssas', 'khs.sssdas',\n",
    "               'khs.sssssas', 'khs.sseh', 'khs.dse', 'khs.ssse', 'khs.aase', 'khs.dssse', 'khs.ddssse', 'khs.sbr', 'khs.ssnh3', \n",
    "               'khs.sssnh2', 'khs.ssssnh', 'khs.sssssn', 'khs.si', 'khs.spbh3', 'khs.sspbh2', 'khs.ssspbh', 'khs.sssspb', 'kier 1',\n",
    "               'kier 2', 'hybRatio', 'hbdon', 'hbacc', 'fragc', 'fmf', 'eccen', 'SP.0', 'SP.1', 'SP.2', 'SP.3', 'SP.4', 'SP.5', 'SP.6',\n",
    "               'SP.7', 'VP.0', 'VP.1', 'VP.2', 'VP.3', 'VP.4', 'VP.5', 'VP.6', 'VP.7', 'SPC.4', 'SPC.5', 'SPC.6', 'VPC.4', 'VPC.5',\n",
    "               'VPC.6', 'SC.3', 'SC.4', 'SC.5', 'SC.6', 'VC.3', 'VC.4', 'VC.5', 'VC.6', 'SCH.3', 'SCH.4', 'SCH.5', 'SCH.6', 'SCH.7',\n",
    "               'VCH.3', 'VCH.4', 'VCH.3', 'VCH.4', 'VCH.5', 'VCH.6', 'VCH.7', 'C1SP1', 'C2SP1', 'C1SP2', 'C2SP2', 'C3SP2', 'C1SP3',\n",
    "               'C2SP3', 'C3SP3', 'C4SP3', 'bpol', 'bond count', 'basic group count', 'atsp1', 'atsp2' , 'atsp3', 'atsp4', 'atsp5',\n",
    "               'atsm1', 'atsm2','atsm3','atsm4','atsm5', 'natom','arom bond', 'arom atom', 'apol','alogp', 'alogp2', 'amr', 'acid']]\n",
    "y = sensorama2_5['odor name']"
   ]
  },
  {
   "cell_type": "markdown",
   "metadata": {},
   "source": [
    "#### RANDOM FOREST"
   ]
  },
  {
   "cell_type": "code",
   "execution_count": 100,
   "metadata": {},
   "outputs": [
    {
     "name": "stdout",
     "output_type": "stream",
     "text": [
      "Accuracy:  31.03448275862069 %\n"
     ]
    },
    {
     "data": {
      "image/png": "[encoded data removed]",
      "text/plain": [
       "<Figure size 432x288 with 2 Axes>"
      ]
     },
     "metadata": {
      "needs_background": "light"
     },
     "output_type": "display_data"
    }
   ],
   "source": [
    "X_train,X_test,y_train,y_test = train_test_split(X,y,test_size=0.25,random_state=0)\n",
    "sc_X = StandardScaler()\n",
    "X_train = sc_X.fit_transform(X_train)\n",
    "X_test = sc_X.transform(X_test)\n",
    "clf = RandomForestClassifier(n_estimators=100)\n",
    "clf.fit(X_train,y_train)\n",
    "y_pred=clf.predict(X_test)\n",
    "confusion_matrix = pd.crosstab(y_test, y_pred, rownames=['Actual'], colnames=['Predicted'])\n",
    "sns.heatmap(confusion_matrix, annot=True)\n",
    "print('Accuracy: ',metrics.accuracy_score(y_test, y_pred)*100,'%')\n",
    "plt.show()"
   ]
  },
  {
   "cell_type": "markdown",
   "metadata": {},
   "source": [
    "##### Feature Importances "
   ]
  },
  {
   "cell_type": "code",
   "execution_count": 101,
   "metadata": {},
   "outputs": [
    {
     "data": {
      "image/png": "[encoded data removed]",
      "text/plain": [
       "<Figure size 432x288 with 1 Axes>"
      ]
     },
     "metadata": {
      "needs_background": "light"
     },
     "output_type": "display_data"
    }
   ],
   "source": [
    "featureImportances = pd.Series(clf.feature_importances_).sort_values(ascending=False)\n",
    "sns.barplot(x=round(featureImportances,8), y=featureImportances)\n",
    "plt.xlabel('Features Importance')\n",
    "plt.show()"
   ]
  },
  {
   "cell_type": "code",
   "execution_count": 103,
   "metadata": {},
   "outputs": [],
   "source": [
    "X = sensorama2_5[[ 'xlogp','fsp3', 'small rings','arom rings','ring blocks','arom blocks','rings 3','rings 4', 'rings 5', 'rings 6',\n",
    "               'rings 7', 'tpsa efficiency', 'zagreb indices', 'weiner path', 'weiner polarity', 'wtpt.1',\n",
    "               'wtpt.2', 'wtpt.3', 'wtpt.4', 'wtpt.5', 'molecular weight', 'VAdjMat', 'topoPSA', 'lipinski failures', 'rotatable bonds',\n",
    "               'topo shape', 'petitjean number', 'mdec.11', 'mdec.12', 'mdec.13', 'mdec.14', 'mdec.22', 'mdec.23', 'mdec.24',\n",
    "               'mdec.33', 'mdec.34', 'mdec.44', 'mdeo.11', 'mdeo.12', 'mdeo.22', 'mden.22',\n",
    "               'mden.23', 'mlogp', 'atom p', 'atom lc',\n",
    "                  'khs.sch3', 'khs.dch2', 'khs.ssch2','khs.dsch', 'khs.aach', 'khs.sssch', 'khs.ddc',\n",
    "               'khs.tsc', 'khs.dssc', 'khs.aasc', 'khs.aaac', 'khs.ssssc', 'khs.snh2', 'khs.ssnh.1',\n",
    "               'khs.tn', 'khs.dsn', 'khs.aan', 'khs.sssn', 'khs.dsn.1', 'khs.aasn', 'khs.soh',\n",
    "               'khs.do', 'khs.sso', 'khs.aao','khs.ssh', 'khs.ds', 'khs.sss', 'khs.aas', 'khs.dsss','kier 1',\n",
    "               'kier 2', 'hybRatio', 'hbdon', 'hbacc', 'fragc', 'fmf', 'eccen', 'SP.0', 'SP.1', 'SP.2', 'SP.3', 'SP.4', 'SP.5', 'SP.6',\n",
    "               'SP.7', 'VP.0', 'VP.1', 'VP.2', 'VP.3', 'VP.4', 'VP.5', 'VP.6', 'VP.7', 'SPC.4', 'SPC.5', 'SPC.6', 'VPC.4', 'VPC.5',\n",
    "               'VPC.6', 'SC.3', 'SC.4', 'SC.5', 'SC.6', 'VC.3', 'VC.4', 'VC.5', 'VC.6', 'SCH.3', 'SCH.4', 'SCH.5', 'SCH.6', 'SCH.7',\n",
    "               'VCH.3', 'VCH.4', 'VCH.3', 'VCH.4', 'VCH.5', 'VCH.6', 'VCH.7', 'C1SP1', 'C2SP1', 'C1SP2', 'C2SP2', 'C3SP2', 'C1SP3',\n",
    "               'C2SP3', 'C3SP3', 'C4SP3', 'bpol', 'bond count', 'atsp1', 'atsp2' , 'atsp3', 'atsp4', 'atsp5',\n",
    "               'atsm1', 'atsm2','atsm3','atsm4','atsm5', 'natom', 'apol','alogp', 'alogp2', 'amr', 'acid']]\n",
    "y = sensorama2_5['odor name']"
   ]
  },
  {
   "cell_type": "code",
   "execution_count": 104,
   "metadata": {},
   "outputs": [
    {
     "name": "stdout",
     "output_type": "stream",
     "text": [
      "Accuracy:  34.48275862068966 %\n"
     ]
    },
    {
     "data": {
      "image/png": "[encoded data removed]",
      "text/plain": [
       "<Figure size 432x288 with 2 Axes>"
      ]
     },
     "metadata": {
      "needs_background": "light"
     },
     "output_type": "display_data"
    }
   ],
   "source": [
    "X_train,X_test,y_train,y_test = train_test_split(X,y,test_size=0.25,random_state=0)\n",
    "sc_X = StandardScaler()\n",
    "X_train = sc_X.fit_transform(X_train)\n",
    "X_test = sc_X.transform(X_test)\n",
    "clf = RandomForestClassifier(n_estimators=100)\n",
    "clf.fit(X_train,y_train)\n",
    "y_pred=clf.predict(X_test)\n",
    "confusion_matrix = pd.crosstab(y_test, y_pred, rownames=['Actual'], colnames=['Predicted'])\n",
    "sns.heatmap(confusion_matrix, annot=True)\n",
    "print('Accuracy: ',metrics.accuracy_score(y_test, y_pred)*100,'%')\n",
    "plt.show()"
   ]
  },
  {
   "cell_type": "markdown",
   "metadata": {},
   "source": [
    "#### SUPPORT VECTOR MACHINE "
   ]
  },
  {
   "cell_type": "markdown",
   "metadata": {},
   "source": [
    "##### rbf Kernel "
   ]
  },
  {
   "cell_type": "code",
   "execution_count": 105,
   "metadata": {},
   "outputs": [
    {
     "name": "stdout",
     "output_type": "stream",
     "text": [
      "Accuracy: 37.93103448275862 %\n"
     ]
    }
   ],
   "source": [
    "X_tr, X_tst, y_tr, y_tst = train_test_split(X, y, test_size=25/100,random_state=109)\n",
    "clf = svm.SVC(kernel='rbf') # creating Support Vector Machine model\n",
    "clf.fit(X_tr, y_tr) # training the Model\n",
    "y_pr = clf.predict(X_tst) # making Predictions\n",
    "\n",
    "# Evaluating Prediction Accuracy\n",
    "print(\"Accuracy:\",metrics.accuracy_score(y_tst, y_pr)*100,\"%\")"
   ]
  },
  {
   "cell_type": "markdown",
   "metadata": {},
   "source": [
    "##### Polynomial Kernel\n"
   ]
  },
  {
   "cell_type": "code",
   "execution_count": 106,
   "metadata": {},
   "outputs": [
    {
     "name": "stdout",
     "output_type": "stream",
     "text": [
      "Accuracy: 43.103448275862064 %\n"
     ]
    }
   ],
   "source": [
    "X_tr, X_tst, y_tr, y_tst = train_test_split(X, y, test_size=25/100,random_state=109)\n",
    "clf = svm.SVC(kernel='poly') # Creating Support Vector Machine Model\n",
    "clf.fit(X_tr,y_tr) # fit classifier to training set\n",
    "y_pr = clf.predict(X_tst) # Making Predictions\n",
    "\n",
    "# Evaluating Prediction Accuracy\n",
    "print(\"Accuracy:\",metrics.accuracy_score(y_tst, y_pr)*100,\"%\")"
   ]
  },
  {
   "cell_type": "markdown",
   "metadata": {},
   "source": [
    "##### Sigmoid Kernel "
   ]
  },
  {
   "cell_type": "code",
   "execution_count": 107,
   "metadata": {},
   "outputs": [
    {
     "name": "stdout",
     "output_type": "stream",
     "text": [
      "Accuracy: 41.37931034482759 %\n"
     ]
    }
   ],
   "source": [
    "X_tr, X_tst, y_tr, y_tst = train_test_split(X, y, test_size=25/100,random_state=109)\n",
    "clf=svm.SVC(kernel='sigmoid') # instantiate classifier with sigmoid kernel\n",
    "clf.fit(X_tr,y_tr) # fit classifier to training set\n",
    "y_pr = clf.predict(X_tst) # Making Predictions\n",
    "\n",
    "# Evaluating Prediction Accuracy\n",
    "print(\"Accuracy:\",metrics.accuracy_score(y_tst, y_pr)*100,\"%\")"
   ]
  },
  {
   "cell_type": "markdown",
   "metadata": {},
   "source": [
    "#### DECISION TREE"
   ]
  },
  {
   "cell_type": "code",
   "execution_count": 108,
   "metadata": {},
   "outputs": [
    {
     "name": "stdout",
     "output_type": "stream",
     "text": [
      "Accuracy: 35.714285714285715 %\n"
     ]
    }
   ],
   "source": [
    "# Split dataset into training set and test set\n",
    "X_train, X_test, y_train, y_test = train_test_split(X, y, test_size=0.3, random_state=1) # 70% training and 30% test\n",
    "clf = DecisionTreeClassifier() # Create Decision Tree classifer object\n",
    "clf = clf.fit(X_train,y_train) # Train Decision Tree Classifer\n",
    "y_pred = clf.predict(X_test) # Predict the response for test dataset\n",
    "\n",
    "# how often is the classifier correct?\n",
    "print(\"Accuracy:\",metrics.accuracy_score(y_test, y_pred)*100,\"%\")"
   ]
  },
  {
   "cell_type": "markdown",
   "metadata": {},
   "source": [
    "#### LOGISTIC REGRESSION "
   ]
  },
  {
   "cell_type": "code",
   "execution_count": 109,
   "metadata": {},
   "outputs": [
    {
     "name": "stdout",
     "output_type": "stream",
     "text": [
      "Accuracy:  25.862068965517242 %\n"
     ]
    }
   ],
   "source": [
    "X_train,X_test,y_train,y_test = train_test_split(X,y,test_size=0.25,random_state=0)\n",
    "clf= LogisticRegression( max_iter=100000000)\n",
    "clf.fit(X_train,y_train)\n",
    "y_pred=clf.predict(X_test)\n",
    "print('Accuracy: ',metrics.accuracy_score(y_test, y_pred)*100,'%')"
   ]
  },
  {
   "cell_type": "markdown",
   "metadata": {},
   "source": [
    "#### K-Nearest Neighbor "
   ]
  },
  {
   "cell_type": "code",
   "execution_count": 110,
   "metadata": {},
   "outputs": [
    {
     "data": {
      "text/plain": [
       "Text(0, 0.5, 'Accuracy')"
      ]
     },
     "execution_count": 110,
     "metadata": {},
     "output_type": "execute_result"
    },
    {
     "data": {
      "image/png": "[encoded data removed]",
      "text/plain": [
       "<Figure size 864x432 with 1 Axes>"
      ]
     },
     "metadata": {
      "needs_background": "light"
     },
     "output_type": "display_data"
    }
   ],
   "source": [
    "# Split data into training and testing sets.\n",
    "X_train, X_test, y_train, y_test = train_test_split(X, y, random_state=42)\n",
    "accuracy=[]\n",
    "for i in range(1,21):\n",
    "    clf = KNeighborsClassifier(n_neighbors=i)\n",
    "    clf.fit(X_train, y_train)\n",
    "    ypred = clf.predict(X_test)\n",
    "    accuracy.append(metrics.accuracy_score(y_test, ypred))\n",
    "plt.figure(figsize=(12, 6))\n",
    "plt.plot(range(1, 21), accuracy, color='orange', linestyle='dashed', marker='o',\n",
    "         markerfacecolor='green', markersize=10)\n",
    "plt.title('Looking for the most accurate k value')\n",
    "plt.xlabel('K Value')\n",
    "plt.ylabel('Accuracy')"
   ]
  },
  {
   "cell_type": "code",
   "execution_count": 111,
   "metadata": {
    "scrolled": true
   },
   "outputs": [
    {
     "name": "stdout",
     "output_type": "stream",
     "text": [
      "Accuracy: 34.48275862068966 %\n"
     ]
    }
   ],
   "source": [
    "clf = KNeighborsClassifier(n_neighbors=1)\n",
    "clf.fit(X_train, y_train)\n",
    "ypred = clf.predict(X_test)\n",
    "\n",
    "# Best accuracy\n",
    "print(\"Accuracy:\",metrics.accuracy_score(y_test, ypred)*100,\"%\")"
   ]
  },
  {
   "cell_type": "markdown",
   "metadata": {},
   "source": [
    "### 3 MOST COMMON ODOR NAMES "
   ]
  },
  {
   "cell_type": "code",
   "execution_count": 112,
   "metadata": {},
   "outputs": [],
   "source": [
    "sensorama_5 = sensorama_5 .sort_values('odor name')"
   ]
  },
  {
   "cell_type": "code",
   "execution_count": 126,
   "metadata": {},
   "outputs": [
    {
     "data": {
      "text/html": [
       "<div>\n",
       "<style scoped>\n",
       "    .dataframe tbody tr th:only-of-type {\n",
       "        vertical-align: middle;\n",
       "    }\n",
       "\n",
       "    .dataframe tbody tr th {\n",
       "        vertical-align: top;\n",
       "    }\n",
       "\n",
       "    .dataframe thead th {\n",
       "        text-align: right;\n",
       "    }\n",
       "</style>\n",
       "<table border=\"1\" class=\"dataframe\">\n",
       "  <thead>\n",
       "    <tr style=\"text-align: right;\">\n",
       "      <th></th>\n",
       "      <th>cid</th>\n",
       "      <th>canonical_smiles</th>\n",
       "      <th>xlogp</th>\n",
       "      <th>odor level</th>\n",
       "      <th>odor name</th>\n",
       "      <th>fsp3</th>\n",
       "      <th>small rings</th>\n",
       "      <th>arom rings</th>\n",
       "      <th>ring blocks</th>\n",
       "      <th>arom blocks</th>\n",
       "      <th>...</th>\n",
       "      <th>atsm4</th>\n",
       "      <th>atsm5</th>\n",
       "      <th>natom</th>\n",
       "      <th>arom bond</th>\n",
       "      <th>arom atom</th>\n",
       "      <th>apol</th>\n",
       "      <th>alogp</th>\n",
       "      <th>alogp2</th>\n",
       "      <th>amr</th>\n",
       "      <th>acid</th>\n",
       "    </tr>\n",
       "  </thead>\n",
       "  <tbody>\n",
       "    <tr>\n",
       "      <td>4358</td>\n",
       "      <td>19309.000000</td>\n",
       "      <td>1471.000000</td>\n",
       "      <td>-1.460780</td>\n",
       "      <td>5.000000</td>\n",
       "      <td>200.000000</td>\n",
       "      <td>-0.519433</td>\n",
       "      <td>0.200130</td>\n",
       "      <td>-0.631781</td>\n",
       "      <td>0.632666</td>\n",
       "      <td>-0.644741</td>\n",
       "      <td>...</td>\n",
       "      <td>-0.022527</td>\n",
       "      <td>-1.152672</td>\n",
       "      <td>-1.259267</td>\n",
       "      <td>0.000000</td>\n",
       "      <td>0.000000</td>\n",
       "      <td>-1.325868</td>\n",
       "      <td>-1.790619</td>\n",
       "      <td>-0.873353</td>\n",
       "      <td>-1.260575</td>\n",
       "      <td>-0.161598</td>\n",
       "    </tr>\n",
       "    <tr>\n",
       "      <td>4729</td>\n",
       "      <td>22873.000000</td>\n",
       "      <td>2946.000000</td>\n",
       "      <td>1.111444</td>\n",
       "      <td>5.000000</td>\n",
       "      <td>200.000000</td>\n",
       "      <td>1.040647</td>\n",
       "      <td>-0.878056</td>\n",
       "      <td>-0.631781</td>\n",
       "      <td>-1.106175</td>\n",
       "      <td>-0.644741</td>\n",
       "      <td>...</td>\n",
       "      <td>-0.205428</td>\n",
       "      <td>0.096307</td>\n",
       "      <td>0.969011</td>\n",
       "      <td>0.000000</td>\n",
       "      <td>0.000000</td>\n",
       "      <td>0.785612</td>\n",
       "      <td>1.282896</td>\n",
       "      <td>1.126953</td>\n",
       "      <td>0.430014</td>\n",
       "      <td>-0.161598</td>\n",
       "    </tr>\n",
       "    <tr>\n",
       "      <td>13762</td>\n",
       "      <td>5283316.000000</td>\n",
       "      <td>2434.000000</td>\n",
       "      <td>-0.487506</td>\n",
       "      <td>5.000000</td>\n",
       "      <td>200.000000</td>\n",
       "      <td>-0.252119</td>\n",
       "      <td>-0.878056</td>\n",
       "      <td>-0.631781</td>\n",
       "      <td>-1.106175</td>\n",
       "      <td>-0.644741</td>\n",
       "      <td>...</td>\n",
       "      <td>-1.310557</td>\n",
       "      <td>-1.056392</td>\n",
       "      <td>-0.940942</td>\n",
       "      <td>0.000000</td>\n",
       "      <td>0.000000</td>\n",
       "      <td>-1.034038</td>\n",
       "      <td>-0.113096</td>\n",
       "      <td>-0.308748</td>\n",
       "      <td>-1.074898</td>\n",
       "      <td>-0.161598</td>\n",
       "    </tr>\n",
       "    <tr>\n",
       "      <td>5141</td>\n",
       "      <td>28151.000000</td>\n",
       "      <td>2926.000000</td>\n",
       "      <td>0.555287</td>\n",
       "      <td>5.000000</td>\n",
       "      <td>200.000000</td>\n",
       "      <td>0.331554</td>\n",
       "      <td>-0.878056</td>\n",
       "      <td>-0.631781</td>\n",
       "      <td>-1.106175</td>\n",
       "      <td>-0.644741</td>\n",
       "      <td>...</td>\n",
       "      <td>0.024573</td>\n",
       "      <td>-0.047847</td>\n",
       "      <td>0.438469</td>\n",
       "      <td>0.000000</td>\n",
       "      <td>0.000000</td>\n",
       "      <td>0.327989</td>\n",
       "      <td>0.943423</td>\n",
       "      <td>0.697091</td>\n",
       "      <td>0.184547</td>\n",
       "      <td>-0.161598</td>\n",
       "    </tr>\n",
       "    <tr>\n",
       "      <td>1375</td>\n",
       "      <td>7704.000000</td>\n",
       "      <td>2420.000000</td>\n",
       "      <td>-0.835104</td>\n",
       "      <td>5.000000</td>\n",
       "      <td>200.000000</td>\n",
       "      <td>0.884527</td>\n",
       "      <td>0.200130</td>\n",
       "      <td>-0.631781</td>\n",
       "      <td>0.632666</td>\n",
       "      <td>-0.644741</td>\n",
       "      <td>...</td>\n",
       "      <td>-0.804146</td>\n",
       "      <td>-0.720210</td>\n",
       "      <td>-0.516508</td>\n",
       "      <td>0.000000</td>\n",
       "      <td>0.000000</td>\n",
       "      <td>-0.631355</td>\n",
       "      <td>-0.249038</td>\n",
       "      <td>-0.401680</td>\n",
       "      <td>-0.909065</td>\n",
       "      <td>-0.161598</td>\n",
       "    </tr>\n",
       "    <tr>\n",
       "      <td>...</td>\n",
       "      <td>...</td>\n",
       "      <td>...</td>\n",
       "      <td>...</td>\n",
       "      <td>...</td>\n",
       "      <td>...</td>\n",
       "      <td>...</td>\n",
       "      <td>...</td>\n",
       "      <td>...</td>\n",
       "      <td>...</td>\n",
       "      <td>...</td>\n",
       "      <td>...</td>\n",
       "      <td>...</td>\n",
       "      <td>...</td>\n",
       "      <td>...</td>\n",
       "      <td>...</td>\n",
       "      <td>...</td>\n",
       "      <td>...</td>\n",
       "      <td>...</td>\n",
       "      <td>...</td>\n",
       "      <td>...</td>\n",
       "      <td>...</td>\n",
       "    </tr>\n",
       "    <tr>\n",
       "      <td>15037</td>\n",
       "      <td>5367807.000000</td>\n",
       "      <td>1731.000000</td>\n",
       "      <td>0.068650</td>\n",
       "      <td>5.000000</td>\n",
       "      <td>494.000000</td>\n",
       "      <td>0.104674</td>\n",
       "      <td>-0.878056</td>\n",
       "      <td>-0.631781</td>\n",
       "      <td>-1.106175</td>\n",
       "      <td>-0.644741</td>\n",
       "      <td>...</td>\n",
       "      <td>-0.205953</td>\n",
       "      <td>-0.384029</td>\n",
       "      <td>-0.198182</td>\n",
       "      <td>0.000000</td>\n",
       "      <td>0.000000</td>\n",
       "      <td>-0.311574</td>\n",
       "      <td>0.215275</td>\n",
       "      <td>-0.049952</td>\n",
       "      <td>-0.425995</td>\n",
       "      <td>-0.161598</td>\n",
       "    </tr>\n",
       "    <tr>\n",
       "      <td>2432</td>\n",
       "      <td>8888.000000</td>\n",
       "      <td>388.000000</td>\n",
       "      <td>1.250483</td>\n",
       "      <td>5.000000</td>\n",
       "      <td>494.000000</td>\n",
       "      <td>-0.145044</td>\n",
       "      <td>-0.878056</td>\n",
       "      <td>-0.631781</td>\n",
       "      <td>-1.106175</td>\n",
       "      <td>-0.644741</td>\n",
       "      <td>...</td>\n",
       "      <td>0.255597</td>\n",
       "      <td>0.240994</td>\n",
       "      <td>1.393445</td>\n",
       "      <td>0.000000</td>\n",
       "      <td>0.000000</td>\n",
       "      <td>1.386350</td>\n",
       "      <td>1.466304</td>\n",
       "      <td>1.380784</td>\n",
       "      <td>1.417374</td>\n",
       "      <td>-0.161598</td>\n",
       "    </tr>\n",
       "    <tr>\n",
       "      <td>10256</td>\n",
       "      <td>109417.000000</td>\n",
       "      <td>1514.000000</td>\n",
       "      <td>-0.487506</td>\n",
       "      <td>5.000000</td>\n",
       "      <td>494.000000</td>\n",
       "      <td>0.331554</td>\n",
       "      <td>0.200130</td>\n",
       "      <td>-0.631781</td>\n",
       "      <td>0.632666</td>\n",
       "      <td>-0.644741</td>\n",
       "      <td>...</td>\n",
       "      <td>0.393802</td>\n",
       "      <td>0.336741</td>\n",
       "      <td>0.120143</td>\n",
       "      <td>0.000000</td>\n",
       "      <td>0.000000</td>\n",
       "      <td>0.107235</td>\n",
       "      <td>-0.042453</td>\n",
       "      <td>-0.257171</td>\n",
       "      <td>-0.029639</td>\n",
       "      <td>-0.161598</td>\n",
       "    </tr>\n",
       "    <tr>\n",
       "      <td>13040</td>\n",
       "      <td>1268142.000000</td>\n",
       "      <td>1535.000000</td>\n",
       "      <td>0.763846</td>\n",
       "      <td>5.000000</td>\n",
       "      <td>494.000000</td>\n",
       "      <td>0.104674</td>\n",
       "      <td>1.278317</td>\n",
       "      <td>-0.631781</td>\n",
       "      <td>0.632666</td>\n",
       "      <td>-0.644741</td>\n",
       "      <td>...</td>\n",
       "      <td>1.914058</td>\n",
       "      <td>1.489973</td>\n",
       "      <td>0.969011</td>\n",
       "      <td>0.000000</td>\n",
       "      <td>0.000000</td>\n",
       "      <td>1.110645</td>\n",
       "      <td>0.806995</td>\n",
       "      <td>0.538945</td>\n",
       "      <td>1.033784</td>\n",
       "      <td>-0.161598</td>\n",
       "    </tr>\n",
       "    <tr>\n",
       "      <td>7633</td>\n",
       "      <td>67179.000000</td>\n",
       "      <td>413.000000</td>\n",
       "      <td>-0.070389</td>\n",
       "      <td>5.000000</td>\n",
       "      <td>494.000000</td>\n",
       "      <td>-0.145044</td>\n",
       "      <td>-0.878056</td>\n",
       "      <td>-0.631781</td>\n",
       "      <td>-1.106175</td>\n",
       "      <td>-0.644741</td>\n",
       "      <td>...</td>\n",
       "      <td>-0.573634</td>\n",
       "      <td>-0.623930</td>\n",
       "      <td>0.014035</td>\n",
       "      <td>0.000000</td>\n",
       "      <td>0.000000</td>\n",
       "      <td>-0.074694</td>\n",
       "      <td>0.198759</td>\n",
       "      <td>-0.064131</td>\n",
       "      <td>-0.140032</td>\n",
       "      <td>-0.161598</td>\n",
       "    </tr>\n",
       "  </tbody>\n",
       "</table>\n",
       "<p>111 rows × 212 columns</p>\n",
       "</div>"
      ],
      "text/plain": [
       "                 cid  canonical_smiles     xlogp  odor level  odor name  \\\n",
       "4358    19309.000000       1471.000000 -1.460780    5.000000 200.000000   \n",
       "4729    22873.000000       2946.000000  1.111444    5.000000 200.000000   \n",
       "13762 5283316.000000       2434.000000 -0.487506    5.000000 200.000000   \n",
       "5141    28151.000000       2926.000000  0.555287    5.000000 200.000000   \n",
       "1375     7704.000000       2420.000000 -0.835104    5.000000 200.000000   \n",
       "...              ...               ...       ...         ...        ...   \n",
       "15037 5367807.000000       1731.000000  0.068650    5.000000 494.000000   \n",
       "2432     8888.000000        388.000000  1.250483    5.000000 494.000000   \n",
       "10256  109417.000000       1514.000000 -0.487506    5.000000 494.000000   \n",
       "13040 1268142.000000       1535.000000  0.763846    5.000000 494.000000   \n",
       "7633    67179.000000        413.000000 -0.070389    5.000000 494.000000   \n",
       "\n",
       "           fsp3  small rings  arom rings  ring blocks  arom blocks  ...  \\\n",
       "4358  -0.519433     0.200130   -0.631781     0.632666    -0.644741  ...   \n",
       "4729   1.040647    -0.878056   -0.631781    -1.106175    -0.644741  ...   \n",
       "13762 -0.252119    -0.878056   -0.631781    -1.106175    -0.644741  ...   \n",
       "5141   0.331554    -0.878056   -0.631781    -1.106175    -0.644741  ...   \n",
       "1375   0.884527     0.200130   -0.631781     0.632666    -0.644741  ...   \n",
       "...         ...          ...         ...          ...          ...  ...   \n",
       "15037  0.104674    -0.878056   -0.631781    -1.106175    -0.644741  ...   \n",
       "2432  -0.145044    -0.878056   -0.631781    -1.106175    -0.644741  ...   \n",
       "10256  0.331554     0.200130   -0.631781     0.632666    -0.644741  ...   \n",
       "13040  0.104674     1.278317   -0.631781     0.632666    -0.644741  ...   \n",
       "7633  -0.145044    -0.878056   -0.631781    -1.106175    -0.644741  ...   \n",
       "\n",
       "          atsm4     atsm5     natom  arom bond  arom atom      apol     alogp  \\\n",
       "4358  -0.022527 -1.152672 -1.259267   0.000000   0.000000 -1.325868 -1.790619   \n",
       "4729  -0.205428  0.096307  0.969011   0.000000   0.000000  0.785612  1.282896   \n",
       "13762 -1.310557 -1.056392 -0.940942   0.000000   0.000000 -1.034038 -0.113096   \n",
       "5141   0.024573 -0.047847  0.438469   0.000000   0.000000  0.327989  0.943423   \n",
       "1375  -0.804146 -0.720210 -0.516508   0.000000   0.000000 -0.631355 -0.249038   \n",
       "...         ...       ...       ...        ...        ...       ...       ...   \n",
       "15037 -0.205953 -0.384029 -0.198182   0.000000   0.000000 -0.311574  0.215275   \n",
       "2432   0.255597  0.240994  1.393445   0.000000   0.000000  1.386350  1.466304   \n",
       "10256  0.393802  0.336741  0.120143   0.000000   0.000000  0.107235 -0.042453   \n",
       "13040  1.914058  1.489973  0.969011   0.000000   0.000000  1.110645  0.806995   \n",
       "7633  -0.573634 -0.623930  0.014035   0.000000   0.000000 -0.074694  0.198759   \n",
       "\n",
       "         alogp2       amr      acid  \n",
       "4358  -0.873353 -1.260575 -0.161598  \n",
       "4729   1.126953  0.430014 -0.161598  \n",
       "13762 -0.308748 -1.074898 -0.161598  \n",
       "5141   0.697091  0.184547 -0.161598  \n",
       "1375  -0.401680 -0.909065 -0.161598  \n",
       "...         ...       ...       ...  \n",
       "15037 -0.049952 -0.425995 -0.161598  \n",
       "2432   1.380784  1.417374 -0.161598  \n",
       "10256 -0.257171 -0.029639 -0.161598  \n",
       "13040  0.538945  1.033784 -0.161598  \n",
       "7633  -0.064131 -0.140032 -0.161598  \n",
       "\n",
       "[111 rows x 212 columns]"
      ]
     },
     "execution_count": 126,
     "metadata": {},
     "output_type": "execute_result"
    }
   ],
   "source": [
    "sensorama2_5=[]\n",
    "\n",
    "for i in range(47, len(sensorama_5)-47):\n",
    "    if sensorama_5.iloc[i,4] == sensorama_5.iloc[i+47,4] or sensorama_5.iloc[i,4] == sensorama_5.iloc[i-47,4]:\n",
    "        sensorama2_5.append(sensorama_5.iloc[i,:]) \n",
    "\n",
    "sensorama2_5= pd.DataFrame(sensorama2_5)\n",
    "sensorama2_5"
   ]
  },
  {
   "cell_type": "code",
   "execution_count": 127,
   "metadata": {},
   "outputs": [
    {
     "name": "stdout",
     "output_type": "stream",
     "text": [
      "3\n"
     ]
    }
   ],
   "source": [
    "count=0\n",
    "for i in range(1, len(sensorama2_5)):\n",
    "    if sensorama2_5.iloc[i,4]!= sensorama2_5.iloc[i-1,4]:\n",
    "        count = count +1\n",
    "print(count)"
   ]
  },
  {
   "cell_type": "code",
   "execution_count": 128,
   "metadata": {},
   "outputs": [],
   "source": [
    "X = sensorama2_5[[ 'xlogp','fsp3', 'small rings','arom rings','ring blocks','arom blocks','rings 3','rings 4', 'rings 5', 'rings 6',\n",
    "               'rings 7', 'rings 8', 'rings 9', 'tpsa efficiency', 'zagreb indices', 'weiner path', 'weiner polarity', 'wtpt.1',\n",
    "               'wtpt.2', 'wtpt.3', 'wtpt.4', 'wtpt.5', 'molecular weight', 'VAdjMat', 'topoPSA', 'lipinski failures', 'rotatable bonds',\n",
    "               'topo shape', 'petitjean number', 'mdec.11', 'mdec.12', 'mdec.13', 'mdec.14', 'mdec.22', 'mdec.23', 'mdec.24',\n",
    "               'mdec.33', 'mdec.34', 'mdec.44', 'mdeo.11', 'mdeo.12', 'mdeo.22', 'mden.11', 'mden.12', 'mden.13', 'mden.22',\n",
    "               'mden.23', 'mden.33', 'mlogp', 'atom p', 'atom lc', 'khs.sli', 'khs.ssbe', 'khs.ssssbe', 'khs.ssbh', 'khs.sssb',\n",
    "               'khs.ssssb', 'khs.sch3', 'khs.dch2', 'khs.ssch2', 'khs.tch', 'khs.dsch', 'khs.aach', 'khs.sssch', 'khs.ddc',\n",
    "               'khs.tsc', 'khs.dssc', 'khs.aasc', 'khs.aaac', 'khs.ssssc', 'khs.snh3', 'khs.snh2', 'khs.ssnh', 'khs.dnh', 'khs.ssnh.1',\n",
    "               'khs.aanh', 'khs.tn', 'khs.sssnh', 'khs.dsn', 'khs.aan', 'khs.sssn', 'khs.dsn.1', 'khs.aasn', 'khs.ssssn', 'khs.soh',\n",
    "               'khs.do', 'khs.sso', 'khs.aao', 'khs.sf', 'khs.ssih3', 'khs.sssih2', 'khs.ssssih', 'khs.sssssi', 'khs.sph2',\n",
    "               'khs.ssph', 'khs.sssp', 'khs.dsssp', 'khs.sssssp', 'khs.ssh', 'khs.ds', 'khs.sss', 'khs.aas', 'khs.dsss', 'khs.ddsss',\n",
    "               'khs.scl', 'khs.sGeH3', 'khs.ssGeH2', 'khs.sssGeH', 'khs.ssssGe', 'khs.sash2', 'khs.ssash', 'khs.sssas', 'khs.sssdas',\n",
    "               'khs.sssssas', 'khs.sseh', 'khs.dse', 'khs.ssse', 'khs.aase', 'khs.dssse', 'khs.ddssse', 'khs.sbr', 'khs.ssnh3', \n",
    "               'khs.sssnh2', 'khs.ssssnh', 'khs.sssssn', 'khs.si', 'khs.spbh3', 'khs.sspbh2', 'khs.ssspbh', 'khs.sssspb', 'kier 1',\n",
    "               'kier 2', 'hybRatio', 'hbdon', 'hbacc', 'fragc', 'fmf', 'eccen', 'SP.0', 'SP.1', 'SP.2', 'SP.3', 'SP.4', 'SP.5', 'SP.6',\n",
    "               'SP.7', 'VP.0', 'VP.1', 'VP.2', 'VP.3', 'VP.4', 'VP.5', 'VP.6', 'VP.7', 'SPC.4', 'SPC.5', 'SPC.6', 'VPC.4', 'VPC.5',\n",
    "               'VPC.6', 'SC.3', 'SC.4', 'SC.5', 'SC.6', 'VC.3', 'VC.4', 'VC.5', 'VC.6', 'SCH.3', 'SCH.4', 'SCH.5', 'SCH.6', 'SCH.7',\n",
    "               'VCH.3', 'VCH.4', 'VCH.3', 'VCH.4', 'VCH.5', 'VCH.6', 'VCH.7', 'C1SP1', 'C2SP1', 'C1SP2', 'C2SP2', 'C3SP2', 'C1SP3',\n",
    "               'C2SP3', 'C3SP3', 'C4SP3', 'bpol', 'bond count', 'basic group count', 'atsp1', 'atsp2' , 'atsp3', 'atsp4', 'atsp5',\n",
    "               'atsm1', 'atsm2','atsm3','atsm4','atsm5', 'natom','arom bond', 'arom atom', 'apol','alogp', 'alogp2', 'amr', 'acid']]\n",
    "y = sensorama2_5['odor name']"
   ]
  },
  {
   "cell_type": "markdown",
   "metadata": {},
   "source": [
    "#### RANDOM FOREST"
   ]
  },
  {
   "cell_type": "code",
   "execution_count": 129,
   "metadata": {},
   "outputs": [
    {
     "name": "stdout",
     "output_type": "stream",
     "text": [
      "Accuracy:  50.0 %\n"
     ]
    },
    {
     "data": {
      "image/png": "[encoded data removed]",
      "text/plain": [
       "<Figure size 432x288 with 2 Axes>"
      ]
     },
     "metadata": {
      "needs_background": "light"
     },
     "output_type": "display_data"
    }
   ],
   "source": [
    "X_train,X_test,y_train,y_test = train_test_split(X,y,test_size=0.25,random_state=0)\n",
    "sc_X = StandardScaler()\n",
    "X_train = sc_X.fit_transform(X_train)\n",
    "X_test = sc_X.transform(X_test)\n",
    "clf = RandomForestClassifier(n_estimators=100)\n",
    "clf.fit(X_train,y_train)\n",
    "y_pred=clf.predict(X_test)\n",
    "confusion_matrix = pd.crosstab(y_test, y_pred, rownames=['Actual'], colnames=['Predicted'])\n",
    "sns.heatmap(confusion_matrix, annot=True)\n",
    "print('Accuracy: ',metrics.accuracy_score(y_test, y_pred)*100,'%')\n",
    "plt.show()"
   ]
  },
  {
   "cell_type": "markdown",
   "metadata": {},
   "source": [
    "##### Feature Importances "
   ]
  },
  {
   "cell_type": "code",
   "execution_count": 130,
   "metadata": {},
   "outputs": [
    {
     "data": {
      "image/png": "[encoded data removed]",
      "text/plain": [
       "<Figure size 432x288 with 1 Axes>"
      ]
     },
     "metadata": {
      "needs_background": "light"
     },
     "output_type": "display_data"
    }
   ],
   "source": [
    "featureImportances = pd.Series(clf.feature_importances_).sort_values(ascending=False)\n",
    "sns.barplot(x=round(featureImportances,8), y=featureImportances)\n",
    "plt.xlabel('Features Importance')\n",
    "plt.show()"
   ]
  },
  {
   "cell_type": "code",
   "execution_count": 132,
   "metadata": {},
   "outputs": [],
   "source": [
    "X = sensorama2_5[[ 'xlogp','fsp3', 'small rings','arom rings','ring blocks','arom blocks','rings 3','rings 4', 'rings 5', 'rings 6',\n",
    "               'rings 7', 'tpsa efficiency', 'zagreb indices', 'weiner path', 'weiner polarity', 'wtpt.1',\n",
    "               'wtpt.2', 'wtpt.3', 'wtpt.4', 'wtpt.5', 'molecular weight', 'VAdjMat', 'topoPSA', 'lipinski failures', 'rotatable bonds',\n",
    "               'topo shape', 'petitjean number', 'mdec.11', 'mdec.12', 'mdec.13', 'mdec.14', 'mdec.22', 'mdec.23', 'mdec.24',\n",
    "               'mdec.33', 'mdec.34', 'mdec.44', 'mdeo.11', 'mdeo.12', 'mdeo.22', 'mden.22',\n",
    "               'mden.23', 'mlogp', 'atom p', 'atom lc',\n",
    "                  'khs.sch3', 'khs.dch2', 'khs.ssch2','khs.dsch', 'khs.aach', 'khs.sssch', 'khs.ddc',\n",
    "               'khs.tsc', 'khs.dssc', 'khs.aasc', 'khs.aaac', 'khs.ssssc', 'khs.snh2', 'khs.ssnh.1',\n",
    "               'khs.tn', 'khs.dsn', 'khs.aan', 'khs.sssn', 'khs.dsn.1', 'khs.aasn', 'khs.soh',\n",
    "               'khs.do', 'khs.sso', 'khs.aao','khs.ssh', 'khs.ds', 'khs.sss', 'khs.aas', 'khs.dsss','kier 1',\n",
    "               'kier 2', 'hybRatio', 'hbdon', 'hbacc', 'fragc', 'fmf', 'eccen', 'SP.0', 'SP.1', 'SP.2', 'SP.3', 'SP.4', 'SP.5', 'SP.6',\n",
    "               'SP.7', 'VP.0', 'VP.1', 'VP.2', 'VP.3', 'VP.4', 'VP.5', 'VP.6', 'VP.7', 'SPC.4', 'SPC.5', 'SPC.6', 'VPC.4', 'VPC.5',\n",
    "               'VPC.6', 'SC.3', 'SC.4', 'SC.5', 'SC.6', 'VC.3', 'VC.4', 'VC.5', 'VC.6', 'SCH.3', 'SCH.4', 'SCH.5', 'SCH.6', 'SCH.7',\n",
    "               'VCH.3', 'VCH.4', 'VCH.3', 'VCH.4', 'VCH.5', 'VCH.6', 'VCH.7', 'C1SP1', 'C2SP1', 'C1SP2', 'C2SP2', 'C3SP2', 'C1SP3',\n",
    "               'C2SP3', 'C3SP3', 'C4SP3', 'bpol', 'bond count', 'atsp1', 'atsp2' , 'atsp3', 'atsp4', 'atsp5',\n",
    "               'atsm1', 'atsm2','atsm3','atsm4','atsm5', 'natom', 'apol','alogp', 'alogp2', 'amr', 'acid']]\n",
    "y = sensorama2_5['odor name']"
   ]
  },
  {
   "cell_type": "code",
   "execution_count": 133,
   "metadata": {},
   "outputs": [
    {
     "name": "stdout",
     "output_type": "stream",
     "text": [
      "Accuracy:  50.0 %\n"
     ]
    },
    {
     "data": {
      "image/png": "[encoded data removed]",
      "text/plain": [
       "<Figure size 432x288 with 2 Axes>"
      ]
     },
     "metadata": {
      "needs_background": "light"
     },
     "output_type": "display_data"
    }
   ],
   "source": [
    "X_train,X_test,y_train,y_test = train_test_split(X,y,test_size=0.25,random_state=0)\n",
    "sc_X = StandardScaler()\n",
    "X_train = sc_X.fit_transform(X_train)\n",
    "X_test = sc_X.transform(X_test)\n",
    "clf = RandomForestClassifier(n_estimators=100)\n",
    "clf.fit(X_train,y_train)\n",
    "y_pred=clf.predict(X_test)\n",
    "confusion_matrix = pd.crosstab(y_test, y_pred, rownames=['Actual'], colnames=['Predicted'])\n",
    "sns.heatmap(confusion_matrix, annot=True)\n",
    "print('Accuracy: ',metrics.accuracy_score(y_test, y_pred)*100,'%')\n",
    "plt.show()"
   ]
  },
  {
   "cell_type": "markdown",
   "metadata": {},
   "source": [
    "#### SUPPORT VECTOR MACHINE "
   ]
  },
  {
   "cell_type": "markdown",
   "metadata": {},
   "source": [
    "##### rbf Kernel "
   ]
  },
  {
   "cell_type": "code",
   "execution_count": 134,
   "metadata": {},
   "outputs": [
    {
     "name": "stdout",
     "output_type": "stream",
     "text": [
      "Accuracy: 46.42857142857143 %\n"
     ]
    }
   ],
   "source": [
    "X_tr, X_tst, y_tr, y_tst = train_test_split(X, y, test_size=25/100,random_state=109)\n",
    "clf = svm.SVC(kernel='rbf') # creating Support Vector Machine model\n",
    "clf.fit(X_tr, y_tr) # training the Model\n",
    "y_pr = clf.predict(X_tst) # making Predictions\n",
    "\n",
    "# Evaluating Prediction Accuracy\n",
    "print(\"Accuracy:\",metrics.accuracy_score(y_tst, y_pr)*100,\"%\")"
   ]
  },
  {
   "cell_type": "markdown",
   "metadata": {},
   "source": [
    "##### Polynomial Kernel\n"
   ]
  },
  {
   "cell_type": "code",
   "execution_count": 135,
   "metadata": {},
   "outputs": [
    {
     "name": "stdout",
     "output_type": "stream",
     "text": [
      "Accuracy: 42.857142857142854 %\n"
     ]
    }
   ],
   "source": [
    "X_tr, X_tst, y_tr, y_tst = train_test_split(X, y, test_size=25/100,random_state=109)\n",
    "clf = svm.SVC(kernel='poly') # Creating Support Vector Machine Model\n",
    "clf.fit(X_tr,y_tr) # fit classifier to training set\n",
    "y_pr = clf.predict(X_tst) # Making Predictions\n",
    "\n",
    "# Evaluating Prediction Accuracy\n",
    "print(\"Accuracy:\",metrics.accuracy_score(y_tst, y_pr)*100,\"%\")"
   ]
  },
  {
   "cell_type": "markdown",
   "metadata": {},
   "source": [
    "##### Sigmoid Kernel "
   ]
  },
  {
   "cell_type": "code",
   "execution_count": 136,
   "metadata": {},
   "outputs": [
    {
     "name": "stdout",
     "output_type": "stream",
     "text": [
      "Accuracy: 46.42857142857143 %\n"
     ]
    }
   ],
   "source": [
    "X_tr, X_tst, y_tr, y_tst = train_test_split(X, y, test_size=25/100,random_state=109)\n",
    "clf=svm.SVC(kernel='sigmoid') # instantiate classifier with sigmoid kernel\n",
    "clf.fit(X_tr,y_tr) # fit classifier to training set\n",
    "y_pr = clf.predict(X_tst) # Making Predictions\n",
    "\n",
    "# Evaluating Prediction Accuracy\n",
    "print(\"Accuracy:\",metrics.accuracy_score(y_tst, y_pr)*100,\"%\")"
   ]
  },
  {
   "cell_type": "markdown",
   "metadata": {},
   "source": [
    "#### DECISION TREE"
   ]
  },
  {
   "cell_type": "code",
   "execution_count": 137,
   "metadata": {},
   "outputs": [
    {
     "name": "stdout",
     "output_type": "stream",
     "text": [
      "Accuracy: 47.05882352941176 %\n"
     ]
    }
   ],
   "source": [
    "# Split dataset into training set and test set\n",
    "X_train, X_test, y_train, y_test = train_test_split(X, y, test_size=0.3, random_state=1) # 70% training and 30% test\n",
    "clf = DecisionTreeClassifier() # Create Decision Tree classifer object\n",
    "clf = clf.fit(X_train,y_train) # Train Decision Tree Classifer\n",
    "y_pred = clf.predict(X_test) # Predict the response for test dataset\n",
    "\n",
    "# how often is the classifier correct?\n",
    "print(\"Accuracy:\",metrics.accuracy_score(y_test, y_pred)*100,\"%\")"
   ]
  },
  {
   "cell_type": "markdown",
   "metadata": {},
   "source": [
    "#### LOGISTIC REGRESSION "
   ]
  },
  {
   "cell_type": "code",
   "execution_count": 138,
   "metadata": {},
   "outputs": [
    {
     "name": "stdout",
     "output_type": "stream",
     "text": [
      "Accuracy:  46.42857142857143 %\n"
     ]
    }
   ],
   "source": [
    "X_train,X_test,y_train,y_test = train_test_split(X,y,test_size=0.25,random_state=0)\n",
    "clf= LogisticRegression( max_iter=100000000)\n",
    "clf.fit(X_train,y_train)\n",
    "y_pred=clf.predict(X_test)\n",
    "print('Accuracy: ',metrics.accuracy_score(y_test, y_pred)*100,'%')"
   ]
  },
  {
   "cell_type": "markdown",
   "metadata": {},
   "source": [
    "#### K-Nearest Neighbor "
   ]
  },
  {
   "cell_type": "code",
   "execution_count": 139,
   "metadata": {
    "scrolled": true
   },
   "outputs": [
    {
     "data": {
      "text/plain": [
       "Text(0, 0.5, 'Accuracy')"
      ]
     },
     "execution_count": 139,
     "metadata": {},
     "output_type": "execute_result"
    },
    {
     "data": {
      "image/png": "[encoded data removed]",
      "text/plain": [
       "<Figure size 864x432 with 1 Axes>"
      ]
     },
     "metadata": {
      "needs_background": "light"
     },
     "output_type": "display_data"
    }
   ],
   "source": [
    "# Split data into training and testing sets.\n",
    "X_train, X_test, y_train, y_test = train_test_split(X, y, random_state=42)\n",
    "accuracy=[]\n",
    "for i in range(1,21):\n",
    "    clf = KNeighborsClassifier(n_neighbors=i)\n",
    "    clf.fit(X_train, y_train)\n",
    "    ypred = clf.predict(X_test)\n",
    "    accuracy.append(metrics.accuracy_score(y_test, ypred))\n",
    "plt.figure(figsize=(12, 6))\n",
    "plt.plot(range(1, 21), accuracy, color='orange', linestyle='dashed', marker='o',\n",
    "         markerfacecolor='green', markersize=10)\n",
    "plt.title('Looking for the most accurate k value')\n",
    "plt.xlabel('K Value')\n",
    "plt.ylabel('Accuracy')"
   ]
  },
  {
   "cell_type": "code",
   "execution_count": 141,
   "metadata": {
    "scrolled": true
   },
   "outputs": [
    {
     "name": "stdout",
     "output_type": "stream",
     "text": [
      "Accuracy: 60.71428571428571 %\n"
     ]
    }
   ],
   "source": [
    "clf = KNeighborsClassifier(n_neighbors=3)\n",
    "clf.fit(X_train, y_train)\n",
    "ypred = clf.predict(X_test)\n",
    "\n",
    "# Best accuracy\n",
    "print(\"Accuracy:\",metrics.accuracy_score(y_test, ypred)*100,\"%\")"
   ]
  }
 ],
 "metadata": {
  "kernelspec": {
   "display_name": "Python 3",
   "language": "python",
   "name": "python3"
  },
  "language_info": {
   "codemirror_mode": {
    "name": "ipython",
    "version": 3
   },
   "file_extension": ".py",
   "mimetype": "text/x-python",
   "name": "python",
   "nbconvert_exporter": "python",
   "pygments_lexer": "ipython3",
   "version": "3.7.4"
  }
 },
 "nbformat": 4,
 "nbformat_minor": 2
}
