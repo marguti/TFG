{
 "cells": [
  {
   "cell_type": "code",
   "execution_count": 1,
   "metadata": {},
   "outputs": [],
   "source": [
    "# Importing libraries\n",
    "from sklearn.model_selection import GridSearchCV, train_test_split\n",
    "from sklearn.metrics import accuracy_score\n",
    "import pandas as pd\n",
    "import numpy as np\n",
    "import seaborn as sns\n",
    "from sklearn.tree import DecisionTreeClassifier \n",
    "import matplotlib.pyplot as plt\n",
    "from sklearn.model_selection import train_test_split\n",
    "from sklearn import metrics\n",
    "from sklearn import preprocessing\n",
    "from sklearn.ensemble import RandomForestClassifier\n",
    "from sklearn.naive_bayes import GaussianNB\n",
    "from sklearn import svm\n",
    "from sklearn.linear_model import LogisticRegression\n",
    "from sklearn.neighbors import KNeighborsClassifier\n",
    "from sklearn.decomposition import PCA\n",
    "from sklearn.pipeline import make_pipeline\n",
    "from sklearn.preprocessing import StandardScaler\n",
    "from sklearn.preprocessing import scale"
   ]
  },
  {
   "cell_type": "code",
   "execution_count": 2,
   "metadata": {},
   "outputs": [],
   "source": [
    "# Visualizing 6 decimals per value\n",
    "pd.set_option('display.float_format', lambda x: '%.6f' % x)\n",
    "\n",
    "# Reading data from csv\n",
    "def load_dataset(path):\n",
    "    dataset = pd.read_csv(path, header=0, delimiter=',')\n",
    "    return dataset\n",
    "\n",
    "sensorama = load_dataset('sensorama_df.csv')"
   ]
  },
  {
   "cell_type": "code",
   "execution_count": 3,
   "metadata": {},
   "outputs": [],
   "source": [
    "# Since odor name and canonical_smiles variables are strings, we change them to a numerical value\n",
    "label_encoder = preprocessing.LabelEncoder()\n",
    "label_encoder.fit(sensorama['canonical_smiles'])\n",
    "sensorama['canonical_smiles']= label_encoder.transform(sensorama['canonical_smiles'])\n",
    "label_encoder = preprocessing.LabelEncoder()\n",
    "label_encoder.fit(sensorama['odor name'])\n",
    "sensorama['odor name']= label_encoder.transform(sensorama['odor name'])"
   ]
  },
  {
   "cell_type": "code",
   "execution_count": 4,
   "metadata": {},
   "outputs": [],
   "source": [
    "# Normalizing function\n",
    "def standarize(x_train):\n",
    "    mean = x_train.mean()\n",
    "    std = x_train.std()\n",
    "    x_train -= mean\n",
    "    x_train /= std\n",
    "\n",
    "# Normalizing data\n",
    "s= sensorama.columns\n",
    "s=s.drop(['odor level', 'cid','canonical_smiles', 'odor name'])\n",
    "for c in s:\n",
    "    standarize(sensorama[c])\n",
    "# After normalizing the data, we have NaNs values, so we change them to 0\n",
    "sensorama=sensorama.fillna(0)"
   ]
  },
  {
   "cell_type": "code",
   "execution_count": 5,
   "metadata": {},
   "outputs": [],
   "source": [
    "# Creating a new dataframe with only those molecules of odor level = 1\n",
    "sensorama_1 = []\n",
    "for i in range (0,17994):\n",
    "    if sensorama.iloc[i,3] == 1:\n",
    "        sensorama_1.append(sensorama.loc[i,:])\n",
    "sensorama_1 = pd.DataFrame(sensorama_1)"
   ]
  },
  {
   "cell_type": "code",
   "execution_count": 6,
   "metadata": {},
   "outputs": [],
   "source": [
    "X = sensorama_1[[ 'xlogp','fsp3', 'small rings','arom rings','ring blocks','arom blocks','rings 3','rings 4', 'rings 5', 'rings 6',\n",
    "               'rings 7', 'rings 8', 'rings 9', 'tpsa efficiency', 'zagreb indices', 'weiner path', 'weiner polarity', 'wtpt.1',\n",
    "               'wtpt.2', 'wtpt.3', 'wtpt.4', 'wtpt.5', 'molecular weight', 'VAdjMat', 'topoPSA', 'lipinski failures', 'rotatable bonds',\n",
    "               'topo shape', 'petitjean number', 'mdec.11', 'mdec.12', 'mdec.13', 'mdec.14', 'mdec.22', 'mdec.23', 'mdec.24',\n",
    "               'mdec.33', 'mdec.34', 'mdec.44', 'mdeo.11', 'mdeo.12', 'mdeo.22', 'mden.11', 'mden.12', 'mden.13', 'mden.22',\n",
    "               'mden.23', 'mden.33', 'mlogp', 'atom p', 'atom lc', 'khs.sli', 'khs.ssbe', 'khs.ssssbe', 'khs.ssbh', 'khs.sssb',\n",
    "               'khs.ssssb', 'khs.sch3', 'khs.dch2', 'khs.ssch2', 'khs.tch', 'khs.dsch', 'khs.aach', 'khs.sssch', 'khs.ddc',\n",
    "               'khs.tsc', 'khs.dssc', 'khs.aasc', 'khs.aaac', 'khs.ssssc', 'khs.snh3', 'khs.snh2', 'khs.ssnh', 'khs.dnh', 'khs.ssnh.1',\n",
    "               'khs.aanh', 'khs.tn', 'khs.sssnh', 'khs.dsn', 'khs.aan', 'khs.sssn', 'khs.dsn.1', 'khs.aasn', 'khs.ssssn', 'khs.soh',\n",
    "               'khs.do', 'khs.sso', 'khs.aao', 'khs.sf', 'khs.ssih3', 'khs.sssih2', 'khs.ssssih', 'khs.sssssi', 'khs.sph2',\n",
    "               'khs.ssph', 'khs.sssp', 'khs.dsssp', 'khs.sssssp', 'khs.ssh', 'khs.ds', 'khs.sss', 'khs.aas', 'khs.dsss', 'khs.ddsss',\n",
    "               'khs.scl', 'khs.sGeH3', 'khs.ssGeH2', 'khs.sssGeH', 'khs.ssssGe', 'khs.sash2', 'khs.ssash', 'khs.sssas', 'khs.sssdas',\n",
    "               'khs.sssssas', 'khs.sseh', 'khs.dse', 'khs.ssse', 'khs.aase', 'khs.dssse', 'khs.ddssse', 'khs.sbr', 'khs.ssnh3', \n",
    "               'khs.sssnh2', 'khs.ssssnh', 'khs.sssssn', 'khs.si', 'khs.spbh3', 'khs.sspbh2', 'khs.ssspbh', 'khs.sssspb', 'kier 1',\n",
    "               'kier 2', 'hybRatio', 'hbdon', 'hbacc', 'fragc', 'fmf', 'eccen', 'SP.0', 'SP.1', 'SP.2', 'SP.3', 'SP.4', 'SP.5', 'SP.6',\n",
    "               'SP.7', 'VP.0', 'VP.1', 'VP.2', 'VP.3', 'VP.4', 'VP.5', 'VP.6', 'VP.7', 'SPC.4', 'SPC.5', 'SPC.6', 'VPC.4', 'VPC.5',\n",
    "               'VPC.6', 'SC.3', 'SC.4', 'SC.5', 'SC.6', 'VC.3', 'VC.4', 'VC.5', 'VC.6', 'SCH.3', 'SCH.4', 'SCH.5', 'SCH.6', 'SCH.7',\n",
    "               'VCH.3', 'VCH.4', 'VCH.3', 'VCH.4', 'VCH.5', 'VCH.6', 'VCH.7', 'C1SP1', 'C2SP1', 'C1SP2', 'C2SP2', 'C3SP2', 'C1SP3',\n",
    "               'C2SP3', 'C3SP3', 'C4SP3', 'bpol', 'bond count', 'basic group count', 'atsp1', 'atsp2' , 'atsp3', 'atsp4', 'atsp5',\n",
    "               'atsm1', 'atsm2','atsm3','atsm4','atsm5', 'natom','arom bond', 'arom atom', 'apol','alogp', 'alogp2', 'amr', 'acid']]\n",
    "y = sensorama_1['odor name']"
   ]
  },
  {
   "cell_type": "markdown",
   "metadata": {},
   "source": [
    "### ALL ODOR NAMES "
   ]
  },
  {
   "cell_type": "markdown",
   "metadata": {},
   "source": [
    "#### RANDOM FOREST"
   ]
  },
  {
   "cell_type": "code",
   "execution_count": 7,
   "metadata": {},
   "outputs": [
    {
     "name": "stdout",
     "output_type": "stream",
     "text": [
      "Accuracy:  23.934723481414323 %\n"
     ]
    },
    {
     "data": {
      "image/png": "[encoded data removed]",
      "text/plain": [
       "<Figure size 432x288 with 2 Axes>"
      ]
     },
     "metadata": {
      "needs_background": "light"
     },
     "output_type": "display_data"
    }
   ],
   "source": [
    "X_train,X_test,y_train,y_test = train_test_split(X,y,test_size=0.25,random_state=0)\n",
    "sc_X = StandardScaler()\n",
    "X_train = sc_X.fit_transform(X_train)\n",
    "X_test = sc_X.transform(X_test)\n",
    "clf = RandomForestClassifier(n_estimators=100)\n",
    "clf.fit(X_train,y_train)\n",
    "y_pred=clf.predict(X_test)\n",
    "confusion_matrix = pd.crosstab(y_test, y_pred, rownames=['Actual'], colnames=['Predicted'])\n",
    "sns.heatmap(confusion_matrix, annot=True)\n",
    "print('Accuracy: ',metrics.accuracy_score(y_test, y_pred)*100,'%')\n",
    "plt.show()"
   ]
  },
  {
   "cell_type": "markdown",
   "metadata": {},
   "source": [
    "##### Feature Importances "
   ]
  },
  {
   "cell_type": "code",
   "execution_count": 8,
   "metadata": {},
   "outputs": [
    {
     "data": {
      "image/png": "[encoded data removed]",
      "text/plain": [
       "<Figure size 432x288 with 1 Axes>"
      ]
     },
     "metadata": {
      "needs_background": "light"
     },
     "output_type": "display_data"
    }
   ],
   "source": [
    "featureImportances = pd.Series(clf.feature_importances_).sort_values(ascending=False)\n",
    "sns.barplot(x=round(featureImportances,8), y=featureImportances)\n",
    "plt.xlabel('Features Importance')\n",
    "plt.show()"
   ]
  },
  {
   "cell_type": "code",
   "execution_count": 9,
   "metadata": {},
   "outputs": [],
   "source": [
    "X = sensorama_1[[ 'xlogp','fsp3', 'small rings','arom rings','ring blocks','arom blocks','rings 3','rings 4', 'rings 5', 'rings 6',\n",
    "               'rings 7','tpsa efficiency', 'zagreb indices', 'weiner path', 'weiner polarity', 'wtpt.1',\n",
    "               'wtpt.2', 'wtpt.3', 'wtpt.4', 'wtpt.5', 'molecular weight', 'VAdjMat', 'topoPSA', 'lipinski failures', 'rotatable bonds',\n",
    "               'topo shape', 'petitjean number', 'mdec.11', 'mdec.12', 'mdec.13', 'mdec.14', 'mdec.22', 'mdec.23', 'mdec.24',\n",
    "               'mdec.33', 'mdec.34', 'mdec.44', 'mdeo.11', 'mdeo.12', 'mdeo.22', 'mden.11', 'mden.12','mden.22',\n",
    "               'mden.23', 'mden.33', 'mlogp', 'atom p', 'atom lc', \n",
    "                 'khs.sch3', 'khs.dch2', 'khs.ssch2', 'khs.tch', 'khs.dsch', 'khs.aach', 'khs.sssch', 'khs.ddc',\n",
    "               'khs.tsc', 'khs.dssc', 'khs.aasc', 'khs.aaac', 'khs.ssssc', 'khs.snh2', 'khs.ssnh.1',\n",
    "               'khs.aanh', 'khs.tn','khs.dsn', 'khs.aan', 'khs.sssn', 'khs.dsn.1', 'khs.aasn','khs.soh',\n",
    "               'khs.do', 'khs.sso', 'khs.aao', 'khs.sf', 'khs.ssih3', \n",
    "                 'khs.ssh', 'khs.ds', 'khs.sss', 'khs.aas', 'khs.dsss', 'khs.ddsss',\n",
    "               'khs.scl',\n",
    "               'kier 1',\n",
    "               'kier 2', 'hybRatio', 'hbdon', 'hbacc', 'fragc', 'fmf', 'eccen', 'SP.0', 'SP.1', 'SP.2', 'SP.3', 'SP.4', 'SP.5', 'SP.6',\n",
    "               'SP.7', 'VP.0', 'VP.1', 'VP.2', 'VP.3', 'VP.4', 'VP.5', 'VP.6', 'VP.7', 'SPC.4', 'SPC.5', 'SPC.6', 'VPC.4', 'VPC.5',\n",
    "               'VPC.6', 'SC.3', 'SC.4', 'SC.5', 'SC.6', 'VC.3', 'VC.4', 'VC.5', 'VC.6', 'SCH.3', 'SCH.4', 'SCH.5', 'SCH.6', 'SCH.7',\n",
    "               'VCH.3', 'VCH.4', 'VCH.3', 'VCH.4', 'VCH.5', 'VCH.6', 'VCH.7', 'C1SP1', 'C2SP1', 'C1SP2', 'C2SP2', 'C3SP2', 'C1SP3',\n",
    "               'C2SP3', 'C3SP3', 'C4SP3', 'bpol', 'bond count', 'basic group count', 'atsp1', 'atsp2' , 'atsp3', 'atsp4', 'atsp5',\n",
    "               'atsm1', 'atsm2','atsm3','atsm4','atsm5', 'natom', 'apol','alogp', 'alogp2', 'amr', 'acid']]\n",
    "y = sensorama_1['odor name']"
   ]
  },
  {
   "cell_type": "code",
   "execution_count": 10,
   "metadata": {},
   "outputs": [
    {
     "name": "stdout",
     "output_type": "stream",
     "text": [
      "Accuracy:  24.388032638259293 %\n"
     ]
    },
    {
     "data": {
      "image/png": "[encoded data removed]",
      "text/plain": [
       "<Figure size 432x288 with 2 Axes>"
      ]
     },
     "metadata": {
      "needs_background": "light"
     },
     "output_type": "display_data"
    }
   ],
   "source": [
    "X_train,X_test,y_train,y_test = train_test_split(X,y,test_size=0.25,random_state=0)\n",
    "sc_X = StandardScaler()\n",
    "X_train = sc_X.fit_transform(X_train)\n",
    "X_test = sc_X.transform(X_test)\n",
    "clf = RandomForestClassifier(n_estimators=100)\n",
    "clf.fit(X_train,y_train)\n",
    "y_pred=clf.predict(X_test)\n",
    "confusion_matrix = pd.crosstab(y_test, y_pred, rownames=['Actual'], colnames=['Predicted'])\n",
    "sns.heatmap(confusion_matrix, annot=True)\n",
    "print('Accuracy: ',metrics.accuracy_score(y_test, y_pred)*100,'%')\n",
    "plt.show()"
   ]
  },
  {
   "cell_type": "markdown",
   "metadata": {},
   "source": [
    "#### SUPPORT VECTOR MACHINE "
   ]
  },
  {
   "cell_type": "markdown",
   "metadata": {},
   "source": [
    "##### rbf Kernel "
   ]
  },
  {
   "cell_type": "code",
   "execution_count": 11,
   "metadata": {},
   "outputs": [
    {
     "name": "stdout",
     "output_type": "stream",
     "text": [
      "Accuracy: 25.929283771532184 %\n"
     ]
    }
   ],
   "source": [
    "X_tr, X_tst, y_tr, y_tst = train_test_split(X, y, test_size=25/100,random_state=109)\n",
    "clf = svm.SVC(kernel='rbf') # creating Support Vector Machine model\n",
    "clf.fit(X_tr, y_tr) # training the Model\n",
    "y_pr = clf.predict(X_tst) # making Predictions\n",
    "\n",
    "# Evaluating Prediction Accuracy\n",
    "print(\"Accuracy:\",metrics.accuracy_score(y_tst, y_pr)*100,\"%\")"
   ]
  },
  {
   "cell_type": "markdown",
   "metadata": {},
   "source": [
    "##### Polynomial Kernel\n"
   ]
  },
  {
   "cell_type": "code",
   "execution_count": 12,
   "metadata": {},
   "outputs": [
    {
     "name": "stdout",
     "output_type": "stream",
     "text": [
      "Accuracy: 20.580235720761557 %\n"
     ]
    }
   ],
   "source": [
    "X_tr, X_tst, y_tr, y_tst = train_test_split(X, y, test_size=25/100,random_state=109)\n",
    "clf = svm.SVC(kernel='poly') # Creating Support Vector Machine Model\n",
    "clf.fit(X_tr,y_tr) # fit classifier to training set\n",
    "y_pr = clf.predict(X_tst) # Making Predictions\n",
    "\n",
    "# Evaluating Prediction Accuracy\n",
    "print(\"Accuracy:\",metrics.accuracy_score(y_tst, y_pr)*100,\"%\")"
   ]
  },
  {
   "cell_type": "markdown",
   "metadata": {},
   "source": [
    "##### Sigmoid Kernel "
   ]
  },
  {
   "cell_type": "code",
   "execution_count": 13,
   "metadata": {},
   "outputs": [
    {
     "name": "stdout",
     "output_type": "stream",
     "text": [
      "Accuracy: 21.668177697189485 %\n"
     ]
    }
   ],
   "source": [
    "X_tr, X_tst, y_tr, y_tst = train_test_split(X, y, test_size=25/100,random_state=109)\n",
    "clf=svm.SVC(kernel='sigmoid') # instantiate classifier with sigmoid kernel\n",
    "clf.fit(X_tr,y_tr) # fit classifier to training set\n",
    "y_pr = clf.predict(X_tst) # Making Predictions\n",
    "\n",
    "# Evaluating Prediction Accuracy\n",
    "print(\"Accuracy:\",metrics.accuracy_score(y_tst, y_pr)*100,\"%\")"
   ]
  },
  {
   "cell_type": "markdown",
   "metadata": {},
   "source": [
    "#### DECISION TREE"
   ]
  },
  {
   "cell_type": "code",
   "execution_count": 14,
   "metadata": {},
   "outputs": [
    {
     "name": "stdout",
     "output_type": "stream",
     "text": [
      "Accuracy: 17.673716012084594 %\n"
     ]
    }
   ],
   "source": [
    "# Split dataset into training set and test set\n",
    "X_train, X_test, y_train, y_test = train_test_split(X, y, test_size=0.3, random_state=1) # 70% training and 30% test\n",
    "clf = DecisionTreeClassifier() # Create Decision Tree classifer object\n",
    "clf = clf.fit(X_train,y_train) # Train Decision Tree Classifer\n",
    "y_pred = clf.predict(X_test) # Predict the response for test dataset\n",
    "\n",
    "# how often is the classifier correct?\n",
    "print(\"Accuracy:\",metrics.accuracy_score(y_test, y_pred)*100,\"%\")"
   ]
  },
  {
   "cell_type": "markdown",
   "metadata": {},
   "source": [
    "#### LOGISTIC REGRESSION "
   ]
  },
  {
   "cell_type": "code",
   "execution_count": 15,
   "metadata": {},
   "outputs": [
    {
     "name": "stdout",
     "output_type": "stream",
     "text": [
      "Accuracy:  26.382592928377154 %\n"
     ]
    }
   ],
   "source": [
    "X_train,X_test,y_train,y_test = train_test_split(X,y,test_size=0.25,random_state=0)\n",
    "clf= LogisticRegression( max_iter=100000000)\n",
    "clf.fit(X_train,y_train)\n",
    "y_pred=clf.predict(X_test)\n",
    "print('Accuracy: ',metrics.accuracy_score(y_test, y_pred)*100,'%')"
   ]
  },
  {
   "cell_type": "markdown",
   "metadata": {},
   "source": [
    "#### K-Nearest Neighbor "
   ]
  },
  {
   "cell_type": "code",
   "execution_count": 16,
   "metadata": {},
   "outputs": [
    {
     "data": {
      "text/plain": [
       "Text(0, 0.5, 'Accuracy')"
      ]
     },
     "execution_count": 16,
     "metadata": {},
     "output_type": "execute_result"
    },
    {
     "data": {
      "image/png": "[encoded data removed]",
      "text/plain": [
       "<Figure size 864x432 with 1 Axes>"
      ]
     },
     "metadata": {
      "needs_background": "light"
     },
     "output_type": "display_data"
    }
   ],
   "source": [
    "# Split data into training and testing sets.\n",
    "X_train, X_test, y_train, y_test = train_test_split(X, y, random_state=42)\n",
    "accuracy=[]\n",
    "for i in range(1,21):\n",
    "    clf = KNeighborsClassifier(n_neighbors=i)\n",
    "    clf.fit(X_train, y_train)\n",
    "    ypred = clf.predict(X_test)\n",
    "    accuracy.append(metrics.accuracy_score(y_test, ypred))\n",
    "plt.figure(figsize=(12, 6))\n",
    "plt.plot(range(1, 21), accuracy, color='orange', linestyle='dashed', marker='o',\n",
    "         markerfacecolor='green', markersize=10)\n",
    "plt.title('Looking for the most accurate k value')\n",
    "plt.xlabel('K Value')\n",
    "plt.ylabel('Accuracy')"
   ]
  },
  {
   "cell_type": "code",
   "execution_count": 17,
   "metadata": {
    "scrolled": true
   },
   "outputs": [
    {
     "name": "stdout",
     "output_type": "stream",
     "text": [
      "Accuracy: 26.473254759746144 %\n"
     ]
    }
   ],
   "source": [
    "clf = KNeighborsClassifier(n_neighbors=10)\n",
    "clf.fit(X_train, y_train)\n",
    "ypred = clf.predict(X_test)\n",
    "\n",
    "# Best accuracy\n",
    "print(\"Accuracy:\",metrics.accuracy_score(y_test, ypred)*100,\"%\")"
   ]
  },
  {
   "cell_type": "markdown",
   "metadata": {},
   "source": [
    "### 25 MOST COMMON ODOR NAMES "
   ]
  },
  {
   "cell_type": "code",
   "execution_count": 18,
   "metadata": {},
   "outputs": [],
   "source": [
    "sensorama_1 = sensorama_1 .sort_values('odor name')"
   ]
  },
  {
   "cell_type": "code",
   "execution_count": 19,
   "metadata": {},
   "outputs": [
    {
     "data": {
      "text/html": [
       "<div>\n",
       "<style scoped>\n",
       "    .dataframe tbody tr th:only-of-type {\n",
       "        vertical-align: middle;\n",
       "    }\n",
       "\n",
       "    .dataframe tbody tr th {\n",
       "        vertical-align: top;\n",
       "    }\n",
       "\n",
       "    .dataframe thead th {\n",
       "        text-align: right;\n",
       "    }\n",
       "</style>\n",
       "<table border=\"1\" class=\"dataframe\">\n",
       "  <thead>\n",
       "    <tr style=\"text-align: right;\">\n",
       "      <th></th>\n",
       "      <th>cid</th>\n",
       "      <th>canonical_smiles</th>\n",
       "      <th>xlogp</th>\n",
       "      <th>odor level</th>\n",
       "      <th>odor name</th>\n",
       "      <th>fsp3</th>\n",
       "      <th>small rings</th>\n",
       "      <th>arom rings</th>\n",
       "      <th>ring blocks</th>\n",
       "      <th>arom blocks</th>\n",
       "      <th>...</th>\n",
       "      <th>atsm4</th>\n",
       "      <th>atsm5</th>\n",
       "      <th>natom</th>\n",
       "      <th>arom bond</th>\n",
       "      <th>arom atom</th>\n",
       "      <th>apol</th>\n",
       "      <th>alogp</th>\n",
       "      <th>alogp2</th>\n",
       "      <th>amr</th>\n",
       "      <th>acid</th>\n",
       "    </tr>\n",
       "  </thead>\n",
       "  <tbody>\n",
       "    <tr>\n",
       "      <td>1955</td>\n",
       "      <td>8130.000000</td>\n",
       "      <td>2666.000000</td>\n",
       "      <td>-0.348467</td>\n",
       "      <td>1.000000</td>\n",
       "      <td>9.000000</td>\n",
       "      <td>0.817511</td>\n",
       "      <td>-0.878056</td>\n",
       "      <td>-0.631781</td>\n",
       "      <td>-1.106175</td>\n",
       "      <td>-0.644741</td>\n",
       "      <td>...</td>\n",
       "      <td>-1.310557</td>\n",
       "      <td>-1.056392</td>\n",
       "      <td>-0.728725</td>\n",
       "      <td>0.000000</td>\n",
       "      <td>0.000000</td>\n",
       "      <td>-0.896186</td>\n",
       "      <td>-0.096997</td>\n",
       "      <td>-0.297192</td>\n",
       "      <td>-1.151346</td>\n",
       "      <td>-0.161598</td>\n",
       "    </tr>\n",
       "    <tr>\n",
       "      <td>15758</td>\n",
       "      <td>6430180.000000</td>\n",
       "      <td>2723.000000</td>\n",
       "      <td>0.902885</td>\n",
       "      <td>1.000000</td>\n",
       "      <td>9.000000</td>\n",
       "      <td>0.416540</td>\n",
       "      <td>-0.878056</td>\n",
       "      <td>-0.631781</td>\n",
       "      <td>-1.106175</td>\n",
       "      <td>-0.644741</td>\n",
       "      <td>...</td>\n",
       "      <td>-0.619532</td>\n",
       "      <td>-0.335622</td>\n",
       "      <td>0.650686</td>\n",
       "      <td>0.000000</td>\n",
       "      <td>0.000000</td>\n",
       "      <td>0.564858</td>\n",
       "      <td>1.177349</td>\n",
       "      <td>0.987745</td>\n",
       "      <td>0.426933</td>\n",
       "      <td>-0.161598</td>\n",
       "    </tr>\n",
       "    <tr>\n",
       "      <td>9652</td>\n",
       "      <td>103649.000000</td>\n",
       "      <td>429.000000</td>\n",
       "      <td>0.138170</td>\n",
       "      <td>1.000000</td>\n",
       "      <td>9.000000</td>\n",
       "      <td>-0.087388</td>\n",
       "      <td>0.200130</td>\n",
       "      <td>-0.631781</td>\n",
       "      <td>0.632666</td>\n",
       "      <td>-0.644741</td>\n",
       "      <td>...</td>\n",
       "      <td>0.117392</td>\n",
       "      <td>0.144714</td>\n",
       "      <td>0.544577</td>\n",
       "      <td>0.000000</td>\n",
       "      <td>0.000000</td>\n",
       "      <td>0.608945</td>\n",
       "      <td>0.918302</td>\n",
       "      <td>0.667335</td>\n",
       "      <td>0.639639</td>\n",
       "      <td>-0.161598</td>\n",
       "    </tr>\n",
       "    <tr>\n",
       "      <td>13827</td>\n",
       "      <td>5283356.000000</td>\n",
       "      <td>2754.000000</td>\n",
       "      <td>0.972405</td>\n",
       "      <td>1.000000</td>\n",
       "      <td>9.000000</td>\n",
       "      <td>0.331554</td>\n",
       "      <td>-0.878056</td>\n",
       "      <td>-0.631781</td>\n",
       "      <td>-1.106175</td>\n",
       "      <td>-0.644741</td>\n",
       "      <td>...</td>\n",
       "      <td>-0.757737</td>\n",
       "      <td>-0.479776</td>\n",
       "      <td>0.332360</td>\n",
       "      <td>0.000000</td>\n",
       "      <td>0.000000</td>\n",
       "      <td>0.245087</td>\n",
       "      <td>1.153200</td>\n",
       "      <td>0.956602</td>\n",
       "      <td>0.129278</td>\n",
       "      <td>-0.161598</td>\n",
       "    </tr>\n",
       "    <tr>\n",
       "      <td>15327</td>\n",
       "      <td>5463934.000000</td>\n",
       "      <td>801.000000</td>\n",
       "      <td>0.416248</td>\n",
       "      <td>1.000000</td>\n",
       "      <td>9.000000</td>\n",
       "      <td>-1.239384</td>\n",
       "      <td>0.200130</td>\n",
       "      <td>1.183366</td>\n",
       "      <td>0.632666</td>\n",
       "      <td>1.285620</td>\n",
       "      <td>...</td>\n",
       "      <td>0.255597</td>\n",
       "      <td>0.480895</td>\n",
       "      <td>0.120143</td>\n",
       "      <td>0.000000</td>\n",
       "      <td>0.000000</td>\n",
       "      <td>0.333240</td>\n",
       "      <td>0.447466</td>\n",
       "      <td>0.162340</td>\n",
       "      <td>0.787452</td>\n",
       "      <td>-0.161598</td>\n",
       "    </tr>\n",
       "    <tr>\n",
       "      <td>...</td>\n",
       "      <td>...</td>\n",
       "      <td>...</td>\n",
       "      <td>...</td>\n",
       "      <td>...</td>\n",
       "      <td>...</td>\n",
       "      <td>...</td>\n",
       "      <td>...</td>\n",
       "      <td>...</td>\n",
       "      <td>...</td>\n",
       "      <td>...</td>\n",
       "      <td>...</td>\n",
       "      <td>...</td>\n",
       "      <td>...</td>\n",
       "      <td>...</td>\n",
       "      <td>...</td>\n",
       "      <td>...</td>\n",
       "      <td>...</td>\n",
       "      <td>...</td>\n",
       "      <td>...</td>\n",
       "      <td>...</td>\n",
       "      <td>...</td>\n",
       "    </tr>\n",
       "    <tr>\n",
       "      <td>17407</td>\n",
       "      <td>16213731.000000</td>\n",
       "      <td>1646.000000</td>\n",
       "      <td>0.902885</td>\n",
       "      <td>1.000000</td>\n",
       "      <td>494.000000</td>\n",
       "      <td>0.853452</td>\n",
       "      <td>2.356503</td>\n",
       "      <td>-0.631781</td>\n",
       "      <td>0.632666</td>\n",
       "      <td>-0.644741</td>\n",
       "      <td>...</td>\n",
       "      <td>1.545852</td>\n",
       "      <td>1.490507</td>\n",
       "      <td>1.075120</td>\n",
       "      <td>0.000000</td>\n",
       "      <td>0.000000</td>\n",
       "      <td>1.165596</td>\n",
       "      <td>1.328627</td>\n",
       "      <td>1.188828</td>\n",
       "      <td>0.860767</td>\n",
       "      <td>-0.161598</td>\n",
       "    </tr>\n",
       "    <tr>\n",
       "      <td>10964</td>\n",
       "      <td>161683.000000</td>\n",
       "      <td>1652.000000</td>\n",
       "      <td>0.346729</td>\n",
       "      <td>1.000000</td>\n",
       "      <td>494.000000</td>\n",
       "      <td>0.603735</td>\n",
       "      <td>3.434689</td>\n",
       "      <td>-0.631781</td>\n",
       "      <td>0.632666</td>\n",
       "      <td>-0.644741</td>\n",
       "      <td>...</td>\n",
       "      <td>2.973289</td>\n",
       "      <td>2.354364</td>\n",
       "      <td>0.969011</td>\n",
       "      <td>0.000000</td>\n",
       "      <td>0.000000</td>\n",
       "      <td>1.110645</td>\n",
       "      <td>0.662309</td>\n",
       "      <td>0.380387</td>\n",
       "      <td>0.922147</td>\n",
       "      <td>-0.161598</td>\n",
       "    </tr>\n",
       "    <tr>\n",
       "      <td>12761</td>\n",
       "      <td>636475.000000</td>\n",
       "      <td>1045.000000</td>\n",
       "      <td>-0.835104</td>\n",
       "      <td>1.000000</td>\n",
       "      <td>494.000000</td>\n",
       "      <td>0.603735</td>\n",
       "      <td>2.356503</td>\n",
       "      <td>-0.631781</td>\n",
       "      <td>0.632666</td>\n",
       "      <td>-0.644741</td>\n",
       "      <td>...</td>\n",
       "      <td>0.117392</td>\n",
       "      <td>-0.384029</td>\n",
       "      <td>-0.198182</td>\n",
       "      <td>0.000000</td>\n",
       "      <td>0.000000</td>\n",
       "      <td>-0.212547</td>\n",
       "      <td>-0.462771</td>\n",
       "      <td>-0.530958</td>\n",
       "      <td>-0.382686</td>\n",
       "      <td>-0.161598</td>\n",
       "    </tr>\n",
       "    <tr>\n",
       "      <td>8836</td>\n",
       "      <td>90978.000000</td>\n",
       "      <td>1084.000000</td>\n",
       "      <td>0.833366</td>\n",
       "      <td>1.000000</td>\n",
       "      <td>494.000000</td>\n",
       "      <td>1.102795</td>\n",
       "      <td>3.434689</td>\n",
       "      <td>-0.631781</td>\n",
       "      <td>0.632666</td>\n",
       "      <td>-0.644741</td>\n",
       "      <td>...</td>\n",
       "      <td>2.650981</td>\n",
       "      <td>2.498518</td>\n",
       "      <td>1.181228</td>\n",
       "      <td>0.000000</td>\n",
       "      <td>0.000000</td>\n",
       "      <td>1.248497</td>\n",
       "      <td>0.365512</td>\n",
       "      <td>0.084638</td>\n",
       "      <td>0.856638</td>\n",
       "      <td>-0.161598</td>\n",
       "    </tr>\n",
       "    <tr>\n",
       "      <td>13322</td>\n",
       "      <td>3020011.000000</td>\n",
       "      <td>317.000000</td>\n",
       "      <td>0.346729</td>\n",
       "      <td>1.000000</td>\n",
       "      <td>494.000000</td>\n",
       "      <td>-0.051447</td>\n",
       "      <td>1.278317</td>\n",
       "      <td>-0.631781</td>\n",
       "      <td>2.371507</td>\n",
       "      <td>-0.644741</td>\n",
       "      <td>...</td>\n",
       "      <td>2.465841</td>\n",
       "      <td>2.465997</td>\n",
       "      <td>1.181228</td>\n",
       "      <td>0.000000</td>\n",
       "      <td>0.000000</td>\n",
       "      <td>1.375475</td>\n",
       "      <td>0.515125</td>\n",
       "      <td>0.228767</td>\n",
       "      <td>1.311704</td>\n",
       "      <td>-0.161598</td>\n",
       "    </tr>\n",
       "  </tbody>\n",
       "</table>\n",
       "<p>2686 rows × 212 columns</p>\n",
       "</div>"
      ],
      "text/plain": [
       "                  cid  canonical_smiles     xlogp  odor level  odor name  \\\n",
       "1955      8130.000000       2666.000000 -0.348467    1.000000   9.000000   \n",
       "15758  6430180.000000       2723.000000  0.902885    1.000000   9.000000   \n",
       "9652    103649.000000        429.000000  0.138170    1.000000   9.000000   \n",
       "13827  5283356.000000       2754.000000  0.972405    1.000000   9.000000   \n",
       "15327  5463934.000000        801.000000  0.416248    1.000000   9.000000   \n",
       "...               ...               ...       ...         ...        ...   \n",
       "17407 16213731.000000       1646.000000  0.902885    1.000000 494.000000   \n",
       "10964   161683.000000       1652.000000  0.346729    1.000000 494.000000   \n",
       "12761   636475.000000       1045.000000 -0.835104    1.000000 494.000000   \n",
       "8836     90978.000000       1084.000000  0.833366    1.000000 494.000000   \n",
       "13322  3020011.000000        317.000000  0.346729    1.000000 494.000000   \n",
       "\n",
       "           fsp3  small rings  arom rings  ring blocks  arom blocks  ...  \\\n",
       "1955   0.817511    -0.878056   -0.631781    -1.106175    -0.644741  ...   \n",
       "15758  0.416540    -0.878056   -0.631781    -1.106175    -0.644741  ...   \n",
       "9652  -0.087388     0.200130   -0.631781     0.632666    -0.644741  ...   \n",
       "13827  0.331554    -0.878056   -0.631781    -1.106175    -0.644741  ...   \n",
       "15327 -1.239384     0.200130    1.183366     0.632666     1.285620  ...   \n",
       "...         ...          ...         ...          ...          ...  ...   \n",
       "17407  0.853452     2.356503   -0.631781     0.632666    -0.644741  ...   \n",
       "10964  0.603735     3.434689   -0.631781     0.632666    -0.644741  ...   \n",
       "12761  0.603735     2.356503   -0.631781     0.632666    -0.644741  ...   \n",
       "8836   1.102795     3.434689   -0.631781     0.632666    -0.644741  ...   \n",
       "13322 -0.051447     1.278317   -0.631781     2.371507    -0.644741  ...   \n",
       "\n",
       "          atsm4     atsm5     natom  arom bond  arom atom      apol     alogp  \\\n",
       "1955  -1.310557 -1.056392 -0.728725   0.000000   0.000000 -0.896186 -0.096997   \n",
       "15758 -0.619532 -0.335622  0.650686   0.000000   0.000000  0.564858  1.177349   \n",
       "9652   0.117392  0.144714  0.544577   0.000000   0.000000  0.608945  0.918302   \n",
       "13827 -0.757737 -0.479776  0.332360   0.000000   0.000000  0.245087  1.153200   \n",
       "15327  0.255597  0.480895  0.120143   0.000000   0.000000  0.333240  0.447466   \n",
       "...         ...       ...       ...        ...        ...       ...       ...   \n",
       "17407  1.545852  1.490507  1.075120   0.000000   0.000000  1.165596  1.328627   \n",
       "10964  2.973289  2.354364  0.969011   0.000000   0.000000  1.110645  0.662309   \n",
       "12761  0.117392 -0.384029 -0.198182   0.000000   0.000000 -0.212547 -0.462771   \n",
       "8836   2.650981  2.498518  1.181228   0.000000   0.000000  1.248497  0.365512   \n",
       "13322  2.465841  2.465997  1.181228   0.000000   0.000000  1.375475  0.515125   \n",
       "\n",
       "         alogp2       amr      acid  \n",
       "1955  -0.297192 -1.151346 -0.161598  \n",
       "15758  0.987745  0.426933 -0.161598  \n",
       "9652   0.667335  0.639639 -0.161598  \n",
       "13827  0.956602  0.129278 -0.161598  \n",
       "15327  0.162340  0.787452 -0.161598  \n",
       "...         ...       ...       ...  \n",
       "17407  1.188828  0.860767 -0.161598  \n",
       "10964  0.380387  0.922147 -0.161598  \n",
       "12761 -0.530958 -0.382686 -0.161598  \n",
       "8836   0.084638  0.856638 -0.161598  \n",
       "13322  0.228767  1.311704 -0.161598  \n",
       "\n",
       "[2686 rows x 212 columns]"
      ]
     },
     "execution_count": 19,
     "metadata": {},
     "output_type": "execute_result"
    }
   ],
   "source": [
    "sensorama2_1=[]\n",
    "\n",
    "for i in range(28, len(sensorama_1)-28):\n",
    "    if sensorama_1.iloc[i,4] == sensorama_1.iloc[i+28,4] or sensorama_1.iloc[i,4] == sensorama_1.iloc[i-28,4]:\n",
    "        sensorama2_1.append(sensorama_1.iloc[i,:]) \n",
    "\n",
    "sensorama2_1= pd.DataFrame(sensorama2_1)\n",
    "sensorama2_1"
   ]
  },
  {
   "cell_type": "code",
   "execution_count": 20,
   "metadata": {},
   "outputs": [
    {
     "name": "stdout",
     "output_type": "stream",
     "text": [
      "25\n"
     ]
    }
   ],
   "source": [
    "count=0\n",
    "for i in range(1, len(sensorama2_1)):\n",
    "    if sensorama2_1.iloc[i,4]!= sensorama2_1.iloc[i-1,4]:\n",
    "        count = count +1\n",
    "print(count)"
   ]
  },
  {
   "cell_type": "code",
   "execution_count": 21,
   "metadata": {},
   "outputs": [],
   "source": [
    "X = sensorama2_1[[ 'xlogp','fsp3', 'small rings','arom rings','ring blocks','arom blocks','rings 3','rings 4', 'rings 5', 'rings 6',\n",
    "               'rings 7', 'rings 8', 'rings 9', 'tpsa efficiency', 'zagreb indices', 'weiner path', 'weiner polarity', 'wtpt.1',\n",
    "               'wtpt.2', 'wtpt.3', 'wtpt.4', 'wtpt.5', 'molecular weight', 'VAdjMat', 'topoPSA', 'lipinski failures', 'rotatable bonds',\n",
    "               'topo shape', 'petitjean number', 'mdec.11', 'mdec.12', 'mdec.13', 'mdec.14', 'mdec.22', 'mdec.23', 'mdec.24',\n",
    "               'mdec.33', 'mdec.34', 'mdec.44', 'mdeo.11', 'mdeo.12', 'mdeo.22', 'mden.11', 'mden.12', 'mden.13', 'mden.22',\n",
    "               'mden.23', 'mden.33', 'mlogp', 'atom p', 'atom lc', 'khs.sli', 'khs.ssbe', 'khs.ssssbe', 'khs.ssbh', 'khs.sssb',\n",
    "               'khs.ssssb', 'khs.sch3', 'khs.dch2', 'khs.ssch2', 'khs.tch', 'khs.dsch', 'khs.aach', 'khs.sssch', 'khs.ddc',\n",
    "               'khs.tsc', 'khs.dssc', 'khs.aasc', 'khs.aaac', 'khs.ssssc', 'khs.snh3', 'khs.snh2', 'khs.ssnh', 'khs.dnh', 'khs.ssnh.1',\n",
    "               'khs.aanh', 'khs.tn', 'khs.sssnh', 'khs.dsn', 'khs.aan', 'khs.sssn', 'khs.dsn.1', 'khs.aasn', 'khs.ssssn', 'khs.soh',\n",
    "               'khs.do', 'khs.sso', 'khs.aao', 'khs.sf', 'khs.ssih3', 'khs.sssih2', 'khs.ssssih', 'khs.sssssi', 'khs.sph2',\n",
    "               'khs.ssph', 'khs.sssp', 'khs.dsssp', 'khs.sssssp', 'khs.ssh', 'khs.ds', 'khs.sss', 'khs.aas', 'khs.dsss', 'khs.ddsss',\n",
    "               'khs.scl', 'khs.sGeH3', 'khs.ssGeH2', 'khs.sssGeH', 'khs.ssssGe', 'khs.sash2', 'khs.ssash', 'khs.sssas', 'khs.sssdas',\n",
    "               'khs.sssssas', 'khs.sseh', 'khs.dse', 'khs.ssse', 'khs.aase', 'khs.dssse', 'khs.ddssse', 'khs.sbr', 'khs.ssnh3', \n",
    "               'khs.sssnh2', 'khs.ssssnh', 'khs.sssssn', 'khs.si', 'khs.spbh3', 'khs.sspbh2', 'khs.ssspbh', 'khs.sssspb', 'kier 1',\n",
    "               'kier 2', 'hybRatio', 'hbdon', 'hbacc', 'fragc', 'fmf', 'eccen', 'SP.0', 'SP.1', 'SP.2', 'SP.3', 'SP.4', 'SP.5', 'SP.6',\n",
    "               'SP.7', 'VP.0', 'VP.1', 'VP.2', 'VP.3', 'VP.4', 'VP.5', 'VP.6', 'VP.7', 'SPC.4', 'SPC.5', 'SPC.6', 'VPC.4', 'VPC.5',\n",
    "               'VPC.6', 'SC.3', 'SC.4', 'SC.5', 'SC.6', 'VC.3', 'VC.4', 'VC.5', 'VC.6', 'SCH.3', 'SCH.4', 'SCH.5', 'SCH.6', 'SCH.7',\n",
    "               'VCH.3', 'VCH.4', 'VCH.3', 'VCH.4', 'VCH.5', 'VCH.6', 'VCH.7', 'C1SP1', 'C2SP1', 'C1SP2', 'C2SP2', 'C3SP2', 'C1SP3',\n",
    "               'C2SP3', 'C3SP3', 'C4SP3', 'bpol', 'bond count', 'basic group count', 'atsp1', 'atsp2' , 'atsp3', 'atsp4', 'atsp5',\n",
    "               'atsm1', 'atsm2','atsm3','atsm4','atsm5', 'natom','arom bond', 'arom atom', 'apol','alogp', 'alogp2', 'amr', 'acid']]\n",
    "y = sensorama2_1['odor name']"
   ]
  },
  {
   "cell_type": "markdown",
   "metadata": {},
   "source": [
    "#### RANDOM FOREST"
   ]
  },
  {
   "cell_type": "code",
   "execution_count": 22,
   "metadata": {},
   "outputs": [
    {
     "name": "stdout",
     "output_type": "stream",
     "text": [
      "Accuracy:  42.11309523809524 %\n"
     ]
    },
    {
     "data": {
      "image/png": "[encoded data removed]",
      "text/plain": [
       "<Figure size 432x288 with 2 Axes>"
      ]
     },
     "metadata": {
      "needs_background": "light"
     },
     "output_type": "display_data"
    }
   ],
   "source": [
    "X_train,X_test,y_train,y_test = train_test_split(X,y,test_size=0.25,random_state=0)\n",
    "sc_X = StandardScaler()\n",
    "X_train = sc_X.fit_transform(X_train)\n",
    "X_test = sc_X.transform(X_test)\n",
    "clf = RandomForestClassifier(n_estimators=100)\n",
    "clf.fit(X_train,y_train)\n",
    "y_pred=clf.predict(X_test)\n",
    "confusion_matrix = pd.crosstab(y_test, y_pred, rownames=['Actual'], colnames=['Predicted'])\n",
    "sns.heatmap(confusion_matrix, annot=True)\n",
    "print('Accuracy: ',metrics.accuracy_score(y_test, y_pred)*100,'%')\n",
    "plt.show()"
   ]
  },
  {
   "cell_type": "markdown",
   "metadata": {},
   "source": [
    "##### Feature Importances "
   ]
  },
  {
   "cell_type": "code",
   "execution_count": 23,
   "metadata": {},
   "outputs": [
    {
     "data": {
      "image/png": "[encoded data removed]",
      "text/plain": [
       "<Figure size 432x288 with 1 Axes>"
      ]
     },
     "metadata": {
      "needs_background": "light"
     },
     "output_type": "display_data"
    }
   ],
   "source": [
    "featureImportances = pd.Series(clf.feature_importances_).sort_values(ascending=False)\n",
    "sns.barplot(x=round(featureImportances,8), y=featureImportances)\n",
    "plt.xlabel('Features Importance')\n",
    "plt.show()"
   ]
  },
  {
   "cell_type": "code",
   "execution_count": 24,
   "metadata": {},
   "outputs": [],
   "source": [
    "X = sensorama2_1[[ 'xlogp','fsp3', 'small rings','arom rings','ring blocks','arom blocks','rings 3','rings 4', 'rings 5', 'rings 6',\n",
    "               'rings 7','tpsa efficiency', 'zagreb indices', 'weiner path', 'weiner polarity', 'wtpt.1',\n",
    "               'wtpt.2', 'wtpt.3', 'wtpt.4', 'wtpt.5', 'molecular weight', 'VAdjMat', 'topoPSA', 'lipinski failures', 'rotatable bonds',\n",
    "               'topo shape', 'petitjean number', 'mdec.11', 'mdec.12', 'mdec.13', 'mdec.14', 'mdec.22', 'mdec.23', 'mdec.24',\n",
    "               'mdec.33', 'mdec.34', 'mdec.44', 'mdeo.11', 'mdeo.12', 'mdeo.22', 'mden.22',\n",
    "               'mden.23', 'mden.33', 'mlogp', 'atom p', 'atom lc', \n",
    "                  'khs.sch3', 'khs.dch2', 'khs.ssch2', 'khs.tch', 'khs.dsch', 'khs.aach', 'khs.sssch', 'khs.ddc',\n",
    "               'khs.tsc', 'khs.dssc', 'khs.aasc', 'khs.aaac', 'khs.ssssc', 'khs.snh2', 'khs.ssnh.1',\n",
    "               'khs.aanh', 'khs.tn', 'khs.dsn', 'khs.aan', 'khs.sssn', 'khs.dsn.1', 'khs.aasn', 'khs.soh',\n",
    "               'khs.do', 'khs.sso', 'khs.aao', 'khs.ssh', 'khs.ds', 'khs.sss', 'khs.aas', 'khs.dsss', 'kier 1',\n",
    "               'kier 2', 'hybRatio', 'hbdon', 'hbacc', 'fragc', 'fmf', 'eccen', 'SP.0', 'SP.1', 'SP.2', 'SP.3', 'SP.4', 'SP.5', 'SP.6',\n",
    "               'SP.7', 'VP.0', 'VP.1', 'VP.2', 'VP.3', 'VP.4', 'VP.5', 'VP.6', 'VP.7', 'SPC.4', 'SPC.5', 'SPC.6', 'VPC.4', 'VPC.5',\n",
    "               'VPC.6', 'SC.3', 'SC.4', 'SC.5', 'SC.6', 'VC.3', 'VC.4', 'VC.5', 'VC.6', 'SCH.3', 'SCH.4', 'SCH.5', 'SCH.6', 'SCH.7',\n",
    "               'VCH.3', 'VCH.4', 'VCH.3', 'VCH.4', 'VCH.5', 'VCH.6', 'VCH.7', 'C1SP1', 'C2SP1', 'C1SP2', 'C2SP2', 'C3SP2', 'C1SP3',\n",
    "               'C2SP3', 'C3SP3', 'C4SP3', 'bpol', 'bond count', 'basic group count', 'atsp1', 'atsp2' , 'atsp3', 'atsp4', 'atsp5',\n",
    "               'atsm1', 'atsm2','atsm3','atsm4','atsm5', 'natom','apol','alogp', 'alogp2', 'amr', 'acid']]\n",
    "y = sensorama2_1['odor name']"
   ]
  },
  {
   "cell_type": "code",
   "execution_count": 25,
   "metadata": {},
   "outputs": [
    {
     "name": "stdout",
     "output_type": "stream",
     "text": [
      "Accuracy:  41.81547619047619 %\n"
     ]
    },
    {
     "data": {
      "image/png": "[encoded data removed]",
      "text/plain": [
       "<Figure size 432x288 with 2 Axes>"
      ]
     },
     "metadata": {
      "needs_background": "light"
     },
     "output_type": "display_data"
    }
   ],
   "source": [
    "X_train,X_test,y_train,y_test = train_test_split(X,y,test_size=0.25,random_state=0)\n",
    "sc_X = StandardScaler()\n",
    "X_train = sc_X.fit_transform(X_train)\n",
    "X_test = sc_X.transform(X_test)\n",
    "clf = RandomForestClassifier(n_estimators=100)\n",
    "clf.fit(X_train,y_train)\n",
    "y_pred=clf.predict(X_test)\n",
    "confusion_matrix = pd.crosstab(y_test, y_pred, rownames=['Actual'], colnames=['Predicted'])\n",
    "sns.heatmap(confusion_matrix, annot=True)\n",
    "print('Accuracy: ',metrics.accuracy_score(y_test, y_pred)*100,'%')\n",
    "plt.show()"
   ]
  },
  {
   "cell_type": "markdown",
   "metadata": {},
   "source": [
    "#### SUPPORT VECTOR MACHINE "
   ]
  },
  {
   "cell_type": "markdown",
   "metadata": {},
   "source": [
    "##### rbf Kernel "
   ]
  },
  {
   "cell_type": "code",
   "execution_count": 26,
   "metadata": {},
   "outputs": [
    {
     "name": "stdout",
     "output_type": "stream",
     "text": [
      "Accuracy: 43.00595238095239 %\n"
     ]
    }
   ],
   "source": [
    "X_tr, X_tst, y_tr, y_tst = train_test_split(X, y, test_size=25/100,random_state=109)\n",
    "clf = svm.SVC(kernel='rbf') # creating Support Vector Machine model\n",
    "clf.fit(X_tr, y_tr) # training the Model\n",
    "y_pr = clf.predict(X_tst) # making Predictions\n",
    "\n",
    "# Evaluating Prediction Accuracy\n",
    "print(\"Accuracy:\",metrics.accuracy_score(y_tst, y_pr)*100,\"%\")"
   ]
  },
  {
   "cell_type": "markdown",
   "metadata": {},
   "source": [
    "##### Polynomial Kernel\n"
   ]
  },
  {
   "cell_type": "code",
   "execution_count": 27,
   "metadata": {},
   "outputs": [
    {
     "name": "stdout",
     "output_type": "stream",
     "text": [
      "Accuracy: 33.33333333333333 %\n"
     ]
    }
   ],
   "source": [
    "X_tr, X_tst, y_tr, y_tst = train_test_split(X, y, test_size=25/100,random_state=109)\n",
    "clf = svm.SVC(kernel='poly') # Creating Support Vector Machine Model\n",
    "clf.fit(X_tr,y_tr) # fit classifier to training set\n",
    "y_pr = clf.predict(X_tst) # Making Predictions\n",
    "\n",
    "# Evaluating Prediction Accuracy\n",
    "print(\"Accuracy:\",metrics.accuracy_score(y_tst, y_pr)*100,\"%\")"
   ]
  },
  {
   "cell_type": "markdown",
   "metadata": {},
   "source": [
    "##### Sigmoid Kernel "
   ]
  },
  {
   "cell_type": "code",
   "execution_count": 28,
   "metadata": {},
   "outputs": [
    {
     "name": "stdout",
     "output_type": "stream",
     "text": [
      "Accuracy: 34.077380952380956 %\n"
     ]
    }
   ],
   "source": [
    "X_tr, X_tst, y_tr, y_tst = train_test_split(X, y, test_size=25/100,random_state=109)\n",
    "clf=svm.SVC(kernel='sigmoid') # instantiate classifier with sigmoid kernel\n",
    "clf.fit(X_tr,y_tr) # fit classifier to training set\n",
    "y_pr = clf.predict(X_tst) # Making Predictions\n",
    "\n",
    "# Evaluating Prediction Accuracy\n",
    "print(\"Accuracy:\",metrics.accuracy_score(y_tst, y_pr)*100,\"%\")"
   ]
  },
  {
   "cell_type": "markdown",
   "metadata": {},
   "source": [
    "#### DECISION TREE"
   ]
  },
  {
   "cell_type": "code",
   "execution_count": 29,
   "metadata": {},
   "outputs": [
    {
     "name": "stdout",
     "output_type": "stream",
     "text": [
      "Accuracy: 35.359801488833746 %\n"
     ]
    }
   ],
   "source": [
    "# Split dataset into training set and test set\n",
    "X_train, X_test, y_train, y_test = train_test_split(X, y, test_size=0.3, random_state=1) # 70% training and 30% test\n",
    "clf = DecisionTreeClassifier() # Create Decision Tree classifer object\n",
    "clf = clf.fit(X_train,y_train) # Train Decision Tree Classifer\n",
    "y_pred = clf.predict(X_test) # Predict the response for test dataset\n",
    "\n",
    "# how often is the classifier correct?\n",
    "print(\"Accuracy:\",metrics.accuracy_score(y_test, y_pred)*100,\"%\")"
   ]
  },
  {
   "cell_type": "markdown",
   "metadata": {},
   "source": [
    "#### LOGISTIC REGRESSION "
   ]
  },
  {
   "cell_type": "code",
   "execution_count": 30,
   "metadata": {},
   "outputs": [
    {
     "name": "stdout",
     "output_type": "stream",
     "text": [
      "Accuracy:  41.964285714285715 %\n"
     ]
    }
   ],
   "source": [
    "X_train,X_test,y_train,y_test = train_test_split(X,y,test_size=0.25,random_state=0)\n",
    "clf= LogisticRegression( max_iter=100000000)\n",
    "clf.fit(X_train,y_train)\n",
    "y_pred=clf.predict(X_test)\n",
    "print('Accuracy: ',metrics.accuracy_score(y_test, y_pred)*100,'%')"
   ]
  },
  {
   "cell_type": "markdown",
   "metadata": {},
   "source": [
    "#### K-Nearest Neighbor "
   ]
  },
  {
   "cell_type": "code",
   "execution_count": 31,
   "metadata": {},
   "outputs": [
    {
     "data": {
      "text/plain": [
       "Text(0, 0.5, 'Accuracy')"
      ]
     },
     "execution_count": 31,
     "metadata": {},
     "output_type": "execute_result"
    },
    {
     "data": {
      "image/png": "[encoded data removed]",
      "text/plain": [
       "<Figure size 864x432 with 1 Axes>"
      ]
     },
     "metadata": {
      "needs_background": "light"
     },
     "output_type": "display_data"
    }
   ],
   "source": [
    "# Split data into training and testing sets.\n",
    "X_train, X_test, y_train, y_test = train_test_split(X, y, random_state=42)\n",
    "accuracy=[]\n",
    "for i in range(1,21):\n",
    "    clf = KNeighborsClassifier(n_neighbors=i)\n",
    "    clf.fit(X_train, y_train)\n",
    "    ypred = clf.predict(X_test)\n",
    "    accuracy.append(metrics.accuracy_score(y_test, ypred))\n",
    "plt.figure(figsize=(12, 6))\n",
    "plt.plot(range(1, 21), accuracy, color='orange', linestyle='dashed', marker='o',\n",
    "         markerfacecolor='green', markersize=10)\n",
    "plt.title('Looking for the most accurate k value')\n",
    "plt.xlabel('K Value')\n",
    "plt.ylabel('Accuracy')"
   ]
  },
  {
   "cell_type": "code",
   "execution_count": 32,
   "metadata": {
    "scrolled": true
   },
   "outputs": [
    {
     "name": "stdout",
     "output_type": "stream",
     "text": [
      "Accuracy: 37.94642857142857 %\n"
     ]
    }
   ],
   "source": [
    "clf = KNeighborsClassifier(n_neighbors=9)\n",
    "clf.fit(X_train, y_train)\n",
    "ypred = clf.predict(X_test)\n",
    "\n",
    "# Best accuracy\n",
    "print(\"Accuracy:\",metrics.accuracy_score(y_test, ypred)*100,\"%\")"
   ]
  },
  {
   "cell_type": "markdown",
   "metadata": {},
   "source": [
    "### 15 MOST COMMON ODOR NAMES "
   ]
  },
  {
   "cell_type": "code",
   "execution_count": 33,
   "metadata": {},
   "outputs": [],
   "source": [
    "sensorama_1 = sensorama_1 .sort_values('odor name')"
   ]
  },
  {
   "cell_type": "code",
   "execution_count": 34,
   "metadata": {},
   "outputs": [
    {
     "data": {
      "text/html": [
       "<div>\n",
       "<style scoped>\n",
       "    .dataframe tbody tr th:only-of-type {\n",
       "        vertical-align: middle;\n",
       "    }\n",
       "\n",
       "    .dataframe tbody tr th {\n",
       "        vertical-align: top;\n",
       "    }\n",
       "\n",
       "    .dataframe thead th {\n",
       "        text-align: right;\n",
       "    }\n",
       "</style>\n",
       "<table border=\"1\" class=\"dataframe\">\n",
       "  <thead>\n",
       "    <tr style=\"text-align: right;\">\n",
       "      <th></th>\n",
       "      <th>cid</th>\n",
       "      <th>canonical_smiles</th>\n",
       "      <th>xlogp</th>\n",
       "      <th>odor level</th>\n",
       "      <th>odor name</th>\n",
       "      <th>fsp3</th>\n",
       "      <th>small rings</th>\n",
       "      <th>arom rings</th>\n",
       "      <th>ring blocks</th>\n",
       "      <th>arom blocks</th>\n",
       "      <th>...</th>\n",
       "      <th>atsm4</th>\n",
       "      <th>atsm5</th>\n",
       "      <th>natom</th>\n",
       "      <th>arom bond</th>\n",
       "      <th>arom atom</th>\n",
       "      <th>apol</th>\n",
       "      <th>alogp</th>\n",
       "      <th>alogp2</th>\n",
       "      <th>amr</th>\n",
       "      <th>acid</th>\n",
       "    </tr>\n",
       "  </thead>\n",
       "  <tbody>\n",
       "    <tr>\n",
       "      <td>876</td>\n",
       "      <td>7166.000000</td>\n",
       "      <td>491.000000</td>\n",
       "      <td>-0.835104</td>\n",
       "      <td>1.000000</td>\n",
       "      <td>38.000000</td>\n",
       "      <td>-1.642601</td>\n",
       "      <td>0.200130</td>\n",
       "      <td>1.183366</td>\n",
       "      <td>0.632666</td>\n",
       "      <td>1.285620</td>\n",
       "      <td>...</td>\n",
       "      <td>-0.067223</td>\n",
       "      <td>0.207940</td>\n",
       "      <td>-0.728725</td>\n",
       "      <td>0.000000</td>\n",
       "      <td>0.000000</td>\n",
       "      <td>-0.543202</td>\n",
       "      <td>-1.196401</td>\n",
       "      <td>-0.818263</td>\n",
       "      <td>-0.127228</td>\n",
       "      <td>-0.161598</td>\n",
       "    </tr>\n",
       "    <tr>\n",
       "      <td>13597</td>\n",
       "      <td>5273468.000000</td>\n",
       "      <td>2894.000000</td>\n",
       "      <td>2.223757</td>\n",
       "      <td>1.000000</td>\n",
       "      <td>38.000000</td>\n",
       "      <td>-0.629504</td>\n",
       "      <td>0.200130</td>\n",
       "      <td>1.183366</td>\n",
       "      <td>0.632666</td>\n",
       "      <td>1.285620</td>\n",
       "      <td>...</td>\n",
       "      <td>0.762008</td>\n",
       "      <td>0.817077</td>\n",
       "      <td>1.499554</td>\n",
       "      <td>0.000000</td>\n",
       "      <td>0.000000</td>\n",
       "      <td>1.695257</td>\n",
       "      <td>1.659426</td>\n",
       "      <td>1.664436</td>\n",
       "      <td>2.092070</td>\n",
       "      <td>-0.161598</td>\n",
       "    </tr>\n",
       "    <tr>\n",
       "      <td>13596</td>\n",
       "      <td>5273467.000000</td>\n",
       "      <td>854.000000</td>\n",
       "      <td>1.041924</td>\n",
       "      <td>1.000000</td>\n",
       "      <td>38.000000</td>\n",
       "      <td>-1.054436</td>\n",
       "      <td>0.200130</td>\n",
       "      <td>1.183366</td>\n",
       "      <td>0.632666</td>\n",
       "      <td>1.285620</td>\n",
       "      <td>...</td>\n",
       "      <td>0.347392</td>\n",
       "      <td>0.432488</td>\n",
       "      <td>0.544577</td>\n",
       "      <td>0.000000</td>\n",
       "      <td>0.000000</td>\n",
       "      <td>0.735923</td>\n",
       "      <td>0.567864</td>\n",
       "      <td>0.281971</td>\n",
       "      <td>1.185509</td>\n",
       "      <td>-0.161598</td>\n",
       "    </tr>\n",
       "    <tr>\n",
       "      <td>8531</td>\n",
       "      <td>86597.000000</td>\n",
       "      <td>1371.000000</td>\n",
       "      <td>1.667601</td>\n",
       "      <td>1.000000</td>\n",
       "      <td>38.000000</td>\n",
       "      <td>-0.145044</td>\n",
       "      <td>0.200130</td>\n",
       "      <td>-0.631781</td>\n",
       "      <td>0.632666</td>\n",
       "      <td>-0.644741</td>\n",
       "      <td>...</td>\n",
       "      <td>0.302006</td>\n",
       "      <td>0.193121</td>\n",
       "      <td>1.075120</td>\n",
       "      <td>0.000000</td>\n",
       "      <td>0.000000</td>\n",
       "      <td>1.165596</td>\n",
       "      <td>1.961358</td>\n",
       "      <td>2.141540</td>\n",
       "      <td>1.243801</td>\n",
       "      <td>-0.161598</td>\n",
       "    </tr>\n",
       "    <tr>\n",
       "      <td>9322</td>\n",
       "      <td>98492.000000</td>\n",
       "      <td>2973.000000</td>\n",
       "      <td>0.624807</td>\n",
       "      <td>1.000000</td>\n",
       "      <td>38.000000</td>\n",
       "      <td>-0.663573</td>\n",
       "      <td>0.200130</td>\n",
       "      <td>1.183366</td>\n",
       "      <td>0.632666</td>\n",
       "      <td>1.285620</td>\n",
       "      <td>...</td>\n",
       "      <td>0.209187</td>\n",
       "      <td>0.480362</td>\n",
       "      <td>0.438469</td>\n",
       "      <td>0.000000</td>\n",
       "      <td>0.000000</td>\n",
       "      <td>0.553994</td>\n",
       "      <td>0.409230</td>\n",
       "      <td>0.125711</td>\n",
       "      <td>0.811446</td>\n",
       "      <td>-0.161598</td>\n",
       "    </tr>\n",
       "    <tr>\n",
       "      <td>...</td>\n",
       "      <td>...</td>\n",
       "      <td>...</td>\n",
       "      <td>...</td>\n",
       "      <td>...</td>\n",
       "      <td>...</td>\n",
       "      <td>...</td>\n",
       "      <td>...</td>\n",
       "      <td>...</td>\n",
       "      <td>...</td>\n",
       "      <td>...</td>\n",
       "      <td>...</td>\n",
       "      <td>...</td>\n",
       "      <td>...</td>\n",
       "      <td>...</td>\n",
       "      <td>...</td>\n",
       "      <td>...</td>\n",
       "      <td>...</td>\n",
       "      <td>...</td>\n",
       "      <td>...</td>\n",
       "      <td>...</td>\n",
       "      <td>...</td>\n",
       "    </tr>\n",
       "    <tr>\n",
       "      <td>996</td>\n",
       "      <td>7362.000000</td>\n",
       "      <td>130.000000</td>\n",
       "      <td>-1.669339</td>\n",
       "      <td>1.000000</td>\n",
       "      <td>494.000000</td>\n",
       "      <td>-2.391380</td>\n",
       "      <td>0.200130</td>\n",
       "      <td>1.183366</td>\n",
       "      <td>0.632666</td>\n",
       "      <td>1.285620</td>\n",
       "      <td>...</td>\n",
       "      <td>-1.341722</td>\n",
       "      <td>-1.296826</td>\n",
       "      <td>-1.895919</td>\n",
       "      <td>0.000000</td>\n",
       "      <td>0.000000</td>\n",
       "      <td>-1.866394</td>\n",
       "      <td>-1.962229</td>\n",
       "      <td>-0.859683</td>\n",
       "      <td>-1.650552</td>\n",
       "      <td>-0.161598</td>\n",
       "    </tr>\n",
       "    <tr>\n",
       "      <td>3469</td>\n",
       "      <td>12769.000000</td>\n",
       "      <td>1205.000000</td>\n",
       "      <td>-0.070389</td>\n",
       "      <td>1.000000</td>\n",
       "      <td>494.000000</td>\n",
       "      <td>-1.143540</td>\n",
       "      <td>0.200130</td>\n",
       "      <td>1.183366</td>\n",
       "      <td>0.632666</td>\n",
       "      <td>1.285620</td>\n",
       "      <td>...</td>\n",
       "      <td>-0.113121</td>\n",
       "      <td>-0.528183</td>\n",
       "      <td>-0.728725</td>\n",
       "      <td>0.000000</td>\n",
       "      <td>0.000000</td>\n",
       "      <td>-0.670180</td>\n",
       "      <td>-0.187000</td>\n",
       "      <td>-0.360303</td>\n",
       "      <td>-0.453986</td>\n",
       "      <td>-0.161598</td>\n",
       "    </tr>\n",
       "    <tr>\n",
       "      <td>13665</td>\n",
       "      <td>5281519.000000</td>\n",
       "      <td>1404.000000</td>\n",
       "      <td>0.902885</td>\n",
       "      <td>1.000000</td>\n",
       "      <td>494.000000</td>\n",
       "      <td>-0.145044</td>\n",
       "      <td>-0.878056</td>\n",
       "      <td>-0.631781</td>\n",
       "      <td>0.632666</td>\n",
       "      <td>-0.644741</td>\n",
       "      <td>...</td>\n",
       "      <td>0.716621</td>\n",
       "      <td>1.202199</td>\n",
       "      <td>1.075120</td>\n",
       "      <td>0.000000</td>\n",
       "      <td>0.000000</td>\n",
       "      <td>1.165596</td>\n",
       "      <td>2.096398</td>\n",
       "      <td>2.368216</td>\n",
       "      <td>1.226357</td>\n",
       "      <td>-0.161598</td>\n",
       "    </tr>\n",
       "    <tr>\n",
       "      <td>7030</td>\n",
       "      <td>62127.000000</td>\n",
       "      <td>536.000000</td>\n",
       "      <td>1.320003</td>\n",
       "      <td>1.000000</td>\n",
       "      <td>494.000000</td>\n",
       "      <td>1.132372</td>\n",
       "      <td>2.356503</td>\n",
       "      <td>-0.631781</td>\n",
       "      <td>0.632666</td>\n",
       "      <td>-0.644741</td>\n",
       "      <td>...</td>\n",
       "      <td>3.019187</td>\n",
       "      <td>3.603329</td>\n",
       "      <td>1.923988</td>\n",
       "      <td>0.000000</td>\n",
       "      <td>0.000000</td>\n",
       "      <td>1.970961</td>\n",
       "      <td>0.943214</td>\n",
       "      <td>0.696841</td>\n",
       "      <td>1.524954</td>\n",
       "      <td>-0.161598</td>\n",
       "    </tr>\n",
       "    <tr>\n",
       "      <td>9593</td>\n",
       "      <td>103005.000000</td>\n",
       "      <td>1504.000000</td>\n",
       "      <td>1.250483</td>\n",
       "      <td>1.000000</td>\n",
       "      <td>494.000000</td>\n",
       "      <td>1.352513</td>\n",
       "      <td>3.434689</td>\n",
       "      <td>-0.631781</td>\n",
       "      <td>2.371507</td>\n",
       "      <td>-0.644741</td>\n",
       "      <td>...</td>\n",
       "      <td>1.775852</td>\n",
       "      <td>1.009638</td>\n",
       "      <td>1.711771</td>\n",
       "      <td>0.000000</td>\n",
       "      <td>0.000000</td>\n",
       "      <td>1.706131</td>\n",
       "      <td>0.967155</td>\n",
       "      <td>0.725448</td>\n",
       "      <td>1.236250</td>\n",
       "      <td>-0.161598</td>\n",
       "    </tr>\n",
       "  </tbody>\n",
       "</table>\n",
       "<p>2142 rows × 212 columns</p>\n",
       "</div>"
      ],
      "text/plain": [
       "                 cid  canonical_smiles     xlogp  odor level  odor name  \\\n",
       "876      7166.000000        491.000000 -0.835104    1.000000  38.000000   \n",
       "13597 5273468.000000       2894.000000  2.223757    1.000000  38.000000   \n",
       "13596 5273467.000000        854.000000  1.041924    1.000000  38.000000   \n",
       "8531    86597.000000       1371.000000  1.667601    1.000000  38.000000   \n",
       "9322    98492.000000       2973.000000  0.624807    1.000000  38.000000   \n",
       "...              ...               ...       ...         ...        ...   \n",
       "996      7362.000000        130.000000 -1.669339    1.000000 494.000000   \n",
       "3469    12769.000000       1205.000000 -0.070389    1.000000 494.000000   \n",
       "13665 5281519.000000       1404.000000  0.902885    1.000000 494.000000   \n",
       "7030    62127.000000        536.000000  1.320003    1.000000 494.000000   \n",
       "9593   103005.000000       1504.000000  1.250483    1.000000 494.000000   \n",
       "\n",
       "           fsp3  small rings  arom rings  ring blocks  arom blocks  ...  \\\n",
       "876   -1.642601     0.200130    1.183366     0.632666     1.285620  ...   \n",
       "13597 -0.629504     0.200130    1.183366     0.632666     1.285620  ...   \n",
       "13596 -1.054436     0.200130    1.183366     0.632666     1.285620  ...   \n",
       "8531  -0.145044     0.200130   -0.631781     0.632666    -0.644741  ...   \n",
       "9322  -0.663573     0.200130    1.183366     0.632666     1.285620  ...   \n",
       "...         ...          ...         ...          ...          ...  ...   \n",
       "996   -2.391380     0.200130    1.183366     0.632666     1.285620  ...   \n",
       "3469  -1.143540     0.200130    1.183366     0.632666     1.285620  ...   \n",
       "13665 -0.145044    -0.878056   -0.631781     0.632666    -0.644741  ...   \n",
       "7030   1.132372     2.356503   -0.631781     0.632666    -0.644741  ...   \n",
       "9593   1.352513     3.434689   -0.631781     2.371507    -0.644741  ...   \n",
       "\n",
       "          atsm4     atsm5     natom  arom bond  arom atom      apol     alogp  \\\n",
       "876   -0.067223  0.207940 -0.728725   0.000000   0.000000 -0.543202 -1.196401   \n",
       "13597  0.762008  0.817077  1.499554   0.000000   0.000000  1.695257  1.659426   \n",
       "13596  0.347392  0.432488  0.544577   0.000000   0.000000  0.735923  0.567864   \n",
       "8531   0.302006  0.193121  1.075120   0.000000   0.000000  1.165596  1.961358   \n",
       "9322   0.209187  0.480362  0.438469   0.000000   0.000000  0.553994  0.409230   \n",
       "...         ...       ...       ...        ...        ...       ...       ...   \n",
       "996   -1.341722 -1.296826 -1.895919   0.000000   0.000000 -1.866394 -1.962229   \n",
       "3469  -0.113121 -0.528183 -0.728725   0.000000   0.000000 -0.670180 -0.187000   \n",
       "13665  0.716621  1.202199  1.075120   0.000000   0.000000  1.165596  2.096398   \n",
       "7030   3.019187  3.603329  1.923988   0.000000   0.000000  1.970961  0.943214   \n",
       "9593   1.775852  1.009638  1.711771   0.000000   0.000000  1.706131  0.967155   \n",
       "\n",
       "         alogp2       amr      acid  \n",
       "876   -0.818263 -0.127228 -0.161598  \n",
       "13597  1.664436  2.092070 -0.161598  \n",
       "13596  0.281971  1.185509 -0.161598  \n",
       "8531   2.141540  1.243801 -0.161598  \n",
       "9322   0.125711  0.811446 -0.161598  \n",
       "...         ...       ...       ...  \n",
       "996   -0.859683 -1.650552 -0.161598  \n",
       "3469  -0.360303 -0.453986 -0.161598  \n",
       "13665  2.368216  1.226357 -0.161598  \n",
       "7030   0.696841  1.524954 -0.161598  \n",
       "9593   0.725448  1.236250 -0.161598  \n",
       "\n",
       "[2142 rows x 212 columns]"
      ]
     },
     "execution_count": 34,
     "metadata": {},
     "output_type": "execute_result"
    }
   ],
   "source": [
    "sensorama2_1=[]\n",
    "\n",
    "for i in range(52, len(sensorama_1)-52):\n",
    "    if sensorama_1.iloc[i,4] == sensorama_1.iloc[i+52,4] or sensorama_1.iloc[i,4] == sensorama_1.iloc[i-52,4]:\n",
    "        sensorama2_1.append(sensorama_1.iloc[i,:]) \n",
    "\n",
    "sensorama2_1= pd.DataFrame(sensorama2_1)\n",
    "sensorama2_1"
   ]
  },
  {
   "cell_type": "code",
   "execution_count": 35,
   "metadata": {},
   "outputs": [
    {
     "name": "stdout",
     "output_type": "stream",
     "text": [
      "15\n"
     ]
    }
   ],
   "source": [
    "count=0\n",
    "for i in range(1, len(sensorama2_1)):\n",
    "    if sensorama2_1.iloc[i,4]!= sensorama2_1.iloc[i-1,4]:\n",
    "        count = count +1\n",
    "print(count)"
   ]
  },
  {
   "cell_type": "code",
   "execution_count": 36,
   "metadata": {},
   "outputs": [],
   "source": [
    "X = sensorama2_1[[ 'xlogp','fsp3', 'small rings','arom rings','ring blocks','arom blocks','rings 3','rings 4', 'rings 5', 'rings 6',\n",
    "               'rings 7', 'rings 8', 'rings 9', 'tpsa efficiency', 'zagreb indices', 'weiner path', 'weiner polarity', 'wtpt.1',\n",
    "               'wtpt.2', 'wtpt.3', 'wtpt.4', 'wtpt.5', 'molecular weight', 'VAdjMat', 'topoPSA', 'lipinski failures', 'rotatable bonds',\n",
    "               'topo shape', 'petitjean number', 'mdec.11', 'mdec.12', 'mdec.13', 'mdec.14', 'mdec.22', 'mdec.23', 'mdec.24',\n",
    "               'mdec.33', 'mdec.34', 'mdec.44', 'mdeo.11', 'mdeo.12', 'mdeo.22', 'mden.11', 'mden.12', 'mden.13', 'mden.22',\n",
    "               'mden.23', 'mden.33', 'mlogp', 'atom p', 'atom lc', 'khs.sli', 'khs.ssbe', 'khs.ssssbe', 'khs.ssbh', 'khs.sssb',\n",
    "               'khs.ssssb', 'khs.sch3', 'khs.dch2', 'khs.ssch2', 'khs.tch', 'khs.dsch', 'khs.aach', 'khs.sssch', 'khs.ddc',\n",
    "               'khs.tsc', 'khs.dssc', 'khs.aasc', 'khs.aaac', 'khs.ssssc', 'khs.snh3', 'khs.snh2', 'khs.ssnh', 'khs.dnh', 'khs.ssnh.1',\n",
    "               'khs.aanh', 'khs.tn', 'khs.sssnh', 'khs.dsn', 'khs.aan', 'khs.sssn', 'khs.dsn.1', 'khs.aasn', 'khs.ssssn', 'khs.soh',\n",
    "               'khs.do', 'khs.sso', 'khs.aao', 'khs.sf', 'khs.ssih3', 'khs.sssih2', 'khs.ssssih', 'khs.sssssi', 'khs.sph2',\n",
    "               'khs.ssph', 'khs.sssp', 'khs.dsssp', 'khs.sssssp', 'khs.ssh', 'khs.ds', 'khs.sss', 'khs.aas', 'khs.dsss', 'khs.ddsss',\n",
    "               'khs.scl', 'khs.sGeH3', 'khs.ssGeH2', 'khs.sssGeH', 'khs.ssssGe', 'khs.sash2', 'khs.ssash', 'khs.sssas', 'khs.sssdas',\n",
    "               'khs.sssssas', 'khs.sseh', 'khs.dse', 'khs.ssse', 'khs.aase', 'khs.dssse', 'khs.ddssse', 'khs.sbr', 'khs.ssnh3', \n",
    "               'khs.sssnh2', 'khs.ssssnh', 'khs.sssssn', 'khs.si', 'khs.spbh3', 'khs.sspbh2', 'khs.ssspbh', 'khs.sssspb', 'kier 1',\n",
    "               'kier 2', 'hybRatio', 'hbdon', 'hbacc', 'fragc', 'fmf', 'eccen', 'SP.0', 'SP.1', 'SP.2', 'SP.3', 'SP.4', 'SP.5', 'SP.6',\n",
    "               'SP.7', 'VP.0', 'VP.1', 'VP.2', 'VP.3', 'VP.4', 'VP.5', 'VP.6', 'VP.7', 'SPC.4', 'SPC.5', 'SPC.6', 'VPC.4', 'VPC.5',\n",
    "               'VPC.6', 'SC.3', 'SC.4', 'SC.5', 'SC.6', 'VC.3', 'VC.4', 'VC.5', 'VC.6', 'SCH.3', 'SCH.4', 'SCH.5', 'SCH.6', 'SCH.7',\n",
    "               'VCH.3', 'VCH.4', 'VCH.3', 'VCH.4', 'VCH.5', 'VCH.6', 'VCH.7', 'C1SP1', 'C2SP1', 'C1SP2', 'C2SP2', 'C3SP2', 'C1SP3',\n",
    "               'C2SP3', 'C3SP3', 'C4SP3', 'bpol', 'bond count', 'basic group count', 'atsp1', 'atsp2' , 'atsp3', 'atsp4', 'atsp5',\n",
    "               'atsm1', 'atsm2','atsm3','atsm4','atsm5', 'natom','arom bond', 'arom atom', 'apol','alogp', 'alogp2', 'amr', 'acid']]\n",
    "y = sensorama2_1['odor name']"
   ]
  },
  {
   "cell_type": "markdown",
   "metadata": {},
   "source": [
    "#### RANDOM FOREST"
   ]
  },
  {
   "cell_type": "code",
   "execution_count": 37,
   "metadata": {},
   "outputs": [
    {
     "name": "stdout",
     "output_type": "stream",
     "text": [
      "Accuracy:  48.32089552238806 %\n"
     ]
    },
    {
     "data": {
      "image/png": "[encoded data removed]",
      "text/plain": [
       "<Figure size 432x288 with 2 Axes>"
      ]
     },
     "metadata": {
      "needs_background": "light"
     },
     "output_type": "display_data"
    }
   ],
   "source": [
    "X_train,X_test,y_train,y_test = train_test_split(X,y,test_size=0.25,random_state=0)\n",
    "sc_X = StandardScaler()\n",
    "X_train = sc_X.fit_transform(X_train)\n",
    "X_test = sc_X.transform(X_test)\n",
    "clf = RandomForestClassifier(n_estimators=100)\n",
    "clf.fit(X_train,y_train)\n",
    "y_pred=clf.predict(X_test)\n",
    "confusion_matrix = pd.crosstab(y_test, y_pred, rownames=['Actual'], colnames=['Predicted'])\n",
    "sns.heatmap(confusion_matrix, annot=True)\n",
    "print('Accuracy: ',metrics.accuracy_score(y_test, y_pred)*100,'%')\n",
    "plt.show()"
   ]
  },
  {
   "cell_type": "markdown",
   "metadata": {},
   "source": [
    "##### Feature Importances "
   ]
  },
  {
   "cell_type": "code",
   "execution_count": 38,
   "metadata": {},
   "outputs": [
    {
     "data": {
      "image/png": "[encoded data removed]",
      "text/plain": [
       "<Figure size 432x288 with 1 Axes>"
      ]
     },
     "metadata": {
      "needs_background": "light"
     },
     "output_type": "display_data"
    }
   ],
   "source": [
    "featureImportances = pd.Series(clf.feature_importances_).sort_values(ascending=False)\n",
    "sns.barplot(x=round(featureImportances,8), y=featureImportances)\n",
    "plt.xlabel('Features Importance')\n",
    "plt.show()"
   ]
  },
  {
   "cell_type": "code",
   "execution_count": 39,
   "metadata": {},
   "outputs": [],
   "source": [
    "X = sensorama2_1[[ 'xlogp','fsp3', 'small rings','arom rings','ring blocks','arom blocks','rings 3','rings 4', 'rings 5', 'rings 6',\n",
    "               'rings 7', 'tpsa efficiency', 'zagreb indices', 'weiner path', 'weiner polarity', 'wtpt.1',\n",
    "               'wtpt.2', 'wtpt.3', 'wtpt.4', 'wtpt.5', 'molecular weight', 'VAdjMat', 'topoPSA', 'lipinski failures', 'rotatable bonds',\n",
    "               'topo shape', 'petitjean number', 'mdec.11', 'mdec.12', 'mdec.13', 'mdec.14', 'mdec.22', 'mdec.23', 'mdec.24',\n",
    "               'mdec.33', 'mdec.34', 'mdec.44', 'mdeo.11', 'mdeo.12', 'mdeo.22', 'mden.22',\n",
    "               'mden.23', 'mlogp', 'atom p', 'atom lc',\n",
    "                  'khs.sch3', 'khs.dch2', 'khs.ssch2','khs.dsch', 'khs.aach', 'khs.sssch', 'khs.ddc',\n",
    "               'khs.tsc', 'khs.dssc', 'khs.aasc', 'khs.aaac', 'khs.ssssc', 'khs.snh2', 'khs.ssnh.1',\n",
    "               'khs.tn', 'khs.dsn', 'khs.aan', 'khs.sssn', 'khs.dsn.1', 'khs.aasn', 'khs.soh',\n",
    "               'khs.do', 'khs.sso', 'khs.aao','khs.ssh', 'khs.ds', 'khs.sss', 'khs.aas', 'khs.dsss','kier 1',\n",
    "               'kier 2', 'hybRatio', 'hbdon', 'hbacc', 'fragc', 'fmf', 'eccen', 'SP.0', 'SP.1', 'SP.2', 'SP.3', 'SP.4', 'SP.5', 'SP.6',\n",
    "               'SP.7', 'VP.0', 'VP.1', 'VP.2', 'VP.3', 'VP.4', 'VP.5', 'VP.6', 'VP.7', 'SPC.4', 'SPC.5', 'SPC.6', 'VPC.4', 'VPC.5',\n",
    "               'VPC.6', 'SC.3', 'SC.4', 'SC.5', 'SC.6', 'VC.3', 'VC.4', 'VC.5', 'VC.6', 'SCH.3', 'SCH.4', 'SCH.5', 'SCH.6', 'SCH.7',\n",
    "               'VCH.3', 'VCH.4', 'VCH.3', 'VCH.4', 'VCH.5', 'VCH.6', 'VCH.7', 'C1SP1', 'C2SP1', 'C1SP2', 'C2SP2', 'C3SP2', 'C1SP3',\n",
    "               'C2SP3', 'C3SP3', 'C4SP3', 'bpol', 'bond count', 'basic group count', 'atsp1', 'atsp2' , 'atsp3', 'atsp4', 'atsp5',\n",
    "               'atsm1', 'atsm2','atsm3','atsm4','atsm5', 'natom', 'apol','alogp', 'alogp2', 'amr', 'acid']]\n",
    "y = sensorama2_1['odor name']"
   ]
  },
  {
   "cell_type": "code",
   "execution_count": 40,
   "metadata": {},
   "outputs": [
    {
     "name": "stdout",
     "output_type": "stream",
     "text": [
      "Accuracy:  47.38805970149254 %\n"
     ]
    },
    {
     "data": {
      "image/png": "[encoded data removed]",
      "text/plain": [
       "<Figure size 432x288 with 2 Axes>"
      ]
     },
     "metadata": {
      "needs_background": "light"
     },
     "output_type": "display_data"
    }
   ],
   "source": [
    "X_train,X_test,y_train,y_test = train_test_split(X,y,test_size=0.25,random_state=0)\n",
    "sc_X = StandardScaler()\n",
    "X_train = sc_X.fit_transform(X_train)\n",
    "X_test = sc_X.transform(X_test)\n",
    "clf = RandomForestClassifier(n_estimators=100)\n",
    "clf.fit(X_train,y_train)\n",
    "y_pred=clf.predict(X_test)\n",
    "confusion_matrix = pd.crosstab(y_test, y_pred, rownames=['Actual'], colnames=['Predicted'])\n",
    "sns.heatmap(confusion_matrix, annot=True)\n",
    "print('Accuracy: ',metrics.accuracy_score(y_test, y_pred)*100,'%')\n",
    "plt.show()"
   ]
  },
  {
   "cell_type": "markdown",
   "metadata": {},
   "source": [
    "#### SUPPORT VECTOR MACHINE "
   ]
  },
  {
   "cell_type": "markdown",
   "metadata": {},
   "source": [
    "##### rbf Kernel "
   ]
  },
  {
   "cell_type": "code",
   "execution_count": 41,
   "metadata": {},
   "outputs": [
    {
     "name": "stdout",
     "output_type": "stream",
     "text": [
      "Accuracy: 47.57462686567165 %\n"
     ]
    }
   ],
   "source": [
    "X_tr, X_tst, y_tr, y_tst = train_test_split(X, y, test_size=25/100,random_state=109)\n",
    "clf = svm.SVC(kernel='rbf') # creating Support Vector Machine model\n",
    "clf.fit(X_tr, y_tr) # training the Model\n",
    "y_pr = clf.predict(X_tst) # making Predictions\n",
    "\n",
    "# Evaluating Prediction Accuracy\n",
    "print(\"Accuracy:\",metrics.accuracy_score(y_tst, y_pr)*100,\"%\")"
   ]
  },
  {
   "cell_type": "markdown",
   "metadata": {},
   "source": [
    "##### Polynomial Kernel\n"
   ]
  },
  {
   "cell_type": "code",
   "execution_count": 42,
   "metadata": {},
   "outputs": [
    {
     "name": "stdout",
     "output_type": "stream",
     "text": [
      "Accuracy: 37.3134328358209 %\n"
     ]
    }
   ],
   "source": [
    "X_tr, X_tst, y_tr, y_tst = train_test_split(X, y, test_size=25/100,random_state=109)\n",
    "clf = svm.SVC(kernel='poly') # Creating Support Vector Machine Model\n",
    "clf.fit(X_tr,y_tr) # fit classifier to training set\n",
    "y_pr = clf.predict(X_tst) # Making Predictions\n",
    "\n",
    "# Evaluating Prediction Accuracy\n",
    "print(\"Accuracy:\",metrics.accuracy_score(y_tst, y_pr)*100,\"%\")"
   ]
  },
  {
   "cell_type": "markdown",
   "metadata": {},
   "source": [
    "##### Sigmoid Kernel "
   ]
  },
  {
   "cell_type": "code",
   "execution_count": 43,
   "metadata": {},
   "outputs": [
    {
     "name": "stdout",
     "output_type": "stream",
     "text": [
      "Accuracy: 39.365671641791046 %\n"
     ]
    }
   ],
   "source": [
    "X_tr, X_tst, y_tr, y_tst = train_test_split(X, y, test_size=25/100,random_state=109)\n",
    "clf=svm.SVC(kernel='sigmoid') # instantiate classifier with sigmoid kernel\n",
    "clf.fit(X_tr,y_tr) # fit classifier to training set\n",
    "y_pr = clf.predict(X_tst) # Making Predictions\n",
    "\n",
    "# Evaluating Prediction Accuracy\n",
    "print(\"Accuracy:\",metrics.accuracy_score(y_tst, y_pr)*100,\"%\")"
   ]
  },
  {
   "cell_type": "markdown",
   "metadata": {},
   "source": [
    "#### DECISION TREE"
   ]
  },
  {
   "cell_type": "code",
   "execution_count": 44,
   "metadata": {},
   "outputs": [
    {
     "name": "stdout",
     "output_type": "stream",
     "text": [
      "Accuracy: 40.27993779160187 %\n"
     ]
    }
   ],
   "source": [
    "# Split dataset into training set and test set\n",
    "X_train, X_test, y_train, y_test = train_test_split(X, y, test_size=0.3, random_state=1) # 70% training and 30% test\n",
    "clf = DecisionTreeClassifier() # Create Decision Tree classifer object\n",
    "clf = clf.fit(X_train,y_train) # Train Decision Tree Classifer\n",
    "y_pred = clf.predict(X_test) # Predict the response for test dataset\n",
    "\n",
    "# how often is the classifier correct?\n",
    "print(\"Accuracy:\",metrics.accuracy_score(y_test, y_pred)*100,\"%\")"
   ]
  },
  {
   "cell_type": "markdown",
   "metadata": {},
   "source": [
    "#### LOGISTIC REGRESSION "
   ]
  },
  {
   "cell_type": "code",
   "execution_count": 45,
   "metadata": {},
   "outputs": [
    {
     "name": "stdout",
     "output_type": "stream",
     "text": [
      "Accuracy:  49.8134328358209 %\n"
     ]
    }
   ],
   "source": [
    "X_train,X_test,y_train,y_test = train_test_split(X,y,test_size=0.25,random_state=0)\n",
    "clf= LogisticRegression( max_iter=100000000)\n",
    "clf.fit(X_train,y_train)\n",
    "y_pred=clf.predict(X_test)\n",
    "print('Accuracy: ',metrics.accuracy_score(y_test, y_pred)*100,'%')"
   ]
  },
  {
   "cell_type": "markdown",
   "metadata": {},
   "source": [
    "#### K-Nearest Neighbor "
   ]
  },
  {
   "cell_type": "code",
   "execution_count": 46,
   "metadata": {},
   "outputs": [
    {
     "data": {
      "text/plain": [
       "Text(0, 0.5, 'Accuracy')"
      ]
     },
     "execution_count": 46,
     "metadata": {},
     "output_type": "execute_result"
    },
    {
     "data": {
      "image/png": "[encoded data removed]",
      "text/plain": [
       "<Figure size 864x432 with 1 Axes>"
      ]
     },
     "metadata": {
      "needs_background": "light"
     },
     "output_type": "display_data"
    }
   ],
   "source": [
    "# Split data into training and testing sets.\n",
    "X_train, X_test, y_train, y_test = train_test_split(X, y, random_state=42)\n",
    "accuracy=[]\n",
    "for i in range(1,21):\n",
    "    clf = KNeighborsClassifier(n_neighbors=i)\n",
    "    clf.fit(X_train, y_train)\n",
    "    ypred = clf.predict(X_test)\n",
    "    accuracy.append(metrics.accuracy_score(y_test, ypred))\n",
    "plt.figure(figsize=(12, 6))\n",
    "plt.plot(range(1, 21), accuracy, color='orange', linestyle='dashed', marker='o',\n",
    "         markerfacecolor='green', markersize=10)\n",
    "plt.title('Looking for the most accurate k value')\n",
    "plt.xlabel('K Value')\n",
    "plt.ylabel('Accuracy')"
   ]
  },
  {
   "cell_type": "code",
   "execution_count": 47,
   "metadata": {
    "scrolled": true
   },
   "outputs": [
    {
     "name": "stdout",
     "output_type": "stream",
     "text": [
      "Accuracy: 46.082089552238806 %\n"
     ]
    }
   ],
   "source": [
    "clf = KNeighborsClassifier(n_neighbors=1)\n",
    "clf.fit(X_train, y_train)\n",
    "ypred = clf.predict(X_test)\n",
    "\n",
    "# Best accuracy\n",
    "print(\"Accuracy:\",metrics.accuracy_score(y_test, ypred)*100,\"%\")"
   ]
  },
  {
   "cell_type": "markdown",
   "metadata": {},
   "source": [
    "### 10 MOST COMMON ODOR NAMES "
   ]
  },
  {
   "cell_type": "code",
   "execution_count": 48,
   "metadata": {},
   "outputs": [],
   "source": [
    "sensorama_1 = sensorama_1 .sort_values('odor name')"
   ]
  },
  {
   "cell_type": "code",
   "execution_count": 49,
   "metadata": {},
   "outputs": [
    {
     "data": {
      "text/html": [
       "<div>\n",
       "<style scoped>\n",
       "    .dataframe tbody tr th:only-of-type {\n",
       "        vertical-align: middle;\n",
       "    }\n",
       "\n",
       "    .dataframe tbody tr th {\n",
       "        vertical-align: top;\n",
       "    }\n",
       "\n",
       "    .dataframe thead th {\n",
       "        text-align: right;\n",
       "    }\n",
       "</style>\n",
       "<table border=\"1\" class=\"dataframe\">\n",
       "  <thead>\n",
       "    <tr style=\"text-align: right;\">\n",
       "      <th></th>\n",
       "      <th>cid</th>\n",
       "      <th>canonical_smiles</th>\n",
       "      <th>xlogp</th>\n",
       "      <th>odor level</th>\n",
       "      <th>odor name</th>\n",
       "      <th>fsp3</th>\n",
       "      <th>small rings</th>\n",
       "      <th>arom rings</th>\n",
       "      <th>ring blocks</th>\n",
       "      <th>arom blocks</th>\n",
       "      <th>...</th>\n",
       "      <th>atsm4</th>\n",
       "      <th>atsm5</th>\n",
       "      <th>natom</th>\n",
       "      <th>arom bond</th>\n",
       "      <th>arom atom</th>\n",
       "      <th>apol</th>\n",
       "      <th>alogp</th>\n",
       "      <th>alogp2</th>\n",
       "      <th>amr</th>\n",
       "      <th>acid</th>\n",
       "    </tr>\n",
       "  </thead>\n",
       "  <tbody>\n",
       "    <tr>\n",
       "      <td>6304</td>\n",
       "      <td>61331.000000</td>\n",
       "      <td>3363.000000</td>\n",
       "      <td>0.138170</td>\n",
       "      <td>1.000000</td>\n",
       "      <td>38.000000</td>\n",
       "      <td>-1.892319</td>\n",
       "      <td>1.278317</td>\n",
       "      <td>2.998513</td>\n",
       "      <td>2.371507</td>\n",
       "      <td>3.215981</td>\n",
       "      <td>...</td>\n",
       "      <td>1.559548</td>\n",
       "      <td>1.680920</td>\n",
       "      <td>0.332360</td>\n",
       "      <td>0.000000</td>\n",
       "      <td>0.000000</td>\n",
       "      <td>0.725049</td>\n",
       "      <td>-0.582544</td>\n",
       "      <td>-0.594416</td>\n",
       "      <td>1.646078</td>\n",
       "      <td>-0.161598</td>\n",
       "    </tr>\n",
       "    <tr>\n",
       "      <td>15927</td>\n",
       "      <td>6435823.000000</td>\n",
       "      <td>76.000000</td>\n",
       "      <td>1.459042</td>\n",
       "      <td>1.000000</td>\n",
       "      <td>38.000000</td>\n",
       "      <td>-1.767273</td>\n",
       "      <td>1.278317</td>\n",
       "      <td>2.998513</td>\n",
       "      <td>2.371507</td>\n",
       "      <td>3.215981</td>\n",
       "      <td>...</td>\n",
       "      <td>1.176623</td>\n",
       "      <td>0.961231</td>\n",
       "      <td>0.969011</td>\n",
       "      <td>0.000000</td>\n",
       "      <td>0.000000</td>\n",
       "      <td>1.463638</td>\n",
       "      <td>0.785760</td>\n",
       "      <td>0.515086</td>\n",
       "      <td>2.473501</td>\n",
       "      <td>-0.161598</td>\n",
       "    </tr>\n",
       "    <tr>\n",
       "      <td>11797</td>\n",
       "      <td>346281.000000</td>\n",
       "      <td>108.000000</td>\n",
       "      <td>-0.765585</td>\n",
       "      <td>1.000000</td>\n",
       "      <td>38.000000</td>\n",
       "      <td>-1.559487</td>\n",
       "      <td>0.200130</td>\n",
       "      <td>1.183366</td>\n",
       "      <td>0.632666</td>\n",
       "      <td>1.285620</td>\n",
       "      <td>...</td>\n",
       "      <td>-0.282505</td>\n",
       "      <td>-0.336155</td>\n",
       "      <td>-0.728725</td>\n",
       "      <td>0.000000</td>\n",
       "      <td>0.000000</td>\n",
       "      <td>-0.642229</td>\n",
       "      <td>-1.237482</td>\n",
       "      <td>-0.827185</td>\n",
       "      <td>-0.220806</td>\n",
       "      <td>-0.161598</td>\n",
       "    </tr>\n",
       "    <tr>\n",
       "      <td>5260</td>\n",
       "      <td>31226.000000</td>\n",
       "      <td>574.000000</td>\n",
       "      <td>-0.209428</td>\n",
       "      <td>1.000000</td>\n",
       "      <td>38.000000</td>\n",
       "      <td>-1.030100</td>\n",
       "      <td>0.200130</td>\n",
       "      <td>1.183366</td>\n",
       "      <td>0.632666</td>\n",
       "      <td>1.285620</td>\n",
       "      <td>...</td>\n",
       "      <td>-0.297224</td>\n",
       "      <td>-0.287748</td>\n",
       "      <td>-0.198182</td>\n",
       "      <td>0.000000</td>\n",
       "      <td>0.000000</td>\n",
       "      <td>-0.085568</td>\n",
       "      <td>-0.370130</td>\n",
       "      <td>-0.477452</td>\n",
       "      <td>0.207663</td>\n",
       "      <td>-0.161598</td>\n",
       "    </tr>\n",
       "    <tr>\n",
       "      <td>1407</td>\n",
       "      <td>7712.000000</td>\n",
       "      <td>59.000000</td>\n",
       "      <td>-0.209428</td>\n",
       "      <td>1.000000</td>\n",
       "      <td>38.000000</td>\n",
       "      <td>-2.016991</td>\n",
       "      <td>0.200130</td>\n",
       "      <td>1.183366</td>\n",
       "      <td>0.632666</td>\n",
       "      <td>1.285620</td>\n",
       "      <td>...</td>\n",
       "      <td>-0.435429</td>\n",
       "      <td>-0.431902</td>\n",
       "      <td>-0.728725</td>\n",
       "      <td>0.000000</td>\n",
       "      <td>0.000000</td>\n",
       "      <td>-0.543202</td>\n",
       "      <td>-0.639655</td>\n",
       "      <td>-0.622405</td>\n",
       "      <td>0.004241</td>\n",
       "      <td>-0.161598</td>\n",
       "    </tr>\n",
       "    <tr>\n",
       "      <td>...</td>\n",
       "      <td>...</td>\n",
       "      <td>...</td>\n",
       "      <td>...</td>\n",
       "      <td>...</td>\n",
       "      <td>...</td>\n",
       "      <td>...</td>\n",
       "      <td>...</td>\n",
       "      <td>...</td>\n",
       "      <td>...</td>\n",
       "      <td>...</td>\n",
       "      <td>...</td>\n",
       "      <td>...</td>\n",
       "      <td>...</td>\n",
       "      <td>...</td>\n",
       "      <td>...</td>\n",
       "      <td>...</td>\n",
       "      <td>...</td>\n",
       "      <td>...</td>\n",
       "      <td>...</td>\n",
       "      <td>...</td>\n",
       "      <td>...</td>\n",
       "    </tr>\n",
       "    <tr>\n",
       "      <td>692</td>\n",
       "      <td>6949.000000</td>\n",
       "      <td>1570.000000</td>\n",
       "      <td>0.902885</td>\n",
       "      <td>1.000000</td>\n",
       "      <td>494.000000</td>\n",
       "      <td>0.354017</td>\n",
       "      <td>1.278317</td>\n",
       "      <td>-0.631781</td>\n",
       "      <td>0.632666</td>\n",
       "      <td>-0.644741</td>\n",
       "      <td>...</td>\n",
       "      <td>1.407646</td>\n",
       "      <td>1.058045</td>\n",
       "      <td>1.075120</td>\n",
       "      <td>0.000000</td>\n",
       "      <td>0.000000</td>\n",
       "      <td>1.165596</td>\n",
       "      <td>1.863374</td>\n",
       "      <td>1.982213</td>\n",
       "      <td>1.028523</td>\n",
       "      <td>-0.161598</td>\n",
       "    </tr>\n",
       "    <tr>\n",
       "      <td>4227</td>\n",
       "      <td>17868.000000</td>\n",
       "      <td>1392.000000</td>\n",
       "      <td>-0.000869</td>\n",
       "      <td>1.000000</td>\n",
       "      <td>494.000000</td>\n",
       "      <td>0.603735</td>\n",
       "      <td>1.278317</td>\n",
       "      <td>-0.631781</td>\n",
       "      <td>0.632666</td>\n",
       "      <td>-0.644741</td>\n",
       "      <td>...</td>\n",
       "      <td>-0.389019</td>\n",
       "      <td>-0.960111</td>\n",
       "      <td>-0.304291</td>\n",
       "      <td>0.000000</td>\n",
       "      <td>0.000000</td>\n",
       "      <td>-0.295448</td>\n",
       "      <td>0.294106</td>\n",
       "      <td>0.019403</td>\n",
       "      <td>-0.498805</td>\n",
       "      <td>-0.161598</td>\n",
       "    </tr>\n",
       "    <tr>\n",
       "      <td>5555</td>\n",
       "      <td>36081.000000</td>\n",
       "      <td>548.000000</td>\n",
       "      <td>0.416248</td>\n",
       "      <td>1.000000</td>\n",
       "      <td>494.000000</td>\n",
       "      <td>1.040647</td>\n",
       "      <td>0.200130</td>\n",
       "      <td>-0.631781</td>\n",
       "      <td>0.632666</td>\n",
       "      <td>-0.644741</td>\n",
       "      <td>...</td>\n",
       "      <td>0.439700</td>\n",
       "      <td>0.480895</td>\n",
       "      <td>0.756794</td>\n",
       "      <td>0.000000</td>\n",
       "      <td>0.000000</td>\n",
       "      <td>0.647760</td>\n",
       "      <td>0.413879</td>\n",
       "      <td>0.130134</td>\n",
       "      <td>0.278321</td>\n",
       "      <td>-0.161598</td>\n",
       "    </tr>\n",
       "    <tr>\n",
       "      <td>2606</td>\n",
       "      <td>10231.000000</td>\n",
       "      <td>3303.000000</td>\n",
       "      <td>-0.070389</td>\n",
       "      <td>1.000000</td>\n",
       "      <td>494.000000</td>\n",
       "      <td>-1.143540</td>\n",
       "      <td>1.278317</td>\n",
       "      <td>1.183366</td>\n",
       "      <td>0.632666</td>\n",
       "      <td>1.285620</td>\n",
       "      <td>...</td>\n",
       "      <td>2.034793</td>\n",
       "      <td>2.672843</td>\n",
       "      <td>0.120143</td>\n",
       "      <td>0.000000</td>\n",
       "      <td>0.000000</td>\n",
       "      <td>0.262164</td>\n",
       "      <td>-1.575915</td>\n",
       "      <td>-0.871792</td>\n",
       "      <td>0.755889</td>\n",
       "      <td>-0.161598</td>\n",
       "    </tr>\n",
       "    <tr>\n",
       "      <td>12023</td>\n",
       "      <td>519203.000000</td>\n",
       "      <td>1461.000000</td>\n",
       "      <td>-1.043663</td>\n",
       "      <td>1.000000</td>\n",
       "      <td>494.000000</td>\n",
       "      <td>-0.519433</td>\n",
       "      <td>0.200130</td>\n",
       "      <td>1.183366</td>\n",
       "      <td>0.632666</td>\n",
       "      <td>1.285620</td>\n",
       "      <td>...</td>\n",
       "      <td>-0.247401</td>\n",
       "      <td>-0.479733</td>\n",
       "      <td>-0.728725</td>\n",
       "      <td>0.000000</td>\n",
       "      <td>0.000000</td>\n",
       "      <td>-0.707600</td>\n",
       "      <td>-1.446981</td>\n",
       "      <td>-0.860876</td>\n",
       "      <td>-0.673104</td>\n",
       "      <td>-0.161598</td>\n",
       "    </tr>\n",
       "  </tbody>\n",
       "</table>\n",
       "<p>1955 rows × 212 columns</p>\n",
       "</div>"
      ],
      "text/plain": [
       "                 cid  canonical_smiles     xlogp  odor level  odor name  \\\n",
       "6304    61331.000000       3363.000000  0.138170    1.000000  38.000000   \n",
       "15927 6435823.000000         76.000000  1.459042    1.000000  38.000000   \n",
       "11797  346281.000000        108.000000 -0.765585    1.000000  38.000000   \n",
       "5260    31226.000000        574.000000 -0.209428    1.000000  38.000000   \n",
       "1407     7712.000000         59.000000 -0.209428    1.000000  38.000000   \n",
       "...              ...               ...       ...         ...        ...   \n",
       "692      6949.000000       1570.000000  0.902885    1.000000 494.000000   \n",
       "4227    17868.000000       1392.000000 -0.000869    1.000000 494.000000   \n",
       "5555    36081.000000        548.000000  0.416248    1.000000 494.000000   \n",
       "2606    10231.000000       3303.000000 -0.070389    1.000000 494.000000   \n",
       "12023  519203.000000       1461.000000 -1.043663    1.000000 494.000000   \n",
       "\n",
       "           fsp3  small rings  arom rings  ring blocks  arom blocks  ...  \\\n",
       "6304  -1.892319     1.278317    2.998513     2.371507     3.215981  ...   \n",
       "15927 -1.767273     1.278317    2.998513     2.371507     3.215981  ...   \n",
       "11797 -1.559487     0.200130    1.183366     0.632666     1.285620  ...   \n",
       "5260  -1.030100     0.200130    1.183366     0.632666     1.285620  ...   \n",
       "1407  -2.016991     0.200130    1.183366     0.632666     1.285620  ...   \n",
       "...         ...          ...         ...          ...          ...  ...   \n",
       "692    0.354017     1.278317   -0.631781     0.632666    -0.644741  ...   \n",
       "4227   0.603735     1.278317   -0.631781     0.632666    -0.644741  ...   \n",
       "5555   1.040647     0.200130   -0.631781     0.632666    -0.644741  ...   \n",
       "2606  -1.143540     1.278317    1.183366     0.632666     1.285620  ...   \n",
       "12023 -0.519433     0.200130    1.183366     0.632666     1.285620  ...   \n",
       "\n",
       "          atsm4     atsm5     natom  arom bond  arom atom      apol     alogp  \\\n",
       "6304   1.559548  1.680920  0.332360   0.000000   0.000000  0.725049 -0.582544   \n",
       "15927  1.176623  0.961231  0.969011   0.000000   0.000000  1.463638  0.785760   \n",
       "11797 -0.282505 -0.336155 -0.728725   0.000000   0.000000 -0.642229 -1.237482   \n",
       "5260  -0.297224 -0.287748 -0.198182   0.000000   0.000000 -0.085568 -0.370130   \n",
       "1407  -0.435429 -0.431902 -0.728725   0.000000   0.000000 -0.543202 -0.639655   \n",
       "...         ...       ...       ...        ...        ...       ...       ...   \n",
       "692    1.407646  1.058045  1.075120   0.000000   0.000000  1.165596  1.863374   \n",
       "4227  -0.389019 -0.960111 -0.304291   0.000000   0.000000 -0.295448  0.294106   \n",
       "5555   0.439700  0.480895  0.756794   0.000000   0.000000  0.647760  0.413879   \n",
       "2606   2.034793  2.672843  0.120143   0.000000   0.000000  0.262164 -1.575915   \n",
       "12023 -0.247401 -0.479733 -0.728725   0.000000   0.000000 -0.707600 -1.446981   \n",
       "\n",
       "         alogp2       amr      acid  \n",
       "6304  -0.594416  1.646078 -0.161598  \n",
       "15927  0.515086  2.473501 -0.161598  \n",
       "11797 -0.827185 -0.220806 -0.161598  \n",
       "5260  -0.477452  0.207663 -0.161598  \n",
       "1407  -0.622405  0.004241 -0.161598  \n",
       "...         ...       ...       ...  \n",
       "692    1.982213  1.028523 -0.161598  \n",
       "4227   0.019403 -0.498805 -0.161598  \n",
       "5555   0.130134  0.278321 -0.161598  \n",
       "2606  -0.871792  0.755889 -0.161598  \n",
       "12023 -0.860876 -0.673104 -0.161598  \n",
       "\n",
       "[1955 rows x 212 columns]"
      ]
     },
     "execution_count": 49,
     "metadata": {},
     "output_type": "execute_result"
    }
   ],
   "source": [
    "sensorama2_1=[]\n",
    "\n",
    "for i in range(65, len(sensorama_1)-65):\n",
    "    if sensorama_1.iloc[i,4] == sensorama_1.iloc[i+65,4] or sensorama_1.iloc[i,4] == sensorama_1.iloc[i-65,4]:\n",
    "        sensorama2_1.append(sensorama_1.iloc[i,:]) \n",
    "\n",
    "sensorama2_1= pd.DataFrame(sensorama2_1)\n",
    "sensorama2_1"
   ]
  },
  {
   "cell_type": "code",
   "execution_count": 50,
   "metadata": {},
   "outputs": [
    {
     "name": "stdout",
     "output_type": "stream",
     "text": [
      "10\n"
     ]
    }
   ],
   "source": [
    "count=0\n",
    "for i in range(1, len(sensorama2_1)):\n",
    "    if sensorama2_1.iloc[i,4]!= sensorama2_1.iloc[i-1,4]:\n",
    "        count = count +1\n",
    "print(count)"
   ]
  },
  {
   "cell_type": "code",
   "execution_count": 51,
   "metadata": {},
   "outputs": [],
   "source": [
    "X = sensorama2_1[[ 'xlogp','fsp3', 'small rings','arom rings','ring blocks','arom blocks','rings 3','rings 4', 'rings 5', 'rings 6',\n",
    "               'rings 7', 'rings 8', 'rings 9', 'tpsa efficiency', 'zagreb indices', 'weiner path', 'weiner polarity', 'wtpt.1',\n",
    "               'wtpt.2', 'wtpt.3', 'wtpt.4', 'wtpt.5', 'molecular weight', 'VAdjMat', 'topoPSA', 'lipinski failures', 'rotatable bonds',\n",
    "               'topo shape', 'petitjean number', 'mdec.11', 'mdec.12', 'mdec.13', 'mdec.14', 'mdec.22', 'mdec.23', 'mdec.24',\n",
    "               'mdec.33', 'mdec.34', 'mdec.44', 'mdeo.11', 'mdeo.12', 'mdeo.22', 'mden.11', 'mden.12', 'mden.13', 'mden.22',\n",
    "               'mden.23', 'mden.33', 'mlogp', 'atom p', 'atom lc', 'khs.sli', 'khs.ssbe', 'khs.ssssbe', 'khs.ssbh', 'khs.sssb',\n",
    "               'khs.ssssb', 'khs.sch3', 'khs.dch2', 'khs.ssch2', 'khs.tch', 'khs.dsch', 'khs.aach', 'khs.sssch', 'khs.ddc',\n",
    "               'khs.tsc', 'khs.dssc', 'khs.aasc', 'khs.aaac', 'khs.ssssc', 'khs.snh3', 'khs.snh2', 'khs.ssnh', 'khs.dnh', 'khs.ssnh.1',\n",
    "               'khs.aanh', 'khs.tn', 'khs.sssnh', 'khs.dsn', 'khs.aan', 'khs.sssn', 'khs.dsn.1', 'khs.aasn', 'khs.ssssn', 'khs.soh',\n",
    "               'khs.do', 'khs.sso', 'khs.aao', 'khs.sf', 'khs.ssih3', 'khs.sssih2', 'khs.ssssih', 'khs.sssssi', 'khs.sph2',\n",
    "               'khs.ssph', 'khs.sssp', 'khs.dsssp', 'khs.sssssp', 'khs.ssh', 'khs.ds', 'khs.sss', 'khs.aas', 'khs.dsss', 'khs.ddsss',\n",
    "               'khs.scl', 'khs.sGeH3', 'khs.ssGeH2', 'khs.sssGeH', 'khs.ssssGe', 'khs.sash2', 'khs.ssash', 'khs.sssas', 'khs.sssdas',\n",
    "               'khs.sssssas', 'khs.sseh', 'khs.dse', 'khs.ssse', 'khs.aase', 'khs.dssse', 'khs.ddssse', 'khs.sbr', 'khs.ssnh3', \n",
    "               'khs.sssnh2', 'khs.ssssnh', 'khs.sssssn', 'khs.si', 'khs.spbh3', 'khs.sspbh2', 'khs.ssspbh', 'khs.sssspb', 'kier 1',\n",
    "               'kier 2', 'hybRatio', 'hbdon', 'hbacc', 'fragc', 'fmf', 'eccen', 'SP.0', 'SP.1', 'SP.2', 'SP.3', 'SP.4', 'SP.5', 'SP.6',\n",
    "               'SP.7', 'VP.0', 'VP.1', 'VP.2', 'VP.3', 'VP.4', 'VP.5', 'VP.6', 'VP.7', 'SPC.4', 'SPC.5', 'SPC.6', 'VPC.4', 'VPC.5',\n",
    "               'VPC.6', 'SC.3', 'SC.4', 'SC.5', 'SC.6', 'VC.3', 'VC.4', 'VC.5', 'VC.6', 'SCH.3', 'SCH.4', 'SCH.5', 'SCH.6', 'SCH.7',\n",
    "               'VCH.3', 'VCH.4', 'VCH.3', 'VCH.4', 'VCH.5', 'VCH.6', 'VCH.7', 'C1SP1', 'C2SP1', 'C1SP2', 'C2SP2', 'C3SP2', 'C1SP3',\n",
    "               'C2SP3', 'C3SP3', 'C4SP3', 'bpol', 'bond count', 'basic group count', 'atsp1', 'atsp2' , 'atsp3', 'atsp4', 'atsp5',\n",
    "               'atsm1', 'atsm2','atsm3','atsm4','atsm5', 'natom','arom bond', 'arom atom', 'apol','alogp', 'alogp2', 'amr', 'acid']]\n",
    "y = sensorama2_1['odor name']"
   ]
  },
  {
   "cell_type": "markdown",
   "metadata": {},
   "source": [
    "#### RANDOM FOREST"
   ]
  },
  {
   "cell_type": "code",
   "execution_count": 52,
   "metadata": {},
   "outputs": [
    {
     "name": "stdout",
     "output_type": "stream",
     "text": [
      "Accuracy:  51.32924335378323 %\n"
     ]
    },
    {
     "data": {
      "image/png": "[encoded data removed]",
      "text/plain": [
       "<Figure size 432x288 with 2 Axes>"
      ]
     },
     "metadata": {
      "needs_background": "light"
     },
     "output_type": "display_data"
    }
   ],
   "source": [
    "X_train,X_test,y_train,y_test = train_test_split(X,y,test_size=0.25,random_state=0)\n",
    "sc_X = StandardScaler()\n",
    "X_train = sc_X.fit_transform(X_train)\n",
    "X_test = sc_X.transform(X_test)\n",
    "clf = RandomForestClassifier(n_estimators=100)\n",
    "clf.fit(X_train,y_train)\n",
    "y_pred=clf.predict(X_test)\n",
    "confusion_matrix = pd.crosstab(y_test, y_pred, rownames=['Actual'], colnames=['Predicted'])\n",
    "sns.heatmap(confusion_matrix, annot=True)\n",
    "print('Accuracy: ',metrics.accuracy_score(y_test, y_pred)*100,'%')\n",
    "plt.show()"
   ]
  },
  {
   "cell_type": "markdown",
   "metadata": {},
   "source": [
    "##### Feature Importances "
   ]
  },
  {
   "cell_type": "code",
   "execution_count": 53,
   "metadata": {},
   "outputs": [
    {
     "data": {
      "image/png": "[encoded data removed]",
      "text/plain": [
       "<Figure size 432x288 with 1 Axes>"
      ]
     },
     "metadata": {
      "needs_background": "light"
     },
     "output_type": "display_data"
    }
   ],
   "source": [
    "featureImportances = pd.Series(clf.feature_importances_).sort_values(ascending=False)\n",
    "sns.barplot(x=round(featureImportances,8), y=featureImportances)\n",
    "plt.xlabel('Features Importance')\n",
    "plt.show()"
   ]
  },
  {
   "cell_type": "code",
   "execution_count": 54,
   "metadata": {},
   "outputs": [],
   "source": [
    "X = sensorama2_1[[ 'xlogp','fsp3', 'small rings','arom rings','ring blocks','arom blocks','rings 3','rings 4', 'rings 5', 'rings 6',\n",
    "               'rings 7', 'tpsa efficiency', 'zagreb indices', 'weiner path', 'weiner polarity', 'wtpt.1',\n",
    "               'wtpt.2', 'wtpt.3', 'wtpt.4', 'wtpt.5', 'molecular weight', 'VAdjMat', 'topoPSA', 'lipinski failures', 'rotatable bonds',\n",
    "               'topo shape', 'petitjean number', 'mdec.11', 'mdec.12', 'mdec.13', 'mdec.14', 'mdec.22', 'mdec.23', 'mdec.24',\n",
    "               'mdec.33', 'mdec.34', 'mdec.44', 'mdeo.11', 'mdeo.12', 'mdeo.22', 'mden.22',\n",
    "               'mden.23', 'mlogp', 'atom p', 'atom lc',\n",
    "                  'khs.sch3', 'khs.dch2', 'khs.ssch2','khs.dsch', 'khs.aach', 'khs.sssch', 'khs.ddc',\n",
    "               'khs.tsc', 'khs.dssc', 'khs.aasc', 'khs.aaac', 'khs.ssssc', 'khs.snh2', 'khs.ssnh.1',\n",
    "               'khs.tn', 'khs.dsn', 'khs.aan', 'khs.sssn', 'khs.dsn.1', 'khs.aasn', 'khs.soh',\n",
    "               'khs.do', 'khs.sso', 'khs.aao','khs.ssh', 'khs.ds', 'khs.sss', 'khs.aas', 'khs.dsss','kier 1',\n",
    "               'kier 2', 'hybRatio', 'hbdon', 'hbacc', 'fragc', 'fmf', 'eccen', 'SP.0', 'SP.1', 'SP.2', 'SP.3', 'SP.4', 'SP.5', 'SP.6',\n",
    "               'SP.7', 'VP.0', 'VP.1', 'VP.2', 'VP.3', 'VP.4', 'VP.5', 'VP.6', 'VP.7', 'SPC.4', 'SPC.5', 'SPC.6', 'VPC.4', 'VPC.5',\n",
    "               'VPC.6', 'SC.3', 'SC.4', 'SC.5', 'SC.6', 'VC.3', 'VC.4', 'VC.5', 'VC.6', 'SCH.3', 'SCH.4', 'SCH.5', 'SCH.6', 'SCH.7',\n",
    "               'VCH.3', 'VCH.4', 'VCH.3', 'VCH.4', 'VCH.5', 'VCH.6', 'VCH.7', 'C1SP1', 'C2SP1', 'C1SP2', 'C2SP2', 'C3SP2', 'C1SP3',\n",
    "               'C2SP3', 'C3SP3', 'C4SP3', 'bpol', 'bond count', 'atsp1', 'atsp2' , 'atsp3', 'atsp4', 'atsp5',\n",
    "               'atsm1', 'atsm2','atsm3','atsm4','atsm5', 'natom', 'apol','alogp', 'alogp2', 'amr', 'acid']]\n",
    "y = sensorama2_1['odor name']"
   ]
  },
  {
   "cell_type": "code",
   "execution_count": 55,
   "metadata": {},
   "outputs": [
    {
     "name": "stdout",
     "output_type": "stream",
     "text": [
      "Accuracy:  52.760736196319016 %\n"
     ]
    },
    {
     "data": {
      "image/png": "[encoded data removed]",
      "text/plain": [
       "<Figure size 432x288 with 2 Axes>"
      ]
     },
     "metadata": {
      "needs_background": "light"
     },
     "output_type": "display_data"
    }
   ],
   "source": [
    "X_train,X_test,y_train,y_test = train_test_split(X,y,test_size=0.25,random_state=0)\n",
    "sc_X = StandardScaler()\n",
    "X_train = sc_X.fit_transform(X_train)\n",
    "X_test = sc_X.transform(X_test)\n",
    "clf = RandomForestClassifier(n_estimators=100)\n",
    "clf.fit(X_train,y_train)\n",
    "y_pred=clf.predict(X_test)\n",
    "confusion_matrix = pd.crosstab(y_test, y_pred, rownames=['Actual'], colnames=['Predicted'])\n",
    "sns.heatmap(confusion_matrix, annot=True)\n",
    "print('Accuracy: ',metrics.accuracy_score(y_test, y_pred)*100,'%')\n",
    "plt.show()"
   ]
  },
  {
   "cell_type": "markdown",
   "metadata": {},
   "source": [
    "#### SUPPORT VECTOR MACHINE "
   ]
  },
  {
   "cell_type": "markdown",
   "metadata": {},
   "source": [
    "##### rbf Kernel "
   ]
  },
  {
   "cell_type": "code",
   "execution_count": 56,
   "metadata": {},
   "outputs": [
    {
     "name": "stdout",
     "output_type": "stream",
     "text": [
      "Accuracy: 52.760736196319016 %\n"
     ]
    }
   ],
   "source": [
    "X_tr, X_tst, y_tr, y_tst = train_test_split(X, y, test_size=25/100,random_state=109)\n",
    "clf = svm.SVC(kernel='rbf') # creating Support Vector Machine model\n",
    "clf.fit(X_tr, y_tr) # training the Model\n",
    "y_pr = clf.predict(X_tst) # making Predictions\n",
    "\n",
    "# Evaluating Prediction Accuracy\n",
    "print(\"Accuracy:\",metrics.accuracy_score(y_tst, y_pr)*100,\"%\")"
   ]
  },
  {
   "cell_type": "markdown",
   "metadata": {},
   "source": [
    "##### Polynomial Kernel\n"
   ]
  },
  {
   "cell_type": "code",
   "execution_count": 57,
   "metadata": {},
   "outputs": [
    {
     "name": "stdout",
     "output_type": "stream",
     "text": [
      "Accuracy: 40.899795501022496 %\n"
     ]
    }
   ],
   "source": [
    "X_tr, X_tst, y_tr, y_tst = train_test_split(X, y, test_size=25/100,random_state=109)\n",
    "clf = svm.SVC(kernel='poly') # Creating Support Vector Machine Model\n",
    "clf.fit(X_tr,y_tr) # fit classifier to training set\n",
    "y_pr = clf.predict(X_tst) # Making Predictions\n",
    "\n",
    "# Evaluating Prediction Accuracy\n",
    "print(\"Accuracy:\",metrics.accuracy_score(y_tst, y_pr)*100,\"%\")"
   ]
  },
  {
   "cell_type": "markdown",
   "metadata": {},
   "source": [
    "##### Sigmoid Kernel "
   ]
  },
  {
   "cell_type": "code",
   "execution_count": 58,
   "metadata": {},
   "outputs": [
    {
     "name": "stdout",
     "output_type": "stream",
     "text": [
      "Accuracy: 47.443762781186095 %\n"
     ]
    }
   ],
   "source": [
    "X_tr, X_tst, y_tr, y_tst = train_test_split(X, y, test_size=25/100,random_state=109)\n",
    "clf=svm.SVC(kernel='sigmoid') # instantiate classifier with sigmoid kernel\n",
    "clf.fit(X_tr,y_tr) # fit classifier to training set\n",
    "y_pr = clf.predict(X_tst) # Making Predictions\n",
    "\n",
    "# Evaluating Prediction Accuracy\n",
    "print(\"Accuracy:\",metrics.accuracy_score(y_tst, y_pr)*100,\"%\")"
   ]
  },
  {
   "cell_type": "markdown",
   "metadata": {},
   "source": [
    "#### DECISION TREE"
   ]
  },
  {
   "cell_type": "code",
   "execution_count": 59,
   "metadata": {},
   "outputs": [
    {
     "name": "stdout",
     "output_type": "stream",
     "text": [
      "Accuracy: 42.759795570698465 %\n"
     ]
    }
   ],
   "source": [
    "# Split dataset into training set and test set\n",
    "X_train, X_test, y_train, y_test = train_test_split(X, y, test_size=0.3, random_state=1) # 70% training and 30% test\n",
    "clf = DecisionTreeClassifier() # Create Decision Tree classifer object\n",
    "clf = clf.fit(X_train,y_train) # Train Decision Tree Classifer\n",
    "y_pred = clf.predict(X_test) # Predict the response for test dataset\n",
    "\n",
    "# how often is the classifier correct?\n",
    "print(\"Accuracy:\",metrics.accuracy_score(y_test, y_pred)*100,\"%\")"
   ]
  },
  {
   "cell_type": "markdown",
   "metadata": {},
   "source": [
    "#### LOGISTIC REGRESSION "
   ]
  },
  {
   "cell_type": "code",
   "execution_count": 60,
   "metadata": {},
   "outputs": [
    {
     "name": "stdout",
     "output_type": "stream",
     "text": [
      "Accuracy:  52.3517382413088 %\n"
     ]
    }
   ],
   "source": [
    "X_train,X_test,y_train,y_test = train_test_split(X,y,test_size=0.25,random_state=0)\n",
    "clf= LogisticRegression( max_iter=100000000)\n",
    "clf.fit(X_train,y_train)\n",
    "y_pred=clf.predict(X_test)\n",
    "print('Accuracy: ',metrics.accuracy_score(y_test, y_pred)*100,'%')"
   ]
  },
  {
   "cell_type": "markdown",
   "metadata": {},
   "source": [
    "#### K-Nearest Neighbor "
   ]
  },
  {
   "cell_type": "code",
   "execution_count": 61,
   "metadata": {},
   "outputs": [
    {
     "data": {
      "text/plain": [
       "Text(0, 0.5, 'Accuracy')"
      ]
     },
     "execution_count": 61,
     "metadata": {},
     "output_type": "execute_result"
    },
    {
     "data": {
      "image/png": "[encoded data removed]",
      "text/plain": [
       "<Figure size 864x432 with 1 Axes>"
      ]
     },
     "metadata": {
      "needs_background": "light"
     },
     "output_type": "display_data"
    }
   ],
   "source": [
    "# Split data into training and testing sets.\n",
    "X_train, X_test, y_train, y_test = train_test_split(X, y, random_state=42)\n",
    "accuracy=[]\n",
    "for i in range(1,21):\n",
    "    clf = KNeighborsClassifier(n_neighbors=i)\n",
    "    clf.fit(X_train, y_train)\n",
    "    ypred = clf.predict(X_test)\n",
    "    accuracy.append(metrics.accuracy_score(y_test, ypred))\n",
    "plt.figure(figsize=(12, 6))\n",
    "plt.plot(range(1, 21), accuracy, color='orange', linestyle='dashed', marker='o',\n",
    "         markerfacecolor='green', markersize=10)\n",
    "plt.title('Looking for the most accurate k value')\n",
    "plt.xlabel('K Value')\n",
    "plt.ylabel('Accuracy')"
   ]
  },
  {
   "cell_type": "code",
   "execution_count": 108,
   "metadata": {
    "scrolled": true
   },
   "outputs": [
    {
     "name": "stdout",
     "output_type": "stream",
     "text": [
      "Accuracy: 59.154929577464785 %\n"
     ]
    }
   ],
   "source": [
    "clf = KNeighborsClassifier(n_neighbors=14)\n",
    "clf.fit(X_train, y_train)\n",
    "ypred = clf.predict(X_test)\n",
    "\n",
    "# Best accuracy\n",
    "print(\"Accuracy:\",metrics.accuracy_score(y_test, ypred)*100,\"%\")"
   ]
  },
  {
   "cell_type": "markdown",
   "metadata": {},
   "source": [
    "### 7 MOST COMMON ODOR NAMES "
   ]
  },
  {
   "cell_type": "code",
   "execution_count": 63,
   "metadata": {},
   "outputs": [],
   "source": [
    "sensorama_1 = sensorama_1 .sort_values('odor name')"
   ]
  },
  {
   "cell_type": "code",
   "execution_count": 64,
   "metadata": {},
   "outputs": [
    {
     "data": {
      "text/html": [
       "<div>\n",
       "<style scoped>\n",
       "    .dataframe tbody tr th:only-of-type {\n",
       "        vertical-align: middle;\n",
       "    }\n",
       "\n",
       "    .dataframe tbody tr th {\n",
       "        vertical-align: top;\n",
       "    }\n",
       "\n",
       "    .dataframe thead th {\n",
       "        text-align: right;\n",
       "    }\n",
       "</style>\n",
       "<table border=\"1\" class=\"dataframe\">\n",
       "  <thead>\n",
       "    <tr style=\"text-align: right;\">\n",
       "      <th></th>\n",
       "      <th>cid</th>\n",
       "      <th>canonical_smiles</th>\n",
       "      <th>xlogp</th>\n",
       "      <th>odor level</th>\n",
       "      <th>odor name</th>\n",
       "      <th>fsp3</th>\n",
       "      <th>small rings</th>\n",
       "      <th>arom rings</th>\n",
       "      <th>ring blocks</th>\n",
       "      <th>arom blocks</th>\n",
       "      <th>...</th>\n",
       "      <th>atsm4</th>\n",
       "      <th>atsm5</th>\n",
       "      <th>natom</th>\n",
       "      <th>arom bond</th>\n",
       "      <th>arom atom</th>\n",
       "      <th>apol</th>\n",
       "      <th>alogp</th>\n",
       "      <th>alogp2</th>\n",
       "      <th>amr</th>\n",
       "      <th>acid</th>\n",
       "    </tr>\n",
       "  </thead>\n",
       "  <tbody>\n",
       "    <tr>\n",
       "      <td>393</td>\n",
       "      <td>3893.000000</td>\n",
       "      <td>2816.000000</td>\n",
       "      <td>0.972405</td>\n",
       "      <td>1.000000</td>\n",
       "      <td>178.000000</td>\n",
       "      <td>1.040647</td>\n",
       "      <td>-0.878056</td>\n",
       "      <td>-0.631781</td>\n",
       "      <td>-1.106175</td>\n",
       "      <td>-0.644741</td>\n",
       "      <td>...</td>\n",
       "      <td>-0.435429</td>\n",
       "      <td>-0.143594</td>\n",
       "      <td>0.969011</td>\n",
       "      <td>0.000000</td>\n",
       "      <td>0.000000</td>\n",
       "      <td>0.785612</td>\n",
       "      <td>1.452980</td>\n",
       "      <td>1.361836</td>\n",
       "      <td>0.414422</td>\n",
       "      <td>5.273531</td>\n",
       "    </tr>\n",
       "    <tr>\n",
       "      <td>8632</td>\n",
       "      <td>87632.000000</td>\n",
       "      <td>2575.000000</td>\n",
       "      <td>0.207689</td>\n",
       "      <td>1.000000</td>\n",
       "      <td>178.000000</td>\n",
       "      <td>-0.145044</td>\n",
       "      <td>-0.878056</td>\n",
       "      <td>-0.631781</td>\n",
       "      <td>-1.106175</td>\n",
       "      <td>-0.644741</td>\n",
       "      <td>...</td>\n",
       "      <td>-0.895942</td>\n",
       "      <td>-0.623930</td>\n",
       "      <td>0.014035</td>\n",
       "      <td>0.000000</td>\n",
       "      <td>0.000000</td>\n",
       "      <td>-0.074694</td>\n",
       "      <td>0.350246</td>\n",
       "      <td>0.070492</td>\n",
       "      <td>-0.034395</td>\n",
       "      <td>-0.161598</td>\n",
       "    </tr>\n",
       "    <tr>\n",
       "      <td>13549</td>\n",
       "      <td>4488713.000000</td>\n",
       "      <td>305.000000</td>\n",
       "      <td>-1.043663</td>\n",
       "      <td>1.000000</td>\n",
       "      <td>178.000000</td>\n",
       "      <td>-0.145044</td>\n",
       "      <td>-0.878056</td>\n",
       "      <td>-0.631781</td>\n",
       "      <td>-1.106175</td>\n",
       "      <td>-0.644741</td>\n",
       "      <td>...</td>\n",
       "      <td>-0.113121</td>\n",
       "      <td>0.432488</td>\n",
       "      <td>0.014035</td>\n",
       "      <td>0.000000</td>\n",
       "      <td>0.000000</td>\n",
       "      <td>-0.046743</td>\n",
       "      <td>-0.830627</td>\n",
       "      <td>-0.705310</td>\n",
       "      <td>-0.168809</td>\n",
       "      <td>5.273531</td>\n",
       "    </tr>\n",
       "    <tr>\n",
       "      <td>4103</td>\n",
       "      <td>17029.000000</td>\n",
       "      <td>2762.000000</td>\n",
       "      <td>3.057992</td>\n",
       "      <td>1.000000</td>\n",
       "      <td>178.000000</td>\n",
       "      <td>0.728406</td>\n",
       "      <td>-0.878056</td>\n",
       "      <td>-0.631781</td>\n",
       "      <td>-1.106175</td>\n",
       "      <td>-0.644741</td>\n",
       "      <td>...</td>\n",
       "      <td>0.209699</td>\n",
       "      <td>0.529302</td>\n",
       "      <td>2.560639</td>\n",
       "      <td>0.000000</td>\n",
       "      <td>0.000000</td>\n",
       "      <td>2.483546</td>\n",
       "      <td>3.076792</td>\n",
       "      <td>4.260024</td>\n",
       "      <td>2.233196</td>\n",
       "      <td>-0.161598</td>\n",
       "    </tr>\n",
       "    <tr>\n",
       "      <td>4723</td>\n",
       "      <td>22692.000000</td>\n",
       "      <td>2863.000000</td>\n",
       "      <td>1.806640</td>\n",
       "      <td>1.000000</td>\n",
       "      <td>178.000000</td>\n",
       "      <td>1.102795</td>\n",
       "      <td>-0.878056</td>\n",
       "      <td>-0.631781</td>\n",
       "      <td>-1.106175</td>\n",
       "      <td>-0.644741</td>\n",
       "      <td>...</td>\n",
       "      <td>0.699663</td>\n",
       "      <td>0.480895</td>\n",
       "      <td>2.030096</td>\n",
       "      <td>0.000000</td>\n",
       "      <td>0.000000</td>\n",
       "      <td>1.827858</td>\n",
       "      <td>1.713554</td>\n",
       "      <td>1.746951</td>\n",
       "      <td>1.440693</td>\n",
       "      <td>-0.161598</td>\n",
       "    </tr>\n",
       "    <tr>\n",
       "      <td>...</td>\n",
       "      <td>...</td>\n",
       "      <td>...</td>\n",
       "      <td>...</td>\n",
       "      <td>...</td>\n",
       "      <td>...</td>\n",
       "      <td>...</td>\n",
       "      <td>...</td>\n",
       "      <td>...</td>\n",
       "      <td>...</td>\n",
       "      <td>...</td>\n",
       "      <td>...</td>\n",
       "      <td>...</td>\n",
       "      <td>...</td>\n",
       "      <td>...</td>\n",
       "      <td>...</td>\n",
       "      <td>...</td>\n",
       "      <td>...</td>\n",
       "      <td>...</td>\n",
       "      <td>...</td>\n",
       "      <td>...</td>\n",
       "      <td>...</td>\n",
       "    </tr>\n",
       "    <tr>\n",
       "      <td>16350</td>\n",
       "      <td>6440618.000000</td>\n",
       "      <td>1637.000000</td>\n",
       "      <td>1.041924</td>\n",
       "      <td>1.000000</td>\n",
       "      <td>494.000000</td>\n",
       "      <td>0.691716</td>\n",
       "      <td>3.434689</td>\n",
       "      <td>-0.631781</td>\n",
       "      <td>0.632666</td>\n",
       "      <td>-0.644741</td>\n",
       "      <td>...</td>\n",
       "      <td>2.835595</td>\n",
       "      <td>2.451178</td>\n",
       "      <td>1.605662</td>\n",
       "      <td>0.000000</td>\n",
       "      <td>0.000000</td>\n",
       "      <td>1.750207</td>\n",
       "      <td>0.856819</td>\n",
       "      <td>0.595725</td>\n",
       "      <td>1.519151</td>\n",
       "      <td>-0.161598</td>\n",
       "    </tr>\n",
       "    <tr>\n",
       "      <td>9642</td>\n",
       "      <td>103607.000000</td>\n",
       "      <td>1416.000000</td>\n",
       "      <td>0.555287</td>\n",
       "      <td>1.000000</td>\n",
       "      <td>494.000000</td>\n",
       "      <td>0.104674</td>\n",
       "      <td>0.200130</td>\n",
       "      <td>-0.631781</td>\n",
       "      <td>0.632666</td>\n",
       "      <td>-0.644741</td>\n",
       "      <td>...</td>\n",
       "      <td>1.223032</td>\n",
       "      <td>1.345819</td>\n",
       "      <td>1.287337</td>\n",
       "      <td>0.000000</td>\n",
       "      <td>0.000000</td>\n",
       "      <td>1.331399</td>\n",
       "      <td>0.786593</td>\n",
       "      <td>0.516018</td>\n",
       "      <td>1.301674</td>\n",
       "      <td>-0.161598</td>\n",
       "    </tr>\n",
       "    <tr>\n",
       "      <td>8890</td>\n",
       "      <td>91457.000000</td>\n",
       "      <td>1122.000000</td>\n",
       "      <td>0.624807</td>\n",
       "      <td>1.000000</td>\n",
       "      <td>494.000000</td>\n",
       "      <td>0.853452</td>\n",
       "      <td>1.278317</td>\n",
       "      <td>-0.631781</td>\n",
       "      <td>0.632666</td>\n",
       "      <td>-0.644741</td>\n",
       "      <td>...</td>\n",
       "      <td>1.775852</td>\n",
       "      <td>1.297946</td>\n",
       "      <td>1.393445</td>\n",
       "      <td>0.000000</td>\n",
       "      <td>0.000000</td>\n",
       "      <td>1.386350</td>\n",
       "      <td>0.881732</td>\n",
       "      <td>0.624538</td>\n",
       "      <td>1.047818</td>\n",
       "      <td>-0.161598</td>\n",
       "    </tr>\n",
       "    <tr>\n",
       "      <td>17407</td>\n",
       "      <td>16213731.000000</td>\n",
       "      <td>1646.000000</td>\n",
       "      <td>0.902885</td>\n",
       "      <td>1.000000</td>\n",
       "      <td>494.000000</td>\n",
       "      <td>0.853452</td>\n",
       "      <td>2.356503</td>\n",
       "      <td>-0.631781</td>\n",
       "      <td>0.632666</td>\n",
       "      <td>-0.644741</td>\n",
       "      <td>...</td>\n",
       "      <td>1.545852</td>\n",
       "      <td>1.490507</td>\n",
       "      <td>1.075120</td>\n",
       "      <td>0.000000</td>\n",
       "      <td>0.000000</td>\n",
       "      <td>1.165596</td>\n",
       "      <td>1.328627</td>\n",
       "      <td>1.188828</td>\n",
       "      <td>0.860767</td>\n",
       "      <td>-0.161598</td>\n",
       "    </tr>\n",
       "    <tr>\n",
       "      <td>10964</td>\n",
       "      <td>161683.000000</td>\n",
       "      <td>1652.000000</td>\n",
       "      <td>0.346729</td>\n",
       "      <td>1.000000</td>\n",
       "      <td>494.000000</td>\n",
       "      <td>0.603735</td>\n",
       "      <td>3.434689</td>\n",
       "      <td>-0.631781</td>\n",
       "      <td>0.632666</td>\n",
       "      <td>-0.644741</td>\n",
       "      <td>...</td>\n",
       "      <td>2.973289</td>\n",
       "      <td>2.354364</td>\n",
       "      <td>0.969011</td>\n",
       "      <td>0.000000</td>\n",
       "      <td>0.000000</td>\n",
       "      <td>1.110645</td>\n",
       "      <td>0.662309</td>\n",
       "      <td>0.380387</td>\n",
       "      <td>0.922147</td>\n",
       "      <td>-0.161598</td>\n",
       "    </tr>\n",
       "  </tbody>\n",
       "</table>\n",
       "<p>1657 rows × 212 columns</p>\n",
       "</div>"
      ],
      "text/plain": [
       "                  cid  canonical_smiles     xlogp  odor level  odor name  \\\n",
       "393       3893.000000       2816.000000  0.972405    1.000000 178.000000   \n",
       "8632     87632.000000       2575.000000  0.207689    1.000000 178.000000   \n",
       "13549  4488713.000000        305.000000 -1.043663    1.000000 178.000000   \n",
       "4103     17029.000000       2762.000000  3.057992    1.000000 178.000000   \n",
       "4723     22692.000000       2863.000000  1.806640    1.000000 178.000000   \n",
       "...               ...               ...       ...         ...        ...   \n",
       "16350  6440618.000000       1637.000000  1.041924    1.000000 494.000000   \n",
       "9642    103607.000000       1416.000000  0.555287    1.000000 494.000000   \n",
       "8890     91457.000000       1122.000000  0.624807    1.000000 494.000000   \n",
       "17407 16213731.000000       1646.000000  0.902885    1.000000 494.000000   \n",
       "10964   161683.000000       1652.000000  0.346729    1.000000 494.000000   \n",
       "\n",
       "           fsp3  small rings  arom rings  ring blocks  arom blocks  ...  \\\n",
       "393    1.040647    -0.878056   -0.631781    -1.106175    -0.644741  ...   \n",
       "8632  -0.145044    -0.878056   -0.631781    -1.106175    -0.644741  ...   \n",
       "13549 -0.145044    -0.878056   -0.631781    -1.106175    -0.644741  ...   \n",
       "4103   0.728406    -0.878056   -0.631781    -1.106175    -0.644741  ...   \n",
       "4723   1.102795    -0.878056   -0.631781    -1.106175    -0.644741  ...   \n",
       "...         ...          ...         ...          ...          ...  ...   \n",
       "16350  0.691716     3.434689   -0.631781     0.632666    -0.644741  ...   \n",
       "9642   0.104674     0.200130   -0.631781     0.632666    -0.644741  ...   \n",
       "8890   0.853452     1.278317   -0.631781     0.632666    -0.644741  ...   \n",
       "17407  0.853452     2.356503   -0.631781     0.632666    -0.644741  ...   \n",
       "10964  0.603735     3.434689   -0.631781     0.632666    -0.644741  ...   \n",
       "\n",
       "          atsm4     atsm5    natom  arom bond  arom atom      apol     alogp  \\\n",
       "393   -0.435429 -0.143594 0.969011   0.000000   0.000000  0.785612  1.452980   \n",
       "8632  -0.895942 -0.623930 0.014035   0.000000   0.000000 -0.074694  0.350246   \n",
       "13549 -0.113121  0.432488 0.014035   0.000000   0.000000 -0.046743 -0.830627   \n",
       "4103   0.209699  0.529302 2.560639   0.000000   0.000000  2.483546  3.076792   \n",
       "4723   0.699663  0.480895 2.030096   0.000000   0.000000  1.827858  1.713554   \n",
       "...         ...       ...      ...        ...        ...       ...       ...   \n",
       "16350  2.835595  2.451178 1.605662   0.000000   0.000000  1.750207  0.856819   \n",
       "9642   1.223032  1.345819 1.287337   0.000000   0.000000  1.331399  0.786593   \n",
       "8890   1.775852  1.297946 1.393445   0.000000   0.000000  1.386350  0.881732   \n",
       "17407  1.545852  1.490507 1.075120   0.000000   0.000000  1.165596  1.328627   \n",
       "10964  2.973289  2.354364 0.969011   0.000000   0.000000  1.110645  0.662309   \n",
       "\n",
       "         alogp2       amr      acid  \n",
       "393    1.361836  0.414422  5.273531  \n",
       "8632   0.070492 -0.034395 -0.161598  \n",
       "13549 -0.705310 -0.168809  5.273531  \n",
       "4103   4.260024  2.233196 -0.161598  \n",
       "4723   1.746951  1.440693 -0.161598  \n",
       "...         ...       ...       ...  \n",
       "16350  0.595725  1.519151 -0.161598  \n",
       "9642   0.516018  1.301674 -0.161598  \n",
       "8890   0.624538  1.047818 -0.161598  \n",
       "17407  1.188828  0.860767 -0.161598  \n",
       "10964  0.380387  0.922147 -0.161598  \n",
       "\n",
       "[1657 rows x 212 columns]"
      ]
     },
     "execution_count": 64,
     "metadata": {},
     "output_type": "execute_result"
    }
   ],
   "source": [
    "sensorama2_1=[]\n",
    "\n",
    "for i in range(95, len(sensorama_1)-95):\n",
    "    if sensorama_1.iloc[i,4] == sensorama_1.iloc[i+95,4] or sensorama_1.iloc[i,4] == sensorama_1.iloc[i-95,4]:\n",
    "        sensorama2_1.append(sensorama_1.iloc[i,:]) \n",
    "\n",
    "sensorama2_1= pd.DataFrame(sensorama2_1)\n",
    "sensorama2_1"
   ]
  },
  {
   "cell_type": "code",
   "execution_count": 65,
   "metadata": {},
   "outputs": [
    {
     "name": "stdout",
     "output_type": "stream",
     "text": [
      "7\n"
     ]
    }
   ],
   "source": [
    "count=0\n",
    "for i in range(1, len(sensorama2_1)):\n",
    "    if sensorama2_1.iloc[i,4]!= sensorama2_1.iloc[i-1,4]:\n",
    "        count = count +1\n",
    "print(count)"
   ]
  },
  {
   "cell_type": "code",
   "execution_count": 66,
   "metadata": {},
   "outputs": [],
   "source": [
    "X = sensorama2_1[[ 'xlogp','fsp3', 'small rings','arom rings','ring blocks','arom blocks','rings 3','rings 4', 'rings 5', 'rings 6',\n",
    "               'rings 7', 'rings 8', 'rings 9', 'tpsa efficiency', 'zagreb indices', 'weiner path', 'weiner polarity', 'wtpt.1',\n",
    "               'wtpt.2', 'wtpt.3', 'wtpt.4', 'wtpt.5', 'molecular weight', 'VAdjMat', 'topoPSA', 'lipinski failures', 'rotatable bonds',\n",
    "               'topo shape', 'petitjean number', 'mdec.11', 'mdec.12', 'mdec.13', 'mdec.14', 'mdec.22', 'mdec.23', 'mdec.24',\n",
    "               'mdec.33', 'mdec.34', 'mdec.44', 'mdeo.11', 'mdeo.12', 'mdeo.22', 'mden.11', 'mden.12', 'mden.13', 'mden.22',\n",
    "               'mden.23', 'mden.33', 'mlogp', 'atom p', 'atom lc', 'khs.sli', 'khs.ssbe', 'khs.ssssbe', 'khs.ssbh', 'khs.sssb',\n",
    "               'khs.ssssb', 'khs.sch3', 'khs.dch2', 'khs.ssch2', 'khs.tch', 'khs.dsch', 'khs.aach', 'khs.sssch', 'khs.ddc',\n",
    "               'khs.tsc', 'khs.dssc', 'khs.aasc', 'khs.aaac', 'khs.ssssc', 'khs.snh3', 'khs.snh2', 'khs.ssnh', 'khs.dnh', 'khs.ssnh.1',\n",
    "               'khs.aanh', 'khs.tn', 'khs.sssnh', 'khs.dsn', 'khs.aan', 'khs.sssn', 'khs.dsn.1', 'khs.aasn', 'khs.ssssn', 'khs.soh',\n",
    "               'khs.do', 'khs.sso', 'khs.aao', 'khs.sf', 'khs.ssih3', 'khs.sssih2', 'khs.ssssih', 'khs.sssssi', 'khs.sph2',\n",
    "               'khs.ssph', 'khs.sssp', 'khs.dsssp', 'khs.sssssp', 'khs.ssh', 'khs.ds', 'khs.sss', 'khs.aas', 'khs.dsss', 'khs.ddsss',\n",
    "               'khs.scl', 'khs.sGeH3', 'khs.ssGeH2', 'khs.sssGeH', 'khs.ssssGe', 'khs.sash2', 'khs.ssash', 'khs.sssas', 'khs.sssdas',\n",
    "               'khs.sssssas', 'khs.sseh', 'khs.dse', 'khs.ssse', 'khs.aase', 'khs.dssse', 'khs.ddssse', 'khs.sbr', 'khs.ssnh3', \n",
    "               'khs.sssnh2', 'khs.ssssnh', 'khs.sssssn', 'khs.si', 'khs.spbh3', 'khs.sspbh2', 'khs.ssspbh', 'khs.sssspb', 'kier 1',\n",
    "               'kier 2', 'hybRatio', 'hbdon', 'hbacc', 'fragc', 'fmf', 'eccen', 'SP.0', 'SP.1', 'SP.2', 'SP.3', 'SP.4', 'SP.5', 'SP.6',\n",
    "               'SP.7', 'VP.0', 'VP.1', 'VP.2', 'VP.3', 'VP.4', 'VP.5', 'VP.6', 'VP.7', 'SPC.4', 'SPC.5', 'SPC.6', 'VPC.4', 'VPC.5',\n",
    "               'VPC.6', 'SC.3', 'SC.4', 'SC.5', 'SC.6', 'VC.3', 'VC.4', 'VC.5', 'VC.6', 'SCH.3', 'SCH.4', 'SCH.5', 'SCH.6', 'SCH.7',\n",
    "               'VCH.3', 'VCH.4', 'VCH.3', 'VCH.4', 'VCH.5', 'VCH.6', 'VCH.7', 'C1SP1', 'C2SP1', 'C1SP2', 'C2SP2', 'C3SP2', 'C1SP3',\n",
    "               'C2SP3', 'C3SP3', 'C4SP3', 'bpol', 'bond count', 'basic group count', 'atsp1', 'atsp2' , 'atsp3', 'atsp4', 'atsp5',\n",
    "               'atsm1', 'atsm2','atsm3','atsm4','atsm5', 'natom','arom bond', 'arom atom', 'apol','alogp', 'alogp2', 'amr', 'acid']]\n",
    "y = sensorama2_1['odor name']"
   ]
  },
  {
   "cell_type": "markdown",
   "metadata": {},
   "source": [
    "#### RANDOM FOREST"
   ]
  },
  {
   "cell_type": "code",
   "execution_count": 67,
   "metadata": {},
   "outputs": [
    {
     "name": "stdout",
     "output_type": "stream",
     "text": [
      "Accuracy:  56.867469879518076 %\n"
     ]
    },
    {
     "data": {
      "image/png": "[encoded data removed]",
      "text/plain": [
       "<Figure size 432x288 with 2 Axes>"
      ]
     },
     "metadata": {
      "needs_background": "light"
     },
     "output_type": "display_data"
    }
   ],
   "source": [
    "X_train,X_test,y_train,y_test = train_test_split(X,y,test_size=0.25,random_state=0)\n",
    "sc_X = StandardScaler()\n",
    "X_train = sc_X.fit_transform(X_train)\n",
    "X_test = sc_X.transform(X_test)\n",
    "clf = RandomForestClassifier(n_estimators=100)\n",
    "clf.fit(X_train,y_train)\n",
    "y_pred=clf.predict(X_test)\n",
    "confusion_matrix = pd.crosstab(y_test, y_pred, rownames=['Actual'], colnames=['Predicted'])\n",
    "sns.heatmap(confusion_matrix, annot=True)\n",
    "print('Accuracy: ',metrics.accuracy_score(y_test, y_pred)*100,'%')\n",
    "plt.show()"
   ]
  },
  {
   "cell_type": "markdown",
   "metadata": {},
   "source": [
    "##### Feature Importances "
   ]
  },
  {
   "cell_type": "code",
   "execution_count": 68,
   "metadata": {},
   "outputs": [
    {
     "data": {
      "image/png": "[encoded data removed]",
      "text/plain": [
       "<Figure size 432x288 with 1 Axes>"
      ]
     },
     "metadata": {
      "needs_background": "light"
     },
     "output_type": "display_data"
    }
   ],
   "source": [
    "featureImportances = pd.Series(clf.feature_importances_).sort_values(ascending=False)\n",
    "sns.barplot(x=round(featureImportances,8), y=featureImportances)\n",
    "plt.xlabel('Features Importance')\n",
    "plt.show()"
   ]
  },
  {
   "cell_type": "code",
   "execution_count": 69,
   "metadata": {},
   "outputs": [],
   "source": [
    "X = sensorama2_1[[ 'xlogp','fsp3', 'small rings','arom rings','ring blocks','arom blocks','rings 3','rings 4', 'rings 5', 'rings 6',\n",
    "               'rings 7', 'tpsa efficiency', 'zagreb indices', 'weiner path', 'weiner polarity', 'wtpt.1',\n",
    "               'wtpt.2', 'wtpt.3', 'wtpt.4', 'wtpt.5', 'molecular weight', 'VAdjMat', 'topoPSA', 'lipinski failures', 'rotatable bonds',\n",
    "               'topo shape', 'petitjean number', 'mdec.11', 'mdec.12', 'mdec.13', 'mdec.14', 'mdec.22', 'mdec.23', 'mdec.24',\n",
    "               'mdec.33', 'mdec.34', 'mdec.44', 'mdeo.11', 'mdeo.12', 'mdeo.22', 'mden.22',\n",
    "               'mden.23', 'mlogp', 'atom p', 'atom lc',\n",
    "                  'khs.sch3', 'khs.dch2', 'khs.ssch2','khs.dsch', 'khs.aach', 'khs.sssch', 'khs.ddc',\n",
    "               'khs.tsc', 'khs.dssc', 'khs.aasc', 'khs.aaac', 'khs.ssssc', 'khs.snh2', 'khs.ssnh.1',\n",
    "               'khs.tn', 'khs.dsn', 'khs.aan', 'khs.sssn', 'khs.dsn.1', 'khs.aasn', 'khs.soh',\n",
    "               'khs.do', 'khs.sso', 'khs.aao','khs.ssh', 'khs.ds', 'khs.sss', 'khs.aas', 'khs.dsss','kier 1',\n",
    "               'kier 2', 'hybRatio', 'hbdon', 'hbacc', 'fragc', 'fmf', 'eccen', 'SP.0', 'SP.1', 'SP.2', 'SP.3', 'SP.4', 'SP.5', 'SP.6',\n",
    "               'SP.7', 'VP.0', 'VP.1', 'VP.2', 'VP.3', 'VP.4', 'VP.5', 'VP.6', 'VP.7', 'SPC.4', 'SPC.5', 'SPC.6', 'VPC.4', 'VPC.5',\n",
    "               'VPC.6', 'SC.3', 'SC.4', 'SC.5', 'SC.6', 'VC.3', 'VC.4', 'VC.5', 'VC.6', 'SCH.3', 'SCH.4', 'SCH.5', 'SCH.6', 'SCH.7',\n",
    "               'VCH.3', 'VCH.4', 'VCH.3', 'VCH.4', 'VCH.5', 'VCH.6', 'VCH.7', 'C1SP1', 'C2SP1', 'C1SP2', 'C2SP2', 'C3SP2', 'C1SP3',\n",
    "               'C2SP3', 'C3SP3', 'C4SP3', 'bpol', 'bond count', 'atsp1', 'atsp2' , 'atsp3', 'atsp4', 'atsp5',\n",
    "               'atsm1', 'atsm2','atsm3','atsm4','atsm5', 'natom', 'apol','alogp', 'alogp2', 'amr', 'acid']]\n",
    "y = sensorama2_1['odor name']"
   ]
  },
  {
   "cell_type": "code",
   "execution_count": 70,
   "metadata": {},
   "outputs": [
    {
     "name": "stdout",
     "output_type": "stream",
     "text": [
      "Accuracy:  58.554216867469876 %\n"
     ]
    },
    {
     "data": {
      "image/png": "[encoded data removed]",
      "text/plain": [
       "<Figure size 432x288 with 2 Axes>"
      ]
     },
     "metadata": {
      "needs_background": "light"
     },
     "output_type": "display_data"
    }
   ],
   "source": [
    "X_train,X_test,y_train,y_test = train_test_split(X,y,test_size=0.25,random_state=0)\n",
    "sc_X = StandardScaler()\n",
    "X_train = sc_X.fit_transform(X_train)\n",
    "X_test = sc_X.transform(X_test)\n",
    "clf = RandomForestClassifier(n_estimators=100)\n",
    "clf.fit(X_train,y_train)\n",
    "y_pred=clf.predict(X_test)\n",
    "confusion_matrix = pd.crosstab(y_test, y_pred, rownames=['Actual'], colnames=['Predicted'])\n",
    "sns.heatmap(confusion_matrix, annot=True)\n",
    "print('Accuracy: ',metrics.accuracy_score(y_test, y_pred)*100,'%')\n",
    "plt.show()"
   ]
  },
  {
   "cell_type": "markdown",
   "metadata": {},
   "source": [
    "#### SUPPORT VECTOR MACHINE "
   ]
  },
  {
   "cell_type": "markdown",
   "metadata": {},
   "source": [
    "##### rbf Kernel "
   ]
  },
  {
   "cell_type": "code",
   "execution_count": 71,
   "metadata": {},
   "outputs": [
    {
     "name": "stdout",
     "output_type": "stream",
     "text": [
      "Accuracy: 57.34939759036145 %\n"
     ]
    }
   ],
   "source": [
    "X_tr, X_tst, y_tr, y_tst = train_test_split(X, y, test_size=25/100,random_state=109)\n",
    "clf = svm.SVC(kernel='rbf') # creating Support Vector Machine model\n",
    "clf.fit(X_tr, y_tr) # training the Model\n",
    "y_pr = clf.predict(X_tst) # making Predictions\n",
    "\n",
    "# Evaluating Prediction Accuracy\n",
    "print(\"Accuracy:\",metrics.accuracy_score(y_tst, y_pr)*100,\"%\")"
   ]
  },
  {
   "cell_type": "markdown",
   "metadata": {},
   "source": [
    "##### Polynomial Kernel\n"
   ]
  },
  {
   "cell_type": "code",
   "execution_count": 72,
   "metadata": {},
   "outputs": [
    {
     "name": "stdout",
     "output_type": "stream",
     "text": [
      "Accuracy: 53.493975903614455 %\n"
     ]
    }
   ],
   "source": [
    "X_tr, X_tst, y_tr, y_tst = train_test_split(X, y, test_size=25/100,random_state=109)\n",
    "clf = svm.SVC(kernel='poly') # Creating Support Vector Machine Model\n",
    "clf.fit(X_tr,y_tr) # fit classifier to training set\n",
    "y_pr = clf.predict(X_tst) # Making Predictions\n",
    "\n",
    "# Evaluating Prediction Accuracy\n",
    "print(\"Accuracy:\",metrics.accuracy_score(y_tst, y_pr)*100,\"%\")"
   ]
  },
  {
   "cell_type": "markdown",
   "metadata": {},
   "source": [
    "##### Sigmoid Kernel "
   ]
  },
  {
   "cell_type": "code",
   "execution_count": 73,
   "metadata": {},
   "outputs": [
    {
     "name": "stdout",
     "output_type": "stream",
     "text": [
      "Accuracy: 51.08433734939759 %\n"
     ]
    }
   ],
   "source": [
    "X_tr, X_tst, y_tr, y_tst = train_test_split(X, y, test_size=25/100,random_state=109)\n",
    "clf=svm.SVC(kernel='sigmoid') # instantiate classifier with sigmoid kernel\n",
    "clf.fit(X_tr,y_tr) # fit classifier to training set\n",
    "y_pr = clf.predict(X_tst) # Making Predictions\n",
    "\n",
    "# Evaluating Prediction Accuracy\n",
    "print(\"Accuracy:\",metrics.accuracy_score(y_tst, y_pr)*100,\"%\")"
   ]
  },
  {
   "cell_type": "markdown",
   "metadata": {},
   "source": [
    "#### DECISION TREE"
   ]
  },
  {
   "cell_type": "code",
   "execution_count": 74,
   "metadata": {},
   "outputs": [
    {
     "name": "stdout",
     "output_type": "stream",
     "text": [
      "Accuracy: 45.38152610441767 %\n"
     ]
    }
   ],
   "source": [
    "# Split dataset into training set and test set\n",
    "X_train, X_test, y_train, y_test = train_test_split(X, y, test_size=0.3, random_state=1) # 70% training and 30% test\n",
    "clf = DecisionTreeClassifier() # Create Decision Tree classifer object\n",
    "clf = clf.fit(X_train,y_train) # Train Decision Tree Classifer\n",
    "y_pred = clf.predict(X_test) # Predict the response for test dataset\n",
    "\n",
    "# how often is the classifier correct?\n",
    "print(\"Accuracy:\",metrics.accuracy_score(y_test, y_pred)*100,\"%\")"
   ]
  },
  {
   "cell_type": "markdown",
   "metadata": {},
   "source": [
    "#### LOGISTIC REGRESSION "
   ]
  },
  {
   "cell_type": "code",
   "execution_count": 75,
   "metadata": {},
   "outputs": [
    {
     "name": "stdout",
     "output_type": "stream",
     "text": [
      "Accuracy:  56.867469879518076 %\n"
     ]
    }
   ],
   "source": [
    "X_train,X_test,y_train,y_test = train_test_split(X,y,test_size=0.25,random_state=0)\n",
    "clf= LogisticRegression( max_iter=100000000)\n",
    "clf.fit(X_train,y_train)\n",
    "y_pred=clf.predict(X_test)\n",
    "print('Accuracy: ',metrics.accuracy_score(y_test, y_pred)*100,'%')"
   ]
  },
  {
   "cell_type": "markdown",
   "metadata": {},
   "source": [
    "#### K-Nearest Neighbor "
   ]
  },
  {
   "cell_type": "code",
   "execution_count": 76,
   "metadata": {},
   "outputs": [
    {
     "data": {
      "text/plain": [
       "Text(0, 0.5, 'Accuracy')"
      ]
     },
     "execution_count": 76,
     "metadata": {},
     "output_type": "execute_result"
    },
    {
     "data": {
      "image/png": "[encoded data removed]",
      "text/plain": [
       "<Figure size 864x432 with 1 Axes>"
      ]
     },
     "metadata": {
      "needs_background": "light"
     },
     "output_type": "display_data"
    }
   ],
   "source": [
    "# Split data into training and testing sets.\n",
    "X_train, X_test, y_train, y_test = train_test_split(X, y, random_state=42)\n",
    "accuracy=[]\n",
    "for i in range(1,21):\n",
    "    clf = KNeighborsClassifier(n_neighbors=i)\n",
    "    clf.fit(X_train, y_train)\n",
    "    ypred = clf.predict(X_test)\n",
    "    accuracy.append(metrics.accuracy_score(y_test, ypred))\n",
    "plt.figure(figsize=(12, 6))\n",
    "plt.plot(range(1, 21), accuracy, color='orange', linestyle='dashed', marker='o',\n",
    "         markerfacecolor='green', markersize=10)\n",
    "plt.title('Looking for the most accurate k value')\n",
    "plt.xlabel('K Value')\n",
    "plt.ylabel('Accuracy')"
   ]
  },
  {
   "cell_type": "code",
   "execution_count": 109,
   "metadata": {
    "scrolled": true
   },
   "outputs": [
    {
     "name": "stdout",
     "output_type": "stream",
     "text": [
      "Accuracy: 62.323943661971825 %\n"
     ]
    }
   ],
   "source": [
    "clf = KNeighborsClassifier(n_neighbors=10)\n",
    "clf.fit(X_train, y_train)\n",
    "ypred = clf.predict(X_test)\n",
    "\n",
    "# Best accuracy\n",
    "print(\"Accuracy:\",metrics.accuracy_score(y_test, ypred)*100,\"%\")"
   ]
  },
  {
   "cell_type": "markdown",
   "metadata": {},
   "source": [
    "### 5 MOST COMMON ODOR NAMES "
   ]
  },
  {
   "cell_type": "code",
   "execution_count": 78,
   "metadata": {},
   "outputs": [],
   "source": [
    "sensorama_1 = sensorama_1 .sort_values('odor name')"
   ]
  },
  {
   "cell_type": "code",
   "execution_count": 79,
   "metadata": {},
   "outputs": [
    {
     "data": {
      "text/html": [
       "<div>\n",
       "<style scoped>\n",
       "    .dataframe tbody tr th:only-of-type {\n",
       "        vertical-align: middle;\n",
       "    }\n",
       "\n",
       "    .dataframe tbody tr th {\n",
       "        vertical-align: top;\n",
       "    }\n",
       "\n",
       "    .dataframe thead th {\n",
       "        text-align: right;\n",
       "    }\n",
       "</style>\n",
       "<table border=\"1\" class=\"dataframe\">\n",
       "  <thead>\n",
       "    <tr style=\"text-align: right;\">\n",
       "      <th></th>\n",
       "      <th>cid</th>\n",
       "      <th>canonical_smiles</th>\n",
       "      <th>xlogp</th>\n",
       "      <th>odor level</th>\n",
       "      <th>odor name</th>\n",
       "      <th>fsp3</th>\n",
       "      <th>small rings</th>\n",
       "      <th>arom rings</th>\n",
       "      <th>ring blocks</th>\n",
       "      <th>arom blocks</th>\n",
       "      <th>...</th>\n",
       "      <th>atsm4</th>\n",
       "      <th>atsm5</th>\n",
       "      <th>natom</th>\n",
       "      <th>arom bond</th>\n",
       "      <th>arom atom</th>\n",
       "      <th>apol</th>\n",
       "      <th>alogp</th>\n",
       "      <th>alogp2</th>\n",
       "      <th>amr</th>\n",
       "      <th>acid</th>\n",
       "    </tr>\n",
       "  </thead>\n",
       "  <tbody>\n",
       "    <tr>\n",
       "      <td>10443</td>\n",
       "      <td>111516.000000</td>\n",
       "      <td>720.000000</td>\n",
       "      <td>-0.139908</td>\n",
       "      <td>1.000000</td>\n",
       "      <td>188.000000</td>\n",
       "      <td>-0.207567</td>\n",
       "      <td>0.200130</td>\n",
       "      <td>-0.631781</td>\n",
       "      <td>0.632666</td>\n",
       "      <td>-0.644741</td>\n",
       "      <td>...</td>\n",
       "      <td>0.255597</td>\n",
       "      <td>0.192587</td>\n",
       "      <td>0.332360</td>\n",
       "      <td>0.000000</td>\n",
       "      <td>0.000000</td>\n",
       "      <td>0.372065</td>\n",
       "      <td>0.368218</td>\n",
       "      <td>0.087153</td>\n",
       "      <td>0.445960</td>\n",
       "      <td>-0.161598</td>\n",
       "    </tr>\n",
       "    <tr>\n",
       "      <td>13586</td>\n",
       "      <td>5271574.000000</td>\n",
       "      <td>2936.000000</td>\n",
       "      <td>1.459042</td>\n",
       "      <td>1.000000</td>\n",
       "      <td>188.000000</td>\n",
       "      <td>0.416540</td>\n",
       "      <td>-0.878056</td>\n",
       "      <td>-0.631781</td>\n",
       "      <td>-1.106175</td>\n",
       "      <td>-0.644741</td>\n",
       "      <td>...</td>\n",
       "      <td>0.945585</td>\n",
       "      <td>1.296865</td>\n",
       "      <td>2.030096</td>\n",
       "      <td>0.000000</td>\n",
       "      <td>0.000000</td>\n",
       "      <td>1.954836</td>\n",
       "      <td>1.751096</td>\n",
       "      <td>1.804956</td>\n",
       "      <td>1.838587</td>\n",
       "      <td>-0.161598</td>\n",
       "    </tr>\n",
       "    <tr>\n",
       "      <td>6491</td>\n",
       "      <td>61447.000000</td>\n",
       "      <td>2194.000000</td>\n",
       "      <td>0.416248</td>\n",
       "      <td>1.000000</td>\n",
       "      <td>188.000000</td>\n",
       "      <td>-0.663573</td>\n",
       "      <td>0.200130</td>\n",
       "      <td>1.183366</td>\n",
       "      <td>0.632666</td>\n",
       "      <td>1.285620</td>\n",
       "      <td>...</td>\n",
       "      <td>0.715598</td>\n",
       "      <td>1.056978</td>\n",
       "      <td>0.438469</td>\n",
       "      <td>0.000000</td>\n",
       "      <td>0.000000</td>\n",
       "      <td>0.553994</td>\n",
       "      <td>0.495139</td>\n",
       "      <td>0.208930</td>\n",
       "      <td>0.784410</td>\n",
       "      <td>-0.161598</td>\n",
       "    </tr>\n",
       "    <tr>\n",
       "      <td>10119</td>\n",
       "      <td>108443.000000</td>\n",
       "      <td>1425.000000</td>\n",
       "      <td>-0.417987</td>\n",
       "      <td>1.000000</td>\n",
       "      <td>188.000000</td>\n",
       "      <td>-1.143540</td>\n",
       "      <td>1.278317</td>\n",
       "      <td>1.183366</td>\n",
       "      <td>2.371507</td>\n",
       "      <td>1.285620</td>\n",
       "      <td>...</td>\n",
       "      <td>0.301495</td>\n",
       "      <td>0.192587</td>\n",
       "      <td>-0.198182</td>\n",
       "      <td>0.000000</td>\n",
       "      <td>0.000000</td>\n",
       "      <td>0.013459</td>\n",
       "      <td>-0.137870</td>\n",
       "      <td>-0.326298</td>\n",
       "      <td>0.423615</td>\n",
       "      <td>-0.161598</td>\n",
       "    </tr>\n",
       "    <tr>\n",
       "      <td>7730</td>\n",
       "      <td>69885.000000</td>\n",
       "      <td>456.000000</td>\n",
       "      <td>0.138170</td>\n",
       "      <td>1.000000</td>\n",
       "      <td>188.000000</td>\n",
       "      <td>-0.831300</td>\n",
       "      <td>1.278317</td>\n",
       "      <td>1.183366</td>\n",
       "      <td>0.632666</td>\n",
       "      <td>1.285620</td>\n",
       "      <td>...</td>\n",
       "      <td>0.532007</td>\n",
       "      <td>0.144714</td>\n",
       "      <td>-0.198182</td>\n",
       "      <td>0.000000</td>\n",
       "      <td>0.000000</td>\n",
       "      <td>0.013459</td>\n",
       "      <td>-0.042661</td>\n",
       "      <td>-0.257323</td>\n",
       "      <td>0.269841</td>\n",
       "      <td>-0.161598</td>\n",
       "    </tr>\n",
       "    <tr>\n",
       "      <td>...</td>\n",
       "      <td>...</td>\n",
       "      <td>...</td>\n",
       "      <td>...</td>\n",
       "      <td>...</td>\n",
       "      <td>...</td>\n",
       "      <td>...</td>\n",
       "      <td>...</td>\n",
       "      <td>...</td>\n",
       "      <td>...</td>\n",
       "      <td>...</td>\n",
       "      <td>...</td>\n",
       "      <td>...</td>\n",
       "      <td>...</td>\n",
       "      <td>...</td>\n",
       "      <td>...</td>\n",
       "      <td>...</td>\n",
       "      <td>...</td>\n",
       "      <td>...</td>\n",
       "      <td>...</td>\n",
       "      <td>...</td>\n",
       "      <td>...</td>\n",
       "    </tr>\n",
       "    <tr>\n",
       "      <td>11281</td>\n",
       "      <td>169211.000000</td>\n",
       "      <td>1042.000000</td>\n",
       "      <td>-0.626545</td>\n",
       "      <td>1.000000</td>\n",
       "      <td>494.000000</td>\n",
       "      <td>0.331554</td>\n",
       "      <td>2.356503</td>\n",
       "      <td>-0.631781</td>\n",
       "      <td>0.632666</td>\n",
       "      <td>-0.644741</td>\n",
       "      <td>...</td>\n",
       "      <td>0.209699</td>\n",
       "      <td>-0.143594</td>\n",
       "      <td>-0.092074</td>\n",
       "      <td>0.000000</td>\n",
       "      <td>0.000000</td>\n",
       "      <td>-0.030618</td>\n",
       "      <td>-0.260766</td>\n",
       "      <td>-0.409300</td>\n",
       "      <td>-0.149343</td>\n",
       "      <td>-0.161598</td>\n",
       "    </tr>\n",
       "    <tr>\n",
       "      <td>9845</td>\n",
       "      <td>106711.000000</td>\n",
       "      <td>1019.000000</td>\n",
       "      <td>0.485768</td>\n",
       "      <td>1.000000</td>\n",
       "      <td>494.000000</td>\n",
       "      <td>0.978124</td>\n",
       "      <td>-0.878056</td>\n",
       "      <td>-0.631781</td>\n",
       "      <td>-1.106175</td>\n",
       "      <td>-0.644741</td>\n",
       "      <td>...</td>\n",
       "      <td>-0.573634</td>\n",
       "      <td>0.048433</td>\n",
       "      <td>0.332360</td>\n",
       "      <td>0.000000</td>\n",
       "      <td>0.000000</td>\n",
       "      <td>0.146060</td>\n",
       "      <td>0.308262</td>\n",
       "      <td>0.032150</td>\n",
       "      <td>-0.154250</td>\n",
       "      <td>-0.161598</td>\n",
       "    </tr>\n",
       "    <tr>\n",
       "      <td>13673</td>\n",
       "      <td>5281522.000000</td>\n",
       "      <td>1401.000000</td>\n",
       "      <td>1.111444</td>\n",
       "      <td>1.000000</td>\n",
       "      <td>494.000000</td>\n",
       "      <td>0.354017</td>\n",
       "      <td>0.200130</td>\n",
       "      <td>-0.631781</td>\n",
       "      <td>0.632666</td>\n",
       "      <td>-0.644741</td>\n",
       "      <td>...</td>\n",
       "      <td>0.993031</td>\n",
       "      <td>1.490507</td>\n",
       "      <td>1.075120</td>\n",
       "      <td>0.000000</td>\n",
       "      <td>0.000000</td>\n",
       "      <td>1.165596</td>\n",
       "      <td>1.599054</td>\n",
       "      <td>1.573965</td>\n",
       "      <td>0.988427</td>\n",
       "      <td>-0.161598</td>\n",
       "    </tr>\n",
       "    <tr>\n",
       "      <td>1091</td>\n",
       "      <td>7465.000000</td>\n",
       "      <td>714.000000</td>\n",
       "      <td>0.068650</td>\n",
       "      <td>1.000000</td>\n",
       "      <td>494.000000</td>\n",
       "      <td>-1.143540</td>\n",
       "      <td>0.200130</td>\n",
       "      <td>1.183366</td>\n",
       "      <td>0.632666</td>\n",
       "      <td>1.285620</td>\n",
       "      <td>...</td>\n",
       "      <td>-0.435429</td>\n",
       "      <td>-0.768084</td>\n",
       "      <td>-0.728725</td>\n",
       "      <td>0.000000</td>\n",
       "      <td>0.000000</td>\n",
       "      <td>-0.670180</td>\n",
       "      <td>-0.315240</td>\n",
       "      <td>-0.443923</td>\n",
       "      <td>-0.415670</td>\n",
       "      <td>-0.161598</td>\n",
       "    </tr>\n",
       "    <tr>\n",
       "      <td>13675</td>\n",
       "      <td>5281532.000000</td>\n",
       "      <td>422.000000</td>\n",
       "      <td>0.833366</td>\n",
       "      <td>1.000000</td>\n",
       "      <td>494.000000</td>\n",
       "      <td>0.354017</td>\n",
       "      <td>2.356503</td>\n",
       "      <td>-0.631781</td>\n",
       "      <td>0.632666</td>\n",
       "      <td>-0.644741</td>\n",
       "      <td>...</td>\n",
       "      <td>1.084827</td>\n",
       "      <td>0.385148</td>\n",
       "      <td>1.181228</td>\n",
       "      <td>0.000000</td>\n",
       "      <td>0.000000</td>\n",
       "      <td>1.248497</td>\n",
       "      <td>0.842177</td>\n",
       "      <td>0.578923</td>\n",
       "      <td>1.104546</td>\n",
       "      <td>-0.161598</td>\n",
       "    </tr>\n",
       "  </tbody>\n",
       "</table>\n",
       "<p>1341 rows × 212 columns</p>\n",
       "</div>"
      ],
      "text/plain": [
       "                 cid  canonical_smiles     xlogp  odor level  odor name  \\\n",
       "10443  111516.000000        720.000000 -0.139908    1.000000 188.000000   \n",
       "13586 5271574.000000       2936.000000  1.459042    1.000000 188.000000   \n",
       "6491    61447.000000       2194.000000  0.416248    1.000000 188.000000   \n",
       "10119  108443.000000       1425.000000 -0.417987    1.000000 188.000000   \n",
       "7730    69885.000000        456.000000  0.138170    1.000000 188.000000   \n",
       "...              ...               ...       ...         ...        ...   \n",
       "11281  169211.000000       1042.000000 -0.626545    1.000000 494.000000   \n",
       "9845   106711.000000       1019.000000  0.485768    1.000000 494.000000   \n",
       "13673 5281522.000000       1401.000000  1.111444    1.000000 494.000000   \n",
       "1091     7465.000000        714.000000  0.068650    1.000000 494.000000   \n",
       "13675 5281532.000000        422.000000  0.833366    1.000000 494.000000   \n",
       "\n",
       "           fsp3  small rings  arom rings  ring blocks  arom blocks  ...  \\\n",
       "10443 -0.207567     0.200130   -0.631781     0.632666    -0.644741  ...   \n",
       "13586  0.416540    -0.878056   -0.631781    -1.106175    -0.644741  ...   \n",
       "6491  -0.663573     0.200130    1.183366     0.632666     1.285620  ...   \n",
       "10119 -1.143540     1.278317    1.183366     2.371507     1.285620  ...   \n",
       "7730  -0.831300     1.278317    1.183366     0.632666     1.285620  ...   \n",
       "...         ...          ...         ...          ...          ...  ...   \n",
       "11281  0.331554     2.356503   -0.631781     0.632666    -0.644741  ...   \n",
       "9845   0.978124    -0.878056   -0.631781    -1.106175    -0.644741  ...   \n",
       "13673  0.354017     0.200130   -0.631781     0.632666    -0.644741  ...   \n",
       "1091  -1.143540     0.200130    1.183366     0.632666     1.285620  ...   \n",
       "13675  0.354017     2.356503   -0.631781     0.632666    -0.644741  ...   \n",
       "\n",
       "          atsm4     atsm5     natom  arom bond  arom atom      apol     alogp  \\\n",
       "10443  0.255597  0.192587  0.332360   0.000000   0.000000  0.372065  0.368218   \n",
       "13586  0.945585  1.296865  2.030096   0.000000   0.000000  1.954836  1.751096   \n",
       "6491   0.715598  1.056978  0.438469   0.000000   0.000000  0.553994  0.495139   \n",
       "10119  0.301495  0.192587 -0.198182   0.000000   0.000000  0.013459 -0.137870   \n",
       "7730   0.532007  0.144714 -0.198182   0.000000   0.000000  0.013459 -0.042661   \n",
       "...         ...       ...       ...        ...        ...       ...       ...   \n",
       "11281  0.209699 -0.143594 -0.092074   0.000000   0.000000 -0.030618 -0.260766   \n",
       "9845  -0.573634  0.048433  0.332360   0.000000   0.000000  0.146060  0.308262   \n",
       "13673  0.993031  1.490507  1.075120   0.000000   0.000000  1.165596  1.599054   \n",
       "1091  -0.435429 -0.768084 -0.728725   0.000000   0.000000 -0.670180 -0.315240   \n",
       "13675  1.084827  0.385148  1.181228   0.000000   0.000000  1.248497  0.842177   \n",
       "\n",
       "         alogp2       amr      acid  \n",
       "10443  0.087153  0.445960 -0.161598  \n",
       "13586  1.804956  1.838587 -0.161598  \n",
       "6491   0.208930  0.784410 -0.161598  \n",
       "10119 -0.326298  0.423615 -0.161598  \n",
       "7730  -0.257323  0.269841 -0.161598  \n",
       "...         ...       ...       ...  \n",
       "11281 -0.409300 -0.149343 -0.161598  \n",
       "9845   0.032150 -0.154250 -0.161598  \n",
       "13673  1.573965  0.988427 -0.161598  \n",
       "1091  -0.443923 -0.415670 -0.161598  \n",
       "13675  0.578923  1.104546 -0.161598  \n",
       "\n",
       "[1341 rows x 212 columns]"
      ]
     },
     "execution_count": 79,
     "metadata": {},
     "output_type": "execute_result"
    }
   ],
   "source": [
    "sensorama2_1=[]\n",
    "\n",
    "for i in range(135, len(sensorama_1)-135):\n",
    "    if sensorama_1.iloc[i,4] == sensorama_1.iloc[i+135,4] or sensorama_1.iloc[i,4] == sensorama_1.iloc[i-135,4]:\n",
    "        sensorama2_1.append(sensorama_1.iloc[i,:]) \n",
    "\n",
    "sensorama2_1= pd.DataFrame(sensorama2_1)\n",
    "sensorama2_1"
   ]
  },
  {
   "cell_type": "code",
   "execution_count": 80,
   "metadata": {},
   "outputs": [
    {
     "name": "stdout",
     "output_type": "stream",
     "text": [
      "5\n"
     ]
    }
   ],
   "source": [
    "count=0\n",
    "for i in range(1, len(sensorama2_1)):\n",
    "    if sensorama2_1.iloc[i,4]!= sensorama2_1.iloc[i-1,4]:\n",
    "        count = count +1\n",
    "print(count)"
   ]
  },
  {
   "cell_type": "code",
   "execution_count": 81,
   "metadata": {},
   "outputs": [],
   "source": [
    "X = sensorama2_1[[ 'xlogp','fsp3', 'small rings','arom rings','ring blocks','arom blocks','rings 3','rings 4', 'rings 5', 'rings 6',\n",
    "               'rings 7', 'rings 8', 'rings 9', 'tpsa efficiency', 'zagreb indices', 'weiner path', 'weiner polarity', 'wtpt.1',\n",
    "               'wtpt.2', 'wtpt.3', 'wtpt.4', 'wtpt.5', 'molecular weight', 'VAdjMat', 'topoPSA', 'lipinski failures', 'rotatable bonds',\n",
    "               'topo shape', 'petitjean number', 'mdec.11', 'mdec.12', 'mdec.13', 'mdec.14', 'mdec.22', 'mdec.23', 'mdec.24',\n",
    "               'mdec.33', 'mdec.34', 'mdec.44', 'mdeo.11', 'mdeo.12', 'mdeo.22', 'mden.11', 'mden.12', 'mden.13', 'mden.22',\n",
    "               'mden.23', 'mden.33', 'mlogp', 'atom p', 'atom lc', 'khs.sli', 'khs.ssbe', 'khs.ssssbe', 'khs.ssbh', 'khs.sssb',\n",
    "               'khs.ssssb', 'khs.sch3', 'khs.dch2', 'khs.ssch2', 'khs.tch', 'khs.dsch', 'khs.aach', 'khs.sssch', 'khs.ddc',\n",
    "               'khs.tsc', 'khs.dssc', 'khs.aasc', 'khs.aaac', 'khs.ssssc', 'khs.snh3', 'khs.snh2', 'khs.ssnh', 'khs.dnh', 'khs.ssnh.1',\n",
    "               'khs.aanh', 'khs.tn', 'khs.sssnh', 'khs.dsn', 'khs.aan', 'khs.sssn', 'khs.dsn.1', 'khs.aasn', 'khs.ssssn', 'khs.soh',\n",
    "               'khs.do', 'khs.sso', 'khs.aao', 'khs.sf', 'khs.ssih3', 'khs.sssih2', 'khs.ssssih', 'khs.sssssi', 'khs.sph2',\n",
    "               'khs.ssph', 'khs.sssp', 'khs.dsssp', 'khs.sssssp', 'khs.ssh', 'khs.ds', 'khs.sss', 'khs.aas', 'khs.dsss', 'khs.ddsss',\n",
    "               'khs.scl', 'khs.sGeH3', 'khs.ssGeH2', 'khs.sssGeH', 'khs.ssssGe', 'khs.sash2', 'khs.ssash', 'khs.sssas', 'khs.sssdas',\n",
    "               'khs.sssssas', 'khs.sseh', 'khs.dse', 'khs.ssse', 'khs.aase', 'khs.dssse', 'khs.ddssse', 'khs.sbr', 'khs.ssnh3', \n",
    "               'khs.sssnh2', 'khs.ssssnh', 'khs.sssssn', 'khs.si', 'khs.spbh3', 'khs.sspbh2', 'khs.ssspbh', 'khs.sssspb', 'kier 1',\n",
    "               'kier 2', 'hybRatio', 'hbdon', 'hbacc', 'fragc', 'fmf', 'eccen', 'SP.0', 'SP.1', 'SP.2', 'SP.3', 'SP.4', 'SP.5', 'SP.6',\n",
    "               'SP.7', 'VP.0', 'VP.1', 'VP.2', 'VP.3', 'VP.4', 'VP.5', 'VP.6', 'VP.7', 'SPC.4', 'SPC.5', 'SPC.6', 'VPC.4', 'VPC.5',\n",
    "               'VPC.6', 'SC.3', 'SC.4', 'SC.5', 'SC.6', 'VC.3', 'VC.4', 'VC.5', 'VC.6', 'SCH.3', 'SCH.4', 'SCH.5', 'SCH.6', 'SCH.7',\n",
    "               'VCH.3', 'VCH.4', 'VCH.3', 'VCH.4', 'VCH.5', 'VCH.6', 'VCH.7', 'C1SP1', 'C2SP1', 'C1SP2', 'C2SP2', 'C3SP2', 'C1SP3',\n",
    "               'C2SP3', 'C3SP3', 'C4SP3', 'bpol', 'bond count', 'basic group count', 'atsp1', 'atsp2' , 'atsp3', 'atsp4', 'atsp5',\n",
    "               'atsm1', 'atsm2','atsm3','atsm4','atsm5', 'natom','arom bond', 'arom atom', 'apol','alogp', 'alogp2', 'amr', 'acid']]\n",
    "y = sensorama2_1['odor name']"
   ]
  },
  {
   "cell_type": "markdown",
   "metadata": {},
   "source": [
    "#### RANDOM FOREST"
   ]
  },
  {
   "cell_type": "code",
   "execution_count": 82,
   "metadata": {},
   "outputs": [
    {
     "name": "stdout",
     "output_type": "stream",
     "text": [
      "Accuracy:  62.5 %\n"
     ]
    },
    {
     "data": {
      "image/png": "[encoded data removed]",
      "text/plain": [
       "<Figure size 432x288 with 2 Axes>"
      ]
     },
     "metadata": {
      "needs_background": "light"
     },
     "output_type": "display_data"
    }
   ],
   "source": [
    "X_train,X_test,y_train,y_test = train_test_split(X,y,test_size=0.25,random_state=0)\n",
    "sc_X = StandardScaler()\n",
    "X_train = sc_X.fit_transform(X_train)\n",
    "X_test = sc_X.transform(X_test)\n",
    "clf = RandomForestClassifier(n_estimators=100)\n",
    "clf.fit(X_train,y_train)\n",
    "y_pred=clf.predict(X_test)\n",
    "confusion_matrix = pd.crosstab(y_test, y_pred, rownames=['Actual'], colnames=['Predicted'])\n",
    "sns.heatmap(confusion_matrix, annot=True)\n",
    "print('Accuracy: ',metrics.accuracy_score(y_test, y_pred)*100,'%')\n",
    "plt.show()"
   ]
  },
  {
   "cell_type": "markdown",
   "metadata": {},
   "source": [
    "##### Feature Importances "
   ]
  },
  {
   "cell_type": "code",
   "execution_count": 83,
   "metadata": {},
   "outputs": [
    {
     "data": {
      "image/png": "[encoded data removed]",
      "text/plain": [
       "<Figure size 432x288 with 1 Axes>"
      ]
     },
     "metadata": {
      "needs_background": "light"
     },
     "output_type": "display_data"
    }
   ],
   "source": [
    "featureImportances = pd.Series(clf.feature_importances_).sort_values(ascending=False)\n",
    "sns.barplot(x=round(featureImportances,8), y=featureImportances)\n",
    "plt.xlabel('Features Importance')\n",
    "plt.show()"
   ]
  },
  {
   "cell_type": "code",
   "execution_count": 84,
   "metadata": {},
   "outputs": [],
   "source": [
    "X = sensorama2_1[[ 'xlogp','fsp3', 'small rings','arom rings','ring blocks','arom blocks','rings 3','rings 4', 'rings 5', 'rings 6',\n",
    "               'rings 7', 'tpsa efficiency', 'zagreb indices', 'weiner path', 'weiner polarity', 'wtpt.1',\n",
    "               'wtpt.2', 'wtpt.3', 'wtpt.4', 'wtpt.5', 'molecular weight', 'VAdjMat', 'topoPSA', 'lipinski failures', 'rotatable bonds',\n",
    "               'topo shape', 'petitjean number', 'mdec.11', 'mdec.12', 'mdec.13', 'mdec.14', 'mdec.22', 'mdec.23', 'mdec.24',\n",
    "               'mdec.33', 'mdec.34', 'mdec.44', 'mdeo.11', 'mdeo.12', 'mdeo.22', 'mden.22',\n",
    "               'mden.23', 'mlogp', 'atom p', 'atom lc',\n",
    "                  'khs.sch3', 'khs.dch2', 'khs.ssch2','khs.dsch', 'khs.aach', 'khs.sssch', 'khs.ddc',\n",
    "               'khs.tsc', 'khs.dssc', 'khs.aasc', 'khs.aaac', 'khs.ssssc', 'khs.snh2', 'khs.ssnh.1',\n",
    "               'khs.tn', 'khs.dsn', 'khs.aan', 'khs.sssn', 'khs.dsn.1', 'khs.aasn', 'khs.soh',\n",
    "               'khs.do', 'khs.sso', 'khs.aao','khs.ssh', 'khs.ds', 'khs.sss', 'khs.aas', 'khs.dsss','kier 1',\n",
    "               'kier 2', 'hybRatio', 'hbdon', 'hbacc', 'fragc', 'fmf', 'eccen', 'SP.0', 'SP.1', 'SP.2', 'SP.3', 'SP.4', 'SP.5', 'SP.6',\n",
    "               'SP.7', 'VP.0', 'VP.1', 'VP.2', 'VP.3', 'VP.4', 'VP.5', 'VP.6', 'VP.7', 'SPC.4', 'SPC.5', 'SPC.6', 'VPC.4', 'VPC.5',\n",
    "               'VPC.6', 'SC.3', 'SC.4', 'SC.5', 'SC.6', 'VC.3', 'VC.4', 'VC.5', 'VC.6', 'SCH.3', 'SCH.4', 'SCH.5', 'SCH.6', 'SCH.7',\n",
    "               'VCH.3', 'VCH.4', 'VCH.3', 'VCH.4', 'VCH.5', 'VCH.6', 'VCH.7', 'C1SP1', 'C2SP1', 'C1SP2', 'C2SP2', 'C3SP2', 'C1SP3',\n",
    "               'C2SP3', 'C3SP3', 'C4SP3', 'bpol', 'bond count', 'atsp1', 'atsp2' , 'atsp3', 'atsp4', 'atsp5',\n",
    "               'atsm1', 'atsm2','atsm3','atsm4','atsm5', 'natom', 'apol','alogp', 'alogp2', 'amr', 'acid']]\n",
    "y = sensorama2_1['odor name']"
   ]
  },
  {
   "cell_type": "code",
   "execution_count": 85,
   "metadata": {},
   "outputs": [
    {
     "name": "stdout",
     "output_type": "stream",
     "text": [
      "Accuracy:  61.011904761904766 %\n"
     ]
    },
    {
     "data": {
      "image/png": "[encoded data removed]",
      "text/plain": [
       "<Figure size 432x288 with 2 Axes>"
      ]
     },
     "metadata": {
      "needs_background": "light"
     },
     "output_type": "display_data"
    }
   ],
   "source": [
    "X_train,X_test,y_train,y_test = train_test_split(X,y,test_size=0.25,random_state=0)\n",
    "sc_X = StandardScaler()\n",
    "X_train = sc_X.fit_transform(X_train)\n",
    "X_test = sc_X.transform(X_test)\n",
    "clf = RandomForestClassifier(n_estimators=100)\n",
    "clf.fit(X_train,y_train)\n",
    "y_pred=clf.predict(X_test)\n",
    "confusion_matrix = pd.crosstab(y_test, y_pred, rownames=['Actual'], colnames=['Predicted'])\n",
    "sns.heatmap(confusion_matrix, annot=True)\n",
    "print('Accuracy: ',metrics.accuracy_score(y_test, y_pred)*100,'%')\n",
    "plt.show()"
   ]
  },
  {
   "cell_type": "markdown",
   "metadata": {},
   "source": [
    "#### SUPPORT VECTOR MACHINE "
   ]
  },
  {
   "cell_type": "markdown",
   "metadata": {},
   "source": [
    "##### rbf Kernel "
   ]
  },
  {
   "cell_type": "code",
   "execution_count": 86,
   "metadata": {},
   "outputs": [
    {
     "name": "stdout",
     "output_type": "stream",
     "text": [
      "Accuracy: 58.03571428571429 %\n"
     ]
    }
   ],
   "source": [
    "X_tr, X_tst, y_tr, y_tst = train_test_split(X, y, test_size=25/100,random_state=109)\n",
    "clf = svm.SVC(kernel='rbf') # creating Support Vector Machine model\n",
    "clf.fit(X_tr, y_tr) # training the Model\n",
    "y_pr = clf.predict(X_tst) # making Predictions\n",
    "\n",
    "# Evaluating Prediction Accuracy\n",
    "print(\"Accuracy:\",metrics.accuracy_score(y_tst, y_pr)*100,\"%\")"
   ]
  },
  {
   "cell_type": "markdown",
   "metadata": {},
   "source": [
    "##### Polynomial Kernel\n"
   ]
  },
  {
   "cell_type": "code",
   "execution_count": 87,
   "metadata": {},
   "outputs": [
    {
     "name": "stdout",
     "output_type": "stream",
     "text": [
      "Accuracy: 54.46428571428571 %\n"
     ]
    }
   ],
   "source": [
    "X_tr, X_tst, y_tr, y_tst = train_test_split(X, y, test_size=25/100,random_state=109)\n",
    "clf = svm.SVC(kernel='poly') # Creating Support Vector Machine Model\n",
    "clf.fit(X_tr,y_tr) # fit classifier to training set\n",
    "y_pr = clf.predict(X_tst) # Making Predictions\n",
    "\n",
    "# Evaluating Prediction Accuracy\n",
    "print(\"Accuracy:\",metrics.accuracy_score(y_tst, y_pr)*100,\"%\")"
   ]
  },
  {
   "cell_type": "markdown",
   "metadata": {},
   "source": [
    "##### Sigmoid Kernel "
   ]
  },
  {
   "cell_type": "code",
   "execution_count": 88,
   "metadata": {},
   "outputs": [
    {
     "name": "stdout",
     "output_type": "stream",
     "text": [
      "Accuracy: 51.78571428571429 %\n"
     ]
    }
   ],
   "source": [
    "X_tr, X_tst, y_tr, y_tst = train_test_split(X, y, test_size=25/100,random_state=109)\n",
    "clf=svm.SVC(kernel='sigmoid') # instantiate classifier with sigmoid kernel\n",
    "clf.fit(X_tr,y_tr) # fit classifier to training set\n",
    "y_pr = clf.predict(X_tst) # Making Predictions\n",
    "\n",
    "# Evaluating Prediction Accuracy\n",
    "print(\"Accuracy:\",metrics.accuracy_score(y_tst, y_pr)*100,\"%\")"
   ]
  },
  {
   "cell_type": "markdown",
   "metadata": {},
   "source": [
    "#### DECISION TREE"
   ]
  },
  {
   "cell_type": "code",
   "execution_count": 89,
   "metadata": {},
   "outputs": [
    {
     "name": "stdout",
     "output_type": "stream",
     "text": [
      "Accuracy: 55.33498759305211 %\n"
     ]
    }
   ],
   "source": [
    "# Split dataset into training set and test set\n",
    "X_train, X_test, y_train, y_test = train_test_split(X, y, test_size=0.3, random_state=1) # 70% training and 30% test\n",
    "clf = DecisionTreeClassifier() # Create Decision Tree classifer object\n",
    "clf = clf.fit(X_train,y_train) # Train Decision Tree Classifer\n",
    "y_pred = clf.predict(X_test) # Predict the response for test dataset\n",
    "\n",
    "# how often is the classifier correct?\n",
    "print(\"Accuracy:\",metrics.accuracy_score(y_test, y_pred)*100,\"%\")"
   ]
  },
  {
   "cell_type": "markdown",
   "metadata": {},
   "source": [
    "#### LOGISTIC REGRESSION "
   ]
  },
  {
   "cell_type": "code",
   "execution_count": 90,
   "metadata": {},
   "outputs": [
    {
     "name": "stdout",
     "output_type": "stream",
     "text": [
      "Accuracy:  61.60714285714286 %\n"
     ]
    }
   ],
   "source": [
    "X_train,X_test,y_train,y_test = train_test_split(X,y,test_size=0.25,random_state=0)\n",
    "clf= LogisticRegression( max_iter=100000000)\n",
    "clf.fit(X_train,y_train)\n",
    "y_pred=clf.predict(X_test)\n",
    "print('Accuracy: ',metrics.accuracy_score(y_test, y_pred)*100,'%')"
   ]
  },
  {
   "cell_type": "markdown",
   "metadata": {},
   "source": [
    "#### K-Nearest Neighbor "
   ]
  },
  {
   "cell_type": "code",
   "execution_count": 91,
   "metadata": {},
   "outputs": [
    {
     "data": {
      "text/plain": [
       "Text(0, 0.5, 'Accuracy')"
      ]
     },
     "execution_count": 91,
     "metadata": {},
     "output_type": "execute_result"
    },
    {
     "data": {
      "image/png": "[encoded data removed]",
      "text/plain": [
       "<Figure size 864x432 with 1 Axes>"
      ]
     },
     "metadata": {
      "needs_background": "light"
     },
     "output_type": "display_data"
    }
   ],
   "source": [
    "# Split data into training and testing sets.\n",
    "X_train, X_test, y_train, y_test = train_test_split(X, y, random_state=42)\n",
    "accuracy=[]\n",
    "for i in range(1,21):\n",
    "    clf = KNeighborsClassifier(n_neighbors=i)\n",
    "    clf.fit(X_train, y_train)\n",
    "    ypred = clf.predict(X_test)\n",
    "    accuracy.append(metrics.accuracy_score(y_test, ypred))\n",
    "plt.figure(figsize=(12, 6))\n",
    "plt.plot(range(1, 21), accuracy, color='orange', linestyle='dashed', marker='o',\n",
    "         markerfacecolor='green', markersize=10)\n",
    "plt.title('Looking for the most accurate k value')\n",
    "plt.xlabel('K Value')\n",
    "plt.ylabel('Accuracy')"
   ]
  },
  {
   "cell_type": "code",
   "execution_count": 110,
   "metadata": {
    "scrolled": true
   },
   "outputs": [
    {
     "name": "stdout",
     "output_type": "stream",
     "text": [
      "Accuracy: 62.323943661971825 %\n"
     ]
    }
   ],
   "source": [
    "clf = KNeighborsClassifier(n_neighbors=10)\n",
    "clf.fit(X_train, y_train)\n",
    "ypred = clf.predict(X_test)\n",
    "\n",
    "# Best accuracy\n",
    "print(\"Accuracy:\",metrics.accuracy_score(y_test, ypred)*100,\"%\")"
   ]
  },
  {
   "cell_type": "markdown",
   "metadata": {},
   "source": [
    "### 3 MOST COMMON ODOR NAMES "
   ]
  },
  {
   "cell_type": "code",
   "execution_count": 93,
   "metadata": {},
   "outputs": [],
   "source": [
    "sensorama_1 = sensorama_1 .sort_values('odor name')"
   ]
  },
  {
   "cell_type": "code",
   "execution_count": 94,
   "metadata": {},
   "outputs": [
    {
     "data": {
      "text/html": [
       "<div>\n",
       "<style scoped>\n",
       "    .dataframe tbody tr th:only-of-type {\n",
       "        vertical-align: middle;\n",
       "    }\n",
       "\n",
       "    .dataframe tbody tr th {\n",
       "        vertical-align: top;\n",
       "    }\n",
       "\n",
       "    .dataframe thead th {\n",
       "        text-align: right;\n",
       "    }\n",
       "</style>\n",
       "<table border=\"1\" class=\"dataframe\">\n",
       "  <thead>\n",
       "    <tr style=\"text-align: right;\">\n",
       "      <th></th>\n",
       "      <th>cid</th>\n",
       "      <th>canonical_smiles</th>\n",
       "      <th>xlogp</th>\n",
       "      <th>odor level</th>\n",
       "      <th>odor name</th>\n",
       "      <th>fsp3</th>\n",
       "      <th>small rings</th>\n",
       "      <th>arom rings</th>\n",
       "      <th>ring blocks</th>\n",
       "      <th>arom blocks</th>\n",
       "      <th>...</th>\n",
       "      <th>atsm4</th>\n",
       "      <th>atsm5</th>\n",
       "      <th>natom</th>\n",
       "      <th>arom bond</th>\n",
       "      <th>arom atom</th>\n",
       "      <th>apol</th>\n",
       "      <th>alogp</th>\n",
       "      <th>alogp2</th>\n",
       "      <th>amr</th>\n",
       "      <th>acid</th>\n",
       "    </tr>\n",
       "  </thead>\n",
       "  <tbody>\n",
       "    <tr>\n",
       "      <td>14927</td>\n",
       "      <td>5366077.000000</td>\n",
       "      <td>1757.000000</td>\n",
       "      <td>0.277209</td>\n",
       "      <td>1.000000</td>\n",
       "      <td>188.000000</td>\n",
       "      <td>-0.087388</td>\n",
       "      <td>0.200130</td>\n",
       "      <td>-0.631781</td>\n",
       "      <td>0.632666</td>\n",
       "      <td>-0.644741</td>\n",
       "      <td>...</td>\n",
       "      <td>0.992520</td>\n",
       "      <td>1.489440</td>\n",
       "      <td>0.544577</td>\n",
       "      <td>0.000000</td>\n",
       "      <td>0.000000</td>\n",
       "      <td>0.608945</td>\n",
       "      <td>0.689164</td>\n",
       "      <td>0.409114</td>\n",
       "      <td>0.645783</td>\n",
       "      <td>-0.161598</td>\n",
       "    </tr>\n",
       "    <tr>\n",
       "      <td>12818</td>\n",
       "      <td>637756.000000</td>\n",
       "      <td>928.000000</td>\n",
       "      <td>-0.626545</td>\n",
       "      <td>1.000000</td>\n",
       "      <td>188.000000</td>\n",
       "      <td>-1.559487</td>\n",
       "      <td>0.200130</td>\n",
       "      <td>1.183366</td>\n",
       "      <td>0.632666</td>\n",
       "      <td>1.285620</td>\n",
       "      <td>...</td>\n",
       "      <td>-0.435429</td>\n",
       "      <td>-0.576056</td>\n",
       "      <td>-0.940942</td>\n",
       "      <td>0.000000</td>\n",
       "      <td>0.000000</td>\n",
       "      <td>-0.808033</td>\n",
       "      <td>-0.649717</td>\n",
       "      <td>-0.627175</td>\n",
       "      <td>-0.470605</td>\n",
       "      <td>-0.161598</td>\n",
       "    </tr>\n",
       "    <tr>\n",
       "      <td>8133</td>\n",
       "      <td>79509.000000</td>\n",
       "      <td>1024.000000</td>\n",
       "      <td>0.207689</td>\n",
       "      <td>1.000000</td>\n",
       "      <td>188.000000</td>\n",
       "      <td>1.352513</td>\n",
       "      <td>0.200130</td>\n",
       "      <td>-0.631781</td>\n",
       "      <td>0.632666</td>\n",
       "      <td>-0.644741</td>\n",
       "      <td>...</td>\n",
       "      <td>-0.435429</td>\n",
       "      <td>-0.576056</td>\n",
       "      <td>-0.092074</td>\n",
       "      <td>0.000000</td>\n",
       "      <td>0.000000</td>\n",
       "      <td>-0.256623</td>\n",
       "      <td>0.062331</td>\n",
       "      <td>-0.176532</td>\n",
       "      <td>-0.601308</td>\n",
       "      <td>-0.161598</td>\n",
       "    </tr>\n",
       "    <tr>\n",
       "      <td>3921</td>\n",
       "      <td>16296.000000</td>\n",
       "      <td>2966.000000</td>\n",
       "      <td>1.111444</td>\n",
       "      <td>1.000000</td>\n",
       "      <td>188.000000</td>\n",
       "      <td>-0.831300</td>\n",
       "      <td>0.200130</td>\n",
       "      <td>1.183366</td>\n",
       "      <td>0.632666</td>\n",
       "      <td>1.285620</td>\n",
       "      <td>...</td>\n",
       "      <td>0.300983</td>\n",
       "      <td>0.336208</td>\n",
       "      <td>0.120143</td>\n",
       "      <td>0.000000</td>\n",
       "      <td>0.000000</td>\n",
       "      <td>0.234213</td>\n",
       "      <td>0.385081</td>\n",
       "      <td>0.102914</td>\n",
       "      <td>0.513791</td>\n",
       "      <td>-0.161598</td>\n",
       "    </tr>\n",
       "    <tr>\n",
       "      <td>15150</td>\n",
       "      <td>5371723.000000</td>\n",
       "      <td>2461.000000</td>\n",
       "      <td>1.459042</td>\n",
       "      <td>1.000000</td>\n",
       "      <td>188.000000</td>\n",
       "      <td>-0.753427</td>\n",
       "      <td>0.200130</td>\n",
       "      <td>1.183366</td>\n",
       "      <td>0.632666</td>\n",
       "      <td>1.285620</td>\n",
       "      <td>...</td>\n",
       "      <td>0.716110</td>\n",
       "      <td>1.057511</td>\n",
       "      <td>1.181228</td>\n",
       "      <td>0.000000</td>\n",
       "      <td>0.000000</td>\n",
       "      <td>1.375475</td>\n",
       "      <td>0.991096</td>\n",
       "      <td>0.754326</td>\n",
       "      <td>1.755020</td>\n",
       "      <td>-0.161598</td>\n",
       "    </tr>\n",
       "    <tr>\n",
       "      <td>...</td>\n",
       "      <td>...</td>\n",
       "      <td>...</td>\n",
       "      <td>...</td>\n",
       "      <td>...</td>\n",
       "      <td>...</td>\n",
       "      <td>...</td>\n",
       "      <td>...</td>\n",
       "      <td>...</td>\n",
       "      <td>...</td>\n",
       "      <td>...</td>\n",
       "      <td>...</td>\n",
       "      <td>...</td>\n",
       "      <td>...</td>\n",
       "      <td>...</td>\n",
       "      <td>...</td>\n",
       "      <td>...</td>\n",
       "      <td>...</td>\n",
       "      <td>...</td>\n",
       "      <td>...</td>\n",
       "      <td>...</td>\n",
       "      <td>...</td>\n",
       "    </tr>\n",
       "    <tr>\n",
       "      <td>2565</td>\n",
       "      <td>9989.000000</td>\n",
       "      <td>368.000000</td>\n",
       "      <td>0.207689</td>\n",
       "      <td>1.000000</td>\n",
       "      <td>224.000000</td>\n",
       "      <td>-0.519433</td>\n",
       "      <td>-0.878056</td>\n",
       "      <td>-0.631781</td>\n",
       "      <td>-1.106175</td>\n",
       "      <td>-0.644741</td>\n",
       "      <td>...</td>\n",
       "      <td>-0.573634</td>\n",
       "      <td>-0.047847</td>\n",
       "      <td>-0.092074</td>\n",
       "      <td>0.000000</td>\n",
       "      <td>0.000000</td>\n",
       "      <td>-0.129645</td>\n",
       "      <td>0.481608</td>\n",
       "      <td>0.195597</td>\n",
       "      <td>-0.079902</td>\n",
       "      <td>5.273531</td>\n",
       "    </tr>\n",
       "    <tr>\n",
       "      <td>12594</td>\n",
       "      <td>548353.000000</td>\n",
       "      <td>599.000000</td>\n",
       "      <td>-0.765585</td>\n",
       "      <td>1.000000</td>\n",
       "      <td>441.000000</td>\n",
       "      <td>1.352513</td>\n",
       "      <td>-0.878056</td>\n",
       "      <td>-0.631781</td>\n",
       "      <td>-1.106175</td>\n",
       "      <td>-0.644741</td>\n",
       "      <td>...</td>\n",
       "      <td>-0.186231</td>\n",
       "      <td>-1.680881</td>\n",
       "      <td>-1.365376</td>\n",
       "      <td>0.000000</td>\n",
       "      <td>0.000000</td>\n",
       "      <td>-1.201040</td>\n",
       "      <td>-0.450210</td>\n",
       "      <td>-0.523934</td>\n",
       "      <td>-1.092799</td>\n",
       "      <td>-0.161598</td>\n",
       "    </tr>\n",
       "    <tr>\n",
       "      <td>12882</td>\n",
       "      <td>641834.000000</td>\n",
       "      <td>598.000000</td>\n",
       "      <td>-1.460780</td>\n",
       "      <td>1.000000</td>\n",
       "      <td>441.000000</td>\n",
       "      <td>1.352513</td>\n",
       "      <td>-0.878056</td>\n",
       "      <td>-0.631781</td>\n",
       "      <td>-1.106175</td>\n",
       "      <td>-0.644741</td>\n",
       "      <td>...</td>\n",
       "      <td>-0.864680</td>\n",
       "      <td>-1.680881</td>\n",
       "      <td>-1.365376</td>\n",
       "      <td>0.000000</td>\n",
       "      <td>0.000000</td>\n",
       "      <td>-1.417908</td>\n",
       "      <td>-1.124231</td>\n",
       "      <td>-0.800746</td>\n",
       "      <td>-1.493689</td>\n",
       "      <td>-0.161598</td>\n",
       "    </tr>\n",
       "    <tr>\n",
       "      <td>6872</td>\n",
       "      <td>61945.000000</td>\n",
       "      <td>123.000000</td>\n",
       "      <td>-1.669339</td>\n",
       "      <td>1.000000</td>\n",
       "      <td>441.000000</td>\n",
       "      <td>-1.143540</td>\n",
       "      <td>0.200130</td>\n",
       "      <td>1.183366</td>\n",
       "      <td>0.632666</td>\n",
       "      <td>1.285620</td>\n",
       "      <td>...</td>\n",
       "      <td>-0.615386</td>\n",
       "      <td>-0.390790</td>\n",
       "      <td>-1.259267</td>\n",
       "      <td>0.000000</td>\n",
       "      <td>0.000000</td>\n",
       "      <td>-1.047393</td>\n",
       "      <td>-1.808106</td>\n",
       "      <td>-0.872572</td>\n",
       "      <td>-0.748303</td>\n",
       "      <td>-0.161598</td>\n",
       "    </tr>\n",
       "    <tr>\n",
       "      <td>8006</td>\n",
       "      <td>77151.000000</td>\n",
       "      <td>3256.000000</td>\n",
       "      <td>-0.487506</td>\n",
       "      <td>1.000000</td>\n",
       "      <td>441.000000</td>\n",
       "      <td>1.352513</td>\n",
       "      <td>-0.878056</td>\n",
       "      <td>-0.631781</td>\n",
       "      <td>-1.106175</td>\n",
       "      <td>-0.644741</td>\n",
       "      <td>...</td>\n",
       "      <td>-0.571575</td>\n",
       "      <td>-0.767003</td>\n",
       "      <td>-1.259267</td>\n",
       "      <td>0.000000</td>\n",
       "      <td>0.000000</td>\n",
       "      <td>-0.901271</td>\n",
       "      <td>0.156151</td>\n",
       "      <td>-0.100131</td>\n",
       "      <td>-0.528406</td>\n",
       "      <td>-0.161598</td>\n",
       "    </tr>\n",
       "  </tbody>\n",
       "</table>\n",
       "<p>1134 rows × 212 columns</p>\n",
       "</div>"
      ],
      "text/plain": [
       "                 cid  canonical_smiles     xlogp  odor level  odor name  \\\n",
       "14927 5366077.000000       1757.000000  0.277209    1.000000 188.000000   \n",
       "12818  637756.000000        928.000000 -0.626545    1.000000 188.000000   \n",
       "8133    79509.000000       1024.000000  0.207689    1.000000 188.000000   \n",
       "3921    16296.000000       2966.000000  1.111444    1.000000 188.000000   \n",
       "15150 5371723.000000       2461.000000  1.459042    1.000000 188.000000   \n",
       "...              ...               ...       ...         ...        ...   \n",
       "2565     9989.000000        368.000000  0.207689    1.000000 224.000000   \n",
       "12594  548353.000000        599.000000 -0.765585    1.000000 441.000000   \n",
       "12882  641834.000000        598.000000 -1.460780    1.000000 441.000000   \n",
       "6872    61945.000000        123.000000 -1.669339    1.000000 441.000000   \n",
       "8006    77151.000000       3256.000000 -0.487506    1.000000 441.000000   \n",
       "\n",
       "           fsp3  small rings  arom rings  ring blocks  arom blocks  ...  \\\n",
       "14927 -0.087388     0.200130   -0.631781     0.632666    -0.644741  ...   \n",
       "12818 -1.559487     0.200130    1.183366     0.632666     1.285620  ...   \n",
       "8133   1.352513     0.200130   -0.631781     0.632666    -0.644741  ...   \n",
       "3921  -0.831300     0.200130    1.183366     0.632666     1.285620  ...   \n",
       "15150 -0.753427     0.200130    1.183366     0.632666     1.285620  ...   \n",
       "...         ...          ...         ...          ...          ...  ...   \n",
       "2565  -0.519433    -0.878056   -0.631781    -1.106175    -0.644741  ...   \n",
       "12594  1.352513    -0.878056   -0.631781    -1.106175    -0.644741  ...   \n",
       "12882  1.352513    -0.878056   -0.631781    -1.106175    -0.644741  ...   \n",
       "6872  -1.143540     0.200130    1.183366     0.632666     1.285620  ...   \n",
       "8006   1.352513    -0.878056   -0.631781    -1.106175    -0.644741  ...   \n",
       "\n",
       "          atsm4     atsm5     natom  arom bond  arom atom      apol     alogp  \\\n",
       "14927  0.992520  1.489440  0.544577   0.000000   0.000000  0.608945  0.689164   \n",
       "12818 -0.435429 -0.576056 -0.940942   0.000000   0.000000 -0.808033 -0.649717   \n",
       "8133  -0.435429 -0.576056 -0.092074   0.000000   0.000000 -0.256623  0.062331   \n",
       "3921   0.300983  0.336208  0.120143   0.000000   0.000000  0.234213  0.385081   \n",
       "15150  0.716110  1.057511  1.181228   0.000000   0.000000  1.375475  0.991096   \n",
       "...         ...       ...       ...        ...        ...       ...       ...   \n",
       "2565  -0.573634 -0.047847 -0.092074   0.000000   0.000000 -0.129645  0.481608   \n",
       "12594 -0.186231 -1.680881 -1.365376   0.000000   0.000000 -1.201040 -0.450210   \n",
       "12882 -0.864680 -1.680881 -1.365376   0.000000   0.000000 -1.417908 -1.124231   \n",
       "6872  -0.615386 -0.390790 -1.259267   0.000000   0.000000 -1.047393 -1.808106   \n",
       "8006  -0.571575 -0.767003 -1.259267   0.000000   0.000000 -0.901271  0.156151   \n",
       "\n",
       "         alogp2       amr      acid  \n",
       "14927  0.409114  0.645783 -0.161598  \n",
       "12818 -0.627175 -0.470605 -0.161598  \n",
       "8133  -0.176532 -0.601308 -0.161598  \n",
       "3921   0.102914  0.513791 -0.161598  \n",
       "15150  0.754326  1.755020 -0.161598  \n",
       "...         ...       ...       ...  \n",
       "2565   0.195597 -0.079902  5.273531  \n",
       "12594 -0.523934 -1.092799 -0.161598  \n",
       "12882 -0.800746 -1.493689 -0.161598  \n",
       "6872  -0.872572 -0.748303 -0.161598  \n",
       "8006  -0.100131 -0.528406 -0.161598  \n",
       "\n",
       "[1134 rows x 212 columns]"
      ]
     },
     "execution_count": 94,
     "metadata": {},
     "output_type": "execute_result"
    }
   ],
   "source": [
    "sensorama2_1=[]\n",
    "\n",
    "for i in range(185, len(sensorama_1)-185):\n",
    "    if sensorama_1.iloc[i,4] == sensorama_1.iloc[i+185,4] or sensorama_1.iloc[i,4] == sensorama_1.iloc[i-185,4]:\n",
    "        sensorama2_1.append(sensorama_1.iloc[i,:]) \n",
    "\n",
    "sensorama2_1= pd.DataFrame(sensorama2_1)\n",
    "sensorama2_1"
   ]
  },
  {
   "cell_type": "code",
   "execution_count": 95,
   "metadata": {},
   "outputs": [
    {
     "name": "stdout",
     "output_type": "stream",
     "text": [
      "3\n"
     ]
    }
   ],
   "source": [
    "count=0\n",
    "for i in range(1, len(sensorama2_1)):\n",
    "    if sensorama2_1.iloc[i,4]!= sensorama2_1.iloc[i-1,4]:\n",
    "        count = count +1\n",
    "print(count)"
   ]
  },
  {
   "cell_type": "code",
   "execution_count": 96,
   "metadata": {},
   "outputs": [],
   "source": [
    "X = sensorama2_1[[ 'xlogp','fsp3', 'small rings','arom rings','ring blocks','arom blocks','rings 3','rings 4', 'rings 5', 'rings 6',\n",
    "               'rings 7', 'rings 8', 'rings 9', 'tpsa efficiency', 'zagreb indices', 'weiner path', 'weiner polarity', 'wtpt.1',\n",
    "               'wtpt.2', 'wtpt.3', 'wtpt.4', 'wtpt.5', 'molecular weight', 'VAdjMat', 'topoPSA', 'lipinski failures', 'rotatable bonds',\n",
    "               'topo shape', 'petitjean number', 'mdec.11', 'mdec.12', 'mdec.13', 'mdec.14', 'mdec.22', 'mdec.23', 'mdec.24',\n",
    "               'mdec.33', 'mdec.34', 'mdec.44', 'mdeo.11', 'mdeo.12', 'mdeo.22', 'mden.11', 'mden.12', 'mden.13', 'mden.22',\n",
    "               'mden.23', 'mden.33', 'mlogp', 'atom p', 'atom lc', 'khs.sli', 'khs.ssbe', 'khs.ssssbe', 'khs.ssbh', 'khs.sssb',\n",
    "               'khs.ssssb', 'khs.sch3', 'khs.dch2', 'khs.ssch2', 'khs.tch', 'khs.dsch', 'khs.aach', 'khs.sssch', 'khs.ddc',\n",
    "               'khs.tsc', 'khs.dssc', 'khs.aasc', 'khs.aaac', 'khs.ssssc', 'khs.snh3', 'khs.snh2', 'khs.ssnh', 'khs.dnh', 'khs.ssnh.1',\n",
    "               'khs.aanh', 'khs.tn', 'khs.sssnh', 'khs.dsn', 'khs.aan', 'khs.sssn', 'khs.dsn.1', 'khs.aasn', 'khs.ssssn', 'khs.soh',\n",
    "               'khs.do', 'khs.sso', 'khs.aao', 'khs.sf', 'khs.ssih3', 'khs.sssih2', 'khs.ssssih', 'khs.sssssi', 'khs.sph2',\n",
    "               'khs.ssph', 'khs.sssp', 'khs.dsssp', 'khs.sssssp', 'khs.ssh', 'khs.ds', 'khs.sss', 'khs.aas', 'khs.dsss', 'khs.ddsss',\n",
    "               'khs.scl', 'khs.sGeH3', 'khs.ssGeH2', 'khs.sssGeH', 'khs.ssssGe', 'khs.sash2', 'khs.ssash', 'khs.sssas', 'khs.sssdas',\n",
    "               'khs.sssssas', 'khs.sseh', 'khs.dse', 'khs.ssse', 'khs.aase', 'khs.dssse', 'khs.ddssse', 'khs.sbr', 'khs.ssnh3', \n",
    "               'khs.sssnh2', 'khs.ssssnh', 'khs.sssssn', 'khs.si', 'khs.spbh3', 'khs.sspbh2', 'khs.ssspbh', 'khs.sssspb', 'kier 1',\n",
    "               'kier 2', 'hybRatio', 'hbdon', 'hbacc', 'fragc', 'fmf', 'eccen', 'SP.0', 'SP.1', 'SP.2', 'SP.3', 'SP.4', 'SP.5', 'SP.6',\n",
    "               'SP.7', 'VP.0', 'VP.1', 'VP.2', 'VP.3', 'VP.4', 'VP.5', 'VP.6', 'VP.7', 'SPC.4', 'SPC.5', 'SPC.6', 'VPC.4', 'VPC.5',\n",
    "               'VPC.6', 'SC.3', 'SC.4', 'SC.5', 'SC.6', 'VC.3', 'VC.4', 'VC.5', 'VC.6', 'SCH.3', 'SCH.4', 'SCH.5', 'SCH.6', 'SCH.7',\n",
    "               'VCH.3', 'VCH.4', 'VCH.3', 'VCH.4', 'VCH.5', 'VCH.6', 'VCH.7', 'C1SP1', 'C2SP1', 'C1SP2', 'C2SP2', 'C3SP2', 'C1SP3',\n",
    "               'C2SP3', 'C3SP3', 'C4SP3', 'bpol', 'bond count', 'basic group count', 'atsp1', 'atsp2' , 'atsp3', 'atsp4', 'atsp5',\n",
    "               'atsm1', 'atsm2','atsm3','atsm4','atsm5', 'natom','arom bond', 'arom atom', 'apol','alogp', 'alogp2', 'amr', 'acid']]\n",
    "y = sensorama2_1['odor name']"
   ]
  },
  {
   "cell_type": "markdown",
   "metadata": {},
   "source": [
    "#### RANDOM FOREST"
   ]
  },
  {
   "cell_type": "code",
   "execution_count": 97,
   "metadata": {},
   "outputs": [
    {
     "name": "stdout",
     "output_type": "stream",
     "text": [
      "Accuracy:  59.859154929577464 %\n"
     ]
    },
    {
     "data": {
      "image/png": "[encoded data removed]",
      "text/plain": [
       "<Figure size 432x288 with 2 Axes>"
      ]
     },
     "metadata": {
      "needs_background": "light"
     },
     "output_type": "display_data"
    }
   ],
   "source": [
    "X_train,X_test,y_train,y_test = train_test_split(X,y,test_size=0.25,random_state=0)\n",
    "sc_X = StandardScaler()\n",
    "X_train = sc_X.fit_transform(X_train)\n",
    "X_test = sc_X.transform(X_test)\n",
    "clf = RandomForestClassifier(n_estimators=100)\n",
    "clf.fit(X_train,y_train)\n",
    "y_pred=clf.predict(X_test)\n",
    "confusion_matrix = pd.crosstab(y_test, y_pred, rownames=['Actual'], colnames=['Predicted'])\n",
    "sns.heatmap(confusion_matrix, annot=True)\n",
    "print('Accuracy: ',metrics.accuracy_score(y_test, y_pred)*100,'%')\n",
    "plt.show()"
   ]
  },
  {
   "cell_type": "markdown",
   "metadata": {},
   "source": [
    "##### Feature Importances "
   ]
  },
  {
   "cell_type": "code",
   "execution_count": 98,
   "metadata": {},
   "outputs": [
    {
     "data": {
      "image/png": "[encoded data removed]",
      "text/plain": [
       "<Figure size 432x288 with 1 Axes>"
      ]
     },
     "metadata": {
      "needs_background": "light"
     },
     "output_type": "display_data"
    }
   ],
   "source": [
    "featureImportances = pd.Series(clf.feature_importances_).sort_values(ascending=False)\n",
    "sns.barplot(x=round(featureImportances,8), y=featureImportances)\n",
    "plt.xlabel('Features Importance')\n",
    "plt.show()"
   ]
  },
  {
   "cell_type": "code",
   "execution_count": 99,
   "metadata": {},
   "outputs": [],
   "source": [
    "X = sensorama2_1[[ 'xlogp','fsp3', 'small rings','arom rings','ring blocks','arom blocks','rings 3','rings 4', 'rings 5', 'rings 6',\n",
    "               'rings 7', 'tpsa efficiency', 'zagreb indices', 'weiner path', 'weiner polarity', 'wtpt.1',\n",
    "               'wtpt.2', 'wtpt.3', 'wtpt.4', 'wtpt.5', 'molecular weight', 'VAdjMat', 'topoPSA', 'lipinski failures', 'rotatable bonds',\n",
    "               'topo shape', 'petitjean number', 'mdec.11', 'mdec.12', 'mdec.13', 'mdec.14', 'mdec.22', 'mdec.23', 'mdec.24',\n",
    "               'mdec.33', 'mdec.34', 'mdec.44', 'mdeo.11', 'mdeo.12', 'mdeo.22', 'mden.22',\n",
    "               'mden.23', 'mlogp', 'atom p', 'atom lc',\n",
    "                  'khs.sch3', 'khs.dch2', 'khs.ssch2','khs.dsch', 'khs.aach', 'khs.sssch', 'khs.ddc',\n",
    "               'khs.tsc', 'khs.dssc', 'khs.aasc', 'khs.aaac', 'khs.ssssc', 'khs.snh2', 'khs.ssnh.1',\n",
    "               'khs.tn', 'khs.dsn', 'khs.aan', 'khs.sssn', 'khs.dsn.1', 'khs.aasn', 'khs.soh',\n",
    "               'khs.do', 'khs.sso', 'khs.aao','khs.ssh', 'khs.ds', 'khs.sss', 'khs.aas', 'khs.dsss','kier 1',\n",
    "               'kier 2', 'hybRatio', 'hbdon', 'hbacc', 'fragc', 'fmf', 'eccen', 'SP.0', 'SP.1', 'SP.2', 'SP.3', 'SP.4', 'SP.5', 'SP.6',\n",
    "               'SP.7', 'VP.0', 'VP.1', 'VP.2', 'VP.3', 'VP.4', 'VP.5', 'VP.6', 'VP.7', 'SPC.4', 'SPC.5', 'SPC.6', 'VPC.4', 'VPC.5',\n",
    "               'VPC.6', 'SC.3', 'SC.4', 'SC.5', 'SC.6', 'VC.3', 'VC.4', 'VC.5', 'VC.6', 'SCH.3', 'SCH.4', 'SCH.5', 'SCH.6', 'SCH.7',\n",
    "               'VCH.3', 'VCH.4', 'VCH.3', 'VCH.4', 'VCH.5', 'VCH.6', 'VCH.7', 'C1SP1', 'C2SP1', 'C1SP2', 'C2SP2', 'C3SP2', 'C1SP3',\n",
    "               'C2SP3', 'C3SP3', 'C4SP3', 'bpol', 'bond count', 'atsp1', 'atsp2' , 'atsp3', 'atsp4', 'atsp5',\n",
    "               'atsm1', 'atsm2','atsm3','atsm4','atsm5', 'natom', 'apol','alogp', 'alogp2', 'amr', 'acid']]\n",
    "y = sensorama2_1['odor name']"
   ]
  },
  {
   "cell_type": "code",
   "execution_count": 100,
   "metadata": {},
   "outputs": [
    {
     "name": "stdout",
     "output_type": "stream",
     "text": [
      "Accuracy:  59.859154929577464 %\n"
     ]
    },
    {
     "data": {
      "image/png": "[encoded data removed]",
      "text/plain": [
       "<Figure size 432x288 with 2 Axes>"
      ]
     },
     "metadata": {
      "needs_background": "light"
     },
     "output_type": "display_data"
    }
   ],
   "source": [
    "X_train,X_test,y_train,y_test = train_test_split(X,y,test_size=0.25,random_state=0)\n",
    "sc_X = StandardScaler()\n",
    "X_train = sc_X.fit_transform(X_train)\n",
    "X_test = sc_X.transform(X_test)\n",
    "clf = RandomForestClassifier(n_estimators=100)\n",
    "clf.fit(X_train,y_train)\n",
    "y_pred=clf.predict(X_test)\n",
    "confusion_matrix = pd.crosstab(y_test, y_pred, rownames=['Actual'], colnames=['Predicted'])\n",
    "sns.heatmap(confusion_matrix, annot=True)\n",
    "print('Accuracy: ',metrics.accuracy_score(y_test, y_pred)*100,'%')\n",
    "plt.show()"
   ]
  },
  {
   "cell_type": "markdown",
   "metadata": {},
   "source": [
    "#### SUPPORT VECTOR MACHINE "
   ]
  },
  {
   "cell_type": "markdown",
   "metadata": {},
   "source": [
    "##### rbf Kernel "
   ]
  },
  {
   "cell_type": "code",
   "execution_count": 101,
   "metadata": {},
   "outputs": [
    {
     "name": "stdout",
     "output_type": "stream",
     "text": [
      "Accuracy: 58.45070422535211 %\n"
     ]
    }
   ],
   "source": [
    "X_tr, X_tst, y_tr, y_tst = train_test_split(X, y, test_size=25/100,random_state=109)\n",
    "clf = svm.SVC(kernel='rbf') # creating Support Vector Machine model\n",
    "clf.fit(X_tr, y_tr) # training the Model\n",
    "y_pr = clf.predict(X_tst) # making Predictions\n",
    "\n",
    "# Evaluating Prediction Accuracy\n",
    "print(\"Accuracy:\",metrics.accuracy_score(y_tst, y_pr)*100,\"%\")"
   ]
  },
  {
   "cell_type": "markdown",
   "metadata": {},
   "source": [
    "##### Polynomial Kernel\n"
   ]
  },
  {
   "cell_type": "code",
   "execution_count": 102,
   "metadata": {},
   "outputs": [
    {
     "name": "stdout",
     "output_type": "stream",
     "text": [
      "Accuracy: 51.76056338028169 %\n"
     ]
    }
   ],
   "source": [
    "X_tr, X_tst, y_tr, y_tst = train_test_split(X, y, test_size=25/100,random_state=109)\n",
    "clf = svm.SVC(kernel='poly') # Creating Support Vector Machine Model\n",
    "clf.fit(X_tr,y_tr) # fit classifier to training set\n",
    "y_pr = clf.predict(X_tst) # Making Predictions\n",
    "\n",
    "# Evaluating Prediction Accuracy\n",
    "print(\"Accuracy:\",metrics.accuracy_score(y_tst, y_pr)*100,\"%\")"
   ]
  },
  {
   "cell_type": "markdown",
   "metadata": {},
   "source": [
    "##### Sigmoid Kernel "
   ]
  },
  {
   "cell_type": "code",
   "execution_count": 103,
   "metadata": {},
   "outputs": [
    {
     "name": "stdout",
     "output_type": "stream",
     "text": [
      "Accuracy: 50.352112676056336 %\n"
     ]
    }
   ],
   "source": [
    "X_tr, X_tst, y_tr, y_tst = train_test_split(X, y, test_size=25/100,random_state=109)\n",
    "clf=svm.SVC(kernel='sigmoid') # instantiate classifier with sigmoid kernel\n",
    "clf.fit(X_tr,y_tr) # fit classifier to training set\n",
    "y_pr = clf.predict(X_tst) # Making Predictions\n",
    "\n",
    "# Evaluating Prediction Accuracy\n",
    "print(\"Accuracy:\",metrics.accuracy_score(y_tst, y_pr)*100,\"%\")"
   ]
  },
  {
   "cell_type": "markdown",
   "metadata": {},
   "source": [
    "#### DECISION TREE"
   ]
  },
  {
   "cell_type": "code",
   "execution_count": 104,
   "metadata": {},
   "outputs": [
    {
     "name": "stdout",
     "output_type": "stream",
     "text": [
      "Accuracy: 51.90615835777126 %\n"
     ]
    }
   ],
   "source": [
    "# Split dataset into training set and test set\n",
    "X_train, X_test, y_train, y_test = train_test_split(X, y, test_size=0.3, random_state=1) # 70% training and 30% test\n",
    "clf = DecisionTreeClassifier() # Create Decision Tree classifer object\n",
    "clf = clf.fit(X_train,y_train) # Train Decision Tree Classifer\n",
    "y_pred = clf.predict(X_test) # Predict the response for test dataset\n",
    "\n",
    "# how often is the classifier correct?\n",
    "print(\"Accuracy:\",metrics.accuracy_score(y_test, y_pred)*100,\"%\")"
   ]
  },
  {
   "cell_type": "markdown",
   "metadata": {},
   "source": [
    "#### LOGISTIC REGRESSION "
   ]
  },
  {
   "cell_type": "code",
   "execution_count": 105,
   "metadata": {},
   "outputs": [
    {
     "name": "stdout",
     "output_type": "stream",
     "text": [
      "Accuracy:  66.54929577464789 %\n"
     ]
    }
   ],
   "source": [
    "X_train,X_test,y_train,y_test = train_test_split(X,y,test_size=0.25,random_state=0)\n",
    "clf= LogisticRegression( max_iter=100000000)\n",
    "clf.fit(X_train,y_train)\n",
    "y_pred=clf.predict(X_test)\n",
    "print('Accuracy: ',metrics.accuracy_score(y_test, y_pred)*100,'%')"
   ]
  },
  {
   "cell_type": "markdown",
   "metadata": {},
   "source": [
    "#### K-Nearest Neighbor "
   ]
  },
  {
   "cell_type": "code",
   "execution_count": 106,
   "metadata": {},
   "outputs": [
    {
     "data": {
      "text/plain": [
       "Text(0, 0.5, 'Accuracy')"
      ]
     },
     "execution_count": 106,
     "metadata": {},
     "output_type": "execute_result"
    },
    {
     "data": {
      "image/png": "[encoded data removed]",
      "text/plain": [
       "<Figure size 864x432 with 1 Axes>"
      ]
     },
     "metadata": {
      "needs_background": "light"
     },
     "output_type": "display_data"
    }
   ],
   "source": [
    "# Split data into training and testing sets.\n",
    "X_train, X_test, y_train, y_test = train_test_split(X, y, random_state=42)\n",
    "accuracy=[]\n",
    "for i in range(1,21):\n",
    "    clf = KNeighborsClassifier(n_neighbors=i)\n",
    "    clf.fit(X_train, y_train)\n",
    "    ypred = clf.predict(X_test)\n",
    "    accuracy.append(metrics.accuracy_score(y_test, ypred))\n",
    "plt.figure(figsize=(12, 6))\n",
    "plt.plot(range(1, 21), accuracy, color='orange', linestyle='dashed', marker='o',\n",
    "         markerfacecolor='green', markersize=10)\n",
    "plt.title('Looking for the most accurate k value')\n",
    "plt.xlabel('K Value')\n",
    "plt.ylabel('Accuracy')"
   ]
  },
  {
   "cell_type": "code",
   "execution_count": 111,
   "metadata": {
    "scrolled": true
   },
   "outputs": [
    {
     "name": "stdout",
     "output_type": "stream",
     "text": [
      "Accuracy: 63.38028169014085 %\n"
     ]
    }
   ],
   "source": [
    "clf = KNeighborsClassifier(n_neighbors=1)\n",
    "clf.fit(X_train, y_train)\n",
    "ypred = clf.predict(X_test)\n",
    "\n",
    "# Best accuracy\n",
    "print(\"Accuracy:\",metrics.accuracy_score(y_test, ypred)*100,\"%\")"
   ]
  }
 ],
 "metadata": {
  "kernelspec": {
   "display_name": "Python 3",
   "language": "python",
   "name": "python3"
  },
  "language_info": {
   "codemirror_mode": {
    "name": "ipython",
    "version": 3
   },
   "file_extension": ".py",
   "mimetype": "text/x-python",
   "name": "python",
   "nbconvert_exporter": "python",
   "pygments_lexer": "ipython3",
   "version": "3.7.4"
  }
 },
 "nbformat": 4,
 "nbformat_minor": 2
}
